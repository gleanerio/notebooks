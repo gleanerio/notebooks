{
 "cells": [
  {
   "cell_type": "markdown",
   "id": "a369b778",
   "metadata": {},
   "source": [
    "# Sitegraph Assay\n",
    "\n",
    "A notebook to explore site graph pattern for structured data on the web.\n"
   ]
  },
  {
   "cell_type": "markdown",
   "id": "007852bb",
   "metadata": {},
   "source": [
    "# Intro\n",
    "\n",
    "This instance of this notebook is exploring the INVEMAR siteagraphs.\n",
    "\n",
    "\n",
    "* http://portete.invemar.org.co/chm/api/oih/expert?format=json\n",
    "* http://portete.invemar.org.co/chm/api/oih/documents?format=json\n",
    "* http://portete.invemar.org.co/chm/api/oih/institution?format=json\n",
    "*  http://portete.invemar.org.co/chm/api/oih/vessel?format=json\n",
    "* http://portete.invemar.org.co/chm/api/oih/training?format=json\n"
   ]
  },
  {
   "cell_type": "markdown",
   "id": "b02d956b",
   "metadata": {},
   "source": [
    "## Imports"
   ]
  },
  {
   "cell_type": "code",
   "execution_count": 2,
   "id": "07d533d5",
   "metadata": {},
   "outputs": [],
   "source": [
    "import urllib.request\n",
    "import advertools as adv\n",
    "import json\n",
    "import requests\n",
    "from bs4 import BeautifulSoup\n",
    "import urllib.request\n",
    "from pyld import jsonld\n",
    "import pandas as pd\n",
    "import kglab\n",
    "from rdflib import Graph  #, plugin\n",
    "import plotly.express as px"
   ]
  },
  {
   "cell_type": "markdown",
   "id": "89ad5378",
   "metadata": {},
   "source": [
    "## Load\n",
    "\n",
    "This section will generate:\n",
    "\n",
    "- sg: The shape file we wish to validate with\n",
    "- nc: The JSON-LD from the sgu URL.  (corrected for now for the schema.org form)\n",
    "- kg: The kglab graph instance loaded with nc"
   ]
  },
  {
   "cell_type": "code",
   "execution_count": 3,
   "id": "c7d14f6f",
   "metadata": {},
   "outputs": [],
   "source": [
    "# Note:  Make sure you load the correct SHACL shape to mate the resources in your sgu (site grap URL)\n",
    "\n",
    "# Site graph URl\n",
    "sgu = \"http://portete.invemar.org.co/chm/api/oih/institution?format=json\"\n",
    "\n",
    "# shacl shape\n",
    "sg = './validation/shapes/oih_organization.ttl'"
   ]
  },
  {
   "cell_type": "code",
   "execution_count": 4,
   "id": "00fdb15b",
   "metadata": {},
   "outputs": [],
   "source": [
    "try:\n",
    "   with urllib.request.urlopen(sgu) as f:\n",
    "      content = f.read().decode('utf-8')\n",
    "except urllib.error.URLError as e:\n",
    "   print(e.reason)"
   ]
  },
  {
   "cell_type": "code",
   "execution_count": 5,
   "id": "0b0600d8",
   "metadata": {},
   "outputs": [],
   "source": [
    "# nc = content.replace(\"\\\\\\\\/\", \"/\")"
   ]
  },
  {
   "cell_type": "code",
   "execution_count": 6,
   "id": "0533e953",
   "metadata": {},
   "outputs": [
    {
     "data": {
      "text/plain": [
       "<kglab.kglab.KnowledgeGraph at 0x7f135fe28c70>"
      ]
     },
     "execution_count": 6,
     "metadata": {},
     "output_type": "execute_result"
    }
   ],
   "source": [
    "namespaces = {\n",
    "    \"schema\":  \"https://schema.org/\",\n",
    "    \"shacl\":   \"http://www.w3.org/ns/shacl#\" ,\n",
    "}\n",
    "\n",
    "kg = kglab.KnowledgeGraph(\n",
    "    name = \"Schema.org shacl eval datagraph\",\n",
    "    base_uri = \"https://example.org/id/\",\n",
    "    namespaces = namespaces,\n",
    ")\n",
    "\n",
    "kg.load_rdf_text(data=content, format=\"json-ld\")"
   ]
  },
  {
   "cell_type": "markdown",
   "id": "394fde8b",
   "metadata": {},
   "source": [
    "## SPARQL\n",
    "\n",
    "Simple SPARQL test with the KG to see what the elements look like.  Here we are looking for rdf:type schema:Organization so be sure\n",
    "to make modifications if you are looking for other types."
   ]
  },
  {
   "cell_type": "code",
   "execution_count": 7,
   "id": "ee7b05f6",
   "metadata": {
    "collapsed": false,
    "jupyter": {
     "outputs_hidden": false
    },
    "pycharm": {
     "name": "#%%\n"
    }
   },
   "outputs": [
    {
     "name": "stdout",
     "output_type": "stream",
     "text": [
      "<class 'pandas.core.frame.DataFrame'>\n",
      "RangeIndex: 148 entries, 0 to 147\n",
      "Data columns (total 1 columns):\n",
      " #   Column  Non-Null Count  Dtype \n",
      "---  ------  --------------  ----- \n",
      " 0   s       148 non-null    object\n",
      "dtypes: object(1)\n",
      "memory usage: 1.3+ KB\n"
     ]
    }
   ],
   "source": [
    "sparql = \"\"\"\n",
    "PREFIX schema: <https://schema.org/>\n",
    "SELECT ?s\n",
    "  WHERE {\n",
    "    ?s a schema:Organization\n",
    "  }\n",
    "\"\"\"\n",
    "\n",
    "df0 = kg.query_as_df(sparql)\n",
    "df = df0.to_pandas()\n",
    "\n",
    "df.info()"
   ]
  },
  {
   "cell_type": "markdown",
   "id": "ef094d41",
   "metadata": {},
   "source": [
    "## Frame\n",
    "\n",
    "A useful exploration is to frame out some of the elements from the site graph and simply inspect them.  This can also be a good method to process all the site graph entries for things like spatial, citation or other views.\n",
    "\n",
    "More information on framing can be found at the [JSON-LD Framing documentation](https://json-ld.org/spec/latest/json-ld-framing/#framing-flags).\n",
    "\n",
    "The elN element represents the Nth item in the resulting array of frame matches.  In some cases in the graph pattern this can result in unexpected matches.  For example the ItemList itself could be multi-typed to include CreativeWork and then any frame looking for that type might match the the entire ItemList node.  \n"
   ]
  },
  {
   "cell_type": "code",
   "execution_count": 8,
   "id": "d9453463",
   "metadata": {},
   "outputs": [],
   "source": [
    "myframe =  {\n",
    "    \"@context\":{\"@vocab\": \"https://schema.org/\"}, \n",
    "    \"@type\": \"Organization\",\n",
    "}"
   ]
  },
  {
   "cell_type": "code",
   "execution_count": 9,
   "id": "059507cf",
   "metadata": {},
   "outputs": [],
   "source": [
    "jld = json.loads(content)\n",
    "myframed = jsonld.frame(jld, myframe)\n",
    "# print(myframed)  # to see all the output (will be large typically)\n",
    "\n",
    "elN = myframed['@graph'][4]  # see the 4 array element"
   ]
  },
  {
   "cell_type": "code",
   "execution_count": 10,
   "id": "ed542bd5",
   "metadata": {},
   "outputs": [
    {
     "name": "stdout",
     "output_type": "stream",
     "text": [
      "{\n",
      "    \"@id\": \"http://portete.invemar.org.co/chm/api/oih/institution#0829ec6b65f126461afea1bab0a8fd2966129f3d52b1d88309f1a1b727f88c74\",\n",
      "    \"@type\": \"Organization\",\n",
      "    \"address\": {\n",
      "        \"@id\": \"_:b207\",\n",
      "        \"@type\": \"PostalAddress\",\n",
      "        \"addressLocality\": \"Colombia\",\n",
      "        \"streetAddress\": \"Carrera 45A#104B-16 Bogota, Bogota, 111111 Colombia\"\n",
      "    },\n",
      "    \"name\": \"CO2CERO\",\n",
      "    \"thumbnailUrl\": \"/static/main/index/images/inst-default.png\",\n",
      "    \"url\": \"https://oceanexpert.org/institution/21549\"\n",
      "}\n"
     ]
    }
   ],
   "source": [
    "json_formatted_str = json.dumps(elN, indent=4)\n",
    "print(json_formatted_str)"
   ]
  },
  {
   "cell_type": "markdown",
   "id": "05f73f2e",
   "metadata": {},
   "source": [
    "## SHACL Validation Results"
   ]
  },
  {
   "cell_type": "code",
   "execution_count": 11,
   "id": "5b27200d",
   "metadata": {},
   "outputs": [],
   "source": [
    "conforms, report_graph, report_text = kg.validate(\n",
    "    shacl_graph=sg,\n",
    "    shacl_graph_format=\"ttl\"\n",
    ")"
   ]
  },
  {
   "cell_type": "code",
   "execution_count": 12,
   "id": "10e8de76",
   "metadata": {},
   "outputs": [
    {
     "data": {
      "text/html": [
       "<div>\n",
       "<style scoped>\n",
       "    .dataframe tbody tr th:only-of-type {\n",
       "        vertical-align: middle;\n",
       "    }\n",
       "\n",
       "    .dataframe tbody tr th {\n",
       "        vertical-align: top;\n",
       "    }\n",
       "\n",
       "    .dataframe thead th {\n",
       "        text-align: right;\n",
       "    }\n",
       "</style>\n",
       "<table border=\"1\" class=\"dataframe\">\n",
       "  <thead>\n",
       "    <tr style=\"text-align: right;\">\n",
       "      <th>severity</th>\n",
       "      <th>sh:Violation</th>\n",
       "      <th>sh:Warning</th>\n",
       "      <th>Subtotals</th>\n",
       "    </tr>\n",
       "    <tr>\n",
       "      <th>message</th>\n",
       "      <th></th>\n",
       "      <th></th>\n",
       "      <th></th>\n",
       "    </tr>\n",
       "  </thead>\n",
       "  <tbody>\n",
       "    <tr>\n",
       "      <th>A resource should include a description</th>\n",
       "      <td>148</td>\n",
       "      <td>0</td>\n",
       "      <td>148</td>\n",
       "    </tr>\n",
       "    <tr>\n",
       "      <th>A resource should include a url</th>\n",
       "      <td>2</td>\n",
       "      <td>0</td>\n",
       "      <td>2</td>\n",
       "    </tr>\n",
       "    <tr>\n",
       "      <th>An organization should include an address</th>\n",
       "      <td>0</td>\n",
       "      <td>2</td>\n",
       "      <td>2</td>\n",
       "    </tr>\n",
       "    <tr>\n",
       "      <th>Subtotals</th>\n",
       "      <td>150</td>\n",
       "      <td>2</td>\n",
       "      <td>152</td>\n",
       "    </tr>\n",
       "  </tbody>\n",
       "</table>\n",
       "</div>"
      ],
      "text/plain": [
       "severity                                   sh:Violation  sh:Warning  Subtotals\n",
       "message                                                                       \n",
       "A resource should include a description             148           0        148\n",
       "A resource should include a url                       2           0          2\n",
       "An organization should include an address             0           2          2\n",
       "Subtotals                                           150           2        152"
      ]
     },
     "execution_count": 12,
     "metadata": {},
     "output_type": "execute_result"
    }
   ],
   "source": [
    "sparql = \"\"\"\n",
    "SELECT ?path ?value ?constraint ?severity ?message ?id ?focus\n",
    "  WHERE {\n",
    "    ?id rdf:type shacl:ValidationResult .\n",
    "    ?id shacl:focusNode ?focus .\n",
    "    ?id shacl:resultMessage ?message .\n",
    "    ?id shacl:resultSeverity ?severity .\n",
    "    ?id shacl:sourceConstraintComponent ?constraint .\n",
    "    OPTIONAL {\n",
    "        ?id shacl:resultPath ?path .\n",
    "    }\n",
    "    OPTIONAL {\n",
    "        ?id shacl:value ?value .\n",
    "    }\n",
    "  }\n",
    "\"\"\"\n",
    "\n",
    "pdf = report_graph.query_as_df(sparql)\n",
    "df = pdf.to_pandas()\n",
    "ctst = pd.crosstab(df['message'], df['severity'], margins = True, margins_name = 'Subtotals')\n",
    "ctst"
   ]
  },
  {
   "cell_type": "markdown",
   "id": "d3c975fd",
   "metadata": {},
   "source": [
    "## Heatmap\n",
    "\n",
    "Exploring ways to plot the the SHACL results."
   ]
  },
  {
   "cell_type": "code",
   "execution_count": 13,
   "id": "1de04359",
   "metadata": {},
   "outputs": [
    {
     "data": {
      "text/plain": [
       "<AxesSubplot:xlabel='severity', ylabel='message'>"
      ]
     },
     "execution_count": 13,
     "metadata": {},
     "output_type": "execute_result"
    },
    {
     "data": {
      "image/png": "[encoded data removed]",
      "text/plain": [
       "<Figure size 842.4x595.44 with 2 Axes>"
      ]
     },
     "metadata": {},
     "output_type": "display_data"
    }
   ],
   "source": [
    "import seaborn as sns\n",
    "\n",
    "ct = pd.crosstab(df['message'], df['severity'])\n",
    "\n",
    "cmap = sns.cm.crest\n",
    "sns.set(rc={'figure.figsize':(11.7,8.27)})\n",
    "sns.heatmap(ct, annot=True, fmt=\".0f\", cmap = cmap)"
   ]
  },
  {
   "cell_type": "code",
   "execution_count": 14,
   "id": "ca5baaf0",
   "metadata": {
    "collapsed": false,
    "jupyter": {
     "outputs_hidden": false
    },
    "pycharm": {
     "name": "#%%\n"
    }
   },
   "outputs": [],
   "source": [
    "# TODO export to parquet and or CSV\n",
    "# df.to_parquet(\"./output/eco_opentopo_SHACL.parquet\")\n",
    "df.to_csv(\"./validation/output/invemar_OrgSHACL.csv\")"
   ]
  },
  {
   "cell_type": "code",
   "execution_count": null,
   "id": "604e7d0d",
   "metadata": {
    "collapsed": false,
    "jupyter": {
     "outputs_hidden": false
    },
    "pycharm": {
     "name": "#%%\n"
    }
   },
   "outputs": [],
   "source": []
  }
 ],
 "metadata": {
  "kernelspec": {
   "display_name": "Python [conda env:.conda-kglab] *",
   "language": "python",
   "name": "conda-env-.conda-kglab-py"
  },
  "language_info": {
   "codemirror_mode": {
    "name": "ipython",
    "version": 3
   },
   "file_extension": ".py",
   "mimetype": "text/x-python",
   "name": "python",
   "nbconvert_exporter": "python",
   "pygments_lexer": "ipython3",
   "version": "3.8.10"
  }
 },
 "nbformat": 4,
 "nbformat_minor": 5
}
