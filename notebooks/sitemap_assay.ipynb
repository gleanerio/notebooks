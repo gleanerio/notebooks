{
 "cells": [
  {
   "cell_type": "markdown",
   "id": "51aacee9",
   "metadata": {},
   "source": [
    "# Sitemap Assay\n",
    "\n",
    "The start of a simple notebook that could hosted for peeopl to test out their sitemaps (and robots.txt) files with.\n",
    "\n",
    "References:\n",
    "* [AdvTools](https://advertools.readthedocs.io/en/master/advertools.sitemaps.html)\n",
    "* [Sitemap viz](https://www.ayima.com/us/insights/analytics-and-cro/how-to-visualize-an-xml-sitemap-using-python.html)\n",
    "\n"
   ]
  },
  {
   "cell_type": "code",
   "execution_count": 1,
   "id": "ef1f0a5d",
   "metadata": {},
   "outputs": [
    {
     "name": "stderr",
     "output_type": "stream",
     "text": [
      "/home/fils/.conda/envs/kglab/lib/python3.8/site-packages/dask/dataframe/backends.py:189: FutureWarning: pandas.Int64Index is deprecated and will be removed from pandas in a future version. Use pandas.Index with the appropriate dtype instead.\n",
      "  _numeric_index_types = (pd.Int64Index, pd.Float64Index, pd.UInt64Index)\n",
      "/home/fils/.conda/envs/kglab/lib/python3.8/site-packages/dask/dataframe/backends.py:189: FutureWarning: pandas.Float64Index is deprecated and will be removed from pandas in a future version. Use pandas.Index with the appropriate dtype instead.\n",
      "  _numeric_index_types = (pd.Int64Index, pd.Float64Index, pd.UInt64Index)\n",
      "/home/fils/.conda/envs/kglab/lib/python3.8/site-packages/dask/dataframe/backends.py:189: FutureWarning: pandas.UInt64Index is deprecated and will be removed from pandas in a future version. Use pandas.Index with the appropriate dtype instead.\n",
      "  _numeric_index_types = (pd.Int64Index, pd.Float64Index, pd.UInt64Index)\n"
     ]
    }
   ],
   "source": [
    "import advertools as adv\n",
    "import json\n",
    "import requests\n",
    "from pyld import jsonld\n",
    "from bs4 import BeautifulSoup\n",
    "import urllib.request\n",
    "import logging\n",
    "import traceback\n",
    "import kglab"
   ]
  },
  {
   "cell_type": "code",
   "execution_count": 2,
   "id": "2b58d82f-b4d5-4d59-8cfc-4bf6385faf03",
   "metadata": {},
   "outputs": [
    {
     "data": {
      "text/plain": "<diagrams.Diagram at 0x7f58b92546d0>",
      "image/png": "[encoded data removed]"
     },
     "execution_count": 2,
     "metadata": {},
     "output_type": "execute_result"
    }
   ],
   "source": [
    "from diagrams import Cluster, Diagram\n",
    "from diagrams.aws.compute import ECS\n",
    "from diagrams.aws.database import ElastiCache, RDS\n",
    "from diagrams.aws.network import ELB\n",
    "from diagrams.aws.network import Route53\n",
    "from diagrams.generic.blank import Blank\n",
    "from diagrams.generic.place import Datacenter\n",
    "from diagrams.generic.storage import Storage\n",
    "from diagrams.programming.flowchart import MultipleDocuments\n",
    "\n",
    "\n",
    "\n",
    "with Diagram(\"Simple Harvest Flow\", show=False) as imgdia:\n",
    "    \n",
    "    b1 = MultipleDocuments(\"one\")\n",
    "    b2 = Storage(\"two\")\n",
    "    \n",
    "    b1 >> b2\n",
    "\n",
    "    \n",
    "imgdia\n",
    "\n"
   ]
  },
  {
   "cell_type": "code",
   "execution_count": 2,
   "id": "ee61d05a",
   "metadata": {},
   "outputs": [
    {
     "name": "stderr",
     "output_type": "stream",
     "text": [
      "2022-05-10 09:40:58,427 | INFO | sitemaps.py:419 | sitemap_to_df | Getting https://obis.org/sitemap/sitemap_datasets.xml\n"
     ]
    },
    {
     "name": "stdout",
     "output_type": "stream",
     "text": [
      "CPU times: user 98.8 ms, sys: 19.4 ms, total: 118 ms\n",
      "Wall time: 1.19 s\n"
     ]
    },
    {
     "name": "stderr",
     "output_type": "stream",
     "text": [
      "/home/fils/.conda/envs/kglab/lib/python3.8/site-packages/advertools/sitemaps.py:421: FutureWarning: The frame.append method is deprecated and will be removed from pandas in a future version. Use pandas.concat instead.\n",
      "  sitemap_df = sitemap_df.append(elem_df, ignore_index=True)\n"
     ]
    }
   ],
   "source": [
    "%%time \n",
    "\n",
    "smurl = 'https://obis.org/sitemap/sitemap_datasets.xml'\n",
    "# smurl = 'https://infohub.eurocean.net/sitemap/vessels'\n",
    "\n",
    "iow_sitemap = adv.sitemap_to_df(smurl) # load sitemap to dataframe via advertools"
   ]
  },
  {
   "cell_type": "code",
   "execution_count": 3,
   "id": "e7aa1ab8",
   "metadata": {},
   "outputs": [
    {
     "name": "stdout",
     "output_type": "stream",
     "text": [
      "<class 'pandas.core.frame.DataFrame'>\n",
      "RangeIndex: 4473 entries, 0 to 4472\n",
      "Data columns (total 7 columns):\n",
      " #   Column           Non-Null Count  Dtype              \n",
      "---  ------           --------------  -----              \n",
      " 0   loc              4473 non-null   object             \n",
      " 1   changefreq       4473 non-null   object             \n",
      " 2   priority         4473 non-null   float64            \n",
      " 3   sitemap          4473 non-null   object             \n",
      " 4   etag             4473 non-null   object             \n",
      " 5   sitemap_size_mb  4473 non-null   float64            \n",
      " 6   download_date    4473 non-null   datetime64[ns, UTC]\n",
      "dtypes: datetime64[ns, UTC](1), float64(2), object(4)\n",
      "memory usage: 244.7+ KB\n"
     ]
    },
    {
     "data": {
      "text/html": [
       "<div>\n",
       "<style scoped>\n",
       "    .dataframe tbody tr th:only-of-type {\n",
       "        vertical-align: middle;\n",
       "    }\n",
       "\n",
       "    .dataframe tbody tr th {\n",
       "        vertical-align: top;\n",
       "    }\n",
       "\n",
       "    .dataframe thead th {\n",
       "        text-align: right;\n",
       "    }\n",
       "</style>\n",
       "<table border=\"1\" class=\"dataframe\">\n",
       "  <thead>\n",
       "    <tr style=\"text-align: right;\">\n",
       "      <th></th>\n",
       "      <th>loc</th>\n",
       "      <th>changefreq</th>\n",
       "      <th>priority</th>\n",
       "      <th>sitemap</th>\n",
       "      <th>etag</th>\n",
       "      <th>sitemap_size_mb</th>\n",
       "      <th>download_date</th>\n",
       "    </tr>\n",
       "  </thead>\n",
       "  <tbody>\n",
       "    <tr>\n",
       "      <th>0</th>\n",
       "      <td>https://obis.org/dataset/ec6bfce3-b62c-4a2b-b0...</td>\n",
       "      <td>weekly</td>\n",
       "      <td>1.0</td>\n",
       "      <td>https://obis.org/sitemap/sitemap_datasets.xml</td>\n",
       "      <td>W/a71bf-/bQ5LCsirhJmeGsIxcn8X1eXo2A</td>\n",
       "      <td>0.65277</td>\n",
       "      <td>2022-05-10 14:40:58.479974+00:00</td>\n",
       "    </tr>\n",
       "    <tr>\n",
       "      <th>1</th>\n",
       "      <td>https://obis.org/dataset/2dffebfc-8132-445e-a1...</td>\n",
       "      <td>weekly</td>\n",
       "      <td>1.0</td>\n",
       "      <td>https://obis.org/sitemap/sitemap_datasets.xml</td>\n",
       "      <td>W/a71bf-/bQ5LCsirhJmeGsIxcn8X1eXo2A</td>\n",
       "      <td>0.65277</td>\n",
       "      <td>2022-05-10 14:40:58.479974+00:00</td>\n",
       "    </tr>\n",
       "    <tr>\n",
       "      <th>2</th>\n",
       "      <td>https://obis.org/dataset/7fba9a43-a900-46a5-8a...</td>\n",
       "      <td>weekly</td>\n",
       "      <td>1.0</td>\n",
       "      <td>https://obis.org/sitemap/sitemap_datasets.xml</td>\n",
       "      <td>W/a71bf-/bQ5LCsirhJmeGsIxcn8X1eXo2A</td>\n",
       "      <td>0.65277</td>\n",
       "      <td>2022-05-10 14:40:58.479974+00:00</td>\n",
       "    </tr>\n",
       "    <tr>\n",
       "      <th>3</th>\n",
       "      <td>https://obis.org/dataset/739c0486-3adf-4e88-9f...</td>\n",
       "      <td>weekly</td>\n",
       "      <td>1.0</td>\n",
       "      <td>https://obis.org/sitemap/sitemap_datasets.xml</td>\n",
       "      <td>W/a71bf-/bQ5LCsirhJmeGsIxcn8X1eXo2A</td>\n",
       "      <td>0.65277</td>\n",
       "      <td>2022-05-10 14:40:58.479974+00:00</td>\n",
       "    </tr>\n",
       "    <tr>\n",
       "      <th>4</th>\n",
       "      <td>https://obis.org/dataset/73f31d9e-9c11-402b-9e...</td>\n",
       "      <td>weekly</td>\n",
       "      <td>1.0</td>\n",
       "      <td>https://obis.org/sitemap/sitemap_datasets.xml</td>\n",
       "      <td>W/a71bf-/bQ5LCsirhJmeGsIxcn8X1eXo2A</td>\n",
       "      <td>0.65277</td>\n",
       "      <td>2022-05-10 14:40:58.479974+00:00</td>\n",
       "    </tr>\n",
       "  </tbody>\n",
       "</table>\n",
       "</div>"
      ],
      "text/plain": [
       "                                                 loc changefreq  priority  \\\n",
       "0  https://obis.org/dataset/ec6bfce3-b62c-4a2b-b0...     weekly       1.0   \n",
       "1  https://obis.org/dataset/2dffebfc-8132-445e-a1...     weekly       1.0   \n",
       "2  https://obis.org/dataset/7fba9a43-a900-46a5-8a...     weekly       1.0   \n",
       "3  https://obis.org/dataset/739c0486-3adf-4e88-9f...     weekly       1.0   \n",
       "4  https://obis.org/dataset/73f31d9e-9c11-402b-9e...     weekly       1.0   \n",
       "\n",
       "                                         sitemap  \\\n",
       "0  https://obis.org/sitemap/sitemap_datasets.xml   \n",
       "1  https://obis.org/sitemap/sitemap_datasets.xml   \n",
       "2  https://obis.org/sitemap/sitemap_datasets.xml   \n",
       "3  https://obis.org/sitemap/sitemap_datasets.xml   \n",
       "4  https://obis.org/sitemap/sitemap_datasets.xml   \n",
       "\n",
       "                                  etag  sitemap_size_mb  \\\n",
       "0  W/a71bf-/bQ5LCsirhJmeGsIxcn8X1eXo2A          0.65277   \n",
       "1  W/a71bf-/bQ5LCsirhJmeGsIxcn8X1eXo2A          0.65277   \n",
       "2  W/a71bf-/bQ5LCsirhJmeGsIxcn8X1eXo2A          0.65277   \n",
       "3  W/a71bf-/bQ5LCsirhJmeGsIxcn8X1eXo2A          0.65277   \n",
       "4  W/a71bf-/bQ5LCsirhJmeGsIxcn8X1eXo2A          0.65277   \n",
       "\n",
       "                     download_date  \n",
       "0 2022-05-10 14:40:58.479974+00:00  \n",
       "1 2022-05-10 14:40:58.479974+00:00  \n",
       "2 2022-05-10 14:40:58.479974+00:00  \n",
       "3 2022-05-10 14:40:58.479974+00:00  \n",
       "4 2022-05-10 14:40:58.479974+00:00  "
      ]
     },
     "execution_count": 3,
     "metadata": {},
     "output_type": "execute_result"
    }
   ],
   "source": [
    "iow_sitemap.info()\n",
    "iow_sitemap.head()"
   ]
  },
  {
   "cell_type": "markdown",
   "id": "0c4c45c9",
   "metadata": {},
   "source": [
    "## Unique Sitemaps URLs and resource URLs in IoW\n",
    "\n",
    "We can quickly grabe the unique URLs from the sitemap column and see how many unique sitemap.xml files we are working with"
   ]
  },
  {
   "cell_type": "code",
   "execution_count": 4,
   "id": "7eeffe98",
   "metadata": {},
   "outputs": [
    {
     "name": "stdout",
     "output_type": "stream",
     "text": [
      "1 unique sitemap XML file(s) pointing to 4473 unique resource(s).\n"
     ]
    }
   ],
   "source": [
    "usm = iow_sitemap.sitemap.unique()\n",
    "uloc = iow_sitemap[\"loc\"].unique()\n",
    "print(\"{} unique sitemap XML file(s) pointing to {} unique resource(s).\".format(len(usm), len(uloc)))"
   ]
  },
  {
   "cell_type": "markdown",
   "id": "1f767871",
   "metadata": {},
   "source": [
    "## Analyzing the URLs\n",
    "\n",
    "We can also dive into the URL structure for the resources a bit. "
   ]
  },
  {
   "cell_type": "code",
   "execution_count": 5,
   "id": "d9691c02",
   "metadata": {},
   "outputs": [
    {
     "data": {
      "text/html": [
       "<div>\n",
       "<style scoped>\n",
       "    .dataframe tbody tr th:only-of-type {\n",
       "        vertical-align: middle;\n",
       "    }\n",
       "\n",
       "    .dataframe tbody tr th {\n",
       "        vertical-align: top;\n",
       "    }\n",
       "\n",
       "    .dataframe thead th {\n",
       "        text-align: right;\n",
       "    }\n",
       "</style>\n",
       "<table border=\"1\" class=\"dataframe\">\n",
       "  <thead>\n",
       "    <tr style=\"text-align: right;\">\n",
       "      <th></th>\n",
       "      <th>url</th>\n",
       "      <th>scheme</th>\n",
       "      <th>netloc</th>\n",
       "      <th>path</th>\n",
       "      <th>query</th>\n",
       "      <th>fragment</th>\n",
       "      <th>dir_1</th>\n",
       "      <th>dir_2</th>\n",
       "    </tr>\n",
       "  </thead>\n",
       "  <tbody>\n",
       "    <tr>\n",
       "      <th>0</th>\n",
       "      <td>https://obis.org/dataset/ec6bfce3-b62c-4a2b-b0...</td>\n",
       "      <td>https</td>\n",
       "      <td>obis.org</td>\n",
       "      <td>/dataset/ec6bfce3-b62c-4a2b-b071-0d5856def57f</td>\n",
       "      <td></td>\n",
       "      <td></td>\n",
       "      <td>dataset</td>\n",
       "      <td>ec6bfce3-b62c-4a2b-b071-0d5856def57f</td>\n",
       "    </tr>\n",
       "    <tr>\n",
       "      <th>1</th>\n",
       "      <td>https://obis.org/dataset/2dffebfc-8132-445e-a1...</td>\n",
       "      <td>https</td>\n",
       "      <td>obis.org</td>\n",
       "      <td>/dataset/2dffebfc-8132-445e-a127-3a360208a7b3</td>\n",
       "      <td></td>\n",
       "      <td></td>\n",
       "      <td>dataset</td>\n",
       "      <td>2dffebfc-8132-445e-a127-3a360208a7b3</td>\n",
       "    </tr>\n",
       "    <tr>\n",
       "      <th>2</th>\n",
       "      <td>https://obis.org/dataset/7fba9a43-a900-46a5-8a...</td>\n",
       "      <td>https</td>\n",
       "      <td>obis.org</td>\n",
       "      <td>/dataset/7fba9a43-a900-46a5-8a4c-861399705482</td>\n",
       "      <td></td>\n",
       "      <td></td>\n",
       "      <td>dataset</td>\n",
       "      <td>7fba9a43-a900-46a5-8a4c-861399705482</td>\n",
       "    </tr>\n",
       "    <tr>\n",
       "      <th>3</th>\n",
       "      <td>https://obis.org/dataset/739c0486-3adf-4e88-9f...</td>\n",
       "      <td>https</td>\n",
       "      <td>obis.org</td>\n",
       "      <td>/dataset/739c0486-3adf-4e88-9f8d-f0b48ea9b5ad</td>\n",
       "      <td></td>\n",
       "      <td></td>\n",
       "      <td>dataset</td>\n",
       "      <td>739c0486-3adf-4e88-9f8d-f0b48ea9b5ad</td>\n",
       "    </tr>\n",
       "    <tr>\n",
       "      <th>4</th>\n",
       "      <td>https://obis.org/dataset/73f31d9e-9c11-402b-9e...</td>\n",
       "      <td>https</td>\n",
       "      <td>obis.org</td>\n",
       "      <td>/dataset/73f31d9e-9c11-402b-9e3d-8ed61f2fcc8c</td>\n",
       "      <td></td>\n",
       "      <td></td>\n",
       "      <td>dataset</td>\n",
       "      <td>73f31d9e-9c11-402b-9e3d-8ed61f2fcc8c</td>\n",
       "    </tr>\n",
       "  </tbody>\n",
       "</table>\n",
       "</div>"
      ],
      "text/plain": [
       "                                                 url scheme    netloc  \\\n",
       "0  https://obis.org/dataset/ec6bfce3-b62c-4a2b-b0...  https  obis.org   \n",
       "1  https://obis.org/dataset/2dffebfc-8132-445e-a1...  https  obis.org   \n",
       "2  https://obis.org/dataset/7fba9a43-a900-46a5-8a...  https  obis.org   \n",
       "3  https://obis.org/dataset/739c0486-3adf-4e88-9f...  https  obis.org   \n",
       "4  https://obis.org/dataset/73f31d9e-9c11-402b-9e...  https  obis.org   \n",
       "\n",
       "                                            path query fragment    dir_1  \\\n",
       "0  /dataset/ec6bfce3-b62c-4a2b-b071-0d5856def57f                 dataset   \n",
       "1  /dataset/2dffebfc-8132-445e-a127-3a360208a7b3                 dataset   \n",
       "2  /dataset/7fba9a43-a900-46a5-8a4c-861399705482                 dataset   \n",
       "3  /dataset/739c0486-3adf-4e88-9f8d-f0b48ea9b5ad                 dataset   \n",
       "4  /dataset/73f31d9e-9c11-402b-9e3d-8ed61f2fcc8c                 dataset   \n",
       "\n",
       "                                  dir_2  \n",
       "0  ec6bfce3-b62c-4a2b-b071-0d5856def57f  \n",
       "1  2dffebfc-8132-445e-a127-3a360208a7b3  \n",
       "2  7fba9a43-a900-46a5-8a4c-861399705482  \n",
       "3  739c0486-3adf-4e88-9f8d-f0b48ea9b5ad  \n",
       "4  73f31d9e-9c11-402b-9e3d-8ed61f2fcc8c  "
      ]
     },
     "execution_count": 5,
     "metadata": {},
     "output_type": "execute_result"
    }
   ],
   "source": [
    "# Break down all the URL into theor path parts\n",
    "urldf = adv.url_to_df(list(iow_sitemap['loc']))\n",
    "urldf.head()"
   ]
  },
  {
   "cell_type": "code",
   "execution_count": 6,
   "id": "792f8e95-7923-43c9-a1ca-0f97a1687270",
   "metadata": {},
   "outputs": [],
   "source": [
    "#set the column sof interest\n",
    "coi = \"query\""
   ]
  },
  {
   "cell_type": "code",
   "execution_count": 7,
   "id": "f2165af1",
   "metadata": {},
   "outputs": [
    {
     "data": {
      "text/html": [
       "<div>\n",
       "<style scoped>\n",
       "    .dataframe tbody tr th:only-of-type {\n",
       "        vertical-align: middle;\n",
       "    }\n",
       "\n",
       "    .dataframe tbody tr th {\n",
       "        vertical-align: top;\n",
       "    }\n",
       "\n",
       "    .dataframe thead th {\n",
       "        text-align: right;\n",
       "    }\n",
       "</style>\n",
       "<table border=\"1\" class=\"dataframe\">\n",
       "  <thead>\n",
       "    <tr style=\"text-align: right;\">\n",
       "      <th></th>\n",
       "      <th>query</th>\n",
       "    </tr>\n",
       "  </thead>\n",
       "  <tbody>\n",
       "    <tr>\n",
       "      <th></th>\n",
       "      <td>4473</td>\n",
       "    </tr>\n",
       "  </tbody>\n",
       "</table>\n",
       "</div>"
      ],
      "text/plain": [
       "  query\n",
       "   4473"
      ]
     },
     "execution_count": 7,
     "metadata": {},
     "output_type": "execute_result"
    }
   ],
   "source": [
    "# We can not aggregate at various levels...   \n",
    "e4 = urldf[coi].value_counts()\n",
    "e4.rename_axis(\"sources\")\n",
    "\n",
    "e4df = e4.to_frame()\n",
    "e4df.head(len(e4)) "
   ]
  },
  {
   "cell_type": "markdown",
   "id": "178ddcea-1ed1-4473-8102-c7a11668ebe4",
   "metadata": {},
   "source": [
    "## Plot sitemap diversity\n",
    "\n",
    "This following section is only of value in cases where is a diversity of path names above the final resource entry in a sitemap.\n",
    "Otherwise these sections provide no insight.\n",
    "\n",
    "Note that the _Plot sitemap diversity_ section my not be of value for many groups.  It was used in cases where the URL path has\n",
    " more varied structure.  In some cases the structure is the same till the end path element.  In those cases the graphs will be\n",
    " busy (slow) and not very useful."
   ]
  },
  {
   "cell_type": "code",
   "execution_count": 8,
   "id": "de264daf",
   "metadata": {},
   "outputs": [
    {
     "name": "stderr",
     "output_type": "stream",
     "text": [
      "/tmp/ipykernel_918243/569473460.py:10: FutureWarning: The frame.append method is deprecated and will be removed from pandas in a future version. Use pandas.concat instead.\n",
      "  t = e4topdf.append({'source':'other', 'count':ts}, ignore_index=True)\n"
     ]
    },
    {
     "data": {
      "text/html": [
       "<div>\n",
       "<style scoped>\n",
       "    .dataframe tbody tr th:only-of-type {\n",
       "        vertical-align: middle;\n",
       "    }\n",
       "\n",
       "    .dataframe tbody tr th {\n",
       "        vertical-align: top;\n",
       "    }\n",
       "\n",
       "    .dataframe thead th {\n",
       "        text-align: right;\n",
       "    }\n",
       "</style>\n",
       "<table border=\"1\" class=\"dataframe\">\n",
       "  <thead>\n",
       "    <tr style=\"text-align: right;\">\n",
       "      <th></th>\n",
       "      <th>source</th>\n",
       "      <th>count</th>\n",
       "    </tr>\n",
       "  </thead>\n",
       "  <tbody>\n",
       "    <tr>\n",
       "      <th>0</th>\n",
       "      <td></td>\n",
       "      <td>4473</td>\n",
       "    </tr>\n",
       "    <tr>\n",
       "      <th>1</th>\n",
       "      <td>other</td>\n",
       "      <td>4473</td>\n",
       "    </tr>\n",
       "  </tbody>\n",
       "</table>\n",
       "</div>"
      ],
      "text/plain": [
       "  source  count\n",
       "0          4473\n",
       "1  other   4473"
      ]
     },
     "execution_count": 8,
     "metadata": {},
     "output_type": "execute_result"
    }
   ],
   "source": [
    "# If we have lots of values above, then we can sum lower end ones into an \"others\" category.\n",
    "# This is not needed if the breakdown is small or 1 above the final resource entry in a sitemap.\n",
    "# With a little trial and error we can see the cutoff for a chart \n",
    "breakat = 1\n",
    "ts = e4df.tail(breakat)[coi].sum()\n",
    "e4topdf = e4df# [e4df[coi]]  # work in using breakat to get this\n",
    "e4topdf.reset_index(inplace = True, drop = False)\n",
    "e4topdf.rename(columns={'index': 'source', coi:'count'},  inplace = True)\n",
    "\n",
    "t = e4topdf.append({'source':'other', 'count':ts}, ignore_index=True) \n",
    "t.head(10)"
   ]
  },
  {
   "cell_type": "code",
   "execution_count": 9,
   "id": "113e655a",
   "metadata": {},
   "outputs": [
    {
     "data": {
      "text/plain": [
       "<AxesSubplot:ylabel='count'>"
      ]
     },
     "execution_count": 9,
     "metadata": {},
     "output_type": "execute_result"
    },
    {
     "data": {
      "image/png": "[encoded data removed]",
      "text/plain": [
       "<Figure size 2160x720 with 1 Axes>"
      ]
     },
     "metadata": {},
     "output_type": "display_data"
    }
   ],
   "source": [
    "import matplotlib.pyplot as plt\n",
    "from pandas.plotting import table\n",
    "\n",
    "plt.figure(figsize=(30,10))\n",
    "\n",
    "# plot chart\n",
    "ax1 = plt.subplot(121, aspect='equal')\n",
    "t.plot(kind='pie', y = 'count', ax=ax1, autopct='%1.1f%%', \n",
    " startangle=90, shadow=False, labels=t['source'], legend = False, fontsize=12)\n",
    "\n",
    "# # plot table\n",
    "# ax2 = plt.subplot(122,  aspect='equal')\n",
    "# plt.axis('off')\n",
    "# tbl = table(ax2, t, loc='center')\n",
    "# tbl.auto_set_font_size(False)\n",
    "# tbl.set_fontsize(12)\n",
    "# plt.show()"
   ]
  },
  {
   "cell_type": "code",
   "execution_count": 10,
   "id": "5c62a934",
   "metadata": {},
   "outputs": [
    {
     "data": {
      "image/png": "[encoded data removed]",
      "text/plain": [
       "<Figure size 720x720 with 1 Axes>"
      ]
     },
     "metadata": {
      "needs_background": "light"
     },
     "output_type": "display_data"
    }
   ],
   "source": [
    "e4sort = e4.sort_values(ascending=True)\n",
    "plot = e4sort.plot.bar(y='dir_4',legend=True, grid=True, logy = True, figsize=(10, 10))"
   ]
  },
  {
   "cell_type": "markdown",
   "id": "9e806ba0",
   "metadata": {},
   "source": [
    "## Sample and test sitemap entries"
   ]
  },
  {
   "cell_type": "code",
   "execution_count": 11,
   "id": "20e46dd2",
   "metadata": {},
   "outputs": [],
   "source": [
    "# sample the previously generated url data frame\n",
    "sample_size = 5\n",
    "sample_df = urldf.groupby(\"dir_1\").sample(n=sample_size, random_state=1, replace=True)\n"
   ]
  },
  {
   "cell_type": "code",
   "execution_count": 12,
   "id": "b725c4ca",
   "metadata": {},
   "outputs": [
    {
     "data": {
      "text/html": [
       "<div>\n",
       "<style scoped>\n",
       "    .dataframe tbody tr th:only-of-type {\n",
       "        vertical-align: middle;\n",
       "    }\n",
       "\n",
       "    .dataframe tbody tr th {\n",
       "        vertical-align: top;\n",
       "    }\n",
       "\n",
       "    .dataframe thead th {\n",
       "        text-align: right;\n",
       "    }\n",
       "</style>\n",
       "<table border=\"1\" class=\"dataframe\">\n",
       "  <thead>\n",
       "    <tr style=\"text-align: right;\">\n",
       "      <th></th>\n",
       "      <th>url</th>\n",
       "      <th>scheme</th>\n",
       "      <th>netloc</th>\n",
       "      <th>path</th>\n",
       "      <th>query</th>\n",
       "      <th>fragment</th>\n",
       "      <th>dir_1</th>\n",
       "      <th>dir_2</th>\n",
       "    </tr>\n",
       "  </thead>\n",
       "  <tbody>\n",
       "    <tr>\n",
       "      <th>235</th>\n",
       "      <td>https://obis.org/dataset/d7bdf4c6-7418-4c4a-98...</td>\n",
       "      <td>https</td>\n",
       "      <td>obis.org</td>\n",
       "      <td>/dataset/d7bdf4c6-7418-4c4a-9845-311d5b9475a3</td>\n",
       "      <td></td>\n",
       "      <td></td>\n",
       "      <td>dataset</td>\n",
       "      <td>d7bdf4c6-7418-4c4a-9845-311d5b9475a3</td>\n",
       "    </tr>\n",
       "    <tr>\n",
       "      <th>3980</th>\n",
       "      <td>https://obis.org/dataset/27cd0137-820a-485e-bf...</td>\n",
       "      <td>https</td>\n",
       "      <td>obis.org</td>\n",
       "      <td>/dataset/27cd0137-820a-485e-bf8a-90117801313c</td>\n",
       "      <td></td>\n",
       "      <td></td>\n",
       "      <td>dataset</td>\n",
       "      <td>27cd0137-820a-485e-bf8a-90117801313c</td>\n",
       "    </tr>\n",
       "    <tr>\n",
       "      <th>905</th>\n",
       "      <td>https://obis.org/dataset/80f2d19f-d8a3-4664-99...</td>\n",
       "      <td>https</td>\n",
       "      <td>obis.org</td>\n",
       "      <td>/dataset/80f2d19f-d8a3-4664-999b-5fde219ddde8</td>\n",
       "      <td></td>\n",
       "      <td></td>\n",
       "      <td>dataset</td>\n",
       "      <td>80f2d19f-d8a3-4664-999b-5fde219ddde8</td>\n",
       "    </tr>\n",
       "    <tr>\n",
       "      <th>2763</th>\n",
       "      <td>https://obis.org/dataset/a4bb1978-5aa4-4fd2-b8...</td>\n",
       "      <td>https</td>\n",
       "      <td>obis.org</td>\n",
       "      <td>/dataset/a4bb1978-5aa4-4fd2-b8f3-ffc19b6467dc</td>\n",
       "      <td></td>\n",
       "      <td></td>\n",
       "      <td>dataset</td>\n",
       "      <td>a4bb1978-5aa4-4fd2-b8f3-ffc19b6467dc</td>\n",
       "    </tr>\n",
       "    <tr>\n",
       "      <th>2895</th>\n",
       "      <td>https://obis.org/dataset/14242931-d643-4f29-a5...</td>\n",
       "      <td>https</td>\n",
       "      <td>obis.org</td>\n",
       "      <td>/dataset/14242931-d643-4f29-a505-4d8eab59751b</td>\n",
       "      <td></td>\n",
       "      <td></td>\n",
       "      <td>dataset</td>\n",
       "      <td>14242931-d643-4f29-a505-4d8eab59751b</td>\n",
       "    </tr>\n",
       "  </tbody>\n",
       "</table>\n",
       "</div>"
      ],
      "text/plain": [
       "                                                    url scheme    netloc  \\\n",
       "235   https://obis.org/dataset/d7bdf4c6-7418-4c4a-98...  https  obis.org   \n",
       "3980  https://obis.org/dataset/27cd0137-820a-485e-bf...  https  obis.org   \n",
       "905   https://obis.org/dataset/80f2d19f-d8a3-4664-99...  https  obis.org   \n",
       "2763  https://obis.org/dataset/a4bb1978-5aa4-4fd2-b8...  https  obis.org   \n",
       "2895  https://obis.org/dataset/14242931-d643-4f29-a5...  https  obis.org   \n",
       "\n",
       "                                               path query fragment    dir_1  \\\n",
       "235   /dataset/d7bdf4c6-7418-4c4a-9845-311d5b9475a3                 dataset   \n",
       "3980  /dataset/27cd0137-820a-485e-bf8a-90117801313c                 dataset   \n",
       "905   /dataset/80f2d19f-d8a3-4664-999b-5fde219ddde8                 dataset   \n",
       "2763  /dataset/a4bb1978-5aa4-4fd2-b8f3-ffc19b6467dc                 dataset   \n",
       "2895  /dataset/14242931-d643-4f29-a505-4d8eab59751b                 dataset   \n",
       "\n",
       "                                     dir_2  \n",
       "235   d7bdf4c6-7418-4c4a-9845-311d5b9475a3  \n",
       "3980  27cd0137-820a-485e-bf8a-90117801313c  \n",
       "905   80f2d19f-d8a3-4664-999b-5fde219ddde8  \n",
       "2763  a4bb1978-5aa4-4fd2-b8f3-ffc19b6467dc  \n",
       "2895  14242931-d643-4f29-a505-4d8eab59751b  "
      ]
     },
     "execution_count": 12,
     "metadata": {},
     "output_type": "execute_result"
    }
   ],
   "source": [
    "sample_df.head()"
   ]
  },
  {
   "cell_type": "markdown",
   "id": "c58bee8f",
   "metadata": {},
   "source": [
    "### See the URLs resolve"
   ]
  },
  {
   "cell_type": "code",
   "execution_count": 13,
   "id": "0c22245d",
   "metadata": {},
   "outputs": [
    {
     "name": "stdout",
     "output_type": "stream",
     "text": [
      "URL: https://obis.org/dataset/d7bdf4c6-7418-4c4a-9845-311d5b9475a3 \n",
      "code 200 : text/html \n",
      "errors : None\n",
      " --\n",
      "URL: https://obis.org/dataset/27cd0137-820a-485e-bf8a-90117801313c \n",
      "code 200 : text/html \n",
      "errors : None\n",
      " --\n",
      "URL: https://obis.org/dataset/80f2d19f-d8a3-4664-999b-5fde219ddde8 \n",
      "code 200 : text/html \n",
      "errors : None\n",
      " --\n",
      "URL: https://obis.org/dataset/a4bb1978-5aa4-4fd2-b8f3-ffc19b6467dc \n",
      "code 200 : text/html \n",
      "errors : None\n",
      " --\n",
      "URL: https://obis.org/dataset/14242931-d643-4f29-a505-4d8eab59751b \n",
      "code 200 : text/html \n",
      "errors : None\n",
      " --\n"
     ]
    }
   ],
   "source": [
    "import urllib.request\n",
    "import requests\n",
    "\n",
    "ul = sample_df[\"url\"]\n",
    "\n",
    "for item in ul:\n",
    "    headers, code, dtype = None, None, None\n",
    "    \n",
    "    try:\n",
    "        x = requests.get(item)\n",
    "        code = x.status_code\n",
    "        with urllib.request.urlopen(item) as response:\n",
    "            info = response.info()\n",
    "            dtype = info.get_content_type()    # -> text/html\n",
    "\n",
    "        # headers = x.headers()\n",
    "    except:\n",
    "        code = \"exception\"\n",
    "        dtype = \"exception\"\n",
    "        headers = \"exception\"\n",
    "    \n",
    "    print(\"URL: {} \\ncode {} : {} \\nerrors : {}\\n --\".format(item, code, dtype, headers))"
   ]
  },
  {
   "cell_type": "markdown",
   "id": "ed2bcab8",
   "metadata": {},
   "source": [
    "### See if they have JSON-LD (static check only, no dynamically loaded JSON-LD yet)"
   ]
  },
  {
   "cell_type": "code",
   "execution_count": 23,
   "id": "cd25210a",
   "metadata": {},
   "outputs": [
    {
     "name": "stdout",
     "output_type": "stream",
     "text": [
      "4375\n",
      "-----------------\n",
      "6040\n",
      "-----------------\n",
      "2462\n",
      "-----------------\n",
      "2831\n",
      "-----------------\n",
      "2108\n",
      "-----------------\n"
     ]
    }
   ],
   "source": [
    "ul = sample_df[\"url\"]\n",
    "\n",
    "\n",
    "for item in ul:\n",
    "    html = urllib.request.urlopen(item).read()\n",
    "    soup = BeautifulSoup(html, \"html.parser\")\n",
    "    p = soup.find('script', {'type':'application/ld+json'})\n",
    "    try:\n",
    "        print(len(p.contents[0]))\n",
    "        # print(p.contents[0])\n",
    "        print(\"-----------------\")\n",
    "    except Exception as e:\n",
    "        logging.error(traceback.format_exc())"
   ]
  },
  {
   "cell_type": "markdown",
   "id": "b8875457",
   "metadata": {},
   "source": [
    "### Check JSON-LD structure (static check only, no dynamically loaded JSON-LD yet)"
   ]
  },
  {
   "cell_type": "code",
   "execution_count": 16,
   "id": "cd83aa38-7d5f-48d1-bdb2-12cadd72a9dc",
   "metadata": {},
   "outputs": [
    {
     "name": "stdout",
     "output_type": "stream",
     "text": [
      "3879\n",
      "5846\n",
      "2358\n",
      "2617\n",
      "1892\n"
     ]
    }
   ],
   "source": [
    "ul = sample_df[\"url\"]\n",
    "\n",
    "myframe =  {\n",
    "    \"@context\":{\"@vocab\": \"https://schema.org/\"},\n",
    "    \"@type\": \"Dataset\",\n",
    "}\n",
    "\n",
    "context =  { \"@vocab\": \"https://schema.org/\" }\n",
    "\n",
    "for item in ul:\n",
    "    html = urllib.request.urlopen(item).read()\n",
    "    soup = BeautifulSoup(html, \"html.parser\")\n",
    "    p = soup.find('script', {'type':'application/ld+json'})\n",
    "    try:\n",
    "        jld = json.loads(p.contents[0])\n",
    "        compacted = jsonld.compact(jld, context)\n",
    "        print(len(json.dumps(compacted, indent=2)))\n",
    "    except Exception as e:\n",
    "        logging.error(traceback.format_exc())"
   ]
  },
  {
   "cell_type": "markdown",
   "id": "c3c3f714",
   "metadata": {},
   "source": [
    "## COMING SOON\n",
    "\n",
    "Looad a sample set of triples into RDF lib and run a sample SPARQL query on them.\n",
    "\n",
    "### Note\n",
    "This is the same loop as above but now we will load into a KG graph"
   ]
  },
  {
   "cell_type": "code",
   "execution_count": 24,
   "id": "e39214e2",
   "metadata": {
    "collapsed": false,
    "jupyter": {
     "outputs_hidden": false
    },
    "pycharm": {
     "name": "#%%\n"
    }
   },
   "outputs": [
    {
     "name": "stdout",
     "output_type": "stream",
     "text": [
      "4375\n",
      "-----------------\n",
      "6040\n",
      "-----------------\n",
      "2462\n",
      "-----------------\n",
      "2831\n",
      "-----------------\n",
      "2108\n",
      "-----------------\n"
     ]
    }
   ],
   "source": [
    "ul = sample_df[\"url\"]\n",
    "\n",
    "# Test loading into a graph\n",
    "namespaces = {\n",
    "    \"schema\":  \"https://schema.org/\",\n",
    "    \"shacl\":   \"http://www.w3.org/ns/shacl#\" ,\n",
    "}\n",
    "\n",
    "kg = kglab.KnowledgeGraph(\n",
    "    name = \"Schema.org shacl eval datagraph\",\n",
    "    base_uri = \"https://example.org/id/\",\n",
    "    namespaces = namespaces,\n",
    ")\n",
    "\n",
    "\n",
    "\n",
    "for item in ul:\n",
    "    html = urllib.request.urlopen(item).read()\n",
    "    soup = BeautifulSoup(html, \"html.parser\")\n",
    "    p = soup.find('script', {'type':'application/ld+json'})\n",
    "    try:\n",
    "        print(len(p.contents[0]))\n",
    "        kg.load_rdf_text(data=p.contents[0], format=\"json-ld\")\n",
    "        # print(p.contents[0])\n",
    "        print(\"-----------------\")\n",
    "    except Exception as e:\n",
    "        logging.error(traceback.format_exc())"
   ]
  },
  {
   "cell_type": "code",
   "execution_count": 25,
   "id": "da74b0db-9224-4a58-80b3-d0932087a6e4",
   "metadata": {},
   "outputs": [
    {
     "name": "stdout",
     "output_type": "stream",
     "text": [
      "<class 'pandas.core.frame.DataFrame'>\n",
      "RangeIndex: 3 entries, 0 to 2\n",
      "Data columns (total 1 columns):\n",
      " #   Column  Non-Null Count  Dtype \n",
      "---  ------  --------------  ----- \n",
      " 0   s       3 non-null      object\n",
      "dtypes: object(1)\n",
      "memory usage: 152.0+ bytes\n"
     ]
    }
   ],
   "source": [
    "sparql = \"\"\"\n",
    "PREFIX schema: <https://schema.org/>\n",
    "SELECT ?s\n",
    "  WHERE {\n",
    "    ?s a schema:Organization\n",
    "  }\n",
    "\"\"\"\n",
    "\n",
    "df = kg.query_as_df(sparql).to_pandas()\n",
    "\n",
    "df.info()"
   ]
  },
  {
   "cell_type": "code",
   "execution_count": 26,
   "id": "2c43c2bd-187a-41df-a9f9-194d964dd580",
   "metadata": {},
   "outputs": [
    {
     "data": {
      "text/html": [
       "<div>\n",
       "<style scoped>\n",
       "    .dataframe tbody tr th:only-of-type {\n",
       "        vertical-align: middle;\n",
       "    }\n",
       "\n",
       "    .dataframe tbody tr th {\n",
       "        vertical-align: top;\n",
       "    }\n",
       "\n",
       "    .dataframe thead th {\n",
       "        text-align: right;\n",
       "    }\n",
       "</style>\n",
       "<table border=\"1\" class=\"dataframe\">\n",
       "  <thead>\n",
       "    <tr style=\"text-align: right;\">\n",
       "      <th></th>\n",
       "      <th>s</th>\n",
       "    </tr>\n",
       "  </thead>\n",
       "  <tbody>\n",
       "    <tr>\n",
       "      <th>0</th>\n",
       "      <td>&lt;https://oceanexpert.org/institution/6223&gt;</td>\n",
       "    </tr>\n",
       "    <tr>\n",
       "      <th>1</th>\n",
       "      <td>&lt;https://oceanexpert.org/institution/19393&gt;</td>\n",
       "    </tr>\n",
       "    <tr>\n",
       "      <th>2</th>\n",
       "      <td>&lt;https://oceanexpert.org/institution/12745&gt;</td>\n",
       "    </tr>\n",
       "  </tbody>\n",
       "</table>\n",
       "</div>"
      ],
      "text/plain": [
       "                                             s\n",
       "0   <https://oceanexpert.org/institution/6223>\n",
       "1  <https://oceanexpert.org/institution/19393>\n",
       "2  <https://oceanexpert.org/institution/12745>"
      ]
     },
     "execution_count": 26,
     "metadata": {},
     "output_type": "execute_result"
    }
   ],
   "source": [
    "df.head()"
   ]
  },
  {
   "cell_type": "code",
   "execution_count": null,
   "id": "16868c1b-74cd-4b48-90dd-a63d11d81db8",
   "metadata": {},
   "outputs": [],
   "source": []
  }
 ],
 "metadata": {
  "interpreter": {
   "hash": "7a8db6ed8e976d23fd2e6a73e187eaf8286829efb4aa61f09abf75e2f487f948"
  },
  "kernelspec": {
   "name": "conda-env-.conda-kglab-py",
   "language": "python",
   "display_name": "Python [conda env:.conda-kglab] *"
  },
  "language_info": {
   "codemirror_mode": {
    "name": "ipython",
    "version": 3
   },
   "file_extension": ".py",
   "mimetype": "text/x-python",
   "name": "python",
   "nbconvert_exporter": "python",
   "pygments_lexer": "ipython3",
   "version": "3.8.10"
  }
 },
 "nbformat": 4,
 "nbformat_minor": 5
}