{
 "cells": [
  {
   "cell_type": "markdown",
   "id": "51aacee9",
   "metadata": {},
   "source": [
    "# Sitemap Assay\n",
    "\n",
    "The start of a simple notebook that could hosted for peeopl to test out their sitemaps (and robots.txt) files with.\n",
    "\n",
    "References:\n",
    "* [AdvTools](https://advertools.readthedocs.io/en/master/advertools.sitemaps.html)\n",
    "* [Sitemap viz](https://www.ayima.com/us/insights/analytics-and-cro/how-to-visualize-an-xml-sitemap-using-python.html)\n",
    "\n"
   ]
  },
  {
   "cell_type": "code",
   "execution_count": 1,
   "id": "ef1f0a5d",
   "metadata": {},
   "outputs": [],
   "source": [
    "import warnings\n",
    "warnings.simplefilter(action='ignore', category=FutureWarning)\n",
    "\n",
    "import advertools as adv\n",
    "import json\n",
    "import requests\n",
    "from pyld import jsonld\n",
    "from bs4 import BeautifulSoup\n",
    "import urllib.request\n",
    "import logging\n",
    "import traceback\n",
    "import kglab"
   ]
  },
  {
   "cell_type": "code",
   "execution_count": 2,
   "id": "ee61d05a",
   "metadata": {},
   "outputs": [
    {
     "name": "stderr",
     "output_type": "stream",
     "text": [
      "2022-07-25 16:49:16,130 | INFO | sitemaps.py:419 | sitemap_to_df | Getting https://raw.githubusercontent.com/iodepo/odis-arch/schema-dev-jm/code/notebooks/Exploration/data-pacificdatahub/sitemap.xml\n"
     ]
    },
    {
     "name": "stdout",
     "output_type": "stream",
     "text": [
      "CPU times: user 195 ms, sys: 11.2 ms, total: 206 ms\n",
      "Wall time: 635 ms\n"
     ]
    }
   ],
   "source": [
    "%%time \n",
    "\n",
    "# smurl = 'https://opencoredata.org/sitemap_0.xml'\n",
    "# smurl = 'https://www.bco-dmo.org/sitemap.xml'\n",
    "# smurl = 'https://opentopography.org/sitemap.xml'\n",
    "# smurl = 'https://www2.earthref.org/MagIC/contributions.sitemap.xml'\n",
    "# smurl = 'https://oceanscape.org/organisation-sitemap.xml'\n",
    "# smurl = 'https://catalogue.cioosatlantic.ca/sitemap/sitemap-1.xml'\n",
    "# smurl = 'https://obis.org/sitemap/sitemap_datasets.xml'\n",
    "# smurl = 'https://infohub.eurocean.net/sitemap/vessels'\n",
    "smurl = 'https://raw.githubusercontent.com/iodepo/odis-arch/schema-dev-jm/code/notebooks/Exploration/data-pacificdatahub/sitemap.xml'\n",
    "\n",
    "iow_sitemap = adv.sitemap_to_df(smurl) # load sitemap to dataframe via advertools\n",
    "# iow_sitemap.info()\n",
    "# iow_sitemap.head()"
   ]
  },
  {
   "cell_type": "markdown",
   "id": "8a46fe1a",
   "metadata": {},
   "source": [
    "## Analyzing the URLs\n",
    "\n",
    "We can quickly grab the unique URLs from the sitemap column and see how many unique sitemap.xml files we are working with\n",
    "\n",
    "We can also dive into the URL structure for the resources a bit."
   ]
  },
  {
   "cell_type": "code",
   "execution_count": 3,
   "id": "74b21613",
   "metadata": {
    "collapsed": false,
    "jupyter": {
     "outputs_hidden": false
    },
    "pycharm": {
     "name": "#%%\n"
    }
   },
   "outputs": [
    {
     "name": "stdout",
     "output_type": "stream",
     "text": [
      "1 unique sitemap XML file(s) pointing to 11567 unique resource(s).\n"
     ]
    },
    {
     "data": {
      "text/plain": "                                                 url scheme           netloc  \\\n0  https://pacificdata.org/data/dataset/06f61e4a-...  https  pacificdata.org   \n1  https://pacificdata.org/data/dataset/07a576ce-...  https  pacificdata.org   \n2  https://pacificdata.org/data/dataset/0c77bfef-...  https  pacificdata.org   \n3  https://pacificdata.org/data/dataset/100e2658-...  https  pacificdata.org   \n4  https://pacificdata.org/data/dataset/10th-aust...  https  pacificdata.org   \n\n                                                path               query  \\\n0  /data/dataset/06f61e4a-9ca0-47e3-8e9b-8f953274...  profiles=schemaorg   \n1  /data/dataset/07a576ce-f6b0-4f1f-bf66-670e4f63...  profiles=schemaorg   \n2  /data/dataset/0c77bfef-bbbc-43f9-9583-98bd4b9d...  profiles=schemaorg   \n3  /data/dataset/100e2658-58f3-49d7-b15e-0da98d2b...  profiles=schemaorg   \n4  /data/dataset/10th-australian-conference-on-co...  profiles=schemaorg   \n\n  fragment dir_1    dir_2                                              dir_3  \\\n0           data  dataset        06f61e4a-9ca0-47e3-8e9b-8f953274d26f.jsonld   \n1           data  dataset        07a576ce-f6b0-4f1f-bf66-670e4f63f9b5.jsonld   \n2           data  dataset        0c77bfef-bbbc-43f9-9583-98bd4b9d5b77.jsonld   \n3           data  dataset        100e2658-58f3-49d7-b15e-0da98d2b6bd9.jsonld   \n4           data  dataset  10th-australian-conference-on-coastal-and-ocea...   \n\n  query_profiles  \n0      schemaorg  \n1      schemaorg  \n2      schemaorg  \n3      schemaorg  \n4      schemaorg  ",
      "text/html": "<div>\n<style scoped>\n    .dataframe tbody tr th:only-of-type {\n        vertical-align: middle;\n    }\n\n    .dataframe tbody tr th {\n        vertical-align: top;\n    }\n\n    .dataframe thead th {\n        text-align: right;\n    }\n</style>\n<table border=\"1\" class=\"dataframe\">\n  <thead>\n    <tr style=\"text-align: right;\">\n      <th></th>\n      <th>url</th>\n      <th>scheme</th>\n      <th>netloc</th>\n      <th>path</th>\n      <th>query</th>\n      <th>fragment</th>\n      <th>dir_1</th>\n      <th>dir_2</th>\n      <th>dir_3</th>\n      <th>query_profiles</th>\n    </tr>\n  </thead>\n  <tbody>\n    <tr>\n      <th>0</th>\n      <td>https://pacificdata.org/data/dataset/06f61e4a-...</td>\n      <td>https</td>\n      <td>pacificdata.org</td>\n      <td>/data/dataset/06f61e4a-9ca0-47e3-8e9b-8f953274...</td>\n      <td>profiles=schemaorg</td>\n      <td></td>\n      <td>data</td>\n      <td>dataset</td>\n      <td>06f61e4a-9ca0-47e3-8e9b-8f953274d26f.jsonld</td>\n      <td>schemaorg</td>\n    </tr>\n    <tr>\n      <th>1</th>\n      <td>https://pacificdata.org/data/dataset/07a576ce-...</td>\n      <td>https</td>\n      <td>pacificdata.org</td>\n      <td>/data/dataset/07a576ce-f6b0-4f1f-bf66-670e4f63...</td>\n      <td>profiles=schemaorg</td>\n      <td></td>\n      <td>data</td>\n      <td>dataset</td>\n      <td>07a576ce-f6b0-4f1f-bf66-670e4f63f9b5.jsonld</td>\n      <td>schemaorg</td>\n    </tr>\n    <tr>\n      <th>2</th>\n      <td>https://pacificdata.org/data/dataset/0c77bfef-...</td>\n      <td>https</td>\n      <td>pacificdata.org</td>\n      <td>/data/dataset/0c77bfef-bbbc-43f9-9583-98bd4b9d...</td>\n      <td>profiles=schemaorg</td>\n      <td></td>\n      <td>data</td>\n      <td>dataset</td>\n      <td>0c77bfef-bbbc-43f9-9583-98bd4b9d5b77.jsonld</td>\n      <td>schemaorg</td>\n    </tr>\n    <tr>\n      <th>3</th>\n      <td>https://pacificdata.org/data/dataset/100e2658-...</td>\n      <td>https</td>\n      <td>pacificdata.org</td>\n      <td>/data/dataset/100e2658-58f3-49d7-b15e-0da98d2b...</td>\n      <td>profiles=schemaorg</td>\n      <td></td>\n      <td>data</td>\n      <td>dataset</td>\n      <td>100e2658-58f3-49d7-b15e-0da98d2b6bd9.jsonld</td>\n      <td>schemaorg</td>\n    </tr>\n    <tr>\n      <th>4</th>\n      <td>https://pacificdata.org/data/dataset/10th-aust...</td>\n      <td>https</td>\n      <td>pacificdata.org</td>\n      <td>/data/dataset/10th-australian-conference-on-co...</td>\n      <td>profiles=schemaorg</td>\n      <td></td>\n      <td>data</td>\n      <td>dataset</td>\n      <td>10th-australian-conference-on-coastal-and-ocea...</td>\n      <td>schemaorg</td>\n    </tr>\n  </tbody>\n</table>\n</div>"
     },
     "execution_count": 3,
     "metadata": {},
     "output_type": "execute_result"
    }
   ],
   "source": [
    "usm = iow_sitemap.sitemap.unique()\n",
    "uloc = iow_sitemap[\"loc\"].unique()\n",
    "print(\"{} unique sitemap XML file(s) pointing to {} unique resource(s).\".format(len(usm), len(uloc)))\n",
    "\n",
    "# Break down all the URL into theor path parts\n",
    "urldf = adv.url_to_df(list(iow_sitemap['loc']))\n",
    "urldf.head()"
   ]
  },
  {
   "cell_type": "markdown",
   "id": "9e806ba0",
   "metadata": {},
   "source": [
    "## Sample and test sitemap entries"
   ]
  },
  {
   "cell_type": "code",
   "execution_count": 4,
   "id": "20e46dd2",
   "metadata": {},
   "outputs": [],
   "source": [
    "# sample the previously generated url data frame\n",
    "sample_size = 5\n",
    "sample_df = urldf.groupby(\"dir_1\").sample(n=sample_size, random_state=1, replace=True)"
   ]
  },
  {
   "cell_type": "code",
   "execution_count": 5,
   "id": "b725c4ca",
   "metadata": {},
   "outputs": [
    {
     "data": {
      "text/plain": "                                                     url scheme  \\\n235    https://pacificdata.org/data/dataset/adb-borde...  https   \n5192   https://pacificdata.org/data/dataset/oai-www-s...  https   \n905    https://pacificdata.org/data/dataset/coastal-p...  https   \n10955  https://pacificdata.org/data/dataset/united-na...  https   \n7813   https://pacificdata.org/data/dataset/proceedin...  https   \n\n                netloc                                               path  \\\n235    pacificdata.org  /data/dataset/adb-border-project677d037e-7a2f-...   \n5192   pacificdata.org  /data/dataset/oai-www-spc-int-6dd83cee-fd2c-41...   \n905    pacificdata.org  /data/dataset/coastal-population-dataset-wsm.j...   \n10955  pacificdata.org  /data/dataset/united-nations-development-progr...   \n7813   pacificdata.org  /data/dataset/proceedings-of-the-ninth-session...   \n\n                    query fragment dir_1    dir_2  \\\n235    profiles=schemaorg           data  dataset   \n5192   profiles=schemaorg           data  dataset   \n905    profiles=schemaorg           data  dataset   \n10955  profiles=schemaorg           data  dataset   \n7813   profiles=schemaorg           data  dataset   \n\n                                                   dir_3 query_profiles  \n235    adb-border-project677d037e-7a2f-49f4-862d-1796...      schemaorg  \n5192   oai-www-spc-int-6dd83cee-fd2c-4183-a8e6-00b7a9...      schemaorg  \n905                coastal-population-dataset-wsm.jsonld      schemaorg  \n10955  united-nations-development-programme-terminal-...      schemaorg  \n7813   proceedings-of-the-ninth-session-tarawa-kiriba...      schemaorg  ",
      "text/html": "<div>\n<style scoped>\n    .dataframe tbody tr th:only-of-type {\n        vertical-align: middle;\n    }\n\n    .dataframe tbody tr th {\n        vertical-align: top;\n    }\n\n    .dataframe thead th {\n        text-align: right;\n    }\n</style>\n<table border=\"1\" class=\"dataframe\">\n  <thead>\n    <tr style=\"text-align: right;\">\n      <th></th>\n      <th>url</th>\n      <th>scheme</th>\n      <th>netloc</th>\n      <th>path</th>\n      <th>query</th>\n      <th>fragment</th>\n      <th>dir_1</th>\n      <th>dir_2</th>\n      <th>dir_3</th>\n      <th>query_profiles</th>\n    </tr>\n  </thead>\n  <tbody>\n    <tr>\n      <th>235</th>\n      <td>https://pacificdata.org/data/dataset/adb-borde...</td>\n      <td>https</td>\n      <td>pacificdata.org</td>\n      <td>/data/dataset/adb-border-project677d037e-7a2f-...</td>\n      <td>profiles=schemaorg</td>\n      <td></td>\n      <td>data</td>\n      <td>dataset</td>\n      <td>adb-border-project677d037e-7a2f-49f4-862d-1796...</td>\n      <td>schemaorg</td>\n    </tr>\n    <tr>\n      <th>5192</th>\n      <td>https://pacificdata.org/data/dataset/oai-www-s...</td>\n      <td>https</td>\n      <td>pacificdata.org</td>\n      <td>/data/dataset/oai-www-spc-int-6dd83cee-fd2c-41...</td>\n      <td>profiles=schemaorg</td>\n      <td></td>\n      <td>data</td>\n      <td>dataset</td>\n      <td>oai-www-spc-int-6dd83cee-fd2c-4183-a8e6-00b7a9...</td>\n      <td>schemaorg</td>\n    </tr>\n    <tr>\n      <th>905</th>\n      <td>https://pacificdata.org/data/dataset/coastal-p...</td>\n      <td>https</td>\n      <td>pacificdata.org</td>\n      <td>/data/dataset/coastal-population-dataset-wsm.j...</td>\n      <td>profiles=schemaorg</td>\n      <td></td>\n      <td>data</td>\n      <td>dataset</td>\n      <td>coastal-population-dataset-wsm.jsonld</td>\n      <td>schemaorg</td>\n    </tr>\n    <tr>\n      <th>10955</th>\n      <td>https://pacificdata.org/data/dataset/united-na...</td>\n      <td>https</td>\n      <td>pacificdata.org</td>\n      <td>/data/dataset/united-nations-development-progr...</td>\n      <td>profiles=schemaorg</td>\n      <td></td>\n      <td>data</td>\n      <td>dataset</td>\n      <td>united-nations-development-programme-terminal-...</td>\n      <td>schemaorg</td>\n    </tr>\n    <tr>\n      <th>7813</th>\n      <td>https://pacificdata.org/data/dataset/proceedin...</td>\n      <td>https</td>\n      <td>pacificdata.org</td>\n      <td>/data/dataset/proceedings-of-the-ninth-session...</td>\n      <td>profiles=schemaorg</td>\n      <td></td>\n      <td>data</td>\n      <td>dataset</td>\n      <td>proceedings-of-the-ninth-session-tarawa-kiriba...</td>\n      <td>schemaorg</td>\n    </tr>\n  </tbody>\n</table>\n</div>"
     },
     "execution_count": 5,
     "metadata": {},
     "output_type": "execute_result"
    }
   ],
   "source": [
    "sample_df.head()"
   ]
  },
  {
   "cell_type": "markdown",
   "id": "c58bee8f",
   "metadata": {},
   "source": [
    "### See if the URLs resolve"
   ]
  },
  {
   "cell_type": "code",
   "execution_count": 6,
   "id": "0c22245d",
   "metadata": {},
   "outputs": [
    {
     "name": "stdout",
     "output_type": "stream",
     "text": [
      "URL: https://pacificdata.org/data/dataset/adb-border-project677d037e-7a2f-49f4-862d-17962bd1d469.jsonld?profiles=schemaorg \n",
      "URL: https://pacificdata.org/data/dataset/oai-www-spc-int-6dd83cee-fd2c-4183-a8e6-00b7a974ee8c.jsonld?profiles=schemaorg \n",
      "URL: https://pacificdata.org/data/dataset/coastal-population-dataset-wsm.jsonld?profiles=schemaorg \n",
      "URL: https://pacificdata.org/data/dataset/united-nations-development-programme-terminal-report-south-pacific-disaster-reduction-pr-1621.jsonld?profiles=schemaorg \n",
      "URL: https://pacificdata.org/data/dataset/proceedings-of-the-ninth-session-tarawa-kiribati-20-28-october-1980-2769.jsonld?profiles=schemaorg \n"
     ]
    }
   ],
   "source": [
    "import urllib.request\n",
    "import requests\n",
    "\n",
    "ul = sample_df[\"url\"]\n",
    "\n",
    "for item in ul:\n",
    "    # user_agent = 'Mozilla/5.0 (Windows; U; Windows NT 5.1; en-US; rv:1.9.0.7) Gecko/2009021910 Firefox/3.0.7'\n",
    "    # headers={'User-Agent':user_agent,}\n",
    "\n",
    "    headers= {'User-Agent': 'Mozilla/5.0 (X11; Linux x86_64) '\n",
    "                           'AppleWebKit/537.11 (KHTML, like Gecko) '\n",
    "                           'Chrome/23.0.1271.64 Safari/537.11',\n",
    "             'Accept': 'text/html,application/xhtml+xml,application/xml;q=0.9,*/*;q=0.8',\n",
    "             'Accept-Charset': 'ISO-8859-1,utf-8;q=0.7,*;q=0.3',\n",
    "             'Accept-Encoding': 'none',\n",
    "             'Accept-Language': 'en-US,en;q=0.8',\n",
    "             'Connection': 'keep-alive'}\n",
    "\n",
    "    try:\n",
    "        # x = requests.get(item)\n",
    "        # code = x.status_code\n",
    "        request=urllib.request.Request(url=item, headers=headers) #The assembled request\n",
    "        with urllib.request.urlopen(request) as response:\n",
    "            info = response.info()\n",
    "            dtype = info.get_content_type()    # -> text/html\n",
    "         # headers = x.headers()\n",
    "        # print(\"URL: {} \\ninfo : {}\\n --\".format(item, info))\n",
    "        print(\"URL: {} \".format(item))\n",
    "    except Exception as e:\n",
    "        # code = x.status_code\n",
    "        # dtype = info.get_content_type()\n",
    "\n",
    "        print(\"Exception on: {} \\nerrors : {}\\n --\".format(item, str(e)))\n"
   ]
  },
  {
   "cell_type": "markdown",
   "id": "ed2bcab8",
   "metadata": {},
   "source": [
    "### See if they have JSON-LD (static check only, no dynamically loaded JSON-LD yet)"
   ]
  },
  {
   "cell_type": "code",
   "execution_count": 13,
   "id": "cd25210a",
   "metadata": {},
   "outputs": [
    {
     "name": "stdout",
     "output_type": "stream",
     "text": [
      "JSON byte size: 4689 \n",
      "JSON byte size: 3931 \n",
      "JSON byte size: 7732 \n",
      "JSON byte size: 3869 \n",
      "JSON byte size: 3576 \n"
     ]
    }
   ],
   "source": [
    "ul = sample_df[\"url\"]\n",
    "\n",
    "headers= {'User-Agent': 'Mozilla/5.0 (X11; Linux x86_64) '\n",
    "                        'AppleWebKit/537.11 (KHTML, like Gecko) '\n",
    "                        'Chrome/23.0.1271.64 Safari/537.11',\n",
    "          'Accept': 'application/ld+json,text/html,application/xhtml+xml,application/xml;q=0.9,*/*;q=0.8',\n",
    "          'Accept-Charset': 'ISO-8859-1,utf-8;q=0.7,*;q=0.3',\n",
    "          'Accept-Encoding': 'none',\n",
    "          'Accept-Language': 'en-US,en;q=0.8',\n",
    "          'Connection': 'keep-alive'}\n",
    "\n",
    "for item in ul:\n",
    "    request=urllib.request.Request(url=item, headers=headers)\n",
    "    # p = urllib.request.urlopen(request).read()\n",
    "    html = urllib.request.urlopen(request).read()\n",
    "    soup = BeautifulSoup(html, \"html.parser\")\n",
    "    p = soup.find('script', {'type':'application/ld+json'})\n",
    "    try:\n",
    "        # print(\"JSON byte size: {} \".format(len(p)))\n",
    "        print(\"JSON byte size: {} \".format(len(p.contents[0])))\n",
    "    except Exception as e:\n",
    "        logging.error(traceback.format_exc())"
   ]
  },
  {
   "cell_type": "markdown",
   "id": "b8875457",
   "metadata": {},
   "source": [
    "### Check JSON-LD structure (static check only, no dynamically loaded JSON-LD yet)"
   ]
  },
  {
   "cell_type": "code",
   "execution_count": 19,
   "id": "cd83aa38-7d5f-48d1-bdb2-12cadd72a9dc",
   "metadata": {},
   "outputs": [
    {
     "name": "stdout",
     "output_type": "stream",
     "text": [
      "{'@context': {'brick': 'https://brickschema.org/schema/Brick#', 'csvw': 'http://www.w3.org/ns/csvw#', 'dc': 'http://purl.org/dc/elements/1.1/', 'dcam': 'http://purl.org/dc/dcam/', 'dcat': 'http://www.w3.org/ns/dcat#', 'dcmitype': 'http://purl.org/dc/dcmitype/', 'dcterms': 'http://purl.org/dc/terms/', 'doap': 'http://usefulinc.com/ns/doap#', 'foaf': 'http://xmlns.com/foaf/0.1/', 'odrl': 'http://www.w3.org/ns/odrl/2/', 'org': 'http://www.w3.org/ns/org#', 'owl': 'http://www.w3.org/2002/07/owl#', 'prof': 'http://www.w3.org/ns/dx/prof/', 'prov': 'http://www.w3.org/ns/prov#', 'qb': 'http://purl.org/linked-data/cube#', 'rdf': 'http://www.w3.org/1999/02/22-rdf-syntax-ns#', 'rdfs': 'http://www.w3.org/2000/01/rdf-schema#', 'schema': 'http://schema.org/', 'sh': 'http://www.w3.org/ns/shacl#', 'skos': 'http://www.w3.org/2004/02/skos/core#', 'sosa': 'http://www.w3.org/ns/sosa/', 'ssn': 'http://www.w3.org/ns/ssn/', 'time': 'http://www.w3.org/2006/time#', 'vann': 'http://purl.org/vocab/vann/', 'void': 'http://rdfs.org/ns/void#', 'xsd': 'http://www.w3.org/2001/XMLSchema#'}, '@graph': [{'@id': 'https://pacificdata.org/dataset/677d037e-7a2f-49f4-862d-17962bd1d469/resource/3dafd147-6352-4d1c-9b95-7e4a72b14b76', '@type': 'schema:DataDownload', 'schema:description': 'The objectives of the Wutung Pilot Border Trade Investment Development Project (PBTIDP) are to remove the infrastructure bottleneck on the transport corridor and to improve the investment environment in West Sepik Province (WSP) so that trade opportunities can be opened up and potential businesses promoted in the region. The Project aims to develop WSP into a dynamic growth centre for Papua New Guinea (PNG) that can drive the development of the Momase Region including East Sepik, Madang and Morobe Provinces and to other parts of PNG. ', 'schema:encodingFormat': 'PDF', 'schema:name': 'Wutung Pilot Border Trade & Investment Development Project', 'schema:url': 'https://pacific-data.sprep.org/system/files/Papua%2520New%2520Guinea%2520Pilot%2520Border%2520Trade%2520and%2520Investment%2520Development%2520Program_1.pdf'}, {'@id': 'https://pacificdata.org/dataset/677d037e-7a2f-49f4-862d-17962bd1d469', '@type': 'schema:Dataset', 'schema:dateModified': ['2022-02-11T00:00:00', '2022-02-11'], 'schema:datePublished': ['2021-07-19T00:00:00', '2021-07-19'], 'schema:description': 'The objectives of the Wutung Pilot Border Trade Investment Development Project\\r\\n(PBTIDP) are to remove the infrastructure bottleneck on the transport corridor and to\\r\\nimprove the investment environment in West Sepik Province (WSP) so that trade\\r\\nopportunities can be opened up and potential businesses promoted in the region. The\\r\\nProject aims to develop WSP into a dynamic growth centre for Papua New Guinea\\r\\n(PNG) that can drive the development of the Momase Region including East Sepik,\\r\\nMadang and Morobe Provinces and to other parts of PNG.', 'schema:distribution': {'@id': 'https://pacificdata.org/dataset/677d037e-7a2f-49f4-862d-17962bd1d469/resource/3dafd147-6352-4d1c-9b95-7e4a72b14b76'}, 'schema:includedInDataCatalog': {'@id': '_:Na05577059a8a4c58900e8b4f3081a69f'}, 'schema:keywords': ['png', 'maritime', 'border', 'momase'], 'schema:license': 'https://pacific-data.sprep.org/dataset/data-portal-license-agreements/resource/de2a56f5-a565-481a-8589-406dc40b5588', 'schema:name': 'ADB Border Project', 'schema:publisher': {'@id': '_:Nafd52d801ee14c75ae7f9f236005ce38'}, 'schema:url': 'https://pacificdata.org/data/dataset/adb-border-project677d037e-7a2f-49f4-862d-17962bd1d469'}, {'@id': '_:Nafd52d801ee14c75ae7f9f236005ce38', '@type': 'schema:Organization', 'schema:contactPoint': {'@id': '_:N6da2e9e10a86407090be8b5b55d05971'}, 'schema:name': \"['Asian Development Bank']\"}, {'@id': '_:N6da2e9e10a86407090be8b5b55d05971', '@type': 'schema:ContactPoint', 'schema:contactType': 'customer service', 'schema:email': 'inform@sprep.org', 'schema:name': \"['Asian Development Bank']\", 'schema:url': 'https://pacificdata.org'}, {'@id': '_:Na05577059a8a4c58900e8b4f3081a69f', '@type': 'schema:DataCatalog', 'schema:description': '', 'schema:name': 'Pacific Data Hub', 'schema:url': 'https://pacificdata.org'}]}\n",
      "{'@context': {'brick': 'https://brickschema.org/schema/Brick#', 'csvw': 'http://www.w3.org/ns/csvw#', 'dc': 'http://purl.org/dc/elements/1.1/', 'dcam': 'http://purl.org/dc/dcam/', 'dcat': 'http://www.w3.org/ns/dcat#', 'dcmitype': 'http://purl.org/dc/dcmitype/', 'dcterms': 'http://purl.org/dc/terms/', 'doap': 'http://usefulinc.com/ns/doap#', 'foaf': 'http://xmlns.com/foaf/0.1/', 'odrl': 'http://www.w3.org/ns/odrl/2/', 'org': 'http://www.w3.org/ns/org#', 'owl': 'http://www.w3.org/2002/07/owl#', 'prof': 'http://www.w3.org/ns/dx/prof/', 'prov': 'http://www.w3.org/ns/prov#', 'qb': 'http://purl.org/linked-data/cube#', 'rdf': 'http://www.w3.org/1999/02/22-rdf-syntax-ns#', 'rdfs': 'http://www.w3.org/2000/01/rdf-schema#', 'schema': 'http://schema.org/', 'sh': 'http://www.w3.org/ns/shacl#', 'skos': 'http://www.w3.org/2004/02/skos/core#', 'sosa': 'http://www.w3.org/ns/sosa/', 'ssn': 'http://www.w3.org/ns/ssn/', 'time': 'http://www.w3.org/2006/time#', 'vann': 'http://purl.org/vocab/vann/', 'void': 'http://rdfs.org/ns/void#', 'xsd': 'http://www.w3.org/2001/XMLSchema#'}, '@graph': [{'@id': 'https://pacificdata.org/dataset/oai-www-spc-int-6dd83cee-fd2c-4183-a8e6-00b7a974ee8c/resource/e480be2b-e1db-4746-9255-3979ada78faf', '@type': 'schema:DataDownload', 'schema:datePublished': '2022-01-11T03:26:42+00:00', 'schema:encodingFormat': 'PDF', 'schema:name': 'IEC BCC Manual ENG', 'schema:url': 'https://purl.org/spc/digilib/doc/zk5uz'}, {'@id': 'https://pacificdata.org/dataset/oai-www-spc-int-6dd83cee-fd2c-4183-a8e6-00b7a974ee8c', '@type': 'schema:Dataset', 'schema:dateModified': ['2022-01-11T00:00:00', '2022-01-11'], 'schema:datePublished': ['2008-01-01T00:00:00', '2008'], 'schema:description': 'Kennedy L. 2008. Creating an effective communication project in the Pacific Region: for HIV/STI and other sexual and reproductive health projects. Noumea, New Caledonia: Secretariat of the Pacific Community. 112 p. ', 'schema:distribution': {'@id': 'https://pacificdata.org/dataset/oai-www-spc-int-6dd83cee-fd2c-4183-a8e6-00b7a974ee8c/resource/e480be2b-e1db-4746-9255-3979ada78faf'}, 'schema:identifier': \"['oai:www.spc.int:6dd83cee-fd2c-4183-a8e6-00b7a974ee8c', 'https://purl.org/spc/digilib/doc/zk5uz']\", 'schema:inLanguage': 'en', 'schema:includedInDataCatalog': {'@id': '_:Nf8217206aa0449c68a3329ebf9ad556f'}, 'schema:keywords': ['hiv-infections', 'sexually-transmitted-diseases', 'reproductive-health', 'pacific-area'], 'schema:license': 'License not specified', 'schema:name': 'Creating an effective communication project in the Pacific Region: for HIV/STI and other sexual and reproductive health projects', 'schema:publisher': {'@id': '_:Nf0a520a03a764cce961b448a937caf70'}, 'schema:url': 'https://pacificdata.org/data/dataset/oai-www-spc-int-6dd83cee-fd2c-4183-a8e6-00b7a974ee8c'}, {'@id': '_:Nf0a520a03a764cce961b448a937caf70', '@type': 'schema:Organization', 'schema:contactPoint': {'@id': '_:Nbf77d549cef84bebbb73a8497ced0ffc'}, 'schema:name': \"['Secretariat of the Pacific Community']\"}, {'@id': '_:Nbf77d549cef84bebbb73a8497ced0ffc', '@type': 'schema:ContactPoint', 'schema:contactType': 'customer service', 'schema:name': \"['Secretariat of the Pacific Community']\", 'schema:url': 'https://pacificdata.org'}, {'@id': '_:Nf8217206aa0449c68a3329ebf9ad556f', '@type': 'schema:DataCatalog', 'schema:description': '', 'schema:name': 'Pacific Data Hub', 'schema:url': 'https://pacificdata.org'}]}\n",
      "{'@context': {'brick': 'https://brickschema.org/schema/Brick#', 'csvw': 'http://www.w3.org/ns/csvw#', 'dc': 'http://purl.org/dc/elements/1.1/', 'dcam': 'http://purl.org/dc/dcam/', 'dcat': 'http://www.w3.org/ns/dcat#', 'dcmitype': 'http://purl.org/dc/dcmitype/', 'dcterms': 'http://purl.org/dc/terms/', 'doap': 'http://usefulinc.com/ns/doap#', 'foaf': 'http://xmlns.com/foaf/0.1/', 'odrl': 'http://www.w3.org/ns/odrl/2/', 'org': 'http://www.w3.org/ns/org#', 'owl': 'http://www.w3.org/2002/07/owl#', 'prof': 'http://www.w3.org/ns/dx/prof/', 'prov': 'http://www.w3.org/ns/prov#', 'qb': 'http://purl.org/linked-data/cube#', 'rdf': 'http://www.w3.org/1999/02/22-rdf-syntax-ns#', 'rdfs': 'http://www.w3.org/2000/01/rdf-schema#', 'schema': 'http://schema.org/', 'sh': 'http://www.w3.org/ns/shacl#', 'skos': 'http://www.w3.org/2004/02/skos/core#', 'sosa': 'http://www.w3.org/ns/sosa/', 'ssn': 'http://www.w3.org/ns/ssn/', 'time': 'http://www.w3.org/2006/time#', 'vann': 'http://purl.org/vocab/vann/', 'void': 'http://rdfs.org/ns/void#', 'xsd': 'http://www.w3.org/2001/XMLSchema#'}, '@graph': [{'@id': 'https://pacificdata.org/dataset/0e332c97-9c6c-4c02-87d1-0b84aaaf35b5/resource/32dc79f1-3e36-4a7e-a1ac-487b1582dfd6', '@type': 'schema:DataDownload', 'schema:contentSize': 4630, 'schema:encodingFormat': 'zipped tif', 'schema:name': 'WSM 2011 PopGrid', 'schema:url': 'https://pacificdata.org/data/dataset/0e332c97-9c6c-4c02-87d1-0b84aaaf35b5/resource/32dc79f1-3e36-4a7e-a1ac-487b1582dfd6/download/gpsgrid.zip'}, {'@id': 'https://pacificdata.org/dataset/0e332c97-9c6c-4c02-87d1-0b84aaaf35b5/resource/17dbeff1-640c-4840-a7b2-d21bf075a808', '@type': 'schema:DataDownload', 'schema:contentSize': 1161653, 'schema:encodingFormat': 'GeoJSON', 'schema:name': 'WSM 5km Coastal Buffer', 'schema:url': 'https://pacificdata.org/data/dataset/0e332c97-9c6c-4c02-87d1-0b84aaaf35b5/resource/17dbeff1-640c-4840-a7b2-d21bf075a808/download/wsm5kmbuff_4326.geojson'}, {'@id': 'https://pacificdata.org/dataset/0e332c97-9c6c-4c02-87d1-0b84aaaf35b5/resource/b4efc7e0-f2f4-47ee-828f-f592668dd048', '@type': 'schema:DataDownload', 'schema:contentSize': 1764119, 'schema:encodingFormat': 'GeoJSON', 'schema:name': 'WSM EA boundaries', 'schema:url': 'https://pacificdata.org/data/dataset/0e332c97-9c6c-4c02-87d1-0b84aaaf35b5/resource/b4efc7e0-f2f4-47ee-828f-f592668dd048/download/samoa_eas_4326.geojson'}, {'@id': 'https://pacificdata.org/dataset/0e332c97-9c6c-4c02-87d1-0b84aaaf35b5', '@type': 'schema:Dataset', 'schema:dateModified': '2019-10-30T00:37:41.131429', 'schema:datePublished': '2019-10-30T00:27:33.008760', 'schema:description': 'Spatial datasets utilized to conduct the spatial analysis and additional information from the research article: Coastal proximity of populations in 22 Pacific Island Countries and Territories. https://journals.plos.org/plosone/article?id=10.1371/journal.pone.0223249 https://sdd.spc.int/mapping-coastal', 'schema:distribution': [{'@id': 'https://pacificdata.org/dataset/0e332c97-9c6c-4c02-87d1-0b84aaaf35b5/resource/17dbeff1-640c-4840-a7b2-d21bf075a808'}, {'@id': 'https://pacificdata.org/dataset/0e332c97-9c6c-4c02-87d1-0b84aaaf35b5/resource/32dc79f1-3e36-4a7e-a1ac-487b1582dfd6'}, {'@id': 'https://pacificdata.org/dataset/0e332c97-9c6c-4c02-87d1-0b84aaaf35b5/resource/7992c220-a8af-4325-aaa6-b5d889a396b2'}, {'@id': 'https://pacificdata.org/dataset/0e332c97-9c6c-4c02-87d1-0b84aaaf35b5/resource/5cb323ea-03ca-40ee-90c2-286b9cbf7cce'}, {'@id': 'https://pacificdata.org/dataset/0e332c97-9c6c-4c02-87d1-0b84aaaf35b5/resource/b4efc7e0-f2f4-47ee-828f-f592668dd048'}], 'schema:inLanguage': 'en', 'schema:includedInDataCatalog': {'@id': '_:Nf80260e9646144aeadf79d3df5d9eb37'}, 'schema:keywords': ['coastal-communities', 'population-census', 'statistics', 'population', 'demographics'], 'schema:license': 'http://www.opendefinition.org/licenses/cc-by', 'schema:name': 'Coastal proximity of populations in 22 Pacific Island Countries and Territories - Dataset - Western Samoa', 'schema:publisher': {'@id': 'https://pacificdata.org/organization/c9a3d7ed-a5fc-4b74-b4fd-5fc1fd939cd0'}, 'schema:spatialCoverage': {'@id': '_:N23128610821e4aec8f6826b098dd5d2c'}, 'schema:url': 'https://pacificdata.org/data/dataset/coastal-population-dataset-wsm'}, {'@id': '_:Nf80260e9646144aeadf79d3df5d9eb37', '@type': 'schema:DataCatalog', 'schema:description': '', 'schema:name': 'Pacific Data Hub', 'schema:url': 'https://pacificdata.org'}, {'@id': '_:N23128610821e4aec8f6826b098dd5d2c', '@type': 'schema:Place', 'schema:geo': {'@id': '_:Ne6a9cf211f704180a8cfe8420b0a7537'}}, {'@id': '_:Ne6a9cf211f704180a8cfe8420b0a7537', '@type': 'schema:GeoShape', 'schema:polygon': '{\"type\": \"Polygon\", \"coordinates\": [[[185.73262352545555, -10.960825304544088], [185.83540296817264, -10.966479199255517], [186.2253093499468, -11.048131664144762], [186.24425089876004, -11.052211701208876], [187.18791526387852, -11.686714505070142], [187.81913040534405, -12.016102606050254], [188.76280604526292, -12.490810894706897], [189.45734306982706, -12.61110281404342], [189.23725508545408, -13.251170035468647], [189.05463753939122, -13.835136134824666], [188.92664529104766, -14.08506430727175], [188.30555485567217, -15.426946490488035], [188.15246754274304, -15.878383591829163], [187.7644104962475, -15.47973862094048], [187.36163802477523, -15.105556698083035], [186.33975376672305, -14.538357068823572], [185.54072296139566, -14.22202499795523], [185.48860552842245, -14.154640220669506], [185.63417879071878, -12.083709803664405], [185.73262352545555, -10.960825304544088]]]}'}, {'@id': 'https://pacificdata.org/dataset/0e332c97-9c6c-4c02-87d1-0b84aaaf35b5/resource/7992c220-a8af-4325-aaa6-b5d889a396b2', '@type': 'schema:DataDownload', 'schema:contentSize': 1161653, 'schema:encodingFormat': 'GeoJSON', 'schema:name': 'WSM 1km Coastal Buffer', 'schema:url': 'https://pacificdata.org/data/dataset/0e332c97-9c6c-4c02-87d1-0b84aaaf35b5/resource/7992c220-a8af-4325-aaa6-b5d889a396b2/download/wsm1kmbuff_4326.geojson'}, {'@id': 'https://pacificdata.org/dataset/0e332c97-9c6c-4c02-87d1-0b84aaaf35b5/resource/5cb323ea-03ca-40ee-90c2-286b9cbf7cce', '@type': 'schema:DataDownload', 'schema:contentSize': 417023, 'schema:encodingFormat': 'GeoJSON', 'schema:name': 'WSM 10km Coastal Buffer', 'schema:url': 'https://pacificdata.org/data/dataset/0e332c97-9c6c-4c02-87d1-0b84aaaf35b5/resource/5cb323ea-03ca-40ee-90c2-286b9cbf7cce/download/wsm10kmbuff_4326.geojson'}, {'@id': 'https://pacificdata.org/organization/c9a3d7ed-a5fc-4b74-b4fd-5fc1fd939cd0', '@type': 'schema:Organization', 'schema:contactPoint': {'@id': '_:N1afdd51baf6f4289b6fde205f2165265'}, 'schema:name': 'SPC Statistics for Development Division (SDD) '}, {'@id': '_:N1afdd51baf6f4289b6fde205f2165265', '@type': 'schema:ContactPoint', 'schema:contactType': 'customer service', 'schema:url': 'https://pacificdata.org'}]}\n",
      "{'@context': {'brick': 'https://brickschema.org/schema/Brick#', 'csvw': 'http://www.w3.org/ns/csvw#', 'dc': 'http://purl.org/dc/elements/1.1/', 'dcam': 'http://purl.org/dc/dcam/', 'dcat': 'http://www.w3.org/ns/dcat#', 'dcmitype': 'http://purl.org/dc/dcmitype/', 'dcterms': 'http://purl.org/dc/terms/', 'doap': 'http://usefulinc.com/ns/doap#', 'foaf': 'http://xmlns.com/foaf/0.1/', 'odrl': 'http://www.w3.org/ns/odrl/2/', 'org': 'http://www.w3.org/ns/org#', 'owl': 'http://www.w3.org/2002/07/owl#', 'prof': 'http://www.w3.org/ns/dx/prof/', 'prov': 'http://www.w3.org/ns/prov#', 'qb': 'http://purl.org/linked-data/cube#', 'rdf': 'http://www.w3.org/1999/02/22-rdf-syntax-ns#', 'rdfs': 'http://www.w3.org/2000/01/rdf-schema#', 'schema': 'http://schema.org/', 'sh': 'http://www.w3.org/ns/shacl#', 'skos': 'http://www.w3.org/2004/02/skos/core#', 'sosa': 'http://www.w3.org/ns/sosa/', 'ssn': 'http://www.w3.org/ns/ssn/', 'time': 'http://www.w3.org/2006/time#', 'vann': 'http://purl.org/vocab/vann/', 'void': 'http://rdfs.org/ns/void#', 'xsd': 'http://www.w3.org/2001/XMLSchema#'}, '@graph': [{'@id': 'https://pacificdata.org/dataset/f3576d40-e846-4c7d-8508-130545eed0da/resource/d78eedf8-7323-40ae-bebb-a0147468ff8a', '@type': 'schema:DataDownload', 'schema:datePublished': '2001-08-13T00:00:00', 'schema:encodingFormat': 'PDF', 'schema:name': 'DM0039', 'schema:url': 'http://library.gem.spc.int/#/document/1621'}, {'@id': 'https://pacificdata.org/organization/3c176e17-ad59-480a-904a-4b666f528ba2', '@type': 'schema:Organization', 'schema:contactPoint': {'@id': '_:Ne37673ae79f5421d953aef45d1243353'}, 'schema:name': 'SPC Geoscience, Energy and Maritime Division (GEM)'}, {'@id': '_:Ne37673ae79f5421d953aef45d1243353', '@type': 'schema:ContactPoint', 'schema:contactType': 'customer service', 'schema:name': \"['SPDRP', 'Disaster Reduction Programme', 'UNDP', 'UNDP South Pacific Disaster Reduction Programme (SPDRP)']\", 'schema:url': 'https://pacificdata.org'}, {'@id': 'https://pacificdata.org/dataset/f3576d40-e846-4c7d-8508-130545eed0da', '@type': 'schema:Dataset', 'schema:dateModified': ['2001-08-13T00:00:00', '2001-08-13'], 'schema:datePublished': ['2001', '2001-01-01T00:00:00'], 'schema:description': 'United Nations development programme - terminal report, South Pacific disaster reduction programme Pacific Island Countries - project findings and recommendations ', 'schema:distribution': {'@id': 'https://pacificdata.org/dataset/f3576d40-e846-4c7d-8508-130545eed0da/resource/d78eedf8-7323-40ae-bebb-a0147468ff8a'}, 'schema:identifier': \"['DM0039']\", 'schema:includedInDataCatalog': {'@id': '_:Nfcdd97f5f12b4401816a88d6443a5e46'}, 'schema:keywords': ['sopac-commission', 'disaster-reduction-reports'], 'schema:license': 'License not specified', 'schema:name': 'United Nations development programme - terminal report, South Pacific disaster reduction programme Pacific Island Countries - project findings and recommendations', 'schema:publisher': {'@id': 'https://pacificdata.org/organization/3c176e17-ad59-480a-904a-4b666f528ba2'}, 'schema:url': 'https://pacificdata.org/data/dataset/united-nations-development-programme-terminal-report-south-pacific-disaster-reduction-pr-1621'}, {'@id': '_:Nfcdd97f5f12b4401816a88d6443a5e46', '@type': 'schema:DataCatalog', 'schema:description': '', 'schema:name': 'Pacific Data Hub', 'schema:url': 'https://pacificdata.org'}]}\n",
      "{'@context': {'brick': 'https://brickschema.org/schema/Brick#', 'csvw': 'http://www.w3.org/ns/csvw#', 'dc': 'http://purl.org/dc/elements/1.1/', 'dcam': 'http://purl.org/dc/dcam/', 'dcat': 'http://www.w3.org/ns/dcat#', 'dcmitype': 'http://purl.org/dc/dcmitype/', 'dcterms': 'http://purl.org/dc/terms/', 'doap': 'http://usefulinc.com/ns/doap#', 'foaf': 'http://xmlns.com/foaf/0.1/', 'odrl': 'http://www.w3.org/ns/odrl/2/', 'org': 'http://www.w3.org/ns/org#', 'owl': 'http://www.w3.org/2002/07/owl#', 'prof': 'http://www.w3.org/ns/dx/prof/', 'prov': 'http://www.w3.org/ns/prov#', 'qb': 'http://purl.org/linked-data/cube#', 'rdf': 'http://www.w3.org/1999/02/22-rdf-syntax-ns#', 'rdfs': 'http://www.w3.org/2000/01/rdf-schema#', 'schema': 'http://schema.org/', 'sh': 'http://www.w3.org/ns/shacl#', 'skos': 'http://www.w3.org/2004/02/skos/core#', 'sosa': 'http://www.w3.org/ns/sosa/', 'ssn': 'http://www.w3.org/ns/ssn/', 'time': 'http://www.w3.org/2006/time#', 'vann': 'http://purl.org/vocab/vann/', 'void': 'http://rdfs.org/ns/void#', 'xsd': 'http://www.w3.org/2001/XMLSchema#'}, '@graph': [{'@id': 'https://pacificdata.org/organization/3c176e17-ad59-480a-904a-4b666f528ba2', '@type': 'schema:Organization', 'schema:contactPoint': {'@id': '_:N8621976bd24d48cf959f0b0901541c10'}, 'schema:name': 'SPC Geoscience, Energy and Maritime Division (GEM)'}, {'@id': '_:N8621976bd24d48cf959f0b0901541c10', '@type': 'schema:ContactPoint', 'schema:contactType': 'customer service', 'schema:name': \"['J V Eade', 'J V Eade (Compiler)']\", 'schema:url': 'https://pacificdata.org'}, {'@id': 'https://pacificdata.org/dataset/decac935-aa2a-43ff-8eeb-f733d977554c/resource/86b2f73d-23bd-4cc7-b990-a80085a6ca35', '@type': 'schema:DataDownload', 'schema:datePublished': '2004-03-18T00:00:00', 'schema:encodingFormat': 'PDF', 'schema:name': 'PS0009', 'schema:url': 'http://library.gem.spc.int/#/document/2769'}, {'@id': 'https://pacificdata.org/dataset/decac935-aa2a-43ff-8eeb-f733d977554c', '@type': 'schema:Dataset', 'schema:dateModified': ['2004-03-18T00:00:00', '2004-03-18'], 'schema:datePublished': ['2004', '2004-01-01T00:00:00'], 'schema:description': 'Proceedings of the ninth session, Tarawa, Kiribati, 20-28 October 1980 ', 'schema:distribution': {'@id': 'https://pacificdata.org/dataset/decac935-aa2a-43ff-8eeb-f733d977554c/resource/86b2f73d-23bd-4cc7-b990-a80085a6ca35'}, 'schema:identifier': \"['PS0009']\", 'schema:includedInDataCatalog': {'@id': '_:N44c08f5b570448cb865181f14f2d14ce'}, 'schema:keywords': ['sopac-commission', 'proceedings'], 'schema:license': 'License not specified', 'schema:name': 'Proceedings of the ninth session, Tarawa, Kiribati, 20-28 October 1980', 'schema:publisher': {'@id': 'https://pacificdata.org/organization/3c176e17-ad59-480a-904a-4b666f528ba2'}, 'schema:url': 'https://pacificdata.org/data/dataset/proceedings-of-the-ninth-session-tarawa-kiribati-20-28-october-1980-2769'}, {'@id': '_:N44c08f5b570448cb865181f14f2d14ce', '@type': 'schema:DataCatalog', 'schema:description': '', 'schema:name': 'Pacific Data Hub', 'schema:url': 'https://pacificdata.org'}]}\n"
     ]
    }
   ],
   "source": [
    "ul = sample_df[\"url\"]\n",
    "\n",
    "myframe =  {\n",
    "    \"@context\":{\"@vocab\": \"https://schema.org/\"},\n",
    "    \"@type\": \"Dataset\",\n",
    "}\n",
    "\n",
    "context =  { \"@vocab\": \"https://schema.org/\" }\n",
    "\n",
    "headers= {'User-Agent': 'Mozilla/5.0 (X11; Linux x86_64) '\n",
    "                        'AppleWebKit/537.11 (KHTML, like Gecko) '\n",
    "                        'Chrome/23.0.1271.64 Safari/537.11',\n",
    "          'Accept': 'application/ld+json,text/html,application/xhtml+xml,application/xml;q=0.9,*/*;q=0.8',\n",
    "          'Accept-Charset': 'ISO-8859-1,utf-8;q=0.7,*;q=0.3',\n",
    "          'Accept-Encoding': 'none',\n",
    "          'Accept-Language': 'en-US,en;q=0.8',\n",
    "          'Connection': 'keep-alive'}\n",
    "\n",
    "for item in ul:\n",
    "    request=urllib.request.Request(url=item, headers=headers)\n",
    "    # p = urllib.request.urlopen(request).read()\n",
    "    html = urllib.request.urlopen(request).read()\n",
    "    soup = BeautifulSoup(html, \"html.parser\")\n",
    "    p = soup.find('script', {'type':'application/ld+json'})\n",
    "    try:\n",
    "        jld = json.loads(p.contents[0])\n",
    "        # jld = json.loads(p)\n",
    "\n",
    "        # print(str(jld))\n",
    "        # compacted = jsonld.compact(str(jld), context)\n",
    "        # print(len(json.dumps(compacted, indent=2)))\n",
    "    except Exception as e:\n",
    "        print(\"Exception\")\n",
    "        logging.error(traceback.format_exc())"
   ]
  },
  {
   "cell_type": "markdown",
   "id": "c3c3f714",
   "metadata": {},
   "source": [
    "## Load to Graph\"\n",
    "\n",
    "Looad a sample set of triples into RDF lib and run a sample SPARQL query on them.\n",
    "\n",
    "### Note\n",
    "This is the same loop as above but now we will load into a KG graph"
   ]
  },
  {
   "cell_type": "code",
   "execution_count": 15,
   "id": "e39214e2",
   "metadata": {
    "collapsed": false,
    "jupyter": {
     "outputs_hidden": false
    },
    "pycharm": {
     "name": "#%%\n"
    }
   },
   "outputs": [
    {
     "ename": "HTTPError",
     "evalue": "HTTP Error 403: Forbidden",
     "output_type": "error",
     "traceback": [
      "\u001B[0;31m---------------------------------------------------------------------------\u001B[0m",
      "\u001B[0;31mHTTPError\u001B[0m                                 Traceback (most recent call last)",
      "Input \u001B[0;32mIn [15]\u001B[0m, in \u001B[0;36m<cell line: 16>\u001B[0;34m()\u001B[0m\n\u001B[1;32m     10\u001B[0m kg \u001B[38;5;241m=\u001B[39m kglab\u001B[38;5;241m.\u001B[39mKnowledgeGraph(\n\u001B[1;32m     11\u001B[0m     name \u001B[38;5;241m=\u001B[39m \u001B[38;5;124m\"\u001B[39m\u001B[38;5;124mSchema.org shacl eval datagraph\u001B[39m\u001B[38;5;124m\"\u001B[39m,\n\u001B[1;32m     12\u001B[0m     base_uri \u001B[38;5;241m=\u001B[39m \u001B[38;5;124m\"\u001B[39m\u001B[38;5;124mhttps://example.org/id/\u001B[39m\u001B[38;5;124m\"\u001B[39m,\n\u001B[1;32m     13\u001B[0m     namespaces \u001B[38;5;241m=\u001B[39m namespaces,\n\u001B[1;32m     14\u001B[0m )\n\u001B[1;32m     16\u001B[0m \u001B[38;5;28;01mfor\u001B[39;00m item \u001B[38;5;129;01min\u001B[39;00m ul:\n\u001B[0;32m---> 17\u001B[0m     html \u001B[38;5;241m=\u001B[39m \u001B[43murllib\u001B[49m\u001B[38;5;241;43m.\u001B[39;49m\u001B[43mrequest\u001B[49m\u001B[38;5;241;43m.\u001B[39;49m\u001B[43murlopen\u001B[49m\u001B[43m(\u001B[49m\u001B[43mitem\u001B[49m\u001B[43m)\u001B[49m\u001B[38;5;241m.\u001B[39mread()\n\u001B[1;32m     18\u001B[0m     soup \u001B[38;5;241m=\u001B[39m BeautifulSoup(html, \u001B[38;5;124m\"\u001B[39m\u001B[38;5;124mhtml.parser\u001B[39m\u001B[38;5;124m\"\u001B[39m)\n\u001B[1;32m     19\u001B[0m     p \u001B[38;5;241m=\u001B[39m soup\u001B[38;5;241m.\u001B[39mfind(\u001B[38;5;124m'\u001B[39m\u001B[38;5;124mscript\u001B[39m\u001B[38;5;124m'\u001B[39m, {\u001B[38;5;124m'\u001B[39m\u001B[38;5;124mtype\u001B[39m\u001B[38;5;124m'\u001B[39m:\u001B[38;5;124m'\u001B[39m\u001B[38;5;124mapplication/ld+json\u001B[39m\u001B[38;5;124m'\u001B[39m})\n",
      "File \u001B[0;32m~/.conda/envs/kglab/lib/python3.8/urllib/request.py:222\u001B[0m, in \u001B[0;36murlopen\u001B[0;34m(url, data, timeout, cafile, capath, cadefault, context)\u001B[0m\n\u001B[1;32m    220\u001B[0m \u001B[38;5;28;01melse\u001B[39;00m:\n\u001B[1;32m    221\u001B[0m     opener \u001B[38;5;241m=\u001B[39m _opener\n\u001B[0;32m--> 222\u001B[0m \u001B[38;5;28;01mreturn\u001B[39;00m \u001B[43mopener\u001B[49m\u001B[38;5;241;43m.\u001B[39;49m\u001B[43mopen\u001B[49m\u001B[43m(\u001B[49m\u001B[43murl\u001B[49m\u001B[43m,\u001B[49m\u001B[43m \u001B[49m\u001B[43mdata\u001B[49m\u001B[43m,\u001B[49m\u001B[43m \u001B[49m\u001B[43mtimeout\u001B[49m\u001B[43m)\u001B[49m\n",
      "File \u001B[0;32m~/.conda/envs/kglab/lib/python3.8/urllib/request.py:531\u001B[0m, in \u001B[0;36mOpenerDirector.open\u001B[0;34m(self, fullurl, data, timeout)\u001B[0m\n\u001B[1;32m    529\u001B[0m \u001B[38;5;28;01mfor\u001B[39;00m processor \u001B[38;5;129;01min\u001B[39;00m \u001B[38;5;28mself\u001B[39m\u001B[38;5;241m.\u001B[39mprocess_response\u001B[38;5;241m.\u001B[39mget(protocol, []):\n\u001B[1;32m    530\u001B[0m     meth \u001B[38;5;241m=\u001B[39m \u001B[38;5;28mgetattr\u001B[39m(processor, meth_name)\n\u001B[0;32m--> 531\u001B[0m     response \u001B[38;5;241m=\u001B[39m \u001B[43mmeth\u001B[49m\u001B[43m(\u001B[49m\u001B[43mreq\u001B[49m\u001B[43m,\u001B[49m\u001B[43m \u001B[49m\u001B[43mresponse\u001B[49m\u001B[43m)\u001B[49m\n\u001B[1;32m    533\u001B[0m \u001B[38;5;28;01mreturn\u001B[39;00m response\n",
      "File \u001B[0;32m~/.conda/envs/kglab/lib/python3.8/urllib/request.py:640\u001B[0m, in \u001B[0;36mHTTPErrorProcessor.http_response\u001B[0;34m(self, request, response)\u001B[0m\n\u001B[1;32m    637\u001B[0m \u001B[38;5;66;03m# According to RFC 2616, \"2xx\" code indicates that the client's\u001B[39;00m\n\u001B[1;32m    638\u001B[0m \u001B[38;5;66;03m# request was successfully received, understood, and accepted.\u001B[39;00m\n\u001B[1;32m    639\u001B[0m \u001B[38;5;28;01mif\u001B[39;00m \u001B[38;5;129;01mnot\u001B[39;00m (\u001B[38;5;241m200\u001B[39m \u001B[38;5;241m<\u001B[39m\u001B[38;5;241m=\u001B[39m code \u001B[38;5;241m<\u001B[39m \u001B[38;5;241m300\u001B[39m):\n\u001B[0;32m--> 640\u001B[0m     response \u001B[38;5;241m=\u001B[39m \u001B[38;5;28;43mself\u001B[39;49m\u001B[38;5;241;43m.\u001B[39;49m\u001B[43mparent\u001B[49m\u001B[38;5;241;43m.\u001B[39;49m\u001B[43merror\u001B[49m\u001B[43m(\u001B[49m\n\u001B[1;32m    641\u001B[0m \u001B[43m        \u001B[49m\u001B[38;5;124;43m'\u001B[39;49m\u001B[38;5;124;43mhttp\u001B[39;49m\u001B[38;5;124;43m'\u001B[39;49m\u001B[43m,\u001B[49m\u001B[43m \u001B[49m\u001B[43mrequest\u001B[49m\u001B[43m,\u001B[49m\u001B[43m \u001B[49m\u001B[43mresponse\u001B[49m\u001B[43m,\u001B[49m\u001B[43m \u001B[49m\u001B[43mcode\u001B[49m\u001B[43m,\u001B[49m\u001B[43m \u001B[49m\u001B[43mmsg\u001B[49m\u001B[43m,\u001B[49m\u001B[43m \u001B[49m\u001B[43mhdrs\u001B[49m\u001B[43m)\u001B[49m\n\u001B[1;32m    643\u001B[0m \u001B[38;5;28;01mreturn\u001B[39;00m response\n",
      "File \u001B[0;32m~/.conda/envs/kglab/lib/python3.8/urllib/request.py:569\u001B[0m, in \u001B[0;36mOpenerDirector.error\u001B[0;34m(self, proto, *args)\u001B[0m\n\u001B[1;32m    567\u001B[0m \u001B[38;5;28;01mif\u001B[39;00m http_err:\n\u001B[1;32m    568\u001B[0m     args \u001B[38;5;241m=\u001B[39m (\u001B[38;5;28mdict\u001B[39m, \u001B[38;5;124m'\u001B[39m\u001B[38;5;124mdefault\u001B[39m\u001B[38;5;124m'\u001B[39m, \u001B[38;5;124m'\u001B[39m\u001B[38;5;124mhttp_error_default\u001B[39m\u001B[38;5;124m'\u001B[39m) \u001B[38;5;241m+\u001B[39m orig_args\n\u001B[0;32m--> 569\u001B[0m     \u001B[38;5;28;01mreturn\u001B[39;00m \u001B[38;5;28;43mself\u001B[39;49m\u001B[38;5;241;43m.\u001B[39;49m\u001B[43m_call_chain\u001B[49m\u001B[43m(\u001B[49m\u001B[38;5;241;43m*\u001B[39;49m\u001B[43margs\u001B[49m\u001B[43m)\u001B[49m\n",
      "File \u001B[0;32m~/.conda/envs/kglab/lib/python3.8/urllib/request.py:502\u001B[0m, in \u001B[0;36mOpenerDirector._call_chain\u001B[0;34m(self, chain, kind, meth_name, *args)\u001B[0m\n\u001B[1;32m    500\u001B[0m \u001B[38;5;28;01mfor\u001B[39;00m handler \u001B[38;5;129;01min\u001B[39;00m handlers:\n\u001B[1;32m    501\u001B[0m     func \u001B[38;5;241m=\u001B[39m \u001B[38;5;28mgetattr\u001B[39m(handler, meth_name)\n\u001B[0;32m--> 502\u001B[0m     result \u001B[38;5;241m=\u001B[39m \u001B[43mfunc\u001B[49m\u001B[43m(\u001B[49m\u001B[38;5;241;43m*\u001B[39;49m\u001B[43margs\u001B[49m\u001B[43m)\u001B[49m\n\u001B[1;32m    503\u001B[0m     \u001B[38;5;28;01mif\u001B[39;00m result \u001B[38;5;129;01mis\u001B[39;00m \u001B[38;5;129;01mnot\u001B[39;00m \u001B[38;5;28;01mNone\u001B[39;00m:\n\u001B[1;32m    504\u001B[0m         \u001B[38;5;28;01mreturn\u001B[39;00m result\n",
      "File \u001B[0;32m~/.conda/envs/kglab/lib/python3.8/urllib/request.py:649\u001B[0m, in \u001B[0;36mHTTPDefaultErrorHandler.http_error_default\u001B[0;34m(self, req, fp, code, msg, hdrs)\u001B[0m\n\u001B[1;32m    648\u001B[0m \u001B[38;5;28;01mdef\u001B[39;00m \u001B[38;5;21mhttp_error_default\u001B[39m(\u001B[38;5;28mself\u001B[39m, req, fp, code, msg, hdrs):\n\u001B[0;32m--> 649\u001B[0m     \u001B[38;5;28;01mraise\u001B[39;00m HTTPError(req\u001B[38;5;241m.\u001B[39mfull_url, code, msg, hdrs, fp)\n",
      "\u001B[0;31mHTTPError\u001B[0m: HTTP Error 403: Forbidden"
     ]
    }
   ],
   "source": [
    "ul = sample_df[\"url\"]\n",
    "\n",
    "# Test loading into a graph\n",
    "namespaces = {\n",
    "    \"schema\":  \"https://schema.org/\",\n",
    "    \"schemaold\":  \"http://schema.org/\",\n",
    "    \"shacl\":   \"http://www.w3.org/ns/shacl#\" ,\n",
    "}\n",
    "\n",
    "kg = kglab.KnowledgeGraph(\n",
    "    name = \"Schema.org shacl eval datagraph\",\n",
    "    base_uri = \"https://example.org/id/\",\n",
    "    namespaces = namespaces,\n",
    ")\n",
    "\n",
    "for item in ul:\n",
    "    html = urllib.request.urlopen(item).read()\n",
    "    soup = BeautifulSoup(html, \"html.parser\")\n",
    "    p = soup.find('script', {'type':'application/ld+json'})\n",
    "    try:\n",
    "        print(\"JSON byte size: {} \".format(len(p.contents[0])))\n",
    "        kg.load_rdf_text(data=p.contents[0], format=\"json-ld\")\n",
    "        print(p.contents[0])\n",
    "    except Exception as e:\n",
    "        logging.error(traceback.format_exc())"
   ]
  },
  {
   "cell_type": "code",
   "execution_count": 10,
   "id": "da74b0db-9224-4a58-80b3-d0932087a6e4",
   "metadata": {
    "pycharm": {
     "name": "#%%\n"
    }
   },
   "outputs": [
    {
     "data": {
      "text/html": [
       "<div>\n",
       "<style scoped>\n",
       "    .dataframe tbody tr th:only-of-type {\n",
       "        vertical-align: middle;\n",
       "    }\n",
       "\n",
       "    .dataframe tbody tr th {\n",
       "        vertical-align: top;\n",
       "    }\n",
       "\n",
       "    .dataframe thead th {\n",
       "        text-align: right;\n",
       "    }\n",
       "</style>\n",
       "<table border=\"1\" class=\"dataframe\">\n",
       "  <thead>\n",
       "    <tr style=\"text-align: right;\">\n",
       "      <th></th>\n",
       "      <th>s</th>\n",
       "    </tr>\n",
       "  </thead>\n",
       "  <tbody>\n",
       "    <tr>\n",
       "      <th>0</th>\n",
       "      <td>&lt;https://catalogue.cioosatlantic.ca/dataset/65...</td>\n",
       "    </tr>\n",
       "    <tr>\n",
       "      <th>1</th>\n",
       "      <td>&lt;https://catalogue.cioosatlantic.ca/dataset/ca...</td>\n",
       "    </tr>\n",
       "    <tr>\n",
       "      <th>2</th>\n",
       "      <td>&lt;https://catalogue.cioosatlantic.ca/dataset/ca...</td>\n",
       "    </tr>\n",
       "    <tr>\n",
       "      <th>3</th>\n",
       "      <td>&lt;https://catalogue.cioosatlantic.ca/dataset/ca...</td>\n",
       "    </tr>\n",
       "    <tr>\n",
       "      <th>4</th>\n",
       "      <td>_:N0e9182e2d6db47fe942bf07753b8589e</td>\n",
       "    </tr>\n",
       "  </tbody>\n",
       "</table>\n",
       "</div>"
      ],
      "text/plain": [
       "                                                   s\n",
       "0  <https://catalogue.cioosatlantic.ca/dataset/65...\n",
       "1  <https://catalogue.cioosatlantic.ca/dataset/ca...\n",
       "2  <https://catalogue.cioosatlantic.ca/dataset/ca...\n",
       "3  <https://catalogue.cioosatlantic.ca/dataset/ca...\n",
       "4                _:N0e9182e2d6db47fe942bf07753b8589e"
      ]
     },
     "execution_count": 10,
     "metadata": {},
     "output_type": "execute_result"
    }
   ],
   "source": [
    "sparql = \"\"\"\n",
    "PREFIX schema: <https://schema.org/>\n",
    "SELECT ?s ?name ?description\n",
    "  WHERE {\n",
    "    ?s a ?type .    \n",
    "    \n",
    "  }\n",
    "\"\"\"\n",
    "\n",
    "#  schema:Dataset \n",
    "# ?s schema:name ?name .\n",
    "#     ?s schema:description ?description.\n",
    "\n",
    "df = kg.query_as_df(sparql).to_pandas()\n",
    "\n",
    "df.head()"
   ]
  },
  {
   "cell_type": "code",
   "execution_count": null,
   "id": "b800b41b",
   "metadata": {
    "collapsed": false,
    "jupyter": {
     "outputs_hidden": false
    },
    "pycharm": {
     "name": "#%%\n"
    }
   },
   "outputs": [],
   "source": []
  },
  {
   "cell_type": "code",
   "execution_count": null,
   "id": "279795a0-f8e5-4654-b06a-d33ff761cf68",
   "metadata": {},
   "outputs": [],
   "source": []
  }
 ],
 "metadata": {
  "interpreter": {
   "hash": "7a8db6ed8e976d23fd2e6a73e187eaf8286829efb4aa61f09abf75e2f487f948"
  },
  "kernelspec": {
   "display_name": "Python [conda env:.conda-kglab] *",
   "language": "python",
   "name": "conda-env-.conda-kglab-py"
  },
  "language_info": {
   "codemirror_mode": {
    "name": "ipython",
    "version": 3
   },
   "file_extension": ".py",
   "mimetype": "text/x-python",
   "name": "python",
   "nbconvert_exporter": "python",
   "pygments_lexer": "ipython3",
   "version": "3.8.10"
  }
 },
 "nbformat": 4,
 "nbformat_minor": 5
}