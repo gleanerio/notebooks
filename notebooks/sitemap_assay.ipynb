{
 "cells": [
  {
   "cell_type": "markdown",
   "id": "51aacee9",
   "metadata": {},
   "source": [
    "# Sitemap Assay\n",
    "\n",
    "The start of a simple notebook that could hosted for peeopl to test out their sitemaps (and robots.txt) files with.\n",
    "\n",
    "References:\n",
    "* [AdvTools](https://advertools.readthedocs.io/en/master/advertools.sitemaps.html)\n",
    "* [Sitemap viz](https://www.ayima.com/us/insights/analytics-and-cro/how-to-visualize-an-xml-sitemap-using-python.html)\n",
    "\n"
   ]
  },
  {
   "cell_type": "code",
   "execution_count": 2,
   "id": "ef1f0a5d",
   "metadata": {},
   "outputs": [],
   "source": [
    "import warnings\n",
    "warnings.simplefilter(action='ignore', category=FutureWarning)\n",
    "\n",
    "import advertools as adv\n",
    "import json\n",
    "import requests\n",
    "from pyld import jsonld\n",
    "from bs4 import BeautifulSoup\n",
    "import urllib.request\n",
    "import logging\n",
    "import traceback\n",
    "import kglab"
   ]
  },
  {
   "cell_type": "code",
   "execution_count": 53,
   "id": "ee61d05a",
   "metadata": {},
   "outputs": [
    {
     "name": "stderr",
     "output_type": "stream",
     "text": [
      "2022-07-11 15:25:49,504 | INFO | sitemaps.py:419 | sitemap_to_df | Getting https://opentopography.org/sitemap.xml\n"
     ]
    },
    {
     "name": "stdout",
     "output_type": "stream",
     "text": [
      "CPU times: user 34 ms, sys: 4.67 ms, total: 38.7 ms\n",
      "Wall time: 775 ms\n"
     ]
    }
   ],
   "source": [
    "%%time \n",
    "\n",
    "# smurl = 'https://opencoredata.org/sitemap_0.xml'\n",
    "# smurl = 'https://www.bco-dmo.org/sitemap.xml'\n",
    "smurl = 'https://opentopography.org/sitemap.xml'\n",
    "# smurl = 'https://www2.earthref.org/MagIC/contributions.sitemap.xml'\n",
    "# smurl = 'https://oceanscape.org/organisation-sitemap.xml'\n",
    "# smurl = 'https://catalogue.cioosatlantic.ca/sitemap/sitemap-1.xml'\n",
    "# smurl = 'https://obis.org/sitemap/sitemap_datasets.xml'\n",
    "# smurl = 'https://infohub.eurocean.net/sitemap/vessels'\n",
    "\n",
    "iow_sitemap = adv.sitemap_to_df(smurl) # load sitemap to dataframe via advertools\n",
    "# iow_sitemap.info()\n",
    "# iow_sitemap.head()"
   ]
  },
  {
   "cell_type": "markdown",
   "source": [
    "## Analyzing the URLs\n",
    "\n",
    "We can quickly grab the unique URLs from the sitemap column and see how many unique sitemap.xml files we are working with\n",
    "\n",
    "We can also dive into the URL structure for the resources a bit."
   ],
   "metadata": {
    "collapsed": false
   }
  },
  {
   "cell_type": "code",
   "execution_count": 57,
   "outputs": [
    {
     "name": "stdout",
     "output_type": "stream",
     "text": [
      "1 unique sitemap XML file(s) pointing to 709 unique resource(s).\n"
     ]
    },
    {
     "data": {
      "text/plain": "                                                 url scheme  \\\n0  https://portal.opentopography.org/lidarDataset...  https   \n1  https://portal.opentopography.org/lidarDataset...  https   \n2  https://portal.opentopography.org/lidarDataset...  https   \n3  https://portal.opentopography.org/lidarDataset...  https   \n4  https://portal.opentopography.org/lidarDataset...  https   \n\n                      netloc           path                            query  \\\n0  portal.opentopography.org  /lidarDataset   opentopoID=OTLAS.102021.6345.1   \n1  portal.opentopography.org  /lidarDataset   opentopoID=OTLAS.092021.6339.1   \n2  portal.opentopography.org  /lidarDataset   opentopoID=OTLAS.092021.2193.1   \n3  portal.opentopography.org  /lidarDataset  opentopoID=OTLAS.092021.32611.1   \n4  portal.opentopography.org  /lidarDataset   opentopoID=OTLAS.082021.6339.2   \n\n  fragment         dir_1 dir_2      query_opentopoID  \n0           lidarDataset   NaN   OTLAS.102021.6345.1  \n1           lidarDataset   NaN   OTLAS.092021.6339.1  \n2           lidarDataset   NaN   OTLAS.092021.2193.1  \n3           lidarDataset   NaN  OTLAS.092021.32611.1  \n4           lidarDataset   NaN   OTLAS.082021.6339.2  ",
      "text/html": "<div>\n<style scoped>\n    .dataframe tbody tr th:only-of-type {\n        vertical-align: middle;\n    }\n\n    .dataframe tbody tr th {\n        vertical-align: top;\n    }\n\n    .dataframe thead th {\n        text-align: right;\n    }\n</style>\n<table border=\"1\" class=\"dataframe\">\n  <thead>\n    <tr style=\"text-align: right;\">\n      <th></th>\n      <th>url</th>\n      <th>scheme</th>\n      <th>netloc</th>\n      <th>path</th>\n      <th>query</th>\n      <th>fragment</th>\n      <th>dir_1</th>\n      <th>dir_2</th>\n      <th>query_opentopoID</th>\n    </tr>\n  </thead>\n  <tbody>\n    <tr>\n      <th>0</th>\n      <td>https://portal.opentopography.org/lidarDataset...</td>\n      <td>https</td>\n      <td>portal.opentopography.org</td>\n      <td>/lidarDataset</td>\n      <td>opentopoID=OTLAS.102021.6345.1</td>\n      <td></td>\n      <td>lidarDataset</td>\n      <td>NaN</td>\n      <td>OTLAS.102021.6345.1</td>\n    </tr>\n    <tr>\n      <th>1</th>\n      <td>https://portal.opentopography.org/lidarDataset...</td>\n      <td>https</td>\n      <td>portal.opentopography.org</td>\n      <td>/lidarDataset</td>\n      <td>opentopoID=OTLAS.092021.6339.1</td>\n      <td></td>\n      <td>lidarDataset</td>\n      <td>NaN</td>\n      <td>OTLAS.092021.6339.1</td>\n    </tr>\n    <tr>\n      <th>2</th>\n      <td>https://portal.opentopography.org/lidarDataset...</td>\n      <td>https</td>\n      <td>portal.opentopography.org</td>\n      <td>/lidarDataset</td>\n      <td>opentopoID=OTLAS.092021.2193.1</td>\n      <td></td>\n      <td>lidarDataset</td>\n      <td>NaN</td>\n      <td>OTLAS.092021.2193.1</td>\n    </tr>\n    <tr>\n      <th>3</th>\n      <td>https://portal.opentopography.org/lidarDataset...</td>\n      <td>https</td>\n      <td>portal.opentopography.org</td>\n      <td>/lidarDataset</td>\n      <td>opentopoID=OTLAS.092021.32611.1</td>\n      <td></td>\n      <td>lidarDataset</td>\n      <td>NaN</td>\n      <td>OTLAS.092021.32611.1</td>\n    </tr>\n    <tr>\n      <th>4</th>\n      <td>https://portal.opentopography.org/lidarDataset...</td>\n      <td>https</td>\n      <td>portal.opentopography.org</td>\n      <td>/lidarDataset</td>\n      <td>opentopoID=OTLAS.082021.6339.2</td>\n      <td></td>\n      <td>lidarDataset</td>\n      <td>NaN</td>\n      <td>OTLAS.082021.6339.2</td>\n    </tr>\n  </tbody>\n</table>\n</div>"
     },
     "execution_count": 57,
     "metadata": {},
     "output_type": "execute_result"
    }
   ],
   "source": [
    "usm = iow_sitemap.sitemap.unique()\n",
    "uloc = iow_sitemap[\"loc\"].unique()\n",
    "print(\"{} unique sitemap XML file(s) pointing to {} unique resource(s).\".format(len(usm), len(uloc)))\n",
    "\n",
    "# Break down all the URL into theor path parts\n",
    "urldf = adv.url_to_df(list(iow_sitemap['loc']))\n",
    "urldf.head()"
   ],
   "metadata": {
    "collapsed": false,
    "pycharm": {
     "name": "#%%\n"
    }
   }
  },
  {
   "cell_type": "markdown",
   "id": "9e806ba0",
   "metadata": {},
   "source": [
    "## Sample and test sitemap entries"
   ]
  },
  {
   "cell_type": "code",
   "execution_count": 46,
   "id": "20e46dd2",
   "metadata": {},
   "outputs": [],
   "source": [
    "# sample the previously generated url data frame\n",
    "sample_size = 5\n",
    "sample_df = urldf.groupby(\"dir_1\").sample(n=sample_size, random_state=1, replace=True)"
   ]
  },
  {
   "cell_type": "code",
   "execution_count": 47,
   "id": "b725c4ca",
   "metadata": {},
   "outputs": [
    {
     "data": {
      "text/plain": "                                                   url scheme  \\\n621  https://portal.opentopography.org/dataspace/da...  https   \n691  https://portal.opentopography.org/dataspace/da...  https   \n596  https://portal.opentopography.org/dataspace/da...  https   \n656  https://portal.opentopography.org/dataspace/da...  https   \n593  https://portal.opentopography.org/dataspace/da...  https   \n\n                        netloc                path  \\\n621  portal.opentopography.org  /dataspace/dataset   \n691  portal.opentopography.org  /dataspace/dataset   \n596  portal.opentopography.org  /dataspace/dataset   \n656  portal.opentopography.org  /dataspace/dataset   \n593  portal.opentopography.org  /dataspace/dataset   \n\n                              query fragment      dir_1    dir_2  \\\n621   opentopoID=OTDS.102020.4326.1           dataspace  dataset   \n691  opentopoID=OTDS.012019.32633.1           dataspace  dataset   \n596  opentopoID=OTDS.052021.26911.1           dataspace  dataset   \n656   opentopoID=OTDS.122019.4326.4           dataspace  dataset   \n593  opentopoID=OTDS.062021.32616.1           dataspace  dataset   \n\n        query_opentopoID  \n621   OTDS.102020.4326.1  \n691  OTDS.012019.32633.1  \n596  OTDS.052021.26911.1  \n656   OTDS.122019.4326.4  \n593  OTDS.062021.32616.1  ",
      "text/html": "<div>\n<style scoped>\n    .dataframe tbody tr th:only-of-type {\n        vertical-align: middle;\n    }\n\n    .dataframe tbody tr th {\n        vertical-align: top;\n    }\n\n    .dataframe thead th {\n        text-align: right;\n    }\n</style>\n<table border=\"1\" class=\"dataframe\">\n  <thead>\n    <tr style=\"text-align: right;\">\n      <th></th>\n      <th>url</th>\n      <th>scheme</th>\n      <th>netloc</th>\n      <th>path</th>\n      <th>query</th>\n      <th>fragment</th>\n      <th>dir_1</th>\n      <th>dir_2</th>\n      <th>query_opentopoID</th>\n    </tr>\n  </thead>\n  <tbody>\n    <tr>\n      <th>621</th>\n      <td>https://portal.opentopography.org/dataspace/da...</td>\n      <td>https</td>\n      <td>portal.opentopography.org</td>\n      <td>/dataspace/dataset</td>\n      <td>opentopoID=OTDS.102020.4326.1</td>\n      <td></td>\n      <td>dataspace</td>\n      <td>dataset</td>\n      <td>OTDS.102020.4326.1</td>\n    </tr>\n    <tr>\n      <th>691</th>\n      <td>https://portal.opentopography.org/dataspace/da...</td>\n      <td>https</td>\n      <td>portal.opentopography.org</td>\n      <td>/dataspace/dataset</td>\n      <td>opentopoID=OTDS.012019.32633.1</td>\n      <td></td>\n      <td>dataspace</td>\n      <td>dataset</td>\n      <td>OTDS.012019.32633.1</td>\n    </tr>\n    <tr>\n      <th>596</th>\n      <td>https://portal.opentopography.org/dataspace/da...</td>\n      <td>https</td>\n      <td>portal.opentopography.org</td>\n      <td>/dataspace/dataset</td>\n      <td>opentopoID=OTDS.052021.26911.1</td>\n      <td></td>\n      <td>dataspace</td>\n      <td>dataset</td>\n      <td>OTDS.052021.26911.1</td>\n    </tr>\n    <tr>\n      <th>656</th>\n      <td>https://portal.opentopography.org/dataspace/da...</td>\n      <td>https</td>\n      <td>portal.opentopography.org</td>\n      <td>/dataspace/dataset</td>\n      <td>opentopoID=OTDS.122019.4326.4</td>\n      <td></td>\n      <td>dataspace</td>\n      <td>dataset</td>\n      <td>OTDS.122019.4326.4</td>\n    </tr>\n    <tr>\n      <th>593</th>\n      <td>https://portal.opentopography.org/dataspace/da...</td>\n      <td>https</td>\n      <td>portal.opentopography.org</td>\n      <td>/dataspace/dataset</td>\n      <td>opentopoID=OTDS.062021.32616.1</td>\n      <td></td>\n      <td>dataspace</td>\n      <td>dataset</td>\n      <td>OTDS.062021.32616.1</td>\n    </tr>\n  </tbody>\n</table>\n</div>"
     },
     "execution_count": 47,
     "metadata": {},
     "output_type": "execute_result"
    }
   ],
   "source": [
    "sample_df.head()"
   ]
  },
  {
   "cell_type": "markdown",
   "id": "c58bee8f",
   "metadata": {},
   "source": [
    "### See if the URLs resolve"
   ]
  },
  {
   "cell_type": "code",
   "execution_count": 59,
   "id": "0c22245d",
   "metadata": {},
   "outputs": [
    {
     "name": "stdout",
     "output_type": "stream",
     "text": [
      "URL: https://portal.opentopography.org/dataspace/dataset?opentopoID=OTDS.102020.4326.1 \n",
      "URL: https://portal.opentopography.org/dataspace/dataset?opentopoID=OTDS.012019.32633.1 \n",
      "URL: https://portal.opentopography.org/dataspace/dataset?opentopoID=OTDS.052021.26911.1 \n",
      "URL: https://portal.opentopography.org/dataspace/dataset?opentopoID=OTDS.122019.4326.4 \n",
      "URL: https://portal.opentopography.org/dataspace/dataset?opentopoID=OTDS.062021.32616.1 \n",
      "URL: https://portal.opentopography.org/lidarDataset?opentopoID=OTLAS.052013.26913.1 \n",
      "URL: https://portal.opentopography.org/lidarDataset?opentopoID=OTLAS.122016.2193.2 \n",
      "URL: https://portal.opentopography.org/lidarDataset?opentopoID=OTLAS.082011.26910.1 \n",
      "URL: https://portal.opentopography.org/lidarDataset?opentopoID=OTLAS.102016.26916.1 \n",
      "URL: https://portal.opentopography.org/lidarDataset?opentopoID=OTLAS.122016.26915.1 \n",
      "URL: https://portal.opentopography.org/raster?opentopoID=OTSDEM.012012.26911.1 \n",
      "URL: https://portal.opentopography.org/raster?opentopoID=OTSDEM.062018.6635.1 \n",
      "URL: https://portal.opentopography.org/raster?opentopoID=OTSDEM.052016.26911.1 \n",
      "URL: https://portal.opentopography.org/raster?opentopoID=OTSDEM.072020.6340.2 \n",
      "URL: https://portal.opentopography.org/raster?opentopoID=OTSDEM.102012.26910.1 \n"
     ]
    }
   ],
   "source": [
    "import urllib.request\n",
    "import requests\n",
    "\n",
    "ul = sample_df[\"url\"]\n",
    "\n",
    "for item in ul:\n",
    "    # user_agent = 'Mozilla/5.0 (Windows; U; Windows NT 5.1; en-US; rv:1.9.0.7) Gecko/2009021910 Firefox/3.0.7'\n",
    "    # headers={'User-Agent':user_agent,}\n",
    "\n",
    "    headers= {'User-Agent': 'Mozilla/5.0 (X11; Linux x86_64) '\n",
    "                           'AppleWebKit/537.11 (KHTML, like Gecko) '\n",
    "                           'Chrome/23.0.1271.64 Safari/537.11',\n",
    "             'Accept': 'text/html,application/xhtml+xml,application/xml;q=0.9,*/*;q=0.8',\n",
    "             'Accept-Charset': 'ISO-8859-1,utf-8;q=0.7,*;q=0.3',\n",
    "             'Accept-Encoding': 'none',\n",
    "             'Accept-Language': 'en-US,en;q=0.8',\n",
    "             'Connection': 'keep-alive'}\n",
    "\n",
    "    try:\n",
    "        # x = requests.get(item)\n",
    "        # code = x.status_code\n",
    "        request=urllib.request.Request(url=item, headers=headers) #The assembled request\n",
    "        with urllib.request.urlopen(request) as response:\n",
    "            info = response.info()\n",
    "            dtype = info.get_content_type()    # -> text/html\n",
    "         # headers = x.headers()\n",
    "        # print(\"URL: {} \\ninfo : {}\\n --\".format(item, info))\n",
    "        print(\"URL: {} \".format(item))\n",
    "    except Exception as e:\n",
    "        # code = x.status_code\n",
    "        # dtype = info.get_content_type()\n",
    "\n",
    "        print(\"Exception on: {} \\nerrors : {}\\n --\".format(item, str(e)))\n"
   ]
  },
  {
   "cell_type": "markdown",
   "id": "ed2bcab8",
   "metadata": {},
   "source": [
    "### See if they have JSON-LD (static check only, no dynamically loaded JSON-LD yet)"
   ]
  },
  {
   "cell_type": "code",
   "execution_count": 61,
   "id": "cd25210a",
   "metadata": {},
   "outputs": [
    {
     "name": "stdout",
     "output_type": "stream",
     "text": [
      "JSON byte size: 3385 \n",
      "JSON byte size: 4172 \n",
      "JSON byte size: 4478 \n",
      "JSON byte size: 3258 \n",
      "JSON byte size: 4215 \n",
      "JSON byte size: 5137 \n",
      "JSON byte size: 4915 \n",
      "JSON byte size: 4804 \n",
      "JSON byte size: 4052 \n",
      "JSON byte size: 5557 \n",
      "JSON byte size: 4169 \n",
      "JSON byte size: 4915 \n",
      "JSON byte size: 3913 \n",
      "JSON byte size: 4100 \n",
      "JSON byte size: 4116 \n"
     ]
    }
   ],
   "source": [
    "ul = sample_df[\"url\"]\n",
    "\n",
    "headers= {'User-Agent': 'Mozilla/5.0 (X11; Linux x86_64) '\n",
    "                        'AppleWebKit/537.11 (KHTML, like Gecko) '\n",
    "                        'Chrome/23.0.1271.64 Safari/537.11',\n",
    "          'Accept': 'text/html,application/xhtml+xml,application/xml;q=0.9,*/*;q=0.8',\n",
    "          'Accept-Charset': 'ISO-8859-1,utf-8;q=0.7,*;q=0.3',\n",
    "          'Accept-Encoding': 'none',\n",
    "          'Accept-Language': 'en-US,en;q=0.8',\n",
    "          'Connection': 'keep-alive'}\n",
    "\n",
    "for item in ul:\n",
    "    request=urllib.request.Request(url=item, headers=headers)\n",
    "    html = urllib.request.urlopen(request).read()\n",
    "    soup = BeautifulSoup(html, \"html.parser\")\n",
    "    p = soup.find('script', {'type':'application/ld+json'})\n",
    "    try:\n",
    "        print(\"JSON byte size: {} \".format(len(p.contents[0])))\n",
    "    except Exception as e:\n",
    "        logging.error(traceback.format_exc())"
   ]
  },
  {
   "cell_type": "markdown",
   "id": "b8875457",
   "metadata": {},
   "source": [
    "### Check JSON-LD structure (static check only, no dynamically loaded JSON-LD yet)"
   ]
  },
  {
   "cell_type": "code",
   "execution_count": 64,
   "id": "cd83aa38-7d5f-48d1-bdb2-12cadd72a9dc",
   "metadata": {},
   "outputs": [],
   "source": [
    "ul = sample_df[\"url\"]\n",
    "\n",
    "myframe =  {\n",
    "    \"@context\":{\"@vocab\": \"https://schema.org/\"},\n",
    "    \"@type\": \"Dataset\",\n",
    "}\n",
    "\n",
    "context =  { \"@vocab\": \"https://schema.org/\" }\n",
    "\n",
    "headers= {'User-Agent': 'Mozilla/5.0 (X11; Linux x86_64) '\n",
    "                        'AppleWebKit/537.11 (KHTML, like Gecko) '\n",
    "                        'Chrome/23.0.1271.64 Safari/537.11',\n",
    "          'Accept': 'text/html,application/xhtml+xml,application/xml;q=0.9,*/*;q=0.8',\n",
    "          'Accept-Charset': 'ISO-8859-1,utf-8;q=0.7,*;q=0.3',\n",
    "          'Accept-Encoding': 'none',\n",
    "          'Accept-Language': 'en-US,en;q=0.8',\n",
    "          'Connection': 'keep-alive'}\n",
    "\n",
    "for item in ul:\n",
    "    request=urllib.request.Request(url=item, headers=headers)\n",
    "    html = urllib.request.urlopen(request).read()\n",
    "    soup = BeautifulSoup(html, \"html.parser\")\n",
    "    p = soup.find('script', {'type':'application/ld+json'})\n",
    "    try:\n",
    "        jld = json.loads(p.contents[0])\n",
    "        # print(str(jld))\n",
    "        # compacted = jsonld.compact(str(jld), context)\n",
    "        # print(len(json.dumps(compacted, indent=2)))\n",
    "    except Exception as e:\n",
    "        print(\"Exception\")\n",
    "        logging.error(traceback.format_exc())"
   ]
  },
  {
   "cell_type": "markdown",
   "id": "c3c3f714",
   "metadata": {},
   "source": [
    "## Load to Graph\"\n",
    "\n",
    "Looad a sample set of triples into RDF lib and run a sample SPARQL query on them.\n",
    "\n",
    "### Note\n",
    "This is the same loop as above but now we will load into a KG graph"
   ]
  },
  {
   "cell_type": "code",
   "execution_count": 71,
   "id": "e39214e2",
   "metadata": {
    "collapsed": false,
    "jupyter": {
     "outputs_hidden": false
    },
    "pycharm": {
     "name": "#%%\n"
    }
   },
   "outputs": [
    {
     "name": "stdout",
     "output_type": "stream",
     "text": [
      "JSON byte size: 3385 \n",
      "JSON byte size: 4172 \n",
      "JSON byte size: 4478 \n",
      "JSON byte size: 3258 \n",
      "JSON byte size: 4215 \n",
      "JSON byte size: 5137 \n",
      "JSON byte size: 4915 \n",
      "JSON byte size: 4804 \n",
      "JSON byte size: 4052 \n",
      "JSON byte size: 5557 \n",
      "JSON byte size: 4169 \n",
      "JSON byte size: 4915 \n",
      "JSON byte size: 3913 \n",
      "JSON byte size: 4100 \n",
      "JSON byte size: 4116 \n"
     ]
    }
   ],
   "source": [
    "ul = sample_df[\"url\"]\n",
    "\n",
    "# Test loading into a graph\n",
    "namespaces = {\n",
    "    \"schema\":  \"https://schema.org/\",\n",
    "    \"shacl\":   \"http://www.w3.org/ns/shacl#\" ,\n",
    "}\n",
    "\n",
    "kg = kglab.KnowledgeGraph(\n",
    "    name = \"Schema.org shacl eval datagraph\",\n",
    "    base_uri = \"https://example.org/id/\",\n",
    "    namespaces = namespaces,\n",
    ")\n",
    "\n",
    "for item in ul:\n",
    "    html = urllib.request.urlopen(item).read()\n",
    "    soup = BeautifulSoup(html, \"html.parser\")\n",
    "    p = soup.find('script', {'type':'application/ld+json'})\n",
    "    try:\n",
    "        print(\"JSON byte size: {} \".format(len(p.contents[0])))\n",
    "        kg.load_rdf_text(data=p.contents[0], format=\"json-ld\")\n",
    "        # print(p.contents[0])\n",
    "    except Exception as e:\n",
    "        logging.error(traceback.format_exc())"
   ]
  },
  {
   "cell_type": "code",
   "execution_count": 72,
   "id": "da74b0db-9224-4a58-80b3-d0932087a6e4",
   "metadata": {
    "pycharm": {
     "name": "#%%\n"
    }
   },
   "outputs": [
    {
     "data": {
      "text/plain": "                                                   s  \\\n0  <https://portal.opentopography.org/dataspace/d...   \n1  <https://portal.opentopography.org/dataspace/d...   \n2  <https://portal.opentopography.org/dataspace/d...   \n3  <https://portal.opentopography.org/dataspace/d...   \n4  <https://portal.opentopography.org/dataspace/d...   \n\n                                                name  \\\n0  High Resolution Topography of the Kashihe Faul...   \n1  2016 Norcia Earthquake (Italy), Mt Bove Fault ...   \n2  Steep Headwater-Colluvial Channels, Day Creek,...   \n3    Fault scarp near Ili Basin, Shonzhy, Kazakhstan   \n4   Survey of Point Beach, Wisconsin, September 2020   \n\n                                         description  \n0  This dataset comprises six high-resolution str...  \n1  <p>Pre-earthquake terrestrial laser scanning d...  \n2  Dataset includes UAV structure-from-motion der...  \n3  Target: Fault scarp of a E-W striking, S-dippi...  \n4  Lake Michigan experiences quasi-decadal fluctu...  ",
      "text/html": "<div>\n<style scoped>\n    .dataframe tbody tr th:only-of-type {\n        vertical-align: middle;\n    }\n\n    .dataframe tbody tr th {\n        vertical-align: top;\n    }\n\n    .dataframe thead th {\n        text-align: right;\n    }\n</style>\n<table border=\"1\" class=\"dataframe\">\n  <thead>\n    <tr style=\"text-align: right;\">\n      <th></th>\n      <th>s</th>\n      <th>name</th>\n      <th>description</th>\n    </tr>\n  </thead>\n  <tbody>\n    <tr>\n      <th>0</th>\n      <td>&lt;https://portal.opentopography.org/dataspace/d...</td>\n      <td>High Resolution Topography of the Kashihe Faul...</td>\n      <td>This dataset comprises six high-resolution str...</td>\n    </tr>\n    <tr>\n      <th>1</th>\n      <td>&lt;https://portal.opentopography.org/dataspace/d...</td>\n      <td>2016 Norcia Earthquake (Italy), Mt Bove Fault ...</td>\n      <td>&lt;p&gt;Pre-earthquake terrestrial laser scanning d...</td>\n    </tr>\n    <tr>\n      <th>2</th>\n      <td>&lt;https://portal.opentopography.org/dataspace/d...</td>\n      <td>Steep Headwater-Colluvial Channels, Day Creek,...</td>\n      <td>Dataset includes UAV structure-from-motion der...</td>\n    </tr>\n    <tr>\n      <th>3</th>\n      <td>&lt;https://portal.opentopography.org/dataspace/d...</td>\n      <td>Fault scarp near Ili Basin, Shonzhy, Kazakhstan</td>\n      <td>Target: Fault scarp of a E-W striking, S-dippi...</td>\n    </tr>\n    <tr>\n      <th>4</th>\n      <td>&lt;https://portal.opentopography.org/dataspace/d...</td>\n      <td>Survey of Point Beach, Wisconsin, September 2020</td>\n      <td>Lake Michigan experiences quasi-decadal fluctu...</td>\n    </tr>\n  </tbody>\n</table>\n</div>"
     },
     "execution_count": 72,
     "metadata": {},
     "output_type": "execute_result"
    }
   ],
   "source": [
    "sparql = \"\"\"\n",
    "PREFIX schema: <https://schema.org/>\n",
    "SELECT ?s ?name ?description\n",
    "  WHERE {\n",
    "    ?s a schema:Dataset .\n",
    "    ?s schema:name ?name .\n",
    "    ?s schema:description ?description\n",
    "  }\n",
    "\"\"\"\n",
    "\n",
    "df = kg.query_as_df(sparql).to_pandas()\n",
    "\n",
    "df.head()"
   ]
  },
  {
   "cell_type": "code",
   "execution_count": null,
   "outputs": [],
   "source": [],
   "metadata": {
    "collapsed": false,
    "pycharm": {
     "name": "#%%\n"
    }
   }
  }
 ],
 "metadata": {
  "interpreter": {
   "hash": "7a8db6ed8e976d23fd2e6a73e187eaf8286829efb4aa61f09abf75e2f487f948"
  },
  "kernelspec": {
   "name": "conda-env-.conda-kglab-py",
   "language": "python",
   "display_name": "Python [conda env:.conda-kglab] *"
  },
  "language_info": {
   "codemirror_mode": {
    "name": "ipython",
    "version": 3
   },
   "file_extension": ".py",
   "mimetype": "text/x-python",
   "name": "python",
   "nbconvert_exporter": "python",
   "pygments_lexer": "ipython3",
   "version": "3.8.10"
  }
 },
 "nbformat": 4,
 "nbformat_minor": 5
}