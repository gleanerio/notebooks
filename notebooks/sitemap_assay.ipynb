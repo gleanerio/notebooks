{
 "cells": [
  {
   "cell_type": "markdown",
   "id": "51aacee9",
   "metadata": {},
   "source": [
    "# Sitemap Assay\n",
    "\n",
    "The start of a simple notebook that could hosted for peeopl to test out their sitemaps (and robots.txt) files with.\n",
    "\n",
    "References:\n",
    "* [AdvTools](https://advertools.readthedocs.io/en/master/advertools.sitemaps.html)\n",
    "* [Sitemap viz](https://www.ayima.com/us/insights/analytics-and-cro/how-to-visualize-an-xml-sitemap-using-python.html)\n",
    "\n"
   ]
  },
  {
   "cell_type": "markdown",
   "id": "bf9819de-30ca-47ff-a13d-263ef0333bd0",
   "metadata": {},
   "source": [
    "## Notes\n",
    "\n",
    "has json-ld :  https://researchdata.edu.au/imos-soop-underway-sep-2017/970828\n",
    "Validation:  https://validator.schema.org/#url=https%3A%2F%2Fresearchdata.edu.au%2Fimos-soop-underway-sep-2017%2F970828  \n",
    "\n",
    "\n",
    "doesn't:  https://researchdata.edu.au/heupel-michelle/1709766\n",
    "\n",
    "Validation   https://validator.schema.org/#url=https%3A%2F%2Fresearchdata.edu.au%2Fheupel-michelle%2F1709766\n",
    "\n",
    "\n",
    "Context as map:  https://www.w3.org/TR/json-ld/#context-definitions\n",
    "\n",
    "\n",
    "\n"
   ]
  },
  {
   "cell_type": "code",
   "execution_count": 1,
   "id": "ef1f0a5d",
   "metadata": {
    "tags": []
   },
   "outputs": [],
   "source": [
    "import warnings\n",
    "warnings.simplefilter(action='ignore', category=FutureWarning)\n",
    "\n",
    "import advertools as adv\n",
    "import json\n",
    "import requests\n",
    "from pyld import jsonld\n",
    "from bs4 import BeautifulSoup\n",
    "import urllib.request\n",
    "import logging\n",
    "import traceback\n",
    "import kglab\n",
    "import pandas as pd\n"
   ]
  },
  {
   "cell_type": "code",
   "execution_count": 2,
   "id": "ee61d05a",
   "metadata": {
    "tags": []
   },
   "outputs": [
    {
     "name": "stderr",
     "output_type": "stream",
     "text": [
      "2023-03-28 08:14:53,992 | INFO | sitemaps.py:536 | sitemap_to_df | Getting https://pacificdata.org/data/sitemap/federated-states-of-micronesia-department-of-education/sitemap.xml\n",
      "2023-03-28 08:14:54,001 | INFO | sitemaps.py:536 | sitemap_to_df | Getting https://pacificdata.org/data/sitemap/cookislands-data/sitemap.xml\n",
      "2023-03-28 08:14:54,099 | INFO | sitemaps.py:536 | sitemap_to_df | Getting https://pacificdata.org/data/sitemap/cook-islands-ministry-of-education/sitemap.xml\n",
      "2023-03-28 08:14:54,105 | INFO | sitemaps.py:536 | sitemap_to_df | Getting https://pacificdata.org/data/sitemap/fsm-data/sitemap.xml\n",
      "2023-03-28 08:14:54,114 | INFO | sitemaps.py:536 | sitemap_to_df | Getting https://pacificdata.org/data/sitemap/fiji-ministry-of-education-heritage-and-arts/sitemap.xml\n",
      "2023-03-28 08:14:54,148 | INFO | sitemaps.py:536 | sitemap_to_df | Getting https://pacificdata.org/data/sitemap/australian-government/sitemap.xml\n",
      "2023-03-28 08:14:54,152 | INFO | sitemaps.py:536 | sitemap_to_df | Getting https://pacificdata.org/data/sitemap/fiji-maritime-affairs-coordinating-committee-macc/sitemap.xml\n",
      "2023-03-28 08:14:54,160 | INFO | sitemaps.py:536 | sitemap_to_df | Getting https://pacificdata.org/data/sitemap/cook-islands-office-of-national-hydrography-and-geo-science/sitemap.xml\n",
      "2023-03-28 08:14:54,295 | INFO | sitemaps.py:536 | sitemap_to_df | Getting https://pacificdata.org/data/sitemap/fsm-national-oceanic-resource-management-authority-norma/sitemap.xml\n",
      "2023-03-28 08:14:54,411 | INFO | sitemaps.py:536 | sitemap_to_df | Getting https://pacificdata.org/data/sitemap/institute-for-marine-remote-sensing/sitemap.xml\n",
      "2023-03-28 08:14:54,482 | INFO | sitemaps.py:536 | sitemap_to_df | Getting https://pacificdata.org/data/sitemap/kiribati-ministry-of-fisheries-and-mineral-resource-department/sitemap.xml\n",
      "2023-03-28 08:14:54,739 | INFO | sitemaps.py:536 | sitemap_to_df | Getting https://pacificdata.org/data/sitemap/maritime-boundaries/sitemap.xml\n",
      "2023-03-28 08:14:54,806 | INFO | sitemaps.py:536 | sitemap_to_df | Getting https://pacificdata.org/data/sitemap/marshall-islands-marine-resources-authority-mimra/sitemap.xml\n",
      "2023-03-28 08:14:54,930 | INFO | sitemaps.py:536 | sitemap_to_df | Getting https://pacificdata.org/data/sitemap/ffa/sitemap.xml\n",
      "2023-03-28 08:14:55,127 | INFO | sitemaps.py:536 | sitemap_to_df | Getting https://pacificdata.org/data/sitemap/general-bathymetric-chart-of-the-oceans-gebco/sitemap.xml\n",
      "2023-03-28 08:14:55,131 | INFO | sitemaps.py:536 | sitemap_to_df | Getting https://pacificdata.org/data/sitemap/nauru-department-of-foreign-affairs-and-trade/sitemap.xml\n",
      "2023-03-28 08:14:55,147 | INFO | sitemaps.py:536 | sitemap_to_df | Getting https://pacificdata.org/data/sitemap/iaea/sitemap.xml\n",
      "2023-03-28 08:14:55,171 | INFO | sitemaps.py:536 | sitemap_to_df | Getting https://pacificdata.org/data/sitemap/kiribati-data/sitemap.xml\n",
      "2023-03-28 08:14:55,184 | INFO | sitemaps.py:536 | sitemap_to_df | Getting https://pacificdata.org/data/sitemap/kiribati-ministry-of-education/sitemap.xml\n",
      "2023-03-28 08:14:55,317 | INFO | sitemaps.py:536 | sitemap_to_df | Getting https://pacificdata.org/data/sitemap/livelihoods-and-landscapes-project/sitemap.xml\n",
      "2023-03-28 08:14:55,479 | INFO | sitemaps.py:536 | sitemap_to_df | Getting https://pacificdata.org/data/sitemap/new-caledonia-open-data/sitemap.xml\n",
      "2023-03-28 08:14:55,501 | INFO | sitemaps.py:536 | sitemap_to_df | Getting https://pacificdata.org/data/sitemap/pacific-regional-inclusive-education-framework-prief/sitemap.xml\n",
      "2023-03-28 08:14:55,636 | INFO | sitemaps.py:536 | sitemap_to_df | Getting https://pacificdata.org/data/sitemap/palau-bureau-of-lands-surveys/sitemap.xml\n",
      "2023-03-28 08:14:55,775 | INFO | sitemaps.py:536 | sitemap_to_df | Getting https://pacificdata.org/data/sitemap/nauru-department-of-education/sitemap.xml\n",
      "2023-03-28 08:14:55,959 | INFO | sitemaps.py:536 | sitemap_to_df | Getting https://pacificdata.org/data/sitemap/nauru-data/sitemap.xml\n",
      "2023-03-28 08:14:56,118 | INFO | sitemaps.py:536 | sitemap_to_df | Getting https://pacificdata.org/data/sitemap/papua-new-guinea-department-of-education/sitemap.xml\n",
      "2023-03-28 08:14:56,166 | INFO | sitemaps.py:536 | sitemap_to_df | Getting https://pacificdata.org/data/sitemap/niue-department-of-justice-lands-survey-community-affairs/sitemap.xml\n",
      "2023-03-28 08:14:56,180 | INFO | sitemaps.py:536 | sitemap_to_df | Getting https://pacificdata.org/data/sitemap/pacific-islands-forum-secretariat/sitemap.xml\n",
      "2023-03-28 08:14:56,247 | INFO | sitemaps.py:536 | sitemap_to_df | Getting https://pacificdata.org/data/sitemap/pacific-women-lead/sitemap.xml\n",
      "2023-03-28 08:14:56,499 | INFO | sitemaps.py:536 | sitemap_to_df | Getting https://pacificdata.org/data/sitemap/marshall-islands-ministry-of-education-sports-and-training/sitemap.xml\n",
      "2023-03-28 08:14:56,506 | INFO | sitemaps.py:536 | sitemap_to_df | Getting https://pacificdata.org/data/sitemap/samoa-data/sitemap.xml\n",
      "2023-03-28 08:14:56,526 | INFO | sitemaps.py:536 | sitemap_to_df | Getting https://pacificdata.org/data/sitemap/palau-ministry-of-education/sitemap.xml\n",
      "2023-03-28 08:14:56,546 | INFO | sitemaps.py:536 | sitemap_to_df | Getting https://pacificdata.org/data/sitemap/palau-data/sitemap.xml\n",
      "2023-03-28 08:14:56,574 | INFO | sitemaps.py:536 | sitemap_to_df | Getting https://pacificdata.org/data/sitemap/png-data/sitemap.xml\n",
      "2023-03-28 08:14:56,823 | INFO | sitemaps.py:536 | sitemap_to_df | Getting https://pacificdata.org/data/sitemap/samoa-ministry-of-natural-resources-environment/sitemap.xml\n",
      "2023-03-28 08:14:56,843 | INFO | sitemaps.py:536 | sitemap_to_df | Getting https://pacificdata.org/data/sitemap/socioeconomic-data-and-applications-center-sedac/sitemap.xml\n",
      "2023-03-28 08:14:56,872 | INFO | sitemaps.py:536 | sitemap_to_df | Getting https://pacificdata.org/data/sitemap/papua-new-guinea-national-fisheries-authority/sitemap.xml\n",
      "2023-03-28 08:14:56,924 | INFO | sitemaps.py:536 | sitemap_to_df | Getting https://pacificdata.org/data/sitemap/solomonislands-data/sitemap.xml\n",
      "2023-03-28 08:14:57,152 | INFO | sitemaps.py:536 | sitemap_to_df | Getting https://pacificdata.org/data/sitemap/rmi-data/sitemap.xml\n",
      "2023-03-28 08:14:57,157 | INFO | sitemaps.py:536 | sitemap_to_df | Getting https://pacificdata.org/data/sitemap/samoa-ministry-of-education-sports-and-culture/sitemap.xml\n",
      "2023-03-28 08:14:57,166 | INFO | sitemaps.py:536 | sitemap_to_df | Getting https://pacificdata.org/data/sitemap/solomon-islands-ministry-of-mines-energy-rural-electrification/sitemap.xml\n",
      "2023-03-28 08:14:57,194 | INFO | sitemaps.py:536 | sitemap_to_df | Getting https://pacificdata.org/data/sitemap/spc-cces/sitemap.xml\n",
      "2023-03-28 08:14:57,229 | INFO | sitemaps.py:536 | sitemap_to_df | Getting https://pacificdata.org/data/sitemap/spc-eqap/sitemap.xml\n",
      "2023-03-28 08:14:57,452 | INFO | sitemaps.py:536 | sitemap_to_df | Getting https://pacificdata.org/data/sitemap/solomon-islands-ministry-of-education-and-human-resources-development/sitemap.xml\n",
      "2023-03-28 08:14:57,497 | INFO | sitemaps.py:536 | sitemap_to_df | Getting https://pacificdata.org/data/sitemap/spc-human-rights-and-social-development-division-hrsd/sitemap.xml\n",
      "2023-03-28 08:14:57,535 | INFO | sitemaps.py:536 | sitemap_to_df | Getting https://pacificdata.org/data/sitemap/sea-education-association/sitemap.xml\n",
      "2023-03-28 08:14:57,566 | INFO | sitemaps.py:536 | sitemap_to_df | Getting https://pacificdata.org/data/sitemap/sprep/sitemap.xml\n",
      "2023-03-28 08:14:57,765 | INFO | sitemaps.py:536 | sitemap_to_df | Getting https://pacificdata.org/data/sitemap/spc-fame/sitemap.xml\n",
      "2023-03-28 08:14:57,881 | INFO | sitemaps.py:536 | sitemap_to_df | Getting https://pacificdata.org/data/sitemap/spc/sitemap.xml\n",
      "2023-03-28 08:14:57,995 | INFO | sitemaps.py:536 | sitemap_to_df | Getting https://pacificdata.org/data/sitemap/spc-gem/sitemap.xml\n",
      "2023-03-28 08:14:58,111 | INFO | sitemaps.py:536 | sitemap_to_df | Getting https://pacificdata.org/data/sitemap/spc-lrd/sitemap.xml\n",
      "2023-03-28 08:14:58,138 | INFO | sitemaps.py:536 | sitemap_to_df | Getting https://pacificdata.org/data/sitemap/tonga-data/sitemap.xml\n",
      "2023-03-28 08:14:58,187 | INFO | sitemaps.py:536 | sitemap_to_df | Getting https://pacificdata.org/data/sitemap/tuvalu-data/sitemap.xml\n",
      "2023-03-28 08:14:58,251 | INFO | sitemaps.py:536 | sitemap_to_df | Getting https://pacificdata.org/data/sitemap/spc-phd/sitemap.xml\n",
      "2023-03-28 08:14:58,344 | INFO | sitemaps.py:536 | sitemap_to_df | Getting https://pacificdata.org/data/sitemap/tuvalu-lands-and-survey-department/sitemap.xml\n",
      "2023-03-28 08:14:58,438 | INFO | sitemaps.py:536 | sitemap_to_df | Getting https://pacificdata.org/data/sitemap/united-nations-economic-and-social-commission-for-asia-and-the-pacific-unescap/sitemap.xml\n",
      "2023-03-28 08:14:58,442 | INFO | sitemaps.py:536 | sitemap_to_df | Getting https://pacificdata.org/data/sitemap/unicef/sitemap.xml\n",
      "2023-03-28 08:14:58,487 | INFO | sitemaps.py:536 | sitemap_to_df | Getting https://pacificdata.org/data/sitemap/spc-rrrt/sitemap.xml\n",
      "2023-03-28 08:14:58,526 | INFO | sitemaps.py:536 | sitemap_to_df | Getting https://pacificdata.org/data/sitemap/united-nations-environment-programme-world-conservation-monitoring-centre-unep-wcmc/sitemap.xml\n",
      "2023-03-28 08:14:58,584 | INFO | sitemaps.py:536 | sitemap_to_df | Getting https://pacificdata.org/data/sitemap/united-nations-population-fund/sitemap.xml\n",
      "2023-03-28 08:14:58,679 | INFO | sitemaps.py:536 | sitemap_to_df | Getting https://pacificdata.org/data/sitemap/university-of-the-south-pacific-usp/sitemap.xml\n",
      "2023-03-28 08:14:58,762 | INFO | sitemaps.py:536 | sitemap_to_df | Getting https://pacificdata.org/data/sitemap/un-women/sitemap.xml\n",
      "2023-03-28 08:14:58,773 | INFO | sitemaps.py:536 | sitemap_to_df | Getting https://pacificdata.org/data/sitemap/spc-sdd/sitemap.xml\n",
      "2023-03-28 08:14:58,807 | INFO | sitemaps.py:536 | sitemap_to_df | Getting https://pacificdata.org/data/sitemap/vanuatu-maritime-and-ocean-affairs-division/sitemap.xml\n",
      "2023-03-28 08:14:58,827 | INFO | sitemaps.py:536 | sitemap_to_df | Getting https://pacificdata.org/data/sitemap/vanuatu-ministry-of-education-and-training/sitemap.xml\n",
      "2023-03-28 08:14:58,860 | INFO | sitemaps.py:536 | sitemap_to_df | Getting https://pacificdata.org/data/sitemap/tonga-ministry-of-education-and-training/sitemap.xml\n",
      "2023-03-28 08:14:58,977 | INFO | sitemaps.py:536 | sitemap_to_df | Getting https://pacificdata.org/content/sitemap.xml\n",
      "2023-03-28 08:14:59,358 | INFO | sitemaps.py:536 | sitemap_to_df | Getting https://pacificdata.org/data/sitemap/vanuatu-data/sitemap.xml\n"
     ]
    },
    {
     "name": "stdout",
     "output_type": "stream",
     "text": [
      "CPU times: user 758 ms, sys: 44.1 ms, total: 802 ms\n",
      "Wall time: 7.59 s\n"
     ]
    }
   ],
   "source": [
    "%%time \n",
    "\n",
    "# smurl = 'https://opencoredata.org/sitemap_0.xml'\n",
    "# smurl = 'https://www.bco-dmo.org/sitemap.xml'\n",
    "# smurl = 'https://opentopography.org/sitemap.xml'\n",
    "# smurl = 'https://www2.earthref.org/MagIC/contributions.sitemap.xml'\n",
    "# smurl = 'https://oceanscape.org/organisation-sitemap.xml'\n",
    "# smurl = 'https://catalogue.cioosatlantic.ca/sitemap/sitemap-1.xml'\n",
    "# smurl = 'https://obis.org/sitemap/sitemap_datasets.xml'\n",
    "# smurl = 'https://infohub.eurocean.net/sitemap/vessels'\n",
    "# smurl = 'https://raw.githubusercontent.com/iodepo/odis-arch/schema-dev-jm/code/notebooks/Exploration/data-pacificdatahub/sitemap.xml'\n",
    "# smurl = 'https://catalogue.cioospacific.ca/sitemap/sitemap-1.xml'\n",
    "# smurl = 'https://geonode.nodc.id/sitemap.xml'\n",
    "# smurl = \"https://lipdverse.org/sitemap.xml\"\n",
    "# smurl = \"https://pacificdata.org/organization/sitemap.xml\"\n",
    "# smurl = \"https://pacificdata.org/data/sitemap/cookislands-data/sitemap.xml\"\n",
    "# smurl = 'https://geoconnex.us/sitemap/ref/states/states__0.xml'\n",
    "# smurl = \"https://oceanscape.org/organisation-sitemap.xml\"\n",
    "# smurl = \"https://catalogue.cioos.ca/sitemap/sitemap.xml\"\n",
    "# smurl = \"https://geoconnex.us/sitemap.xml\"\n",
    "# smurl = \"https://ioc-africa.org/sitemap.xml\"\n",
    "# smurl = \"https://researchdata.edu.au/home/sitemap/?ds=64\"\n",
    "# smurl = \"https://uatweb.spc.links.com.au/sitemap.xml\"\n",
    "# smurl = \"https://uatweb.spc.links.com.au/sitemap.xml\"\n",
    "smurl = \"https://pacificdata.org/organization/sitemap.xml\"\n",
    "\n",
    "iow_sitemap = adv.sitemap_to_df(smurl) # load sitemap to dataframe via advertools\n",
    "# iow_sitemap.info()\n",
    "# iow_sitemap.head()"
   ]
  },
  {
   "cell_type": "markdown",
   "id": "8a46fe1a",
   "metadata": {},
   "source": [
    "## Analyzing the URLs\n",
    "\n",
    "We can quickly grab the unique URLs from the sitemap column and see how many unique sitemap.xml files we are working with\n",
    "\n",
    "We can also dive into the URL structure for the resources a bit."
   ]
  },
  {
   "cell_type": "code",
   "execution_count": 3,
   "id": "dea7c700-abf3-468a-b435-83fac93a4279",
   "metadata": {
    "tags": []
   },
   "outputs": [
    {
     "name": "stdout",
     "output_type": "stream",
     "text": [
      "68 unique sitemap XML file(s) pointing to 11634 unique resource(s).\n"
     ]
    }
   ],
   "source": [
    "usm = iow_sitemap.sitemap.unique()\n",
    "uloc = iow_sitemap[\"loc\"].unique()\n",
    "print(\"{} unique sitemap XML file(s) pointing to {} unique resource(s).\".format(len(usm), len(uloc)))\n"
   ]
  },
  {
   "cell_type": "code",
   "execution_count": 9,
   "id": "710a7602",
   "metadata": {
    "collapsed": false,
    "jupyter": {
     "outputs_hidden": false
    },
    "tags": []
   },
   "outputs": [],
   "source": [
    "\n",
    "from urllib.parse import urlparse\n",
    "\n",
    "invalid_urls = []\n",
    "\n",
    "for url in uloc:\n",
    "    try:\n",
    "        result = urlparse(url)\n",
    "        if all([result.scheme, result.netloc]):\n",
    "            pass\n",
    "        else:\n",
    "            invalid_urls.append(url)\n",
    "    except ValueError:\n",
    "        print(f\"{url} is an exception URL\")\n",
    "        invalid_urls.append(url)\n",
    "\n",
    "\n",
    "df = pd.DataFrame({'Invalid URLs': invalid_urls})\n"
   ]
  },
  {
   "cell_type": "code",
   "execution_count": 10,
   "id": "0860ce39",
   "metadata": {
    "collapsed": false,
    "jupyter": {
     "outputs_hidden": false
    },
    "tags": []
   },
   "outputs": [
    {
     "data": {
      "text/html": [
       "<div>\n",
       "<style scoped>\n",
       "    .dataframe tbody tr th:only-of-type {\n",
       "        vertical-align: middle;\n",
       "    }\n",
       "\n",
       "    .dataframe tbody tr th {\n",
       "        vertical-align: top;\n",
       "    }\n",
       "\n",
       "    .dataframe thead th {\n",
       "        text-align: right;\n",
       "    }\n",
       "</style>\n",
       "<table border=\"1\" class=\"dataframe\">\n",
       "  <thead>\n",
       "    <tr style=\"text-align: right;\">\n",
       "      <th></th>\n",
       "      <th>Invalid URLs</th>\n",
       "    </tr>\n",
       "  </thead>\n",
       "  <tbody>\n",
       "  </tbody>\n",
       "</table>\n",
       "</div>"
      ],
      "text/plain": [
       "Empty DataFrame\n",
       "Columns: [Invalid URLs]\n",
       "Index: []"
      ]
     },
     "execution_count": 10,
     "metadata": {},
     "output_type": "execute_result"
    }
   ],
   "source": [
    "df.head()"
   ]
  },
  {
   "cell_type": "code",
   "execution_count": 11,
   "id": "7bc2195f-c945-4c97-ae54-42195d19d8ee",
   "metadata": {
    "tags": []
   },
   "outputs": [],
   "source": [
    "from urllib.parse import urlparse\n",
    "\n",
    "valid_urls = []\n",
    "\n",
    "\n",
    "for url in uloc:\n",
    "    try:\n",
    "        result = urlparse(url)\n",
    "        if all([result.scheme, result.netloc]):\n",
    "            valid_urls.append(url)\n",
    "        else:\n",
    "            print(f\"Invalid URL: {url}\")\n",
    "    except ValueError:\n",
    "        print(f\"Invalid URL: {url}\")\n"
   ]
  },
  {
   "cell_type": "code",
   "execution_count": 12,
   "id": "74b21613",
   "metadata": {
    "collapsed": false,
    "jupyter": {
     "outputs_hidden": false
    },
    "tags": []
   },
   "outputs": [
    {
     "data": {
      "text/html": [
       "<div>\n",
       "<style scoped>\n",
       "    .dataframe tbody tr th:only-of-type {\n",
       "        vertical-align: middle;\n",
       "    }\n",
       "\n",
       "    .dataframe tbody tr th {\n",
       "        vertical-align: top;\n",
       "    }\n",
       "\n",
       "    .dataframe thead th {\n",
       "        text-align: right;\n",
       "    }\n",
       "</style>\n",
       "<table border=\"1\" class=\"dataframe\">\n",
       "  <thead>\n",
       "    <tr style=\"text-align: right;\">\n",
       "      <th></th>\n",
       "      <th>url</th>\n",
       "      <th>scheme</th>\n",
       "      <th>netloc</th>\n",
       "      <th>path</th>\n",
       "      <th>query</th>\n",
       "      <th>fragment</th>\n",
       "      <th>dir_1</th>\n",
       "      <th>dir_2</th>\n",
       "      <th>dir_3</th>\n",
       "      <th>dir_4</th>\n",
       "      <th>dir_5</th>\n",
       "      <th>dir_6</th>\n",
       "      <th>last_dir</th>\n",
       "    </tr>\n",
       "  </thead>\n",
       "  <tbody>\n",
       "    <tr>\n",
       "      <th>0</th>\n",
       "      <td>https://uatweb.spc.links.com.au/story/introduc...</td>\n",
       "      <td>https</td>\n",
       "      <td>uatweb.spc.links.com.au</td>\n",
       "      <td>/story/introduction-pacific-data-hub-microdata...</td>\n",
       "      <td>NaN</td>\n",
       "      <td>NaN</td>\n",
       "      <td>story</td>\n",
       "      <td>introduction-pacific-data-hub-microdata-library</td>\n",
       "      <td>NaN</td>\n",
       "      <td>NaN</td>\n",
       "      <td>NaN</td>\n",
       "      <td>NaN</td>\n",
       "      <td>introduction-pacific-data-hub-microdata-library</td>\n",
       "    </tr>\n",
       "    <tr>\n",
       "      <th>1</th>\n",
       "      <td>https://uatweb.spc.links.com.au/story/introduc...</td>\n",
       "      <td>https</td>\n",
       "      <td>uatweb.spc.links.com.au</td>\n",
       "      <td>/story/introduction-pdhstat-indicator-database</td>\n",
       "      <td>NaN</td>\n",
       "      <td>NaN</td>\n",
       "      <td>story</td>\n",
       "      <td>introduction-pdhstat-indicator-database</td>\n",
       "      <td>NaN</td>\n",
       "      <td>NaN</td>\n",
       "      <td>NaN</td>\n",
       "      <td>NaN</td>\n",
       "      <td>introduction-pdhstat-indicator-database</td>\n",
       "    </tr>\n",
       "    <tr>\n",
       "      <th>2</th>\n",
       "      <td>https://uatweb.spc.links.com.au/story/epidemic...</td>\n",
       "      <td>https</td>\n",
       "      <td>uatweb.spc.links.com.au</td>\n",
       "      <td>/story/epidemic-and-emerging-disease-alerts-pa...</td>\n",
       "      <td>NaN</td>\n",
       "      <td>NaN</td>\n",
       "      <td>story</td>\n",
       "      <td>epidemic-and-emerging-disease-alerts-pacific-r...</td>\n",
       "      <td>NaN</td>\n",
       "      <td>NaN</td>\n",
       "      <td>NaN</td>\n",
       "      <td>NaN</td>\n",
       "      <td>epidemic-and-emerging-disease-alerts-pacific-r...</td>\n",
       "    </tr>\n",
       "    <tr>\n",
       "      <th>3</th>\n",
       "      <td>https://uatweb.spc.links.com.au/story/coastal-...</td>\n",
       "      <td>https</td>\n",
       "      <td>uatweb.spc.links.com.au</td>\n",
       "      <td>/story/coastal-proximity-populations-22-pacifi...</td>\n",
       "      <td>NaN</td>\n",
       "      <td>NaN</td>\n",
       "      <td>story</td>\n",
       "      <td>coastal-proximity-populations-22-pacific-islan...</td>\n",
       "      <td>NaN</td>\n",
       "      <td>NaN</td>\n",
       "      <td>NaN</td>\n",
       "      <td>NaN</td>\n",
       "      <td>coastal-proximity-populations-22-pacific-islan...</td>\n",
       "    </tr>\n",
       "    <tr>\n",
       "      <th>4</th>\n",
       "      <td>https://uatweb.spc.links.com.au/story/pacific-...</td>\n",
       "      <td>https</td>\n",
       "      <td>uatweb.spc.links.com.au</td>\n",
       "      <td>/story/pacific-island-populations-2020</td>\n",
       "      <td>NaN</td>\n",
       "      <td>NaN</td>\n",
       "      <td>story</td>\n",
       "      <td>pacific-island-populations-2020</td>\n",
       "      <td>NaN</td>\n",
       "      <td>NaN</td>\n",
       "      <td>NaN</td>\n",
       "      <td>NaN</td>\n",
       "      <td>pacific-island-populations-2020</td>\n",
       "    </tr>\n",
       "  </tbody>\n",
       "</table>\n",
       "</div>"
      ],
      "text/plain": [
       "                                                 url scheme  \\\n",
       "0  https://uatweb.spc.links.com.au/story/introduc...  https   \n",
       "1  https://uatweb.spc.links.com.au/story/introduc...  https   \n",
       "2  https://uatweb.spc.links.com.au/story/epidemic...  https   \n",
       "3  https://uatweb.spc.links.com.au/story/coastal-...  https   \n",
       "4  https://uatweb.spc.links.com.au/story/pacific-...  https   \n",
       "\n",
       "                    netloc                                               path  \\\n",
       "0  uatweb.spc.links.com.au  /story/introduction-pacific-data-hub-microdata...   \n",
       "1  uatweb.spc.links.com.au     /story/introduction-pdhstat-indicator-database   \n",
       "2  uatweb.spc.links.com.au  /story/epidemic-and-emerging-disease-alerts-pa...   \n",
       "3  uatweb.spc.links.com.au  /story/coastal-proximity-populations-22-pacifi...   \n",
       "4  uatweb.spc.links.com.au             /story/pacific-island-populations-2020   \n",
       "\n",
       "   query  fragment  dir_1                                              dir_2  \\\n",
       "0    NaN       NaN  story    introduction-pacific-data-hub-microdata-library   \n",
       "1    NaN       NaN  story            introduction-pdhstat-indicator-database   \n",
       "2    NaN       NaN  story  epidemic-and-emerging-disease-alerts-pacific-r...   \n",
       "3    NaN       NaN  story  coastal-proximity-populations-22-pacific-islan...   \n",
       "4    NaN       NaN  story                    pacific-island-populations-2020   \n",
       "\n",
       "  dir_3 dir_4 dir_5 dir_6                                           last_dir  \n",
       "0   NaN   NaN   NaN   NaN    introduction-pacific-data-hub-microdata-library  \n",
       "1   NaN   NaN   NaN   NaN            introduction-pdhstat-indicator-database  \n",
       "2   NaN   NaN   NaN   NaN  epidemic-and-emerging-disease-alerts-pacific-r...  \n",
       "3   NaN   NaN   NaN   NaN  coastal-proximity-populations-22-pacific-islan...  \n",
       "4   NaN   NaN   NaN   NaN                    pacific-island-populations-2020  "
      ]
     },
     "execution_count": 12,
     "metadata": {},
     "output_type": "execute_result"
    }
   ],
   "source": [
    "\n",
    "# Break down all the URL into their path parts\n",
    "urldf = adv.url_to_df(list(iow_sitemap['loc']))\n",
    "# urldf = adv.url_to_df(list(uloc))\n",
    "\n",
    "urldf.head()"
   ]
  },
  {
   "cell_type": "markdown",
   "id": "9e806ba0",
   "metadata": {},
   "source": [
    "## Sample and test sitemap entries"
   ]
  },
  {
   "cell_type": "code",
   "execution_count": 9,
   "id": "20e46dd2",
   "metadata": {
    "tags": []
   },
   "outputs": [],
   "source": [
    "# sample the previously generated url data frame\n",
    "sample_size = 5\n",
    "# sample_df = urldf.groupby(\"dir_1\").sample(n=sample_size, random_state=1, replace=True)\n",
    "sample_df = urldf.sample(n=sample_size, random_state=1, replace=True)"
   ]
  },
  {
   "cell_type": "code",
   "execution_count": 10,
   "id": "b725c4ca",
   "metadata": {
    "pycharm": {
     "is_executing": true
    },
    "tags": []
   },
   "outputs": [
    {
     "data": {
      "text/html": [
       "<div>\n",
       "<style scoped>\n",
       "    .dataframe tbody tr th:only-of-type {\n",
       "        vertical-align: middle;\n",
       "    }\n",
       "\n",
       "    .dataframe tbody tr th {\n",
       "        vertical-align: top;\n",
       "    }\n",
       "\n",
       "    .dataframe thead th {\n",
       "        text-align: right;\n",
       "    }\n",
       "</style>\n",
       "<table border=\"1\" class=\"dataframe\">\n",
       "  <thead>\n",
       "    <tr style=\"text-align: right;\">\n",
       "      <th></th>\n",
       "      <th>url</th>\n",
       "      <th>scheme</th>\n",
       "      <th>netloc</th>\n",
       "      <th>path</th>\n",
       "      <th>query</th>\n",
       "      <th>fragment</th>\n",
       "      <th>dir_1</th>\n",
       "      <th>dir_2</th>\n",
       "      <th>last_dir</th>\n",
       "    </tr>\n",
       "  </thead>\n",
       "  <tbody>\n",
       "    <tr>\n",
       "      <th>1061</th>\n",
       "      <td>https://researchdata.edu.au/imos-soop-underway...</td>\n",
       "      <td>https</td>\n",
       "      <td>researchdata.edu.au</td>\n",
       "      <td>/imos-soop-underway-sep-2017/970828</td>\n",
       "      <td>NaN</td>\n",
       "      <td>NaN</td>\n",
       "      <td>imos-soop-underway-sep-2017</td>\n",
       "      <td>970828</td>\n",
       "      <td>970828</td>\n",
       "    </tr>\n",
       "    <tr>\n",
       "      <th>235</th>\n",
       "      <td>https://researchdata.edu.au/heupel-michelle/17...</td>\n",
       "      <td>https</td>\n",
       "      <td>researchdata.edu.au</td>\n",
       "      <td>/heupel-michelle/1709766</td>\n",
       "      <td>NaN</td>\n",
       "      <td>NaN</td>\n",
       "      <td>heupel-michelle</td>\n",
       "      <td>1709766</td>\n",
       "      <td>1709766</td>\n",
       "    </tr>\n",
       "    <tr>\n",
       "      <th>1932</th>\n",
       "      <td>https://researchdata.edu.au/wienecke-barbara/4...</td>\n",
       "      <td>https</td>\n",
       "      <td>researchdata.edu.au</td>\n",
       "      <td>/wienecke-barbara/475684</td>\n",
       "      <td>NaN</td>\n",
       "      <td>NaN</td>\n",
       "      <td>wienecke-barbara</td>\n",
       "      <td>475684</td>\n",
       "      <td>475684</td>\n",
       "    </tr>\n",
       "    <tr>\n",
       "      <th>1096</th>\n",
       "      <td>https://researchdata.edu.au/imos-soop-underway...</td>\n",
       "      <td>https</td>\n",
       "      <td>researchdata.edu.au</td>\n",
       "      <td>/imos-soop-underway-jan-2019/1360836</td>\n",
       "      <td>NaN</td>\n",
       "      <td>NaN</td>\n",
       "      <td>imos-soop-underway-jan-2019</td>\n",
       "      <td>1360836</td>\n",
       "      <td>1360836</td>\n",
       "    </tr>\n",
       "    <tr>\n",
       "      <th>1791</th>\n",
       "      <td>https://researchdata.edu.au/saimos-biological-...</td>\n",
       "      <td>https</td>\n",
       "      <td>researchdata.edu.au</td>\n",
       "      <td>/saimos-biological-flow-june-2020/1877502</td>\n",
       "      <td>NaN</td>\n",
       "      <td>NaN</td>\n",
       "      <td>saimos-biological-flow-june-2020</td>\n",
       "      <td>1877502</td>\n",
       "      <td>1877502</td>\n",
       "    </tr>\n",
       "  </tbody>\n",
       "</table>\n",
       "</div>"
      ],
      "text/plain": [
       "                                                    url scheme  \\\n",
       "1061  https://researchdata.edu.au/imos-soop-underway...  https   \n",
       "235   https://researchdata.edu.au/heupel-michelle/17...  https   \n",
       "1932  https://researchdata.edu.au/wienecke-barbara/4...  https   \n",
       "1096  https://researchdata.edu.au/imos-soop-underway...  https   \n",
       "1791  https://researchdata.edu.au/saimos-biological-...  https   \n",
       "\n",
       "                   netloc                                       path  query  \\\n",
       "1061  researchdata.edu.au        /imos-soop-underway-sep-2017/970828    NaN   \n",
       "235   researchdata.edu.au                   /heupel-michelle/1709766    NaN   \n",
       "1932  researchdata.edu.au                   /wienecke-barbara/475684    NaN   \n",
       "1096  researchdata.edu.au       /imos-soop-underway-jan-2019/1360836    NaN   \n",
       "1791  researchdata.edu.au  /saimos-biological-flow-june-2020/1877502    NaN   \n",
       "\n",
       "      fragment                             dir_1    dir_2 last_dir  \n",
       "1061       NaN       imos-soop-underway-sep-2017   970828   970828  \n",
       "235        NaN                   heupel-michelle  1709766  1709766  \n",
       "1932       NaN                  wienecke-barbara   475684   475684  \n",
       "1096       NaN       imos-soop-underway-jan-2019  1360836  1360836  \n",
       "1791       NaN  saimos-biological-flow-june-2020  1877502  1877502  "
      ]
     },
     "execution_count": 10,
     "metadata": {},
     "output_type": "execute_result"
    }
   ],
   "source": [
    "sample_df.head(5)"
   ]
  },
  {
   "cell_type": "markdown",
   "id": "c58bee8f",
   "metadata": {},
   "source": [
    "### See if the URLs resolve"
   ]
  },
  {
   "cell_type": "code",
   "execution_count": 11,
   "id": "0c22245d",
   "metadata": {
    "pycharm": {
     "is_executing": true
    },
    "tags": []
   },
   "outputs": [
    {
     "name": "stdout",
     "output_type": "stream",
     "text": [
      "URL: https://researchdata.edu.au/imos-soop-underway-sep-2017/970828 \n",
      "URL: https://researchdata.edu.au/heupel-michelle/1709766 \n",
      "URL: https://researchdata.edu.au/wienecke-barbara/475684 \n",
      "URL: https://researchdata.edu.au/imos-soop-underway-jan-2019/1360836 \n",
      "URL: https://researchdata.edu.au/saimos-biological-flow-june-2020/1877502 \n"
     ]
    }
   ],
   "source": [
    "import urllib.request\n",
    "import requests\n",
    "\n",
    "ul = sample_df[\"url\"]\n",
    "\n",
    "for item in ul:\n",
    "    # user_agent = 'Mozilla/5.0 (Windows; U; Windows NT 5.1; en-US; rv:1.9.0.7) Gecko/2009021910 Firefox/3.0.7'\n",
    "    # headers={'User-Agent':user_agent,}\n",
    "\n",
    "    headers= {'User-Agent': 'Mozilla/5.0 (X11; Linux x86_64) '\n",
    "                           'AppleWebKit/537.11 (KHTML, like Gecko) '\n",
    "                           'Chrome/23.0.1271.64 Safari/537.11',\n",
    "             'Accept': 'text/html,application/xhtml+xml,application/xml;q=0.9,*/*;q=0.8',\n",
    "             'Accept-Charset': 'ISO-8859-1,utf-8;q=0.7,*;q=0.3',\n",
    "             'Accept-Encoding': 'none',\n",
    "             'Accept-Language': 'en-US,en;q=0.8',\n",
    "             'Connection': 'keep-alive'}\n",
    "\n",
    "    try:\n",
    "        # x = requests.get(item)\n",
    "        # code = x.status_code\n",
    "        request=urllib.request.Request(url=item, headers=headers) #The assembled request\n",
    "        with urllib.request.urlopen(request) as response:\n",
    "            info = response.info()\n",
    "            dtype = info.get_content_type()    # -> text/html\n",
    "         # headers = x.headers()\n",
    "        # print(\"URL: {} \\ninfo : {}\\n --\".format(item, info))\n",
    "        print(\"URL: {} \".format(item))\n",
    "    except Exception as e:\n",
    "        # code = x.status_code\n",
    "        # dtype = info.get_content_type()\n",
    "\n",
    "        print(\"Exception on: {} \\nerrors : {}\\n --\".format(item, str(e)))\n"
   ]
  },
  {
   "cell_type": "markdown",
   "id": "ed2bcab8",
   "metadata": {},
   "source": [
    "### See if they have JSON-LD (static check only, no dynamically loaded JSON-LD yet)"
   ]
  },
  {
   "cell_type": "code",
   "execution_count": 15,
   "id": "cd25210a",
   "metadata": {
    "tags": []
   },
   "outputs": [
    {
     "name": "stdout",
     "output_type": "stream",
     "text": [
      "https://researchdata.edu.au/imos-soop-underway-sep-2017/970828\n",
      "<script type=\"application/ld+json\">{\"@context\":\"https:\\/\\/schema.org\\/\",\"@type\":\"Dataset\",\"creator\":[{\"@type\":\"Role\",\"roleName\":\"Contributor\",\"creator\":{\"@type\":\"Person\",\"name\":\"Australian Institute of Marine Science (AIMS)\"}},{\"@type\":\"Role\",\"roleName\":\"Contributor\",\"creator\":{\"@type\":\"Person\",\"name\":\"Integrated Marine Observing System (IMOS)\"}}],\"datePublished\":\"2023\",\"sourceOrganization\":{\"@type\":\"Organization\",\"name\":\"Integrated Marine Observing System\"},\"keywords\":\" oceans, Practical salinity of the water body, Temperature of the water body, Fluorescence of the water body, Turbidity of the water body\",\"license\":[\"CC-BY\",\"http:\\/\\/creativecommons.org\\/licenses\\/by\\/3.0\\/au\\/\",\"Creative Commons Attribution 3.0 Australia License\",\"CC-BY\",\"http:\\/\\/creativecommons.org\\/licenses\\/by\\/3.0\\/au\"],\"publisher\":{\"@type\":\"Organization\",\"name\":\"Australian Institute of Marine Science (AIMS)\"},\"spatialCoverage\":[{\"@type\":\"Place\",\"geo\":{\"@type\":\"GeoShape\",\"box\":\"-19.25234 146.96904 -19.18092 147.13726\"}},{\"@type\":\"Place\",\"geo\":{\"@type\":\"GeoShape\",\"box\":\"-19.30974 147.0587 -19.27732 147.62308\"}}],\"inLanguage\":\"en\",\"name\":\"IMOS SOOP Underway Data from AIMS Vessel RV Cape Ferguson Trip 6768 From 22 Sep 2017 To 27 Sep 2017\",\"description\":[\"'Ships of Opportunity' (SOOP) is a facility of the Australian 'Integrated Marine Observing System' (IMOS) project. This data set was collected by the SOOP sub-facility 'Sensors on Tropical Research Vessels' aboard the RV Cape Ferguson Trip 6768.\\\\n\"],\"identifier\":{\"@type\":\"PropertyValue\",\"@id\":\"498d5dd6-ff14-4c84-970c-653cf24105ea\",\"value\":\"498d5dd6-ff14-4c84-970c-653cf24105ea\"},\"url\":\"https:\\/\\/researchdata.edu.au\\/imos-soop-underway-sep-2017\\/970828\"}</script>\n",
      "JSON byte size: 1667 \n",
      "https://researchdata.edu.au/heupel-michelle/1709766\n"
     ]
    },
    {
     "name": "stderr",
     "output_type": "stream",
     "text": [
      "2023-03-15 14:12:22,596 | ERROR | 1914706094.py:25 | <module> | Traceback (most recent call last):\n",
      "  File \"/tmp/ipykernel_3460541/1914706094.py\", line 23, in <module>\n",
      "    print(\"JSON byte size: {} \".format(len(p.contents[0])))\n",
      "AttributeError: 'NoneType' object has no attribute 'contents'\n",
      "\n"
     ]
    },
    {
     "name": "stdout",
     "output_type": "stream",
     "text": [
      "None\n",
      "https://researchdata.edu.au/wienecke-barbara/475684\n"
     ]
    },
    {
     "name": "stderr",
     "output_type": "stream",
     "text": [
      "2023-03-15 14:12:25,436 | ERROR | 1914706094.py:25 | <module> | Traceback (most recent call last):\n",
      "  File \"/tmp/ipykernel_3460541/1914706094.py\", line 23, in <module>\n",
      "    print(\"JSON byte size: {} \".format(len(p.contents[0])))\n",
      "AttributeError: 'NoneType' object has no attribute 'contents'\n",
      "\n"
     ]
    },
    {
     "name": "stdout",
     "output_type": "stream",
     "text": [
      "None\n",
      "https://researchdata.edu.au/imos-soop-underway-jan-2019/1360836\n",
      "<script type=\"application/ld+json\">{\"@context\":\"https:\\/\\/schema.org\\/\",\"@type\":\"Dataset\",\"creator\":[{\"@type\":\"Role\",\"roleName\":\"Contributor\",\"creator\":{\"@type\":\"Person\",\"name\":\"Australian Institute of Marine Science (AIMS)\"}},{\"@type\":\"Role\",\"roleName\":\"Contributor\",\"creator\":{\"@type\":\"Person\",\"name\":\"Integrated Marine Observing System (IMOS)\"}}],\"datePublished\":\"2023\",\"sourceOrganization\":{\"@type\":\"Organization\",\"name\":\"Integrated Marine Observing System\"},\"keywords\":\" oceans, Practical salinity of the water body, Temperature of the water body, Fluorescence of the water body, Turbidity of the water body\",\"license\":[\"CC-BY\",\"http:\\/\\/creativecommons.org\\/licenses\\/by\\/3.0\\/au\\/\",\"Creative Commons Attribution 3.0 Australia License\",\"CC-BY\",\"http:\\/\\/creativecommons.org\\/licenses\\/by\\/3.0\\/au\"],\"publisher\":{\"@type\":\"Organization\",\"name\":\"Australian Institute of Marine Science (AIMS)\"},\"spatialCoverage\":[{\"@type\":\"Place\",\"geo\":{\"@type\":\"GeoShape\",\"box\":\"-19.27886 146.87378 -18.47898 147.63358\"}}],\"inLanguage\":\"en\",\"name\":\"IMOS SOOP Underway Data from AIMS Vessel RV Cape Ferguson Trip 7054 From 14 Jan 2019 To 18 Jan 2019\",\"description\":[\"'Ships of Opportunity' (SOOP) is a facility of the Australian 'Integrated Marine Observing System' (IMOS) project. This data set was collected by the SOOP sub-facility 'Sensors on Tropical Research Vessels' aboard the RV Cape Ferguson Trip 7054.\\\\n\"],\"identifier\":{\"@type\":\"PropertyValue\",\"@id\":\"7F74160C-6C3A-418D-E054-0010E056919A\",\"value\":\"7F74160C-6C3A-418D-E054-0010E056919A\"},\"url\":\"https:\\/\\/researchdata.edu.au\\/imos-soop-underway-jan-2019\\/1360836\"}</script>\n",
      "JSON byte size: 1576 \n",
      "https://researchdata.edu.au/saimos-biological-flow-june-2020/1877502\n",
      "<script type=\"application/ld+json\">{\"@context\":\"https:\\/\\/schema.org\\/\",\"@type\":\"Dataset\",\"creator\":[{\"@type\":\"Role\",\"roleName\":\"Principal investigator\",\"creator\":{\"@type\":\"Person\",\"name\":\"van Ruth, Paul\",\"url\":\"https:\\/\\/researchdata.edu.au\\/van-ruth-paul\\/678083\"}},{\"@type\":\"Role\",\"roleName\":\"Principal investigator\",\"creator\":{\"@type\":\"Person\",\"name\":\"van Ruth, Paul\",\"identifier\":{\"@type\":\"PropertyValue\",\"@id\":\"https:\\/\\/orcid.org\\/0000-0002-8436-579X\",\"url\":\"https:\\/\\/orcid.org\\/0000-0002-8436-579X\",\"propertyID\":\"https:\\/\\/registry.identifiers.org\\/registry\\/orcid\",\"value\":\"orcid:0000-0002-8436-579X\"},\"url\":\"https:\\/\\/researchdata.edu.au\\/van-ruth-paul\\/692177\"}},{\"@type\":\"Role\",\"roleName\":\"Contributor\",\"creator\":{\"@type\":\"Person\",\"name\":\"Integrated Marine Observing System (IMOS)\"}}],\"datePublished\":\"2021\",\"sourceOrganization\":{\"@type\":\"Organization\",\"name\":\"Integrated Marine Observing System\"},\"keywords\":\" oceans, SURFACE WINDS, EARTH SCIENCE, OCEANS, OCEAN WINDS, WATER DEPTH, BATHYMETRY\\/SEAFLOOR TOPOGRAPHY, SEA SURFACE TEMPERATURE, OCEAN TEMPERATURE, CHLOROPHYLL, OCEAN CHEMISTRY, NITROGEN, PHOSPHATE, SILICATE, PHYTOPLANKTON, BIOLOGICAL CLASSIFICATION, PROTISTS, PLANKTON, Biosphere | Microbiota | Bacteria, SUSPENDED SOLIDS, INORGANIC MATTER, ORGANIC MATTER, Niskin Bottles, IMOS Node | SA-IMOS | Southern Australian Integrated Marine Observing System, Virus, Picophytoplankton, latitude, longitude, wind_speed, wind_from_direction, depth, sea_surface_temperature, depth_of_chlorophyll_maximum, concentration_of_chlorophyll_in_sea_water, mole_concentration_of_nitrogen_in_ammonium_in_sea_water, mole_concentration_of_nitrogen_in_nitrate_and_nitrite_in_sea_water, mole_concentration_of_phosphorus_in_phosphate_in_sea_water, mole_concentration_of_silicate_in_sea_water, amount_of_picophytoplankton_in_sea_water, amount_of_bacteria_in_sea_water, amount_of_virus_in_sea_water, mass_concentration_of_suspended_matter_in_sea_water, mass_concentration_of_particulate_inorganic_matter_in_s ea_water, mass_concentration_of_particulate_organic_matter_in_sea _water\",\"license\":[\"CC-BY\",\"http:\\/\\/creativecommons.org\\/licenses\\/by\\/4.0\\/\",\"Creative Commons Attribution 4.0 International License\",\"CC-BY\",\"http:\\/\\/creativecommons.org\\/licenses\\/by\\/4.0\"],\"publisher\":{\"@type\":\"Organization\",\"name\":\"\"},\"spatialCoverage\":[{\"@type\":\"Place\",\"geo\":{\"@type\":\"GeoShape\",\"box\":\"-35.9 135 -33.11 138.5\"}},{\"@type\":\"Place\",\"description\":\"text westlimit=135.00; southlimit=-35.90; eastlimit=138.50; northlimit=-33.11\"},{\"@type\":\"Place\",\"description\":\"text uplimit=16; downlimit=0\"}],\"temporalCoverage\":\"2020-06-25\\/2020-06-25\",\"inLanguage\":\"en\",\"name\":\"SAIMOS - Biological and Flow Cytometry data collected from sampling stations in South Australia, in June 2020\",\"description\":[\"Flow cytometry data was collected in June 2020, in waters off South Australia, from the Gulf St Vincent (SAMGSV). \\n\\nThe general purpose of the study is to be able to establish background knowledge on the ecosystem on the continental shelf of South Australia and the impact of upwelling\\/saline outflow events on microbial communities to ultimately develop a biogeochemical model of the region. Sampling was carried out during cruises conducted on board the RV Ngerin as part of the Southern Australian Integrated Marine System (SAIMOS). During each cruise, the physical, chemical and biological properties of the chlorophyll fluorescence maximum (DCM) layer were investigated. Flow cytometry data has been collected for picophytoplankton, bacteria and viruses.\\n\\nSix main stations have been sampled over the course of the study, five are located on the 100 m isobath, i.e. RS (35.508S, 136.278E), B2 (35.418S, 136.148E), B3 (35.258S, 136.048E), SAM2CP\\/B4 (35.168S, 135.418E) and SAM5CB\\/B5 (35.008S, 135.198E), and one from an offshore station (B1; 36.188S, 136.178E) located southwest of Kangaroo Island. Note that combining the distances between stations (14\\u201325 nautical miles), the average component of the current velocity at middepth along the shelf (0.01 m s21) and the average speed of the vessel (i.e. 9 knots) indicate that different water masses were sampled at each station. Additional samples have on occasion been collected from the National Reference Station (NRS) at Kangaroo Island (35.832S, 136.447E) and the SA Spencer Gulf Mouth Mooring (SAM8SG, 35.25S, 136.690E), where the saline outflow occurs.\\n\\nSince July 2019 two additional BGC stations have been added to the SAIMOS sampling array: the SA Upper Spencer Gulf Mooring (SAMUSG, 33.111S, 137.709E) and the SA Gulf St Vincent Mooring (SAMGSV, 35.023S, 138.46E).\"],\"identifier\":{\"@type\":\"PropertyValue\",\"@id\":\"190bb3e3-f3cf-450b-bec2-97b5d86acbdf\",\"value\":\"190bb3e3-f3cf-450b-bec2-97b5d86acbdf\"},\"url\":\"https:\\/\\/researchdata.edu.au\\/saimos-biological-flow-june-2020\\/1877502\"}</script>\n",
      "JSON byte size: 4805 \n"
     ]
    }
   ],
   "source": [
    "ul = sample_df[\"url\"]\n",
    "\n",
    "headers= {'User-Agent': 'Mozilla/5.0 (X11; Linux x86_64) '\n",
    "                        'AppleWebKit/537.11 (KHTML, like Gecko) '\n",
    "                        'Chrome/23.0.1271.64 Safari/537.11',\n",
    "          'Accept': 'application/ld+json,text/html,application/xhtml+xml,application/xml;q=0.9,*/*;q=0.8',\n",
    "          'Accept-Charset': 'ISO-8859-1,utf-8;q=0.7,*;q=0.3',\n",
    "          'Accept-Encoding': 'none',\n",
    "          'Accept-Language': 'en-US,en;q=0.8',\n",
    "          'Connection': 'keep-alive'}\n",
    "\n",
    "for item in ul:\n",
    "    print(item)\n",
    "    request=urllib.request.Request(url=item, headers=headers)\n",
    "    # p = urllib.request.urlopen(request).read()\n",
    "    \n",
    "    html = urllib.request.urlopen(request).read()\n",
    "    soup = BeautifulSoup(html, \"html.parser\")\n",
    "    p = soup.find('script', {'type':'application/ld+json'})\n",
    "    try:\n",
    "        # print(\"JSON byte size: {} \".format(len(p)))\n",
    "        print(p)\n",
    "        print(\"JSON byte size: {} \".format(len(p.contents[0])))\n",
    "    except Exception as e:\n",
    "        logging.error(traceback.format_exc())"
   ]
  },
  {
   "cell_type": "markdown",
   "id": "b8875457",
   "metadata": {},
   "source": [
    "### Check JSON-LD structure (static check only, no dynamically loaded JSON-LD yet)"
   ]
  },
  {
   "cell_type": "code",
   "execution_count": 14,
   "id": "cd83aa38-7d5f-48d1-bdb2-12cadd72a9dc",
   "metadata": {
    "tags": []
   },
   "outputs": [
    {
     "name": "stderr",
     "output_type": "stream",
     "text": [
      "2023-03-15 14:10:55,496 | ERROR | 2320886990.py:34 | <module> | Traceback (most recent call last):\n",
      "  File \"/tmp/ipykernel_3460541/2320886990.py\", line 26, in <module>\n",
      "    jld = json.loads(p.contents[0])\n",
      "AttributeError: 'NoneType' object has no attribute 'contents'\n",
      "\n"
     ]
    },
    {
     "name": "stdout",
     "output_type": "stream",
     "text": [
      "Exception\n"
     ]
    },
    {
     "name": "stderr",
     "output_type": "stream",
     "text": [
      "2023-03-15 14:10:58,107 | ERROR | 2320886990.py:34 | <module> | Traceback (most recent call last):\n",
      "  File \"/tmp/ipykernel_3460541/2320886990.py\", line 26, in <module>\n",
      "    jld = json.loads(p.contents[0])\n",
      "AttributeError: 'NoneType' object has no attribute 'contents'\n",
      "\n"
     ]
    },
    {
     "name": "stdout",
     "output_type": "stream",
     "text": [
      "Exception\n"
     ]
    }
   ],
   "source": [
    "ul = sample_df[\"url\"]\n",
    "\n",
    "myframe =  {\n",
    "    \"@context\":{\"@vocab\": \"http://schema.org/\"},\n",
    "    \"@type\": \"Dataset\",\n",
    "}\n",
    "\n",
    "context =  { \"@vocab\": \"http://schema.org/\" }\n",
    "\n",
    "headers= {'User-Agent': 'Mozilla/5.0 (X11; Linux x86_64) '\n",
    "                        'AppleWebKit/537.11 (KHTML, like Gecko) '\n",
    "                        'Chrome/23.0.1271.64 Safari/537.11',\n",
    "          'Accept': 'application/ld+json,text/html,application/xhtml+xml,application/xml;q=0.9,*/*;q=0.8',\n",
    "          'Accept-Charset': 'ISO-8859-1,utf-8;q=0.7,*;q=0.3',\n",
    "          'Accept-Encoding': 'none',\n",
    "          'Accept-Language': 'en-US,en;q=0.8',\n",
    "          'Connection': 'keep-alive'}\n",
    "\n",
    "for item in ul:\n",
    "    request=urllib.request.Request(url=item, headers=headers)\n",
    "    # p = urllib.request.urlopen(request).read()\n",
    "    html = urllib.request.urlopen(request).read()\n",
    "    soup = BeautifulSoup(html, \"html.parser\")\n",
    "    p = soup.find('script', {'type':'application/ld+json'})\n",
    "    try:\n",
    "        jld = json.loads(p.contents[0])\n",
    "        # jld = json.loads(p)\n",
    "\n",
    "        # print(str(jld))\n",
    "        # compacted = jsonld.compact(str(jld), context)\n",
    "        # print(len(json.dumps(compacted, indent=2)))\n",
    "    except Exception as e:\n",
    "        print(\"Exception\")\n",
    "        logging.error(traceback.format_exc())"
   ]
  },
  {
   "cell_type": "markdown",
   "id": "c3c3f714",
   "metadata": {},
   "source": [
    "## Load to Graph\"\n",
    "\n",
    "Looad a sample set of triples into RDF lib and run a sample SPARQL query on them.\n",
    "\n",
    "### Note\n",
    "This is the same loop as above but now we will load into a KG graph"
   ]
  },
  {
   "cell_type": "code",
   "execution_count": 10,
   "id": "e39214e2",
   "metadata": {
    "collapsed": false,
    "jupyter": {
     "outputs_hidden": false
    }
   },
   "outputs": [
    {
     "ename": "HTTPError",
     "evalue": "HTTP Error 403: Forbidden",
     "output_type": "error",
     "traceback": [
      "\u001B[0;31m---------------------------------------------------------------------------\u001B[0m",
      "\u001B[0;31mHTTPError\u001B[0m                                 Traceback (most recent call last)",
      "Input \u001B[0;32mIn [10]\u001B[0m, in \u001B[0;36m<cell line: 16>\u001B[0;34m()\u001B[0m\n\u001B[1;32m     10\u001B[0m kg \u001B[38;5;241m=\u001B[39m kglab\u001B[38;5;241m.\u001B[39mKnowledgeGraph(\n\u001B[1;32m     11\u001B[0m     name \u001B[38;5;241m=\u001B[39m \u001B[38;5;124m\"\u001B[39m\u001B[38;5;124mSchema.org shacl eval datagraph\u001B[39m\u001B[38;5;124m\"\u001B[39m,\n\u001B[1;32m     12\u001B[0m     base_uri \u001B[38;5;241m=\u001B[39m \u001B[38;5;124m\"\u001B[39m\u001B[38;5;124mhttps://example.org/id/\u001B[39m\u001B[38;5;124m\"\u001B[39m,\n\u001B[1;32m     13\u001B[0m     namespaces \u001B[38;5;241m=\u001B[39m namespaces,\n\u001B[1;32m     14\u001B[0m )\n\u001B[1;32m     16\u001B[0m \u001B[38;5;28;01mfor\u001B[39;00m item \u001B[38;5;129;01min\u001B[39;00m ul:\n\u001B[0;32m---> 17\u001B[0m     html \u001B[38;5;241m=\u001B[39m \u001B[43murllib\u001B[49m\u001B[38;5;241;43m.\u001B[39;49m\u001B[43mrequest\u001B[49m\u001B[38;5;241;43m.\u001B[39;49m\u001B[43murlopen\u001B[49m\u001B[43m(\u001B[49m\u001B[43mitem\u001B[49m\u001B[43m)\u001B[49m\u001B[38;5;241m.\u001B[39mread()\n\u001B[1;32m     18\u001B[0m     soup \u001B[38;5;241m=\u001B[39m BeautifulSoup(html, \u001B[38;5;124m\"\u001B[39m\u001B[38;5;124mhtml.parser\u001B[39m\u001B[38;5;124m\"\u001B[39m)\n\u001B[1;32m     19\u001B[0m     p \u001B[38;5;241m=\u001B[39m soup\u001B[38;5;241m.\u001B[39mfind(\u001B[38;5;124m'\u001B[39m\u001B[38;5;124mscript\u001B[39m\u001B[38;5;124m'\u001B[39m, {\u001B[38;5;124m'\u001B[39m\u001B[38;5;124mtype\u001B[39m\u001B[38;5;124m'\u001B[39m:\u001B[38;5;124m'\u001B[39m\u001B[38;5;124mapplication/ld+json\u001B[39m\u001B[38;5;124m'\u001B[39m})\n",
      "File \u001B[0;32m~/.conda/envs/kglab/lib/python3.8/urllib/request.py:222\u001B[0m, in \u001B[0;36murlopen\u001B[0;34m(url, data, timeout, cafile, capath, cadefault, context)\u001B[0m\n\u001B[1;32m    220\u001B[0m \u001B[38;5;28;01melse\u001B[39;00m:\n\u001B[1;32m    221\u001B[0m     opener \u001B[38;5;241m=\u001B[39m _opener\n\u001B[0;32m--> 222\u001B[0m \u001B[38;5;28;01mreturn\u001B[39;00m \u001B[43mopener\u001B[49m\u001B[38;5;241;43m.\u001B[39;49m\u001B[43mopen\u001B[49m\u001B[43m(\u001B[49m\u001B[43murl\u001B[49m\u001B[43m,\u001B[49m\u001B[43m \u001B[49m\u001B[43mdata\u001B[49m\u001B[43m,\u001B[49m\u001B[43m \u001B[49m\u001B[43mtimeout\u001B[49m\u001B[43m)\u001B[49m\n",
      "File \u001B[0;32m~/.conda/envs/kglab/lib/python3.8/urllib/request.py:531\u001B[0m, in \u001B[0;36mOpenerDirector.open\u001B[0;34m(self, fullurl, data, timeout)\u001B[0m\n\u001B[1;32m    529\u001B[0m \u001B[38;5;28;01mfor\u001B[39;00m processor \u001B[38;5;129;01min\u001B[39;00m \u001B[38;5;28mself\u001B[39m\u001B[38;5;241m.\u001B[39mprocess_response\u001B[38;5;241m.\u001B[39mget(protocol, []):\n\u001B[1;32m    530\u001B[0m     meth \u001B[38;5;241m=\u001B[39m \u001B[38;5;28mgetattr\u001B[39m(processor, meth_name)\n\u001B[0;32m--> 531\u001B[0m     response \u001B[38;5;241m=\u001B[39m \u001B[43mmeth\u001B[49m\u001B[43m(\u001B[49m\u001B[43mreq\u001B[49m\u001B[43m,\u001B[49m\u001B[43m \u001B[49m\u001B[43mresponse\u001B[49m\u001B[43m)\u001B[49m\n\u001B[1;32m    533\u001B[0m \u001B[38;5;28;01mreturn\u001B[39;00m response\n",
      "File \u001B[0;32m~/.conda/envs/kglab/lib/python3.8/urllib/request.py:640\u001B[0m, in \u001B[0;36mHTTPErrorProcessor.http_response\u001B[0;34m(self, request, response)\u001B[0m\n\u001B[1;32m    637\u001B[0m \u001B[38;5;66;03m# According to RFC 2616, \"2xx\" code indicates that the client's\u001B[39;00m\n\u001B[1;32m    638\u001B[0m \u001B[38;5;66;03m# request was successfully received, understood, and accepted.\u001B[39;00m\n\u001B[1;32m    639\u001B[0m \u001B[38;5;28;01mif\u001B[39;00m \u001B[38;5;129;01mnot\u001B[39;00m (\u001B[38;5;241m200\u001B[39m \u001B[38;5;241m<\u001B[39m\u001B[38;5;241m=\u001B[39m code \u001B[38;5;241m<\u001B[39m \u001B[38;5;241m300\u001B[39m):\n\u001B[0;32m--> 640\u001B[0m     response \u001B[38;5;241m=\u001B[39m \u001B[38;5;28;43mself\u001B[39;49m\u001B[38;5;241;43m.\u001B[39;49m\u001B[43mparent\u001B[49m\u001B[38;5;241;43m.\u001B[39;49m\u001B[43merror\u001B[49m\u001B[43m(\u001B[49m\n\u001B[1;32m    641\u001B[0m \u001B[43m        \u001B[49m\u001B[38;5;124;43m'\u001B[39;49m\u001B[38;5;124;43mhttp\u001B[39;49m\u001B[38;5;124;43m'\u001B[39;49m\u001B[43m,\u001B[49m\u001B[43m \u001B[49m\u001B[43mrequest\u001B[49m\u001B[43m,\u001B[49m\u001B[43m \u001B[49m\u001B[43mresponse\u001B[49m\u001B[43m,\u001B[49m\u001B[43m \u001B[49m\u001B[43mcode\u001B[49m\u001B[43m,\u001B[49m\u001B[43m \u001B[49m\u001B[43mmsg\u001B[49m\u001B[43m,\u001B[49m\u001B[43m \u001B[49m\u001B[43mhdrs\u001B[49m\u001B[43m)\u001B[49m\n\u001B[1;32m    643\u001B[0m \u001B[38;5;28;01mreturn\u001B[39;00m response\n",
      "File \u001B[0;32m~/.conda/envs/kglab/lib/python3.8/urllib/request.py:569\u001B[0m, in \u001B[0;36mOpenerDirector.error\u001B[0;34m(self, proto, *args)\u001B[0m\n\u001B[1;32m    567\u001B[0m \u001B[38;5;28;01mif\u001B[39;00m http_err:\n\u001B[1;32m    568\u001B[0m     args \u001B[38;5;241m=\u001B[39m (\u001B[38;5;28mdict\u001B[39m, \u001B[38;5;124m'\u001B[39m\u001B[38;5;124mdefault\u001B[39m\u001B[38;5;124m'\u001B[39m, \u001B[38;5;124m'\u001B[39m\u001B[38;5;124mhttp_error_default\u001B[39m\u001B[38;5;124m'\u001B[39m) \u001B[38;5;241m+\u001B[39m orig_args\n\u001B[0;32m--> 569\u001B[0m     \u001B[38;5;28;01mreturn\u001B[39;00m \u001B[38;5;28;43mself\u001B[39;49m\u001B[38;5;241;43m.\u001B[39;49m\u001B[43m_call_chain\u001B[49m\u001B[43m(\u001B[49m\u001B[38;5;241;43m*\u001B[39;49m\u001B[43margs\u001B[49m\u001B[43m)\u001B[49m\n",
      "File \u001B[0;32m~/.conda/envs/kglab/lib/python3.8/urllib/request.py:502\u001B[0m, in \u001B[0;36mOpenerDirector._call_chain\u001B[0;34m(self, chain, kind, meth_name, *args)\u001B[0m\n\u001B[1;32m    500\u001B[0m \u001B[38;5;28;01mfor\u001B[39;00m handler \u001B[38;5;129;01min\u001B[39;00m handlers:\n\u001B[1;32m    501\u001B[0m     func \u001B[38;5;241m=\u001B[39m \u001B[38;5;28mgetattr\u001B[39m(handler, meth_name)\n\u001B[0;32m--> 502\u001B[0m     result \u001B[38;5;241m=\u001B[39m \u001B[43mfunc\u001B[49m\u001B[43m(\u001B[49m\u001B[38;5;241;43m*\u001B[39;49m\u001B[43margs\u001B[49m\u001B[43m)\u001B[49m\n\u001B[1;32m    503\u001B[0m     \u001B[38;5;28;01mif\u001B[39;00m result \u001B[38;5;129;01mis\u001B[39;00m \u001B[38;5;129;01mnot\u001B[39;00m \u001B[38;5;28;01mNone\u001B[39;00m:\n\u001B[1;32m    504\u001B[0m         \u001B[38;5;28;01mreturn\u001B[39;00m result\n",
      "File \u001B[0;32m~/.conda/envs/kglab/lib/python3.8/urllib/request.py:649\u001B[0m, in \u001B[0;36mHTTPDefaultErrorHandler.http_error_default\u001B[0;34m(self, req, fp, code, msg, hdrs)\u001B[0m\n\u001B[1;32m    648\u001B[0m \u001B[38;5;28;01mdef\u001B[39;00m \u001B[38;5;21mhttp_error_default\u001B[39m(\u001B[38;5;28mself\u001B[39m, req, fp, code, msg, hdrs):\n\u001B[0;32m--> 649\u001B[0m     \u001B[38;5;28;01mraise\u001B[39;00m HTTPError(req\u001B[38;5;241m.\u001B[39mfull_url, code, msg, hdrs, fp)\n",
      "\u001B[0;31mHTTPError\u001B[0m: HTTP Error 403: Forbidden"
     ]
    }
   ],
   "source": [
    "ul = sample_df[\"url\"]\n",
    "\n",
    "# Test loading into a graph\n",
    "namespaces = {\n",
    "    \"schema\":  \"http://schema.org/\",\n",
    "    \"schemaold\":  \"http://schema.org/\",\n",
    "    \"shacl\":   \"http://www.w3.org/ns/shacl#\" ,\n",
    "}\n",
    "\n",
    "kg = kglab.KnowledgeGraph(\n",
    "    name = \"Schema.org shacl eval datagraph\",\n",
    "    base_uri = \"https://example.org/id/\",\n",
    "    namespaces = namespaces,\n",
    ")\n",
    "\n",
    "for item in ul:\n",
    "    html = urllib.request.urlopen(item).read()\n",
    "    soup = BeautifulSoup(html, \"html.parser\")\n",
    "    p = soup.find('script', {'type':'application/ld+json'})\n",
    "    try:\n",
    "        print(\"JSON byte size: {} \".format(len(p.contents[0])))\n",
    "        kg.load_rdf_text(data=p.contents[0], format=\"json-ld\")\n",
    "        print(p.contents[0])\n",
    "    except Exception as e:\n",
    "        logging.error(traceback.format_exc())"
   ]
  },
  {
   "cell_type": "code",
   "execution_count": null,
   "id": "da74b0db-9224-4a58-80b3-d0932087a6e4",
   "metadata": {},
   "outputs": [],
   "source": [
    "sparql = \"\"\"\n",
    "PREFIX schema: <http://schema.org/>\n",
    "SELECT ?s ?name ?description ?type\n",
    "  WHERE {\n",
    "    ?s a ?type .    \n",
    "    ?s schema:name ?name .\n",
    "    ?s schema:description ?description.\n",
    "  }\n",
    "\"\"\"\n",
    "\n",
    "#  schema:Dataset \n",
    "# ?s schema:name ?name .\n",
    "#     ?s schema:description ?description.\n",
    "\n",
    "df = kg.query_as_df(sparql).to_pandas()\n",
    "\n",
    "df.head()"
   ]
  },
  {
   "cell_type": "code",
   "execution_count": null,
   "id": "b800b41b",
   "metadata": {
    "collapsed": false,
    "jupyter": {
     "outputs_hidden": false
    }
   },
   "outputs": [],
   "source": []
  },
  {
   "cell_type": "code",
   "execution_count": null,
   "id": "279795a0-f8e5-4654-b06a-d33ff761cf68",
   "metadata": {},
   "outputs": [],
   "source": []
  }
 ],
 "metadata": {
  "interpreter": {
   "hash": "7a8db6ed8e976d23fd2e6a73e187eaf8286829efb4aa61f09abf75e2f487f948"
  },
  "kernelspec": {
   "display_name": "Python 3 (ipykernel)",
   "language": "python",
   "name": "python3"
  },
  "language_info": {
   "codemirror_mode": {
    "name": "ipython",
    "version": 3
   },
   "file_extension": ".py",
   "mimetype": "text/x-python",
   "name": "python",
   "nbconvert_exporter": "python",
   "pygments_lexer": "ipython3",
   "version": "3.10.8"
  }
 },
 "nbformat": 4,
 "nbformat_minor": 5
}
