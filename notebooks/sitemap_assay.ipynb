{
 "cells": [
  {
   "cell_type": "markdown",
   "id": "51aacee9",
   "metadata": {},
   "source": [
    "# Sitemap Assay\n",
    "\n",
    "A playground for seeing how we can eval sitemaps up front.\n",
    "\n",
    "Doesn't actually do anything yet that would do that.  ;) \n",
    "\n",
    "References:\n",
    "* [AdvTools](https://advertools.readthedocs.io/en/master/advertools.sitemaps.html)\n",
    "* [Sitemap viz](https://www.ayima.com/us/insights/analytics-and-cro/how-to-visualize-an-xml-sitemap-using-python.html)\n",
    "\n",
    "## Notes\n",
    "\n",
    "Some commands of note\n",
    "\n",
    "```\n",
    " curl -s https://geoconnex.us/sitemap/nhdplusv2/huc12pp/huc12pp__1.xml |  grep -oP '<loc>\\K[^<]*'\n",
    " ```\n",
    " \n",
    " \n",
    " The following exposes GeoJSON, not JSON-LD\n",
    " \n",
    " ```\n",
    " curl -LH \"Accept: application/ld+json\"   https://geoconnex.us/nhdplusv2/huc12/030601020107\n",
    " ```\n",
    " \n"
   ]
  },
  {
   "cell_type": "code",
   "execution_count": 2,
   "id": "ef1f0a5d",
   "metadata": {},
   "outputs": [],
   "source": [
    "import advertools as adv"
   ]
  },
  {
   "cell_type": "code",
   "execution_count": 3,
   "id": "ee61d05a",
   "metadata": {},
   "outputs": [
    {
     "name": "stderr",
     "output_type": "stream",
     "text": [
      "2021-12-10 22:02:32,692 | INFO | sitemaps.py:419 | sitemap_to_df | Getting https://edmo.seadatanet.org/sitemap.xml\n"
     ]
    },
    {
     "name": "stdout",
     "output_type": "stream",
     "text": [
      "CPU times: user 62.3 ms, sys: 22.8 ms, total: 85.1 ms\n",
      "Wall time: 1.64 s\n"
     ]
    }
   ],
   "source": [
    "%%time \n",
    "%%capture cap --no-stderr  --no-stdout\n",
    "\n",
    "iow_sitemap = adv.sitemap_to_df('https://edmo.seadatanet.org/sitemap.xml')\n",
    "# iow_sitemap = adv.sitemap_to_df('https://geoconnex.us/sitemap.xml')\n"
   ]
  },
  {
   "cell_type": "code",
   "execution_count": 4,
   "id": "6bb22751",
   "metadata": {},
   "outputs": [],
   "source": [
    "iow_sitemap['loc'] = iow_sitemap['loc'].astype('str')\n",
    "# iow_sitemap.dtypes"
   ]
  },
  {
   "cell_type": "code",
   "execution_count": 5,
   "id": "e7aa1ab8",
   "metadata": {},
   "outputs": [
    {
     "data": {
      "text/html": [
       "<div>\n",
       "<style scoped>\n",
       "    .dataframe tbody tr th:only-of-type {\n",
       "        vertical-align: middle;\n",
       "    }\n",
       "\n",
       "    .dataframe tbody tr th {\n",
       "        vertical-align: top;\n",
       "    }\n",
       "\n",
       "    .dataframe thead th {\n",
       "        text-align: right;\n",
       "    }\n",
       "</style>\n",
       "<table border=\"1\" class=\"dataframe\">\n",
       "  <thead>\n",
       "    <tr style=\"text-align: right;\">\n",
       "      <th></th>\n",
       "      <th>loc</th>\n",
       "      <th>lastmod</th>\n",
       "      <th>sitemap</th>\n",
       "      <th>sitemap_size_mb</th>\n",
       "      <th>download_date</th>\n",
       "    </tr>\n",
       "  </thead>\n",
       "  <tbody>\n",
       "    <tr>\n",
       "      <th>0</th>\n",
       "      <td>https://edmo.seadatanet.org/</td>\n",
       "      <td>NaT</td>\n",
       "      <td>https://edmo.seadatanet.org/sitemap.xml</td>\n",
       "      <td>0.386235</td>\n",
       "      <td>2021-12-11 04:02:32.704136+00:00</td>\n",
       "    </tr>\n",
       "    <tr>\n",
       "      <th>1</th>\n",
       "      <td>https://edmo.seadatanet.org/search</td>\n",
       "      <td>NaT</td>\n",
       "      <td>https://edmo.seadatanet.org/sitemap.xml</td>\n",
       "      <td>0.386235</td>\n",
       "      <td>2021-12-11 04:02:32.704136+00:00</td>\n",
       "    </tr>\n",
       "    <tr>\n",
       "      <th>2</th>\n",
       "      <td>https://edmo.seadatanet.org/sparql</td>\n",
       "      <td>NaT</td>\n",
       "      <td>https://edmo.seadatanet.org/sitemap.xml</td>\n",
       "      <td>0.386235</td>\n",
       "      <td>2021-12-11 04:02:32.704136+00:00</td>\n",
       "    </tr>\n",
       "    <tr>\n",
       "      <th>3</th>\n",
       "      <td>https://edmo.seadatanet.org/report/5484</td>\n",
       "      <td>2021-12-09 00:00:00+00:00</td>\n",
       "      <td>https://edmo.seadatanet.org/sitemap.xml</td>\n",
       "      <td>0.386235</td>\n",
       "      <td>2021-12-11 04:02:32.704136+00:00</td>\n",
       "    </tr>\n",
       "    <tr>\n",
       "      <th>4</th>\n",
       "      <td>https://edmo.seadatanet.org/report/5485</td>\n",
       "      <td>2021-12-09 00:00:00+00:00</td>\n",
       "      <td>https://edmo.seadatanet.org/sitemap.xml</td>\n",
       "      <td>0.386235</td>\n",
       "      <td>2021-12-11 04:02:32.704136+00:00</td>\n",
       "    </tr>\n",
       "  </tbody>\n",
       "</table>\n",
       "</div>"
      ],
      "text/plain": [
       "                                       loc                   lastmod  \\\n",
       "0             https://edmo.seadatanet.org/                       NaT   \n",
       "1       https://edmo.seadatanet.org/search                       NaT   \n",
       "2       https://edmo.seadatanet.org/sparql                       NaT   \n",
       "3  https://edmo.seadatanet.org/report/5484 2021-12-09 00:00:00+00:00   \n",
       "4  https://edmo.seadatanet.org/report/5485 2021-12-09 00:00:00+00:00   \n",
       "\n",
       "                                   sitemap  sitemap_size_mb  \\\n",
       "0  https://edmo.seadatanet.org/sitemap.xml         0.386235   \n",
       "1  https://edmo.seadatanet.org/sitemap.xml         0.386235   \n",
       "2  https://edmo.seadatanet.org/sitemap.xml         0.386235   \n",
       "3  https://edmo.seadatanet.org/sitemap.xml         0.386235   \n",
       "4  https://edmo.seadatanet.org/sitemap.xml         0.386235   \n",
       "\n",
       "                     download_date  \n",
       "0 2021-12-11 04:02:32.704136+00:00  \n",
       "1 2021-12-11 04:02:32.704136+00:00  \n",
       "2 2021-12-11 04:02:32.704136+00:00  \n",
       "3 2021-12-11 04:02:32.704136+00:00  \n",
       "4 2021-12-11 04:02:32.704136+00:00  "
      ]
     },
     "execution_count": 5,
     "metadata": {},
     "output_type": "execute_result"
    }
   ],
   "source": [
    "iow_sitemap.head()"
   ]
  },
  {
   "cell_type": "markdown",
   "id": "0c4c45c9",
   "metadata": {},
   "source": [
    "## Unique Sitemaps URLs and resource URLs in IoW\n",
    "\n",
    "We can quickly grabe the unique URLs from the sitemap column and see how many unique sitemap.xml files we are working with"
   ]
  },
  {
   "cell_type": "code",
   "execution_count": 6,
   "id": "7eeffe98",
   "metadata": {},
   "outputs": [
    {
     "name": "stdout",
     "output_type": "stream",
     "text": [
      "There are 1 unique sitemap XML files pointing to 4509 unique resources of interest\n"
     ]
    }
   ],
   "source": [
    "usm = iow_sitemap.sitemap.unique()\n",
    "uloc = iow_sitemap[\"loc\"].unique()\n",
    "print(\"There are {} unique sitemap XML files pointing to {} unique resources of interest\".format(len(usm), len(uloc)))"
   ]
  },
  {
   "cell_type": "markdown",
   "id": "1f767871",
   "metadata": {},
   "source": [
    "## Analyzing the URLs\n",
    "\n",
    "We can also dive into the URL structure a bit.  Since the base for the URLs is all the same with geoconnex.us, we can drop down to the next level of the URL and see what that tells us."
   ]
  },
  {
   "cell_type": "code",
   "execution_count": 7,
   "id": "d9691c02",
   "metadata": {},
   "outputs": [
    {
     "data": {
      "text/html": [
       "<div>\n",
       "<style scoped>\n",
       "    .dataframe tbody tr th:only-of-type {\n",
       "        vertical-align: middle;\n",
       "    }\n",
       "\n",
       "    .dataframe tbody tr th {\n",
       "        vertical-align: top;\n",
       "    }\n",
       "\n",
       "    .dataframe thead th {\n",
       "        text-align: right;\n",
       "    }\n",
       "</style>\n",
       "<table border=\"1\" class=\"dataframe\">\n",
       "  <thead>\n",
       "    <tr style=\"text-align: right;\">\n",
       "      <th></th>\n",
       "      <th>url</th>\n",
       "      <th>scheme</th>\n",
       "      <th>netloc</th>\n",
       "      <th>path</th>\n",
       "      <th>query</th>\n",
       "      <th>fragment</th>\n",
       "      <th>dir_1</th>\n",
       "      <th>dir_2</th>\n",
       "    </tr>\n",
       "  </thead>\n",
       "  <tbody>\n",
       "    <tr>\n",
       "      <th>0</th>\n",
       "      <td>https://edmo.seadatanet.org/</td>\n",
       "      <td>https</td>\n",
       "      <td>edmo.seadatanet.org</td>\n",
       "      <td>/</td>\n",
       "      <td></td>\n",
       "      <td></td>\n",
       "      <td>NaN</td>\n",
       "      <td>NaN</td>\n",
       "    </tr>\n",
       "    <tr>\n",
       "      <th>1</th>\n",
       "      <td>https://edmo.seadatanet.org/search</td>\n",
       "      <td>https</td>\n",
       "      <td>edmo.seadatanet.org</td>\n",
       "      <td>/search</td>\n",
       "      <td></td>\n",
       "      <td></td>\n",
       "      <td>search</td>\n",
       "      <td>NaN</td>\n",
       "    </tr>\n",
       "    <tr>\n",
       "      <th>2</th>\n",
       "      <td>https://edmo.seadatanet.org/sparql</td>\n",
       "      <td>https</td>\n",
       "      <td>edmo.seadatanet.org</td>\n",
       "      <td>/sparql</td>\n",
       "      <td></td>\n",
       "      <td></td>\n",
       "      <td>sparql</td>\n",
       "      <td>NaN</td>\n",
       "    </tr>\n",
       "    <tr>\n",
       "      <th>3</th>\n",
       "      <td>https://edmo.seadatanet.org/report/5484</td>\n",
       "      <td>https</td>\n",
       "      <td>edmo.seadatanet.org</td>\n",
       "      <td>/report/5484</td>\n",
       "      <td></td>\n",
       "      <td></td>\n",
       "      <td>report</td>\n",
       "      <td>5484</td>\n",
       "    </tr>\n",
       "    <tr>\n",
       "      <th>4</th>\n",
       "      <td>https://edmo.seadatanet.org/report/5485</td>\n",
       "      <td>https</td>\n",
       "      <td>edmo.seadatanet.org</td>\n",
       "      <td>/report/5485</td>\n",
       "      <td></td>\n",
       "      <td></td>\n",
       "      <td>report</td>\n",
       "      <td>5485</td>\n",
       "    </tr>\n",
       "  </tbody>\n",
       "</table>\n",
       "</div>"
      ],
      "text/plain": [
       "                                       url scheme               netloc  \\\n",
       "0             https://edmo.seadatanet.org/  https  edmo.seadatanet.org   \n",
       "1       https://edmo.seadatanet.org/search  https  edmo.seadatanet.org   \n",
       "2       https://edmo.seadatanet.org/sparql  https  edmo.seadatanet.org   \n",
       "3  https://edmo.seadatanet.org/report/5484  https  edmo.seadatanet.org   \n",
       "4  https://edmo.seadatanet.org/report/5485  https  edmo.seadatanet.org   \n",
       "\n",
       "           path query fragment   dir_1 dir_2  \n",
       "0             /                    NaN   NaN  \n",
       "1       /search                 search   NaN  \n",
       "2       /sparql                 sparql   NaN  \n",
       "3  /report/5484                 report  5484  \n",
       "4  /report/5485                 report  5485  "
      ]
     },
     "execution_count": 7,
     "metadata": {},
     "output_type": "execute_result"
    }
   ],
   "source": [
    "# Break down all the URL into theor path parts\n",
    "urldf = adv.url_to_df(list(iow_sitemap['loc']))\n",
    "urldf.head()"
   ]
  },
  {
   "cell_type": "code",
   "execution_count": 9,
   "id": "f2165af1",
   "metadata": {},
   "outputs": [
    {
     "data": {
      "text/html": [
       "<div>\n",
       "<style scoped>\n",
       "    .dataframe tbody tr th:only-of-type {\n",
       "        vertical-align: middle;\n",
       "    }\n",
       "\n",
       "    .dataframe tbody tr th {\n",
       "        vertical-align: top;\n",
       "    }\n",
       "\n",
       "    .dataframe thead th {\n",
       "        text-align: right;\n",
       "    }\n",
       "</style>\n",
       "<table border=\"1\" class=\"dataframe\">\n",
       "  <thead>\n",
       "    <tr style=\"text-align: right;\">\n",
       "      <th></th>\n",
       "      <th>dir_1</th>\n",
       "    </tr>\n",
       "  </thead>\n",
       "  <tbody>\n",
       "    <tr>\n",
       "      <th>report</th>\n",
       "      <td>4506</td>\n",
       "    </tr>\n",
       "    <tr>\n",
       "      <th>sparql</th>\n",
       "      <td>1</td>\n",
       "    </tr>\n",
       "    <tr>\n",
       "      <th>search</th>\n",
       "      <td>1</td>\n",
       "    </tr>\n",
       "  </tbody>\n",
       "</table>\n",
       "</div>"
      ],
      "text/plain": [
       "        dir_1\n",
       "report   4506\n",
       "sparql      1\n",
       "search      1"
      ]
     },
     "execution_count": 9,
     "metadata": {},
     "output_type": "execute_result"
    }
   ],
   "source": [
    "# We can not aggregate at various levels...   \n",
    "e4 = urldf[\"dir_1\"].value_counts()\n",
    "e4.rename_axis(\"sources\")\n",
    "\n",
    "e4df = e4.to_frame()\n",
    "e4df.head(len(e4)) "
   ]
  },
  {
   "cell_type": "code",
   "execution_count": 11,
   "id": "4aebfe9a",
   "metadata": {},
   "outputs": [
    {
     "name": "stdout",
     "output_type": "stream",
     "text": [
      "4508\n"
     ]
    }
   ],
   "source": [
    "# With a little trial and error we can see the cutoff for a chart \n",
    "ts = e4df.tail(10)['dir_1'].sum()\n",
    "print(ts)"
   ]
  },
  {
   "cell_type": "code",
   "execution_count": 12,
   "id": "de264daf",
   "metadata": {},
   "outputs": [
    {
     "name": "stderr",
     "output_type": "stream",
     "text": [
      "/home/fils/.conda/envs/kglab/lib/python3.8/site-packages/pandas/core/frame.py:4441: SettingWithCopyWarning: \n",
      "A value is trying to be set on a copy of a slice from a DataFrame\n",
      "\n",
      "See the caveats in the documentation: https://pandas.pydata.org/pandas-docs/stable/user_guide/indexing.html#returning-a-view-versus-a-copy\n",
      "  return super().rename(\n"
     ]
    },
    {
     "data": {
      "text/html": [
       "<div>\n",
       "<style scoped>\n",
       "    .dataframe tbody tr th:only-of-type {\n",
       "        vertical-align: middle;\n",
       "    }\n",
       "\n",
       "    .dataframe tbody tr th {\n",
       "        vertical-align: top;\n",
       "    }\n",
       "\n",
       "    .dataframe thead th {\n",
       "        text-align: right;\n",
       "    }\n",
       "</style>\n",
       "<table border=\"1\" class=\"dataframe\">\n",
       "  <thead>\n",
       "    <tr style=\"text-align: right;\">\n",
       "      <th></th>\n",
       "      <th>source</th>\n",
       "      <th>dir_1</th>\n",
       "      <th>count</th>\n",
       "    </tr>\n",
       "  </thead>\n",
       "  <tbody>\n",
       "    <tr>\n",
       "      <th>0</th>\n",
       "      <td>report</td>\n",
       "      <td>4506.0</td>\n",
       "      <td>NaN</td>\n",
       "    </tr>\n",
       "    <tr>\n",
       "      <th>1</th>\n",
       "      <td>sparql</td>\n",
       "      <td>1.0</td>\n",
       "      <td>NaN</td>\n",
       "    </tr>\n",
       "    <tr>\n",
       "      <th>2</th>\n",
       "      <td>search</td>\n",
       "      <td>1.0</td>\n",
       "      <td>NaN</td>\n",
       "    </tr>\n",
       "    <tr>\n",
       "      <th>3</th>\n",
       "      <td>other</td>\n",
       "      <td>NaN</td>\n",
       "      <td>4508.0</td>\n",
       "    </tr>\n",
       "  </tbody>\n",
       "</table>\n",
       "</div>"
      ],
      "text/plain": [
       "   source   dir_1   count\n",
       "0  report  4506.0     NaN\n",
       "1  sparql     1.0     NaN\n",
       "2  search     1.0     NaN\n",
       "3   other     NaN  4508.0"
      ]
     },
     "execution_count": 12,
     "metadata": {},
     "output_type": "execute_result"
    }
   ],
   "source": [
    "e4topdf = e4df.head(6)  ## don't do this!\n",
    "e4topdf.reset_index(inplace = True, drop = False)\n",
    "e4topdf.rename(columns={'index': 'source', 'dir_4':'count'},  inplace = True)\n",
    "\n",
    "t = e4topdf.append({'source':'other', 'count':ts}, ignore_index=True) \n",
    "t.head(10)"
   ]
  },
  {
   "cell_type": "code",
   "execution_count": 13,
   "id": "113e655a",
   "metadata": {},
   "outputs": [
    {
     "data": {
      "text/plain": [
       "<AxesSubplot:ylabel='count'>"
      ]
     },
     "execution_count": 13,
     "metadata": {},
     "output_type": "execute_result"
    },
    {
     "data": {
      "image/png": "[encoded data removed]",
      "text/plain": [
       "<Figure size 2160x720 with 1 Axes>"
      ]
     },
     "metadata": {},
     "output_type": "display_data"
    }
   ],
   "source": [
    "import matplotlib.pyplot as plt\n",
    "from pandas.plotting import table\n",
    "\n",
    "plt.figure(figsize=(30,10))\n",
    "\n",
    "# plot chart\n",
    "ax1 = plt.subplot(121, aspect='equal')\n",
    "t.plot(kind='pie', y = 'count', ax=ax1, autopct='%1.1f%%', \n",
    " startangle=90, shadow=False, labels=t['source'], legend = False, fontsize=12)\n",
    "\n",
    "# # plot table\n",
    "# ax2 = plt.subplot(122,  aspect='equal')\n",
    "# plt.axis('off')\n",
    "# tbl = table(ax2, t, loc='center')\n",
    "# tbl.auto_set_font_size(False)\n",
    "# tbl.set_fontsize(12)\n",
    "# plt.show()"
   ]
  },
  {
   "cell_type": "code",
   "execution_count": 14,
   "id": "5c62a934",
   "metadata": {},
   "outputs": [
    {
     "data": {
      "image/png": "[encoded data removed]",
      "text/plain": [
       "<Figure size 720x720 with 1 Axes>"
      ]
     },
     "metadata": {
      "needs_background": "light"
     },
     "output_type": "display_data"
    }
   ],
   "source": [
    "e4sort = e4.sort_values(ascending=True)\n",
    "plot = e4sort.plot.bar(y='dir_4',legend=True, grid=True, logy = True, figsize=(10, 10))"
   ]
  },
  {
   "cell_type": "markdown",
   "id": "9e806ba0",
   "metadata": {},
   "source": [
    "## Let's try and set a sample from the various sites"
   ]
  },
  {
   "cell_type": "code",
   "execution_count": 16,
   "id": "20e46dd2",
   "metadata": {},
   "outputs": [],
   "source": [
    "# sample the previously generated url data frame\n",
    "sample_df = urldf.groupby(\"dir_1\").sample(n=2, random_state=1, replace=True)\n"
   ]
  },
  {
   "cell_type": "code",
   "execution_count": 17,
   "id": "b725c4ca",
   "metadata": {},
   "outputs": [
    {
     "data": {
      "text/html": [
       "<div>\n",
       "<style scoped>\n",
       "    .dataframe tbody tr th:only-of-type {\n",
       "        vertical-align: middle;\n",
       "    }\n",
       "\n",
       "    .dataframe tbody tr th {\n",
       "        vertical-align: top;\n",
       "    }\n",
       "\n",
       "    .dataframe thead th {\n",
       "        text-align: right;\n",
       "    }\n",
       "</style>\n",
       "<table border=\"1\" class=\"dataframe\">\n",
       "  <thead>\n",
       "    <tr style=\"text-align: right;\">\n",
       "      <th></th>\n",
       "      <th>url</th>\n",
       "      <th>scheme</th>\n",
       "      <th>netloc</th>\n",
       "      <th>path</th>\n",
       "      <th>query</th>\n",
       "      <th>fragment</th>\n",
       "      <th>dir_1</th>\n",
       "      <th>dir_2</th>\n",
       "    </tr>\n",
       "  </thead>\n",
       "  <tbody>\n",
       "    <tr>\n",
       "      <th>238</th>\n",
       "      <td>https://edmo.seadatanet.org/report/227</td>\n",
       "      <td>https</td>\n",
       "      <td>edmo.seadatanet.org</td>\n",
       "      <td>/report/227</td>\n",
       "      <td></td>\n",
       "      <td></td>\n",
       "      <td>report</td>\n",
       "      <td>227</td>\n",
       "    </tr>\n",
       "    <tr>\n",
       "      <th>3983</th>\n",
       "      <td>https://edmo.seadatanet.org/report/2201</td>\n",
       "      <td>https</td>\n",
       "      <td>edmo.seadatanet.org</td>\n",
       "      <td>/report/2201</td>\n",
       "      <td></td>\n",
       "      <td></td>\n",
       "      <td>report</td>\n",
       "      <td>2201</td>\n",
       "    </tr>\n",
       "    <tr>\n",
       "      <th>1</th>\n",
       "      <td>https://edmo.seadatanet.org/search</td>\n",
       "      <td>https</td>\n",
       "      <td>edmo.seadatanet.org</td>\n",
       "      <td>/search</td>\n",
       "      <td></td>\n",
       "      <td></td>\n",
       "      <td>search</td>\n",
       "      <td>NaN</td>\n",
       "    </tr>\n",
       "    <tr>\n",
       "      <th>1</th>\n",
       "      <td>https://edmo.seadatanet.org/search</td>\n",
       "      <td>https</td>\n",
       "      <td>edmo.seadatanet.org</td>\n",
       "      <td>/search</td>\n",
       "      <td></td>\n",
       "      <td></td>\n",
       "      <td>search</td>\n",
       "      <td>NaN</td>\n",
       "    </tr>\n",
       "    <tr>\n",
       "      <th>2</th>\n",
       "      <td>https://edmo.seadatanet.org/sparql</td>\n",
       "      <td>https</td>\n",
       "      <td>edmo.seadatanet.org</td>\n",
       "      <td>/sparql</td>\n",
       "      <td></td>\n",
       "      <td></td>\n",
       "      <td>sparql</td>\n",
       "      <td>NaN</td>\n",
       "    </tr>\n",
       "  </tbody>\n",
       "</table>\n",
       "</div>"
      ],
      "text/plain": [
       "                                          url scheme               netloc  \\\n",
       "238    https://edmo.seadatanet.org/report/227  https  edmo.seadatanet.org   \n",
       "3983  https://edmo.seadatanet.org/report/2201  https  edmo.seadatanet.org   \n",
       "1          https://edmo.seadatanet.org/search  https  edmo.seadatanet.org   \n",
       "1          https://edmo.seadatanet.org/search  https  edmo.seadatanet.org   \n",
       "2          https://edmo.seadatanet.org/sparql  https  edmo.seadatanet.org   \n",
       "\n",
       "              path query fragment   dir_1 dir_2  \n",
       "238    /report/227                 report   227  \n",
       "3983  /report/2201                 report  2201  \n",
       "1          /search                 search   NaN  \n",
       "1          /search                 search   NaN  \n",
       "2          /sparql                 sparql   NaN  "
      ]
     },
     "execution_count": 17,
     "metadata": {},
     "output_type": "execute_result"
    }
   ],
   "source": [
    "sample_df.head()"
   ]
  },
  {
   "cell_type": "code",
   "execution_count": 18,
   "id": "0c22245d",
   "metadata": {},
   "outputs": [
    {
     "name": "stdout",
     "output_type": "stream",
     "text": [
      "200: text/html : https://edmo.seadatanet.org/report/227 : None\n",
      "200: text/html : https://edmo.seadatanet.org/report/2201 : None\n",
      "200: text/html : https://edmo.seadatanet.org/search : None\n",
      "200: text/html : https://edmo.seadatanet.org/search : None\n",
      "200: text/html : https://edmo.seadatanet.org/sparql : None\n",
      "200: text/html : https://edmo.seadatanet.org/sparql : None\n"
     ]
    }
   ],
   "source": [
    "import urllib.request\n",
    "import requests\n",
    "\n",
    "ul = sample_df[\"url\"]\n",
    "\n",
    "for item in ul:\n",
    "    headers, code, dtype = None, None, None\n",
    "    \n",
    "    try:\n",
    "        x = requests.head(item)\n",
    "        code = x.status_code\n",
    "        with urllib.request.urlopen(item) as response:\n",
    "            info = response.info()\n",
    "            dtype = info.get_content_type()    # -> text/html\n",
    "\n",
    "        # headers = x.headers()\n",
    "    except:\n",
    "        code = \"error\"\n",
    "        dtype = \"error\"\n",
    "        headers = \"error\"\n",
    "    \n",
    "    print(\"{}: {} : {} : {}\".format(code, dtype, item, headers))"
   ]
  },
  {
   "cell_type": "code",
   "execution_count": null,
   "id": "cd25210a",
   "metadata": {},
   "outputs": [],
   "source": []
  }
 ],
 "metadata": {
  "interpreter": {
   "hash": "7a8db6ed8e976d23fd2e6a73e187eaf8286829efb4aa61f09abf75e2f487f948"
  },
  "kernelspec": {
   "display_name": "Python 3",
   "language": "python",
   "name": "python3"
  },
  "language_info": {
   "codemirror_mode": {
    "name": "ipython",
    "version": 3
   },
   "file_extension": ".py",
   "mimetype": "text/x-python",
   "name": "python",
   "nbconvert_exporter": "python",
   "pygments_lexer": "ipython3",
   "version": "3.8.10"
  }
 },
 "nbformat": 4,
 "nbformat_minor": 5
}
