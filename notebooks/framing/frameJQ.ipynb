{
 "cells": [
  {
   "cell_type": "markdown",
   "metadata": {},
   "source": [
    "# Simple JSON-LD Framing"
   ]
  },
  {
   "cell_type": "code",
   "execution_count": 1,
   "metadata": {
    "tags": []
   },
   "outputs": [],
   "source": [
    "import warnings\n",
    "warnings.simplefilter(action='ignore', category=FutureWarning)\n",
    "\n",
    "import pandas as pd\n",
    "import json, io\n",
    "import s3fs\n",
    "import kglab\n",
    "from rdflib import Graph  #, plugin\n",
    "from pyld import jsonld"
   ]
  },
  {
   "cell_type": "code",
   "execution_count": 2,
   "metadata": {
    "collapsed": false,
    "jupyter": {
     "outputs_hidden": false
    }
   },
   "outputs": [],
   "source": [
    "def citation_frame(fn, frame):\n",
    "    with open(fn, 'rb') as f:\n",
    "        #return json.loads(f.read().replace('\\n',' '))\n",
    "        try:\n",
    "            jld = json.loads(f.read().decode(\"utf-8\", \"ignore\").replace('\\n',' '))\n",
    "            framed = jsonld.frame(jld, frame)\n",
    "            return framed   # ['citation']\n",
    "        except:\n",
    "            return \"\""
   ]
  },
  {
   "cell_type": "code",
   "execution_count": 3,
   "metadata": {
    "collapsed": false,
    "jupyter": {
     "outputs_hidden": false
    }
   },
   "outputs": [],
   "source": [
    "fr = {\"@context\":{\"@vocab\": \"https://schema.org/\"},\n",
    "      \"@type\": {},\n",
    "      \"@id\": {},\n",
    "      \"@explicit\": \"true\",\n",
    "      \"@requireAll\": \"true\",\n",
    "      \"name\": {},\n",
    "      \"identifier\": {},\n",
    "      \"description\": {}\n",
    "      };"
   ]
  },
  {
   "cell_type": "code",
   "execution_count": 4,
   "metadata": {
    "collapsed": false,
    "jupyter": {
     "outputs_hidden": false
    }
   },
   "outputs": [
    {
     "name": "stdout",
     "output_type": "stream",
     "text": [
      "{\n",
      "  \"@context\": {\n",
      "    \"@vocab\": \"https://schema.org/\"\n",
      "  },\n",
      "  \"@id\": \"https://edmo.seadatanet.org/report/5102\",\n",
      "  \"@type\": \"Organization\",\n",
      "  \"description\": \"Oxford Archaeology (OA) has a 40-year history of quality, innovation and service. As a multi-disciplinary practice, OA covers all aspects of the historic environment, providing everything from archaeological excavations and survey, landscape and buildings studies, complex geospatial data management systems to heritage consultancy services. Most archaeological work today is carried out in advance of development. Oxford Archaeology is one of the leading service-providers in this field, with thousands of clients who recognise us as experts in excavation and heritage management. As a registered charity with a heritage and education focus, we also care about helping people to discover and enjoy their heritage. We have welcomed many thousands of visitors to our excavation sites on open days and tours, and volunteers have taken part in many of our projects. Our vision is to be at the forefront of advancing knowledge about the past and working in partnership with others for the public benefit. Based in Oxford, Oxford Archaeology (OA) South operates nationwide and beyond, with a particular focus on southern England. Since its beginnings as the Oxfordshire Archaeological Unit in 1973, OA South has offered a comprehensive range of archaeology and heritage services that combine cost-effectiveness with academic excellence. Work includes desk-based research and assessments, heritage and planning advice, geophysical survey, building survey, and a full range of excavation strategies, from evaluation to full excavation and watching brief investigations. With about 130 staff, there are wide range of in-house specialists and dedicated post-excavation staff.\",\n",
      "  \"identifier\": \"5102\",\n",
      "  \"name\": \"Oxford Archaeology (South)\"\n",
      "}\n"
     ]
    }
   ],
   "source": [
    "f = citation_frame(\"./dataGraphs/001413a5f2127fc1385d8f59e5a3d11ad9cfe630.jsonld\", fr)\n",
    "json_formatted_str = json.dumps(f, indent=2)\n",
    "print(json_formatted_str)"
   ]
  },
  {
   "cell_type": "markdown",
   "metadata": {},
   "source": [
    "### Now do some jq magic\n",
    "\n",
    "*  find all keys at any level: 'paths | select(.[-1] == \"type\")'\n",
    "*  jq.compile('\".@context\" += [\"csdco\", \"https://opencoredata.org/voc/csdco/v1/\"]')"
   ]
  },
  {
   "cell_type": "code",
   "execution_count": 5,
   "metadata": {
    "collapsed": false,
    "jupyter": {
     "outputs_hidden": false
    }
   },
   "outputs": [
    {
     "name": "stdout",
     "output_type": "stream",
     "text": [
      "{\n",
      "  \"@type\": \"Organization\",\n",
      "  \"description\": \"Oxford Archaeology (OA) has a 40-year history of quality, innovation and service. As a multi-disciplinary practice, OA covers all aspects of the historic environment, providing everything from archaeological excavations and survey, landscape and buildings studies, complex geospatial data management systems to heritage consultancy services. Most archaeological work today is carried out in advance of development. Oxford Archaeology is one of the leading service-providers in this field, with thousands of clients who recognise us as experts in excavation and heritage management. As a registered charity with a heritage and education focus, we also care about helping people to discover and enjoy their heritage. We have welcomed many thousands of visitors to our excavation sites on open days and tours, and volunteers have taken part in many of our projects. Our vision is to be at the forefront of advancing knowledge about the past and working in partnership with others for the public benefit. Based in Oxford, Oxford Archaeology (OA) South operates nationwide and beyond, with a particular focus on southern England. Since its beginnings as the Oxfordshire Archaeological Unit in 1973, OA South has offered a comprehensive range of archaeology and heritage services that combine cost-effectiveness with academic excellence. Work includes desk-based research and assessments, heritage and planning advice, geophysical survey, building survey, and a full range of excavation strategies, from evaluation to full excavation and watching brief investigations. With about 130 staff, there are wide range of in-house specialists and dedicated post-excavation staff.\",\n",
      "  \"identifier\": \"5102\",\n",
      "  \"name\": \"Oxford Archaeology (South)\",\n",
      "  \"id\": \"https://edmo.seadatanet.org/report/5102\"\n",
      "}\n"
     ]
    }
   ],
   "source": [
    "import jq\n",
    "\n",
    "# convert string back to json object\n",
    "co = json.loads(json_formatted_str)\n",
    "\n",
    "# program1: Just a test..   REMOVE \n",
    "# op1 = jq.compile('.description += \" THIS IS A TEST\"').input(co).all()\n",
    "\n",
    "# op1 = jq.compile('.[\"@context\"] += {\"csdco\": \"https://opencoredata.org/voc/csdco/v1/\"}').input(co).all()\n",
    "op1 = jq.compile('del(.[\"@context\"]) ').input(co).all()\n",
    "op2 = jq.compile('map(.[\"id\"] = .[\"@id\"] | del(.[\"@id\"]) )').input(op1).all()\n",
    "\n",
    "\n",
    "print(json.dumps(op2[0][0], indent=2))\n"
   ]
  },
  {
   "cell_type": "code",
   "execution_count": null,
   "metadata": {},
   "outputs": [],
   "source": []
  }
 ],
 "metadata": {
  "kernelspec": {
   "display_name": "Python 3 (ipykernel)",
   "language": "python",
   "name": "python3"
  },
  "language_info": {
   "codemirror_mode": {
    "name": "ipython",
    "version": 3
   },
   "file_extension": ".py",
   "mimetype": "text/x-python",
   "name": "python",
   "nbconvert_exporter": "python",
   "pygments_lexer": "ipython3",
   "version": "3.10.8"
  }
 },
 "nbformat": 4,
 "nbformat_minor": 4
}
