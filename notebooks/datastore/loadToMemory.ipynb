{
 "cells": [
  {
   "cell_type": "markdown",
   "metadata": {
    "tags": []
   },
   "source": [
    "# Graph Playground"
   ]
  },
  {
   "cell_type": "code",
   "execution_count": 1,
   "metadata": {
    "collapsed": false,
    "jupyter": {
     "outputs_hidden": false
    },
    "tags": []
   },
   "outputs": [],
   "source": [
    "import warnings\n",
    "warnings.simplefilter(action='ignore', category=FutureWarning)  ## remove pandas future warning\n",
    "\n",
    "import s3fs\n",
    "import kglab\n",
    "from minio import Minio\n",
    "import rdflib\n",
    "from rdflib import ConjunctiveGraph  #  needed for nquads"
   ]
  },
  {
   "cell_type": "code",
   "execution_count": 2,
   "metadata": {
    "collapsed": false,
    "jupyter": {
     "outputs_hidden": false
    },
    "tags": []
   },
   "outputs": [],
   "source": [
    "def publicurls(client, bucket, prefix):\n",
    "    urls = []\n",
    "    objects = client.list_objects(bucket, prefix=prefix, recursive=True)\n",
    "    for obj in objects:\n",
    "        result = client.stat_object(bucket, obj.object_name)\n",
    "\n",
    "        if result.size > 0:  #  how to tell if an objet   obj.is_public  ?????\n",
    "            url = client.presigned_get_object(bucket, obj.object_name)\n",
    "            # print(f\"Public URL for object: {url}\")\n",
    "            urls.append(url)\n",
    "\n",
    "    return urls"
   ]
  },
  {
   "cell_type": "code",
   "execution_count": 3,
   "metadata": {
    "tags": []
   },
   "outputs": [
    {
     "name": "stdout",
     "output_type": "stream",
     "text": [
      "0\n"
     ]
    }
   ],
   "source": [
    "# Check for using GPU, in case you want to ensure your GPU is used\n",
    "gc = kglab.get_gpu_count()\n",
    "print(gc)"
   ]
  },
  {
   "cell_type": "code",
   "execution_count": 4,
   "metadata": {
    "collapsed": false,
    "jupyter": {
     "outputs_hidden": false
    },
    "tags": []
   },
   "outputs": [],
   "source": [
    "client = Minio(\"ossapi.oceaninfohub.org:80\",  secure=False) # Create client with anonymous access.\n",
    "urls = publicurls(client, \"public\", \"graph\")"
   ]
  },
  {
   "cell_type": "code",
   "execution_count": 5,
   "metadata": {
    "collapsed": false,
    "jupyter": {
     "outputs_hidden": false
    },
    "tags": []
   },
   "outputs": [
    {
     "name": "stdout",
     "output_type": "stream",
     "text": [
      "['http://ossapi.oceaninfohub.org/public/graphs/summonedafricaioc_v1_release.nq', 'http://ossapi.oceaninfohub.org/public/graphs/summonedaquadocs_v1_release.nq', 'http://ossapi.oceaninfohub.org/public/graphs/summonedcioos_v1_release.nq', 'http://ossapi.oceaninfohub.org/public/graphs/summonededmerp_v1_release.nq', 'http://ossapi.oceaninfohub.org/public/graphs/summonededmo_v1_release.nq', 'http://ossapi.oceaninfohub.org/public/graphs/summonedemodnet_v1_release.nq', 'http://ossapi.oceaninfohub.org/public/graphs/summonedinanodc_v1_release.nq', 'http://ossapi.oceaninfohub.org/public/graphs/summonedinvemardocuments_v1_release.nq', 'http://ossapi.oceaninfohub.org/public/graphs/summonedinvemarexperts_v1_release.nq', 'http://ossapi.oceaninfohub.org/public/graphs/summonedinvemarinstitutions_v1_release.nq', 'http://ossapi.oceaninfohub.org/public/graphs/summonedinvemartraining_v1_release.nq', 'http://ossapi.oceaninfohub.org/public/graphs/summonedinvemarvessels_v1_release.nq', 'http://ossapi.oceaninfohub.org/public/graphs/summonedmarinetraining_v1_release.nq', 'http://ossapi.oceaninfohub.org/public/graphs/summonedobis_v1_release.nq', 'http://ossapi.oceaninfohub.org/public/graphs/summonedobps_v1_release.nq', 'http://ossapi.oceaninfohub.org/public/graphs/summonedoceanexperts_v1_release.nq']\n"
     ]
    }
   ],
   "source": [
    "print(urls)"
   ]
  },
  {
   "cell_type": "markdown",
   "metadata": {},
   "source": [
    "## URLs\n",
    "\n",
    "At this point we have the URLs and we could either loop load all of them or pull one out manually and use.  This code could\n",
    "be used as a basis for any of these approaches.\n"
   ]
  },
  {
   "cell_type": "code",
   "execution_count": 6,
   "metadata": {
    "tags": []
   },
   "outputs": [
    {
     "name": "stdout",
     "output_type": "stream",
     "text": [
      "161165\n"
     ]
    }
   ],
   "source": [
    "# load quad graph\n",
    "g = ConjunctiveGraph()\n",
    "g.parse(\"http://ossapi.oceaninfohub.org/public/graphs/summonedobis_v1_release.nq\", format=\"nquads\")\n",
    "print(len(g))"
   ]
  },
  {
   "cell_type": "code",
   "execution_count": 7,
   "metadata": {
    "tags": []
   },
   "outputs": [],
   "source": [
    "namespaces = {\n",
    "    \"shacl\":   \"http://www.w3.org/ns/shacl#\" ,\n",
    "    \"schmea\":   \"https://schema.org/\" ,\n",
    "    \"geo\":      \"http://www.opengis.net/ont/geosparql#\",\n",
    "}\n",
    "\n",
    "kg = kglab.KnowledgeGraph(name = \"OIH test\", base_uri = \"https://oceaninfohub.org/id/\", namespaces = namespaces, import_graph = g)"
   ]
  },
  {
   "cell_type": "code",
   "execution_count": 8,
   "metadata": {
    "tags": []
   },
   "outputs": [],
   "source": [
    "sparql = \"\"\"\n",
    "PREFIX rdf: <http://www.w3.org/1999/02/22-rdf-syntax-ns#>\n",
    "PREFIX rdfs: <http://www.w3.org/2000/01/rdf-schema#>\n",
    "PREFIX xsd: <http://www.w3.org/2001/XMLSchema#>\n",
    "\n",
    "\n",
    "SELECT ?p (COUNT(?p) as ?count)\n",
    "WHERE\n",
    "{\n",
    "  ?s ?p ?o .\n",
    "}\n",
    "GROUP BY ?p ORDER BY DESC(?count)\n",
    "\"\"\"\n",
    "\n",
    "pdf = kg.query_as_df(sparql)\n",
    "# df = pdf   # .to_pandas()  #  breaks with papermill for reasons unknown at this time if to_pandas() is used, needed in my kglab conda env\n"
   ]
  },
  {
   "cell_type": "code",
   "execution_count": 9,
   "metadata": {
    "tags": []
   },
   "outputs": [
    {
     "data": {
      "text/html": [
       "<div>\n",
       "<style scoped>\n",
       "    .dataframe tbody tr th:only-of-type {\n",
       "        vertical-align: middle;\n",
       "    }\n",
       "\n",
       "    .dataframe tbody tr th {\n",
       "        vertical-align: top;\n",
       "    }\n",
       "\n",
       "    .dataframe thead th {\n",
       "        text-align: right;\n",
       "    }\n",
       "</style>\n",
       "<table border=\"1\" class=\"dataframe\">\n",
       "  <thead>\n",
       "    <tr style=\"text-align: right;\">\n",
       "      <th></th>\n",
       "      <th>p</th>\n",
       "      <th>count</th>\n",
       "    </tr>\n",
       "  </thead>\n",
       "  <tbody>\n",
       "    <tr>\n",
       "      <th>0</th>\n",
       "      <td>rdf:type</td>\n",
       "      <td>28294</td>\n",
       "    </tr>\n",
       "    <tr>\n",
       "      <th>1</th>\n",
       "      <td>schmea:keywords</td>\n",
       "      <td>20101</td>\n",
       "    </tr>\n",
       "    <tr>\n",
       "      <th>2</th>\n",
       "      <td>schmea:name</td>\n",
       "      <td>11010</td>\n",
       "    </tr>\n",
       "    <tr>\n",
       "      <th>3</th>\n",
       "      <td>schmea:description</td>\n",
       "      <td>10321</td>\n",
       "    </tr>\n",
       "    <tr>\n",
       "      <th>4</th>\n",
       "      <td>schmea:url</td>\n",
       "      <td>9826</td>\n",
       "    </tr>\n",
       "  </tbody>\n",
       "</table>\n",
       "</div>"
      ],
      "text/plain": [
       "                    p  count\n",
       "0            rdf:type  28294\n",
       "1     schmea:keywords  20101\n",
       "2         schmea:name  11010\n",
       "3  schmea:description  10321\n",
       "4          schmea:url   9826"
      ]
     },
     "execution_count": 9,
     "metadata": {},
     "output_type": "execute_result"
    }
   ],
   "source": [
    "pdf.head()"
   ]
  },
  {
   "cell_type": "code",
   "execution_count": 10,
   "metadata": {
    "tags": []
   },
   "outputs": [],
   "source": [
    "sparql = \"\"\"\n",
    "PREFIX schema: <https://schema.org/>\n",
    "\n",
    "\n",
    "SELECT ?s ?desc ?name\n",
    "WHERE\n",
    "{\n",
    " ?s rdf:type ?type\n",
    "   FILTER ( ?type IN (schema:ResearchProject, schema:Project, schema:Organization, \n",
    "   schema:Dataset, schema:CreativeWork, schema:Person, schema:Map, schema:Course,\n",
    "   schema:CourseInstance, schema:Event, schema:Vehicle) )\n",
    "   ?s schema:description ?desc .\n",
    "   ?s schema:name ?name\n",
    "\n",
    "}\n",
    "\"\"\"\n",
    "\n",
    "pdf = kg.query_as_df(sparql)\n",
    "# df = pdf   # .to_pandas()  #  breaks with papermill for reasons unknown at this time if to_pandas() is used, needed in my kglab conda env\n"
   ]
  },
  {
   "cell_type": "code",
   "execution_count": 11,
   "metadata": {
    "tags": []
   },
   "outputs": [
    {
     "data": {
      "text/html": [
       "<div>\n",
       "<style scoped>\n",
       "    .dataframe tbody tr th:only-of-type {\n",
       "        vertical-align: middle;\n",
       "    }\n",
       "\n",
       "    .dataframe tbody tr th {\n",
       "        vertical-align: top;\n",
       "    }\n",
       "\n",
       "    .dataframe thead th {\n",
       "        text-align: right;\n",
       "    }\n",
       "</style>\n",
       "<table border=\"1\" class=\"dataframe\">\n",
       "  <thead>\n",
       "    <tr style=\"text-align: right;\">\n",
       "      <th></th>\n",
       "      <th>s</th>\n",
       "      <th>desc</th>\n",
       "      <th>name</th>\n",
       "    </tr>\n",
       "  </thead>\n",
       "  <tbody>\n",
       "    <tr>\n",
       "      <th>0</th>\n",
       "      <td>&lt;https://obis.org/dataset/1057a007-c31c-48a3-a...</td>\n",
       "      <td>In Australia, it is thought that up to 26 Aust...</td>\n",
       "      <td>Census of annual pup production by Australian ...</td>\n",
       "    </tr>\n",
       "    <tr>\n",
       "      <th>1</th>\n",
       "      <td>&lt;https://obis.org/dataset/d64477cf-491f-4de5-8...</td>\n",
       "      <td>Original provider:\\nObservatorio Ambiental Gra...</td>\n",
       "      <td>Canary Islands - OAG (aggregated per 1-degree ...</td>\n",
       "    </tr>\n",
       "    <tr>\n",
       "      <th>2</th>\n",
       "      <td>&lt;https://obis.org/dataset/e71d452f-615e-4654-b...</td>\n",
       "      <td>Original provider:\\nVirginia Aquarium and Mari...</td>\n",
       "      <td>Virginia and Maryland Sea Turtle Research and ...</td>\n",
       "    </tr>\n",
       "    <tr>\n",
       "      <th>3</th>\n",
       "      <td>&lt;https://obis.org/dataset/49f74e10-b23b-4aca-a...</td>\n",
       "      <td>Tow video and epibenthic sled collections were...</td>\n",
       "      <td>Species assemblages, biomass and regional habi...</td>\n",
       "    </tr>\n",
       "    <tr>\n",
       "      <th>4</th>\n",
       "      <td>&lt;https://obis.org/dataset/30fd5e3c-d729-41bb-b...</td>\n",
       "      <td>Data on the distribution, reproductive and sur...</td>\n",
       "      <td>PELD-ELPA Ecology of Lahille's bottlenose dolp...</td>\n",
       "    </tr>\n",
       "    <tr>\n",
       "      <th>5</th>\n",
       "      <td>&lt;https://obis.org/dataset/9a37fc55-1fc8-4c19-b...</td>\n",
       "      <td>Original provider:\\nCanadian Wildlife Service\\...</td>\n",
       "      <td>PIROP Northwest Atlantic 1965-1992</td>\n",
       "    </tr>\n",
       "    <tr>\n",
       "      <th>6</th>\n",
       "      <td>&lt;https://obis.org/dataset/1d81a51c-66fc-46bf-a...</td>\n",
       "      <td>Original provider:\\nUniversity of North Caroli...</td>\n",
       "      <td>USWTR JAX Aerial Survey -Left side- 2011-2012</td>\n",
       "    </tr>\n",
       "    <tr>\n",
       "      <th>7</th>\n",
       "      <td>&lt;https://obis.org/dataset/a595a9a0-642a-473f-8...</td>\n",
       "      <td>The EAISSNA database contains information on l...</td>\n",
       "      <td>Electronic Atlas of Ichthyoplankton on the Sco...</td>\n",
       "    </tr>\n",
       "    <tr>\n",
       "      <th>8</th>\n",
       "      <td>&lt;https://obis.org/dataset/32948ff1-6f03-4877-b...</td>\n",
       "      <td>Original provider:\\nHappywhale\\n\\nDataset cred...</td>\n",
       "      <td>Happywhale - Bryde's whale in South Atlantic O...</td>\n",
       "    </tr>\n",
       "    <tr>\n",
       "      <th>9</th>\n",
       "      <td>&lt;https://obis.org/dataset/0abb8cc1-8651-4213-a...</td>\n",
       "      <td>El phylum Nemertea está formado por un pequeño...</td>\n",
       "      <td>Colección de Gusanos Cinta (Nemertea) de la re...</td>\n",
       "    </tr>\n",
       "    <tr>\n",
       "      <th>10</th>\n",
       "      <td>&lt;https://obis.org/dataset/937da8a1-06b0-40ad-8...</td>\n",
       "      <td>Barcode of Life data extract, October 2010\\n\\n...</td>\n",
       "      <td>BOLD - Australian records</td>\n",
       "    </tr>\n",
       "    <tr>\n",
       "      <th>11</th>\n",
       "      <td>&lt;https://obis.org/dataset/dcf57651-a262-47db-b...</td>\n",
       "      <td>The Mayor Island (Tuhua) marine reserve was cr...</td>\n",
       "      <td>Fish distribution data, Mayor Is. (Tuhua) mar...</td>\n",
       "    </tr>\n",
       "    <tr>\n",
       "      <th>12</th>\n",
       "      <td>&lt;https://obis.org/dataset/84e8941c-61e1-40ea-b...</td>\n",
       "      <td>The biological material was collected on board...</td>\n",
       "      <td>Benthic Polychaeta (Annelida) from the contine...</td>\n",
       "    </tr>\n",
       "    <tr>\n",
       "      <th>13</th>\n",
       "      <td>&lt;https://obis.org/dataset/561441ab-128b-4be7-8...</td>\n",
       "      <td>SEAPOP (SEAbird POPulations) is a long-term mo...</td>\n",
       "      <td>SEAPOP NINA</td>\n",
       "    </tr>\n",
       "    <tr>\n",
       "      <th>14</th>\n",
       "      <td>&lt;https://obis.org/dataset/2db91196-579a-4f1f-8...</td>\n",
       "      <td>Ground based sightings of Weddell seals restin...</td>\n",
       "      <td>Weddell Seal Sightings, Vestfold Hills, Antarc...</td>\n",
       "    </tr>\n",
       "    <tr>\n",
       "      <th>15</th>\n",
       "      <td>&lt;https://obis.org/dataset/d5cd9197-6fce-46f4-a...</td>\n",
       "      <td>Original provider:\\nDuke University Marine Lab...</td>\n",
       "      <td>Cape Hatteras 04-05</td>\n",
       "    </tr>\n",
       "    <tr>\n",
       "      <th>16</th>\n",
       "      <td>&lt;https://obis.org/dataset/bda3a989-65b3-4471-a...</td>\n",
       "      <td>Amplicon sequencing dataset (454 pyrosequencin...</td>\n",
       "      <td>Soil microbiome (Bacteria) on Keller Peninsula...</td>\n",
       "    </tr>\n",
       "    <tr>\n",
       "      <th>17</th>\n",
       "      <td>&lt;https://obis.org/dataset/0b1ec148-693f-4517-b...</td>\n",
       "      <td>699 Registros recopilados durante las jornadas...</td>\n",
       "      <td>Censo abundancia de aves en los Parques Nacion...</td>\n",
       "    </tr>\n",
       "    <tr>\n",
       "      <th>18</th>\n",
       "      <td>&lt;https://obis.org/dataset/47ab07e9-ac50-47b1-9...</td>\n",
       "      <td>Original provider:\\nNOAA Northeast Fisheries S...</td>\n",
       "      <td>AMAPPS Northeast Aerial Cruise Spring 2017</td>\n",
       "    </tr>\n",
       "    <tr>\n",
       "      <th>19</th>\n",
       "      <td>&lt;https://obis.org/dataset/a7c96474-3f59-4901-8...</td>\n",
       "      <td>Squid collected as a product of fish surveys. ...</td>\n",
       "      <td>Squid collection from 1995/96 V4 BROKE</td>\n",
       "    </tr>\n",
       "  </tbody>\n",
       "</table>\n",
       "</div>"
      ],
      "text/plain": [
       "                                                    s  \\\n",
       "0   <https://obis.org/dataset/1057a007-c31c-48a3-a...   \n",
       "1   <https://obis.org/dataset/d64477cf-491f-4de5-8...   \n",
       "2   <https://obis.org/dataset/e71d452f-615e-4654-b...   \n",
       "3   <https://obis.org/dataset/49f74e10-b23b-4aca-a...   \n",
       "4   <https://obis.org/dataset/30fd5e3c-d729-41bb-b...   \n",
       "5   <https://obis.org/dataset/9a37fc55-1fc8-4c19-b...   \n",
       "6   <https://obis.org/dataset/1d81a51c-66fc-46bf-a...   \n",
       "7   <https://obis.org/dataset/a595a9a0-642a-473f-8...   \n",
       "8   <https://obis.org/dataset/32948ff1-6f03-4877-b...   \n",
       "9   <https://obis.org/dataset/0abb8cc1-8651-4213-a...   \n",
       "10  <https://obis.org/dataset/937da8a1-06b0-40ad-8...   \n",
       "11  <https://obis.org/dataset/dcf57651-a262-47db-b...   \n",
       "12  <https://obis.org/dataset/84e8941c-61e1-40ea-b...   \n",
       "13  <https://obis.org/dataset/561441ab-128b-4be7-8...   \n",
       "14  <https://obis.org/dataset/2db91196-579a-4f1f-8...   \n",
       "15  <https://obis.org/dataset/d5cd9197-6fce-46f4-a...   \n",
       "16  <https://obis.org/dataset/bda3a989-65b3-4471-a...   \n",
       "17  <https://obis.org/dataset/0b1ec148-693f-4517-b...   \n",
       "18  <https://obis.org/dataset/47ab07e9-ac50-47b1-9...   \n",
       "19  <https://obis.org/dataset/a7c96474-3f59-4901-8...   \n",
       "\n",
       "                                                 desc  \\\n",
       "0   In Australia, it is thought that up to 26 Aust...   \n",
       "1   Original provider:\\nObservatorio Ambiental Gra...   \n",
       "2   Original provider:\\nVirginia Aquarium and Mari...   \n",
       "3   Tow video and epibenthic sled collections were...   \n",
       "4   Data on the distribution, reproductive and sur...   \n",
       "5   Original provider:\\nCanadian Wildlife Service\\...   \n",
       "6   Original provider:\\nUniversity of North Caroli...   \n",
       "7   The EAISSNA database contains information on l...   \n",
       "8   Original provider:\\nHappywhale\\n\\nDataset cred...   \n",
       "9   El phylum Nemertea está formado por un pequeño...   \n",
       "10  Barcode of Life data extract, October 2010\\n\\n...   \n",
       "11  The Mayor Island (Tuhua) marine reserve was cr...   \n",
       "12  The biological material was collected on board...   \n",
       "13  SEAPOP (SEAbird POPulations) is a long-term mo...   \n",
       "14  Ground based sightings of Weddell seals restin...   \n",
       "15  Original provider:\\nDuke University Marine Lab...   \n",
       "16  Amplicon sequencing dataset (454 pyrosequencin...   \n",
       "17  699 Registros recopilados durante las jornadas...   \n",
       "18  Original provider:\\nNOAA Northeast Fisheries S...   \n",
       "19  Squid collected as a product of fish surveys. ...   \n",
       "\n",
       "                                                 name  \n",
       "0   Census of annual pup production by Australian ...  \n",
       "1   Canary Islands - OAG (aggregated per 1-degree ...  \n",
       "2   Virginia and Maryland Sea Turtle Research and ...  \n",
       "3   Species assemblages, biomass and regional habi...  \n",
       "4   PELD-ELPA Ecology of Lahille's bottlenose dolp...  \n",
       "5                  PIROP Northwest Atlantic 1965-1992  \n",
       "6       USWTR JAX Aerial Survey -Left side- 2011-2012  \n",
       "7   Electronic Atlas of Ichthyoplankton on the Sco...  \n",
       "8   Happywhale - Bryde's whale in South Atlantic O...  \n",
       "9   Colección de Gusanos Cinta (Nemertea) de la re...  \n",
       "10                          BOLD - Australian records  \n",
       "11   Fish distribution data, Mayor Is. (Tuhua) mar...  \n",
       "12  Benthic Polychaeta (Annelida) from the contine...  \n",
       "13                                        SEAPOP NINA  \n",
       "14  Weddell Seal Sightings, Vestfold Hills, Antarc...  \n",
       "15                                Cape Hatteras 04-05  \n",
       "16  Soil microbiome (Bacteria) on Keller Peninsula...  \n",
       "17  Censo abundancia de aves en los Parques Nacion...  \n",
       "18         AMAPPS Northeast Aerial Cruise Spring 2017  \n",
       "19             Squid collection from 1995/96 V4 BROKE  "
      ]
     },
     "execution_count": 11,
     "metadata": {},
     "output_type": "execute_result"
    }
   ],
   "source": [
    "pdf.head(20)"
   ]
  },
  {
   "cell_type": "code",
   "execution_count": 14,
   "metadata": {
    "tags": []
   },
   "outputs": [
    {
     "data": {
      "text/html": [
       "<div>\n",
       "<style scoped>\n",
       "    .dataframe tbody tr th:only-of-type {\n",
       "        vertical-align: middle;\n",
       "    }\n",
       "\n",
       "    .dataframe tbody tr th {\n",
       "        vertical-align: top;\n",
       "    }\n",
       "\n",
       "    .dataframe thead th {\n",
       "        text-align: right;\n",
       "    }\n",
       "</style>\n",
       "<table border=\"1\" class=\"dataframe\">\n",
       "  <thead>\n",
       "    <tr style=\"text-align: right;\">\n",
       "      <th></th>\n",
       "      <th>p</th>\n",
       "      <th>pCount</th>\n",
       "    </tr>\n",
       "  </thead>\n",
       "  <tbody>\n",
       "    <tr>\n",
       "      <th>0</th>\n",
       "      <td>schmea:sameAs</td>\n",
       "      <td>5396</td>\n",
       "    </tr>\n",
       "    <tr>\n",
       "      <th>1</th>\n",
       "      <td>rdf:type</td>\n",
       "      <td>28294</td>\n",
       "    </tr>\n",
       "    <tr>\n",
       "      <th>2</th>\n",
       "      <td>schmea:keywords</td>\n",
       "      <td>20101</td>\n",
       "    </tr>\n",
       "    <tr>\n",
       "      <th>3</th>\n",
       "      <td>schmea:citation</td>\n",
       "      <td>4060</td>\n",
       "    </tr>\n",
       "    <tr>\n",
       "      <th>4</th>\n",
       "      <td>schmea:additionalProperty</td>\n",
       "      <td>3998</td>\n",
       "    </tr>\n",
       "  </tbody>\n",
       "</table>\n",
       "</div>"
      ],
      "text/plain": [
       "                           p  pCount\n",
       "0              schmea:sameAs    5396\n",
       "1                   rdf:type   28294\n",
       "2            schmea:keywords   20101\n",
       "3            schmea:citation    4060\n",
       "4  schmea:additionalProperty    3998"
      ]
     },
     "execution_count": 14,
     "metadata": {},
     "output_type": "execute_result"
    }
   ],
   "source": [
    "rq_pcount = \"\"\"SELECT ?p (COUNT(?p) as ?pCount)\n",
    "WHERE\n",
    "{\n",
    "  ?s ?p ?o .\n",
    "}\n",
    "GROUP BY ?p \n",
    "ORDER BY DESC(?count)\n",
    "\"\"\"\n",
    "\n",
    "pdf = kg.query_as_df(rq_pcount)\n",
    "pdf.head()"
   ]
  },
  {
   "cell_type": "markdown",
   "metadata": {},
   "source": [
    "## All OIh-Graph load\n",
    "\n",
    "The following will load all the graphs of the providers in the OIH-Graph."
   ]
  },
  {
   "cell_type": "code",
   "execution_count": 12,
   "metadata": {
    "tags": []
   },
   "outputs": [
    {
     "name": "stdout",
     "output_type": "stream",
     "text": [
      "Loading http://ossapi.oceaninfohub.org/public/graphs/summonedafricaioc_v1_release.nq\n",
      "Loading http://ossapi.oceaninfohub.org/public/graphs/summonedaquadocs_v1_release.nq\n",
      "Loading http://ossapi.oceaninfohub.org/public/graphs/summonedcioos_v1_release.nq\n",
      "Loading http://ossapi.oceaninfohub.org/public/graphs/summonededmerp_v1_release.nq\n",
      "Loading http://ossapi.oceaninfohub.org/public/graphs/summonededmo_v1_release.nq\n",
      "Loading http://ossapi.oceaninfohub.org/public/graphs/summonedemodnet_v1_release.nq\n",
      "Loading http://ossapi.oceaninfohub.org/public/graphs/summonedinanodc_v1_release.nq\n",
      "Loading http://ossapi.oceaninfohub.org/public/graphs/summonedinvemardocuments_v1_release.nq\n",
      "Loading http://ossapi.oceaninfohub.org/public/graphs/summonedinvemarexperts_v1_release.nq\n",
      "Loading http://ossapi.oceaninfohub.org/public/graphs/summonedinvemarinstitutions_v1_release.nq\n",
      "Loading http://ossapi.oceaninfohub.org/public/graphs/summonedinvemartraining_v1_release.nq\n",
      "Loading http://ossapi.oceaninfohub.org/public/graphs/summonedinvemarvessels_v1_release.nq\n",
      "Loading http://ossapi.oceaninfohub.org/public/graphs/summonedmarinetraining_v1_release.nq\n",
      "Loading http://ossapi.oceaninfohub.org/public/graphs/summonedobis_v1_release.nq\n",
      "Loading http://ossapi.oceaninfohub.org/public/graphs/summonedobps_v1_release.nq\n",
      "Loading http://ossapi.oceaninfohub.org/public/graphs/summonedoceanexperts_v1_release.nq\n",
      "2715084\n"
     ]
    }
   ],
   "source": [
    "bg = ConjunctiveGraph()\n",
    "\n",
    "for u in urls:\n",
    "    print(\"Loading {}\".format(u))\n",
    "    bg.parse(u, format=\"nquads\")\n",
    "\n",
    "print(len(bg))"
   ]
  },
  {
   "cell_type": "code",
   "execution_count": 13,
   "metadata": {
    "tags": []
   },
   "outputs": [],
   "source": [
    "namespaces = {\n",
    "    \"shacl\":   \"http://www.w3.org/ns/shacl#\" ,\n",
    "    \"schmea\":   \"https://schema.org/\" ,\n",
    "    \"geo\":      \"http://www.opengis.net/ont/geosparql#\",\n",
    "}\n",
    "\n",
    "bkg = kglab.KnowledgeGraph(name = \"OIH test\", base_uri = \"https://oceaninfohub.org/id/\", namespaces = namespaces, import_graph = bg)"
   ]
  },
  {
   "cell_type": "code",
   "execution_count": 14,
   "metadata": {
    "tags": []
   },
   "outputs": [],
   "source": [
    "sparql = \"\"\"\n",
    "PREFIX rdf: <http://www.w3.org/1999/02/22-rdf-syntax-ns#>\n",
    "PREFIX rdfs: <http://www.w3.org/2000/01/rdf-schema#>\n",
    "PREFIX xsd: <http://www.w3.org/2001/XMLSchema#>\n",
    "\n",
    "\n",
    "SELECT ?p (COUNT(?p) as ?count)\n",
    "WHERE\n",
    "{\n",
    "  ?s ?p ?o .\n",
    "}\n",
    "GROUP BY ?p ORDER BY DESC(?count)\n",
    "\"\"\"\n",
    "\n",
    "pdf = bkg.query_as_df(sparql)\n",
    "# df = pdf   # .to_pandas()  #  breaks with papermill for reasons unknown at this time if to_pandas() is used, needed in my kglab conda env\n"
   ]
  },
  {
   "cell_type": "code",
   "execution_count": 15,
   "metadata": {
    "tags": []
   },
   "outputs": [
    {
     "data": {
      "text/html": [
       "<div>\n",
       "<style scoped>\n",
       "    .dataframe tbody tr th:only-of-type {\n",
       "        vertical-align: middle;\n",
       "    }\n",
       "\n",
       "    .dataframe tbody tr th {\n",
       "        vertical-align: top;\n",
       "    }\n",
       "\n",
       "    .dataframe thead th {\n",
       "        text-align: right;\n",
       "    }\n",
       "</style>\n",
       "<table border=\"1\" class=\"dataframe\">\n",
       "  <thead>\n",
       "    <tr style=\"text-align: right;\">\n",
       "      <th></th>\n",
       "      <th>p</th>\n",
       "      <th>count</th>\n",
       "    </tr>\n",
       "  </thead>\n",
       "  <tbody>\n",
       "    <tr>\n",
       "      <th>0</th>\n",
       "      <td>rdf:type</td>\n",
       "      <td>579669</td>\n",
       "    </tr>\n",
       "    <tr>\n",
       "      <th>1</th>\n",
       "      <td>schmea:name</td>\n",
       "      <td>316802</td>\n",
       "    </tr>\n",
       "    <tr>\n",
       "      <th>2</th>\n",
       "      <td>schmea:keywords</td>\n",
       "      <td>306246</td>\n",
       "    </tr>\n",
       "    <tr>\n",
       "      <th>3</th>\n",
       "      <td>schmea:url</td>\n",
       "      <td>189304</td>\n",
       "    </tr>\n",
       "    <tr>\n",
       "      <th>4</th>\n",
       "      <td>schmea:description</td>\n",
       "      <td>134921</td>\n",
       "    </tr>\n",
       "  </tbody>\n",
       "</table>\n",
       "</div>"
      ],
      "text/plain": [
       "                    p   count\n",
       "0            rdf:type  579669\n",
       "1         schmea:name  316802\n",
       "2     schmea:keywords  306246\n",
       "3          schmea:url  189304\n",
       "4  schmea:description  134921"
      ]
     },
     "execution_count": 15,
     "metadata": {},
     "output_type": "execute_result"
    }
   ],
   "source": [
    "pdf.head()"
   ]
  },
  {
   "cell_type": "code",
   "execution_count": 32,
   "metadata": {
    "tags": []
   },
   "outputs": [],
   "source": [
    "bkg.save_parquet(\"OIHGraph_25032023.parquet\")\n"
   ]
  }
 ],
 "metadata": {
  "kernelspec": {
   "display_name": "Python 3 (ipykernel)",
   "language": "python",
   "name": "python3"
  },
  "language_info": {
   "codemirror_mode": {
    "name": "ipython",
    "version": 3
   },
   "file_extension": ".py",
   "mimetype": "text/x-python",
   "name": "python",
   "nbconvert_exporter": "python",
   "pygments_lexer": "ipython3",
   "version": "3.10.10"
  }
 },
 "nbformat": 4,
 "nbformat_minor": 4
}
