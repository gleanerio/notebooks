{
 "cells": [
  {
   "cell_type": "markdown",
   "source": [
    "# Publink exploring\n",
    "\n",
    "https://publink.readthedocs.io/en/latest/readme.html#getting-started\n"
   ],
   "metadata": {
    "collapsed": false
   }
  },
  {
   "cell_type": "code",
   "execution_count": 4,
   "metadata": {
    "collapsed": true
   },
   "outputs": [
    {
     "name": "stdout",
     "output_type": "stream",
     "text": [
      "[{'xdd_id': '608787af3f2ac7e701e149d8', 'pub_doi': '10.1002/RRA.3700', 'search_term': '10.5066/P9IGEC9G', 'highlight': 'JANUARY 2020): U.S. GEOLOGICAL SURVEY DATA RELEASE, DOI:10.5066/P9IGEC9G. EAST, A. E.,'}, {'xdd_id': '608787af3f2ac7e701e149d8', 'pub_doi': '10.1002/RRA.3700', 'search_term': '10.5066/P9IGEC9G', 'highlight': 'SURVEY DATA RELEASE, DOI:10.5066/P9IGEC9G. EAST, A. E., LOGAN, J. B., MASTIN, M.'}, {'xdd_id': '5a0493b1cf58f1b96402aa7c', 'pub_doi': '10.1002/2017WR020457', 'search_term': '10.5066/F7K935KT', 'highlight': 'DATABASE, IN U.S. GEOLOGICAL SURVEY DATA RELEASE, DOI:10.5066/F7K935KT. BELLMORE,'}, {'xdd_id': '5a0493b1cf58f1b96402aa7c', 'pub_doi': '10.1002/2017WR020457', 'search_term': '10.5066/F7K935KT', 'highlight': 'SURVEY DATA RELEASE, DOI:10.5066/F7K935KT. BELLMORE, J. R., J. R. BENJAMIN, M. NEWSOM,'}, {'xdd_id': '5da031f9998e17af8252fdb8', 'pub_doi': '10.3133/OFR20161165', 'search_term': '10.5066/F7K935KT', 'highlight': 'RELEASE, ACCESSED NOVEMBER 24, 2015, AT HTTP://DOI.ORG/10.5066/F7K935KT. BUSCOMBE,'}, {'xdd_id': '5da031f9998e17af8252fdb8', 'pub_doi': '10.3133/OFR20161165', 'search_term': '10.5066/F7K935KT', 'highlight': '2015, AT HTTP://DOI.ORG/10.5066/F7K935KT. BUSCOMBE, D., 2013, TRANSFERABLE WAVELET'}, {'xdd_id': '58033ceacf58f18e023de145', 'pub_doi': '10.1111/1752-1688.12450', 'search_term': '10.5066/F7K935KT', 'highlight': 'GREENE, 2015. USGS DAM REMOVAL SCIENCE DATABASE, DOI: 10.5066/F7K935KT. BERTHELOTE,'}, {'xdd_id': '58033ceacf58f18e023de145', 'pub_doi': '10.1111/1752-1688.12450', 'search_term': '10.5066/F7K935KT', 'highlight': 'SCIENCE DATABASE, DOI: 10.5066/F7K935KT. BERTHELOTE, A.R., 2013. FORECASTING GROUNDWATER'}, {'xdd_id': '5cd277d50b45c76caf87f734', 'pub_doi': '10.1080/24694452.2018.1507814', 'search_term': '10.5066/F7K935KT', 'highlight': 'DATABASE. ACCESSED OCTOBER 20, 2016. HTTP://DX.DOI.ORG/10.5066/ F7K935KT. BLANTON,'}, {'xdd_id': '5cd277d50b45c76caf87f734', 'pub_doi': '10.1080/24694452.2018.1507814', 'search_term': '10.5066/F7K935KT', 'highlight': '2016. HTTP://DX.DOI.ORG/10.5066/ F7K935KT. BLANTON, P., AND W. A. MARCUS. 2009. RAILROADS,'}]\n"
     ]
    }
   ],
   "source": [
    "# Import packages\n",
    "from publink import publink\n",
    "\n",
    "# Define search terms\n",
    "# Note comma separated text string with no spaces\n",
    "terms = \"10.5066/P9IGEC9G,10.5066/F7K935KT\"\n",
    "\n",
    "# Search publications in xDD for mentions of the two DOIs\n",
    "search = publink.search_xdd(\n",
    "    terms, account_for_spaces=True\n",
    ")\n",
    "\n",
    "# Simplify and restructure output data\n",
    "mention = publink.xdd_mentions(\n",
    "    search.response_data, search.search_terms,\n",
    "    search_type='exact_match', is_doi=True\n",
    ")\n",
    "# print first two mentions\n",
    "print (mention.mentions[0:10])\n"
   ]
  },
  {
   "cell_type": "code",
   "execution_count": 5,
   "outputs": [
    {
     "name": "stdout",
     "output_type": "stream",
     "text": [
      "[{'xdd_id': '54b4327de138239d8685312a', 'pub_doi': '10.1016/J.JSEAES.2013.10.034', 'search_term': 'STEENS REVERSAL', 'highlight': 'R.S., RENNE, P.R., GLEN, J.M.G., 2010. THE AGE OF THE STEENS REVERSAL AND THE COLUMBIA'}, {'xdd_id': '54b4327de138239d8685312a', 'pub_doi': '10.1016/J.JSEAES.2013.10.034', 'search_term': 'STEENS REVERSAL', 'highlight': 'J.M.G., 2010. THE AGE OF THE STEENS REVERSAL AND THE COLUMBIA RIVER BASALT GROUP. CHEMICAL'}, {'xdd_id': '57a3ed52cf58f1bdaf348da5', 'pub_doi': '10.1130/GES01162.1', 'search_term': 'STEENS REVERSAL', 'highlight': 'RENNE, P.R., AND GLEN, J.M.G., 2010, THE AGE OF THE STEENS REVERSAL AND THE COLUMBIA'}, {'xdd_id': '57a3ed52cf58f1bdaf348da5', 'pub_doi': '10.1130/GES01162.1', 'search_term': 'STEENS REVERSAL', 'highlight': 'J.M.G., 2010, THE AGE OF THE STEENS REVERSAL AND THE COLUMBIA RIVER BASALT GROUP: CHEMICAL'}, {'xdd_id': '56f3f66ecf58f126f9725240', 'pub_doi': '10.1029/2010GL044286', 'search_term': 'STEENS REVERSAL', 'highlight': 'R. RENNE, AND J. M. G. GLEN (2010), THE AGE OF THE STEENS REVERSAL AND THE COLUMBIA'}, {'xdd_id': '56f3f66ecf58f126f9725240', 'pub_doi': '10.1029/2010GL044286', 'search_term': 'STEENS REVERSAL', 'highlight': '(2010), THE AGE OF THE STEENS REVERSAL AND THE COLUMBIA RIVER BASALT GROUP, CHEM.'}, {'xdd_id': '568eee4fcf58f11e8bd6984e', 'pub_doi': '10.1029/2011PA002236', 'search_term': 'STEENS REVERSAL', 'highlight': 'R. RENNE, AND J. M. G. GLEN (2010), THE AGE OF THE STEENS REVERSAL AND THE COLUMBIA'}, {'xdd_id': '568eee4fcf58f11e8bd6984e', 'pub_doi': '10.1029/2011PA002236', 'search_term': 'STEENS REVERSAL', 'highlight': '(2010), THE AGE OF THE STEENS REVERSAL AND THE COLUMBIA RIVER BASALT GROUP, CHEM.'}, {'xdd_id': '5d9fd501998e17af8252ece6', 'pub_doi': '10.3133/SIR20175022M', 'search_term': 'STEENS REVERSAL', 'highlight': 'RENNE, P.R., AND GLEN, J.M., 2010, THE AGE OF THE STEENS REVERSAL AND THE COLUMBIA'}, {'xdd_id': '5d9fd501998e17af8252ece6', 'pub_doi': '10.3133/SIR20175022M', 'search_term': 'STEENS REVERSAL', 'highlight': 'J.M., 2010, THE AGE OF THE STEENS REVERSAL AND THE COLUMBIA RIVER BASALT GROUP: CHEMICAL'}]\n"
     ]
    }
   ],
   "source": [
    "# Import packages\n",
    "from publink import publink\n",
    "\n",
    "# Define search terms\n",
    "# Note comma separated text string with no spaces\n",
    "terms = \"steens reversal\"\n",
    "\n",
    "# Search publications in xDD for mentions of the two titles\n",
    "search = publink.search_xdd(\n",
    "    terms, account_for_spaces=True\n",
    ")\n",
    "\n",
    "# Simplify and restructure output data\n",
    "mention = publink.xdd_mentions(\n",
    "    search.response_data, search.search_terms,\n",
    "    search_type='exact_match', is_doi=False\n",
    ")\n",
    "\n",
    "# print first two mentions\n",
    "print (mention.mentions[0:10])"
   ],
   "metadata": {
    "collapsed": false,
    "pycharm": {
     "name": "#%%\n"
    }
   }
  },
  {
   "cell_type": "code",
   "execution_count": null,
   "outputs": [],
   "source": [],
   "metadata": {
    "collapsed": false,
    "pycharm": {
     "name": "#%%\n"
    }
   }
  }
 ],
 "metadata": {
  "kernelspec": {
   "display_name": "Python 3",
   "language": "python",
   "name": "python3"
  },
  "language_info": {
   "codemirror_mode": {
    "name": "ipython",
    "version": 2
   },
   "file_extension": ".py",
   "mimetype": "text/x-python",
   "name": "python",
   "nbconvert_exporter": "python",
   "pygments_lexer": "ipython2",
   "version": "2.7.6"
  }
 },
 "nbformat": 4,
 "nbformat_minor": 0
}