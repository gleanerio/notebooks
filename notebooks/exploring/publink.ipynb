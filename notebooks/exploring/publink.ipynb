{
 "cells": [
  {
   "cell_type": "markdown",
   "source": [
    "# Publink exploring\n",
    "\n",
    "[PubLink Read the docs](https://publink.readthedocs.io/en/latest/readme.html#getting-started)\n"
   ],
   "metadata": {
    "collapsed": false
   }
  },
  {
   "cell_type": "markdown",
   "source": [
    "Take the DOI from https://geocodes.earthcube.org/#/dataset/urn:gleaner:milled:magic:fbc9a381ce84c9978179b6b8e13073d563ae3ac3"
   ],
   "metadata": {
    "collapsed": false
   }
  },
  {
   "cell_type": "code",
   "execution_count": 7,
   "metadata": {
    "collapsed": true
   },
   "outputs": [
    {
     "name": "stdout",
     "output_type": "stream",
     "text": [
      "[{'xdd_id': '5d80780a0b45c76cafa8601a', 'pub_doi': '10.1029/2018GC007950', 'search_term': '10.1029/2008GC002067', 'highlight': 'GEOPHYSICS, GEOSYSTEMS, 9, Q11010. HTTPS://DOI.ORG/10.1029/2008GC002067 JOHNSON,'}, {'xdd_id': '5d80780a0b45c76cafa8601a', 'pub_doi': '10.1029/2018GC007950', 'search_term': '10.1029/2008GC002067', 'highlight': 'Q11010. HTTPS://DOI.ORG/10.1029/2008GC002067 JOHNSON, C. L., CONSTABLE, C. G., TAUXE,'}, {'xdd_id': '54fb727fe138239936c6d4e4', 'pub_doi': '10.1016/J.LITHOS.2010.03.014', 'search_term': '10.1029/2008GC002067', 'highlight': 'GEOCHEMISTRY GEOPHYSICS GEOSYSTEMS 9 (11), Q11010. DOI:10.1029/2008GC002067. JOLLEY,'}, {'xdd_id': '54fb727fe138239936c6d4e4', 'pub_doi': '10.1016/J.LITHOS.2010.03.014', 'search_term': '10.1029/2008GC002067', 'highlight': 'GEOSYSTEMS 9 (11), Q11010. DOI:10.1029/2008GC002067. JOLLEY, D.W., WIDDOWSON, M., SELF,'}, {'xdd_id': '56744e78cf58f122156071d9', 'pub_doi': '10.1029/2008GC002289', 'search_term': '10.1029/2008GC002067', 'highlight': 'REVERSAL, GEOCHEM. GEOPHYS. GEOSYST., 9, Q11010, DOI:10.1029/ 2008GC002067. KIRSCHVINK,'}, {'xdd_id': '56744e78cf58f122156071d9', 'pub_doi': '10.1029/2008GC002289', 'search_term': '10.1029/2008GC002067', 'highlight': 'GEOSYST., 9, Q11010, DOI:10.1029/ 2008GC002067. KIRSCHVINK, J. L. (1980), THE LEAST-SQUARES'}, {'xdd_id': '56745a7acf58f1221560727d', 'pub_doi': '10.1029/2011GC003910', 'search_term': '10.1029/2008GC002067', 'highlight': 'REVERSAL, GEOCHEM. GEOPHYS. GEOSYST., 9, Q11010, DOI:10.1029/ 2008GC002067. JOURDAN,'}, {'xdd_id': '56745a7acf58f1221560727d', 'pub_doi': '10.1029/2011GC003910', 'search_term': '10.1029/2008GC002067', 'highlight': 'GEOSYST., 9, Q11010, DOI:10.1029/ 2008GC002067. JOURDAN, F., G. FÉRAUD, H. BERTRAND,'}, {'xdd_id': '5a047e49cf58f1b9640298d5', 'pub_doi': '10.1002/2017JB014517', 'search_term': '10.1029/2008GC002067', 'highlight': 'REVERSAL, GEOCHEM. GEOPHYS. GEOSYST., 9, Q11010, DOI:10.1029/2008GC002067.  RUPTURE'}, {'xdd_id': '5a047e49cf58f1b9640298d5', 'pub_doi': '10.1002/2017JB014517', 'search_term': '10.1029/2008GC002067', 'highlight': 'GEOSYST., 9, Q11010, DOI:10.1029/2008GC002067.  RUPTURE OF THE FARALLON SLAB  7038   CAMP'}]\n"
     ]
    }
   ],
   "source": [
    "# Import packages\n",
    "from publink import publink\n",
    "\n",
    "# Define search terms\n",
    "# Note comma separated text string with no spaces\n",
    "terms = \"10.1029/2008gc002067\"\n",
    "\n",
    "# Search publications in xDD for mentions of the two DOIs\n",
    "search = publink.search_xdd(\n",
    "    terms, account_for_spaces=True\n",
    ")\n",
    "\n",
    "# Simplify and restructure output data\n",
    "mention = publink.xdd_mentions(\n",
    "    search.response_data, search.search_terms,\n",
    "    search_type='exact_match', is_doi=True\n",
    ")\n",
    "# print first two mentions\n",
    "print (mention.mentions[0:10])\n"
   ]
  },
  {
   "cell_type": "code",
   "execution_count": 8,
   "outputs": [
    {
     "name": "stdout",
     "output_type": "stream",
     "text": [
      "[{'xdd_id': '5d80780a0b45c76cafa8601a', 'pub_doi': '10.1029/2018GC007950', 'search_term': ' COLUMBIA RIVER BASALT GROUP: SECULAR VARIATION', 'highlight': 'SECTIONS OF THE STEENS BASALT, COLUMBIA RIVER BASALT GROUP: SECULAR VARIATION,'}, {'xdd_id': '57a3ed52cf58f1bdaf348da5', 'pub_doi': '10.1130/GES01162.1', 'search_term': ' COLUMBIA RIVER BASALT GROUP: SECULAR VARIATION', 'highlight': 'SECTIONS OF THE STEENS BASALT, COLUMBIA RIVER BASALT GROUP: SECULAR VARIATION,'}, {'xdd_id': '54fb727fe138239936c6d4e4', 'pub_doi': '10.1016/J.LITHOS.2010.03.014', 'search_term': ' COLUMBIA RIVER BASALT GROUP: SECULAR VARIATION', 'highlight': 'SECTIONS OF THE STEENS BASALT, COLUMBIA RIVER BASALT GROUP: SECULAR VARIATION,'}, {'xdd_id': '57137e6bcf58f19f426905c4', 'pub_doi': '10.2110/JSR.2014.85', 'search_term': ' COLUMBIA RIVER BASALT GROUP: SECULAR VARIATION', 'highlight': 'SECTIONS OF THE STEENS BASALT, COLUMBIA RIVER BASALT GROUP: SECULAR VARIATION,'}, {'xdd_id': '56744e78cf58f122156071d9', 'pub_doi': '10.1029/2008GC002289', 'search_term': ' COLUMBIA RIVER BASALT GROUP: SECULAR VARIATION', 'highlight': 'SECTIONS OF THE STEENS BASALT, COLUMBIA RIVER BASALT GROUP: SECULAR VARIATION,'}, {'xdd_id': '5a0f54edcf58f195fc0d3b1a', 'pub_doi': '10.1130/B31642.1', 'search_term': ' COLUMBIA RIVER BASALT GROUP: SECULAR VARIATION', 'highlight': 'SECTIONS OF THE STEENS BASALT, COLUMBIA RIVER BASALT GROUP: SECULAR VARIATION,'}, {'xdd_id': '56745a7acf58f1221560727d', 'pub_doi': '10.1029/2011GC003910', 'search_term': ' COLUMBIA RIVER BASALT GROUP: SECULAR VARIATION', 'highlight': 'SECTIONS OF THE STEENS BASALT, COLUMBIA RIVER BASALT GROUP: SECULAR VARIATION,'}, {'xdd_id': '54b9336be1382369e57e4b0b', 'pub_doi': '10.1016/J.TECTO.2014.11.002', 'search_term': ' COLUMBIA RIVER BASALT GROUP: SECULAR VARIATION', 'highlight': 'SECTIONS OF THE STEENS BASALT, COLUMBIA RIVER BASALT GROUP: SECULAR VARIATION,'}, {'xdd_id': '5a047e49cf58f1b9640298d5', 'pub_doi': '10.1002/2017JB014517', 'search_term': ' COLUMBIA RIVER BASALT GROUP: SECULAR VARIATION', 'highlight': 'SECTIONS OF THE STEENS BASALT, COLUMBIA RIVER BASALT GROUP: SECULAR VARIATION,'}, {'xdd_id': '5f7653f0a58f1dfd521ce2de', 'pub_doi': '10.1029/2020GC008910', 'search_term': ' COLUMBIA RIVER BASALT GROUP: SECULAR VARIATION', 'highlight': 'SECTIONS OF THE STEENS BASALT, COLUMBIA RIVER BASALT GROUP: SECULAR VARIATION,'}]\n"
     ]
    }
   ],
   "source": [
    "# Import packages\n",
    "from publink import publink\n",
    "\n",
    "# Define search terms\n",
    "# Note comma separated text string with no spaces\n",
    "terms = \"Quickly erupted volcanic sections of the Steens Basalt, Columbia River Basalt Group: Secular variation, tectonic rotation, and the Steens Mountain reversal\"\n",
    "\n",
    "# Search publications in xDD for mentions of the two titles\n",
    "search = publink.search_xdd(\n",
    "    terms, account_for_spaces=True\n",
    ")\n",
    "\n",
    "# Simplify and restructure output data\n",
    "mention = publink.xdd_mentions(\n",
    "    search.response_data, search.search_terms,\n",
    "    search_type='exact_match', is_doi=False\n",
    ")\n",
    "\n",
    "# print first two mentions\n",
    "print (mention.mentions[0:10])"
   ],
   "metadata": {
    "collapsed": false,
    "pycharm": {
     "name": "#%%\n"
    }
   }
  },
  {
   "cell_type": "code",
   "execution_count": null,
   "outputs": [],
   "source": [],
   "metadata": {
    "collapsed": false,
    "pycharm": {
     "name": "#%%\n"
    }
   }
  }
 ],
 "metadata": {
  "kernelspec": {
   "display_name": "Python 3",
   "language": "python",
   "name": "python3"
  },
  "language_info": {
   "codemirror_mode": {
    "name": "ipython",
    "version": 2
   },
   "file_extension": ".py",
   "mimetype": "text/x-python",
   "name": "python",
   "nbconvert_exporter": "python",
   "pygments_lexer": "ipython2",
   "version": "2.7.6"
  }
 },
 "nbformat": 4,
 "nbformat_minor": 0
}