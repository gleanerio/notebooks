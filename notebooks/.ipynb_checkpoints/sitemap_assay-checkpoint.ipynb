{
 "cells": [
  {
   "cell_type": "markdown",
   "id": "51aacee9",
   "metadata": {},
   "source": [
    "# Sitemap Assay\n",
    "\n",
    "The start of a simple notebook that could hosted for peeopl to test out their sitemaps (and robots.txt) files with.\n",
    "\n",
    "References:\n",
    "* [AdvTools](https://advertools.readthedocs.io/en/master/advertools.sitemaps.html)\n",
    "* [Sitemap viz](https://www.ayima.com/us/insights/analytics-and-cro/how-to-visualize-an-xml-sitemap-using-python.html)\n",
    "\n",
    "## Notes\n",
    "\n",
    "Some commands of note\n",
    "\n",
    "\n",
    "You can parse sitemaps from the command line with:\n",
    "```\n",
    " curl -s https://geoconnex.us/sitemap/nhdplusv2/huc12pp/huc12pp__1.xml |  grep -oP '<loc>\\K[^<]*'\n",
    " ```\n",
    " \n",
    " \n",
    " You could then use curl with an accept header set to test a rsource.  \n",
    " \n",
    " ```\n",
    " curl -LH \"Accept: application/ld+json\"   https://geoconnex.us/nhdplusv2/huc12/030601020107\n",
    " ```\n",
    " \n"
   ]
  },
  {
   "cell_type": "code",
   "execution_count": 2,
   "id": "ef1f0a5d",
   "metadata": {},
   "outputs": [],
   "source": [
    "import advertools as adv"
   ]
  },
  {
   "cell_type": "code",
   "execution_count": 5,
   "id": "ee61d05a",
   "metadata": {},
   "outputs": [
    {
     "name": "stderr",
     "output_type": "stream",
     "text": [
      "2021-12-12 06:27:16,324 | INFO | sitemaps.py:419 | sitemap_to_df | Getting http://data.marine.ie/geonetwork/srv/eng/portal.sitemap\n"
     ]
    },
    {
     "name": "stdout",
     "output_type": "stream",
     "text": [
      "CPU times: user 11.1 ms, sys: 15.1 ms, total: 26.2 ms\n",
      "Wall time: 544 ms\n"
     ]
    }
   ],
   "source": [
    "%%time \n",
    "\n",
    "# load the sitemap into a dataframe via advertools\n",
    "iow_sitemap = adv.sitemap_to_df('http://data.marine.ie/geonetwork/srv/eng/portal.sitemap')\n",
    "# iow_sitemap = adv.sitemap_to_df('https://edmo.seadatanet.org/sitemap.xml')\n",
    "# iow_sitemap = adv.sitemap_to_df('https://geoconnex.us/sitemap.xml')\n"
   ]
  },
  {
   "cell_type": "code",
   "execution_count": 7,
   "id": "e7aa1ab8",
   "metadata": {},
   "outputs": [
    {
     "name": "stdout",
     "output_type": "stream",
     "text": [
      "<class 'pandas.core.frame.DataFrame'>\n",
      "RangeIndex: 536 entries, 0 to 535\n",
      "Data columns (total 5 columns):\n",
      " #   Column           Non-Null Count  Dtype              \n",
      "---  ------           --------------  -----              \n",
      " 0   loc              536 non-null    object             \n",
      " 1   lastmod          536 non-null    datetime64[ns, UTC]\n",
      " 2   sitemap          536 non-null    object             \n",
      " 3   sitemap_size_mb  536 non-null    float64            \n",
      " 4   download_date    536 non-null    datetime64[ns, UTC]\n",
      "dtypes: datetime64[ns, UTC](2), float64(1), object(2)\n",
      "memory usage: 21.1+ KB\n"
     ]
    },
    {
     "data": {
      "text/html": [
       "<div>\n",
       "<style scoped>\n",
       "    .dataframe tbody tr th:only-of-type {\n",
       "        vertical-align: middle;\n",
       "    }\n",
       "\n",
       "    .dataframe tbody tr th {\n",
       "        vertical-align: top;\n",
       "    }\n",
       "\n",
       "    .dataframe thead th {\n",
       "        text-align: right;\n",
       "    }\n",
       "</style>\n",
       "<table border=\"1\" class=\"dataframe\">\n",
       "  <thead>\n",
       "    <tr style=\"text-align: right;\">\n",
       "      <th></th>\n",
       "      <th>loc</th>\n",
       "      <th>lastmod</th>\n",
       "      <th>sitemap</th>\n",
       "      <th>sitemap_size_mb</th>\n",
       "      <th>download_date</th>\n",
       "    </tr>\n",
       "  </thead>\n",
       "  <tbody>\n",
       "    <tr>\n",
       "      <th>0</th>\n",
       "      <td>https://data.marine.ie/geonetwork/srv/api/reco...</td>\n",
       "      <td>2020-12-14 00:00:00+00:00</td>\n",
       "      <td>http://data.marine.ie/geonetwork/srv/eng/porta...</td>\n",
       "      <td>0.072311</td>\n",
       "      <td>2021-12-12 12:27:16.328389+00:00</td>\n",
       "    </tr>\n",
       "    <tr>\n",
       "      <th>1</th>\n",
       "      <td>https://data.marine.ie/geonetwork/srv/api/reco...</td>\n",
       "      <td>2020-12-14 00:00:00+00:00</td>\n",
       "      <td>http://data.marine.ie/geonetwork/srv/eng/porta...</td>\n",
       "      <td>0.072311</td>\n",
       "      <td>2021-12-12 12:27:16.328389+00:00</td>\n",
       "    </tr>\n",
       "    <tr>\n",
       "      <th>2</th>\n",
       "      <td>https://data.marine.ie/geonetwork/srv/api/reco...</td>\n",
       "      <td>2020-12-14 00:00:00+00:00</td>\n",
       "      <td>http://data.marine.ie/geonetwork/srv/eng/porta...</td>\n",
       "      <td>0.072311</td>\n",
       "      <td>2021-12-12 12:27:16.328389+00:00</td>\n",
       "    </tr>\n",
       "    <tr>\n",
       "      <th>3</th>\n",
       "      <td>https://data.marine.ie/geonetwork/srv/api/reco...</td>\n",
       "      <td>2020-12-14 00:00:00+00:00</td>\n",
       "      <td>http://data.marine.ie/geonetwork/srv/eng/porta...</td>\n",
       "      <td>0.072311</td>\n",
       "      <td>2021-12-12 12:27:16.328389+00:00</td>\n",
       "    </tr>\n",
       "    <tr>\n",
       "      <th>4</th>\n",
       "      <td>https://data.marine.ie/geonetwork/srv/api/reco...</td>\n",
       "      <td>2020-12-14 00:00:00+00:00</td>\n",
       "      <td>http://data.marine.ie/geonetwork/srv/eng/porta...</td>\n",
       "      <td>0.072311</td>\n",
       "      <td>2021-12-12 12:27:16.328389+00:00</td>\n",
       "    </tr>\n",
       "  </tbody>\n",
       "</table>\n",
       "</div>"
      ],
      "text/plain": [
       "                                                 loc  \\\n",
       "0  https://data.marine.ie/geonetwork/srv/api/reco...   \n",
       "1  https://data.marine.ie/geonetwork/srv/api/reco...   \n",
       "2  https://data.marine.ie/geonetwork/srv/api/reco...   \n",
       "3  https://data.marine.ie/geonetwork/srv/api/reco...   \n",
       "4  https://data.marine.ie/geonetwork/srv/api/reco...   \n",
       "\n",
       "                    lastmod  \\\n",
       "0 2020-12-14 00:00:00+00:00   \n",
       "1 2020-12-14 00:00:00+00:00   \n",
       "2 2020-12-14 00:00:00+00:00   \n",
       "3 2020-12-14 00:00:00+00:00   \n",
       "4 2020-12-14 00:00:00+00:00   \n",
       "\n",
       "                                             sitemap  sitemap_size_mb  \\\n",
       "0  http://data.marine.ie/geonetwork/srv/eng/porta...         0.072311   \n",
       "1  http://data.marine.ie/geonetwork/srv/eng/porta...         0.072311   \n",
       "2  http://data.marine.ie/geonetwork/srv/eng/porta...         0.072311   \n",
       "3  http://data.marine.ie/geonetwork/srv/eng/porta...         0.072311   \n",
       "4  http://data.marine.ie/geonetwork/srv/eng/porta...         0.072311   \n",
       "\n",
       "                     download_date  \n",
       "0 2021-12-12 12:27:16.328389+00:00  \n",
       "1 2021-12-12 12:27:16.328389+00:00  \n",
       "2 2021-12-12 12:27:16.328389+00:00  \n",
       "3 2021-12-12 12:27:16.328389+00:00  \n",
       "4 2021-12-12 12:27:16.328389+00:00  "
      ]
     },
     "execution_count": 7,
     "metadata": {},
     "output_type": "execute_result"
    }
   ],
   "source": [
    "iow_sitemap.info()\n",
    "iow_sitemap.head()"
   ]
  },
  {
   "cell_type": "markdown",
   "id": "0c4c45c9",
   "metadata": {},
   "source": [
    "## Unique Sitemaps URLs and resource URLs in IoW\n",
    "\n",
    "We can quickly grabe the unique URLs from the sitemap column and see how many unique sitemap.xml files we are working with"
   ]
  },
  {
   "cell_type": "code",
   "execution_count": 18,
   "id": "7eeffe98",
   "metadata": {},
   "outputs": [
    {
     "name": "stdout",
     "output_type": "stream",
     "text": [
      "1 unique sitemap XML file(s) pointing to 536 unique resource(s).\n"
     ]
    }
   ],
   "source": [
    "usm = iow_sitemap.sitemap.unique()\n",
    "uloc = iow_sitemap[\"loc\"].unique()\n",
    "print(\"{} unique sitemap XML file(s) pointing to {} unique resource(s).\".format(len(usm), len(uloc)))"
   ]
  },
  {
   "cell_type": "markdown",
   "id": "1f767871",
   "metadata": {},
   "source": [
    "## Analyzing the URLs\n",
    "\n",
    "We can also dive into the URL structure for the resources a bit. "
   ]
  },
  {
   "cell_type": "code",
   "execution_count": 19,
   "id": "d9691c02",
   "metadata": {},
   "outputs": [
    {
     "data": {
      "text/html": [
       "<div>\n",
       "<style scoped>\n",
       "    .dataframe tbody tr th:only-of-type {\n",
       "        vertical-align: middle;\n",
       "    }\n",
       "\n",
       "    .dataframe tbody tr th {\n",
       "        vertical-align: top;\n",
       "    }\n",
       "\n",
       "    .dataframe thead th {\n",
       "        text-align: right;\n",
       "    }\n",
       "</style>\n",
       "<table border=\"1\" class=\"dataframe\">\n",
       "  <thead>\n",
       "    <tr style=\"text-align: right;\">\n",
       "      <th></th>\n",
       "      <th>url</th>\n",
       "      <th>scheme</th>\n",
       "      <th>netloc</th>\n",
       "      <th>path</th>\n",
       "      <th>query</th>\n",
       "      <th>fragment</th>\n",
       "      <th>dir_1</th>\n",
       "      <th>dir_2</th>\n",
       "      <th>dir_3</th>\n",
       "      <th>dir_4</th>\n",
       "      <th>dir_5</th>\n",
       "      <th>query_language</th>\n",
       "    </tr>\n",
       "  </thead>\n",
       "  <tbody>\n",
       "    <tr>\n",
       "      <th>0</th>\n",
       "      <td>https://data.marine.ie/geonetwork/srv/api/reco...</td>\n",
       "      <td>https</td>\n",
       "      <td>data.marine.ie</td>\n",
       "      <td>/geonetwork/srv/api/records/ie.marine.data:dat...</td>\n",
       "      <td>language=all</td>\n",
       "      <td></td>\n",
       "      <td>geonetwork</td>\n",
       "      <td>srv</td>\n",
       "      <td>api</td>\n",
       "      <td>records</td>\n",
       "      <td>ie.marine.data:dataset.901</td>\n",
       "      <td>all</td>\n",
       "    </tr>\n",
       "    <tr>\n",
       "      <th>1</th>\n",
       "      <td>https://data.marine.ie/geonetwork/srv/api/reco...</td>\n",
       "      <td>https</td>\n",
       "      <td>data.marine.ie</td>\n",
       "      <td>/geonetwork/srv/api/records/ie.marine.data:dat...</td>\n",
       "      <td>language=all</td>\n",
       "      <td></td>\n",
       "      <td>geonetwork</td>\n",
       "      <td>srv</td>\n",
       "      <td>api</td>\n",
       "      <td>records</td>\n",
       "      <td>ie.marine.data:dataset.1000</td>\n",
       "      <td>all</td>\n",
       "    </tr>\n",
       "    <tr>\n",
       "      <th>2</th>\n",
       "      <td>https://data.marine.ie/geonetwork/srv/api/reco...</td>\n",
       "      <td>https</td>\n",
       "      <td>data.marine.ie</td>\n",
       "      <td>/geonetwork/srv/api/records/ie.marine.data:dat...</td>\n",
       "      <td>language=all</td>\n",
       "      <td></td>\n",
       "      <td>geonetwork</td>\n",
       "      <td>srv</td>\n",
       "      <td>api</td>\n",
       "      <td>records</td>\n",
       "      <td>ie.marine.data:dataset.1007</td>\n",
       "      <td>all</td>\n",
       "    </tr>\n",
       "    <tr>\n",
       "      <th>3</th>\n",
       "      <td>https://data.marine.ie/geonetwork/srv/api/reco...</td>\n",
       "      <td>https</td>\n",
       "      <td>data.marine.ie</td>\n",
       "      <td>/geonetwork/srv/api/records/ie.marine.data:dat...</td>\n",
       "      <td>language=all</td>\n",
       "      <td></td>\n",
       "      <td>geonetwork</td>\n",
       "      <td>srv</td>\n",
       "      <td>api</td>\n",
       "      <td>records</td>\n",
       "      <td>ie.marine.data:dataset.1011</td>\n",
       "      <td>all</td>\n",
       "    </tr>\n",
       "    <tr>\n",
       "      <th>4</th>\n",
       "      <td>https://data.marine.ie/geonetwork/srv/api/reco...</td>\n",
       "      <td>https</td>\n",
       "      <td>data.marine.ie</td>\n",
       "      <td>/geonetwork/srv/api/records/ie.marine.data:dat...</td>\n",
       "      <td>language=all</td>\n",
       "      <td></td>\n",
       "      <td>geonetwork</td>\n",
       "      <td>srv</td>\n",
       "      <td>api</td>\n",
       "      <td>records</td>\n",
       "      <td>ie.marine.data:dataset.1013</td>\n",
       "      <td>all</td>\n",
       "    </tr>\n",
       "  </tbody>\n",
       "</table>\n",
       "</div>"
      ],
      "text/plain": [
       "                                                 url scheme          netloc  \\\n",
       "0  https://data.marine.ie/geonetwork/srv/api/reco...  https  data.marine.ie   \n",
       "1  https://data.marine.ie/geonetwork/srv/api/reco...  https  data.marine.ie   \n",
       "2  https://data.marine.ie/geonetwork/srv/api/reco...  https  data.marine.ie   \n",
       "3  https://data.marine.ie/geonetwork/srv/api/reco...  https  data.marine.ie   \n",
       "4  https://data.marine.ie/geonetwork/srv/api/reco...  https  data.marine.ie   \n",
       "\n",
       "                                                path         query fragment  \\\n",
       "0  /geonetwork/srv/api/records/ie.marine.data:dat...  language=all            \n",
       "1  /geonetwork/srv/api/records/ie.marine.data:dat...  language=all            \n",
       "2  /geonetwork/srv/api/records/ie.marine.data:dat...  language=all            \n",
       "3  /geonetwork/srv/api/records/ie.marine.data:dat...  language=all            \n",
       "4  /geonetwork/srv/api/records/ie.marine.data:dat...  language=all            \n",
       "\n",
       "        dir_1 dir_2 dir_3    dir_4                        dir_5 query_language  \n",
       "0  geonetwork   srv   api  records   ie.marine.data:dataset.901            all  \n",
       "1  geonetwork   srv   api  records  ie.marine.data:dataset.1000            all  \n",
       "2  geonetwork   srv   api  records  ie.marine.data:dataset.1007            all  \n",
       "3  geonetwork   srv   api  records  ie.marine.data:dataset.1011            all  \n",
       "4  geonetwork   srv   api  records  ie.marine.data:dataset.1013            all  "
      ]
     },
     "execution_count": 19,
     "metadata": {},
     "output_type": "execute_result"
    }
   ],
   "source": [
    "# Break down all the URL into theor path parts\n",
    "urldf = adv.url_to_df(list(iow_sitemap['loc']))\n",
    "urldf.head()"
   ]
  },
  {
   "cell_type": "code",
   "execution_count": 46,
   "id": "792f8e95-7923-43c9-a1ca-0f97a1687270",
   "metadata": {},
   "outputs": [],
   "source": [
    "#set the column sof interest\n",
    "coi = \"dir_4\""
   ]
  },
  {
   "cell_type": "code",
   "execution_count": 47,
   "id": "f2165af1",
   "metadata": {},
   "outputs": [
    {
     "data": {
      "text/html": [
       "<div>\n",
       "<style scoped>\n",
       "    .dataframe tbody tr th:only-of-type {\n",
       "        vertical-align: middle;\n",
       "    }\n",
       "\n",
       "    .dataframe tbody tr th {\n",
       "        vertical-align: top;\n",
       "    }\n",
       "\n",
       "    .dataframe thead th {\n",
       "        text-align: right;\n",
       "    }\n",
       "</style>\n",
       "<table border=\"1\" class=\"dataframe\">\n",
       "  <thead>\n",
       "    <tr style=\"text-align: right;\">\n",
       "      <th></th>\n",
       "      <th>dir_4</th>\n",
       "    </tr>\n",
       "  </thead>\n",
       "  <tbody>\n",
       "    <tr>\n",
       "      <th>records</th>\n",
       "      <td>536</td>\n",
       "    </tr>\n",
       "  </tbody>\n",
       "</table>\n",
       "</div>"
      ],
      "text/plain": [
       "         dir_4\n",
       "records    536"
      ]
     },
     "execution_count": 47,
     "metadata": {},
     "output_type": "execute_result"
    }
   ],
   "source": [
    "# We can not aggregate at various levels...   \n",
    "e4 = urldf[coi].value_counts()\n",
    "e4.rename_axis(\"sources\")\n",
    "\n",
    "e4df = e4.to_frame()\n",
    "e4df.head(len(e4)) "
   ]
  },
  {
   "cell_type": "markdown",
   "id": "178ddcea-1ed1-4473-8102-c7a11668ebe4",
   "metadata": {},
   "source": [
    "## Plot sitemap diversity\n",
    "\n",
    "This following section is only of value in cases where is a diveristy of path names above the final resource entry in a sitemap.  \n",
    "Otherwise these sections provide no insight."
   ]
  },
  {
   "cell_type": "code",
   "execution_count": 50,
   "id": "de264daf",
   "metadata": {},
   "outputs": [
    {
     "data": {
      "text/html": [
       "<div>\n",
       "<style scoped>\n",
       "    .dataframe tbody tr th:only-of-type {\n",
       "        vertical-align: middle;\n",
       "    }\n",
       "\n",
       "    .dataframe tbody tr th {\n",
       "        vertical-align: top;\n",
       "    }\n",
       "\n",
       "    .dataframe thead th {\n",
       "        text-align: right;\n",
       "    }\n",
       "</style>\n",
       "<table border=\"1\" class=\"dataframe\">\n",
       "  <thead>\n",
       "    <tr style=\"text-align: right;\">\n",
       "      <th></th>\n",
       "      <th>source</th>\n",
       "      <th>count</th>\n",
       "    </tr>\n",
       "  </thead>\n",
       "  <tbody>\n",
       "    <tr>\n",
       "      <th>0</th>\n",
       "      <td>records</td>\n",
       "      <td>536</td>\n",
       "    </tr>\n",
       "    <tr>\n",
       "      <th>1</th>\n",
       "      <td>other</td>\n",
       "      <td>536</td>\n",
       "    </tr>\n",
       "  </tbody>\n",
       "</table>\n",
       "</div>"
      ],
      "text/plain": [
       "    source  count\n",
       "0  records    536\n",
       "1    other    536"
      ]
     },
     "execution_count": 50,
     "metadata": {},
     "output_type": "execute_result"
    }
   ],
   "source": [
    "# If we have lots of values above, then we can sum lower end ones into an \"others\" category.\n",
    "# This is not needed if the breakdown is small or 1 above the final resource entry in a sitemap.\n",
    "# With a little trial and error we can see the cutoff for a chart \n",
    "breakat = 1\n",
    "ts = e4df.tail(breakat)[coi].sum()\n",
    "e4topdf = e4df# [e4df[coi]]  # work in using breakat to get this\n",
    "e4topdf.reset_index(inplace = True, drop = False)\n",
    "e4topdf.rename(columns={'index': 'source', coi:'count'},  inplace = True)\n",
    "\n",
    "t = e4topdf.append({'source':'other', 'count':ts}, ignore_index=True) \n",
    "t.head(10)"
   ]
  },
  {
   "cell_type": "code",
   "execution_count": 51,
   "id": "113e655a",
   "metadata": {},
   "outputs": [
    {
     "data": {
      "text/plain": [
       "<AxesSubplot:ylabel='count'>"
      ]
     },
     "execution_count": 51,
     "metadata": {},
     "output_type": "execute_result"
    },
    {
     "data": {
      "image/png": "[encoded data removed]",
      "text/plain": [
       "<Figure size 2160x720 with 1 Axes>"
      ]
     },
     "metadata": {},
     "output_type": "display_data"
    }
   ],
   "source": [
    "import matplotlib.pyplot as plt\n",
    "from pandas.plotting import table\n",
    "\n",
    "plt.figure(figsize=(30,10))\n",
    "\n",
    "# plot chart\n",
    "ax1 = plt.subplot(121, aspect='equal')\n",
    "t.plot(kind='pie', y = 'count', ax=ax1, autopct='%1.1f%%', \n",
    " startangle=90, shadow=False, labels=t['source'], legend = False, fontsize=12)\n",
    "\n",
    "# # plot table\n",
    "# ax2 = plt.subplot(122,  aspect='equal')\n",
    "# plt.axis('off')\n",
    "# tbl = table(ax2, t, loc='center')\n",
    "# tbl.auto_set_font_size(False)\n",
    "# tbl.set_fontsize(12)\n",
    "# plt.show()"
   ]
  },
  {
   "cell_type": "code",
   "execution_count": 38,
   "id": "5c62a934",
   "metadata": {},
   "outputs": [
    {
     "data": {
      "image/png": "[encoded data removed]",
      "text/plain": [
       "<Figure size 720x720 with 1 Axes>"
      ]
     },
     "metadata": {
      "needs_background": "light"
     },
     "output_type": "display_data"
    }
   ],
   "source": [
    "e4sort = e4.sort_values(ascending=True)\n",
    "plot = e4sort.plot.bar(y='dir_4',legend=True, grid=True, logy = True, figsize=(10, 10))"
   ]
  },
  {
   "cell_type": "markdown",
   "id": "9e806ba0",
   "metadata": {},
   "source": [
    "## Sample and test sitemap entries"
   ]
  },
  {
   "cell_type": "code",
   "execution_count": 55,
   "id": "20e46dd2",
   "metadata": {},
   "outputs": [],
   "source": [
    "# sample the previously generated url data frame\n",
    "sample_size = 5\n",
    "sample_df = urldf.groupby(\"dir_1\").sample(n=sample_size, random_state=1, replace=True)\n"
   ]
  },
  {
   "cell_type": "code",
   "execution_count": 56,
   "id": "b725c4ca",
   "metadata": {},
   "outputs": [
    {
     "data": {
      "text/html": [
       "<div>\n",
       "<style scoped>\n",
       "    .dataframe tbody tr th:only-of-type {\n",
       "        vertical-align: middle;\n",
       "    }\n",
       "\n",
       "    .dataframe tbody tr th {\n",
       "        vertical-align: top;\n",
       "    }\n",
       "\n",
       "    .dataframe thead th {\n",
       "        text-align: right;\n",
       "    }\n",
       "</style>\n",
       "<table border=\"1\" class=\"dataframe\">\n",
       "  <thead>\n",
       "    <tr style=\"text-align: right;\">\n",
       "      <th></th>\n",
       "      <th>url</th>\n",
       "      <th>scheme</th>\n",
       "      <th>netloc</th>\n",
       "      <th>path</th>\n",
       "      <th>query</th>\n",
       "      <th>fragment</th>\n",
       "      <th>dir_1</th>\n",
       "      <th>dir_2</th>\n",
       "      <th>dir_3</th>\n",
       "      <th>dir_4</th>\n",
       "      <th>dir_5</th>\n",
       "      <th>query_language</th>\n",
       "    </tr>\n",
       "  </thead>\n",
       "  <tbody>\n",
       "    <tr>\n",
       "      <th>37</th>\n",
       "      <td>https://data.marine.ie/geonetwork/srv/api/reco...</td>\n",
       "      <td>https</td>\n",
       "      <td>data.marine.ie</td>\n",
       "      <td>/geonetwork/srv/api/records/ie.marine.data:dat...</td>\n",
       "      <td>language=all</td>\n",
       "      <td></td>\n",
       "      <td>geonetwork</td>\n",
       "      <td>srv</td>\n",
       "      <td>api</td>\n",
       "      <td>records</td>\n",
       "      <td>ie.marine.data:dataset.1119</td>\n",
       "      <td>all</td>\n",
       "    </tr>\n",
       "    <tr>\n",
       "      <th>235</th>\n",
       "      <td>https://data.marine.ie/geonetwork/srv/api/reco...</td>\n",
       "      <td>https</td>\n",
       "      <td>data.marine.ie</td>\n",
       "      <td>/geonetwork/srv/api/records/ie.marine.data:dat...</td>\n",
       "      <td>language=all</td>\n",
       "      <td></td>\n",
       "      <td>geonetwork</td>\n",
       "      <td>srv</td>\n",
       "      <td>api</td>\n",
       "      <td>records</td>\n",
       "      <td>ie.marine.data:dataset.2766</td>\n",
       "      <td>all</td>\n",
       "    </tr>\n",
       "    <tr>\n",
       "      <th>72</th>\n",
       "      <td>https://data.marine.ie/geonetwork/srv/api/reco...</td>\n",
       "      <td>https</td>\n",
       "      <td>data.marine.ie</td>\n",
       "      <td>/geonetwork/srv/api/records/ie.marine.data:dat...</td>\n",
       "      <td>language=all</td>\n",
       "      <td></td>\n",
       "      <td>geonetwork</td>\n",
       "      <td>srv</td>\n",
       "      <td>api</td>\n",
       "      <td>records</td>\n",
       "      <td>ie.marine.data:dataset.1196</td>\n",
       "      <td>all</td>\n",
       "    </tr>\n",
       "    <tr>\n",
       "      <th>144</th>\n",
       "      <td>https://data.marine.ie/geonetwork/srv/api/reco...</td>\n",
       "      <td>https</td>\n",
       "      <td>data.marine.ie</td>\n",
       "      <td>/geonetwork/srv/api/records/ie.marine.data:dat...</td>\n",
       "      <td>language=all</td>\n",
       "      <td></td>\n",
       "      <td>geonetwork</td>\n",
       "      <td>srv</td>\n",
       "      <td>api</td>\n",
       "      <td>records</td>\n",
       "      <td>ie.marine.data:dataset.1804</td>\n",
       "      <td>all</td>\n",
       "    </tr>\n",
       "    <tr>\n",
       "      <th>129</th>\n",
       "      <td>https://data.marine.ie/geonetwork/srv/api/reco...</td>\n",
       "      <td>https</td>\n",
       "      <td>data.marine.ie</td>\n",
       "      <td>/geonetwork/srv/api/records/ie.marine.data:dat...</td>\n",
       "      <td>language=all</td>\n",
       "      <td></td>\n",
       "      <td>geonetwork</td>\n",
       "      <td>srv</td>\n",
       "      <td>api</td>\n",
       "      <td>records</td>\n",
       "      <td>ie.marine.data:dataset.1754</td>\n",
       "      <td>all</td>\n",
       "    </tr>\n",
       "  </tbody>\n",
       "</table>\n",
       "</div>"
      ],
      "text/plain": [
       "                                                   url scheme          netloc  \\\n",
       "37   https://data.marine.ie/geonetwork/srv/api/reco...  https  data.marine.ie   \n",
       "235  https://data.marine.ie/geonetwork/srv/api/reco...  https  data.marine.ie   \n",
       "72   https://data.marine.ie/geonetwork/srv/api/reco...  https  data.marine.ie   \n",
       "144  https://data.marine.ie/geonetwork/srv/api/reco...  https  data.marine.ie   \n",
       "129  https://data.marine.ie/geonetwork/srv/api/reco...  https  data.marine.ie   \n",
       "\n",
       "                                                  path         query fragment  \\\n",
       "37   /geonetwork/srv/api/records/ie.marine.data:dat...  language=all            \n",
       "235  /geonetwork/srv/api/records/ie.marine.data:dat...  language=all            \n",
       "72   /geonetwork/srv/api/records/ie.marine.data:dat...  language=all            \n",
       "144  /geonetwork/srv/api/records/ie.marine.data:dat...  language=all            \n",
       "129  /geonetwork/srv/api/records/ie.marine.data:dat...  language=all            \n",
       "\n",
       "          dir_1 dir_2 dir_3    dir_4                        dir_5  \\\n",
       "37   geonetwork   srv   api  records  ie.marine.data:dataset.1119   \n",
       "235  geonetwork   srv   api  records  ie.marine.data:dataset.2766   \n",
       "72   geonetwork   srv   api  records  ie.marine.data:dataset.1196   \n",
       "144  geonetwork   srv   api  records  ie.marine.data:dataset.1804   \n",
       "129  geonetwork   srv   api  records  ie.marine.data:dataset.1754   \n",
       "\n",
       "    query_language  \n",
       "37             all  \n",
       "235            all  \n",
       "72             all  \n",
       "144            all  \n",
       "129            all  "
      ]
     },
     "execution_count": 56,
     "metadata": {},
     "output_type": "execute_result"
    }
   ],
   "source": [
    "sample_df.head()"
   ]
  },
  {
   "cell_type": "code",
   "execution_count": 58,
   "id": "0c22245d",
   "metadata": {},
   "outputs": [
    {
     "name": "stdout",
     "output_type": "stream",
     "text": [
      "200: application/xml : https://data.marine.ie/geonetwork/srv/api/records/ie.marine.data:dataset.1119?language=all : None\n",
      "200: application/xml : https://data.marine.ie/geonetwork/srv/api/records/ie.marine.data:dataset.2766?language=all : None\n",
      "200: application/xml : https://data.marine.ie/geonetwork/srv/api/records/ie.marine.data:dataset.1196?language=all : None\n",
      "200: application/xml : https://data.marine.ie/geonetwork/srv/api/records/ie.marine.data:dataset.1804?language=all : None\n",
      "200: application/xml : https://data.marine.ie/geonetwork/srv/api/records/ie.marine.data:dataset.1754?language=all : None\n"
     ]
    }
   ],
   "source": [
    "import urllib.request\n",
    "import requests\n",
    "\n",
    "ul = sample_df[\"url\"]\n",
    "\n",
    "for item in ul:\n",
    "    headers, code, dtype = None, None, None\n",
    "    \n",
    "    try:\n",
    "        x = requests.get(item)\n",
    "        code = x.status_code\n",
    "        with urllib.request.urlopen(item) as response:\n",
    "            info = response.info()\n",
    "            dtype = info.get_content_type()    # -> text/html\n",
    "\n",
    "        # headers = x.headers()\n",
    "    except:\n",
    "        code = \"error\"\n",
    "        dtype = \"error\"\n",
    "        headers = \"error\"\n",
    "    \n",
    "    print(\"{}: {} : {} : {}\".format(code, dtype, item, headers))"
   ]
  },
  {
   "cell_type": "code",
   "execution_count": null,
   "id": "cd25210a",
   "metadata": {},
   "outputs": [],
   "source": []
  }
 ],
 "metadata": {
  "interpreter": {
   "hash": "7a8db6ed8e976d23fd2e6a73e187eaf8286829efb4aa61f09abf75e2f487f948"
  },
  "kernelspec": {
   "display_name": "Python 3",
   "language": "python",
   "name": "python3"
  },
  "language_info": {
   "codemirror_mode": {
    "name": "ipython",
    "version": 3
   },
   "file_extension": ".py",
   "mimetype": "text/x-python",
   "name": "python",
   "nbconvert_exporter": "python",
   "pygments_lexer": "ipython3",
   "version": "3.8.10"
  }
 },
 "nbformat": 4,
 "nbformat_minor": 5
}
