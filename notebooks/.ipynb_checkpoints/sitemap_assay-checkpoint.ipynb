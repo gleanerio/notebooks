{
 "cells": [
  {
   "cell_type": "markdown",
   "id": "51aacee9",
   "metadata": {},
   "source": [
    "# Sitemap Assay\n",
    "\n",
    "The start of a simple notebook that could hosted for peeopl to test out their sitemaps (and robots.txt) files with.\n",
    "\n",
    "References:\n",
    "* [AdvTools](https://advertools.readthedocs.io/en/master/advertools.sitemaps.html)\n",
    "* [Sitemap viz](https://www.ayima.com/us/insights/analytics-and-cro/how-to-visualize-an-xml-sitemap-using-python.html)\n",
    "\n"
   ]
  },
  {
   "cell_type": "code",
   "execution_count": 1,
   "id": "ef1f0a5d",
   "metadata": {},
   "outputs": [],
   "source": [
    "import advertools as adv\n",
    "import json\n",
    "import requests\n",
    "from pyld import jsonld\n",
    "from bs4 import BeautifulSoup\n",
    "import urllib.request\n",
    "import logging\n",
    "import traceback"
   ]
  },
  {
   "cell_type": "code",
   "execution_count": 2,
   "id": "ee61d05a",
   "metadata": {},
   "outputs": [
    {
     "name": "stderr",
     "output_type": "stream",
     "text": [
      "2022-03-22 05:20:28,818 | INFO | sitemaps.py:419 | sitemap_to_df | Getting https://infohub.eurocean.net/sitemap/vessels\n"
     ]
    },
    {
     "name": "stdout",
     "output_type": "stream",
     "text": [
      "CPU times: user 17 ms, sys: 4.01 ms, total: 21 ms\n",
      "Wall time: 732 ms\n"
     ]
    }
   ],
   "source": [
    "%%time \n",
    "\n",
    "smurl = 'https://infohub.eurocean.net/sitemap/vessels'\n",
    "iow_sitemap = adv.sitemap_to_df(smurl) # load sitemap to dataframe via advertools"
   ]
  },
  {
   "cell_type": "code",
   "execution_count": 3,
   "id": "e7aa1ab8",
   "metadata": {},
   "outputs": [
    {
     "name": "stdout",
     "output_type": "stream",
     "text": [
      "<class 'pandas.core.frame.DataFrame'>\n",
      "RangeIndex: 1072 entries, 0 to 1071\n",
      "Data columns (total 6 columns):\n",
      " #   Column           Non-Null Count  Dtype              \n",
      "---  ------           --------------  -----              \n",
      " 0   loc              1072 non-null   object             \n",
      " 1   lastmod          1072 non-null   datetime64[ns, UTC]\n",
      " 2   changefreq       1072 non-null   object             \n",
      " 3   sitemap          1072 non-null   object             \n",
      " 4   sitemap_size_mb  1072 non-null   float64            \n",
      " 5   download_date    1072 non-null   datetime64[ns, UTC]\n",
      "dtypes: datetime64[ns, UTC](2), float64(1), object(3)\n",
      "memory usage: 50.4+ KB\n"
     ]
    },
    {
     "data": {
      "text/html": [
       "<div>\n",
       "<style scoped>\n",
       "    .dataframe tbody tr th:only-of-type {\n",
       "        vertical-align: middle;\n",
       "    }\n",
       "\n",
       "    .dataframe tbody tr th {\n",
       "        vertical-align: top;\n",
       "    }\n",
       "\n",
       "    .dataframe thead th {\n",
       "        text-align: right;\n",
       "    }\n",
       "</style>\n",
       "<table border=\"1\" class=\"dataframe\">\n",
       "  <thead>\n",
       "    <tr style=\"text-align: right;\">\n",
       "      <th></th>\n",
       "      <th>loc</th>\n",
       "      <th>lastmod</th>\n",
       "      <th>changefreq</th>\n",
       "      <th>sitemap</th>\n",
       "      <th>sitemap_size_mb</th>\n",
       "      <th>download_date</th>\n",
       "    </tr>\n",
       "  </thead>\n",
       "  <tbody>\n",
       "    <tr>\n",
       "      <th>0</th>\n",
       "      <td>https://infohub.eurocean.net/vessel/1</td>\n",
       "      <td>2022-02-26 14:05:27+00:00</td>\n",
       "      <td>daily</td>\n",
       "      <td>https://infohub.eurocean.net/sitemap/vessels</td>\n",
       "      <td>0.213743</td>\n",
       "      <td>2022-03-22 10:20:28.823797+00:00</td>\n",
       "    </tr>\n",
       "    <tr>\n",
       "      <th>1</th>\n",
       "      <td>https://infohub.eurocean.net/vessel/2</td>\n",
       "      <td>2022-02-26 14:05:27+00:00</td>\n",
       "      <td>daily</td>\n",
       "      <td>https://infohub.eurocean.net/sitemap/vessels</td>\n",
       "      <td>0.213743</td>\n",
       "      <td>2022-03-22 10:20:28.823797+00:00</td>\n",
       "    </tr>\n",
       "    <tr>\n",
       "      <th>2</th>\n",
       "      <td>https://infohub.eurocean.net/vessel/3</td>\n",
       "      <td>2022-02-26 14:05:27+00:00</td>\n",
       "      <td>daily</td>\n",
       "      <td>https://infohub.eurocean.net/sitemap/vessels</td>\n",
       "      <td>0.213743</td>\n",
       "      <td>2022-03-22 10:20:28.823797+00:00</td>\n",
       "    </tr>\n",
       "    <tr>\n",
       "      <th>3</th>\n",
       "      <td>https://infohub.eurocean.net/vessel/4</td>\n",
       "      <td>2022-02-26 14:05:27+00:00</td>\n",
       "      <td>daily</td>\n",
       "      <td>https://infohub.eurocean.net/sitemap/vessels</td>\n",
       "      <td>0.213743</td>\n",
       "      <td>2022-03-22 10:20:28.823797+00:00</td>\n",
       "    </tr>\n",
       "    <tr>\n",
       "      <th>4</th>\n",
       "      <td>https://infohub.eurocean.net/vessel/5</td>\n",
       "      <td>2022-02-26 14:05:27+00:00</td>\n",
       "      <td>daily</td>\n",
       "      <td>https://infohub.eurocean.net/sitemap/vessels</td>\n",
       "      <td>0.213743</td>\n",
       "      <td>2022-03-22 10:20:28.823797+00:00</td>\n",
       "    </tr>\n",
       "  </tbody>\n",
       "</table>\n",
       "</div>"
      ],
      "text/plain": [
       "                                     loc                   lastmod changefreq  \\\n",
       "0  https://infohub.eurocean.net/vessel/1 2022-02-26 14:05:27+00:00      daily   \n",
       "1  https://infohub.eurocean.net/vessel/2 2022-02-26 14:05:27+00:00      daily   \n",
       "2  https://infohub.eurocean.net/vessel/3 2022-02-26 14:05:27+00:00      daily   \n",
       "3  https://infohub.eurocean.net/vessel/4 2022-02-26 14:05:27+00:00      daily   \n",
       "4  https://infohub.eurocean.net/vessel/5 2022-02-26 14:05:27+00:00      daily   \n",
       "\n",
       "                                        sitemap  sitemap_size_mb  \\\n",
       "0  https://infohub.eurocean.net/sitemap/vessels         0.213743   \n",
       "1  https://infohub.eurocean.net/sitemap/vessels         0.213743   \n",
       "2  https://infohub.eurocean.net/sitemap/vessels         0.213743   \n",
       "3  https://infohub.eurocean.net/sitemap/vessels         0.213743   \n",
       "4  https://infohub.eurocean.net/sitemap/vessels         0.213743   \n",
       "\n",
       "                     download_date  \n",
       "0 2022-03-22 10:20:28.823797+00:00  \n",
       "1 2022-03-22 10:20:28.823797+00:00  \n",
       "2 2022-03-22 10:20:28.823797+00:00  \n",
       "3 2022-03-22 10:20:28.823797+00:00  \n",
       "4 2022-03-22 10:20:28.823797+00:00  "
      ]
     },
     "execution_count": 3,
     "metadata": {},
     "output_type": "execute_result"
    }
   ],
   "source": [
    "iow_sitemap.info()\n",
    "iow_sitemap.head()"
   ]
  },
  {
   "cell_type": "markdown",
   "id": "0c4c45c9",
   "metadata": {},
   "source": [
    "## Unique Sitemaps URLs and resource URLs in IoW\n",
    "\n",
    "We can quickly grabe the unique URLs from the sitemap column and see how many unique sitemap.xml files we are working with"
   ]
  },
  {
   "cell_type": "code",
   "execution_count": 4,
   "id": "7eeffe98",
   "metadata": {},
   "outputs": [
    {
     "name": "stdout",
     "output_type": "stream",
     "text": [
      "1 unique sitemap XML file(s) pointing to 1072 unique resource(s).\n"
     ]
    }
   ],
   "source": [
    "usm = iow_sitemap.sitemap.unique()\n",
    "uloc = iow_sitemap[\"loc\"].unique()\n",
    "print(\"{} unique sitemap XML file(s) pointing to {} unique resource(s).\".format(len(usm), len(uloc)))"
   ]
  },
  {
   "cell_type": "markdown",
   "id": "1f767871",
   "metadata": {},
   "source": [
    "## Analyzing the URLs\n",
    "\n",
    "We can also dive into the URL structure for the resources a bit. "
   ]
  },
  {
   "cell_type": "code",
   "execution_count": 5,
   "id": "d9691c02",
   "metadata": {},
   "outputs": [
    {
     "data": {
      "text/html": [
       "<div>\n",
       "<style scoped>\n",
       "    .dataframe tbody tr th:only-of-type {\n",
       "        vertical-align: middle;\n",
       "    }\n",
       "\n",
       "    .dataframe tbody tr th {\n",
       "        vertical-align: top;\n",
       "    }\n",
       "\n",
       "    .dataframe thead th {\n",
       "        text-align: right;\n",
       "    }\n",
       "</style>\n",
       "<table border=\"1\" class=\"dataframe\">\n",
       "  <thead>\n",
       "    <tr style=\"text-align: right;\">\n",
       "      <th></th>\n",
       "      <th>url</th>\n",
       "      <th>scheme</th>\n",
       "      <th>netloc</th>\n",
       "      <th>path</th>\n",
       "      <th>query</th>\n",
       "      <th>fragment</th>\n",
       "      <th>dir_1</th>\n",
       "      <th>dir_2</th>\n",
       "    </tr>\n",
       "  </thead>\n",
       "  <tbody>\n",
       "    <tr>\n",
       "      <th>0</th>\n",
       "      <td>https://infohub.eurocean.net/vessel/1</td>\n",
       "      <td>https</td>\n",
       "      <td>infohub.eurocean.net</td>\n",
       "      <td>/vessel/1</td>\n",
       "      <td></td>\n",
       "      <td></td>\n",
       "      <td>vessel</td>\n",
       "      <td>1</td>\n",
       "    </tr>\n",
       "    <tr>\n",
       "      <th>1</th>\n",
       "      <td>https://infohub.eurocean.net/vessel/2</td>\n",
       "      <td>https</td>\n",
       "      <td>infohub.eurocean.net</td>\n",
       "      <td>/vessel/2</td>\n",
       "      <td></td>\n",
       "      <td></td>\n",
       "      <td>vessel</td>\n",
       "      <td>2</td>\n",
       "    </tr>\n",
       "    <tr>\n",
       "      <th>2</th>\n",
       "      <td>https://infohub.eurocean.net/vessel/3</td>\n",
       "      <td>https</td>\n",
       "      <td>infohub.eurocean.net</td>\n",
       "      <td>/vessel/3</td>\n",
       "      <td></td>\n",
       "      <td></td>\n",
       "      <td>vessel</td>\n",
       "      <td>3</td>\n",
       "    </tr>\n",
       "    <tr>\n",
       "      <th>3</th>\n",
       "      <td>https://infohub.eurocean.net/vessel/4</td>\n",
       "      <td>https</td>\n",
       "      <td>infohub.eurocean.net</td>\n",
       "      <td>/vessel/4</td>\n",
       "      <td></td>\n",
       "      <td></td>\n",
       "      <td>vessel</td>\n",
       "      <td>4</td>\n",
       "    </tr>\n",
       "    <tr>\n",
       "      <th>4</th>\n",
       "      <td>https://infohub.eurocean.net/vessel/5</td>\n",
       "      <td>https</td>\n",
       "      <td>infohub.eurocean.net</td>\n",
       "      <td>/vessel/5</td>\n",
       "      <td></td>\n",
       "      <td></td>\n",
       "      <td>vessel</td>\n",
       "      <td>5</td>\n",
       "    </tr>\n",
       "  </tbody>\n",
       "</table>\n",
       "</div>"
      ],
      "text/plain": [
       "                                     url scheme                netloc  \\\n",
       "0  https://infohub.eurocean.net/vessel/1  https  infohub.eurocean.net   \n",
       "1  https://infohub.eurocean.net/vessel/2  https  infohub.eurocean.net   \n",
       "2  https://infohub.eurocean.net/vessel/3  https  infohub.eurocean.net   \n",
       "3  https://infohub.eurocean.net/vessel/4  https  infohub.eurocean.net   \n",
       "4  https://infohub.eurocean.net/vessel/5  https  infohub.eurocean.net   \n",
       "\n",
       "        path query fragment   dir_1 dir_2  \n",
       "0  /vessel/1                 vessel     1  \n",
       "1  /vessel/2                 vessel     2  \n",
       "2  /vessel/3                 vessel     3  \n",
       "3  /vessel/4                 vessel     4  \n",
       "4  /vessel/5                 vessel     5  "
      ]
     },
     "execution_count": 5,
     "metadata": {},
     "output_type": "execute_result"
    }
   ],
   "source": [
    "# Break down all the URL into theor path parts\n",
    "urldf = adv.url_to_df(list(iow_sitemap['loc']))\n",
    "urldf.head()"
   ]
  },
  {
   "cell_type": "code",
   "execution_count": 6,
   "id": "792f8e95-7923-43c9-a1ca-0f97a1687270",
   "metadata": {},
   "outputs": [],
   "source": [
    "#set the column sof interest\n",
    "coi = \"query\""
   ]
  },
  {
   "cell_type": "code",
   "execution_count": 10,
   "id": "f2165af1",
   "metadata": {},
   "outputs": [
    {
     "data": {
      "text/html": [
       "<div>\n",
       "<style scoped>\n",
       "    .dataframe tbody tr th:only-of-type {\n",
       "        vertical-align: middle;\n",
       "    }\n",
       "\n",
       "    .dataframe tbody tr th {\n",
       "        vertical-align: top;\n",
       "    }\n",
       "\n",
       "    .dataframe thead th {\n",
       "        text-align: right;\n",
       "    }\n",
       "</style>\n",
       "<table border=\"1\" class=\"dataframe\">\n",
       "  <thead>\n",
       "    <tr style=\"text-align: right;\">\n",
       "      <th></th>\n",
       "      <th>query</th>\n",
       "    </tr>\n",
       "  </thead>\n",
       "  <tbody>\n",
       "    <tr>\n",
       "      <th></th>\n",
       "      <td>1072</td>\n",
       "    </tr>\n",
       "  </tbody>\n",
       "</table>\n",
       "</div>"
      ],
      "text/plain": [
       "  query\n",
       "   1072"
      ]
     },
     "execution_count": 10,
     "metadata": {},
     "output_type": "execute_result"
    }
   ],
   "source": [
    "# We can not aggregate at various levels...   \n",
    "e4 = urldf[coi].value_counts()\n",
    "e4.rename_axis(\"sources\")\n",
    "\n",
    "e4df = e4.to_frame()\n",
    "e4df.head(len(e4)) "
   ]
  },
  {
   "cell_type": "markdown",
   "id": "178ddcea-1ed1-4473-8102-c7a11668ebe4",
   "metadata": {},
   "source": [
    "## Plot sitemap diversity\n",
    "\n",
    "This following section is only of value in cases where is a diversity of path names above the final resource entry in a sitemap.\n",
    "Otherwise these sections provide no insight.\n",
    "\n",
    "Note that the _Plot sitemap diversity_ section my not be of value for many groups.  It was used in cases where the URL path has\n",
    " more varied structure.  In some cases the structure is the same till the end path element.  In those cases the graphs will be\n",
    " busy (slow) and not very useful."
   ]
  },
  {
   "cell_type": "code",
   "execution_count": 11,
   "id": "de264daf",
   "metadata": {},
   "outputs": [
    {
     "data": {
      "text/html": [
       "<div>\n",
       "<style scoped>\n",
       "    .dataframe tbody tr th:only-of-type {\n",
       "        vertical-align: middle;\n",
       "    }\n",
       "\n",
       "    .dataframe tbody tr th {\n",
       "        vertical-align: top;\n",
       "    }\n",
       "\n",
       "    .dataframe thead th {\n",
       "        text-align: right;\n",
       "    }\n",
       "</style>\n",
       "<table border=\"1\" class=\"dataframe\">\n",
       "  <thead>\n",
       "    <tr style=\"text-align: right;\">\n",
       "      <th></th>\n",
       "      <th>source</th>\n",
       "      <th>count</th>\n",
       "    </tr>\n",
       "  </thead>\n",
       "  <tbody>\n",
       "    <tr>\n",
       "      <th>0</th>\n",
       "      <td></td>\n",
       "      <td>1072</td>\n",
       "    </tr>\n",
       "    <tr>\n",
       "      <th>1</th>\n",
       "      <td>other</td>\n",
       "      <td>1072</td>\n",
       "    </tr>\n",
       "  </tbody>\n",
       "</table>\n",
       "</div>"
      ],
      "text/plain": [
       "  source  count\n",
       "0          1072\n",
       "1  other   1072"
      ]
     },
     "execution_count": 11,
     "metadata": {},
     "output_type": "execute_result"
    }
   ],
   "source": [
    "# If we have lots of values above, then we can sum lower end ones into an \"others\" category.\n",
    "# This is not needed if the breakdown is small or 1 above the final resource entry in a sitemap.\n",
    "# With a little trial and error we can see the cutoff for a chart \n",
    "breakat = 1\n",
    "ts = e4df.tail(breakat)[coi].sum()\n",
    "e4topdf = e4df# [e4df[coi]]  # work in using breakat to get this\n",
    "e4topdf.reset_index(inplace = True, drop = False)\n",
    "e4topdf.rename(columns={'index': 'source', coi:'count'},  inplace = True)\n",
    "\n",
    "t = e4topdf.append({'source':'other', 'count':ts}, ignore_index=True) \n",
    "t.head(10)"
   ]
  },
  {
   "cell_type": "code",
   "execution_count": 12,
   "id": "113e655a",
   "metadata": {},
   "outputs": [
    {
     "data": {
      "text/plain": [
       "<AxesSubplot:ylabel='count'>"
      ]
     },
     "execution_count": 12,
     "metadata": {},
     "output_type": "execute_result"
    },
    {
     "data": {
      "image/png": "[encoded data removed]",
      "text/plain": [
       "<Figure size 2160x720 with 1 Axes>"
      ]
     },
     "metadata": {},
     "output_type": "display_data"
    }
   ],
   "source": [
    "import matplotlib.pyplot as plt\n",
    "from pandas.plotting import table\n",
    "\n",
    "plt.figure(figsize=(30,10))\n",
    "\n",
    "# plot chart\n",
    "ax1 = plt.subplot(121, aspect='equal')\n",
    "t.plot(kind='pie', y = 'count', ax=ax1, autopct='%1.1f%%', \n",
    " startangle=90, shadow=False, labels=t['source'], legend = False, fontsize=12)\n",
    "\n",
    "# # plot table\n",
    "# ax2 = plt.subplot(122,  aspect='equal')\n",
    "# plt.axis('off')\n",
    "# tbl = table(ax2, t, loc='center')\n",
    "# tbl.auto_set_font_size(False)\n",
    "# tbl.set_fontsize(12)\n",
    "# plt.show()"
   ]
  },
  {
   "cell_type": "code",
   "execution_count": 13,
   "id": "5c62a934",
   "metadata": {},
   "outputs": [
    {
     "data": {
      "image/png": "[encoded data removed]",
      "text/plain": [
       "<Figure size 720x720 with 1 Axes>"
      ]
     },
     "metadata": {
      "needs_background": "light"
     },
     "output_type": "display_data"
    }
   ],
   "source": [
    "e4sort = e4.sort_values(ascending=True)\n",
    "plot = e4sort.plot.bar(y='dir_4',legend=True, grid=True, logy = True, figsize=(10, 10))"
   ]
  },
  {
   "cell_type": "markdown",
   "id": "9e806ba0",
   "metadata": {},
   "source": [
    "## Sample and test sitemap entries"
   ]
  },
  {
   "cell_type": "code",
   "execution_count": 14,
   "id": "20e46dd2",
   "metadata": {},
   "outputs": [],
   "source": [
    "# sample the previously generated url data frame\n",
    "sample_size = 5\n",
    "sample_df = urldf.groupby(\"dir_1\").sample(n=sample_size, random_state=1, replace=True)\n"
   ]
  },
  {
   "cell_type": "code",
   "execution_count": 15,
   "id": "b725c4ca",
   "metadata": {},
   "outputs": [
    {
     "data": {
      "text/html": [
       "<div>\n",
       "<style scoped>\n",
       "    .dataframe tbody tr th:only-of-type {\n",
       "        vertical-align: middle;\n",
       "    }\n",
       "\n",
       "    .dataframe tbody tr th {\n",
       "        vertical-align: top;\n",
       "    }\n",
       "\n",
       "    .dataframe thead th {\n",
       "        text-align: right;\n",
       "    }\n",
       "</style>\n",
       "<table border=\"1\" class=\"dataframe\">\n",
       "  <thead>\n",
       "    <tr style=\"text-align: right;\">\n",
       "      <th></th>\n",
       "      <th>url</th>\n",
       "      <th>scheme</th>\n",
       "      <th>netloc</th>\n",
       "      <th>path</th>\n",
       "      <th>query</th>\n",
       "      <th>fragment</th>\n",
       "      <th>dir_1</th>\n",
       "      <th>dir_2</th>\n",
       "    </tr>\n",
       "  </thead>\n",
       "  <tbody>\n",
       "    <tr>\n",
       "      <th>1061</th>\n",
       "      <td>https://infohub.eurocean.net/vessel/1062</td>\n",
       "      <td>https</td>\n",
       "      <td>infohub.eurocean.net</td>\n",
       "      <td>/vessel/1062</td>\n",
       "      <td></td>\n",
       "      <td></td>\n",
       "      <td>vessel</td>\n",
       "      <td>1062</td>\n",
       "    </tr>\n",
       "    <tr>\n",
       "      <th>235</th>\n",
       "      <td>https://infohub.eurocean.net/vessel/236</td>\n",
       "      <td>https</td>\n",
       "      <td>infohub.eurocean.net</td>\n",
       "      <td>/vessel/236</td>\n",
       "      <td></td>\n",
       "      <td></td>\n",
       "      <td>vessel</td>\n",
       "      <td>236</td>\n",
       "    </tr>\n",
       "    <tr>\n",
       "      <th>905</th>\n",
       "      <td>https://infohub.eurocean.net/vessel/906</td>\n",
       "      <td>https</td>\n",
       "      <td>infohub.eurocean.net</td>\n",
       "      <td>/vessel/906</td>\n",
       "      <td></td>\n",
       "      <td></td>\n",
       "      <td>vessel</td>\n",
       "      <td>906</td>\n",
       "    </tr>\n",
       "    <tr>\n",
       "      <th>715</th>\n",
       "      <td>https://infohub.eurocean.net/vessel/716</td>\n",
       "      <td>https</td>\n",
       "      <td>infohub.eurocean.net</td>\n",
       "      <td>/vessel/716</td>\n",
       "      <td></td>\n",
       "      <td></td>\n",
       "      <td>vessel</td>\n",
       "      <td>716</td>\n",
       "    </tr>\n",
       "    <tr>\n",
       "      <th>847</th>\n",
       "      <td>https://infohub.eurocean.net/vessel/848</td>\n",
       "      <td>https</td>\n",
       "      <td>infohub.eurocean.net</td>\n",
       "      <td>/vessel/848</td>\n",
       "      <td></td>\n",
       "      <td></td>\n",
       "      <td>vessel</td>\n",
       "      <td>848</td>\n",
       "    </tr>\n",
       "  </tbody>\n",
       "</table>\n",
       "</div>"
      ],
      "text/plain": [
       "                                           url scheme                netloc  \\\n",
       "1061  https://infohub.eurocean.net/vessel/1062  https  infohub.eurocean.net   \n",
       "235    https://infohub.eurocean.net/vessel/236  https  infohub.eurocean.net   \n",
       "905    https://infohub.eurocean.net/vessel/906  https  infohub.eurocean.net   \n",
       "715    https://infohub.eurocean.net/vessel/716  https  infohub.eurocean.net   \n",
       "847    https://infohub.eurocean.net/vessel/848  https  infohub.eurocean.net   \n",
       "\n",
       "              path query fragment   dir_1 dir_2  \n",
       "1061  /vessel/1062                 vessel  1062  \n",
       "235    /vessel/236                 vessel   236  \n",
       "905    /vessel/906                 vessel   906  \n",
       "715    /vessel/716                 vessel   716  \n",
       "847    /vessel/848                 vessel   848  "
      ]
     },
     "execution_count": 15,
     "metadata": {},
     "output_type": "execute_result"
    }
   ],
   "source": [
    "sample_df.head()"
   ]
  },
  {
   "cell_type": "markdown",
   "id": "c58bee8f",
   "metadata": {},
   "source": [
    "### See the URLs resolve"
   ]
  },
  {
   "cell_type": "code",
   "execution_count": 16,
   "id": "0c22245d",
   "metadata": {},
   "outputs": [
    {
     "name": "stdout",
     "output_type": "stream",
     "text": [
      "URL: https://infohub.eurocean.net/vessel/1062 \n",
      "code 200 : text/html \n",
      "errors : None\n",
      " --\n",
      "URL: https://infohub.eurocean.net/vessel/236 \n",
      "code 200 : text/html \n",
      "errors : None\n",
      " --\n",
      "URL: https://infohub.eurocean.net/vessel/906 \n",
      "code 200 : text/html \n",
      "errors : None\n",
      " --\n",
      "URL: https://infohub.eurocean.net/vessel/716 \n",
      "code 200 : text/html \n",
      "errors : None\n",
      " --\n",
      "URL: https://infohub.eurocean.net/vessel/848 \n",
      "code 200 : text/html \n",
      "errors : None\n",
      " --\n"
     ]
    }
   ],
   "source": [
    "import urllib.request\n",
    "import requests\n",
    "\n",
    "ul = sample_df[\"url\"]\n",
    "\n",
    "for item in ul:\n",
    "    headers, code, dtype = None, None, None\n",
    "    \n",
    "    try:\n",
    "        x = requests.get(item)\n",
    "        code = x.status_code\n",
    "        with urllib.request.urlopen(item) as response:\n",
    "            info = response.info()\n",
    "            dtype = info.get_content_type()    # -> text/html\n",
    "\n",
    "        # headers = x.headers()\n",
    "    except:\n",
    "        code = \"exception\"\n",
    "        dtype = \"exception\"\n",
    "        headers = \"exception\"\n",
    "    \n",
    "    print(\"URL: {} \\ncode {} : {} \\nerrors : {}\\n --\".format(item, code, dtype, headers))"
   ]
  },
  {
   "cell_type": "markdown",
   "id": "ed2bcab8",
   "metadata": {},
   "source": [
    "### See if they have JSON-LD (static check only, no dynamically loaded JSON-LD yet)"
   ]
  },
  {
   "cell_type": "code",
   "execution_count": 17,
   "id": "cd25210a",
   "metadata": {},
   "outputs": [
    {
     "name": "stderr",
     "output_type": "stream",
     "text": [
      "2022-03-22 05:24:22,726 | ERROR | 2775093830.py:12 | <module> | Traceback (most recent call last):\n",
      "  File \"/tmp/ipykernel_1606399/2775093830.py\", line 9, in <module>\n",
      "    print(p.contents[0])\n",
      "AttributeError: 'NoneType' object has no attribute 'contents'\n",
      "\n",
      "2022-03-22 05:24:23,144 | ERROR | 2775093830.py:12 | <module> | Traceback (most recent call last):\n",
      "  File \"/tmp/ipykernel_1606399/2775093830.py\", line 9, in <module>\n",
      "    print(p.contents[0])\n",
      "AttributeError: 'NoneType' object has no attribute 'contents'\n",
      "\n",
      "2022-03-22 05:24:23,565 | ERROR | 2775093830.py:12 | <module> | Traceback (most recent call last):\n",
      "  File \"/tmp/ipykernel_1606399/2775093830.py\", line 9, in <module>\n",
      "    print(p.contents[0])\n",
      "AttributeError: 'NoneType' object has no attribute 'contents'\n",
      "\n",
      "2022-03-22 05:24:23,982 | ERROR | 2775093830.py:12 | <module> | Traceback (most recent call last):\n",
      "  File \"/tmp/ipykernel_1606399/2775093830.py\", line 9, in <module>\n",
      "    print(p.contents[0])\n",
      "AttributeError: 'NoneType' object has no attribute 'contents'\n",
      "\n",
      "2022-03-22 05:24:24,396 | ERROR | 2775093830.py:12 | <module> | Traceback (most recent call last):\n",
      "  File \"/tmp/ipykernel_1606399/2775093830.py\", line 9, in <module>\n",
      "    print(p.contents[0])\n",
      "AttributeError: 'NoneType' object has no attribute 'contents'\n",
      "\n"
     ]
    }
   ],
   "source": [
    "ul = sample_df[\"url\"]\n",
    "\n",
    "for item in ul:\n",
    "    html = urllib.request.urlopen(item).read()\n",
    "    soup = BeautifulSoup(html, \"html.parser\")\n",
    "    p = soup.find('script', {'type':'application/ld+json'})\n",
    "    try:\n",
    "        # print(len(p.contents))\n",
    "        print(p.contents[0])\n",
    "        print(\"-----------------\")\n",
    "    except Exception as e:\n",
    "        logging.error(traceback.format_exc())"
   ]
  },
  {
   "cell_type": "markdown",
   "id": "b8875457",
   "metadata": {},
   "source": [
    "### Check JSON-LD structure (static check only, no dynamically loaded JSON-LD yet)"
   ]
  },
  {
   "cell_type": "code",
   "execution_count": 18,
   "id": "cd83aa38-7d5f-48d1-bdb2-12cadd72a9dc",
   "metadata": {},
   "outputs": [
    {
     "name": "stderr",
     "output_type": "stream",
     "text": [
      "2022-03-22 05:24:30,451 | ERROR | 2560032554.py:19 | <module> | Traceback (most recent call last):\n",
      "  File \"/tmp/ipykernel_1606399/2560032554.py\", line 15, in <module>\n",
      "    jld = json.loads(p.contents[0])\n",
      "AttributeError: 'NoneType' object has no attribute 'contents'\n",
      "\n",
      "2022-03-22 05:24:30,871 | ERROR | 2560032554.py:19 | <module> | Traceback (most recent call last):\n",
      "  File \"/tmp/ipykernel_1606399/2560032554.py\", line 15, in <module>\n",
      "    jld = json.loads(p.contents[0])\n",
      "AttributeError: 'NoneType' object has no attribute 'contents'\n",
      "\n",
      "2022-03-22 05:24:31,284 | ERROR | 2560032554.py:19 | <module> | Traceback (most recent call last):\n",
      "  File \"/tmp/ipykernel_1606399/2560032554.py\", line 15, in <module>\n",
      "    jld = json.loads(p.contents[0])\n",
      "AttributeError: 'NoneType' object has no attribute 'contents'\n",
      "\n",
      "2022-03-22 05:24:31,704 | ERROR | 2560032554.py:19 | <module> | Traceback (most recent call last):\n",
      "  File \"/tmp/ipykernel_1606399/2560032554.py\", line 15, in <module>\n",
      "    jld = json.loads(p.contents[0])\n",
      "AttributeError: 'NoneType' object has no attribute 'contents'\n",
      "\n",
      "2022-03-22 05:24:32,121 | ERROR | 2560032554.py:19 | <module> | Traceback (most recent call last):\n",
      "  File \"/tmp/ipykernel_1606399/2560032554.py\", line 15, in <module>\n",
      "    jld = json.loads(p.contents[0])\n",
      "AttributeError: 'NoneType' object has no attribute 'contents'\n",
      "\n"
     ]
    }
   ],
   "source": [
    "ul = sample_df[\"url\"]\n",
    "\n",
    "myframe =  {\n",
    "    \"@context\":{\"@vocab\": \"https://schema.org/\"},\n",
    "    \"@type\": \"Dataset\",\n",
    "}\n",
    "\n",
    "context =  { \"@vocab\": \"https://schema.org/\" }\n",
    "\n",
    "for item in ul:\n",
    "    html = urllib.request.urlopen(item).read()\n",
    "    soup = BeautifulSoup(html, \"html.parser\")\n",
    "    p = soup.find('script', {'type':'application/ld+json'})\n",
    "    try:\n",
    "        jld = json.loads(p.contents[0])\n",
    "        compacted = jsonld.compact(jld, context)\n",
    "        print(json.dumps(compacted, indent=2))\n",
    "    except Exception as e:\n",
    "        logging.error(traceback.format_exc())"
   ]
  },
  {
   "cell_type": "markdown",
   "id": "c3c3f714",
   "metadata": {},
   "source": [
    "## COMING SOON\n",
    "\n",
    "Looad a sample set of triples into RDF lib and run a sample SPARQL query on them."
   ]
  },
  {
   "cell_type": "code",
   "execution_count": null,
   "id": "e39214e2",
   "metadata": {
    "collapsed": false,
    "jupyter": {
     "outputs_hidden": false
    },
    "pycharm": {
     "name": "#%%\n"
    }
   },
   "outputs": [],
   "source": []
  }
 ],
 "metadata": {
  "interpreter": {
   "hash": "7a8db6ed8e976d23fd2e6a73e187eaf8286829efb4aa61f09abf75e2f487f948"
  },
  "kernelspec": {
   "display_name": "Python 3 (ipykernel)",
   "language": "python",
   "name": "python3"
  },
  "language_info": {
   "codemirror_mode": {
    "name": "ipython",
    "version": 3
   },
   "file_extension": ".py",
   "mimetype": "text/x-python",
   "name": "python",
   "nbconvert_exporter": "python",
   "pygments_lexer": "ipython3",
   "version": "3.8.10"
  }
 },
 "nbformat": 4,
 "nbformat_minor": 5
}
