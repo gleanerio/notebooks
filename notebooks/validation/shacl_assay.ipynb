{
 "cells": [
  {
   "cell_type": "markdown",
   "metadata": {
    "id": "GXzeuoO2zHt_"
   },
   "source": [
    "# GleanerIO SHACL processor\n",
    "\n",
    "## About\n",
    "\n",
    "Ted Habberman presented to the CDF on ISO metadata analysis.  I have been exploring some approaches to accessing the FAIR Digital Object server that is part of the standard setup supporting GeoCODES and other groups.  Leveraging Python Dask and S3 Boto it is easy to access these object stores in a highly performant manner.  \n",
    "\n",
    "In addition to DASK there is S3SELECT as well as SPARQL calls on objects and triplestores.  \n",
    "\n",
    "## Notes\n",
    "\n",
    "Curious above local context file reading when doing lots of calls.  PyLD seems to know to do caching but not sure how it could in a Dask based pattern.\n",
    "\n",
    "May need to explore approach to read local files for context like"
   ]
  },
  {
   "cell_type": "markdown",
   "metadata": {
    "id": "B5cajEkMzsp6"
   },
   "source": [
    "## Imports\n"
   ]
  },
  {
   "cell_type": "code",
   "execution_count": 18,
   "metadata": {
    "id": "hoCJfO4s0BF_"
   },
   "outputs": [],
   "source": [
    "import dask\n",
    "import pandas as pd\n",
    "import json\n",
    "import s3fs\n",
    "import kglab\n",
    "from rdflib import Graph  #, plugin"
   ]
  },
  {
   "cell_type": "markdown",
   "metadata": {
    "id": "gF-jNcIplO3X"
   },
   "source": [
    "### Setting and options"
   ]
  },
  {
   "cell_type": "code",
   "execution_count": 3,
   "metadata": {
    "colab": {
     "base_uri": "https://localhost:8080/",
     "height": 74
    },
    "id": "Nkiij1wElRrf",
    "outputId": "0f8a88aa-3c71-49f4-98a4-e58396f15412"
   },
   "outputs": [],
   "source": [
    "# Some pandas df options (not needed)\n",
    "pd.set_option('display.max_rows', None)\n",
    "pd.set_option('display.max_columns', None)\n",
    "pd.set_option('display.width', None)\n",
    "pd.set_option('display.max_colwidth', None)\n",
    "\n",
    "# Set the shapegraph to use\n",
    "sg = './shapes/eco_general1.ttl'\n",
    "\n",
    "# Set up the S3 File system\n",
    "oss = s3fs.S3FileSystem(\n",
    "    anon=True,\n",
    "    client_kwargs = {\"endpoint_url\":\"https://oss.geodex.org\"}\n",
    ")\n",
    "# [optional] List the directories we can work with later\n",
    "# oss.ls('gleaner/summoned')\n"
   ]
  },
  {
   "cell_type": "markdown",
   "metadata": {
    "pycharm": {
     "name": "#%% md\n"
    }
   },
   "source": [
    "### Definitions"
   ]
  },
  {
   "cell_type": "code",
   "execution_count": 4,
   "metadata": {
    "collapsed": false,
    "jupyter": {
     "outputs_hidden": false
    },
    "pycharm": {
     "name": "#%%\n"
    }
   },
   "outputs": [],
   "source": [
    "# some color coding for pandas for later\n",
    "def change_color_group(x):\n",
    "    dfcg = x.copy()\n",
    "    dfcg.loc[df['severity'] == \"shacl:Violation\", :] = 'background-color: #F89782'\n",
    "    dfcg.loc[df['severity'] == \"shacl:Warning\", :] = 'background-color: #F0F480'\n",
    "    dfcg.loc[df['severity'] == \"shacl:Info\", :] = 'background-color: #CBFBD2'\n",
    "    return dfcg"
   ]
  },
  {
   "cell_type": "code",
   "execution_count": 5,
   "metadata": {
    "collapsed": false,
    "jupyter": {
     "outputs_hidden": false
    },
    "pycharm": {
     "name": "#%%\n"
    }
   },
   "outputs": [],
   "source": [
    "# SHACL function\n",
    "@dask.delayed()\n",
    "def read_and_validate(fn):\n",
    "    # make a kg to hold our data graph\n",
    "    namespaces = {\n",
    "        \"schema\":  \"https://schema.org/\",\n",
    "        \"shacl\":   \"http://www.w3.org/ns/shacl#\" ,\n",
    "    }\n",
    "\n",
    "    kg = kglab.KnowledgeGraph(\n",
    "        name = \"Schema.org based datagraph\",\n",
    "        base_uri = \"https://example.org/id/\",\n",
    "        namespaces = namespaces,\n",
    "    )\n",
    "\n",
    "    with oss.open(fn, 'rb') as f:\n",
    "        jld = json.loads(f.read().decode(\"utf-8\", \"ignore\").replace('\\n',' '))\n",
    "        jlds = json.dumps(jld)\n",
    "\n",
    "        g = Graph().parse(data=jlds, format='json-ld')\n",
    "        context = {\n",
    "            \"@vocab\": \"https://schema.org/\",\n",
    "        }\n",
    "\n",
    "        ttl = g.serialize(format='ttl', context=context, indent=4)\n",
    "        kg.load_rdf_text(ttl, format=\"ttl\", base=None)\n",
    "\n",
    "        conforms, report_graph, report_text = kg.validate(\n",
    "            shacl_graph=sg,\n",
    "            shacl_graph_format=\"ttl\"\n",
    "        )\n",
    "\n",
    "        return report_graph.save_rdf_text()  # return graph object or string of graph"
   ]
  },
  {
   "cell_type": "markdown",
   "metadata": {},
   "source": [
    "## Get files\n"
   ]
  },
  {
   "cell_type": "code",
   "execution_count": 6,
   "metadata": {},
   "outputs": [
    {
     "data": {
      "text/html": [
       "\n",
       "            <div>\n",
       "                <div style=\"\n",
       "                    width: 24px;\n",
       "                    height: 24px;\n",
       "                    background-color: #e1e1e1;\n",
       "                    border: 3px solid #9D9D9D;\n",
       "                    border-radius: 5px;\n",
       "                    position: absolute;\"> </div>\n",
       "                <div style=\"margin-left: 48px;\">\n",
       "                    <h3 style=\"margin-bottom: 0px;\">Client</h3>\n",
       "                    <p style=\"color: #9D9D9D; margin-bottom: 0px;\">Client-2faf1bb5-5bf9-11ec-bf54-18c04d87f382</p>\n",
       "                    <table style=\"width: 100%; text-align: left;\">\n",
       "                    \n",
       "                <tr>\n",
       "                    <td style=\"text-align: left;\"><strong>Connection method:</strong> Cluster object</td>\n",
       "                    <td style=\"text-align: left;\"><strong>Cluster type:</strong> LocalCluster</td>\n",
       "                </tr>\n",
       "                \n",
       "                <tr>\n",
       "                    <td style=\"text-align: left;\">\n",
       "                        <strong>Dashboard: </strong>\n",
       "                        <a href=\"http://127.0.0.1:8787/status\">http://127.0.0.1:8787/status</a>\n",
       "                    </td>\n",
       "                    <td style=\"text-align: left;\"></td>\n",
       "                </tr>\n",
       "                \n",
       "                    </table>\n",
       "                    \n",
       "                <details>\n",
       "                <summary style=\"margin-bottom: 20px;\"><h3 style=\"display: inline;\">Cluster Info</h3></summary>\n",
       "                \n",
       "            <div class=\"jp-RenderedHTMLCommon jp-RenderedHTML jp-mod-trusted jp-OutputArea-output\">\n",
       "                <div style=\"\n",
       "                    width: 24px;\n",
       "                    height: 24px;\n",
       "                    background-color: #e1e1e1;\n",
       "                    border: 3px solid #9D9D9D;\n",
       "                    border-radius: 5px;\n",
       "                    position: absolute;\"> </div>\n",
       "                <div style=\"margin-left: 48px;\">\n",
       "                    <h3 style=\"margin-bottom: 0px; margin-top: 0px;\">LocalCluster</h3>\n",
       "                    <p style=\"color: #9D9D9D; margin-bottom: 0px;\">1a0ff540</p>\n",
       "                    <table style=\"width: 100%; text-align: left;\">\n",
       "                    \n",
       "            <tr>\n",
       "                <td style=\"text-align: left;\"><strong>Status:</strong> running</td>\n",
       "                <td style=\"text-align: left;\"><strong>Using processes:</strong> True</td>\n",
       "            </tr>\n",
       "        \n",
       "            <tr>\n",
       "                <td style=\"text-align: left;\">\n",
       "                    <strong>Dashboard:</strong> <a href=\"http://127.0.0.1:8787/status\">http://127.0.0.1:8787/status</a>\n",
       "                </td>\n",
       "                <td style=\"text-align: left;\"><strong>Workers:</strong> 4</td>\n",
       "            </tr>\n",
       "            <tr>\n",
       "                <td style=\"text-align: left;\">\n",
       "                    <strong>Total threads:</strong>\n",
       "                    20\n",
       "                </td>\n",
       "                <td style=\"text-align: left;\">\n",
       "                    <strong>Total memory:</strong>\n",
       "                    31.17 GiB\n",
       "                </td>\n",
       "            </tr>\n",
       "        \n",
       "                    </table>\n",
       "                    <details>\n",
       "                    <summary style=\"margin-bottom: 20px;\"><h3 style=\"display: inline;\">Scheduler Info</h3></summary>\n",
       "                    \n",
       "        <div style=\"\">\n",
       "            \n",
       "            <div>\n",
       "                <div style=\"\n",
       "                    width: 24px;\n",
       "                    height: 24px;\n",
       "                    background-color: #FFF7E5;\n",
       "                    border: 3px solid #FF6132;\n",
       "                    border-radius: 5px;\n",
       "                    position: absolute;\"> </div>\n",
       "                <div style=\"margin-left: 48px;\">\n",
       "                    <h3 style=\"margin-bottom: 0px;\">Scheduler</h3>\n",
       "                    <p style=\"color: #9D9D9D; margin-bottom: 0px;\">Scheduler-120bdca5-6a83-4138-91a5-b4e7519c32fd</p>\n",
       "                    <table style=\"width: 100%; text-align: left;\">\n",
       "                        <tr>\n",
       "                            <td style=\"text-align: left;\"><strong>Comm:</strong> tcp://127.0.0.1:36147</td>\n",
       "                            <td style=\"text-align: left;\"><strong>Workers:</strong> 4</td>\n",
       "                        </tr>\n",
       "                        <tr>\n",
       "                            <td style=\"text-align: left;\">\n",
       "                                <strong>Dashboard:</strong> <a href=\"http://127.0.0.1:8787/status\">http://127.0.0.1:8787/status</a>\n",
       "                            </td>\n",
       "                            <td style=\"text-align: left;\">\n",
       "                                <strong>Total threads:</strong>\n",
       "                                20\n",
       "                            </td>\n",
       "                        </tr>\n",
       "                        <tr>\n",
       "                            <td style=\"text-align: left;\">\n",
       "                                <strong>Started:</strong>\n",
       "                                Just now\n",
       "                            </td>\n",
       "                            <td style=\"text-align: left;\">\n",
       "                                <strong>Total memory:</strong>\n",
       "                                31.17 GiB\n",
       "                            </td>\n",
       "                        </tr>\n",
       "                    </table>\n",
       "                </div>\n",
       "            </div>\n",
       "        \n",
       "            <details style=\"margin-left: 48px;\">\n",
       "            <summary style=\"margin-bottom: 20px;\"><h3 style=\"display: inline;\">Workers</h3></summary>\n",
       "            \n",
       "            <div style=\"margin-bottom: 20px;\">\n",
       "                <div style=\"width: 24px;\n",
       "                            height: 24px;\n",
       "                            background-color: #DBF5FF;\n",
       "                            border: 3px solid #4CC9FF;\n",
       "                            border-radius: 5px;\n",
       "                            position: absolute;\"> </div>\n",
       "                <div style=\"margin-left: 48px;\">\n",
       "                <details>\n",
       "                    <summary>\n",
       "                        <h4 style=\"margin-bottom: 0px; display: inline;\">Worker: 0</h4>\n",
       "                    </summary>\n",
       "                    <table style=\"width: 100%; text-align: left;\">\n",
       "                        <tr>\n",
       "                            <td style=\"text-align: left;\"><strong>Comm: </strong> tcp://127.0.0.1:44685</td>\n",
       "                            <td style=\"text-align: left;\"><strong>Total threads: </strong> 5</td>\n",
       "                        </tr>\n",
       "                        <tr>\n",
       "                            <td style=\"text-align: left;\">\n",
       "                                <strong>Dashboard: </strong>\n",
       "                                <a href=\"http://127.0.0.1:36799/status\">http://127.0.0.1:36799/status</a>\n",
       "                            </td>\n",
       "                            <td style=\"text-align: left;\">\n",
       "                                <strong>Memory: </strong>\n",
       "                                7.79 GiB\n",
       "                            </td>\n",
       "                        </tr>\n",
       "                        <tr>\n",
       "                            <td style=\"text-align: left;\"><strong>Nanny: </strong> tcp://127.0.0.1:42787</td>\n",
       "                            <td style=\"text-align: left;\"></td>\n",
       "                        </tr>\n",
       "                        <tr>\n",
       "                            <td colspan=\"2\" style=\"text-align: left;\">\n",
       "                                <strong>Local directory: </strong>\n",
       "                                /home/fils/Containers/dvols/jupyter/work/Gleaner/notebooks/validation/dask-worker-space/worker-7i13bm4y\n",
       "                            </td>\n",
       "                        </tr>\n",
       "                        \n",
       "                <tr>\n",
       "                    <td style=\"text-align: left;\">\n",
       "                        <strong>GPU: </strong>NVIDIA GeForce GTX 1050 Ti\n",
       "                    </td>\n",
       "                    <td style=\"text-align: left;\">\n",
       "                        <strong>GPU memory: </strong>\n",
       "                        3.94 GiB\n",
       "                    </td>\n",
       "                </tr>\n",
       "                \n",
       "                        \n",
       "                    </table>\n",
       "                </details>\n",
       "                </div>\n",
       "            </div>\n",
       "            \n",
       "            <div style=\"margin-bottom: 20px;\">\n",
       "                <div style=\"width: 24px;\n",
       "                            height: 24px;\n",
       "                            background-color: #DBF5FF;\n",
       "                            border: 3px solid #4CC9FF;\n",
       "                            border-radius: 5px;\n",
       "                            position: absolute;\"> </div>\n",
       "                <div style=\"margin-left: 48px;\">\n",
       "                <details>\n",
       "                    <summary>\n",
       "                        <h4 style=\"margin-bottom: 0px; display: inline;\">Worker: 1</h4>\n",
       "                    </summary>\n",
       "                    <table style=\"width: 100%; text-align: left;\">\n",
       "                        <tr>\n",
       "                            <td style=\"text-align: left;\"><strong>Comm: </strong> tcp://127.0.0.1:38123</td>\n",
       "                            <td style=\"text-align: left;\"><strong>Total threads: </strong> 5</td>\n",
       "                        </tr>\n",
       "                        <tr>\n",
       "                            <td style=\"text-align: left;\">\n",
       "                                <strong>Dashboard: </strong>\n",
       "                                <a href=\"http://127.0.0.1:42595/status\">http://127.0.0.1:42595/status</a>\n",
       "                            </td>\n",
       "                            <td style=\"text-align: left;\">\n",
       "                                <strong>Memory: </strong>\n",
       "                                7.79 GiB\n",
       "                            </td>\n",
       "                        </tr>\n",
       "                        <tr>\n",
       "                            <td style=\"text-align: left;\"><strong>Nanny: </strong> tcp://127.0.0.1:34845</td>\n",
       "                            <td style=\"text-align: left;\"></td>\n",
       "                        </tr>\n",
       "                        <tr>\n",
       "                            <td colspan=\"2\" style=\"text-align: left;\">\n",
       "                                <strong>Local directory: </strong>\n",
       "                                /home/fils/Containers/dvols/jupyter/work/Gleaner/notebooks/validation/dask-worker-space/worker-4lpl62ue\n",
       "                            </td>\n",
       "                        </tr>\n",
       "                        \n",
       "                <tr>\n",
       "                    <td style=\"text-align: left;\">\n",
       "                        <strong>GPU: </strong>NVIDIA GeForce GTX 1050 Ti\n",
       "                    </td>\n",
       "                    <td style=\"text-align: left;\">\n",
       "                        <strong>GPU memory: </strong>\n",
       "                        3.94 GiB\n",
       "                    </td>\n",
       "                </tr>\n",
       "                \n",
       "                        \n",
       "                    </table>\n",
       "                </details>\n",
       "                </div>\n",
       "            </div>\n",
       "            \n",
       "            <div style=\"margin-bottom: 20px;\">\n",
       "                <div style=\"width: 24px;\n",
       "                            height: 24px;\n",
       "                            background-color: #DBF5FF;\n",
       "                            border: 3px solid #4CC9FF;\n",
       "                            border-radius: 5px;\n",
       "                            position: absolute;\"> </div>\n",
       "                <div style=\"margin-left: 48px;\">\n",
       "                <details>\n",
       "                    <summary>\n",
       "                        <h4 style=\"margin-bottom: 0px; display: inline;\">Worker: 2</h4>\n",
       "                    </summary>\n",
       "                    <table style=\"width: 100%; text-align: left;\">\n",
       "                        <tr>\n",
       "                            <td style=\"text-align: left;\"><strong>Comm: </strong> tcp://127.0.0.1:32789</td>\n",
       "                            <td style=\"text-align: left;\"><strong>Total threads: </strong> 5</td>\n",
       "                        </tr>\n",
       "                        <tr>\n",
       "                            <td style=\"text-align: left;\">\n",
       "                                <strong>Dashboard: </strong>\n",
       "                                <a href=\"http://127.0.0.1:38805/status\">http://127.0.0.1:38805/status</a>\n",
       "                            </td>\n",
       "                            <td style=\"text-align: left;\">\n",
       "                                <strong>Memory: </strong>\n",
       "                                7.79 GiB\n",
       "                            </td>\n",
       "                        </tr>\n",
       "                        <tr>\n",
       "                            <td style=\"text-align: left;\"><strong>Nanny: </strong> tcp://127.0.0.1:45743</td>\n",
       "                            <td style=\"text-align: left;\"></td>\n",
       "                        </tr>\n",
       "                        <tr>\n",
       "                            <td colspan=\"2\" style=\"text-align: left;\">\n",
       "                                <strong>Local directory: </strong>\n",
       "                                /home/fils/Containers/dvols/jupyter/work/Gleaner/notebooks/validation/dask-worker-space/worker-ril5uecf\n",
       "                            </td>\n",
       "                        </tr>\n",
       "                        \n",
       "                <tr>\n",
       "                    <td style=\"text-align: left;\">\n",
       "                        <strong>GPU: </strong>NVIDIA GeForce GTX 1050 Ti\n",
       "                    </td>\n",
       "                    <td style=\"text-align: left;\">\n",
       "                        <strong>GPU memory: </strong>\n",
       "                        3.94 GiB\n",
       "                    </td>\n",
       "                </tr>\n",
       "                \n",
       "                        \n",
       "                    </table>\n",
       "                </details>\n",
       "                </div>\n",
       "            </div>\n",
       "            \n",
       "            <div style=\"margin-bottom: 20px;\">\n",
       "                <div style=\"width: 24px;\n",
       "                            height: 24px;\n",
       "                            background-color: #DBF5FF;\n",
       "                            border: 3px solid #4CC9FF;\n",
       "                            border-radius: 5px;\n",
       "                            position: absolute;\"> </div>\n",
       "                <div style=\"margin-left: 48px;\">\n",
       "                <details>\n",
       "                    <summary>\n",
       "                        <h4 style=\"margin-bottom: 0px; display: inline;\">Worker: 3</h4>\n",
       "                    </summary>\n",
       "                    <table style=\"width: 100%; text-align: left;\">\n",
       "                        <tr>\n",
       "                            <td style=\"text-align: left;\"><strong>Comm: </strong> tcp://127.0.0.1:45989</td>\n",
       "                            <td style=\"text-align: left;\"><strong>Total threads: </strong> 5</td>\n",
       "                        </tr>\n",
       "                        <tr>\n",
       "                            <td style=\"text-align: left;\">\n",
       "                                <strong>Dashboard: </strong>\n",
       "                                <a href=\"http://127.0.0.1:46049/status\">http://127.0.0.1:46049/status</a>\n",
       "                            </td>\n",
       "                            <td style=\"text-align: left;\">\n",
       "                                <strong>Memory: </strong>\n",
       "                                7.79 GiB\n",
       "                            </td>\n",
       "                        </tr>\n",
       "                        <tr>\n",
       "                            <td style=\"text-align: left;\"><strong>Nanny: </strong> tcp://127.0.0.1:32773</td>\n",
       "                            <td style=\"text-align: left;\"></td>\n",
       "                        </tr>\n",
       "                        <tr>\n",
       "                            <td colspan=\"2\" style=\"text-align: left;\">\n",
       "                                <strong>Local directory: </strong>\n",
       "                                /home/fils/Containers/dvols/jupyter/work/Gleaner/notebooks/validation/dask-worker-space/worker-jrdmdb9j\n",
       "                            </td>\n",
       "                        </tr>\n",
       "                        \n",
       "                <tr>\n",
       "                    <td style=\"text-align: left;\">\n",
       "                        <strong>GPU: </strong>NVIDIA GeForce GTX 1050 Ti\n",
       "                    </td>\n",
       "                    <td style=\"text-align: left;\">\n",
       "                        <strong>GPU memory: </strong>\n",
       "                        3.94 GiB\n",
       "                    </td>\n",
       "                </tr>\n",
       "                \n",
       "                        \n",
       "                    </table>\n",
       "                </details>\n",
       "                </div>\n",
       "            </div>\n",
       "            \n",
       "            </details>\n",
       "        </div>\n",
       "        \n",
       "                    </details>\n",
       "                </div>\n",
       "            </div>\n",
       "        \n",
       "                </details>\n",
       "                \n",
       "                </div>\n",
       "            </div>\n",
       "        "
      ],
      "text/plain": [
       "<Client: 'tcp://127.0.0.1:36147' processes=4 threads=20, memory=31.17 GiB>"
      ]
     },
     "execution_count": 6,
     "metadata": {},
     "output_type": "execute_result"
    }
   ],
   "source": [
    "from dask.distributed import Client    #, progress\n",
    "client = Client(threads_per_worker=5, n_workers=4)\n",
    "client"
   ]
  },
  {
   "cell_type": "code",
   "execution_count": 19,
   "metadata": {
    "id": "bxgBNI0cZC0Z",
    "tags": []
   },
   "outputs": [
    {
     "name": "stderr",
     "output_type": "stream",
     "text": [
      "Usage of abort_on_error is deprecated. Use abort_on_first instead.\n",
      "Usage of abort_on_error is deprecated. Use abort_on_first instead.\n",
      "Usage of abort_on_error is deprecated. Use abort_on_first instead.\n",
      "Usage of abort_on_error is deprecated. Use abort_on_first instead.\n",
      "Usage of abort_on_error is deprecated. Use abort_on_first instead.\n",
      "Usage of abort_on_error is deprecated. Use abort_on_first instead.\n",
      "Usage of abort_on_error is deprecated. Use abort_on_first instead.\n",
      "Usage of abort_on_error is deprecated. Use abort_on_first instead.\n",
      "Usage of abort_on_error is deprecated. Use abort_on_first instead.\n",
      "Usage of abort_on_error is deprecated. Use abort_on_first instead.\n",
      "Usage of abort_on_error is deprecated. Use abort_on_first instead.\n",
      "Usage of abort_on_error is deprecated. Use abort_on_first instead.\n",
      "Usage of abort_on_error is deprecated. Use abort_on_first instead.\n",
      "Usage of abort_on_error is deprecated. Use abort_on_first instead.\n",
      "Usage of abort_on_error is deprecated. Use abort_on_first instead.\n",
      "Usage of abort_on_error is deprecated. Use abort_on_first instead.\n",
      "Usage of abort_on_error is deprecated. Use abort_on_first instead.\n",
      "Usage of abort_on_error is deprecated. Use abort_on_first instead.\n",
      "Usage of abort_on_error is deprecated. Use abort_on_first instead.\n",
      "Usage of abort_on_error is deprecated. Use abort_on_first instead.\n",
      "Usage of abort_on_error is deprecated. Use abort_on_first instead.\n",
      "Usage of abort_on_error is deprecated. Use abort_on_first instead.\n",
      "Usage of abort_on_error is deprecated. Use abort_on_first instead.\n",
      "Usage of abort_on_error is deprecated. Use abort_on_first instead.\n",
      "Usage of abort_on_error is deprecated. Use abort_on_first instead.\n",
      "Usage of abort_on_error is deprecated. Use abort_on_first instead.\n",
      "Usage of abort_on_error is deprecated. Use abort_on_first instead.\n",
      "Usage of abort_on_error is deprecated. Use abort_on_first instead.\n",
      "Usage of abort_on_error is deprecated. Use abort_on_first instead.\n",
      "Usage of abort_on_error is deprecated. Use abort_on_first instead.\n",
      "Usage of abort_on_error is deprecated. Use abort_on_first instead.\n",
      "Usage of abort_on_error is deprecated. Use abort_on_first instead.\n",
      "Usage of abort_on_error is deprecated. Use abort_on_first instead.\n",
      "Usage of abort_on_error is deprecated. Use abort_on_first instead.\n",
      "Usage of abort_on_error is deprecated. Use abort_on_first instead.\n",
      "Usage of abort_on_error is deprecated. Use abort_on_first instead.\n",
      "Usage of abort_on_error is deprecated. Use abort_on_first instead.\n",
      "Usage of abort_on_error is deprecated. Use abort_on_first instead.\n",
      "Usage of abort_on_error is deprecated. Use abort_on_first instead.\n",
      "Usage of abort_on_error is deprecated. Use abort_on_first instead.\n",
      "Usage of abort_on_error is deprecated. Use abort_on_first instead.\n",
      "Usage of abort_on_error is deprecated. Use abort_on_first instead.\n",
      "Usage of abort_on_error is deprecated. Use abort_on_first instead.\n",
      "Usage of abort_on_error is deprecated. Use abort_on_first instead.\n",
      "Usage of abort_on_error is deprecated. Use abort_on_first instead.\n",
      "Usage of abort_on_error is deprecated. Use abort_on_first instead.\n",
      "Usage of abort_on_error is deprecated. Use abort_on_first instead.\n",
      "Usage of abort_on_error is deprecated. Use abort_on_first instead.\n",
      "Usage of abort_on_error is deprecated. Use abort_on_first instead.\n",
      "Usage of abort_on_error is deprecated. Use abort_on_first instead.\n",
      "Usage of abort_on_error is deprecated. Use abort_on_first instead.\n",
      "Usage of abort_on_error is deprecated. Use abort_on_first instead.\n",
      "Usage of abort_on_error is deprecated. Use abort_on_first instead.\n",
      "Usage of abort_on_error is deprecated. Use abort_on_first instead.\n",
      "Usage of abort_on_error is deprecated. Use abort_on_first instead.\n",
      "Usage of abort_on_error is deprecated. Use abort_on_first instead.\n",
      "Usage of abort_on_error is deprecated. Use abort_on_first instead.\n",
      "Usage of abort_on_error is deprecated. Use abort_on_first instead.\n",
      "Usage of abort_on_error is deprecated. Use abort_on_first instead.\n",
      "Usage of abort_on_error is deprecated. Use abort_on_first instead.\n",
      "Usage of abort_on_error is deprecated. Use abort_on_first instead.\n",
      "Usage of abort_on_error is deprecated. Use abort_on_first instead.\n",
      "Usage of abort_on_error is deprecated. Use abort_on_first instead.\n",
      "Usage of abort_on_error is deprecated. Use abort_on_first instead.\n",
      "Usage of abort_on_error is deprecated. Use abort_on_first instead.\n",
      "Usage of abort_on_error is deprecated. Use abort_on_first instead.\n",
      "Usage of abort_on_error is deprecated. Use abort_on_first instead.\n",
      "Usage of abort_on_error is deprecated. Use abort_on_first instead.\n",
      "Usage of abort_on_error is deprecated. Use abort_on_first instead.\n",
      "Usage of abort_on_error is deprecated. Use abort_on_first instead.\n",
      "Usage of abort_on_error is deprecated. Use abort_on_first instead.\n",
      "Usage of abort_on_error is deprecated. Use abort_on_first instead.\n",
      "Usage of abort_on_error is deprecated. Use abort_on_first instead.\n",
      "Usage of abort_on_error is deprecated. Use abort_on_first instead.\n",
      "Usage of abort_on_error is deprecated. Use abort_on_first instead.\n",
      "Usage of abort_on_error is deprecated. Use abort_on_first instead.\n",
      "Usage of abort_on_error is deprecated. Use abort_on_first instead.\n",
      "Usage of abort_on_error is deprecated. Use abort_on_first instead.\n",
      "Usage of abort_on_error is deprecated. Use abort_on_first instead.\n",
      "Usage of abort_on_error is deprecated. Use abort_on_first instead.\n",
      "Usage of abort_on_error is deprecated. Use abort_on_first instead.\n",
      "Usage of abort_on_error is deprecated. Use abort_on_first instead.\n",
      "Usage of abort_on_error is deprecated. Use abort_on_first instead.\n",
      "Usage of abort_on_error is deprecated. Use abort_on_first instead.\n",
      "Usage of abort_on_error is deprecated. Use abort_on_first instead.\n",
      "Usage of abort_on_error is deprecated. Use abort_on_first instead.\n",
      "Usage of abort_on_error is deprecated. Use abort_on_first instead.\n",
      "Usage of abort_on_error is deprecated. Use abort_on_first instead.\n",
      "Usage of abort_on_error is deprecated. Use abort_on_first instead.\n",
      "Usage of abort_on_error is deprecated. Use abort_on_first instead.\n",
      "Usage of abort_on_error is deprecated. Use abort_on_first instead.\n",
      "Usage of abort_on_error is deprecated. Use abort_on_first instead.\n",
      "Usage of abort_on_error is deprecated. Use abort_on_first instead.\n",
      "Usage of abort_on_error is deprecated. Use abort_on_first instead.\n",
      "Usage of abort_on_error is deprecated. Use abort_on_first instead.\n",
      "Usage of abort_on_error is deprecated. Use abort_on_first instead.\n",
      "Usage of abort_on_error is deprecated. Use abort_on_first instead.\n",
      "Usage of abort_on_error is deprecated. Use abort_on_first instead.\n",
      "Usage of abort_on_error is deprecated. Use abort_on_first instead.\n",
      "Usage of abort_on_error is deprecated. Use abort_on_first instead.\n",
      "Usage of abort_on_error is deprecated. Use abort_on_first instead.\n",
      "Usage of abort_on_error is deprecated. Use abort_on_first instead.\n",
      "Usage of abort_on_error is deprecated. Use abort_on_first instead.\n",
      "Usage of abort_on_error is deprecated. Use abort_on_first instead.\n",
      "Usage of abort_on_error is deprecated. Use abort_on_first instead.\n",
      "Usage of abort_on_error is deprecated. Use abort_on_first instead.\n",
      "Usage of abort_on_error is deprecated. Use abort_on_first instead.\n",
      "Usage of abort_on_error is deprecated. Use abort_on_first instead.\n",
      "Usage of abort_on_error is deprecated. Use abort_on_first instead.\n",
      "Usage of abort_on_error is deprecated. Use abort_on_first instead.\n",
      "Usage of abort_on_error is deprecated. Use abort_on_first instead.\n",
      "Usage of abort_on_error is deprecated. Use abort_on_first instead.\n",
      "Usage of abort_on_error is deprecated. Use abort_on_first instead.\n",
      "Usage of abort_on_error is deprecated. Use abort_on_first instead.\n",
      "Usage of abort_on_error is deprecated. Use abort_on_first instead.\n",
      "Usage of abort_on_error is deprecated. Use abort_on_first instead.\n",
      "Usage of abort_on_error is deprecated. Use abort_on_first instead.\n",
      "Usage of abort_on_error is deprecated. Use abort_on_first instead.\n",
      "Usage of abort_on_error is deprecated. Use abort_on_first instead.\n",
      "Usage of abort_on_error is deprecated. Use abort_on_first instead.\n",
      "Usage of abort_on_error is deprecated. Use abort_on_first instead.\n",
      "Usage of abort_on_error is deprecated. Use abort_on_first instead.\n",
      "Usage of abort_on_error is deprecated. Use abort_on_first instead.\n",
      "Usage of abort_on_error is deprecated. Use abort_on_first instead.\n",
      "Usage of abort_on_error is deprecated. Use abort_on_first instead.\n",
      "Usage of abort_on_error is deprecated. Use abort_on_first instead.\n",
      "Usage of abort_on_error is deprecated. Use abort_on_first instead.\n",
      "Usage of abort_on_error is deprecated. Use abort_on_first instead.\n",
      "Usage of abort_on_error is deprecated. Use abort_on_first instead.\n",
      "Usage of abort_on_error is deprecated. Use abort_on_first instead.\n",
      "Usage of abort_on_error is deprecated. Use abort_on_first instead.\n",
      "Usage of abort_on_error is deprecated. Use abort_on_first instead.\n",
      "Usage of abort_on_error is deprecated. Use abort_on_first instead.\n",
      "Usage of abort_on_error is deprecated. Use abort_on_first instead.\n",
      "Usage of abort_on_error is deprecated. Use abort_on_first instead.\n",
      "Usage of abort_on_error is deprecated. Use abort_on_first instead.\n",
      "Usage of abort_on_error is deprecated. Use abort_on_first instead.\n",
      "Usage of abort_on_error is deprecated. Use abort_on_first instead.\n",
      "Usage of abort_on_error is deprecated. Use abort_on_first instead.\n",
      "Usage of abort_on_error is deprecated. Use abort_on_first instead.\n",
      "Usage of abort_on_error is deprecated. Use abort_on_first instead.\n",
      "Usage of abort_on_error is deprecated. Use abort_on_first instead.\n",
      "Usage of abort_on_error is deprecated. Use abort_on_first instead.\n",
      "Usage of abort_on_error is deprecated. Use abort_on_first instead.\n",
      "Usage of abort_on_error is deprecated. Use abort_on_first instead.\n",
      "Usage of abort_on_error is deprecated. Use abort_on_first instead.\n",
      "Usage of abort_on_error is deprecated. Use abort_on_first instead.\n",
      "Usage of abort_on_error is deprecated. Use abort_on_first instead.\n",
      "Usage of abort_on_error is deprecated. Use abort_on_first instead.\n",
      "Usage of abort_on_error is deprecated. Use abort_on_first instead.\n",
      "Usage of abort_on_error is deprecated. Use abort_on_first instead.\n",
      "Usage of abort_on_error is deprecated. Use abort_on_first instead.\n",
      "Usage of abort_on_error is deprecated. Use abort_on_first instead.\n",
      "Usage of abort_on_error is deprecated. Use abort_on_first instead.\n",
      "Usage of abort_on_error is deprecated. Use abort_on_first instead.\n",
      "Usage of abort_on_error is deprecated. Use abort_on_first instead.\n",
      "Usage of abort_on_error is deprecated. Use abort_on_first instead.\n",
      "Usage of abort_on_error is deprecated. Use abort_on_first instead.\n",
      "Usage of abort_on_error is deprecated. Use abort_on_first instead.\n",
      "Usage of abort_on_error is deprecated. Use abort_on_first instead.\n",
      "Usage of abort_on_error is deprecated. Use abort_on_first instead.\n",
      "Usage of abort_on_error is deprecated. Use abort_on_first instead.\n",
      "Usage of abort_on_error is deprecated. Use abort_on_first instead.\n",
      "Usage of abort_on_error is deprecated. Use abort_on_first instead.\n",
      "Usage of abort_on_error is deprecated. Use abort_on_first instead.\n",
      "Usage of abort_on_error is deprecated. Use abort_on_first instead.\n",
      "Usage of abort_on_error is deprecated. Use abort_on_first instead.\n",
      "Usage of abort_on_error is deprecated. Use abort_on_first instead.\n",
      "Usage of abort_on_error is deprecated. Use abort_on_first instead.\n",
      "Usage of abort_on_error is deprecated. Use abort_on_first instead.\n",
      "Usage of abort_on_error is deprecated. Use abort_on_first instead.\n",
      "Usage of abort_on_error is deprecated. Use abort_on_first instead.\n",
      "Usage of abort_on_error is deprecated. Use abort_on_first instead.\n",
      "Usage of abort_on_error is deprecated. Use abort_on_first instead.\n",
      "Usage of abort_on_error is deprecated. Use abort_on_first instead.\n",
      "Usage of abort_on_error is deprecated. Use abort_on_first instead.\n",
      "Usage of abort_on_error is deprecated. Use abort_on_first instead.\n",
      "Usage of abort_on_error is deprecated. Use abort_on_first instead.\n",
      "Usage of abort_on_error is deprecated. Use abort_on_first instead.\n",
      "Usage of abort_on_error is deprecated. Use abort_on_first instead.\n",
      "Usage of abort_on_error is deprecated. Use abort_on_first instead.\n",
      "Usage of abort_on_error is deprecated. Use abort_on_first instead.\n",
      "Usage of abort_on_error is deprecated. Use abort_on_first instead.\n",
      "Usage of abort_on_error is deprecated. Use abort_on_first instead.\n",
      "Usage of abort_on_error is deprecated. Use abort_on_first instead.\n",
      "Usage of abort_on_error is deprecated. Use abort_on_first instead.\n",
      "Usage of abort_on_error is deprecated. Use abort_on_first instead.\n",
      "Usage of abort_on_error is deprecated. Use abort_on_first instead.\n",
      "Usage of abort_on_error is deprecated. Use abort_on_first instead.\n",
      "Usage of abort_on_error is deprecated. Use abort_on_first instead.\n",
      "Usage of abort_on_error is deprecated. Use abort_on_first instead.\n",
      "Usage of abort_on_error is deprecated. Use abort_on_first instead.\n",
      "Usage of abort_on_error is deprecated. Use abort_on_first instead.\n",
      "Usage of abort_on_error is deprecated. Use abort_on_first instead.\n",
      "Usage of abort_on_error is deprecated. Use abort_on_first instead.\n",
      "Usage of abort_on_error is deprecated. Use abort_on_first instead.\n",
      "Usage of abort_on_error is deprecated. Use abort_on_first instead.\n",
      "Usage of abort_on_error is deprecated. Use abort_on_first instead.\n",
      "Usage of abort_on_error is deprecated. Use abort_on_first instead.\n",
      "Usage of abort_on_error is deprecated. Use abort_on_first instead.\n",
      "Usage of abort_on_error is deprecated. Use abort_on_first instead.\n",
      "Usage of abort_on_error is deprecated. Use abort_on_first instead.\n",
      "Usage of abort_on_error is deprecated. Use abort_on_first instead.\n",
      "Usage of abort_on_error is deprecated. Use abort_on_first instead.\n",
      "Usage of abort_on_error is deprecated. Use abort_on_first instead.\n",
      "Usage of abort_on_error is deprecated. Use abort_on_first instead.\n",
      "Usage of abort_on_error is deprecated. Use abort_on_first instead.\n",
      "Usage of abort_on_error is deprecated. Use abort_on_first instead.\n",
      "Usage of abort_on_error is deprecated. Use abort_on_first instead.\n",
      "Usage of abort_on_error is deprecated. Use abort_on_first instead.\n",
      "Usage of abort_on_error is deprecated. Use abort_on_first instead.\n",
      "Usage of abort_on_error is deprecated. Use abort_on_first instead.\n",
      "Usage of abort_on_error is deprecated. Use abort_on_first instead.\n",
      "Usage of abort_on_error is deprecated. Use abort_on_first instead.\n",
      "Usage of abort_on_error is deprecated. Use abort_on_first instead.\n",
      "Usage of abort_on_error is deprecated. Use abort_on_first instead.\n",
      "Usage of abort_on_error is deprecated. Use abort_on_first instead.\n",
      "Usage of abort_on_error is deprecated. Use abort_on_first instead.\n",
      "Usage of abort_on_error is deprecated. Use abort_on_first instead.\n",
      "Usage of abort_on_error is deprecated. Use abort_on_first instead.\n",
      "Usage of abort_on_error is deprecated. Use abort_on_first instead.\n",
      "Usage of abort_on_error is deprecated. Use abort_on_first instead.\n",
      "Usage of abort_on_error is deprecated. Use abort_on_first instead.\n",
      "Usage of abort_on_error is deprecated. Use abort_on_first instead.\n",
      "Usage of abort_on_error is deprecated. Use abort_on_first instead.\n",
      "Usage of abort_on_error is deprecated. Use abort_on_first instead.\n",
      "Usage of abort_on_error is deprecated. Use abort_on_first instead.\n",
      "Usage of abort_on_error is deprecated. Use abort_on_first instead.\n",
      "Usage of abort_on_error is deprecated. Use abort_on_first instead.\n",
      "Usage of abort_on_error is deprecated. Use abort_on_first instead.\n",
      "Usage of abort_on_error is deprecated. Use abort_on_first instead.\n",
      "Usage of abort_on_error is deprecated. Use abort_on_first instead.\n",
      "Usage of abort_on_error is deprecated. Use abort_on_first instead.\n",
      "Usage of abort_on_error is deprecated. Use abort_on_first instead.\n",
      "Usage of abort_on_error is deprecated. Use abort_on_first instead.\n",
      "Usage of abort_on_error is deprecated. Use abort_on_first instead.\n",
      "Usage of abort_on_error is deprecated. Use abort_on_first instead.\n",
      "Usage of abort_on_error is deprecated. Use abort_on_first instead.\n",
      "Usage of abort_on_error is deprecated. Use abort_on_first instead.\n",
      "Usage of abort_on_error is deprecated. Use abort_on_first instead.\n",
      "Usage of abort_on_error is deprecated. Use abort_on_first instead.\n",
      "Usage of abort_on_error is deprecated. Use abort_on_first instead.\n",
      "Usage of abort_on_error is deprecated. Use abort_on_first instead.\n",
      "Usage of abort_on_error is deprecated. Use abort_on_first instead.\n",
      "Usage of abort_on_error is deprecated. Use abort_on_first instead.\n",
      "Usage of abort_on_error is deprecated. Use abort_on_first instead.\n",
      "Usage of abort_on_error is deprecated. Use abort_on_first instead.\n",
      "Usage of abort_on_error is deprecated. Use abort_on_first instead.\n",
      "Usage of abort_on_error is deprecated. Use abort_on_first instead.\n",
      "Usage of abort_on_error is deprecated. Use abort_on_first instead.\n",
      "Usage of abort_on_error is deprecated. Use abort_on_first instead.\n",
      "Usage of abort_on_error is deprecated. Use abort_on_first instead.\n",
      "Usage of abort_on_error is deprecated. Use abort_on_first instead.\n",
      "Usage of abort_on_error is deprecated. Use abort_on_first instead.\n",
      "Usage of abort_on_error is deprecated. Use abort_on_first instead.\n",
      "Usage of abort_on_error is deprecated. Use abort_on_first instead.\n",
      "Usage of abort_on_error is deprecated. Use abort_on_first instead.\n",
      "Usage of abort_on_error is deprecated. Use abort_on_first instead.\n",
      "Usage of abort_on_error is deprecated. Use abort_on_first instead.\n",
      "Usage of abort_on_error is deprecated. Use abort_on_first instead.\n",
      "Usage of abort_on_error is deprecated. Use abort_on_first instead.\n",
      "Usage of abort_on_error is deprecated. Use abort_on_first instead.\n",
      "Usage of abort_on_error is deprecated. Use abort_on_first instead.\n",
      "Usage of abort_on_error is deprecated. Use abort_on_first instead.\n",
      "Usage of abort_on_error is deprecated. Use abort_on_first instead.\n",
      "Usage of abort_on_error is deprecated. Use abort_on_first instead.\n",
      "Usage of abort_on_error is deprecated. Use abort_on_first instead.\n",
      "Usage of abort_on_error is deprecated. Use abort_on_first instead.\n",
      "Usage of abort_on_error is deprecated. Use abort_on_first instead.\n",
      "Usage of abort_on_error is deprecated. Use abort_on_first instead.\n",
      "Usage of abort_on_error is deprecated. Use abort_on_first instead.\n",
      "Usage of abort_on_error is deprecated. Use abort_on_first instead.\n",
      "Usage of abort_on_error is deprecated. Use abort_on_first instead.\n",
      "Usage of abort_on_error is deprecated. Use abort_on_first instead.\n",
      "Usage of abort_on_error is deprecated. Use abort_on_first instead.\n",
      "Usage of abort_on_error is deprecated. Use abort_on_first instead.\n",
      "Usage of abort_on_error is deprecated. Use abort_on_first instead.\n",
      "Usage of abort_on_error is deprecated. Use abort_on_first instead.\n",
      "Usage of abort_on_error is deprecated. Use abort_on_first instead.\n",
      "Usage of abort_on_error is deprecated. Use abort_on_first instead.\n",
      "Usage of abort_on_error is deprecated. Use abort_on_first instead.\n",
      "Usage of abort_on_error is deprecated. Use abort_on_first instead.\n",
      "Usage of abort_on_error is deprecated. Use abort_on_first instead.\n",
      "Usage of abort_on_error is deprecated. Use abort_on_first instead.\n",
      "Usage of abort_on_error is deprecated. Use abort_on_first instead.\n",
      "Usage of abort_on_error is deprecated. Use abort_on_first instead.\n",
      "Usage of abort_on_error is deprecated. Use abort_on_first instead.\n",
      "Usage of abort_on_error is deprecated. Use abort_on_first instead.\n",
      "Usage of abort_on_error is deprecated. Use abort_on_first instead.\n",
      "Usage of abort_on_error is deprecated. Use abort_on_first instead.\n",
      "Usage of abort_on_error is deprecated. Use abort_on_first instead.\n",
      "Usage of abort_on_error is deprecated. Use abort_on_first instead.\n",
      "Usage of abort_on_error is deprecated. Use abort_on_first instead.\n",
      "Usage of abort_on_error is deprecated. Use abort_on_first instead.\n",
      "Usage of abort_on_error is deprecated. Use abort_on_first instead.\n",
      "Usage of abort_on_error is deprecated. Use abort_on_first instead.\n",
      "Usage of abort_on_error is deprecated. Use abort_on_first instead.\n",
      "Usage of abort_on_error is deprecated. Use abort_on_first instead.\n",
      "Usage of abort_on_error is deprecated. Use abort_on_first instead.\n",
      "Usage of abort_on_error is deprecated. Use abort_on_first instead.\n",
      "Usage of abort_on_error is deprecated. Use abort_on_first instead.\n",
      "Usage of abort_on_error is deprecated. Use abort_on_first instead.\n",
      "Usage of abort_on_error is deprecated. Use abort_on_first instead.\n",
      "Usage of abort_on_error is deprecated. Use abort_on_first instead.\n",
      "Usage of abort_on_error is deprecated. Use abort_on_first instead.\n",
      "Usage of abort_on_error is deprecated. Use abort_on_first instead.\n",
      "Usage of abort_on_error is deprecated. Use abort_on_first instead.\n",
      "Usage of abort_on_error is deprecated. Use abort_on_first instead.\n",
      "Usage of abort_on_error is deprecated. Use abort_on_first instead.\n",
      "Usage of abort_on_error is deprecated. Use abort_on_first instead.\n",
      "Usage of abort_on_error is deprecated. Use abort_on_first instead.\n",
      "Usage of abort_on_error is deprecated. Use abort_on_first instead.\n",
      "Usage of abort_on_error is deprecated. Use abort_on_first instead.\n",
      "Usage of abort_on_error is deprecated. Use abort_on_first instead.\n",
      "Usage of abort_on_error is deprecated. Use abort_on_first instead.\n",
      "Usage of abort_on_error is deprecated. Use abort_on_first instead.\n",
      "Usage of abort_on_error is deprecated. Use abort_on_first instead.\n",
      "Usage of abort_on_error is deprecated. Use abort_on_first instead.\n",
      "Usage of abort_on_error is deprecated. Use abort_on_first instead.\n",
      "Usage of abort_on_error is deprecated. Use abort_on_first instead.\n",
      "Usage of abort_on_error is deprecated. Use abort_on_first instead.\n",
      "Usage of abort_on_error is deprecated. Use abort_on_first instead.\n",
      "Usage of abort_on_error is deprecated. Use abort_on_first instead.\n",
      "Usage of abort_on_error is deprecated. Use abort_on_first instead.\n",
      "Usage of abort_on_error is deprecated. Use abort_on_first instead.\n",
      "Usage of abort_on_error is deprecated. Use abort_on_first instead.\n",
      "Usage of abort_on_error is deprecated. Use abort_on_first instead.\n",
      "Usage of abort_on_error is deprecated. Use abort_on_first instead.\n",
      "Usage of abort_on_error is deprecated. Use abort_on_first instead.\n",
      "Usage of abort_on_error is deprecated. Use abort_on_first instead.\n",
      "Usage of abort_on_error is deprecated. Use abort_on_first instead.\n",
      "Usage of abort_on_error is deprecated. Use abort_on_first instead.\n",
      "Usage of abort_on_error is deprecated. Use abort_on_first instead.\n",
      "Usage of abort_on_error is deprecated. Use abort_on_first instead.\n",
      "Usage of abort_on_error is deprecated. Use abort_on_first instead.\n",
      "Usage of abort_on_error is deprecated. Use abort_on_first instead.\n",
      "Usage of abort_on_error is deprecated. Use abort_on_first instead.\n",
      "Usage of abort_on_error is deprecated. Use abort_on_first instead.\n",
      "Usage of abort_on_error is deprecated. Use abort_on_first instead.\n",
      "Usage of abort_on_error is deprecated. Use abort_on_first instead.\n",
      "Usage of abort_on_error is deprecated. Use abort_on_first instead.\n",
      "Usage of abort_on_error is deprecated. Use abort_on_first instead.\n",
      "Usage of abort_on_error is deprecated. Use abort_on_first instead.\n",
      "Usage of abort_on_error is deprecated. Use abort_on_first instead.\n",
      "Usage of abort_on_error is deprecated. Use abort_on_first instead.\n",
      "Usage of abort_on_error is deprecated. Use abort_on_first instead.\n",
      "Usage of abort_on_error is deprecated. Use abort_on_first instead.\n",
      "Usage of abort_on_error is deprecated. Use abort_on_first instead.\n",
      "Usage of abort_on_error is deprecated. Use abort_on_first instead.\n",
      "Usage of abort_on_error is deprecated. Use abort_on_first instead.\n",
      "Usage of abort_on_error is deprecated. Use abort_on_first instead.\n",
      "Usage of abort_on_error is deprecated. Use abort_on_first instead.\n",
      "Usage of abort_on_error is deprecated. Use abort_on_first instead.\n",
      "Usage of abort_on_error is deprecated. Use abort_on_first instead.\n",
      "Usage of abort_on_error is deprecated. Use abort_on_first instead.\n",
      "Usage of abort_on_error is deprecated. Use abort_on_first instead.\n",
      "Usage of abort_on_error is deprecated. Use abort_on_first instead.\n",
      "Usage of abort_on_error is deprecated. Use abort_on_first instead.\n",
      "Usage of abort_on_error is deprecated. Use abort_on_first instead.\n",
      "Usage of abort_on_error is deprecated. Use abort_on_first instead.\n",
      "Usage of abort_on_error is deprecated. Use abort_on_first instead.\n",
      "Usage of abort_on_error is deprecated. Use abort_on_first instead.\n",
      "Usage of abort_on_error is deprecated. Use abort_on_first instead.\n",
      "Usage of abort_on_error is deprecated. Use abort_on_first instead.\n",
      "Usage of abort_on_error is deprecated. Use abort_on_first instead.\n",
      "Usage of abort_on_error is deprecated. Use abort_on_first instead.\n",
      "Usage of abort_on_error is deprecated. Use abort_on_first instead.\n",
      "Usage of abort_on_error is deprecated. Use abort_on_first instead.\n",
      "Usage of abort_on_error is deprecated. Use abort_on_first instead.\n",
      "Usage of abort_on_error is deprecated. Use abort_on_first instead.\n",
      "Usage of abort_on_error is deprecated. Use abort_on_first instead.\n",
      "Usage of abort_on_error is deprecated. Use abort_on_first instead.\n",
      "Usage of abort_on_error is deprecated. Use abort_on_first instead.\n",
      "Usage of abort_on_error is deprecated. Use abort_on_first instead.\n",
      "Usage of abort_on_error is deprecated. Use abort_on_first instead.\n",
      "Usage of abort_on_error is deprecated. Use abort_on_first instead.\n",
      "Usage of abort_on_error is deprecated. Use abort_on_first instead.\n",
      "Usage of abort_on_error is deprecated. Use abort_on_first instead.\n",
      "Usage of abort_on_error is deprecated. Use abort_on_first instead.\n",
      "Usage of abort_on_error is deprecated. Use abort_on_first instead.\n",
      "Usage of abort_on_error is deprecated. Use abort_on_first instead.\n",
      "Usage of abort_on_error is deprecated. Use abort_on_first instead.\n",
      "Usage of abort_on_error is deprecated. Use abort_on_first instead.\n",
      "Usage of abort_on_error is deprecated. Use abort_on_first instead.\n",
      "Usage of abort_on_error is deprecated. Use abort_on_first instead.\n",
      "Usage of abort_on_error is deprecated. Use abort_on_first instead.\n",
      "Usage of abort_on_error is deprecated. Use abort_on_first instead.\n",
      "Usage of abort_on_error is deprecated. Use abort_on_first instead.\n",
      "Usage of abort_on_error is deprecated. Use abort_on_first instead.\n",
      "Usage of abort_on_error is deprecated. Use abort_on_first instead.\n",
      "Usage of abort_on_error is deprecated. Use abort_on_first instead.\n",
      "Usage of abort_on_error is deprecated. Use abort_on_first instead.\n",
      "Usage of abort_on_error is deprecated. Use abort_on_first instead.\n",
      "Usage of abort_on_error is deprecated. Use abort_on_first instead.\n",
      "Usage of abort_on_error is deprecated. Use abort_on_first instead.\n",
      "Usage of abort_on_error is deprecated. Use abort_on_first instead.\n",
      "Usage of abort_on_error is deprecated. Use abort_on_first instead.\n",
      "Usage of abort_on_error is deprecated. Use abort_on_first instead.\n",
      "Usage of abort_on_error is deprecated. Use abort_on_first instead.\n",
      "Usage of abort_on_error is deprecated. Use abort_on_first instead.\n",
      "Usage of abort_on_error is deprecated. Use abort_on_first instead.\n",
      "Usage of abort_on_error is deprecated. Use abort_on_first instead.\n",
      "Usage of abort_on_error is deprecated. Use abort_on_first instead.\n",
      "Usage of abort_on_error is deprecated. Use abort_on_first instead.\n",
      "Usage of abort_on_error is deprecated. Use abort_on_first instead.\n",
      "Usage of abort_on_error is deprecated. Use abort_on_first instead.\n",
      "Usage of abort_on_error is deprecated. Use abort_on_first instead.\n",
      "Usage of abort_on_error is deprecated. Use abort_on_first instead.\n",
      "Usage of abort_on_error is deprecated. Use abort_on_first instead.\n",
      "Usage of abort_on_error is deprecated. Use abort_on_first instead.\n",
      "Usage of abort_on_error is deprecated. Use abort_on_first instead.\n",
      "Usage of abort_on_error is deprecated. Use abort_on_first instead.\n",
      "Usage of abort_on_error is deprecated. Use abort_on_first instead.\n",
      "Usage of abort_on_error is deprecated. Use abort_on_first instead.\n",
      "Usage of abort_on_error is deprecated. Use abort_on_first instead.\n",
      "Usage of abort_on_error is deprecated. Use abort_on_first instead.\n",
      "Usage of abort_on_error is deprecated. Use abort_on_first instead.\n",
      "Usage of abort_on_error is deprecated. Use abort_on_first instead.\n",
      "Usage of abort_on_error is deprecated. Use abort_on_first instead.\n",
      "Usage of abort_on_error is deprecated. Use abort_on_first instead.\n",
      "Usage of abort_on_error is deprecated. Use abort_on_first instead.\n",
      "Usage of abort_on_error is deprecated. Use abort_on_first instead.\n",
      "Usage of abort_on_error is deprecated. Use abort_on_first instead.\n",
      "Usage of abort_on_error is deprecated. Use abort_on_first instead.\n",
      "Usage of abort_on_error is deprecated. Use abort_on_first instead.\n",
      "Usage of abort_on_error is deprecated. Use abort_on_first instead.\n",
      "Usage of abort_on_error is deprecated. Use abort_on_first instead.\n",
      "Usage of abort_on_error is deprecated. Use abort_on_first instead.\n",
      "Usage of abort_on_error is deprecated. Use abort_on_first instead.\n",
      "Usage of abort_on_error is deprecated. Use abort_on_first instead.\n",
      "Usage of abort_on_error is deprecated. Use abort_on_first instead.\n",
      "Usage of abort_on_error is deprecated. Use abort_on_first instead.\n",
      "Usage of abort_on_error is deprecated. Use abort_on_first instead.\n",
      "Usage of abort_on_error is deprecated. Use abort_on_first instead.\n",
      "Usage of abort_on_error is deprecated. Use abort_on_first instead.\n",
      "Usage of abort_on_error is deprecated. Use abort_on_first instead.\n",
      "Usage of abort_on_error is deprecated. Use abort_on_first instead.\n",
      "Usage of abort_on_error is deprecated. Use abort_on_first instead.\n",
      "Usage of abort_on_error is deprecated. Use abort_on_first instead.\n",
      "Usage of abort_on_error is deprecated. Use abort_on_first instead.\n",
      "Usage of abort_on_error is deprecated. Use abort_on_first instead.\n",
      "Usage of abort_on_error is deprecated. Use abort_on_first instead.\n",
      "Usage of abort_on_error is deprecated. Use abort_on_first instead.\n",
      "Usage of abort_on_error is deprecated. Use abort_on_first instead.\n",
      "Usage of abort_on_error is deprecated. Use abort_on_first instead.\n",
      "Usage of abort_on_error is deprecated. Use abort_on_first instead.\n",
      "Usage of abort_on_error is deprecated. Use abort_on_first instead.\n",
      "Usage of abort_on_error is deprecated. Use abort_on_first instead.\n",
      "Usage of abort_on_error is deprecated. Use abort_on_first instead.\n",
      "Usage of abort_on_error is deprecated. Use abort_on_first instead.\n",
      "Usage of abort_on_error is deprecated. Use abort_on_first instead.\n",
      "Usage of abort_on_error is deprecated. Use abort_on_first instead.\n",
      "Usage of abort_on_error is deprecated. Use abort_on_first instead.\n",
      "Usage of abort_on_error is deprecated. Use abort_on_first instead.\n",
      "Usage of abort_on_error is deprecated. Use abort_on_first instead.\n",
      "Usage of abort_on_error is deprecated. Use abort_on_first instead.\n",
      "Usage of abort_on_error is deprecated. Use abort_on_first instead.\n",
      "Usage of abort_on_error is deprecated. Use abort_on_first instead.\n",
      "Usage of abort_on_error is deprecated. Use abort_on_first instead.\n",
      "Usage of abort_on_error is deprecated. Use abort_on_first instead.\n",
      "Usage of abort_on_error is deprecated. Use abort_on_first instead.\n",
      "Usage of abort_on_error is deprecated. Use abort_on_first instead.\n",
      "Usage of abort_on_error is deprecated. Use abort_on_first instead.\n",
      "Usage of abort_on_error is deprecated. Use abort_on_first instead.\n",
      "Usage of abort_on_error is deprecated. Use abort_on_first instead.\n",
      "Usage of abort_on_error is deprecated. Use abort_on_first instead.\n",
      "Usage of abort_on_error is deprecated. Use abort_on_first instead.\n",
      "Usage of abort_on_error is deprecated. Use abort_on_first instead.\n",
      "Usage of abort_on_error is deprecated. Use abort_on_first instead.\n",
      "Usage of abort_on_error is deprecated. Use abort_on_first instead.\n",
      "Usage of abort_on_error is deprecated. Use abort_on_first instead.\n",
      "Usage of abort_on_error is deprecated. Use abort_on_first instead.\n",
      "Usage of abort_on_error is deprecated. Use abort_on_first instead.\n",
      "Usage of abort_on_error is deprecated. Use abort_on_first instead.\n",
      "Usage of abort_on_error is deprecated. Use abort_on_first instead.\n",
      "Usage of abort_on_error is deprecated. Use abort_on_first instead.\n",
      "Usage of abort_on_error is deprecated. Use abort_on_first instead.\n",
      "Usage of abort_on_error is deprecated. Use abort_on_first instead.\n",
      "Usage of abort_on_error is deprecated. Use abort_on_first instead.\n",
      "Usage of abort_on_error is deprecated. Use abort_on_first instead.\n",
      "Usage of abort_on_error is deprecated. Use abort_on_first instead.\n",
      "Usage of abort_on_error is deprecated. Use abort_on_first instead.\n",
      "Usage of abort_on_error is deprecated. Use abort_on_first instead.\n",
      "Usage of abort_on_error is deprecated. Use abort_on_first instead.\n",
      "Usage of abort_on_error is deprecated. Use abort_on_first instead.\n",
      "Usage of abort_on_error is deprecated. Use abort_on_first instead.\n",
      "Usage of abort_on_error is deprecated. Use abort_on_first instead.\n",
      "Usage of abort_on_error is deprecated. Use abort_on_first instead.\n",
      "Usage of abort_on_error is deprecated. Use abort_on_first instead.\n",
      "Usage of abort_on_error is deprecated. Use abort_on_first instead.\n",
      "Usage of abort_on_error is deprecated. Use abort_on_first instead.\n",
      "Usage of abort_on_error is deprecated. Use abort_on_first instead.\n",
      "Usage of abort_on_error is deprecated. Use abort_on_first instead.\n",
      "Usage of abort_on_error is deprecated. Use abort_on_first instead.\n",
      "Usage of abort_on_error is deprecated. Use abort_on_first instead.\n",
      "Usage of abort_on_error is deprecated. Use abort_on_first instead.\n",
      "Usage of abort_on_error is deprecated. Use abort_on_first instead.\n",
      "Usage of abort_on_error is deprecated. Use abort_on_first instead.\n",
      "Usage of abort_on_error is deprecated. Use abort_on_first instead.\n",
      "Usage of abort_on_error is deprecated. Use abort_on_first instead.\n",
      "Usage of abort_on_error is deprecated. Use abort_on_first instead.\n",
      "Usage of abort_on_error is deprecated. Use abort_on_first instead.\n",
      "Usage of abort_on_error is deprecated. Use abort_on_first instead.\n",
      "Usage of abort_on_error is deprecated. Use abort_on_first instead.\n",
      "Usage of abort_on_error is deprecated. Use abort_on_first instead.\n",
      "Usage of abort_on_error is deprecated. Use abort_on_first instead.\n",
      "Usage of abort_on_error is deprecated. Use abort_on_first instead.\n",
      "Usage of abort_on_error is deprecated. Use abort_on_first instead.\n",
      "Usage of abort_on_error is deprecated. Use abort_on_first instead.\n",
      "Usage of abort_on_error is deprecated. Use abort_on_first instead.\n",
      "Usage of abort_on_error is deprecated. Use abort_on_first instead.\n",
      "Usage of abort_on_error is deprecated. Use abort_on_first instead.\n",
      "Usage of abort_on_error is deprecated. Use abort_on_first instead.\n",
      "Usage of abort_on_error is deprecated. Use abort_on_first instead.\n",
      "Usage of abort_on_error is deprecated. Use abort_on_first instead.\n",
      "Usage of abort_on_error is deprecated. Use abort_on_first instead.\n",
      "Usage of abort_on_error is deprecated. Use abort_on_first instead.\n",
      "Usage of abort_on_error is deprecated. Use abort_on_first instead.\n",
      "Usage of abort_on_error is deprecated. Use abort_on_first instead.\n",
      "Usage of abort_on_error is deprecated. Use abort_on_first instead.\n",
      "Usage of abort_on_error is deprecated. Use abort_on_first instead.\n",
      "Usage of abort_on_error is deprecated. Use abort_on_first instead.\n",
      "Usage of abort_on_error is deprecated. Use abort_on_first instead.\n",
      "Usage of abort_on_error is deprecated. Use abort_on_first instead.\n",
      "Usage of abort_on_error is deprecated. Use abort_on_first instead.\n",
      "Usage of abort_on_error is deprecated. Use abort_on_first instead.\n",
      "Usage of abort_on_error is deprecated. Use abort_on_first instead.\n",
      "Usage of abort_on_error is deprecated. Use abort_on_first instead.\n",
      "Usage of abort_on_error is deprecated. Use abort_on_first instead.\n",
      "Usage of abort_on_error is deprecated. Use abort_on_first instead.\n",
      "Usage of abort_on_error is deprecated. Use abort_on_first instead.\n",
      "Usage of abort_on_error is deprecated. Use abort_on_first instead.\n",
      "Usage of abort_on_error is deprecated. Use abort_on_first instead.\n",
      "Usage of abort_on_error is deprecated. Use abort_on_first instead.\n",
      "Usage of abort_on_error is deprecated. Use abort_on_first instead.\n",
      "Usage of abort_on_error is deprecated. Use abort_on_first instead.\n",
      "Usage of abort_on_error is deprecated. Use abort_on_first instead.\n",
      "Usage of abort_on_error is deprecated. Use abort_on_first instead.\n",
      "Usage of abort_on_error is deprecated. Use abort_on_first instead.\n",
      "Usage of abort_on_error is deprecated. Use abort_on_first instead.\n",
      "Usage of abort_on_error is deprecated. Use abort_on_first instead.\n",
      "Usage of abort_on_error is deprecated. Use abort_on_first instead.\n",
      "Usage of abort_on_error is deprecated. Use abort_on_first instead.\n",
      "Usage of abort_on_error is deprecated. Use abort_on_first instead.\n",
      "Usage of abort_on_error is deprecated. Use abort_on_first instead.\n",
      "Usage of abort_on_error is deprecated. Use abort_on_first instead.\n",
      "Usage of abort_on_error is deprecated. Use abort_on_first instead.\n",
      "Usage of abort_on_error is deprecated. Use abort_on_first instead.\n",
      "Usage of abort_on_error is deprecated. Use abort_on_first instead.\n",
      "Usage of abort_on_error is deprecated. Use abort_on_first instead.\n",
      "Usage of abort_on_error is deprecated. Use abort_on_first instead.\n",
      "Usage of abort_on_error is deprecated. Use abort_on_first instead.\n",
      "Usage of abort_on_error is deprecated. Use abort_on_first instead.\n",
      "Usage of abort_on_error is deprecated. Use abort_on_first instead.\n",
      "Usage of abort_on_error is deprecated. Use abort_on_first instead.\n",
      "Usage of abort_on_error is deprecated. Use abort_on_first instead.\n",
      "Usage of abort_on_error is deprecated. Use abort_on_first instead.\n",
      "Usage of abort_on_error is deprecated. Use abort_on_first instead.\n",
      "Usage of abort_on_error is deprecated. Use abort_on_first instead.\n",
      "Usage of abort_on_error is deprecated. Use abort_on_first instead.\n",
      "Usage of abort_on_error is deprecated. Use abort_on_first instead.\n",
      "Usage of abort_on_error is deprecated. Use abort_on_first instead.\n",
      "Usage of abort_on_error is deprecated. Use abort_on_first instead.\n",
      "Usage of abort_on_error is deprecated. Use abort_on_first instead.\n",
      "Usage of abort_on_error is deprecated. Use abort_on_first instead.\n",
      "Usage of abort_on_error is deprecated. Use abort_on_first instead.\n",
      "Usage of abort_on_error is deprecated. Use abort_on_first instead.\n",
      "Usage of abort_on_error is deprecated. Use abort_on_first instead.\n",
      "Usage of abort_on_error is deprecated. Use abort_on_first instead.\n",
      "Usage of abort_on_error is deprecated. Use abort_on_first instead.\n",
      "Usage of abort_on_error is deprecated. Use abort_on_first instead.\n",
      "Usage of abort_on_error is deprecated. Use abort_on_first instead.\n",
      "Usage of abort_on_error is deprecated. Use abort_on_first instead.\n",
      "Usage of abort_on_error is deprecated. Use abort_on_first instead.\n",
      "Usage of abort_on_error is deprecated. Use abort_on_first instead.\n",
      "Usage of abort_on_error is deprecated. Use abort_on_first instead.\n",
      "Usage of abort_on_error is deprecated. Use abort_on_first instead.\n",
      "Usage of abort_on_error is deprecated. Use abort_on_first instead.\n",
      "Usage of abort_on_error is deprecated. Use abort_on_first instead.\n",
      "Usage of abort_on_error is deprecated. Use abort_on_first instead.\n",
      "Usage of abort_on_error is deprecated. Use abort_on_first instead.\n",
      "Usage of abort_on_error is deprecated. Use abort_on_first instead.\n",
      "Usage of abort_on_error is deprecated. Use abort_on_first instead.\n",
      "Usage of abort_on_error is deprecated. Use abort_on_first instead.\n",
      "Usage of abort_on_error is deprecated. Use abort_on_first instead.\n",
      "Usage of abort_on_error is deprecated. Use abort_on_first instead.\n",
      "Usage of abort_on_error is deprecated. Use abort_on_first instead.\n",
      "Usage of abort_on_error is deprecated. Use abort_on_first instead.\n",
      "Usage of abort_on_error is deprecated. Use abort_on_first instead.\n",
      "Usage of abort_on_error is deprecated. Use abort_on_first instead.\n",
      "Usage of abort_on_error is deprecated. Use abort_on_first instead.\n",
      "Usage of abort_on_error is deprecated. Use abort_on_first instead.\n",
      "Usage of abort_on_error is deprecated. Use abort_on_first instead.\n",
      "Usage of abort_on_error is deprecated. Use abort_on_first instead.\n",
      "Usage of abort_on_error is deprecated. Use abort_on_first instead.\n",
      "Usage of abort_on_error is deprecated. Use abort_on_first instead.\n",
      "Usage of abort_on_error is deprecated. Use abort_on_first instead.\n",
      "Usage of abort_on_error is deprecated. Use abort_on_first instead.\n",
      "Usage of abort_on_error is deprecated. Use abort_on_first instead.\n",
      "Usage of abort_on_error is deprecated. Use abort_on_first instead.\n",
      "Usage of abort_on_error is deprecated. Use abort_on_first instead.\n",
      "Usage of abort_on_error is deprecated. Use abort_on_first instead.\n",
      "Usage of abort_on_error is deprecated. Use abort_on_first instead.\n",
      "Usage of abort_on_error is deprecated. Use abort_on_first instead.\n",
      "Usage of abort_on_error is deprecated. Use abort_on_first instead.\n",
      "Usage of abort_on_error is deprecated. Use abort_on_first instead.\n",
      "Usage of abort_on_error is deprecated. Use abort_on_first instead.\n",
      "Usage of abort_on_error is deprecated. Use abort_on_first instead.\n",
      "Usage of abort_on_error is deprecated. Use abort_on_first instead.\n",
      "Usage of abort_on_error is deprecated. Use abort_on_first instead.\n",
      "Usage of abort_on_error is deprecated. Use abort_on_first instead.\n",
      "Usage of abort_on_error is deprecated. Use abort_on_first instead.\n",
      "Usage of abort_on_error is deprecated. Use abort_on_first instead.\n",
      "Usage of abort_on_error is deprecated. Use abort_on_first instead.\n",
      "Usage of abort_on_error is deprecated. Use abort_on_first instead.\n",
      "Usage of abort_on_error is deprecated. Use abort_on_first instead.\n",
      "Usage of abort_on_error is deprecated. Use abort_on_first instead.\n",
      "Usage of abort_on_error is deprecated. Use abort_on_first instead.\n",
      "Usage of abort_on_error is deprecated. Use abort_on_first instead.\n",
      "Usage of abort_on_error is deprecated. Use abort_on_first instead.\n",
      "Usage of abort_on_error is deprecated. Use abort_on_first instead.\n",
      "Usage of abort_on_error is deprecated. Use abort_on_first instead.\n",
      "Usage of abort_on_error is deprecated. Use abort_on_first instead.\n",
      "Usage of abort_on_error is deprecated. Use abort_on_first instead.\n",
      "Usage of abort_on_error is deprecated. Use abort_on_first instead.\n",
      "Usage of abort_on_error is deprecated. Use abort_on_first instead.\n",
      "Usage of abort_on_error is deprecated. Use abort_on_first instead.\n",
      "Usage of abort_on_error is deprecated. Use abort_on_first instead.\n",
      "Usage of abort_on_error is deprecated. Use abort_on_first instead.\n",
      "Usage of abort_on_error is deprecated. Use abort_on_first instead.\n",
      "Usage of abort_on_error is deprecated. Use abort_on_first instead.\n",
      "Usage of abort_on_error is deprecated. Use abort_on_first instead.\n",
      "Usage of abort_on_error is deprecated. Use abort_on_first instead.\n",
      "Usage of abort_on_error is deprecated. Use abort_on_first instead.\n",
      "Usage of abort_on_error is deprecated. Use abort_on_first instead.\n",
      "Usage of abort_on_error is deprecated. Use abort_on_first instead.\n",
      "Usage of abort_on_error is deprecated. Use abort_on_first instead.\n",
      "Usage of abort_on_error is deprecated. Use abort_on_first instead.\n",
      "Usage of abort_on_error is deprecated. Use abort_on_first instead.\n",
      "Usage of abort_on_error is deprecated. Use abort_on_first instead.\n",
      "Usage of abort_on_error is deprecated. Use abort_on_first instead.\n",
      "Usage of abort_on_error is deprecated. Use abort_on_first instead.\n",
      "Usage of abort_on_error is deprecated. Use abort_on_first instead.\n",
      "Usage of abort_on_error is deprecated. Use abort_on_first instead.\n",
      "Usage of abort_on_error is deprecated. Use abort_on_first instead.\n",
      "Usage of abort_on_error is deprecated. Use abort_on_first instead.\n",
      "Usage of abort_on_error is deprecated. Use abort_on_first instead.\n",
      "Usage of abort_on_error is deprecated. Use abort_on_first instead.\n",
      "Usage of abort_on_error is deprecated. Use abort_on_first instead.\n",
      "Usage of abort_on_error is deprecated. Use abort_on_first instead.\n",
      "Usage of abort_on_error is deprecated. Use abort_on_first instead.\n",
      "Usage of abort_on_error is deprecated. Use abort_on_first instead.\n",
      "Usage of abort_on_error is deprecated. Use abort_on_first instead.\n",
      "Usage of abort_on_error is deprecated. Use abort_on_first instead.\n",
      "Usage of abort_on_error is deprecated. Use abort_on_first instead.\n",
      "Usage of abort_on_error is deprecated. Use abort_on_first instead.\n",
      "Usage of abort_on_error is deprecated. Use abort_on_first instead.\n",
      "Usage of abort_on_error is deprecated. Use abort_on_first instead.\n",
      "Usage of abort_on_error is deprecated. Use abort_on_first instead.\n",
      "Usage of abort_on_error is deprecated. Use abort_on_first instead.\n",
      "Usage of abort_on_error is deprecated. Use abort_on_first instead.\n",
      "Usage of abort_on_error is deprecated. Use abort_on_first instead.\n",
      "Usage of abort_on_error is deprecated. Use abort_on_first instead.\n",
      "Usage of abort_on_error is deprecated. Use abort_on_first instead.\n",
      "Usage of abort_on_error is deprecated. Use abort_on_first instead.\n",
      "Usage of abort_on_error is deprecated. Use abort_on_first instead.\n"
     ]
    }
   ],
   "source": [
    "%%capture\n",
    "%%time\n",
    "\n",
    "fns = oss.ls('gleaner/summoned/opentopo')\n",
    "o = [read_and_validate(f) for f in fns]\n",
    "\n",
    "results = dask.compute(*o)  ## Wait..  can I just dask.compute(o)  ????"
   ]
  },
  {
   "cell_type": "markdown",
   "metadata": {},
   "source": [
    "### Loop on results and load to graph"
   ]
  },
  {
   "cell_type": "code",
   "execution_count": 9,
   "metadata": {},
   "outputs": [],
   "source": [
    "rnamespaces = {\n",
    "    \"schema\":  \"https://schema.org/\",\n",
    "    \"shacl\":   \"http://www.w3.org/ns/shacl#\" ,\n",
    "}\n",
    "\n",
    "rkg = kglab.KnowledgeGraph(\n",
    "    name = \"Schema.org shacl eval datagraph\",\n",
    "    base_uri = \"https://example.org/id/\",\n",
    "    namespaces = rnamespaces,\n",
    ")\n",
    "\n",
    "for r in results:\n",
    "    rkg.load_rdf_text(data=r, format=\"ttl\")"
   ]
  },
  {
   "cell_type": "code",
   "execution_count": 10,
   "metadata": {
    "collapsed": false,
    "jupyter": {
     "outputs_hidden": false
    },
    "pycharm": {
     "name": "#%%\n"
    }
   },
   "outputs": [],
   "source": [
    "sparql = \"\"\"\n",
    "SELECT ?path ?value ?constraint ?severity ?message ?id ?focus\n",
    "  WHERE {\n",
    "    ?id rdf:type shacl:ValidationResult .\n",
    "    ?id shacl:focusNode ?focus .\n",
    "    ?id shacl:resultMessage ?message .\n",
    "    ?id shacl:resultSeverity ?severity .\n",
    "    ?id shacl:sourceConstraintComponent ?constraint .\n",
    "    OPTIONAL {\n",
    "        ?id shacl:resultPath ?path .\n",
    "    }\n",
    "    OPTIONAL {\n",
    "        ?id shacl:value ?value .\n",
    "    }\n",
    "  }\n",
    "\"\"\"\n",
    "\n",
    "df = rkg.query_as_df(sparql)"
   ]
  },
  {
   "cell_type": "code",
   "execution_count": 11,
   "metadata": {
    "collapsed": false,
    "jupyter": {
     "outputs_hidden": false
    },
    "pycharm": {
     "name": "#%%\n"
    }
   },
   "outputs": [
    {
     "name": "stdout",
     "output_type": "stream",
     "text": [
      "<class 'pandas.core.frame.DataFrame'>\n",
      "RangeIndex: 666 entries, 0 to 665\n",
      "Data columns (total 6 columns):\n",
      " #   Column      Non-Null Count  Dtype \n",
      "---  ------      --------------  ----- \n",
      " 0   path        666 non-null    object\n",
      " 1   constraint  666 non-null    object\n",
      " 2   severity    666 non-null    object\n",
      " 3   message     666 non-null    object\n",
      " 4   id          666 non-null    object\n",
      " 5   focus       666 non-null    object\n",
      "dtypes: object(6)\n",
      "memory usage: 31.3+ KB\n"
     ]
    },
    {
     "data": {
      "text/html": [
       "<div>\n",
       "<style scoped>\n",
       "    .dataframe tbody tr th:only-of-type {\n",
       "        vertical-align: middle;\n",
       "    }\n",
       "\n",
       "    .dataframe tbody tr th {\n",
       "        vertical-align: top;\n",
       "    }\n",
       "\n",
       "    .dataframe thead th {\n",
       "        text-align: right;\n",
       "    }\n",
       "</style>\n",
       "<table border=\"1\" class=\"dataframe\">\n",
       "  <thead>\n",
       "    <tr style=\"text-align: right;\">\n",
       "      <th></th>\n",
       "      <th>path</th>\n",
       "      <th>constraint</th>\n",
       "      <th>severity</th>\n",
       "      <th>message</th>\n",
       "      <th>id</th>\n",
       "      <th>focus</th>\n",
       "    </tr>\n",
       "  </thead>\n",
       "  <tbody>\n",
       "    <tr>\n",
       "      <th>0</th>\n",
       "      <td>schema1:provider</td>\n",
       "      <td>shacl:MinCountConstraintComponent</td>\n",
       "      <td>shacl:Violation</td>\n",
       "      <td>A provider must be noted</td>\n",
       "      <td>_:nbd208ffdbe4442718637f2da32f484fdb2</td>\n",
       "      <td>&lt;https://portal.opentopography.org/dataspace/dataset?opentopoID=OTDS.122019.4326.2&gt;</td>\n",
       "    </tr>\n",
       "    <tr>\n",
       "      <th>1</th>\n",
       "      <td>schema1:provider</td>\n",
       "      <td>shacl:MinCountConstraintComponent</td>\n",
       "      <td>shacl:Violation</td>\n",
       "      <td>A provider must be noted</td>\n",
       "      <td>_:n5b494ca8cb0d4bfd99f36a2abe7cad75b2</td>\n",
       "      <td>&lt;https://portal.opentopography.org/raster?opentopoID=OTSDEM.052020.6341.1&gt;</td>\n",
       "    </tr>\n",
       "    <tr>\n",
       "      <th>2</th>\n",
       "      <td>schema1:provider</td>\n",
       "      <td>shacl:MinCountConstraintComponent</td>\n",
       "      <td>shacl:Violation</td>\n",
       "      <td>A provider must be noted</td>\n",
       "      <td>_:n1606222854254654a3278f654b7d18eeb2</td>\n",
       "      <td>&lt;https://portal.opentopography.org/dataspace/dataset?opentopoID=OTDS.062019.32736.1&gt;</td>\n",
       "    </tr>\n",
       "    <tr>\n",
       "      <th>3</th>\n",
       "      <td>schema1:provider</td>\n",
       "      <td>shacl:MinCountConstraintComponent</td>\n",
       "      <td>shacl:Violation</td>\n",
       "      <td>A provider must be noted</td>\n",
       "      <td>_:n3835f3599b494effb0fec9e2d6608377b2</td>\n",
       "      <td>&lt;https://portal.opentopography.org/lidarDataset?opentopoID=OTLAS.032012.26916.1&gt;</td>\n",
       "    </tr>\n",
       "    <tr>\n",
       "      <th>4</th>\n",
       "      <td>schema1:provider</td>\n",
       "      <td>shacl:MinCountConstraintComponent</td>\n",
       "      <td>shacl:Violation</td>\n",
       "      <td>A provider must be noted</td>\n",
       "      <td>_:nde6f468f1eb84b4da65645fef29784afb2</td>\n",
       "      <td>&lt;https://portal.opentopography.org/dataspace/dataset?opentopoID=OTDS.062020.32611.1&gt;</td>\n",
       "    </tr>\n",
       "    <tr>\n",
       "      <th>5</th>\n",
       "      <td>schema1:provider</td>\n",
       "      <td>shacl:MinCountConstraintComponent</td>\n",
       "      <td>shacl:Violation</td>\n",
       "      <td>A provider must be noted</td>\n",
       "      <td>_:n6e3943fa728a48d3972d9d890460fbcdb2</td>\n",
       "      <td>&lt;https://portal.opentopography.org/raster?opentopoID=OTSDEM.032011.26910.1&gt;</td>\n",
       "    </tr>\n",
       "    <tr>\n",
       "      <th>6</th>\n",
       "      <td>schema1:provider</td>\n",
       "      <td>shacl:MinCountConstraintComponent</td>\n",
       "      <td>shacl:Violation</td>\n",
       "      <td>A provider must be noted</td>\n",
       "      <td>_:nd1e453e161f743d48f10392c64844045b2</td>\n",
       "      <td>&lt;https://portal.opentopography.org/lidarDataset?opentopoID=OTLAS.072018.6635.1&gt;</td>\n",
       "    </tr>\n",
       "    <tr>\n",
       "      <th>7</th>\n",
       "      <td>schema1:provider</td>\n",
       "      <td>shacl:MinCountConstraintComponent</td>\n",
       "      <td>shacl:Violation</td>\n",
       "      <td>A provider must be noted</td>\n",
       "      <td>_:n6a933a58d7324b078080b8de1768110cb2</td>\n",
       "      <td>&lt;https://portal.opentopography.org/raster?opentopoID=OTSDEM.082016.26913.3&gt;</td>\n",
       "    </tr>\n",
       "    <tr>\n",
       "      <th>8</th>\n",
       "      <td>schema1:provider</td>\n",
       "      <td>shacl:MinCountConstraintComponent</td>\n",
       "      <td>shacl:Violation</td>\n",
       "      <td>A provider must be noted</td>\n",
       "      <td>_:nc6b3ab29f89043ecbd5166667138f3cbb2</td>\n",
       "      <td>&lt;https://portal.opentopography.org/raster?opentopoID=OTSDEM.122019.2229.1&gt;</td>\n",
       "    </tr>\n",
       "    <tr>\n",
       "      <th>9</th>\n",
       "      <td>schema1:provider</td>\n",
       "      <td>shacl:MinCountConstraintComponent</td>\n",
       "      <td>shacl:Violation</td>\n",
       "      <td>A provider must be noted</td>\n",
       "      <td>_:n5fbcf6e7b6694678829105fc49007ca7b2</td>\n",
       "      <td>&lt;https://portal.opentopography.org/lidarDataset?opentopoID=OTLAS.032017.26911.1&gt;</td>\n",
       "    </tr>\n",
       "  </tbody>\n",
       "</table>\n",
       "</div>"
      ],
      "text/plain": [
       "               path                         constraint         severity  \\\n",
       "0  schema1:provider  shacl:MinCountConstraintComponent  shacl:Violation   \n",
       "1  schema1:provider  shacl:MinCountConstraintComponent  shacl:Violation   \n",
       "2  schema1:provider  shacl:MinCountConstraintComponent  shacl:Violation   \n",
       "3  schema1:provider  shacl:MinCountConstraintComponent  shacl:Violation   \n",
       "4  schema1:provider  shacl:MinCountConstraintComponent  shacl:Violation   \n",
       "5  schema1:provider  shacl:MinCountConstraintComponent  shacl:Violation   \n",
       "6  schema1:provider  shacl:MinCountConstraintComponent  shacl:Violation   \n",
       "7  schema1:provider  shacl:MinCountConstraintComponent  shacl:Violation   \n",
       "8  schema1:provider  shacl:MinCountConstraintComponent  shacl:Violation   \n",
       "9  schema1:provider  shacl:MinCountConstraintComponent  shacl:Violation   \n",
       "\n",
       "                    message                                     id  \\\n",
       "0  A provider must be noted  _:nbd208ffdbe4442718637f2da32f484fdb2   \n",
       "1  A provider must be noted  _:n5b494ca8cb0d4bfd99f36a2abe7cad75b2   \n",
       "2  A provider must be noted  _:n1606222854254654a3278f654b7d18eeb2   \n",
       "3  A provider must be noted  _:n3835f3599b494effb0fec9e2d6608377b2   \n",
       "4  A provider must be noted  _:nde6f468f1eb84b4da65645fef29784afb2   \n",
       "5  A provider must be noted  _:n6e3943fa728a48d3972d9d890460fbcdb2   \n",
       "6  A provider must be noted  _:nd1e453e161f743d48f10392c64844045b2   \n",
       "7  A provider must be noted  _:n6a933a58d7324b078080b8de1768110cb2   \n",
       "8  A provider must be noted  _:nc6b3ab29f89043ecbd5166667138f3cbb2   \n",
       "9  A provider must be noted  _:n5fbcf6e7b6694678829105fc49007ca7b2   \n",
       "\n",
       "                                                                                  focus  \n",
       "0   <https://portal.opentopography.org/dataspace/dataset?opentopoID=OTDS.122019.4326.2>  \n",
       "1            <https://portal.opentopography.org/raster?opentopoID=OTSDEM.052020.6341.1>  \n",
       "2  <https://portal.opentopography.org/dataspace/dataset?opentopoID=OTDS.062019.32736.1>  \n",
       "3      <https://portal.opentopography.org/lidarDataset?opentopoID=OTLAS.032012.26916.1>  \n",
       "4  <https://portal.opentopography.org/dataspace/dataset?opentopoID=OTDS.062020.32611.1>  \n",
       "5           <https://portal.opentopography.org/raster?opentopoID=OTSDEM.032011.26910.1>  \n",
       "6       <https://portal.opentopography.org/lidarDataset?opentopoID=OTLAS.072018.6635.1>  \n",
       "7           <https://portal.opentopography.org/raster?opentopoID=OTSDEM.082016.26913.3>  \n",
       "8            <https://portal.opentopography.org/raster?opentopoID=OTSDEM.122019.2229.1>  \n",
       "9      <https://portal.opentopography.org/lidarDataset?opentopoID=OTLAS.032017.26911.1>  "
      ]
     },
     "execution_count": 11,
     "metadata": {},
     "output_type": "execute_result"
    }
   ],
   "source": [
    "pdf = df.to_pandas()\n",
    "# pdf.style.apply(change_color_group, axis=None)\n",
    "pdf.info()\n",
    "pdf.head(10)"
   ]
  },
  {
   "cell_type": "code",
   "execution_count": 12,
   "metadata": {
    "collapsed": false,
    "jupyter": {
     "outputs_hidden": false
    },
    "pycharm": {
     "name": "#%%\n"
    }
   },
   "outputs": [
    {
     "data": {
      "text/plain": [
       "A provider must be noted    666\n",
       "Name: message, dtype: int64"
      ]
     },
     "execution_count": 12,
     "metadata": {},
     "output_type": "execute_result"
    }
   ],
   "source": [
    "pdf[\"severity\"].value_counts()\n",
    "pdf[\"focus\"].value_counts()\n",
    "pdf[\"message\"].value_counts()"
   ]
  },
  {
   "cell_type": "code",
   "execution_count": 16,
   "metadata": {},
   "outputs": [
    {
     "data": {
      "application/vnd.plotly.v1+json": {
       "config": {
        "plotlyServerURL": "https://plot.ly"
       },
       "data": [
        {
         "branchvalues": "total",
         "domain": {
          "x": [
           0,
           1
          ],
          "y": [
           0,
           1
          ]
         },
         "hovertemplate": "labels=%{label}<br>count=%{value}<br>parent=%{parent}<br>id=%{id}<extra></extra>",
         "ids": [
          "all/schema1:provider/shacl:MinCountConstraintComponent/shacl:Violation/A provider must be noted",
          "all/schema1:provider/shacl:MinCountConstraintComponent/shacl:Violation",
          "all/schema1:provider/shacl:MinCountConstraintComponent",
          "all/schema1:provider",
          "all"
         ],
         "labels": [
          "A provider must be noted",
          "shacl:Violation",
          "shacl:MinCountConstraintComponent",
          "schema1:provider",
          "all"
         ],
         "name": "",
         "parents": [
          "all/schema1:provider/shacl:MinCountConstraintComponent/shacl:Violation",
          "all/schema1:provider/shacl:MinCountConstraintComponent",
          "all/schema1:provider",
          "all",
          ""
         ],
         "type": "treemap",
         "values": [
          666,
          666,
          666,
          666,
          666
         ]
        }
       ],
       "layout": {
        "autosize": true,
        "legend": {
         "tracegroupgap": 0
        },
        "margin": {
         "b": 25,
         "l": 25,
         "r": 25,
         "t": 50
        },
        "template": {
         "data": {
          "bar": [
           {
            "error_x": {
             "color": "#2a3f5f"
            },
            "error_y": {
             "color": "#2a3f5f"
            },
            "marker": {
             "line": {
              "color": "#E5ECF6",
              "width": 0.5
             },
             "pattern": {
              "fillmode": "overlay",
              "size": 10,
              "solidity": 0.2
             }
            },
            "type": "bar"
           }
          ],
          "barpolar": [
           {
            "marker": {
             "line": {
              "color": "#E5ECF6",
              "width": 0.5
             },
             "pattern": {
              "fillmode": "overlay",
              "size": 10,
              "solidity": 0.2
             }
            },
            "type": "barpolar"
           }
          ],
          "carpet": [
           {
            "aaxis": {
             "endlinecolor": "#2a3f5f",
             "gridcolor": "white",
             "linecolor": "white",
             "minorgridcolor": "white",
             "startlinecolor": "#2a3f5f"
            },
            "baxis": {
             "endlinecolor": "#2a3f5f",
             "gridcolor": "white",
             "linecolor": "white",
             "minorgridcolor": "white",
             "startlinecolor": "#2a3f5f"
            },
            "type": "carpet"
           }
          ],
          "choropleth": [
           {
            "colorbar": {
             "outlinewidth": 0,
             "ticks": ""
            },
            "type": "choropleth"
           }
          ],
          "contour": [
           {
            "colorbar": {
             "outlinewidth": 0,
             "ticks": ""
            },
            "colorscale": [
             [
              0,
              "#0d0887"
             ],
             [
              0.1111111111111111,
              "#46039f"
             ],
             [
              0.2222222222222222,
              "#7201a8"
             ],
             [
              0.3333333333333333,
              "#9c179e"
             ],
             [
              0.4444444444444444,
              "#bd3786"
             ],
             [
              0.5555555555555556,
              "#d8576b"
             ],
             [
              0.6666666666666666,
              "#ed7953"
             ],
             [
              0.7777777777777778,
              "#fb9f3a"
             ],
             [
              0.8888888888888888,
              "#fdca26"
             ],
             [
              1,
              "#f0f921"
             ]
            ],
            "type": "contour"
           }
          ],
          "contourcarpet": [
           {
            "colorbar": {
             "outlinewidth": 0,
             "ticks": ""
            },
            "type": "contourcarpet"
           }
          ],
          "heatmap": [
           {
            "colorbar": {
             "outlinewidth": 0,
             "ticks": ""
            },
            "colorscale": [
             [
              0,
              "#0d0887"
             ],
             [
              0.1111111111111111,
              "#46039f"
             ],
             [
              0.2222222222222222,
              "#7201a8"
             ],
             [
              0.3333333333333333,
              "#9c179e"
             ],
             [
              0.4444444444444444,
              "#bd3786"
             ],
             [
              0.5555555555555556,
              "#d8576b"
             ],
             [
              0.6666666666666666,
              "#ed7953"
             ],
             [
              0.7777777777777778,
              "#fb9f3a"
             ],
             [
              0.8888888888888888,
              "#fdca26"
             ],
             [
              1,
              "#f0f921"
             ]
            ],
            "type": "heatmap"
           }
          ],
          "heatmapgl": [
           {
            "colorbar": {
             "outlinewidth": 0,
             "ticks": ""
            },
            "colorscale": [
             [
              0,
              "#0d0887"
             ],
             [
              0.1111111111111111,
              "#46039f"
             ],
             [
              0.2222222222222222,
              "#7201a8"
             ],
             [
              0.3333333333333333,
              "#9c179e"
             ],
             [
              0.4444444444444444,
              "#bd3786"
             ],
             [
              0.5555555555555556,
              "#d8576b"
             ],
             [
              0.6666666666666666,
              "#ed7953"
             ],
             [
              0.7777777777777778,
              "#fb9f3a"
             ],
             [
              0.8888888888888888,
              "#fdca26"
             ],
             [
              1,
              "#f0f921"
             ]
            ],
            "type": "heatmapgl"
           }
          ],
          "histogram": [
           {
            "marker": {
             "pattern": {
              "fillmode": "overlay",
              "size": 10,
              "solidity": 0.2
             }
            },
            "type": "histogram"
           }
          ],
          "histogram2d": [
           {
            "colorbar": {
             "outlinewidth": 0,
             "ticks": ""
            },
            "colorscale": [
             [
              0,
              "#0d0887"
             ],
             [
              0.1111111111111111,
              "#46039f"
             ],
             [
              0.2222222222222222,
              "#7201a8"
             ],
             [
              0.3333333333333333,
              "#9c179e"
             ],
             [
              0.4444444444444444,
              "#bd3786"
             ],
             [
              0.5555555555555556,
              "#d8576b"
             ],
             [
              0.6666666666666666,
              "#ed7953"
             ],
             [
              0.7777777777777778,
              "#fb9f3a"
             ],
             [
              0.8888888888888888,
              "#fdca26"
             ],
             [
              1,
              "#f0f921"
             ]
            ],
            "type": "histogram2d"
           }
          ],
          "histogram2dcontour": [
           {
            "colorbar": {
             "outlinewidth": 0,
             "ticks": ""
            },
            "colorscale": [
             [
              0,
              "#0d0887"
             ],
             [
              0.1111111111111111,
              "#46039f"
             ],
             [
              0.2222222222222222,
              "#7201a8"
             ],
             [
              0.3333333333333333,
              "#9c179e"
             ],
             [
              0.4444444444444444,
              "#bd3786"
             ],
             [
              0.5555555555555556,
              "#d8576b"
             ],
             [
              0.6666666666666666,
              "#ed7953"
             ],
             [
              0.7777777777777778,
              "#fb9f3a"
             ],
             [
              0.8888888888888888,
              "#fdca26"
             ],
             [
              1,
              "#f0f921"
             ]
            ],
            "type": "histogram2dcontour"
           }
          ],
          "mesh3d": [
           {
            "colorbar": {
             "outlinewidth": 0,
             "ticks": ""
            },
            "type": "mesh3d"
           }
          ],
          "parcoords": [
           {
            "line": {
             "colorbar": {
              "outlinewidth": 0,
              "ticks": ""
             }
            },
            "type": "parcoords"
           }
          ],
          "pie": [
           {
            "automargin": true,
            "type": "pie"
           }
          ],
          "scatter": [
           {
            "marker": {
             "colorbar": {
              "outlinewidth": 0,
              "ticks": ""
             }
            },
            "type": "scatter"
           }
          ],
          "scatter3d": [
           {
            "line": {
             "colorbar": {
              "outlinewidth": 0,
              "ticks": ""
             }
            },
            "marker": {
             "colorbar": {
              "outlinewidth": 0,
              "ticks": ""
             }
            },
            "type": "scatter3d"
           }
          ],
          "scattercarpet": [
           {
            "marker": {
             "colorbar": {
              "outlinewidth": 0,
              "ticks": ""
             }
            },
            "type": "scattercarpet"
           }
          ],
          "scattergeo": [
           {
            "marker": {
             "colorbar": {
              "outlinewidth": 0,
              "ticks": ""
             }
            },
            "type": "scattergeo"
           }
          ],
          "scattergl": [
           {
            "marker": {
             "colorbar": {
              "outlinewidth": 0,
              "ticks": ""
             }
            },
            "type": "scattergl"
           }
          ],
          "scattermapbox": [
           {
            "marker": {
             "colorbar": {
              "outlinewidth": 0,
              "ticks": ""
             }
            },
            "type": "scattermapbox"
           }
          ],
          "scatterpolar": [
           {
            "marker": {
             "colorbar": {
              "outlinewidth": 0,
              "ticks": ""
             }
            },
            "type": "scatterpolar"
           }
          ],
          "scatterpolargl": [
           {
            "marker": {
             "colorbar": {
              "outlinewidth": 0,
              "ticks": ""
             }
            },
            "type": "scatterpolargl"
           }
          ],
          "scatterternary": [
           {
            "marker": {
             "colorbar": {
              "outlinewidth": 0,
              "ticks": ""
             }
            },
            "type": "scatterternary"
           }
          ],
          "surface": [
           {
            "colorbar": {
             "outlinewidth": 0,
             "ticks": ""
            },
            "colorscale": [
             [
              0,
              "#0d0887"
             ],
             [
              0.1111111111111111,
              "#46039f"
             ],
             [
              0.2222222222222222,
              "#7201a8"
             ],
             [
              0.3333333333333333,
              "#9c179e"
             ],
             [
              0.4444444444444444,
              "#bd3786"
             ],
             [
              0.5555555555555556,
              "#d8576b"
             ],
             [
              0.6666666666666666,
              "#ed7953"
             ],
             [
              0.7777777777777778,
              "#fb9f3a"
             ],
             [
              0.8888888888888888,
              "#fdca26"
             ],
             [
              1,
              "#f0f921"
             ]
            ],
            "type": "surface"
           }
          ],
          "table": [
           {
            "cells": {
             "fill": {
              "color": "#EBF0F8"
             },
             "line": {
              "color": "white"
             }
            },
            "header": {
             "fill": {
              "color": "#C8D4E3"
             },
             "line": {
              "color": "white"
             }
            },
            "type": "table"
           }
          ]
         },
         "layout": {
          "annotationdefaults": {
           "arrowcolor": "#2a3f5f",
           "arrowhead": 0,
           "arrowwidth": 1
          },
          "autotypenumbers": "strict",
          "coloraxis": {
           "colorbar": {
            "outlinewidth": 0,
            "ticks": ""
           }
          },
          "colorscale": {
           "diverging": [
            [
             0,
             "#8e0152"
            ],
            [
             0.1,
             "#c51b7d"
            ],
            [
             0.2,
             "#de77ae"
            ],
            [
             0.3,
             "#f1b6da"
            ],
            [
             0.4,
             "#fde0ef"
            ],
            [
             0.5,
             "#f7f7f7"
            ],
            [
             0.6,
             "#e6f5d0"
            ],
            [
             0.7,
             "#b8e186"
            ],
            [
             0.8,
             "#7fbc41"
            ],
            [
             0.9,
             "#4d9221"
            ],
            [
             1,
             "#276419"
            ]
           ],
           "sequential": [
            [
             0,
             "#0d0887"
            ],
            [
             0.1111111111111111,
             "#46039f"
            ],
            [
             0.2222222222222222,
             "#7201a8"
            ],
            [
             0.3333333333333333,
             "#9c179e"
            ],
            [
             0.4444444444444444,
             "#bd3786"
            ],
            [
             0.5555555555555556,
             "#d8576b"
            ],
            [
             0.6666666666666666,
             "#ed7953"
            ],
            [
             0.7777777777777778,
             "#fb9f3a"
            ],
            [
             0.8888888888888888,
             "#fdca26"
            ],
            [
             1,
             "#f0f921"
            ]
           ],
           "sequentialminus": [
            [
             0,
             "#0d0887"
            ],
            [
             0.1111111111111111,
             "#46039f"
            ],
            [
             0.2222222222222222,
             "#7201a8"
            ],
            [
             0.3333333333333333,
             "#9c179e"
            ],
            [
             0.4444444444444444,
             "#bd3786"
            ],
            [
             0.5555555555555556,
             "#d8576b"
            ],
            [
             0.6666666666666666,
             "#ed7953"
            ],
            [
             0.7777777777777778,
             "#fb9f3a"
            ],
            [
             0.8888888888888888,
             "#fdca26"
            ],
            [
             1,
             "#f0f921"
            ]
           ]
          },
          "colorway": [
           "#636efa",
           "#EF553B",
           "#00cc96",
           "#ab63fa",
           "#FFA15A",
           "#19d3f3",
           "#FF6692",
           "#B6E880",
           "#FF97FF",
           "#FECB52"
          ],
          "font": {
           "color": "#2a3f5f"
          },
          "geo": {
           "bgcolor": "white",
           "lakecolor": "white",
           "landcolor": "#E5ECF6",
           "showlakes": true,
           "showland": true,
           "subunitcolor": "white"
          },
          "hoverlabel": {
           "align": "left"
          },
          "hovermode": "closest",
          "mapbox": {
           "style": "light"
          },
          "paper_bgcolor": "white",
          "plot_bgcolor": "#E5ECF6",
          "polar": {
           "angularaxis": {
            "gridcolor": "white",
            "linecolor": "white",
            "ticks": ""
           },
           "bgcolor": "#E5ECF6",
           "radialaxis": {
            "gridcolor": "white",
            "linecolor": "white",
            "ticks": ""
           }
          },
          "scene": {
           "xaxis": {
            "backgroundcolor": "#E5ECF6",
            "gridcolor": "white",
            "gridwidth": 2,
            "linecolor": "white",
            "showbackground": true,
            "ticks": "",
            "zerolinecolor": "white"
           },
           "yaxis": {
            "backgroundcolor": "#E5ECF6",
            "gridcolor": "white",
            "gridwidth": 2,
            "linecolor": "white",
            "showbackground": true,
            "ticks": "",
            "zerolinecolor": "white"
           },
           "zaxis": {
            "backgroundcolor": "#E5ECF6",
            "gridcolor": "white",
            "gridwidth": 2,
            "linecolor": "white",
            "showbackground": true,
            "ticks": "",
            "zerolinecolor": "white"
           }
          },
          "shapedefaults": {
           "line": {
            "color": "#2a3f5f"
           }
          },
          "ternary": {
           "aaxis": {
            "gridcolor": "white",
            "linecolor": "white",
            "ticks": ""
           },
           "baxis": {
            "gridcolor": "white",
            "linecolor": "white",
            "ticks": ""
           },
           "bgcolor": "#E5ECF6",
           "caxis": {
            "gridcolor": "white",
            "linecolor": "white",
            "ticks": ""
           }
          },
          "title": {
           "x": 0.05
          },
          "xaxis": {
           "automargin": true,
           "gridcolor": "white",
           "linecolor": "white",
           "ticks": "",
           "title": {
            "standoff": 15
           },
           "zerolinecolor": "white",
           "zerolinewidth": 2
          },
          "yaxis": {
           "automargin": true,
           "gridcolor": "white",
           "linecolor": "white",
           "ticks": "",
           "title": {
            "standoff": 15
           },
           "zerolinecolor": "white",
           "zerolinewidth": 2
          }
         }
        }
       }
      },
      "image/png": "[encoded data removed]",
      "text/html": [
       "<div>                            <div id=\"90674894-ecf0-4538-8242-a866e7dd7769\" class=\"plotly-graph-div\" style=\"height:525px; width:100%;\"></div>            <script type=\"text/javascript\">                require([\"plotly\"], function(Plotly) {                    window.PLOTLYENV=window.PLOTLYENV || {};                                    if (document.getElementById(\"90674894-ecf0-4538-8242-a866e7dd7769\")) {                    Plotly.newPlot(                        \"90674894-ecf0-4538-8242-a866e7dd7769\",                        [{\"branchvalues\":\"total\",\"domain\":{\"x\":[0.0,1.0],\"y\":[0.0,1.0]},\"hovertemplate\":\"labels=%{label}<br>count=%{value}<br>parent=%{parent}<br>id=%{id}<extra></extra>\",\"ids\":[\"all/schema1:provider/shacl:MinCountConstraintComponent/shacl:Violation/A provider must be noted\",\"all/schema1:provider/shacl:MinCountConstraintComponent/shacl:Violation\",\"all/schema1:provider/shacl:MinCountConstraintComponent\",\"all/schema1:provider\",\"all\"],\"labels\":[\"A provider must be noted\",\"shacl:Violation\",\"shacl:MinCountConstraintComponent\",\"schema1:provider\",\"all\"],\"name\":\"\",\"parents\":[\"all/schema1:provider/shacl:MinCountConstraintComponent/shacl:Violation\",\"all/schema1:provider/shacl:MinCountConstraintComponent\",\"all/schema1:provider\",\"all\",\"\"],\"type\":\"treemap\",\"values\":[666,666,666,666,666]}],                        {\"legend\":{\"tracegroupgap\":0},\"margin\":{\"b\":25,\"l\":25,\"r\":25,\"t\":50},\"template\":{\"data\":{\"bar\":[{\"error_x\":{\"color\":\"#2a3f5f\"},\"error_y\":{\"color\":\"#2a3f5f\"},\"marker\":{\"line\":{\"color\":\"#E5ECF6\",\"width\":0.5},\"pattern\":{\"fillmode\":\"overlay\",\"size\":10,\"solidity\":0.2}},\"type\":\"bar\"}],\"barpolar\":[{\"marker\":{\"line\":{\"color\":\"#E5ECF6\",\"width\":0.5},\"pattern\":{\"fillmode\":\"overlay\",\"size\":10,\"solidity\":0.2}},\"type\":\"barpolar\"}],\"carpet\":[{\"aaxis\":{\"endlinecolor\":\"#2a3f5f\",\"gridcolor\":\"white\",\"linecolor\":\"white\",\"minorgridcolor\":\"white\",\"startlinecolor\":\"#2a3f5f\"},\"baxis\":{\"endlinecolor\":\"#2a3f5f\",\"gridcolor\":\"white\",\"linecolor\":\"white\",\"minorgridcolor\":\"white\",\"startlinecolor\":\"#2a3f5f\"},\"type\":\"carpet\"}],\"choropleth\":[{\"colorbar\":{\"outlinewidth\":0,\"ticks\":\"\"},\"type\":\"choropleth\"}],\"contour\":[{\"colorbar\":{\"outlinewidth\":0,\"ticks\":\"\"},\"colorscale\":[[0.0,\"#0d0887\"],[0.1111111111111111,\"#46039f\"],[0.2222222222222222,\"#7201a8\"],[0.3333333333333333,\"#9c179e\"],[0.4444444444444444,\"#bd3786\"],[0.5555555555555556,\"#d8576b\"],[0.6666666666666666,\"#ed7953\"],[0.7777777777777778,\"#fb9f3a\"],[0.8888888888888888,\"#fdca26\"],[1.0,\"#f0f921\"]],\"type\":\"contour\"}],\"contourcarpet\":[{\"colorbar\":{\"outlinewidth\":0,\"ticks\":\"\"},\"type\":\"contourcarpet\"}],\"heatmap\":[{\"colorbar\":{\"outlinewidth\":0,\"ticks\":\"\"},\"colorscale\":[[0.0,\"#0d0887\"],[0.1111111111111111,\"#46039f\"],[0.2222222222222222,\"#7201a8\"],[0.3333333333333333,\"#9c179e\"],[0.4444444444444444,\"#bd3786\"],[0.5555555555555556,\"#d8576b\"],[0.6666666666666666,\"#ed7953\"],[0.7777777777777778,\"#fb9f3a\"],[0.8888888888888888,\"#fdca26\"],[1.0,\"#f0f921\"]],\"type\":\"heatmap\"}],\"heatmapgl\":[{\"colorbar\":{\"outlinewidth\":0,\"ticks\":\"\"},\"colorscale\":[[0.0,\"#0d0887\"],[0.1111111111111111,\"#46039f\"],[0.2222222222222222,\"#7201a8\"],[0.3333333333333333,\"#9c179e\"],[0.4444444444444444,\"#bd3786\"],[0.5555555555555556,\"#d8576b\"],[0.6666666666666666,\"#ed7953\"],[0.7777777777777778,\"#fb9f3a\"],[0.8888888888888888,\"#fdca26\"],[1.0,\"#f0f921\"]],\"type\":\"heatmapgl\"}],\"histogram\":[{\"marker\":{\"pattern\":{\"fillmode\":\"overlay\",\"size\":10,\"solidity\":0.2}},\"type\":\"histogram\"}],\"histogram2d\":[{\"colorbar\":{\"outlinewidth\":0,\"ticks\":\"\"},\"colorscale\":[[0.0,\"#0d0887\"],[0.1111111111111111,\"#46039f\"],[0.2222222222222222,\"#7201a8\"],[0.3333333333333333,\"#9c179e\"],[0.4444444444444444,\"#bd3786\"],[0.5555555555555556,\"#d8576b\"],[0.6666666666666666,\"#ed7953\"],[0.7777777777777778,\"#fb9f3a\"],[0.8888888888888888,\"#fdca26\"],[1.0,\"#f0f921\"]],\"type\":\"histogram2d\"}],\"histogram2dcontour\":[{\"colorbar\":{\"outlinewidth\":0,\"ticks\":\"\"},\"colorscale\":[[0.0,\"#0d0887\"],[0.1111111111111111,\"#46039f\"],[0.2222222222222222,\"#7201a8\"],[0.3333333333333333,\"#9c179e\"],[0.4444444444444444,\"#bd3786\"],[0.5555555555555556,\"#d8576b\"],[0.6666666666666666,\"#ed7953\"],[0.7777777777777778,\"#fb9f3a\"],[0.8888888888888888,\"#fdca26\"],[1.0,\"#f0f921\"]],\"type\":\"histogram2dcontour\"}],\"mesh3d\":[{\"colorbar\":{\"outlinewidth\":0,\"ticks\":\"\"},\"type\":\"mesh3d\"}],\"parcoords\":[{\"line\":{\"colorbar\":{\"outlinewidth\":0,\"ticks\":\"\"}},\"type\":\"parcoords\"}],\"pie\":[{\"automargin\":true,\"type\":\"pie\"}],\"scatter\":[{\"marker\":{\"colorbar\":{\"outlinewidth\":0,\"ticks\":\"\"}},\"type\":\"scatter\"}],\"scatter3d\":[{\"line\":{\"colorbar\":{\"outlinewidth\":0,\"ticks\":\"\"}},\"marker\":{\"colorbar\":{\"outlinewidth\":0,\"ticks\":\"\"}},\"type\":\"scatter3d\"}],\"scattercarpet\":[{\"marker\":{\"colorbar\":{\"outlinewidth\":0,\"ticks\":\"\"}},\"type\":\"scattercarpet\"}],\"scattergeo\":[{\"marker\":{\"colorbar\":{\"outlinewidth\":0,\"ticks\":\"\"}},\"type\":\"scattergeo\"}],\"scattergl\":[{\"marker\":{\"colorbar\":{\"outlinewidth\":0,\"ticks\":\"\"}},\"type\":\"scattergl\"}],\"scattermapbox\":[{\"marker\":{\"colorbar\":{\"outlinewidth\":0,\"ticks\":\"\"}},\"type\":\"scattermapbox\"}],\"scatterpolar\":[{\"marker\":{\"colorbar\":{\"outlinewidth\":0,\"ticks\":\"\"}},\"type\":\"scatterpolar\"}],\"scatterpolargl\":[{\"marker\":{\"colorbar\":{\"outlinewidth\":0,\"ticks\":\"\"}},\"type\":\"scatterpolargl\"}],\"scatterternary\":[{\"marker\":{\"colorbar\":{\"outlinewidth\":0,\"ticks\":\"\"}},\"type\":\"scatterternary\"}],\"surface\":[{\"colorbar\":{\"outlinewidth\":0,\"ticks\":\"\"},\"colorscale\":[[0.0,\"#0d0887\"],[0.1111111111111111,\"#46039f\"],[0.2222222222222222,\"#7201a8\"],[0.3333333333333333,\"#9c179e\"],[0.4444444444444444,\"#bd3786\"],[0.5555555555555556,\"#d8576b\"],[0.6666666666666666,\"#ed7953\"],[0.7777777777777778,\"#fb9f3a\"],[0.8888888888888888,\"#fdca26\"],[1.0,\"#f0f921\"]],\"type\":\"surface\"}],\"table\":[{\"cells\":{\"fill\":{\"color\":\"#EBF0F8\"},\"line\":{\"color\":\"white\"}},\"header\":{\"fill\":{\"color\":\"#C8D4E3\"},\"line\":{\"color\":\"white\"}},\"type\":\"table\"}]},\"layout\":{\"annotationdefaults\":{\"arrowcolor\":\"#2a3f5f\",\"arrowhead\":0,\"arrowwidth\":1},\"autotypenumbers\":\"strict\",\"coloraxis\":{\"colorbar\":{\"outlinewidth\":0,\"ticks\":\"\"}},\"colorscale\":{\"diverging\":[[0,\"#8e0152\"],[0.1,\"#c51b7d\"],[0.2,\"#de77ae\"],[0.3,\"#f1b6da\"],[0.4,\"#fde0ef\"],[0.5,\"#f7f7f7\"],[0.6,\"#e6f5d0\"],[0.7,\"#b8e186\"],[0.8,\"#7fbc41\"],[0.9,\"#4d9221\"],[1,\"#276419\"]],\"sequential\":[[0.0,\"#0d0887\"],[0.1111111111111111,\"#46039f\"],[0.2222222222222222,\"#7201a8\"],[0.3333333333333333,\"#9c179e\"],[0.4444444444444444,\"#bd3786\"],[0.5555555555555556,\"#d8576b\"],[0.6666666666666666,\"#ed7953\"],[0.7777777777777778,\"#fb9f3a\"],[0.8888888888888888,\"#fdca26\"],[1.0,\"#f0f921\"]],\"sequentialminus\":[[0.0,\"#0d0887\"],[0.1111111111111111,\"#46039f\"],[0.2222222222222222,\"#7201a8\"],[0.3333333333333333,\"#9c179e\"],[0.4444444444444444,\"#bd3786\"],[0.5555555555555556,\"#d8576b\"],[0.6666666666666666,\"#ed7953\"],[0.7777777777777778,\"#fb9f3a\"],[0.8888888888888888,\"#fdca26\"],[1.0,\"#f0f921\"]]},\"colorway\":[\"#636efa\",\"#EF553B\",\"#00cc96\",\"#ab63fa\",\"#FFA15A\",\"#19d3f3\",\"#FF6692\",\"#B6E880\",\"#FF97FF\",\"#FECB52\"],\"font\":{\"color\":\"#2a3f5f\"},\"geo\":{\"bgcolor\":\"white\",\"lakecolor\":\"white\",\"landcolor\":\"#E5ECF6\",\"showlakes\":true,\"showland\":true,\"subunitcolor\":\"white\"},\"hoverlabel\":{\"align\":\"left\"},\"hovermode\":\"closest\",\"mapbox\":{\"style\":\"light\"},\"paper_bgcolor\":\"white\",\"plot_bgcolor\":\"#E5ECF6\",\"polar\":{\"angularaxis\":{\"gridcolor\":\"white\",\"linecolor\":\"white\",\"ticks\":\"\"},\"bgcolor\":\"#E5ECF6\",\"radialaxis\":{\"gridcolor\":\"white\",\"linecolor\":\"white\",\"ticks\":\"\"}},\"scene\":{\"xaxis\":{\"backgroundcolor\":\"#E5ECF6\",\"gridcolor\":\"white\",\"gridwidth\":2,\"linecolor\":\"white\",\"showbackground\":true,\"ticks\":\"\",\"zerolinecolor\":\"white\"},\"yaxis\":{\"backgroundcolor\":\"#E5ECF6\",\"gridcolor\":\"white\",\"gridwidth\":2,\"linecolor\":\"white\",\"showbackground\":true,\"ticks\":\"\",\"zerolinecolor\":\"white\"},\"zaxis\":{\"backgroundcolor\":\"#E5ECF6\",\"gridcolor\":\"white\",\"gridwidth\":2,\"linecolor\":\"white\",\"showbackground\":true,\"ticks\":\"\",\"zerolinecolor\":\"white\"}},\"shapedefaults\":{\"line\":{\"color\":\"#2a3f5f\"}},\"ternary\":{\"aaxis\":{\"gridcolor\":\"white\",\"linecolor\":\"white\",\"ticks\":\"\"},\"baxis\":{\"gridcolor\":\"white\",\"linecolor\":\"white\",\"ticks\":\"\"},\"bgcolor\":\"#E5ECF6\",\"caxis\":{\"gridcolor\":\"white\",\"linecolor\":\"white\",\"ticks\":\"\"}},\"title\":{\"x\":0.05},\"xaxis\":{\"automargin\":true,\"gridcolor\":\"white\",\"linecolor\":\"white\",\"ticks\":\"\",\"title\":{\"standoff\":15},\"zerolinecolor\":\"white\",\"zerolinewidth\":2},\"yaxis\":{\"automargin\":true,\"gridcolor\":\"white\",\"linecolor\":\"white\",\"ticks\":\"\",\"title\":{\"standoff\":15},\"zerolinecolor\":\"white\",\"zerolinewidth\":2}}}},                        {\"responsive\": true}                    ).then(function(){\n",
       "                            \n",
       "var gd = document.getElementById('90674894-ecf0-4538-8242-a866e7dd7769');\n",
       "var x = new MutationObserver(function (mutations, observer) {{\n",
       "        var display = window.getComputedStyle(gd).display;\n",
       "        if (!display || display === 'none') {{\n",
       "            console.log([gd, 'removed!']);\n",
       "            Plotly.purge(gd);\n",
       "            observer.disconnect();\n",
       "        }}\n",
       "}});\n",
       "\n",
       "// Listen for the removal of the full notebook cells\n",
       "var notebookContainer = gd.closest('#notebook-container');\n",
       "if (notebookContainer) {{\n",
       "    x.observe(notebookContainer, {childList: true});\n",
       "}}\n",
       "\n",
       "// Listen for the clearing of the current output cell\n",
       "var outputEl = gd.closest('.output');\n",
       "if (outputEl) {{\n",
       "    x.observe(outputEl, {childList: true});\n",
       "}}\n",
       "\n",
       "                        })                };                });            </script>        </div>"
      ]
     },
     "metadata": {},
     "output_type": "display_data"
    }
   ],
   "source": [
    "import plotly.express as px\n",
    "\n",
    "fig = px.treemap(pdf, path=[px.Constant(\"all\"), 'path', 'constraint', 'severity', 'message'])\n",
    "\n",
    "fig.update_layout(margin = dict(t=50, l=25, r=25, b=25))\n",
    "\n",
    "fig.show()"
   ]
  },
  {
   "cell_type": "code",
   "execution_count": 13,
   "metadata": {
    "collapsed": false,
    "jupyter": {
     "outputs_hidden": false
    },
    "pycharm": {
     "name": "#%%\n"
    }
   },
   "outputs": [],
   "source": [
    "# TODO export to parquet and or CSV\n",
    "df.to_parquet(\"./output/eco_opentopo_SHACL.parquet\")\n",
    "df.to_csv(\"./output/eco_opentopo_SHACL.csv\")"
   ]
  },
  {
   "cell_type": "code",
   "execution_count": null,
   "metadata": {
    "collapsed": false,
    "jupyter": {
     "outputs_hidden": false
    },
    "pycharm": {
     "name": "#%%\n"
    }
   },
   "outputs": [],
   "source": []
  }
 ],
 "metadata": {
  "colab": {
   "collapsed_sections": [],
   "name": "DaskPlayGround.ipynb",
   "provenance": [],
   "toc_visible": true
  },
  "kernelspec": {
   "display_name": "Python 3",
   "language": "python",
   "name": "python3"
  },
  "language_info": {
   "codemirror_mode": {
    "name": "ipython",
    "version": 3
   },
   "file_extension": ".py",
   "mimetype": "text/x-python",
   "name": "python",
   "nbconvert_exporter": "python",
   "pygments_lexer": "ipython3",
   "version": "3.8.10"
  }
 },
 "nbformat": 4,
 "nbformat_minor": 4
}
