{
 "cells": [
  {
   "cell_type": "markdown",
   "metadata": {
    "id": "GXzeuoO2zHt_"
   },
   "source": [
    "# GleanerIO SHACL processor\n",
    "\n",
    "## About\n",
    "\n",
    "Ted Habberman presented to the CDF on ISO metadata analysis.  I have been exploring some approaches to accessing the FAIR Digital Object server that is part of the standard setup supporting GeoCODES and other groups.  Leveraging Python Dask and S3 Boto it is easy to access these object stores in a highly performant manner.  \n",
    "\n",
    "In addition to DASK there is S3SELECT as well as SPARQL calls on objects and triplestores.  \n",
    "\n",
    "## Notes\n",
    "\n",
    "Curious above local context file reading when doing lots of calls.  PyLD seems to know to do caching but not sure how it could in a Dask based pattern.\n",
    "\n",
    "May need to explore approach to read local files for context like"
   ]
  },
  {
   "cell_type": "markdown",
   "metadata": {
    "id": "B5cajEkMzsp6"
   },
   "source": [
    "## Imports\n"
   ]
  },
  {
   "cell_type": "code",
   "execution_count": 2,
   "metadata": {
    "id": "hoCJfO4s0BF_"
   },
   "outputs": [],
   "source": [
    "import dask\n",
    "import boto3\n",
    "import pandas as pd\n",
    "import json\n",
    "import s3fs\n",
    "import kglab\n",
    "import seaborn as sns\n",
    "from rdflib import Graph  #, plugin\n",
    "import getpass\n",
    "import plotly.express as px"
   ]
  },
  {
   "cell_type": "markdown",
   "metadata": {},
   "source": [
    "## Set up Dask client"
   ]
  },
  {
   "cell_type": "code",
   "execution_count": 3,
   "metadata": {},
   "outputs": [
    {
     "name": "stderr",
     "output_type": "stream",
     "text": [
      "distributed.diskutils - INFO - Found stale lock file and directory '/home/fils/Containers/dvols/jupyter/work/Gleaner/notebooks/validation/dask-worker-space/worker-lvi6i_y_', purging\n",
      "distributed.diskutils - INFO - Found stale lock file and directory '/home/fils/Containers/dvols/jupyter/work/Gleaner/notebooks/validation/dask-worker-space/worker-qciwkzea', purging\n",
      "distributed.diskutils - INFO - Found stale lock file and directory '/home/fils/Containers/dvols/jupyter/work/Gleaner/notebooks/validation/dask-worker-space/worker-vzayvn0t', purging\n",
      "distributed.diskutils - INFO - Found stale lock file and directory '/home/fils/Containers/dvols/jupyter/work/Gleaner/notebooks/validation/dask-worker-space/worker-uvvvmsbd', purging\n"
     ]
    },
    {
     "data": {
      "text/plain": "<Client: 'tcp://127.0.0.1:36075' processes=4 threads=20, memory=31.17 GiB>",
      "text/html": "\n            <div>\n                <div style=\"\n                    width: 24px;\n                    height: 24px;\n                    background-color: #e1e1e1;\n                    border: 3px solid #9D9D9D;\n                    border-radius: 5px;\n                    position: absolute;\"> </div>\n                <div style=\"margin-left: 48px;\">\n                    <h3 style=\"margin-bottom: 0px;\">Client</h3>\n                    <p style=\"color: #9D9D9D; margin-bottom: 0px;\">Client-2d9b3d43-a22c-11ec-a16c-18c04d87f382</p>\n                    <table style=\"width: 100%; text-align: left;\">\n                    \n                <tr>\n                    <td style=\"text-align: left;\"><strong>Connection method:</strong> Cluster object</td>\n                    <td style=\"text-align: left;\"><strong>Cluster type:</strong> LocalCluster</td>\n                </tr>\n                \n                <tr>\n                    <td style=\"text-align: left;\">\n                        <strong>Dashboard: </strong>\n                        <a href=\"http://127.0.0.1:8787/status\">http://127.0.0.1:8787/status</a>\n                    </td>\n                    <td style=\"text-align: left;\"></td>\n                </tr>\n                \n                    </table>\n                    \n                <details>\n                <summary style=\"margin-bottom: 20px;\"><h3 style=\"display: inline;\">Cluster Info</h3></summary>\n                \n            <div class=\"jp-RenderedHTMLCommon jp-RenderedHTML jp-mod-trusted jp-OutputArea-output\">\n                <div style=\"\n                    width: 24px;\n                    height: 24px;\n                    background-color: #e1e1e1;\n                    border: 3px solid #9D9D9D;\n                    border-radius: 5px;\n                    position: absolute;\"> </div>\n                <div style=\"margin-left: 48px;\">\n                    <h3 style=\"margin-bottom: 0px; margin-top: 0px;\">LocalCluster</h3>\n                    <p style=\"color: #9D9D9D; margin-bottom: 0px;\">7a005ed9</p>\n                    <table style=\"width: 100%; text-align: left;\">\n                    \n            <tr>\n                <td style=\"text-align: left;\"><strong>Status:</strong> running</td>\n                <td style=\"text-align: left;\"><strong>Using processes:</strong> True</td>\n            </tr>\n        \n            <tr>\n                <td style=\"text-align: left;\">\n                    <strong>Dashboard:</strong> <a href=\"http://127.0.0.1:8787/status\">http://127.0.0.1:8787/status</a>\n                </td>\n                <td style=\"text-align: left;\"><strong>Workers:</strong> 4</td>\n            </tr>\n            <tr>\n                <td style=\"text-align: left;\">\n                    <strong>Total threads:</strong>\n                    20\n                </td>\n                <td style=\"text-align: left;\">\n                    <strong>Total memory:</strong>\n                    31.17 GiB\n                </td>\n            </tr>\n        \n                    </table>\n                    <details>\n                    <summary style=\"margin-bottom: 20px;\"><h3 style=\"display: inline;\">Scheduler Info</h3></summary>\n                    \n        <div style=\"\">\n            \n            <div>\n                <div style=\"\n                    width: 24px;\n                    height: 24px;\n                    background-color: #FFF7E5;\n                    border: 3px solid #FF6132;\n                    border-radius: 5px;\n                    position: absolute;\"> </div>\n                <div style=\"margin-left: 48px;\">\n                    <h3 style=\"margin-bottom: 0px;\">Scheduler</h3>\n                    <p style=\"color: #9D9D9D; margin-bottom: 0px;\">Scheduler-9fa9edc1-2600-4b69-a434-6b6c9bb366b2</p>\n                    <table style=\"width: 100%; text-align: left;\">\n                        <tr>\n                            <td style=\"text-align: left;\"><strong>Comm:</strong> tcp://127.0.0.1:36075</td>\n                            <td style=\"text-align: left;\"><strong>Workers:</strong> 4</td>\n                        </tr>\n                        <tr>\n                            <td style=\"text-align: left;\">\n                                <strong>Dashboard:</strong> <a href=\"http://127.0.0.1:8787/status\">http://127.0.0.1:8787/status</a>\n                            </td>\n                            <td style=\"text-align: left;\">\n                                <strong>Total threads:</strong>\n                                20\n                            </td>\n                        </tr>\n                        <tr>\n                            <td style=\"text-align: left;\">\n                                <strong>Started:</strong>\n                                Just now\n                            </td>\n                            <td style=\"text-align: left;\">\n                                <strong>Total memory:</strong>\n                                31.17 GiB\n                            </td>\n                        </tr>\n                    </table>\n                </div>\n            </div>\n        \n            <details style=\"margin-left: 48px;\">\n            <summary style=\"margin-bottom: 20px;\"><h3 style=\"display: inline;\">Workers</h3></summary>\n            \n            <div style=\"margin-bottom: 20px;\">\n                <div style=\"width: 24px;\n                            height: 24px;\n                            background-color: #DBF5FF;\n                            border: 3px solid #4CC9FF;\n                            border-radius: 5px;\n                            position: absolute;\"> </div>\n                <div style=\"margin-left: 48px;\">\n                <details>\n                    <summary>\n                        <h4 style=\"margin-bottom: 0px; display: inline;\">Worker: 0</h4>\n                    </summary>\n                    <table style=\"width: 100%; text-align: left;\">\n                        <tr>\n                            <td style=\"text-align: left;\"><strong>Comm: </strong> tcp://127.0.0.1:34917</td>\n                            <td style=\"text-align: left;\"><strong>Total threads: </strong> 5</td>\n                        </tr>\n                        <tr>\n                            <td style=\"text-align: left;\">\n                                <strong>Dashboard: </strong>\n                                <a href=\"http://127.0.0.1:36325/status\">http://127.0.0.1:36325/status</a>\n                            </td>\n                            <td style=\"text-align: left;\">\n                                <strong>Memory: </strong>\n                                7.79 GiB\n                            </td>\n                        </tr>\n                        <tr>\n                            <td style=\"text-align: left;\"><strong>Nanny: </strong> tcp://127.0.0.1:43685</td>\n                            <td style=\"text-align: left;\"></td>\n                        </tr>\n                        <tr>\n                            <td colspan=\"2\" style=\"text-align: left;\">\n                                <strong>Local directory: </strong>\n                                /home/fils/Containers/dvols/jupyter/work/Gleaner/notebooks/validation/dask-worker-space/worker-ct5u2qxd\n                            </td>\n                        </tr>\n                        \n                <tr>\n                    <td style=\"text-align: left;\">\n                        <strong>GPU: </strong>NVIDIA GeForce GTX 1050 Ti\n                    </td>\n                    <td style=\"text-align: left;\">\n                        <strong>GPU memory: </strong>\n                        3.94 GiB\n                    </td>\n                </tr>\n                \n                        \n                    </table>\n                </details>\n                </div>\n            </div>\n            \n            <div style=\"margin-bottom: 20px;\">\n                <div style=\"width: 24px;\n                            height: 24px;\n                            background-color: #DBF5FF;\n                            border: 3px solid #4CC9FF;\n                            border-radius: 5px;\n                            position: absolute;\"> </div>\n                <div style=\"margin-left: 48px;\">\n                <details>\n                    <summary>\n                        <h4 style=\"margin-bottom: 0px; display: inline;\">Worker: 1</h4>\n                    </summary>\n                    <table style=\"width: 100%; text-align: left;\">\n                        <tr>\n                            <td style=\"text-align: left;\"><strong>Comm: </strong> tcp://127.0.0.1:36791</td>\n                            <td style=\"text-align: left;\"><strong>Total threads: </strong> 5</td>\n                        </tr>\n                        <tr>\n                            <td style=\"text-align: left;\">\n                                <strong>Dashboard: </strong>\n                                <a href=\"http://127.0.0.1:37845/status\">http://127.0.0.1:37845/status</a>\n                            </td>\n                            <td style=\"text-align: left;\">\n                                <strong>Memory: </strong>\n                                7.79 GiB\n                            </td>\n                        </tr>\n                        <tr>\n                            <td style=\"text-align: left;\"><strong>Nanny: </strong> tcp://127.0.0.1:41007</td>\n                            <td style=\"text-align: left;\"></td>\n                        </tr>\n                        <tr>\n                            <td colspan=\"2\" style=\"text-align: left;\">\n                                <strong>Local directory: </strong>\n                                /home/fils/Containers/dvols/jupyter/work/Gleaner/notebooks/validation/dask-worker-space/worker-k3s6v20l\n                            </td>\n                        </tr>\n                        \n                <tr>\n                    <td style=\"text-align: left;\">\n                        <strong>GPU: </strong>NVIDIA GeForce GTX 1050 Ti\n                    </td>\n                    <td style=\"text-align: left;\">\n                        <strong>GPU memory: </strong>\n                        3.94 GiB\n                    </td>\n                </tr>\n                \n                        \n                    </table>\n                </details>\n                </div>\n            </div>\n            \n            <div style=\"margin-bottom: 20px;\">\n                <div style=\"width: 24px;\n                            height: 24px;\n                            background-color: #DBF5FF;\n                            border: 3px solid #4CC9FF;\n                            border-radius: 5px;\n                            position: absolute;\"> </div>\n                <div style=\"margin-left: 48px;\">\n                <details>\n                    <summary>\n                        <h4 style=\"margin-bottom: 0px; display: inline;\">Worker: 2</h4>\n                    </summary>\n                    <table style=\"width: 100%; text-align: left;\">\n                        <tr>\n                            <td style=\"text-align: left;\"><strong>Comm: </strong> tcp://127.0.0.1:35321</td>\n                            <td style=\"text-align: left;\"><strong>Total threads: </strong> 5</td>\n                        </tr>\n                        <tr>\n                            <td style=\"text-align: left;\">\n                                <strong>Dashboard: </strong>\n                                <a href=\"http://127.0.0.1:45165/status\">http://127.0.0.1:45165/status</a>\n                            </td>\n                            <td style=\"text-align: left;\">\n                                <strong>Memory: </strong>\n                                7.79 GiB\n                            </td>\n                        </tr>\n                        <tr>\n                            <td style=\"text-align: left;\"><strong>Nanny: </strong> tcp://127.0.0.1:35963</td>\n                            <td style=\"text-align: left;\"></td>\n                        </tr>\n                        <tr>\n                            <td colspan=\"2\" style=\"text-align: left;\">\n                                <strong>Local directory: </strong>\n                                /home/fils/Containers/dvols/jupyter/work/Gleaner/notebooks/validation/dask-worker-space/worker-x1xv4omv\n                            </td>\n                        </tr>\n                        \n                <tr>\n                    <td style=\"text-align: left;\">\n                        <strong>GPU: </strong>NVIDIA GeForce GTX 1050 Ti\n                    </td>\n                    <td style=\"text-align: left;\">\n                        <strong>GPU memory: </strong>\n                        3.94 GiB\n                    </td>\n                </tr>\n                \n                        \n                    </table>\n                </details>\n                </div>\n            </div>\n            \n            <div style=\"margin-bottom: 20px;\">\n                <div style=\"width: 24px;\n                            height: 24px;\n                            background-color: #DBF5FF;\n                            border: 3px solid #4CC9FF;\n                            border-radius: 5px;\n                            position: absolute;\"> </div>\n                <div style=\"margin-left: 48px;\">\n                <details>\n                    <summary>\n                        <h4 style=\"margin-bottom: 0px; display: inline;\">Worker: 3</h4>\n                    </summary>\n                    <table style=\"width: 100%; text-align: left;\">\n                        <tr>\n                            <td style=\"text-align: left;\"><strong>Comm: </strong> tcp://127.0.0.1:43855</td>\n                            <td style=\"text-align: left;\"><strong>Total threads: </strong> 5</td>\n                        </tr>\n                        <tr>\n                            <td style=\"text-align: left;\">\n                                <strong>Dashboard: </strong>\n                                <a href=\"http://127.0.0.1:39569/status\">http://127.0.0.1:39569/status</a>\n                            </td>\n                            <td style=\"text-align: left;\">\n                                <strong>Memory: </strong>\n                                7.79 GiB\n                            </td>\n                        </tr>\n                        <tr>\n                            <td style=\"text-align: left;\"><strong>Nanny: </strong> tcp://127.0.0.1:33007</td>\n                            <td style=\"text-align: left;\"></td>\n                        </tr>\n                        <tr>\n                            <td colspan=\"2\" style=\"text-align: left;\">\n                                <strong>Local directory: </strong>\n                                /home/fils/Containers/dvols/jupyter/work/Gleaner/notebooks/validation/dask-worker-space/worker-2bqd7lr7\n                            </td>\n                        </tr>\n                        \n                <tr>\n                    <td style=\"text-align: left;\">\n                        <strong>GPU: </strong>NVIDIA GeForce GTX 1050 Ti\n                    </td>\n                    <td style=\"text-align: left;\">\n                        <strong>GPU memory: </strong>\n                        3.94 GiB\n                    </td>\n                </tr>\n                \n                        \n                    </table>\n                </details>\n                </div>\n            </div>\n            \n            </details>\n        </div>\n        \n                    </details>\n                </div>\n            </div>\n        \n                </details>\n                \n                </div>\n            </div>\n        "
     },
     "execution_count": 3,
     "metadata": {},
     "output_type": "execute_result"
    }
   ],
   "source": [
    "from dask.distributed import Client    #, progress\n",
    "client = Client(threads_per_worker=5, n_workers=4)\n",
    "client"
   ]
  },
  {
   "cell_type": "markdown",
   "metadata": {
    "id": "gF-jNcIplO3X"
   },
   "source": [
    "## File Access"
   ]
  },
  {
   "cell_type": "code",
   "execution_count": 5,
   "metadata": {
    "colab": {
     "base_uri": "https://localhost:8080/",
     "height": 74
    },
    "id": "Nkiij1wElRrf",
    "outputId": "0f8a88aa-3c71-49f4-98a4-e58396f15412"
   },
   "outputs": [],
   "source": [
    "# ## Anonymous S3 File system\n",
    "# oss = s3fs.S3FileSystem(\n",
    "#     anon=True,\n",
    "#     client_kwargs = {\"endpoint_url\":\"https://oss.geodex.org\"}\n",
    "# )\n",
    "\n",
    "# Access controlled s3\n",
    "session = boto3.Session(profile_name='default' ,   region_name=\"us-east-1\")\n",
    "s3 = session.client('s3')  # needed later for listing objects\n",
    "s3r = session.resource('s3')\n",
    "oss = s3fs.S3FileSystem( profile=\"default\")\n",
    "\n",
    "## Manual code access\n",
    "# ACCESS_CODE = getpass.getpass()\n",
    "# SECRET_CODE = getpass.getpass()\n",
    "\n",
    "# oss = s3fs.S3FileSystem(\n",
    "#     anon=False,\n",
    "#     key=ACCESS_CODE,\n",
    "#     secret=SECRET_CODE,\n",
    "#     client_kwargs = {\"endpoint_url\":\"http://192.168.86.45:49159\"}\n",
    "# )"
   ]
  },
  {
   "cell_type": "code",
   "execution_count": 7,
   "metadata": {},
   "outputs": [
    {
     "name": "stdout",
     "output_type": "stream",
     "text": [
      "['gleaner.oih/summoned/aquadocs', 'gleaner.oih/summoned/marinetraining', 'gleaner.oih/summoned/obis', 'gleaner.oih/summoned/obps', 'gleaner.oih/summoned/oceanexperts']\n"
     ]
    }
   ],
   "source": [
    "# [optional] List the directories we can work with later\n",
    "# sumlist = oss.ls('gleaner/summoned')\n",
    "sumlist = oss.ls('gleaner.oih/summoned/')\n",
    "print(sumlist)"
   ]
  },
  {
   "cell_type": "markdown",
   "metadata": {
    "pycharm": {
     "name": "#%% md\n"
    }
   },
   "source": [
    "### Definitions"
   ]
  },
  {
   "cell_type": "code",
   "execution_count": 8,
   "metadata": {
    "collapsed": false,
    "jupyter": {
     "outputs_hidden": false
    },
    "pycharm": {
     "name": "#%%\n"
    }
   },
   "outputs": [],
   "source": [
    "# some color coding for pandas for later\n",
    "def change_color_group(x):\n",
    "    dfcg = x.copy()\n",
    "    dfcg.loc[df['severity'] == \"shacl:Violation\", :] = 'background-color: #F89782'\n",
    "    dfcg.loc[df['severity'] == \"shacl:Warning\", :] = 'background-color: #F0F480'\n",
    "    dfcg.loc[df['severity'] == \"shacl:Info\", :] = 'background-color: #CBFBD2'\n",
    "    return dfcg"
   ]
  },
  {
   "cell_type": "code",
   "execution_count": 9,
   "metadata": {
    "collapsed": false,
    "jupyter": {
     "outputs_hidden": false
    },
    "pycharm": {
     "name": "#%%\n"
    }
   },
   "outputs": [],
   "source": [
    "## need a SPARQL for counts of the various validations\n",
    "\n",
    "\n",
    "bc = \"\"\"\n",
    "PREFIX rdf: <http://www.w3.org/1999/02/22-rdf-syntax-ns#>\n",
    "PREFIX sh: <http://www.w3.org/ns/shacl#>\n",
    "SELECT  ?tid ?b\n",
    "  WHERE {\n",
    "    ?tid rdf:type sh:ValidationReport .\n",
    "    ?tid sh:conforms ?b .\n",
    "  }\n",
    "\n",
    "\"\"\"\n",
    "\n",
    "ccount = \"\"\"\n",
    "PREFIX rdf: <http://www.w3.org/1999/02/22-rdf-syntax-ns#>\n",
    "PREFIX sh: <http://www.w3.org/ns/shacl#>\n",
    "SELECT  ?b (COUNT(?tid) as ?tcount)\n",
    "  WHERE {\n",
    "    ?tid rdf:type sh:ValidationReport .\n",
    "    ?tid sh:conforms ?b .\n",
    "  }\n",
    "\n",
    "group by (?b)\n",
    "\"\"\"\n",
    "\n",
    "scount = \"\"\"\n",
    "PREFIX rdf: <http://www.w3.org/1999/02/22-rdf-syntax-ns#>\n",
    "PREFIX sh: <http://www.w3.org/ns/shacl#>\n",
    "SELECT  ?severity (COUNT(?id) as ?tcount)\n",
    "  WHERE {\n",
    "    ?id rdf:type sh:ValidationResult .\n",
    "    ?id sh:resultSeverity ?severity .\n",
    "  }\n",
    "group by (?severity)\n",
    "\n",
    "\"\"\"\n",
    "\n",
    "sparql = \"\"\"\n",
    "SELECT ?path ?value ?constraint ?severity ?message ?id ?focus\n",
    "  WHERE {\n",
    "    ?id rdf:type shacl:ValidationResult .\n",
    "    ?id shacl:focusNode ?focus .\n",
    "    ?id shacl:resultMessage ?message .\n",
    "    ?id shacl:resultSeverity ?severity .\n",
    "    ?id shacl:sourceConstraintComponent ?constraint .\n",
    "    OPTIONAL {\n",
    "        ?id shacl:resultPath ?path .\n",
    "    }\n",
    "    OPTIONAL {\n",
    "        ?id shacl:value ?value .\n",
    "    }\n",
    "  }\n",
    "\"\"\"\n",
    "\n"
   ]
  },
  {
   "cell_type": "code",
   "execution_count": 10,
   "metadata": {
    "collapsed": false,
    "jupyter": {
     "outputs_hidden": false
    },
    "pycharm": {
     "name": "#%%\n"
    }
   },
   "outputs": [],
   "source": [
    "# SHACL function\n",
    "@dask.delayed()\n",
    "def read_and_validate(fn):\n",
    "    # make a kg to hold our data graph\n",
    "    namespaces = {\n",
    "        \"schema\":  \"https://schema.org/\",\n",
    "        \"shacl\":   \"http://www.w3.org/ns/shacl#\" ,\n",
    "    }\n",
    "\n",
    "    kg = kglab.KnowledgeGraph(\n",
    "        name = \"Schema.org based datagraph\",\n",
    "        base_uri = \"https://example.org/id/\",\n",
    "        namespaces = namespaces,\n",
    "    )\n",
    "\n",
    "    ## this is a mess.   no need to load to a graph objet to validate.  also, \n",
    "    ## can we load up the graph first and then validate later for everythng?\n",
    "    with oss.open(fn, 'rb') as f:\n",
    "        jld = json.loads(f.read().decode(\"utf-8\", \"ignore\").replace('\\n',' '))\n",
    "        jlds = json.dumps(jld)\n",
    "\n",
    "        g = Graph().parse(data=jlds, format='json-ld')\n",
    "        context = {\n",
    "            \"@vocab\": \"https://schema.org/\",\n",
    "        }\n",
    "\n",
    "        ttl = g.serialize(format='ttl', context=context, indent=4)\n",
    "        kg.load_rdf_text(ttl, format=\"ttl\", base=None)\n",
    "\n",
    "        conforms, report_graph, report_text = kg.validate(\n",
    "            shacl_graph=sg,\n",
    "            shacl_graph_format=\"ttl\"\n",
    "        )\n",
    "\n",
    "        return report_graph.save_rdf_text()  # return graph object or string of graph"
   ]
  },
  {
   "cell_type": "markdown",
   "source": [
    "## Set the Shapefile"
   ],
   "metadata": {
    "collapsed": false,
    "pycharm": {
     "name": "#%% md\n"
    }
   }
  },
  {
   "cell_type": "code",
   "execution_count": 18,
   "outputs": [],
   "source": [
    "# Set the shapegraph to use\n",
    "sg = './shapes/geocodes_dcscan.ttl'"
   ],
   "metadata": {
    "collapsed": false,
    "pycharm": {
     "name": "#%%\n"
    }
   }
  },
  {
   "cell_type": "markdown",
   "metadata": {},
   "source": [
    "## Get files\n"
   ]
  },
  {
   "cell_type": "code",
   "execution_count": 19,
   "metadata": {
    "id": "bxgBNI0cZC0Z",
    "tags": []
   },
   "outputs": [
    {
     "name": "stdout",
     "output_type": "stream",
     "text": [
      "CPU times: user 10.6 s, sys: 797 ms, total: 11.4 s\n",
      "Wall time: 57.4 s\n"
     ]
    }
   ],
   "source": [
    "%%time\n",
    "## single item\n",
    "\n",
    "checkPrefix = \"gleaner.oih/summoned/obis\"\n",
    "fns = oss.ls(checkPrefix)\n",
    "o = [read_and_validate(f) for f in fns]\n",
    "results = dask.compute(*o)"
   ]
  },
  {
   "cell_type": "markdown",
   "metadata": {},
   "source": [
    "### Loop on results and load to graph"
   ]
  },
  {
   "cell_type": "code",
   "execution_count": 20,
   "metadata": {},
   "outputs": [],
   "source": [
    "rnamespaces = {\n",
    "    \"schema\":  \"https://schema.org/\",\n",
    "    \"shacl\":   \"http://www.w3.org/ns/shacl#\" ,\n",
    "}\n",
    "\n",
    "kg = kglab.KnowledgeGraph(\n",
    "    name = \"Schema.org shacl eval datagraph\",\n",
    "    base_uri = \"https://example.org/id/\",\n",
    "    namespaces = rnamespaces,\n",
    ")\n",
    "\n",
    "for r in results:\n",
    "    kg.load_rdf_text(data=r, format=\"ttl\")"
   ]
  },
  {
   "cell_type": "code",
   "execution_count": 23,
   "metadata": {},
   "outputs": [
    {
     "name": "stdout",
     "output_type": "stream",
     "text": [
      "Checking 5480 objects in gleaner.oih/summoned/obis\n",
      "severity                                 sh:Info  sh:Violation  sh:Warning\n",
      "message                                                                   \n",
      "@id should be provided                         0          5480           0\n",
      "Included variableMeasured, if available     5480             0           0\n",
      "Name is required                               0            11           0\n",
      "Resource must have a description               0            11           0\n",
      "Resource must have an identifier node          0             0        5480\n",
      "Resource must have one or more keywords        0            19           0\n",
      "distribution required                          0             0        5480\n"
     ]
    },
    {
     "data": {
      "text/plain": "<AxesSubplot:xlabel='severity', ylabel='message'>"
     },
     "execution_count": 23,
     "metadata": {},
     "output_type": "execute_result"
    },
    {
     "data": {
      "text/plain": "<Figure size 842.4x595.44 with 2 Axes>",
      "image/png": "[encoded data removed]"
     },
     "metadata": {},
     "output_type": "display_data"
    }
   ],
   "source": [
    "pdf = kg.query_as_df(sparql)\n",
    "df = pdf.to_pandas()\n",
    "df.style.background_gradient(cmap='Blues')\n",
    "\n",
    "dfc = df.groupby('severity').count().reset_index().rename(columns={'path': 'Count'})\n",
    "ctst = pd.crosstab(df['message'], df['severity'],  margins = False , margins_name = 'Totals')\n",
    "\n",
    "print(\"Checking {} objects in {}\".format(len(fns),checkPrefix ))\n",
    "print(ctst)\n",
    "\n",
    "sns.set(rc={'figure.figsize':(11.7,8.27)})\n",
    "sns.heatmap(ctst, annot=True, fmt=\".0f\", cmap = sns.cm.crest)"
   ]
  },
  {
   "cell_type": "code",
   "execution_count": 24,
   "metadata": {
    "collapsed": false,
    "jupyter": {
     "outputs_hidden": false
    },
    "pycharm": {
     "name": "#%%\n"
    }
   },
   "outputs": [],
   "source": [
    "# TODO export to parquet and or CSV\n",
    "# df.to_parquet(\"./output/eco_opentopo_SHACL.parquet\")\n",
    "df.to_csv(\"./output/obistesting.csv\")"
   ]
  },
  {
   "cell_type": "markdown",
   "source": [
    "## How to read\n",
    "\n",
    "* provide a URL for each error"
   ],
   "metadata": {
    "collapsed": false,
    "pycharm": {
     "name": "#%% md\n"
    }
   }
  },
  {
   "cell_type": "code",
   "execution_count": null,
   "outputs": [],
   "source": [],
   "metadata": {
    "collapsed": false,
    "pycharm": {
     "name": "#%%\n"
    }
   }
  }
 ],
 "metadata": {
  "colab": {
   "collapsed_sections": [],
   "name": "DaskPlayGround.ipynb",
   "provenance": [],
   "toc_visible": true
  },
  "kernelspec": {
   "display_name": "Python [conda env:.conda-kglab] *",
   "language": "python",
   "name": "conda-env-.conda-kglab-py"
  },
  "language_info": {
   "codemirror_mode": {
    "name": "ipython",
    "version": 3
   },
   "file_extension": ".py",
   "mimetype": "text/x-python",
   "name": "python",
   "nbconvert_exporter": "python",
   "pygments_lexer": "ipython3",
   "version": "3.8.10"
  }
 },
 "nbformat": 4,
 "nbformat_minor": 4
}