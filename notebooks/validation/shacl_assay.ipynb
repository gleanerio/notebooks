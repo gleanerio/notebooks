{
 "cells": [
  {
   "cell_type": "markdown",
   "metadata": {
    "id": "GXzeuoO2zHt_"
   },
   "source": [
    "# GleanerIO SHACL processor\n",
    "\n",
    "## About\n",
    "\n",
    "Ted Habberman presented to the CDF on ISO metadata analysis.  I have been exploring some approaches to accessing the FAIR Digital Object server that is part of the standard setup supporting GeoCODES and other groups.  Leveraging Python Dask and S3 Boto it is easy to access these object stores in a highly performant manner.  \n",
    "\n",
    "In addition to DASK there is S3SELECT as well as SPARQL calls on objects and triplestores.  \n",
    "\n",
    "## Notes\n",
    "\n",
    "Curious above local context file reading when doing lots of calls.  PyLD seems to know to do caching but not sure how it could in a Dask based pattern.\n",
    "\n",
    "May need to explore approach to read local files for context like\n",
    "\n",
    "Use for reports, FPDFF:  https://pyfpdf.readthedocs.io/en/latest/Tutorial/index.html"
   ]
  },
  {
   "cell_type": "markdown",
   "metadata": {
    "id": "B5cajEkMzsp6"
   },
   "source": [
    "## Imports\n"
   ]
  },
  {
   "cell_type": "code",
   "execution_count": 71,
   "metadata": {
    "id": "hoCJfO4s0BF_"
   },
   "outputs": [],
   "source": [
    "import warnings\n",
    "warnings.simplefilter(action='ignore', category=FutureWarning)  ## remove pandas future warning\n",
    "\n",
    "import dask\n",
    "import boto3\n",
    "import pandas as pd\n",
    "import json\n",
    "import s3fs\n",
    "import kglab\n",
    "import seaborn as sns\n",
    "from rdflib import Graph  #, plugin\n",
    "import getpass\n",
    "import plotly.express as px\n",
    "import matplotlib.pyplot as plt\n",
    "\n",
    "\n",
    "import time\n",
    "from datetime import datetime\n",
    "from reportlab.lib.enums import TA_JUSTIFY\n",
    "from reportlab.lib.pagesizes import letter\n",
    "from reportlab.platypus import *\n",
    "from reportlab.lib.styles import getSampleStyleSheet, ParagraphStyle\n",
    "from reportlab.rl_config import defaultPageSize\n",
    "from reportlab.lib.units import inch"
   ]
  },
  {
   "cell_type": "markdown",
   "metadata": {},
   "source": [
    "## Set up Dask client"
   ]
  },
  {
   "cell_type": "code",
   "execution_count": 33,
   "metadata": {},
   "outputs": [
    {
     "name": "stderr",
     "output_type": "stream",
     "text": [
      "/home/fils/.conda/envs/kglab/lib/python3.8/site-packages/distributed/node.py:160: UserWarning: Port 8787 is already in use.\n",
      "Perhaps you already have a cluster running?\n",
      "Hosting the HTTP server on port 39081 instead\n",
      "  warnings.warn(\n"
     ]
    },
    {
     "data": {
      "text/plain": "<Client: 'tcp://127.0.0.1:44361' processes=4 threads=20, memory=31.18 GiB>",
      "text/html": "\n            <div>\n                <div style=\"\n                    width: 24px;\n                    height: 24px;\n                    background-color: #e1e1e1;\n                    border: 3px solid #9D9D9D;\n                    border-radius: 5px;\n                    position: absolute;\"> </div>\n                <div style=\"margin-left: 48px;\">\n                    <h3 style=\"margin-bottom: 0px;\">Client</h3>\n                    <p style=\"color: #9D9D9D; margin-bottom: 0px;\">Client-e432dbb0-0c4b-11ed-b555-18c04d87f382</p>\n                    <table style=\"width: 100%; text-align: left;\">\n                    \n                <tr>\n                    <td style=\"text-align: left;\"><strong>Connection method:</strong> Cluster object</td>\n                    <td style=\"text-align: left;\"><strong>Cluster type:</strong> LocalCluster</td>\n                </tr>\n                \n                <tr>\n                    <td style=\"text-align: left;\">\n                        <strong>Dashboard: </strong>\n                        <a href=\"http://127.0.0.1:39081/status\">http://127.0.0.1:39081/status</a>\n                    </td>\n                    <td style=\"text-align: left;\"></td>\n                </tr>\n                \n                    </table>\n                    \n                <details>\n                <summary style=\"margin-bottom: 20px;\"><h3 style=\"display: inline;\">Cluster Info</h3></summary>\n                \n            <div class=\"jp-RenderedHTMLCommon jp-RenderedHTML jp-mod-trusted jp-OutputArea-output\">\n                <div style=\"\n                    width: 24px;\n                    height: 24px;\n                    background-color: #e1e1e1;\n                    border: 3px solid #9D9D9D;\n                    border-radius: 5px;\n                    position: absolute;\"> </div>\n                <div style=\"margin-left: 48px;\">\n                    <h3 style=\"margin-bottom: 0px; margin-top: 0px;\">LocalCluster</h3>\n                    <p style=\"color: #9D9D9D; margin-bottom: 0px;\">26ebd213</p>\n                    <table style=\"width: 100%; text-align: left;\">\n                    \n            <tr>\n                <td style=\"text-align: left;\"><strong>Status:</strong> running</td>\n                <td style=\"text-align: left;\"><strong>Using processes:</strong> True</td>\n            </tr>\n        \n            <tr>\n                <td style=\"text-align: left;\">\n                    <strong>Dashboard:</strong> <a href=\"http://127.0.0.1:39081/status\">http://127.0.0.1:39081/status</a>\n                </td>\n                <td style=\"text-align: left;\"><strong>Workers:</strong> 4</td>\n            </tr>\n            <tr>\n                <td style=\"text-align: left;\">\n                    <strong>Total threads:</strong>\n                    20\n                </td>\n                <td style=\"text-align: left;\">\n                    <strong>Total memory:</strong>\n                    31.18 GiB\n                </td>\n            </tr>\n        \n                    </table>\n                    <details>\n                    <summary style=\"margin-bottom: 20px;\"><h3 style=\"display: inline;\">Scheduler Info</h3></summary>\n                    \n        <div style=\"\">\n            \n            <div>\n                <div style=\"\n                    width: 24px;\n                    height: 24px;\n                    background-color: #FFF7E5;\n                    border: 3px solid #FF6132;\n                    border-radius: 5px;\n                    position: absolute;\"> </div>\n                <div style=\"margin-left: 48px;\">\n                    <h3 style=\"margin-bottom: 0px;\">Scheduler</h3>\n                    <p style=\"color: #9D9D9D; margin-bottom: 0px;\">Scheduler-e71bec46-102d-4234-9502-05deea30f7d8</p>\n                    <table style=\"width: 100%; text-align: left;\">\n                        <tr>\n                            <td style=\"text-align: left;\"><strong>Comm:</strong> tcp://127.0.0.1:44361</td>\n                            <td style=\"text-align: left;\"><strong>Workers:</strong> 4</td>\n                        </tr>\n                        <tr>\n                            <td style=\"text-align: left;\">\n                                <strong>Dashboard:</strong> <a href=\"http://127.0.0.1:39081/status\">http://127.0.0.1:39081/status</a>\n                            </td>\n                            <td style=\"text-align: left;\">\n                                <strong>Total threads:</strong>\n                                20\n                            </td>\n                        </tr>\n                        <tr>\n                            <td style=\"text-align: left;\">\n                                <strong>Started:</strong>\n                                Just now\n                            </td>\n                            <td style=\"text-align: left;\">\n                                <strong>Total memory:</strong>\n                                31.18 GiB\n                            </td>\n                        </tr>\n                    </table>\n                </div>\n            </div>\n        \n            <details style=\"margin-left: 48px;\">\n            <summary style=\"margin-bottom: 20px;\"><h3 style=\"display: inline;\">Workers</h3></summary>\n            \n            <div style=\"margin-bottom: 20px;\">\n                <div style=\"width: 24px;\n                            height: 24px;\n                            background-color: #DBF5FF;\n                            border: 3px solid #4CC9FF;\n                            border-radius: 5px;\n                            position: absolute;\"> </div>\n                <div style=\"margin-left: 48px;\">\n                <details>\n                    <summary>\n                        <h4 style=\"margin-bottom: 0px; display: inline;\">Worker: 0</h4>\n                    </summary>\n                    <table style=\"width: 100%; text-align: left;\">\n                        <tr>\n                            <td style=\"text-align: left;\"><strong>Comm: </strong> tcp://127.0.0.1:37229</td>\n                            <td style=\"text-align: left;\"><strong>Total threads: </strong> 5</td>\n                        </tr>\n                        <tr>\n                            <td style=\"text-align: left;\">\n                                <strong>Dashboard: </strong>\n                                <a href=\"http://127.0.0.1:36343/status\">http://127.0.0.1:36343/status</a>\n                            </td>\n                            <td style=\"text-align: left;\">\n                                <strong>Memory: </strong>\n                                7.79 GiB\n                            </td>\n                        </tr>\n                        <tr>\n                            <td style=\"text-align: left;\"><strong>Nanny: </strong> tcp://127.0.0.1:44885</td>\n                            <td style=\"text-align: left;\"></td>\n                        </tr>\n                        <tr>\n                            <td colspan=\"2\" style=\"text-align: left;\">\n                                <strong>Local directory: </strong>\n                                /home/fils/Containers/dvols/jupyter/work/Gleaner/notebooks/validation/dask-worker-space/worker-h6gvph44\n                            </td>\n                        </tr>\n                        \n                <tr>\n                    <td style=\"text-align: left;\">\n                        <strong>GPU: </strong>NVIDIA GeForce GTX 1050 Ti\n                    </td>\n                    <td style=\"text-align: left;\">\n                        <strong>GPU memory: </strong>\n                        4.00 GiB\n                    </td>\n                </tr>\n                \n                        \n                    </table>\n                </details>\n                </div>\n            </div>\n            \n            <div style=\"margin-bottom: 20px;\">\n                <div style=\"width: 24px;\n                            height: 24px;\n                            background-color: #DBF5FF;\n                            border: 3px solid #4CC9FF;\n                            border-radius: 5px;\n                            position: absolute;\"> </div>\n                <div style=\"margin-left: 48px;\">\n                <details>\n                    <summary>\n                        <h4 style=\"margin-bottom: 0px; display: inline;\">Worker: 1</h4>\n                    </summary>\n                    <table style=\"width: 100%; text-align: left;\">\n                        <tr>\n                            <td style=\"text-align: left;\"><strong>Comm: </strong> tcp://127.0.0.1:42565</td>\n                            <td style=\"text-align: left;\"><strong>Total threads: </strong> 5</td>\n                        </tr>\n                        <tr>\n                            <td style=\"text-align: left;\">\n                                <strong>Dashboard: </strong>\n                                <a href=\"http://127.0.0.1:38799/status\">http://127.0.0.1:38799/status</a>\n                            </td>\n                            <td style=\"text-align: left;\">\n                                <strong>Memory: </strong>\n                                7.79 GiB\n                            </td>\n                        </tr>\n                        <tr>\n                            <td style=\"text-align: left;\"><strong>Nanny: </strong> tcp://127.0.0.1:39885</td>\n                            <td style=\"text-align: left;\"></td>\n                        </tr>\n                        <tr>\n                            <td colspan=\"2\" style=\"text-align: left;\">\n                                <strong>Local directory: </strong>\n                                /home/fils/Containers/dvols/jupyter/work/Gleaner/notebooks/validation/dask-worker-space/worker-ss2w_dd0\n                            </td>\n                        </tr>\n                        \n                <tr>\n                    <td style=\"text-align: left;\">\n                        <strong>GPU: </strong>NVIDIA GeForce GTX 1050 Ti\n                    </td>\n                    <td style=\"text-align: left;\">\n                        <strong>GPU memory: </strong>\n                        4.00 GiB\n                    </td>\n                </tr>\n                \n                        \n                    </table>\n                </details>\n                </div>\n            </div>\n            \n            <div style=\"margin-bottom: 20px;\">\n                <div style=\"width: 24px;\n                            height: 24px;\n                            background-color: #DBF5FF;\n                            border: 3px solid #4CC9FF;\n                            border-radius: 5px;\n                            position: absolute;\"> </div>\n                <div style=\"margin-left: 48px;\">\n                <details>\n                    <summary>\n                        <h4 style=\"margin-bottom: 0px; display: inline;\">Worker: 2</h4>\n                    </summary>\n                    <table style=\"width: 100%; text-align: left;\">\n                        <tr>\n                            <td style=\"text-align: left;\"><strong>Comm: </strong> tcp://127.0.0.1:43561</td>\n                            <td style=\"text-align: left;\"><strong>Total threads: </strong> 5</td>\n                        </tr>\n                        <tr>\n                            <td style=\"text-align: left;\">\n                                <strong>Dashboard: </strong>\n                                <a href=\"http://127.0.0.1:38731/status\">http://127.0.0.1:38731/status</a>\n                            </td>\n                            <td style=\"text-align: left;\">\n                                <strong>Memory: </strong>\n                                7.79 GiB\n                            </td>\n                        </tr>\n                        <tr>\n                            <td style=\"text-align: left;\"><strong>Nanny: </strong> tcp://127.0.0.1:38475</td>\n                            <td style=\"text-align: left;\"></td>\n                        </tr>\n                        <tr>\n                            <td colspan=\"2\" style=\"text-align: left;\">\n                                <strong>Local directory: </strong>\n                                /home/fils/Containers/dvols/jupyter/work/Gleaner/notebooks/validation/dask-worker-space/worker-75ozrf4d\n                            </td>\n                        </tr>\n                        \n                <tr>\n                    <td style=\"text-align: left;\">\n                        <strong>GPU: </strong>NVIDIA GeForce GTX 1050 Ti\n                    </td>\n                    <td style=\"text-align: left;\">\n                        <strong>GPU memory: </strong>\n                        4.00 GiB\n                    </td>\n                </tr>\n                \n                        \n                    </table>\n                </details>\n                </div>\n            </div>\n            \n            <div style=\"margin-bottom: 20px;\">\n                <div style=\"width: 24px;\n                            height: 24px;\n                            background-color: #DBF5FF;\n                            border: 3px solid #4CC9FF;\n                            border-radius: 5px;\n                            position: absolute;\"> </div>\n                <div style=\"margin-left: 48px;\">\n                <details>\n                    <summary>\n                        <h4 style=\"margin-bottom: 0px; display: inline;\">Worker: 3</h4>\n                    </summary>\n                    <table style=\"width: 100%; text-align: left;\">\n                        <tr>\n                            <td style=\"text-align: left;\"><strong>Comm: </strong> tcp://127.0.0.1:41787</td>\n                            <td style=\"text-align: left;\"><strong>Total threads: </strong> 5</td>\n                        </tr>\n                        <tr>\n                            <td style=\"text-align: left;\">\n                                <strong>Dashboard: </strong>\n                                <a href=\"http://127.0.0.1:44605/status\">http://127.0.0.1:44605/status</a>\n                            </td>\n                            <td style=\"text-align: left;\">\n                                <strong>Memory: </strong>\n                                7.79 GiB\n                            </td>\n                        </tr>\n                        <tr>\n                            <td style=\"text-align: left;\"><strong>Nanny: </strong> tcp://127.0.0.1:43179</td>\n                            <td style=\"text-align: left;\"></td>\n                        </tr>\n                        <tr>\n                            <td colspan=\"2\" style=\"text-align: left;\">\n                                <strong>Local directory: </strong>\n                                /home/fils/Containers/dvols/jupyter/work/Gleaner/notebooks/validation/dask-worker-space/worker-jodln3xm\n                            </td>\n                        </tr>\n                        \n                <tr>\n                    <td style=\"text-align: left;\">\n                        <strong>GPU: </strong>NVIDIA GeForce GTX 1050 Ti\n                    </td>\n                    <td style=\"text-align: left;\">\n                        <strong>GPU memory: </strong>\n                        4.00 GiB\n                    </td>\n                </tr>\n                \n                        \n                    </table>\n                </details>\n                </div>\n            </div>\n            \n            </details>\n        </div>\n        \n                    </details>\n                </div>\n            </div>\n        \n                </details>\n                \n                </div>\n            </div>\n        "
     },
     "execution_count": 33,
     "metadata": {},
     "output_type": "execute_result"
    }
   ],
   "source": [
    "from dask.distributed import Client    #, progress\n",
    "client = Client(threads_per_worker=5, n_workers=4)\n",
    "client"
   ]
  },
  {
   "cell_type": "markdown",
   "metadata": {
    "id": "gF-jNcIplO3X"
   },
   "source": [
    "## File Access"
   ]
  },
  {
   "cell_type": "code",
   "execution_count": 34,
   "metadata": {
    "colab": {
     "base_uri": "https://localhost:8080/",
     "height": 74
    },
    "id": "Nkiij1wElRrf",
    "outputId": "0f8a88aa-3c71-49f4-98a4-e58396f15412"
   },
   "outputs": [],
   "source": [
    "# ## Anonymous S3 File system\n",
    "# oss = s3fs.S3FileSystem(\n",
    "#     anon=True,\n",
    "#     client_kwargs = {\"endpoint_url\":\"https://oss.geodex.org\"}\n",
    "# )\n",
    "\n",
    "# Access controlled s3\n",
    "session = boto3.Session(profile_name='default' ,   region_name=\"us-east-1\")\n",
    "s3 = session.client('s3')  # needed later for listing objects\n",
    "s3r = session.resource('s3')\n",
    "oss = s3fs.S3FileSystem( profile=\"default\")\n",
    "\n",
    "## Manual code access\n",
    "# ACCESS_CODE = getpass.getpass()\n",
    "# SECRET_CODE = getpass.getpass()\n",
    "#\n",
    "# oss = s3fs.S3FileSystem(\n",
    "#     anon=False,\n",
    "#     key=ACCESS_CODE,\n",
    "#     secret=SECRET_CODE,\n",
    "#     client_kwargs = {\"endpoint_url\":\"http://192.168.202.114:49155\"}\n",
    "# )"
   ]
  },
  {
   "cell_type": "code",
   "execution_count": 35,
   "metadata": {},
   "outputs": [
    {
     "name": "stdout",
     "output_type": "stream",
     "text": [
      "['gleaner.oih/summoned/aquadocs', 'gleaner.oih/summoned/edmerp', 'gleaner.oih/summoned/edmo', 'gleaner.oih/summoned/invemardocuments', 'gleaner.oih/summoned/invemarexpert', 'gleaner.oih/summoned/invemarinstitution', 'gleaner.oih/summoned/invemartraining', 'gleaner.oih/summoned/invemarvessel', 'gleaner.oih/summoned/marinetraining', 'gleaner.oih/summoned/obis', 'gleaner.oih/summoned/obps']\n"
     ]
    }
   ],
   "source": [
    "# [optional] List the directories we can work with later\n",
    "# sumlist = oss.ls('gleaner/summoned')\n",
    "sumlist = oss.ls('gleaner.oih/summoned/')\n",
    "print(sumlist)"
   ]
  },
  {
   "cell_type": "markdown",
   "metadata": {
    "pycharm": {
     "name": "#%% md\n"
    }
   },
   "source": [
    "### Definitions"
   ]
  },
  {
   "cell_type": "code",
   "execution_count": 58,
   "metadata": {
    "collapsed": false,
    "jupyter": {
     "outputs_hidden": false
    },
    "pycharm": {
     "name": "#%%\n"
    }
   },
   "outputs": [],
   "source": [
    "# SHACL function\n",
    "@dask.delayed()\n",
    "def read_and_validate(fn):\n",
    "    # make a kg to hold our data graph\n",
    "    namespaces = {\n",
    "        \"schema\":  \"https://schema.org/\",\n",
    "        \"shacl\":   \"http://www.w3.org/ns/shacl#\" ,\n",
    "    }\n",
    "\n",
    "    kg = kglab.KnowledgeGraph(\n",
    "        name = \"Schema.org based datagraph\",\n",
    "        base_uri = \"https://example.org/id/\",\n",
    "        namespaces = namespaces,\n",
    "    )\n",
    "\n",
    "    ## this is a mess.   no need to load to a graph objet to validate.  also, \n",
    "    ## can we load up the graph first and then validate later for everythng?\n",
    "    with oss.open(fn, 'rb') as f:\n",
    "        jld = json.loads(f.read().decode(\"utf-8\", \"ignore\").replace('\\n',' '))\n",
    "        jlds = json.dumps(jld)\n",
    "\n",
    "        g = Graph().parse(data=jlds, format='json-ld')\n",
    "        context = {\n",
    "            \"@vocab\": \"https://schema.org/\",\n",
    "        }\n",
    "\n",
    "        ttl = g.serialize(format='ttl', context=context, indent=4)\n",
    "        kg.load_rdf_text(ttl, format=\"ttl\", base=None)\n",
    "\n",
    "        conforms, report_graph, report_text = kg.validate(\n",
    "            shacl_graph=sg,\n",
    "            shacl_graph_format=\"ttl\"\n",
    "        )\n",
    "\n",
    "        return report_graph.save_rdf_text()  # return graph object or string of graph"
   ]
  },
  {
   "cell_type": "markdown",
   "source": [
    "## Set variables for run targets"
   ],
   "metadata": {
    "collapsed": false
   }
  },
  {
   "cell_type": "code",
   "execution_count": 78,
   "outputs": [],
   "source": [
    "# Set the shapegraph to use\n",
    "sg = './shapes/geocodes_dcscan.ttl'  # soso_common_v1.2.3.ttl   geocodes_dcscan.ttl\n",
    "sgurl = sg\n",
    "\n",
    "# which of the above prefix to check\n",
    "checkPrefix = \"gleaner.oih/summoned/obis\"\n",
    "\n",
    "now = datetime.now()\n",
    "date_time = now.strftime(\"%m-%d-%Y-%H-%M-%S\")"
   ],
   "metadata": {
    "collapsed": false,
    "pycharm": {
     "name": "#%%\n"
    }
   }
  },
  {
   "cell_type": "markdown",
   "metadata": {},
   "source": [
    "## Process the files via Dask\n"
   ]
  },
  {
   "cell_type": "code",
   "execution_count": 63,
   "metadata": {
    "id": "bxgBNI0cZC0Z",
    "tags": []
   },
   "outputs": [
    {
     "name": "stdout",
     "output_type": "stream",
     "text": [
      "CPU times: user 11.8 s, sys: 1.14 s, total: 13 s\n",
      "Wall time: 48.1 s\n"
     ]
    }
   ],
   "source": [
    "%%time\n",
    "\n",
    "fns = oss.ls(checkPrefix)\n",
    "o = [read_and_validate(f) for f in fns]\n",
    "results = dask.compute(*o)"
   ]
  },
  {
   "cell_type": "markdown",
   "metadata": {},
   "source": [
    "### Loop on results and load to graph"
   ]
  },
  {
   "cell_type": "code",
   "execution_count": 72,
   "metadata": {},
   "outputs": [],
   "source": [
    "rnamespaces = {\n",
    "    \"schema\":  \"https://schema.org/\",\n",
    "    \"shacl\":   \"http://www.w3.org/ns/shacl#\" ,\n",
    "}\n",
    "\n",
    "kg = kglab.KnowledgeGraph(\n",
    "    name = \"Schema.org shacl eval datagraph\",\n",
    "    base_uri = \"https://example.org/id/\",\n",
    "    namespaces = rnamespaces,\n",
    ")\n",
    "\n",
    "for r in results:\n",
    "    kg.load_rdf_text(data=r, format=\"ttl\")"
   ]
  },
  {
   "cell_type": "code",
   "execution_count": 80,
   "metadata": {},
   "outputs": [
    {
     "name": "stdout",
     "output_type": "stream",
     "text": [
      "severity                                 sh:Info  sh:Violation  sh:Warning\n",
      "message                                                                   \n",
      "@id should be provided                         0          4426           0\n",
      "Included variableMeasured, if available     4426             0           0\n",
      "Name is required                               0            11           0\n",
      "Resource must have a description               0            11           0\n",
      "Resource must have an identifier node          0             0        4426\n",
      "Resource must have one or more keywords        0            18           0\n",
      "distribution required                          0             0        4426\n"
     ]
    },
    {
     "data": {
      "text/plain": "<Figure size 842.4x595.44 with 2 Axes>",
      "image/png": "[encoded data removed]"
     },
     "metadata": {},
     "output_type": "display_data"
    }
   ],
   "source": [
    "sparql = \"\"\"\n",
    "SELECT ?path ?value ?constraint ?severity ?message ?id ?focus\n",
    "  WHERE {\n",
    "    ?id rdf:type shacl:ValidationResult .\n",
    "    ?id shacl:focusNode ?focus .\n",
    "    ?id shacl:resultMessage ?message .\n",
    "    ?id shacl:resultSeverity ?severity .\n",
    "    ?id shacl:sourceConstraintComponent ?constraint .\n",
    "    OPTIONAL {\n",
    "        ?id shacl:resultPath ?path .\n",
    "    }\n",
    "    OPTIONAL {\n",
    "        ?id shacl:value ?value .\n",
    "    }\n",
    "  }\n",
    "\"\"\"\n",
    "\n",
    "pdf = kg.query_as_df(sparql)\n",
    "df = pdf.to_pandas()  #  breaks with papermill for reasons unknown at this time if to_pandas() is used, needed in my kglab conda env\n",
    "\n",
    "if 'severity' in df.columns:\n",
    "    dfc = df.groupby('severity').count().reset_index().rename(columns={'path': 'Count'})\n",
    "    ctst = pd.crosstab(df['message'], df['severity'],  margins = False , margins_name = 'Totals')\n",
    "\n",
    "    # s1 = str(\"Checking {} object(s)\".format(len(dg) ))\n",
    "    s1 = \"Checking obects\"\n",
    "    # print(s1)\n",
    "    print(ctst)\n",
    "\n",
    "    sns.set(rc={'figure.figsize':(11.7,8.27)})\n",
    "    sns.heatmap(ctst, annot=True, fmt=\".0f\", cmap = sns.cm.crest)\n",
    "    plt.savefig('./output/heatmap_{}.png'.format(date_time))\n",
    "else:\n",
    "    print(\"No severity column found, all SHACL validations must have passed OR a processing error occurred upstream\")"
   ]
  },
  {
   "cell_type": "code",
   "execution_count": 81,
   "outputs": [],
   "source": [
    "# build report\n",
    "Story=[]\n",
    "\n",
    "styles = getSampleStyleSheet()\n",
    "HeaderStyle = styles[\"Heading1\"]\n",
    "ParaStyle = styles[\"Normal\"]\n",
    "PreStyle = styles[\"Code\"]\n",
    "\n",
    "def header(txt, style=HeaderStyle, klass=Paragraph, sep=0.3):\n",
    "    s = Spacer(0.2*inch, sep*inch)\n",
    "    para = klass(txt, style)\n",
    "    sect = [s, para]\n",
    "    result = KeepTogether(sect)\n",
    "    return result\n",
    "\n",
    "def pre(txt):\n",
    "    s = Spacer(0.1*inch, 0.1*inch)\n",
    "    p = Preformatted(txt, PreStyle)\n",
    "    precomps = [s,p]\n",
    "    result = KeepTogether(precomps)\n",
    "    return result\n",
    "\n",
    "doc = SimpleDocTemplate(\"./output/report_{}.pdf\".format(date_time),pagesize=letter,\n",
    "                        rightMargin=72,leftMargin=72,\n",
    "                        topMargin=72,bottomMargin=18)\n",
    "\n",
    "logo = './output/heatmap_{}.png'.format(date_time)\n",
    "im = Image(logo, 4*inch, 3*inch)\n",
    "\n",
    "address_parts = [\"RunID: {}\".format(date_time), \"Shape graph: {}\".format(sgurl)]\n",
    "\n",
    "styles=getSampleStyleSheet()\n",
    "styles.add(ParagraphStyle(name='Justify', alignment=TA_JUSTIFY))\n",
    "\n",
    "\n",
    "\n",
    "# Create return address\n",
    "full_name = \"Validation report\"\n",
    "ptext = '%s' % full_name\n",
    "Story.append(Paragraph(ptext, styles[\"Heading1\"]))\n",
    "\n",
    "# add date and time\n",
    "formatted_time = time.ctime()\n",
    "ptext = '%s' % formatted_time\n",
    "Story.append(Paragraph(ptext, styles[\"Normal\"]))\n",
    "Story.append(Spacer(1, 12))\n",
    "\n",
    "for part in address_parts:\n",
    "    ptext = '%s' % part.strip()\n",
    "    Story.append(Paragraph(ptext, styles[\"Normal\"]))\n",
    "\n",
    "Story.append(Spacer(1, 12))\n",
    "ptext = 'There were validation issues with the following resources.  They were not able to be checked'\n",
    "Story.append(Paragraph(ptext, styles[\"Justify\"]))\n",
    "Story.append(Spacer(1, 12))\n",
    "# for part in fna:\n",
    "#     ptext = '%s' % part.strip()\n",
    "#     Story.append(Paragraph(ptext, styles[\"Code\"]))\n",
    "\n",
    "Story.append(Spacer(1, 12))\n",
    "\n",
    "ptext = 'This is a validation report using pySHACL to process the provided data graphs \\\n",
    "        against the noted shape graph.  A heat map of the results is seen below to provide \\\n",
    "        a quick over view.  However, the details are easier to leverage from the generated \\\n",
    "        CSV document that will come with this report. '\n",
    "\n",
    "Story.append(Paragraph(ptext, styles[\"Justify\"]))\n",
    "Story.append(Spacer(1, 12))\n",
    "\n",
    "Story.append(Paragraph(s1, styles[\"Justify\"]))\n",
    "Story.append(Spacer(1, 12))\n",
    "\n",
    "# Story.append(Paragraph(str(ctst), styles[\"Code\"]))\n",
    "# Story.append(Spacer(1, 12))\n",
    "\n",
    "# Add the image\n",
    "Story.append(im)\n",
    "\n",
    "ptext = 'For more information about validation please visit the project documentation.  \\\n",
    "        Details of the errors reported can be found in the shape file documentation page.'\n",
    "Story.append(Paragraph(ptext, styles[\"Justify\"]))\n",
    "\n",
    "# Create return address\n",
    "Story.append(Spacer(1, 12))\n",
    "full_name = \"Details\"\n",
    "ptext = '%s' % full_name\n",
    "Story.append(Paragraph(ptext, styles[\"Heading1\"]))\n",
    "\n",
    "ptext = 'Details of the detected violations and the associated reference node are found in the CSV \\\n",
    "        that accompany this report:  validationReport_{}.csv '.format(date_time)\n",
    "\n",
    "Story.append(Paragraph(ptext, styles[\"Justify\"]))\n",
    "\n",
    "doc.build(Story)\n"
   ],
   "metadata": {
    "collapsed": false,
    "pycharm": {
     "name": "#%%\n"
    }
   }
  },
  {
   "cell_type": "code",
   "execution_count": 82,
   "metadata": {
    "collapsed": false,
    "jupyter": {
     "outputs_hidden": false
    },
    "pycharm": {
     "name": "#%%\n"
    }
   },
   "outputs": [],
   "source": [
    "# TODO export to parquet and or CSV\n",
    "# df.to_parquet(\"./output/eco_opentopo_SHACL.parquet\")\n",
    "df.to_csv(\"./output/validationReport_{}.csv\".format(date_time))"
   ]
  },
  {
   "cell_type": "code",
   "execution_count": null,
   "outputs": [],
   "source": [],
   "metadata": {
    "collapsed": false,
    "pycharm": {
     "name": "#%%\n"
    }
   }
  }
 ],
 "metadata": {
  "colab": {
   "collapsed_sections": [],
   "name": "DaskPlayGround.ipynb",
   "provenance": [],
   "toc_visible": true
  },
  "kernelspec": {
   "display_name": "Python [conda env:.conda-kglab] *",
   "language": "python",
   "name": "conda-env-.conda-kglab-py"
  },
  "language_info": {
   "codemirror_mode": {
    "name": "ipython",
    "version": 3
   },
   "file_extension": ".py",
   "mimetype": "text/x-python",
   "name": "python",
   "nbconvert_exporter": "python",
   "pygments_lexer": "ipython3",
   "version": "3.8.10"
  }
 },
 "nbformat": 4,
 "nbformat_minor": 4
}