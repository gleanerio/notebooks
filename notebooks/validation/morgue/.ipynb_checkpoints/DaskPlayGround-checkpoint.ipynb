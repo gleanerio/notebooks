{
 "cells": [
  {
   "cell_type": "markdown",
   "metadata": {
    "id": "GXzeuoO2zHt_"
   },
   "source": [
    "# EarthCube GeoCODES FAIR Digital Object Server Playground\n",
    "\n",
    "## About\n",
    "\n",
    "Ted Habberman presented to the CDF on ISO metadata analysis.  I have been exploring some approaches to accessing the FAIR Digital Object server that is part of the standard setup supporting GeoCODES and other groups.  Leveraging Python Dask and S3 Boto it is easy to access these object stores in a highly performant manner.  \n",
    "\n",
    "In addition to DASK there is S3SELECT as well as SPARQL calls on objects and triplestores.  \n",
    "\n",
    "\n",
    "## Why Dask\n",
    " \n",
    "![Example of Dask](../../docs/images/mydask10.png)\n",
    "\n",
    "\n",
    "## Notes\n",
    "\n",
    "Curious above local context file reading when doing lots of calls.  PyLD seems to know to do caching but not sure how it could in a Dask based pattern.\n",
    "\n",
    "May need to explore approach to read local files for context like\n",
    "\n",
    "```\n",
    "from pathlib import Path\n",
    "ctx = Path('jsonldcontext.json').read_text()\n",
    "```\n",
    "\n",
    "## References\n",
    "\n",
    "* https://www.project-freya.eu/en/about/mission\n",
    "* https://docs.dask.org/en/latest/\n",
    "* https://examples.dask.org/bag.html\n",
    "* https://s3fs.readthedocs.io/en/latest/\n",
    "* https://docs.dask.org/en/latest/remote-data-services.html\n",
    "* https://tutorial.dask.org/01_dask.delayed.html\n",
    "* https://examples.dask.org/applications/embarrassingly-parallel.html"
   ]
  },
  {
   "cell_type": "markdown",
   "metadata": {
    "id": "B5cajEkMzsp6"
   },
   "source": [
    "## Imports\n"
   ]
  },
  {
   "cell_type": "code",
   "execution_count": 1,
   "metadata": {
    "id": "hoCJfO4s0BF_"
   },
   "outputs": [
    {
     "name": "stderr",
     "output_type": "stream",
     "text": [
      "/home/fils/.conda/envs/kglab/lib/python3.8/site-packages/owlrl/__init__.py:177: UserWarning: Code: dateTimeStamp is not defined in namespace XSD\n",
      "  from . import DatatypeHandling, Closure\n",
      "/home/fils/.conda/envs/kglab/lib/python3.8/site-packages/owlrl/RDFSClosure.py:40: UserWarning: Code: dateTimeStamp is not defined in namespace XSD\n",
      "  from owlrl.AxiomaticTriples import RDFS_Axiomatic_Triples, RDFS_D_Axiomatic_Triples\n",
      "/home/fils/.conda/envs/kglab/lib/python3.8/site-packages/owlrl/RDFSClosure.py:40: UserWarning: Code: length is not defined in namespace XSD\n",
      "  from owlrl.AxiomaticTriples import RDFS_Axiomatic_Triples, RDFS_D_Axiomatic_Triples\n",
      "/home/fils/.conda/envs/kglab/lib/python3.8/site-packages/owlrl/RDFSClosure.py:40: UserWarning: Code: maxExclusive is not defined in namespace XSD\n",
      "  from owlrl.AxiomaticTriples import RDFS_Axiomatic_Triples, RDFS_D_Axiomatic_Triples\n",
      "/home/fils/.conda/envs/kglab/lib/python3.8/site-packages/owlrl/RDFSClosure.py:40: UserWarning: Code: maxInclusive is not defined in namespace XSD\n",
      "  from owlrl.AxiomaticTriples import RDFS_Axiomatic_Triples, RDFS_D_Axiomatic_Triples\n",
      "/home/fils/.conda/envs/kglab/lib/python3.8/site-packages/owlrl/RDFSClosure.py:40: UserWarning: Code: maxLength is not defined in namespace XSD\n",
      "  from owlrl.AxiomaticTriples import RDFS_Axiomatic_Triples, RDFS_D_Axiomatic_Triples\n",
      "/home/fils/.conda/envs/kglab/lib/python3.8/site-packages/owlrl/RDFSClosure.py:40: UserWarning: Code: minExclusive is not defined in namespace XSD\n",
      "  from owlrl.AxiomaticTriples import RDFS_Axiomatic_Triples, RDFS_D_Axiomatic_Triples\n",
      "/home/fils/.conda/envs/kglab/lib/python3.8/site-packages/owlrl/RDFSClosure.py:40: UserWarning: Code: minInclusive is not defined in namespace XSD\n",
      "  from owlrl.AxiomaticTriples import RDFS_Axiomatic_Triples, RDFS_D_Axiomatic_Triples\n",
      "/home/fils/.conda/envs/kglab/lib/python3.8/site-packages/owlrl/RDFSClosure.py:40: UserWarning: Code: minLength is not defined in namespace XSD\n",
      "  from owlrl.AxiomaticTriples import RDFS_Axiomatic_Triples, RDFS_D_Axiomatic_Triples\n",
      "/home/fils/.conda/envs/kglab/lib/python3.8/site-packages/owlrl/RDFSClosure.py:40: UserWarning: Code: pattern is not defined in namespace XSD\n",
      "  from owlrl.AxiomaticTriples import RDFS_Axiomatic_Triples, RDFS_D_Axiomatic_Triples\n",
      "/home/fils/.conda/envs/kglab/lib/python3.8/site-packages/owlrl/OWLRL.py:53: UserWarning: Code: dateTimeStamp is not defined in namespace XSD\n",
      "  from .XsdDatatypes import OWL_RL_Datatypes, OWL_Datatype_Subsumptions\n",
      "/home/fils/.conda/envs/kglab/lib/python3.8/site-packages/owlrl/OWLRLExtras.py:64: UserWarning: Code: dateTimeStamp is not defined in namespace XSD\n",
      "  from .RestrictedDatatype import extract_faceted_datatypes\n"
     ]
    }
   ],
   "source": [
    "import dask, boto3\n",
    "import dask.dataframe as dd\n",
    "import pandas as pd\n",
    "import json\n",
    "from pyld import jsonld\n",
    "import s3fs \n",
    "from pyld import jsonld\n",
    "import numpy as np\n",
    "from dask import delayed\n",
    "from fastparquet import ParquetFile\n",
    "\n",
    "import kglab\n",
    "from rdflib import Graph, plugin\n",
    "from rdflib.serializer import Serializer"
   ]
  },
  {
   "cell_type": "markdown",
   "metadata": {
    "id": "gF-jNcIplO3X"
   },
   "source": [
    "### Set PD frame options"
   ]
  },
  {
   "cell_type": "code",
   "execution_count": 2,
   "metadata": {
    "colab": {
     "base_uri": "https://localhost:8080/",
     "height": 74
    },
    "id": "Nkiij1wElRrf",
    "outputId": "0f8a88aa-3c71-49f4-98a4-e58396f15412"
   },
   "outputs": [],
   "source": [
    "pd.set_option('display.max_rows', None)\n",
    "pd.set_option('display.max_columns', None)\n",
    "pd.set_option('display.width', None)\n",
    "pd.set_option('display.max_colwidth', None)"
   ]
  },
  {
   "cell_type": "markdown",
   "metadata": {
    "id": "90tBuePF6NCf"
   },
   "source": [
    "### Set S3 File System"
   ]
  },
  {
   "cell_type": "code",
   "execution_count": 3,
   "metadata": {
    "id": "4tdztPG6gl8b"
   },
   "outputs": [],
   "source": [
    "oss = s3fs.S3FileSystem(\n",
    "      anon=True,\n",
    "      client_kwargs = {\"endpoint_url\":\"https://oss.geodex.org\"}\n",
    "   )"
   ]
  },
  {
   "cell_type": "code",
   "execution_count": 4,
   "metadata": {},
   "outputs": [],
   "source": [
    "# [optional] List the directories we can work with later\n",
    "# oss.ls('gleaner/summoned')"
   ]
  },
  {
   "cell_type": "markdown",
   "source": [
    "### Set Shape graph"
   ],
   "metadata": {
    "collapsed": false
   }
  },
  {
   "cell_type": "code",
   "execution_count": 5,
   "outputs": [],
   "source": [
    "sg = './shapes/eco_general1.ttl'"
   ],
   "metadata": {
    "collapsed": false,
    "pycharm": {
     "name": "#%%\n"
    }
   }
  },
  {
   "cell_type": "markdown",
   "metadata": {
    "pycharm": {
     "name": "#%% md\n"
    }
   },
   "source": [
    "### Definitions\n",
    "\n",
    "Define some functions to use"
   ]
  },
  {
   "cell_type": "code",
   "execution_count": 6,
   "outputs": [],
   "source": [
    "# some color coding for pandas for later\n",
    "def change_color_group(x):\n",
    "    df = x.copy()\n",
    "    df.loc[df['severity'] == \"shacl:Violation\", :] = 'background-color: #F89782'\n",
    "    df.loc[df['severity'] == \"shacl:Warning\", :] = 'background-color: #F0F480'\n",
    "    df.loc[df['severity'] == \"shacl:Info\", :] = 'background-color: #CBFBD2'\n",
    "    return df"
   ],
   "metadata": {
    "collapsed": false,
    "pycharm": {
     "name": "#%%\n"
    }
   }
  },
  {
   "cell_type": "code",
   "execution_count": 7,
   "metadata": {
    "id": "9FYdl5vvZsN6"
   },
   "outputs": [],
   "source": [
    "# strip all elements of a list, used in processing keyword lists\n",
    "def striplist(l):\n",
    "    return([x.strip() for x in l])"
   ]
  },
  {
   "cell_type": "code",
   "execution_count": 8,
   "metadata": {
    "id": "mekdsVc6DJNR"
   },
   "outputs": [],
   "source": [
    "# Simple read and return entire JSON-LD object task\n",
    "# Not as efficient as incorporating the processing into the Dask pattern\n",
    "@dask.delayed()\n",
    "def read_a_file(fn):\n",
    "    # or preferably open in text mode and json.load from the file\n",
    "    with oss.open(fn, 'rb') as f:\n",
    "        #return json.loads(f.read().replace('\\n',' '))\n",
    "        return json.loads(f.read().decode(\"utf-8\", \"ignore\").replace('\\n',' '))"
   ]
  },
  {
   "cell_type": "code",
   "execution_count": 9,
   "metadata": {},
   "outputs": [],
   "source": [
    "# Simple JSON-LD framing inside Dask function\n",
    "@dask.delayed()\n",
    "def read_and_frame(fn):\n",
    "    # or preferably open in text mode and json.load from the file\n",
    "    citationframe = {\"@context\":{\"@vocab\": \"https://schema.org/\"}, \"@type\": \"Dataset\", \"@explicit\": \"true\", \"citation\": {}};\n",
    "#   citationframe = {\"@context\":{\"@vocab\": ctx}, \"@type\": \"Dataset\", \"@explicit\": \"true\", \"citation\": {}};\n",
    "    with oss.open(fn, 'rb') as f:\n",
    "        #return json.loads(f.read().replace('\\n',' '))\n",
    "        jld = json.loads(f.read().decode(\"utf-8\", \"ignore\").replace('\\n',' '))\n",
    "        framed = jsonld.frame(jld, citationframe)\n",
    "        return framed['citation']\n"
   ]
  },
  {
   "cell_type": "code",
   "execution_count": 10,
   "metadata": {},
   "outputs": [],
   "source": [
    "# Read parquet\n",
    "@dask.delayed\n",
    "def load_chunk(fn):\n",
    "    with oss.open(fn, 'rb') as f:\n",
    "        return ParquetFile(f).to_pandas()"
   ]
  },
  {
   "cell_type": "code",
   "execution_count": 11,
   "outputs": [],
   "source": [
    "# SHACL function\n",
    "@dask.delayed()\n",
    "def read_and_validate(fn):\n",
    "    # make a kg to hold our data graph\n",
    "    namespaces = {\n",
    "        \"schema\":  \"https://schema.org/\",\n",
    "        \"shacl\":   \"http://www.w3.org/ns/shacl#\" ,\n",
    "    }\n",
    "\n",
    "    kg = kglab.KnowledgeGraph(\n",
    "        name = \"Schema.org based datagraph\",\n",
    "        base_uri = \"https://example.org/id/\",\n",
    "        namespaces = namespaces,\n",
    "    )\n",
    "\n",
    "    with oss.open(fn, 'rb') as f:\n",
    "        jld = json.loads(f.read().decode(\"utf-8\", \"ignore\").replace('\\n',' '))\n",
    "        jlds = json.dumps(jld)\n",
    "\n",
    "        g = Graph().parse(data=jlds, format='json-ld')\n",
    "        context = {\n",
    "            \"@vocab\": \"https://schema.org/\",\n",
    "        }\n",
    "\n",
    "        ttl = g.serialize(format='ttl', context=context, indent=4)\n",
    "        kg.load_rdf_text(ttl, format=\"ttl\", base=None)\n",
    "\n",
    "        conforms, report_graph, report_text = kg.validate(\n",
    "            shacl_graph=sg,\n",
    "            shacl_graph_format=\"ttl\"\n",
    "        )\n",
    "\n",
    "        return report_graph.save_rdf_text()  # return graph object or string of graph"
   ],
   "metadata": {
    "collapsed": false,
    "pycharm": {
     "name": "#%%\n"
    }
   }
  },
  {
   "cell_type": "markdown",
   "metadata": {},
   "source": [
    "## Get files\n"
   ]
  },
  {
   "cell_type": "code",
   "execution_count": 12,
   "metadata": {},
   "outputs": [],
   "source": [
    "filenames = oss.ls('gleaner/summoned/opentopo')\n",
    "output = [read_a_file(f) for f in filenames]\n",
    "# output = [read_and_frame(f) for f in filenames]"
   ]
  },
  {
   "cell_type": "markdown",
   "metadata": {},
   "source": [
    "## Parquet testing\n"
   ]
  },
  {
   "cell_type": "code",
   "execution_count": 13,
   "metadata": {},
   "outputs": [],
   "source": [
    "# ddf = dd.from_delayed([load_chunk(f) for f in filenames])\n",
    "# ddf.groupby(['col_A', 'col_B']).value.sum().compute()"
   ]
  },
  {
   "cell_type": "markdown",
   "metadata": {},
   "source": [
    "## Main set"
   ]
  },
  {
   "cell_type": "markdown",
   "source": [
    "#### Test simple single validation"
   ],
   "metadata": {
    "collapsed": false
   }
  },
  {
   "cell_type": "code",
   "execution_count": 15,
   "outputs": [
    {
     "name": "stderr",
     "output_type": "stream",
     "text": [
      "Usage of abort_on_error is deprecated. Use abort_on_first instead.\n"
     ]
    },
    {
     "name": "stdout",
     "output_type": "stream",
     "text": [
      "@prefix oihval: <https://oceans.collaborium.io/voc/validation/1.0.1/shacl#> .\n",
      "@prefix schema: <https://schema.org/> .\n",
      "@prefix shacl: <http://www.w3.org/ns/shacl#> .\n",
      "@prefix xsd: <http://www.w3.org/2001/XMLSchema#> .\n",
      "\n",
      "[] a shacl:ValidationReport ;\n",
      "    shacl:conforms false ;\n",
      "    shacl:result [ a shacl:ValidationResult ;\n",
      "            shacl:focusNode <https://portal.opentopography.org/raster?opentopoID=OTSDEM.052020.6341.1> ;\n",
      "            shacl:resultMessage \"A provider must be noted\"@en ;\n",
      "            shacl:resultPath schema:provider ;\n",
      "            shacl:resultSeverity shacl:Violation ;\n",
      "            shacl:sourceConstraintComponent shacl:MinCountConstraintComponent ;\n",
      "            shacl:sourceShape oihval:identifierProviderProperty ] .\n",
      "\n",
      "\n"
     ]
    }
   ],
   "source": [
    "%%capture cap --no-stderr  --no-stdout\n",
    "\n",
    "fns = oss.ls('gleaner/summoned/opentopo')\n",
    "o = [read_and_validate(f) for f in fns]\n",
    "j = o[1].compute()\n",
    "print(j)"
   ],
   "metadata": {
    "collapsed": false,
    "pycharm": {
     "name": "#%%\n"
    }
   }
  },
  {
   "cell_type": "markdown",
   "source": [
    "#### Test simple single frame"
   ],
   "metadata": {
    "collapsed": false
   }
  },
  {
   "cell_type": "code",
   "execution_count": 61,
   "outputs": [
    {
     "name": "stdout",
     "output_type": "stream",
     "text": [
      "Speed, C. (2020). Interpreting Fluvial Processes from Channel-Belt Deposits, Utah 2018. National Center for Airborne Laser Mapping (NCALM). Distributed by OpenTopography. https://doi.org/10.5069/G9J964J3. Accessed: 2021-05-20\n"
     ]
    }
   ],
   "source": [
    "# Example of setting up and processing a single object through a function for testing.\n",
    "fns = oss.ls('gleaner/summoned/opentopo')\n",
    "o = [read_and_frame(f) for f in fns]\n",
    "j = o[1].compute()\n",
    "print(j)"
   ],
   "metadata": {
    "collapsed": false,
    "pycharm": {
     "name": "#%%\n"
    }
   }
  },
  {
   "cell_type": "code",
   "execution_count": 85,
   "metadata": {
    "id": "NHwgCyhMGlbo"
   },
   "outputs": [
    {
     "name": "stdout",
     "output_type": "stream",
     "text": [
      "CPU times: user 32.8 s, sys: 2.95 s, total: 35.7 s\n",
      "Wall time: 1min 49s\n"
     ]
    }
   ],
   "source": [
    "%%time \n",
    "# An example of a known poor way to do this.   Using the pull the file function and\n",
    "# then processing each file object in the loop.  Done to get something like a liner baseline \n",
    "\n",
    "ukw = []  # Unique keyword list\n",
    "\n",
    "for doc in range(len(output)):  #range([10 | output]):\n",
    "  try:\n",
    "    jld = output[doc].compute()\n",
    "  except:\n",
    "    print(\"Doc has bad encoding\")\n",
    "\n",
    "    \n",
    "  kws = jld[\"keywords\"].split(sep=\",\") \n",
    "  kws = striplist(kws)\n",
    "  for i in kws:\n",
    "    if i not in ukw:  # if unique\n",
    "        ukw.append(i)"
   ]
  },
  {
   "cell_type": "code",
   "execution_count": 12,
   "metadata": {
    "colab": {
     "base_uri": "https://localhost:8080/",
     "height": 74
    },
    "id": "CwY2BxYycK88",
    "outputId": "4ee28bf0-f8ea-434c-b7b1-c2e130ac4f60"
   },
   "outputs": [
    {
     "name": "stdout",
     "output_type": "stream",
     "text": [
      "1004\n"
     ]
    }
   ],
   "source": [
    "# Human needs to see it to believe it\n",
    "print(len(ukw))\n",
    "# print(ukw)  # this is kinda big..  I don't usually print it"
   ]
  },
  {
   "cell_type": "code",
   "execution_count": 16,
   "metadata": {},
   "outputs": [
    {
     "data": {
      "text/plain": "<Client: 'tcp://127.0.0.1:42447' processes=4 threads=20, memory=31.17 GiB>",
      "text/html": "\n            <div>\n                <div style=\"\n                    width: 24px;\n                    height: 24px;\n                    background-color: #e1e1e1;\n                    border: 3px solid #9D9D9D;\n                    border-radius: 5px;\n                    position: absolute;\"> </div>\n                <div style=\"margin-left: 48px;\">\n                    <h3 style=\"margin-bottom: 0px;\">Client</h3>\n                    <p style=\"color: #9D9D9D; margin-bottom: 0px;\">Client-c52af520-52c1-11ec-94c8-18c04d87f382</p>\n                    <table style=\"width: 100%; text-align: left;\">\n                    \n                <tr>\n                    <td style=\"text-align: left;\"><strong>Connection method:</strong> Cluster object</td>\n                    <td style=\"text-align: left;\"><strong>Cluster type:</strong> LocalCluster</td>\n                </tr>\n                \n                <tr>\n                    <td style=\"text-align: left;\">\n                        <strong>Dashboard: </strong>\n                        <a href=\"http://127.0.0.1:8787/status\">http://127.0.0.1:8787/status</a>\n                    </td>\n                    <td style=\"text-align: left;\"></td>\n                </tr>\n                \n                    </table>\n                    \n                <details>\n                <summary style=\"margin-bottom: 20px;\"><h3 style=\"display: inline;\">Cluster Info</h3></summary>\n                \n            <div class=\"jp-RenderedHTMLCommon jp-RenderedHTML jp-mod-trusted jp-OutputArea-output\">\n                <div style=\"\n                    width: 24px;\n                    height: 24px;\n                    background-color: #e1e1e1;\n                    border: 3px solid #9D9D9D;\n                    border-radius: 5px;\n                    position: absolute;\"> </div>\n                <div style=\"margin-left: 48px;\">\n                    <h3 style=\"margin-bottom: 0px; margin-top: 0px;\">LocalCluster</h3>\n                    <p style=\"color: #9D9D9D; margin-bottom: 0px;\">d113ffbf</p>\n                    <table style=\"width: 100%; text-align: left;\">\n                    \n            <tr>\n                <td style=\"text-align: left;\"><strong>Status:</strong> running</td>\n                <td style=\"text-align: left;\"><strong>Using processes:</strong> True</td>\n            </tr>\n        \n            <tr>\n                <td style=\"text-align: left;\">\n                    <strong>Dashboard:</strong> <a href=\"http://127.0.0.1:8787/status\">http://127.0.0.1:8787/status</a>\n                </td>\n                <td style=\"text-align: left;\"><strong>Workers:</strong> 4</td>\n            </tr>\n            <tr>\n                <td style=\"text-align: left;\">\n                    <strong>Total threads:</strong>\n                    20\n                </td>\n                <td style=\"text-align: left;\">\n                    <strong>Total memory:</strong>\n                    31.17 GiB\n                </td>\n            </tr>\n        \n                    </table>\n                    <details>\n                    <summary style=\"margin-bottom: 20px;\"><h3 style=\"display: inline;\">Scheduler Info</h3></summary>\n                    \n        <div style=\"\">\n            \n            <div>\n                <div style=\"\n                    width: 24px;\n                    height: 24px;\n                    background-color: #FFF7E5;\n                    border: 3px solid #FF6132;\n                    border-radius: 5px;\n                    position: absolute;\"> </div>\n                <div style=\"margin-left: 48px;\">\n                    <h3 style=\"margin-bottom: 0px;\">Scheduler</h3>\n                    <p style=\"color: #9D9D9D; margin-bottom: 0px;\">Scheduler-bc034d89-3507-4470-b451-65021344a948</p>\n                    <table style=\"width: 100%; text-align: left;\">\n                        <tr>\n                            <td style=\"text-align: left;\"><strong>Comm:</strong> tcp://127.0.0.1:42447</td>\n                            <td style=\"text-align: left;\"><strong>Workers:</strong> 4</td>\n                        </tr>\n                        <tr>\n                            <td style=\"text-align: left;\">\n                                <strong>Dashboard:</strong> <a href=\"http://127.0.0.1:8787/status\">http://127.0.0.1:8787/status</a>\n                            </td>\n                            <td style=\"text-align: left;\">\n                                <strong>Total threads:</strong>\n                                20\n                            </td>\n                        </tr>\n                        <tr>\n                            <td style=\"text-align: left;\">\n                                <strong>Started:</strong>\n                                Just now\n                            </td>\n                            <td style=\"text-align: left;\">\n                                <strong>Total memory:</strong>\n                                31.17 GiB\n                            </td>\n                        </tr>\n                    </table>\n                </div>\n            </div>\n        \n            <details style=\"margin-left: 48px;\">\n            <summary style=\"margin-bottom: 20px;\"><h3 style=\"display: inline;\">Workers</h3></summary>\n            \n            <div style=\"margin-bottom: 20px;\">\n                <div style=\"width: 24px;\n                            height: 24px;\n                            background-color: #DBF5FF;\n                            border: 3px solid #4CC9FF;\n                            border-radius: 5px;\n                            position: absolute;\"> </div>\n                <div style=\"margin-left: 48px;\">\n                <details>\n                    <summary>\n                        <h4 style=\"margin-bottom: 0px; display: inline;\">Worker: 0</h4>\n                    </summary>\n                    <table style=\"width: 100%; text-align: left;\">\n                        <tr>\n                            <td style=\"text-align: left;\"><strong>Comm: </strong> tcp://127.0.0.1:39275</td>\n                            <td style=\"text-align: left;\"><strong>Total threads: </strong> 5</td>\n                        </tr>\n                        <tr>\n                            <td style=\"text-align: left;\">\n                                <strong>Dashboard: </strong>\n                                <a href=\"http://127.0.0.1:40855/status\">http://127.0.0.1:40855/status</a>\n                            </td>\n                            <td style=\"text-align: left;\">\n                                <strong>Memory: </strong>\n                                7.79 GiB\n                            </td>\n                        </tr>\n                        <tr>\n                            <td style=\"text-align: left;\"><strong>Nanny: </strong> tcp://127.0.0.1:40357</td>\n                            <td style=\"text-align: left;\"></td>\n                        </tr>\n                        <tr>\n                            <td colspan=\"2\" style=\"text-align: left;\">\n                                <strong>Local directory: </strong>\n                                /home/fils/Containers/dvols/jupyter/work/ECO/dask-worker-space/worker-bkxw_dm4\n                            </td>\n                        </tr>\n                        \n                <tr>\n                    <td style=\"text-align: left;\">\n                        <strong>GPU: </strong>NVIDIA GeForce GTX 1050 Ti\n                    </td>\n                    <td style=\"text-align: left;\">\n                        <strong>GPU memory: </strong>\n                        3.94 GiB\n                    </td>\n                </tr>\n                \n                        \n                    </table>\n                </details>\n                </div>\n            </div>\n            \n            <div style=\"margin-bottom: 20px;\">\n                <div style=\"width: 24px;\n                            height: 24px;\n                            background-color: #DBF5FF;\n                            border: 3px solid #4CC9FF;\n                            border-radius: 5px;\n                            position: absolute;\"> </div>\n                <div style=\"margin-left: 48px;\">\n                <details>\n                    <summary>\n                        <h4 style=\"margin-bottom: 0px; display: inline;\">Worker: 1</h4>\n                    </summary>\n                    <table style=\"width: 100%; text-align: left;\">\n                        <tr>\n                            <td style=\"text-align: left;\"><strong>Comm: </strong> tcp://127.0.0.1:43823</td>\n                            <td style=\"text-align: left;\"><strong>Total threads: </strong> 5</td>\n                        </tr>\n                        <tr>\n                            <td style=\"text-align: left;\">\n                                <strong>Dashboard: </strong>\n                                <a href=\"http://127.0.0.1:46655/status\">http://127.0.0.1:46655/status</a>\n                            </td>\n                            <td style=\"text-align: left;\">\n                                <strong>Memory: </strong>\n                                7.79 GiB\n                            </td>\n                        </tr>\n                        <tr>\n                            <td style=\"text-align: left;\"><strong>Nanny: </strong> tcp://127.0.0.1:36597</td>\n                            <td style=\"text-align: left;\"></td>\n                        </tr>\n                        <tr>\n                            <td colspan=\"2\" style=\"text-align: left;\">\n                                <strong>Local directory: </strong>\n                                /home/fils/Containers/dvols/jupyter/work/ECO/dask-worker-space/worker-eypge45x\n                            </td>\n                        </tr>\n                        \n                <tr>\n                    <td style=\"text-align: left;\">\n                        <strong>GPU: </strong>NVIDIA GeForce GTX 1050 Ti\n                    </td>\n                    <td style=\"text-align: left;\">\n                        <strong>GPU memory: </strong>\n                        3.94 GiB\n                    </td>\n                </tr>\n                \n                        \n                    </table>\n                </details>\n                </div>\n            </div>\n            \n            <div style=\"margin-bottom: 20px;\">\n                <div style=\"width: 24px;\n                            height: 24px;\n                            background-color: #DBF5FF;\n                            border: 3px solid #4CC9FF;\n                            border-radius: 5px;\n                            position: absolute;\"> </div>\n                <div style=\"margin-left: 48px;\">\n                <details>\n                    <summary>\n                        <h4 style=\"margin-bottom: 0px; display: inline;\">Worker: 2</h4>\n                    </summary>\n                    <table style=\"width: 100%; text-align: left;\">\n                        <tr>\n                            <td style=\"text-align: left;\"><strong>Comm: </strong> tcp://127.0.0.1:46331</td>\n                            <td style=\"text-align: left;\"><strong>Total threads: </strong> 5</td>\n                        </tr>\n                        <tr>\n                            <td style=\"text-align: left;\">\n                                <strong>Dashboard: </strong>\n                                <a href=\"http://127.0.0.1:38687/status\">http://127.0.0.1:38687/status</a>\n                            </td>\n                            <td style=\"text-align: left;\">\n                                <strong>Memory: </strong>\n                                7.79 GiB\n                            </td>\n                        </tr>\n                        <tr>\n                            <td style=\"text-align: left;\"><strong>Nanny: </strong> tcp://127.0.0.1:33335</td>\n                            <td style=\"text-align: left;\"></td>\n                        </tr>\n                        <tr>\n                            <td colspan=\"2\" style=\"text-align: left;\">\n                                <strong>Local directory: </strong>\n                                /home/fils/Containers/dvols/jupyter/work/ECO/dask-worker-space/worker-_h659rqc\n                            </td>\n                        </tr>\n                        \n                <tr>\n                    <td style=\"text-align: left;\">\n                        <strong>GPU: </strong>NVIDIA GeForce GTX 1050 Ti\n                    </td>\n                    <td style=\"text-align: left;\">\n                        <strong>GPU memory: </strong>\n                        3.94 GiB\n                    </td>\n                </tr>\n                \n                        \n                    </table>\n                </details>\n                </div>\n            </div>\n            \n            <div style=\"margin-bottom: 20px;\">\n                <div style=\"width: 24px;\n                            height: 24px;\n                            background-color: #DBF5FF;\n                            border: 3px solid #4CC9FF;\n                            border-radius: 5px;\n                            position: absolute;\"> </div>\n                <div style=\"margin-left: 48px;\">\n                <details>\n                    <summary>\n                        <h4 style=\"margin-bottom: 0px; display: inline;\">Worker: 3</h4>\n                    </summary>\n                    <table style=\"width: 100%; text-align: left;\">\n                        <tr>\n                            <td style=\"text-align: left;\"><strong>Comm: </strong> tcp://127.0.0.1:33177</td>\n                            <td style=\"text-align: left;\"><strong>Total threads: </strong> 5</td>\n                        </tr>\n                        <tr>\n                            <td style=\"text-align: left;\">\n                                <strong>Dashboard: </strong>\n                                <a href=\"http://127.0.0.1:42299/status\">http://127.0.0.1:42299/status</a>\n                            </td>\n                            <td style=\"text-align: left;\">\n                                <strong>Memory: </strong>\n                                7.79 GiB\n                            </td>\n                        </tr>\n                        <tr>\n                            <td style=\"text-align: left;\"><strong>Nanny: </strong> tcp://127.0.0.1:33291</td>\n                            <td style=\"text-align: left;\"></td>\n                        </tr>\n                        <tr>\n                            <td colspan=\"2\" style=\"text-align: left;\">\n                                <strong>Local directory: </strong>\n                                /home/fils/Containers/dvols/jupyter/work/ECO/dask-worker-space/worker-tifd01f6\n                            </td>\n                        </tr>\n                        \n                <tr>\n                    <td style=\"text-align: left;\">\n                        <strong>GPU: </strong>NVIDIA GeForce GTX 1050 Ti\n                    </td>\n                    <td style=\"text-align: left;\">\n                        <strong>GPU memory: </strong>\n                        3.94 GiB\n                    </td>\n                </tr>\n                \n                        \n                    </table>\n                </details>\n                </div>\n            </div>\n            \n            </details>\n        </div>\n        \n                    </details>\n                </div>\n            </div>\n        \n                </details>\n                \n                </div>\n            </div>\n        "
     },
     "execution_count": 16,
     "metadata": {},
     "output_type": "execute_result"
    }
   ],
   "source": [
    "from dask.distributed import Client, progress\n",
    "client = Client(threads_per_worker=5, n_workers=4)\n",
    "client"
   ]
  },
  {
   "cell_type": "code",
   "execution_count": 17,
   "metadata": {
    "id": "bxgBNI0cZC0Z"
   },
   "outputs": [
    {
     "name": "stderr",
     "output_type": "stream",
     "text": [
      "/home/fils/.conda/envs/kglab/lib/python3.8/site-packages/owlrl/__init__.py:177: UserWarning: Code: dateTimeStamp is not defined in namespace XSD\n",
      "  from . import DatatypeHandling, Closure\n",
      "/home/fils/.conda/envs/kglab/lib/python3.8/site-packages/owlrl/RDFSClosure.py:40: UserWarning: Code: dateTimeStamp is not defined in namespace XSD\n",
      "  from owlrl.AxiomaticTriples import RDFS_Axiomatic_Triples, RDFS_D_Axiomatic_Triples\n",
      "/home/fils/.conda/envs/kglab/lib/python3.8/site-packages/owlrl/RDFSClosure.py:40: UserWarning: Code: length is not defined in namespace XSD\n",
      "  from owlrl.AxiomaticTriples import RDFS_Axiomatic_Triples, RDFS_D_Axiomatic_Triples\n",
      "/home/fils/.conda/envs/kglab/lib/python3.8/site-packages/owlrl/RDFSClosure.py:40: UserWarning: Code: maxExclusive is not defined in namespace XSD\n",
      "  from owlrl.AxiomaticTriples import RDFS_Axiomatic_Triples, RDFS_D_Axiomatic_Triples\n",
      "/home/fils/.conda/envs/kglab/lib/python3.8/site-packages/owlrl/RDFSClosure.py:40: UserWarning: Code: maxInclusive is not defined in namespace XSD\n",
      "  from owlrl.AxiomaticTriples import RDFS_Axiomatic_Triples, RDFS_D_Axiomatic_Triples\n",
      "/home/fils/.conda/envs/kglab/lib/python3.8/site-packages/owlrl/RDFSClosure.py:40: UserWarning: Code: maxLength is not defined in namespace XSD\n",
      "  from owlrl.AxiomaticTriples import RDFS_Axiomatic_Triples, RDFS_D_Axiomatic_Triples\n",
      "/home/fils/.conda/envs/kglab/lib/python3.8/site-packages/owlrl/RDFSClosure.py:40: UserWarning: Code: minExclusive is not defined in namespace XSD\n",
      "  from owlrl.AxiomaticTriples import RDFS_Axiomatic_Triples, RDFS_D_Axiomatic_Triples\n",
      "/home/fils/.conda/envs/kglab/lib/python3.8/site-packages/owlrl/RDFSClosure.py:40: UserWarning: Code: minInclusive is not defined in namespace XSD\n",
      "  from owlrl.AxiomaticTriples import RDFS_Axiomatic_Triples, RDFS_D_Axiomatic_Triples\n",
      "/home/fils/.conda/envs/kglab/lib/python3.8/site-packages/owlrl/RDFSClosure.py:40: UserWarning: Code: minLength is not defined in namespace XSD\n",
      "  from owlrl.AxiomaticTriples import RDFS_Axiomatic_Triples, RDFS_D_Axiomatic_Triples\n",
      "/home/fils/.conda/envs/kglab/lib/python3.8/site-packages/owlrl/RDFSClosure.py:40: UserWarning: Code: pattern is not defined in namespace XSD\n",
      "  from owlrl.AxiomaticTriples import RDFS_Axiomatic_Triples, RDFS_D_Axiomatic_Triples\n",
      "/home/fils/.conda/envs/kglab/lib/python3.8/site-packages/owlrl/OWLRL.py:53: UserWarning: Code: dateTimeStamp is not defined in namespace XSD\n",
      "  from .XsdDatatypes import OWL_RL_Datatypes, OWL_Datatype_Subsumptions\n",
      "/home/fils/.conda/envs/kglab/lib/python3.8/site-packages/owlrl/OWLRLExtras.py:64: UserWarning: Code: dateTimeStamp is not defined in namespace XSD\n",
      "  from .RestrictedDatatype import extract_faceted_datatypes\n",
      "Usage of abort_on_error is deprecated. Use abort_on_first instead.\n",
      "/home/fils/.conda/envs/kglab/lib/python3.8/site-packages/owlrl/__init__.py:177: UserWarning: Code: dateTimeStamp is not defined in namespace XSD\n",
      "  from . import DatatypeHandling, Closure\n",
      "/home/fils/.conda/envs/kglab/lib/python3.8/site-packages/owlrl/RDFSClosure.py:40: UserWarning: Code: dateTimeStamp is not defined in namespace XSD\n",
      "  from owlrl.AxiomaticTriples import RDFS_Axiomatic_Triples, RDFS_D_Axiomatic_Triples\n",
      "/home/fils/.conda/envs/kglab/lib/python3.8/site-packages/owlrl/RDFSClosure.py:40: UserWarning: Code: length is not defined in namespace XSD\n",
      "  from owlrl.AxiomaticTriples import RDFS_Axiomatic_Triples, RDFS_D_Axiomatic_Triples\n",
      "/home/fils/.conda/envs/kglab/lib/python3.8/site-packages/owlrl/RDFSClosure.py:40: UserWarning: Code: maxExclusive is not defined in namespace XSD\n",
      "  from owlrl.AxiomaticTriples import RDFS_Axiomatic_Triples, RDFS_D_Axiomatic_Triples\n",
      "/home/fils/.conda/envs/kglab/lib/python3.8/site-packages/owlrl/RDFSClosure.py:40: UserWarning: Code: maxInclusive is not defined in namespace XSD\n",
      "  from owlrl.AxiomaticTriples import RDFS_Axiomatic_Triples, RDFS_D_Axiomatic_Triples\n",
      "/home/fils/.conda/envs/kglab/lib/python3.8/site-packages/owlrl/RDFSClosure.py:40: UserWarning: Code: maxLength is not defined in namespace XSD\n",
      "  from owlrl.AxiomaticTriples import RDFS_Axiomatic_Triples, RDFS_D_Axiomatic_Triples\n",
      "/home/fils/.conda/envs/kglab/lib/python3.8/site-packages/owlrl/RDFSClosure.py:40: UserWarning: Code: minExclusive is not defined in namespace XSD\n",
      "  from owlrl.AxiomaticTriples import RDFS_Axiomatic_Triples, RDFS_D_Axiomatic_Triples\n",
      "/home/fils/.conda/envs/kglab/lib/python3.8/site-packages/owlrl/RDFSClosure.py:40: UserWarning: Code: minInclusive is not defined in namespace XSD\n",
      "  from owlrl.AxiomaticTriples import RDFS_Axiomatic_Triples, RDFS_D_Axiomatic_Triples\n",
      "/home/fils/.conda/envs/kglab/lib/python3.8/site-packages/owlrl/RDFSClosure.py:40: UserWarning: Code: minLength is not defined in namespace XSD\n",
      "  from owlrl.AxiomaticTriples import RDFS_Axiomatic_Triples, RDFS_D_Axiomatic_Triples\n",
      "/home/fils/.conda/envs/kglab/lib/python3.8/site-packages/owlrl/RDFSClosure.py:40: UserWarning: Code: pattern is not defined in namespace XSD\n",
      "  from owlrl.AxiomaticTriples import RDFS_Axiomatic_Triples, RDFS_D_Axiomatic_Triples\n",
      "/home/fils/.conda/envs/kglab/lib/python3.8/site-packages/owlrl/OWLRL.py:53: UserWarning: Code: dateTimeStamp is not defined in namespace XSD\n",
      "  from .XsdDatatypes import OWL_RL_Datatypes, OWL_Datatype_Subsumptions\n",
      "/home/fils/.conda/envs/kglab/lib/python3.8/site-packages/owlrl/OWLRLExtras.py:64: UserWarning: Code: dateTimeStamp is not defined in namespace XSD\n",
      "  from .RestrictedDatatype import extract_faceted_datatypes\n",
      "Usage of abort_on_error is deprecated. Use abort_on_first instead.\n",
      "/home/fils/.conda/envs/kglab/lib/python3.8/site-packages/owlrl/__init__.py:177: UserWarning: Code: dateTimeStamp is not defined in namespace XSD\n",
      "  from . import DatatypeHandling, Closure\n",
      "/home/fils/.conda/envs/kglab/lib/python3.8/site-packages/owlrl/RDFSClosure.py:40: UserWarning: Code: dateTimeStamp is not defined in namespace XSD\n",
      "  from owlrl.AxiomaticTriples import RDFS_Axiomatic_Triples, RDFS_D_Axiomatic_Triples\n",
      "/home/fils/.conda/envs/kglab/lib/python3.8/site-packages/owlrl/RDFSClosure.py:40: UserWarning: Code: length is not defined in namespace XSD\n",
      "  from owlrl.AxiomaticTriples import RDFS_Axiomatic_Triples, RDFS_D_Axiomatic_Triples\n",
      "/home/fils/.conda/envs/kglab/lib/python3.8/site-packages/owlrl/RDFSClosure.py:40: UserWarning: Code: maxExclusive is not defined in namespace XSD\n",
      "  from owlrl.AxiomaticTriples import RDFS_Axiomatic_Triples, RDFS_D_Axiomatic_Triples\n",
      "/home/fils/.conda/envs/kglab/lib/python3.8/site-packages/owlrl/RDFSClosure.py:40: UserWarning: Code: maxInclusive is not defined in namespace XSD\n",
      "  from owlrl.AxiomaticTriples import RDFS_Axiomatic_Triples, RDFS_D_Axiomatic_Triples\n",
      "/home/fils/.conda/envs/kglab/lib/python3.8/site-packages/owlrl/RDFSClosure.py:40: UserWarning: Code: maxLength is not defined in namespace XSD\n",
      "  from owlrl.AxiomaticTriples import RDFS_Axiomatic_Triples, RDFS_D_Axiomatic_Triples\n",
      "/home/fils/.conda/envs/kglab/lib/python3.8/site-packages/owlrl/RDFSClosure.py:40: UserWarning: Code: minExclusive is not defined in namespace XSD\n",
      "  from owlrl.AxiomaticTriples import RDFS_Axiomatic_Triples, RDFS_D_Axiomatic_Triples\n",
      "/home/fils/.conda/envs/kglab/lib/python3.8/site-packages/owlrl/RDFSClosure.py:40: UserWarning: Code: minInclusive is not defined in namespace XSD\n",
      "  from owlrl.AxiomaticTriples import RDFS_Axiomatic_Triples, RDFS_D_Axiomatic_Triples\n",
      "/home/fils/.conda/envs/kglab/lib/python3.8/site-packages/owlrl/RDFSClosure.py:40: UserWarning: Code: minLength is not defined in namespace XSD\n",
      "  from owlrl.AxiomaticTriples import RDFS_Axiomatic_Triples, RDFS_D_Axiomatic_Triples\n",
      "/home/fils/.conda/envs/kglab/lib/python3.8/site-packages/owlrl/RDFSClosure.py:40: UserWarning: Code: pattern is not defined in namespace XSD\n",
      "  from owlrl.AxiomaticTriples import RDFS_Axiomatic_Triples, RDFS_D_Axiomatic_Triples\n",
      "/home/fils/.conda/envs/kglab/lib/python3.8/site-packages/owlrl/OWLRL.py:53: UserWarning: Code: dateTimeStamp is not defined in namespace XSD\n",
      "  from .XsdDatatypes import OWL_RL_Datatypes, OWL_Datatype_Subsumptions\n",
      "/home/fils/.conda/envs/kglab/lib/python3.8/site-packages/owlrl/OWLRLExtras.py:64: UserWarning: Code: dateTimeStamp is not defined in namespace XSD\n",
      "  from .RestrictedDatatype import extract_faceted_datatypes\n",
      "Usage of abort_on_error is deprecated. Use abort_on_first instead.\n",
      "Usage of abort_on_error is deprecated. Use abort_on_first instead.\n",
      "Usage of abort_on_error is deprecated. Use abort_on_first instead.\n",
      "Usage of abort_on_error is deprecated. Use abort_on_first instead.\n",
      "Usage of abort_on_error is deprecated. Use abort_on_first instead.\n",
      "/home/fils/.conda/envs/kglab/lib/python3.8/site-packages/owlrl/__init__.py:177: UserWarning: Code: dateTimeStamp is not defined in namespace XSD\n",
      "  from . import DatatypeHandling, Closure\n",
      "/home/fils/.conda/envs/kglab/lib/python3.8/site-packages/owlrl/RDFSClosure.py:40: UserWarning: Code: dateTimeStamp is not defined in namespace XSD\n",
      "  from owlrl.AxiomaticTriples import RDFS_Axiomatic_Triples, RDFS_D_Axiomatic_Triples\n",
      "/home/fils/.conda/envs/kglab/lib/python3.8/site-packages/owlrl/RDFSClosure.py:40: UserWarning: Code: length is not defined in namespace XSD\n",
      "  from owlrl.AxiomaticTriples import RDFS_Axiomatic_Triples, RDFS_D_Axiomatic_Triples\n",
      "/home/fils/.conda/envs/kglab/lib/python3.8/site-packages/owlrl/RDFSClosure.py:40: UserWarning: Code: maxExclusive is not defined in namespace XSD\n",
      "  from owlrl.AxiomaticTriples import RDFS_Axiomatic_Triples, RDFS_D_Axiomatic_Triples\n",
      "/home/fils/.conda/envs/kglab/lib/python3.8/site-packages/owlrl/RDFSClosure.py:40: UserWarning: Code: maxInclusive is not defined in namespace XSD\n",
      "  from owlrl.AxiomaticTriples import RDFS_Axiomatic_Triples, RDFS_D_Axiomatic_Triples\n",
      "/home/fils/.conda/envs/kglab/lib/python3.8/site-packages/owlrl/RDFSClosure.py:40: UserWarning: Code: maxLength is not defined in namespace XSD\n",
      "  from owlrl.AxiomaticTriples import RDFS_Axiomatic_Triples, RDFS_D_Axiomatic_Triples\n",
      "/home/fils/.conda/envs/kglab/lib/python3.8/site-packages/owlrl/RDFSClosure.py:40: UserWarning: Code: minExclusive is not defined in namespace XSD\n",
      "  from owlrl.AxiomaticTriples import RDFS_Axiomatic_Triples, RDFS_D_Axiomatic_Triples\n",
      "/home/fils/.conda/envs/kglab/lib/python3.8/site-packages/owlrl/RDFSClosure.py:40: UserWarning: Code: minInclusive is not defined in namespace XSD\n",
      "  from owlrl.AxiomaticTriples import RDFS_Axiomatic_Triples, RDFS_D_Axiomatic_Triples\n",
      "/home/fils/.conda/envs/kglab/lib/python3.8/site-packages/owlrl/RDFSClosure.py:40: UserWarning: Code: minLength is not defined in namespace XSD\n",
      "  from owlrl.AxiomaticTriples import RDFS_Axiomatic_Triples, RDFS_D_Axiomatic_Triples\n",
      "/home/fils/.conda/envs/kglab/lib/python3.8/site-packages/owlrl/RDFSClosure.py:40: UserWarning: Code: pattern is not defined in namespace XSD\n",
      "  from owlrl.AxiomaticTriples import RDFS_Axiomatic_Triples, RDFS_D_Axiomatic_Triples\n",
      "/home/fils/.conda/envs/kglab/lib/python3.8/site-packages/owlrl/OWLRL.py:53: UserWarning: Code: dateTimeStamp is not defined in namespace XSD\n",
      "  from .XsdDatatypes import OWL_RL_Datatypes, OWL_Datatype_Subsumptions\n",
      "/home/fils/.conda/envs/kglab/lib/python3.8/site-packages/owlrl/OWLRLExtras.py:64: UserWarning: Code: dateTimeStamp is not defined in namespace XSD\n",
      "  from .RestrictedDatatype import extract_faceted_datatypes\n",
      "Usage of abort_on_error is deprecated. Use abort_on_first instead.\n",
      "Usage of abort_on_error is deprecated. Use abort_on_first instead.\n",
      "Usage of abort_on_error is deprecated. Use abort_on_first instead.\n",
      "Usage of abort_on_error is deprecated. Use abort_on_first instead.\n",
      "Usage of abort_on_error is deprecated. Use abort_on_first instead.\n",
      "Usage of abort_on_error is deprecated. Use abort_on_first instead.\n",
      "Usage of abort_on_error is deprecated. Use abort_on_first instead.\n",
      "Usage of abort_on_error is deprecated. Use abort_on_first instead.\n",
      "Usage of abort_on_error is deprecated. Use abort_on_first instead.\n",
      "Usage of abort_on_error is deprecated. Use abort_on_first instead.\n",
      "Usage of abort_on_error is deprecated. Use abort_on_first instead.\n",
      "Usage of abort_on_error is deprecated. Use abort_on_first instead.\n",
      "Usage of abort_on_error is deprecated. Use abort_on_first instead.\n",
      "Usage of abort_on_error is deprecated. Use abort_on_first instead.\n",
      "Usage of abort_on_error is deprecated. Use abort_on_first instead.\n",
      "Usage of abort_on_error is deprecated. Use abort_on_first instead.\n",
      "Usage of abort_on_error is deprecated. Use abort_on_first instead.\n",
      "Usage of abort_on_error is deprecated. Use abort_on_first instead.\n",
      "Usage of abort_on_error is deprecated. Use abort_on_first instead.\n",
      "Usage of abort_on_error is deprecated. Use abort_on_first instead.\n",
      "Usage of abort_on_error is deprecated. Use abort_on_first instead.\n",
      "Usage of abort_on_error is deprecated. Use abort_on_first instead.\n",
      "Usage of abort_on_error is deprecated. Use abort_on_first instead.\n",
      "Usage of abort_on_error is deprecated. Use abort_on_first instead.\n",
      "Usage of abort_on_error is deprecated. Use abort_on_first instead.\n",
      "Usage of abort_on_error is deprecated. Use abort_on_first instead.\n",
      "Usage of abort_on_error is deprecated. Use abort_on_first instead.\n",
      "Usage of abort_on_error is deprecated. Use abort_on_first instead.\n",
      "Usage of abort_on_error is deprecated. Use abort_on_first instead.\n",
      "Usage of abort_on_error is deprecated. Use abort_on_first instead.\n",
      "Usage of abort_on_error is deprecated. Use abort_on_first instead.\n",
      "Usage of abort_on_error is deprecated. Use abort_on_first instead.\n",
      "Usage of abort_on_error is deprecated. Use abort_on_first instead.\n",
      "Usage of abort_on_error is deprecated. Use abort_on_first instead.\n",
      "Usage of abort_on_error is deprecated. Use abort_on_first instead.\n",
      "Usage of abort_on_error is deprecated. Use abort_on_first instead.\n",
      "Usage of abort_on_error is deprecated. Use abort_on_first instead.\n",
      "Usage of abort_on_error is deprecated. Use abort_on_first instead.\n",
      "Usage of abort_on_error is deprecated. Use abort_on_first instead.\n",
      "Usage of abort_on_error is deprecated. Use abort_on_first instead.\n",
      "Usage of abort_on_error is deprecated. Use abort_on_first instead.\n",
      "Usage of abort_on_error is deprecated. Use abort_on_first instead.\n",
      "Usage of abort_on_error is deprecated. Use abort_on_first instead.\n",
      "Usage of abort_on_error is deprecated. Use abort_on_first instead.\n",
      "Usage of abort_on_error is deprecated. Use abort_on_first instead.\n",
      "Usage of abort_on_error is deprecated. Use abort_on_first instead.\n",
      "Usage of abort_on_error is deprecated. Use abort_on_first instead.\n",
      "Usage of abort_on_error is deprecated. Use abort_on_first instead.\n",
      "Usage of abort_on_error is deprecated. Use abort_on_first instead.\n",
      "Usage of abort_on_error is deprecated. Use abort_on_first instead.\n",
      "Usage of abort_on_error is deprecated. Use abort_on_first instead.\n",
      "Usage of abort_on_error is deprecated. Use abort_on_first instead.\n",
      "Usage of abort_on_error is deprecated. Use abort_on_first instead.\n",
      "Usage of abort_on_error is deprecated. Use abort_on_first instead.\n",
      "Usage of abort_on_error is deprecated. Use abort_on_first instead.\n",
      "Usage of abort_on_error is deprecated. Use abort_on_first instead.\n",
      "Usage of abort_on_error is deprecated. Use abort_on_first instead.\n",
      "Usage of abort_on_error is deprecated. Use abort_on_first instead.\n",
      "Usage of abort_on_error is deprecated. Use abort_on_first instead.\n",
      "Usage of abort_on_error is deprecated. Use abort_on_first instead.\n",
      "Usage of abort_on_error is deprecated. Use abort_on_first instead.\n",
      "Usage of abort_on_error is deprecated. Use abort_on_first instead.\n",
      "Usage of abort_on_error is deprecated. Use abort_on_first instead.\n",
      "Usage of abort_on_error is deprecated. Use abort_on_first instead.\n",
      "Usage of abort_on_error is deprecated. Use abort_on_first instead.\n",
      "Usage of abort_on_error is deprecated. Use abort_on_first instead.\n",
      "Usage of abort_on_error is deprecated. Use abort_on_first instead.\n",
      "Usage of abort_on_error is deprecated. Use abort_on_first instead.\n",
      "Usage of abort_on_error is deprecated. Use abort_on_first instead.\n",
      "Usage of abort_on_error is deprecated. Use abort_on_first instead.\n",
      "Usage of abort_on_error is deprecated. Use abort_on_first instead.\n",
      "Usage of abort_on_error is deprecated. Use abort_on_first instead.\n",
      "Usage of abort_on_error is deprecated. Use abort_on_first instead.\n",
      "Usage of abort_on_error is deprecated. Use abort_on_first instead.\n",
      "Usage of abort_on_error is deprecated. Use abort_on_first instead.\n",
      "Usage of abort_on_error is deprecated. Use abort_on_first instead.\n",
      "Usage of abort_on_error is deprecated. Use abort_on_first instead.\n",
      "Usage of abort_on_error is deprecated. Use abort_on_first instead.\n",
      "Usage of abort_on_error is deprecated. Use abort_on_first instead.\n",
      "Usage of abort_on_error is deprecated. Use abort_on_first instead.\n",
      "Usage of abort_on_error is deprecated. Use abort_on_first instead.\n",
      "Usage of abort_on_error is deprecated. Use abort_on_first instead.\n",
      "Usage of abort_on_error is deprecated. Use abort_on_first instead.\n",
      "Usage of abort_on_error is deprecated. Use abort_on_first instead.\n",
      "Usage of abort_on_error is deprecated. Use abort_on_first instead.\n",
      "Usage of abort_on_error is deprecated. Use abort_on_first instead.\n",
      "Usage of abort_on_error is deprecated. Use abort_on_first instead.\n",
      "Usage of abort_on_error is deprecated. Use abort_on_first instead.\n",
      "Usage of abort_on_error is deprecated. Use abort_on_first instead.\n",
      "Usage of abort_on_error is deprecated. Use abort_on_first instead.\n",
      "Usage of abort_on_error is deprecated. Use abort_on_first instead.\n",
      "Usage of abort_on_error is deprecated. Use abort_on_first instead.\n",
      "Usage of abort_on_error is deprecated. Use abort_on_first instead.\n",
      "Usage of abort_on_error is deprecated. Use abort_on_first instead.\n",
      "Usage of abort_on_error is deprecated. Use abort_on_first instead.\n",
      "Usage of abort_on_error is deprecated. Use abort_on_first instead.\n",
      "Usage of abort_on_error is deprecated. Use abort_on_first instead.\n",
      "Usage of abort_on_error is deprecated. Use abort_on_first instead.\n",
      "Usage of abort_on_error is deprecated. Use abort_on_first instead.\n",
      "Usage of abort_on_error is deprecated. Use abort_on_first instead.\n",
      "Usage of abort_on_error is deprecated. Use abort_on_first instead.\n",
      "Usage of abort_on_error is deprecated. Use abort_on_first instead.\n",
      "Usage of abort_on_error is deprecated. Use abort_on_first instead.\n",
      "Usage of abort_on_error is deprecated. Use abort_on_first instead.\n",
      "Usage of abort_on_error is deprecated. Use abort_on_first instead.\n",
      "Usage of abort_on_error is deprecated. Use abort_on_first instead.\n",
      "Usage of abort_on_error is deprecated. Use abort_on_first instead.\n",
      "Usage of abort_on_error is deprecated. Use abort_on_first instead.\n",
      "Usage of abort_on_error is deprecated. Use abort_on_first instead.\n",
      "Usage of abort_on_error is deprecated. Use abort_on_first instead.\n",
      "Usage of abort_on_error is deprecated. Use abort_on_first instead.\n",
      "Usage of abort_on_error is deprecated. Use abort_on_first instead.\n",
      "Usage of abort_on_error is deprecated. Use abort_on_first instead.\n",
      "Usage of abort_on_error is deprecated. Use abort_on_first instead.\n",
      "Usage of abort_on_error is deprecated. Use abort_on_first instead.\n",
      "Usage of abort_on_error is deprecated. Use abort_on_first instead.\n",
      "Usage of abort_on_error is deprecated. Use abort_on_first instead.\n",
      "Usage of abort_on_error is deprecated. Use abort_on_first instead.\n",
      "Usage of abort_on_error is deprecated. Use abort_on_first instead.\n",
      "Usage of abort_on_error is deprecated. Use abort_on_first instead.\n",
      "Usage of abort_on_error is deprecated. Use abort_on_first instead.\n",
      "Usage of abort_on_error is deprecated. Use abort_on_first instead.\n",
      "Usage of abort_on_error is deprecated. Use abort_on_first instead.\n",
      "Usage of abort_on_error is deprecated. Use abort_on_first instead.\n",
      "Usage of abort_on_error is deprecated. Use abort_on_first instead.\n",
      "Usage of abort_on_error is deprecated. Use abort_on_first instead.\n",
      "Usage of abort_on_error is deprecated. Use abort_on_first instead.\n",
      "Usage of abort_on_error is deprecated. Use abort_on_first instead.\n",
      "Usage of abort_on_error is deprecated. Use abort_on_first instead.\n",
      "Usage of abort_on_error is deprecated. Use abort_on_first instead.\n",
      "Usage of abort_on_error is deprecated. Use abort_on_first instead.\n",
      "Usage of abort_on_error is deprecated. Use abort_on_first instead.\n",
      "Usage of abort_on_error is deprecated. Use abort_on_first instead.\n",
      "Usage of abort_on_error is deprecated. Use abort_on_first instead.\n",
      "Usage of abort_on_error is deprecated. Use abort_on_first instead.\n",
      "Usage of abort_on_error is deprecated. Use abort_on_first instead.\n",
      "Usage of abort_on_error is deprecated. Use abort_on_first instead.\n",
      "Usage of abort_on_error is deprecated. Use abort_on_first instead.\n",
      "Usage of abort_on_error is deprecated. Use abort_on_first instead.\n",
      "Usage of abort_on_error is deprecated. Use abort_on_first instead.\n",
      "Usage of abort_on_error is deprecated. Use abort_on_first instead.\n",
      "Usage of abort_on_error is deprecated. Use abort_on_first instead.\n",
      "Usage of abort_on_error is deprecated. Use abort_on_first instead.\n",
      "Usage of abort_on_error is deprecated. Use abort_on_first instead.\n",
      "Usage of abort_on_error is deprecated. Use abort_on_first instead.\n",
      "Usage of abort_on_error is deprecated. Use abort_on_first instead.\n",
      "Usage of abort_on_error is deprecated. Use abort_on_first instead.\n",
      "Usage of abort_on_error is deprecated. Use abort_on_first instead.\n",
      "Usage of abort_on_error is deprecated. Use abort_on_first instead.\n",
      "Usage of abort_on_error is deprecated. Use abort_on_first instead.\n",
      "Usage of abort_on_error is deprecated. Use abort_on_first instead.\n",
      "Usage of abort_on_error is deprecated. Use abort_on_first instead.\n",
      "Usage of abort_on_error is deprecated. Use abort_on_first instead.\n",
      "Usage of abort_on_error is deprecated. Use abort_on_first instead.\n",
      "Usage of abort_on_error is deprecated. Use abort_on_first instead.\n",
      "Usage of abort_on_error is deprecated. Use abort_on_first instead.\n",
      "Usage of abort_on_error is deprecated. Use abort_on_first instead.\n",
      "Usage of abort_on_error is deprecated. Use abort_on_first instead.\n",
      "Usage of abort_on_error is deprecated. Use abort_on_first instead.\n",
      "Usage of abort_on_error is deprecated. Use abort_on_first instead.\n",
      "Usage of abort_on_error is deprecated. Use abort_on_first instead.\n",
      "Usage of abort_on_error is deprecated. Use abort_on_first instead.\n",
      "Usage of abort_on_error is deprecated. Use abort_on_first instead.\n",
      "Usage of abort_on_error is deprecated. Use abort_on_first instead.\n",
      "Usage of abort_on_error is deprecated. Use abort_on_first instead.\n",
      "Usage of abort_on_error is deprecated. Use abort_on_first instead.\n",
      "Usage of abort_on_error is deprecated. Use abort_on_first instead.\n",
      "Usage of abort_on_error is deprecated. Use abort_on_first instead.\n",
      "Usage of abort_on_error is deprecated. Use abort_on_first instead.\n",
      "Usage of abort_on_error is deprecated. Use abort_on_first instead.\n",
      "Usage of abort_on_error is deprecated. Use abort_on_first instead.\n",
      "Usage of abort_on_error is deprecated. Use abort_on_first instead.\n",
      "Usage of abort_on_error is deprecated. Use abort_on_first instead.\n",
      "Usage of abort_on_error is deprecated. Use abort_on_first instead.\n",
      "Usage of abort_on_error is deprecated. Use abort_on_first instead.\n",
      "Usage of abort_on_error is deprecated. Use abort_on_first instead.\n",
      "Usage of abort_on_error is deprecated. Use abort_on_first instead.\n",
      "Usage of abort_on_error is deprecated. Use abort_on_first instead.\n",
      "Usage of abort_on_error is deprecated. Use abort_on_first instead.\n",
      "Usage of abort_on_error is deprecated. Use abort_on_first instead.\n",
      "Usage of abort_on_error is deprecated. Use abort_on_first instead.\n",
      "Usage of abort_on_error is deprecated. Use abort_on_first instead.\n",
      "Usage of abort_on_error is deprecated. Use abort_on_first instead.\n",
      "Usage of abort_on_error is deprecated. Use abort_on_first instead.\n",
      "Usage of abort_on_error is deprecated. Use abort_on_first instead.\n",
      "Usage of abort_on_error is deprecated. Use abort_on_first instead.\n",
      "Usage of abort_on_error is deprecated. Use abort_on_first instead.\n",
      "Usage of abort_on_error is deprecated. Use abort_on_first instead.\n",
      "Usage of abort_on_error is deprecated. Use abort_on_first instead.\n",
      "Usage of abort_on_error is deprecated. Use abort_on_first instead.\n",
      "Usage of abort_on_error is deprecated. Use abort_on_first instead.\n",
      "Usage of abort_on_error is deprecated. Use abort_on_first instead.\n",
      "Usage of abort_on_error is deprecated. Use abort_on_first instead.\n",
      "Usage of abort_on_error is deprecated. Use abort_on_first instead.\n",
      "Usage of abort_on_error is deprecated. Use abort_on_first instead.\n",
      "Usage of abort_on_error is deprecated. Use abort_on_first instead.\n",
      "Usage of abort_on_error is deprecated. Use abort_on_first instead.\n",
      "Usage of abort_on_error is deprecated. Use abort_on_first instead.\n",
      "Usage of abort_on_error is deprecated. Use abort_on_first instead.\n",
      "Usage of abort_on_error is deprecated. Use abort_on_first instead.\n",
      "Usage of abort_on_error is deprecated. Use abort_on_first instead.\n",
      "Usage of abort_on_error is deprecated. Use abort_on_first instead.\n",
      "Usage of abort_on_error is deprecated. Use abort_on_first instead.\n",
      "Usage of abort_on_error is deprecated. Use abort_on_first instead.\n",
      "Usage of abort_on_error is deprecated. Use abort_on_first instead.\n",
      "Usage of abort_on_error is deprecated. Use abort_on_first instead.\n",
      "Usage of abort_on_error is deprecated. Use abort_on_first instead.\n",
      "Usage of abort_on_error is deprecated. Use abort_on_first instead.\n",
      "Usage of abort_on_error is deprecated. Use abort_on_first instead.\n",
      "Usage of abort_on_error is deprecated. Use abort_on_first instead.\n",
      "Usage of abort_on_error is deprecated. Use abort_on_first instead.\n",
      "Usage of abort_on_error is deprecated. Use abort_on_first instead.\n",
      "Usage of abort_on_error is deprecated. Use abort_on_first instead.\n",
      "Usage of abort_on_error is deprecated. Use abort_on_first instead.\n",
      "Usage of abort_on_error is deprecated. Use abort_on_first instead.\n",
      "Usage of abort_on_error is deprecated. Use abort_on_first instead.\n",
      "Usage of abort_on_error is deprecated. Use abort_on_first instead.\n",
      "Usage of abort_on_error is deprecated. Use abort_on_first instead.\n",
      "Usage of abort_on_error is deprecated. Use abort_on_first instead.\n",
      "Usage of abort_on_error is deprecated. Use abort_on_first instead.\n",
      "Usage of abort_on_error is deprecated. Use abort_on_first instead.\n",
      "Usage of abort_on_error is deprecated. Use abort_on_first instead.\n",
      "Usage of abort_on_error is deprecated. Use abort_on_first instead.\n",
      "Usage of abort_on_error is deprecated. Use abort_on_first instead.\n",
      "Usage of abort_on_error is deprecated. Use abort_on_first instead.\n",
      "Usage of abort_on_error is deprecated. Use abort_on_first instead.\n",
      "Usage of abort_on_error is deprecated. Use abort_on_first instead.\n",
      "Usage of abort_on_error is deprecated. Use abort_on_first instead.\n",
      "Usage of abort_on_error is deprecated. Use abort_on_first instead.\n",
      "Usage of abort_on_error is deprecated. Use abort_on_first instead.\n",
      "Usage of abort_on_error is deprecated. Use abort_on_first instead.\n",
      "Usage of abort_on_error is deprecated. Use abort_on_first instead.\n",
      "Usage of abort_on_error is deprecated. Use abort_on_first instead.\n",
      "Usage of abort_on_error is deprecated. Use abort_on_first instead.\n",
      "Usage of abort_on_error is deprecated. Use abort_on_first instead.\n",
      "Usage of abort_on_error is deprecated. Use abort_on_first instead.\n",
      "Usage of abort_on_error is deprecated. Use abort_on_first instead.\n",
      "Usage of abort_on_error is deprecated. Use abort_on_first instead.\n",
      "Usage of abort_on_error is deprecated. Use abort_on_first instead.\n",
      "Usage of abort_on_error is deprecated. Use abort_on_first instead.\n",
      "Usage of abort_on_error is deprecated. Use abort_on_first instead.\n",
      "Usage of abort_on_error is deprecated. Use abort_on_first instead.\n",
      "Usage of abort_on_error is deprecated. Use abort_on_first instead.\n",
      "Usage of abort_on_error is deprecated. Use abort_on_first instead.\n",
      "Usage of abort_on_error is deprecated. Use abort_on_first instead.\n",
      "Usage of abort_on_error is deprecated. Use abort_on_first instead.\n",
      "Usage of abort_on_error is deprecated. Use abort_on_first instead.\n",
      "Usage of abort_on_error is deprecated. Use abort_on_first instead.\n",
      "Usage of abort_on_error is deprecated. Use abort_on_first instead.\n",
      "Usage of abort_on_error is deprecated. Use abort_on_first instead.\n",
      "Usage of abort_on_error is deprecated. Use abort_on_first instead.\n",
      "Usage of abort_on_error is deprecated. Use abort_on_first instead.\n",
      "Usage of abort_on_error is deprecated. Use abort_on_first instead.\n",
      "Usage of abort_on_error is deprecated. Use abort_on_first instead.\n",
      "Usage of abort_on_error is deprecated. Use abort_on_first instead.\n",
      "Usage of abort_on_error is deprecated. Use abort_on_first instead.\n",
      "Usage of abort_on_error is deprecated. Use abort_on_first instead.\n",
      "Usage of abort_on_error is deprecated. Use abort_on_first instead.\n",
      "Usage of abort_on_error is deprecated. Use abort_on_first instead.\n",
      "Usage of abort_on_error is deprecated. Use abort_on_first instead.\n",
      "Usage of abort_on_error is deprecated. Use abort_on_first instead.\n",
      "Usage of abort_on_error is deprecated. Use abort_on_first instead.\n",
      "Usage of abort_on_error is deprecated. Use abort_on_first instead.\n",
      "Usage of abort_on_error is deprecated. Use abort_on_first instead.\n",
      "Usage of abort_on_error is deprecated. Use abort_on_first instead.\n",
      "Usage of abort_on_error is deprecated. Use abort_on_first instead.\n",
      "Usage of abort_on_error is deprecated. Use abort_on_first instead.\n",
      "Usage of abort_on_error is deprecated. Use abort_on_first instead.\n",
      "Usage of abort_on_error is deprecated. Use abort_on_first instead.\n",
      "Usage of abort_on_error is deprecated. Use abort_on_first instead.\n",
      "Usage of abort_on_error is deprecated. Use abort_on_first instead.\n",
      "Usage of abort_on_error is deprecated. Use abort_on_first instead.\n",
      "Usage of abort_on_error is deprecated. Use abort_on_first instead.\n",
      "Usage of abort_on_error is deprecated. Use abort_on_first instead.\n",
      "Usage of abort_on_error is deprecated. Use abort_on_first instead.\n",
      "Usage of abort_on_error is deprecated. Use abort_on_first instead.\n",
      "Usage of abort_on_error is deprecated. Use abort_on_first instead.\n",
      "Usage of abort_on_error is deprecated. Use abort_on_first instead.\n",
      "Usage of abort_on_error is deprecated. Use abort_on_first instead.\n",
      "Usage of abort_on_error is deprecated. Use abort_on_first instead.\n",
      "Usage of abort_on_error is deprecated. Use abort_on_first instead.\n",
      "Usage of abort_on_error is deprecated. Use abort_on_first instead.\n",
      "Usage of abort_on_error is deprecated. Use abort_on_first instead.\n",
      "Usage of abort_on_error is deprecated. Use abort_on_first instead.\n",
      "Usage of abort_on_error is deprecated. Use abort_on_first instead.\n",
      "Usage of abort_on_error is deprecated. Use abort_on_first instead.\n",
      "Usage of abort_on_error is deprecated. Use abort_on_first instead.\n",
      "Usage of abort_on_error is deprecated. Use abort_on_first instead.\n",
      "Usage of abort_on_error is deprecated. Use abort_on_first instead.\n",
      "Usage of abort_on_error is deprecated. Use abort_on_first instead.\n",
      "Usage of abort_on_error is deprecated. Use abort_on_first instead.\n",
      "Usage of abort_on_error is deprecated. Use abort_on_first instead.\n",
      "Usage of abort_on_error is deprecated. Use abort_on_first instead.\n",
      "Usage of abort_on_error is deprecated. Use abort_on_first instead.\n",
      "Usage of abort_on_error is deprecated. Use abort_on_first instead.\n",
      "Usage of abort_on_error is deprecated. Use abort_on_first instead.\n",
      "Usage of abort_on_error is deprecated. Use abort_on_first instead.\n",
      "Usage of abort_on_error is deprecated. Use abort_on_first instead.\n",
      "Usage of abort_on_error is deprecated. Use abort_on_first instead.\n",
      "Usage of abort_on_error is deprecated. Use abort_on_first instead.\n",
      "Usage of abort_on_error is deprecated. Use abort_on_first instead.\n",
      "Usage of abort_on_error is deprecated. Use abort_on_first instead.\n",
      "Usage of abort_on_error is deprecated. Use abort_on_first instead.\n",
      "Usage of abort_on_error is deprecated. Use abort_on_first instead.\n",
      "Usage of abort_on_error is deprecated. Use abort_on_first instead.\n",
      "Usage of abort_on_error is deprecated. Use abort_on_first instead.\n",
      "Usage of abort_on_error is deprecated. Use abort_on_first instead.\n",
      "Usage of abort_on_error is deprecated. Use abort_on_first instead.\n",
      "Usage of abort_on_error is deprecated. Use abort_on_first instead.\n",
      "Usage of abort_on_error is deprecated. Use abort_on_first instead.\n",
      "Usage of abort_on_error is deprecated. Use abort_on_first instead.\n",
      "Usage of abort_on_error is deprecated. Use abort_on_first instead.\n",
      "Usage of abort_on_error is deprecated. Use abort_on_first instead.\n",
      "Usage of abort_on_error is deprecated. Use abort_on_first instead.\n",
      "Usage of abort_on_error is deprecated. Use abort_on_first instead.\n",
      "Usage of abort_on_error is deprecated. Use abort_on_first instead.\n",
      "Usage of abort_on_error is deprecated. Use abort_on_first instead.\n",
      "Usage of abort_on_error is deprecated. Use abort_on_first instead.\n",
      "Usage of abort_on_error is deprecated. Use abort_on_first instead.\n",
      "Usage of abort_on_error is deprecated. Use abort_on_first instead.\n",
      "Usage of abort_on_error is deprecated. Use abort_on_first instead.\n",
      "Usage of abort_on_error is deprecated. Use abort_on_first instead.\n",
      "Usage of abort_on_error is deprecated. Use abort_on_first instead.\n",
      "Usage of abort_on_error is deprecated. Use abort_on_first instead.\n",
      "Usage of abort_on_error is deprecated. Use abort_on_first instead.\n",
      "Usage of abort_on_error is deprecated. Use abort_on_first instead.\n",
      "Usage of abort_on_error is deprecated. Use abort_on_first instead.\n",
      "Usage of abort_on_error is deprecated. Use abort_on_first instead.\n",
      "Usage of abort_on_error is deprecated. Use abort_on_first instead.\n",
      "Usage of abort_on_error is deprecated. Use abort_on_first instead.\n",
      "Usage of abort_on_error is deprecated. Use abort_on_first instead.\n",
      "Usage of abort_on_error is deprecated. Use abort_on_first instead.\n",
      "Usage of abort_on_error is deprecated. Use abort_on_first instead.\n",
      "Usage of abort_on_error is deprecated. Use abort_on_first instead.\n",
      "Usage of abort_on_error is deprecated. Use abort_on_first instead.\n",
      "Usage of abort_on_error is deprecated. Use abort_on_first instead.\n",
      "Usage of abort_on_error is deprecated. Use abort_on_first instead.\n",
      "Usage of abort_on_error is deprecated. Use abort_on_first instead.\n",
      "Usage of abort_on_error is deprecated. Use abort_on_first instead.\n",
      "Usage of abort_on_error is deprecated. Use abort_on_first instead.\n",
      "Usage of abort_on_error is deprecated. Use abort_on_first instead.\n",
      "Usage of abort_on_error is deprecated. Use abort_on_first instead.\n",
      "Usage of abort_on_error is deprecated. Use abort_on_first instead.\n",
      "Usage of abort_on_error is deprecated. Use abort_on_first instead.\n",
      "Usage of abort_on_error is deprecated. Use abort_on_first instead.\n",
      "Usage of abort_on_error is deprecated. Use abort_on_first instead.\n",
      "Usage of abort_on_error is deprecated. Use abort_on_first instead.\n",
      "Usage of abort_on_error is deprecated. Use abort_on_first instead.\n",
      "Usage of abort_on_error is deprecated. Use abort_on_first instead.\n",
      "Usage of abort_on_error is deprecated. Use abort_on_first instead.\n",
      "Usage of abort_on_error is deprecated. Use abort_on_first instead.\n",
      "Usage of abort_on_error is deprecated. Use abort_on_first instead.\n",
      "Usage of abort_on_error is deprecated. Use abort_on_first instead.\n",
      "Usage of abort_on_error is deprecated. Use abort_on_first instead.\n",
      "Usage of abort_on_error is deprecated. Use abort_on_first instead.\n",
      "Usage of abort_on_error is deprecated. Use abort_on_first instead.\n",
      "Usage of abort_on_error is deprecated. Use abort_on_first instead.\n",
      "Usage of abort_on_error is deprecated. Use abort_on_first instead.\n",
      "Usage of abort_on_error is deprecated. Use abort_on_first instead.\n",
      "Usage of abort_on_error is deprecated. Use abort_on_first instead.\n",
      "Usage of abort_on_error is deprecated. Use abort_on_first instead.\n",
      "Usage of abort_on_error is deprecated. Use abort_on_first instead.\n",
      "Usage of abort_on_error is deprecated. Use abort_on_first instead.\n",
      "Usage of abort_on_error is deprecated. Use abort_on_first instead.\n",
      "Usage of abort_on_error is deprecated. Use abort_on_first instead.\n",
      "Usage of abort_on_error is deprecated. Use abort_on_first instead.\n",
      "Usage of abort_on_error is deprecated. Use abort_on_first instead.\n",
      "Usage of abort_on_error is deprecated. Use abort_on_first instead.\n",
      "Usage of abort_on_error is deprecated. Use abort_on_first instead.\n",
      "Usage of abort_on_error is deprecated. Use abort_on_first instead.\n",
      "Usage of abort_on_error is deprecated. Use abort_on_first instead.\n",
      "Usage of abort_on_error is deprecated. Use abort_on_first instead.\n",
      "Usage of abort_on_error is deprecated. Use abort_on_first instead.\n",
      "Usage of abort_on_error is deprecated. Use abort_on_first instead.\n",
      "Usage of abort_on_error is deprecated. Use abort_on_first instead.\n",
      "Usage of abort_on_error is deprecated. Use abort_on_first instead.\n",
      "Usage of abort_on_error is deprecated. Use abort_on_first instead.\n",
      "Usage of abort_on_error is deprecated. Use abort_on_first instead.\n",
      "Usage of abort_on_error is deprecated. Use abort_on_first instead.\n",
      "Usage of abort_on_error is deprecated. Use abort_on_first instead.\n",
      "Usage of abort_on_error is deprecated. Use abort_on_first instead.\n",
      "Usage of abort_on_error is deprecated. Use abort_on_first instead.\n",
      "Usage of abort_on_error is deprecated. Use abort_on_first instead.\n",
      "Usage of abort_on_error is deprecated. Use abort_on_first instead.\n",
      "Usage of abort_on_error is deprecated. Use abort_on_first instead.\n",
      "Usage of abort_on_error is deprecated. Use abort_on_first instead.\n",
      "Usage of abort_on_error is deprecated. Use abort_on_first instead.\n",
      "Usage of abort_on_error is deprecated. Use abort_on_first instead.\n",
      "Usage of abort_on_error is deprecated. Use abort_on_first instead.\n",
      "Usage of abort_on_error is deprecated. Use abort_on_first instead.\n",
      "Usage of abort_on_error is deprecated. Use abort_on_first instead.\n",
      "Usage of abort_on_error is deprecated. Use abort_on_first instead.\n",
      "Usage of abort_on_error is deprecated. Use abort_on_first instead.\n",
      "Usage of abort_on_error is deprecated. Use abort_on_first instead.\n",
      "Usage of abort_on_error is deprecated. Use abort_on_first instead.\n",
      "Usage of abort_on_error is deprecated. Use abort_on_first instead.\n",
      "Usage of abort_on_error is deprecated. Use abort_on_first instead.\n",
      "Usage of abort_on_error is deprecated. Use abort_on_first instead.\n",
      "Usage of abort_on_error is deprecated. Use abort_on_first instead.\n",
      "Usage of abort_on_error is deprecated. Use abort_on_first instead.\n",
      "Usage of abort_on_error is deprecated. Use abort_on_first instead.\n",
      "Usage of abort_on_error is deprecated. Use abort_on_first instead.\n",
      "Usage of abort_on_error is deprecated. Use abort_on_first instead.\n",
      "Usage of abort_on_error is deprecated. Use abort_on_first instead.\n",
      "Usage of abort_on_error is deprecated. Use abort_on_first instead.\n",
      "Usage of abort_on_error is deprecated. Use abort_on_first instead.\n",
      "Usage of abort_on_error is deprecated. Use abort_on_first instead.\n",
      "Usage of abort_on_error is deprecated. Use abort_on_first instead.\n",
      "Usage of abort_on_error is deprecated. Use abort_on_first instead.\n",
      "Usage of abort_on_error is deprecated. Use abort_on_first instead.\n",
      "Usage of abort_on_error is deprecated. Use abort_on_first instead.\n",
      "Usage of abort_on_error is deprecated. Use abort_on_first instead.\n",
      "Usage of abort_on_error is deprecated. Use abort_on_first instead.\n",
      "Usage of abort_on_error is deprecated. Use abort_on_first instead.\n",
      "Usage of abort_on_error is deprecated. Use abort_on_first instead.\n",
      "Usage of abort_on_error is deprecated. Use abort_on_first instead.\n",
      "Usage of abort_on_error is deprecated. Use abort_on_first instead.\n",
      "Usage of abort_on_error is deprecated. Use abort_on_first instead.\n",
      "Usage of abort_on_error is deprecated. Use abort_on_first instead.\n",
      "Usage of abort_on_error is deprecated. Use abort_on_first instead.\n",
      "Usage of abort_on_error is deprecated. Use abort_on_first instead.\n",
      "Usage of abort_on_error is deprecated. Use abort_on_first instead.\n",
      "Usage of abort_on_error is deprecated. Use abort_on_first instead.\n",
      "Usage of abort_on_error is deprecated. Use abort_on_first instead.\n",
      "Usage of abort_on_error is deprecated. Use abort_on_first instead.\n",
      "Usage of abort_on_error is deprecated. Use abort_on_first instead.\n",
      "Usage of abort_on_error is deprecated. Use abort_on_first instead.\n",
      "Usage of abort_on_error is deprecated. Use abort_on_first instead.\n",
      "Usage of abort_on_error is deprecated. Use abort_on_first instead.\n",
      "Usage of abort_on_error is deprecated. Use abort_on_first instead.\n",
      "Usage of abort_on_error is deprecated. Use abort_on_first instead.\n",
      "Usage of abort_on_error is deprecated. Use abort_on_first instead.\n",
      "Usage of abort_on_error is deprecated. Use abort_on_first instead.\n",
      "Usage of abort_on_error is deprecated. Use abort_on_first instead.\n",
      "Usage of abort_on_error is deprecated. Use abort_on_first instead.\n",
      "Usage of abort_on_error is deprecated. Use abort_on_first instead.\n",
      "Usage of abort_on_error is deprecated. Use abort_on_first instead.\n",
      "Usage of abort_on_error is deprecated. Use abort_on_first instead.\n",
      "Usage of abort_on_error is deprecated. Use abort_on_first instead.\n",
      "Usage of abort_on_error is deprecated. Use abort_on_first instead.\n",
      "Usage of abort_on_error is deprecated. Use abort_on_first instead.\n",
      "Usage of abort_on_error is deprecated. Use abort_on_first instead.\n",
      "Usage of abort_on_error is deprecated. Use abort_on_first instead.\n",
      "Usage of abort_on_error is deprecated. Use abort_on_first instead.\n",
      "Usage of abort_on_error is deprecated. Use abort_on_first instead.\n",
      "Usage of abort_on_error is deprecated. Use abort_on_first instead.\n",
      "Usage of abort_on_error is deprecated. Use abort_on_first instead.\n",
      "Usage of abort_on_error is deprecated. Use abort_on_first instead.\n",
      "Usage of abort_on_error is deprecated. Use abort_on_first instead.\n",
      "Usage of abort_on_error is deprecated. Use abort_on_first instead.\n",
      "Usage of abort_on_error is deprecated. Use abort_on_first instead.\n",
      "Usage of abort_on_error is deprecated. Use abort_on_first instead.\n",
      "Usage of abort_on_error is deprecated. Use abort_on_first instead.\n",
      "Usage of abort_on_error is deprecated. Use abort_on_first instead.\n",
      "Usage of abort_on_error is deprecated. Use abort_on_first instead.\n",
      "Usage of abort_on_error is deprecated. Use abort_on_first instead.\n",
      "Usage of abort_on_error is deprecated. Use abort_on_first instead.\n",
      "Usage of abort_on_error is deprecated. Use abort_on_first instead.\n",
      "Usage of abort_on_error is deprecated. Use abort_on_first instead.\n",
      "Usage of abort_on_error is deprecated. Use abort_on_first instead.\n",
      "Usage of abort_on_error is deprecated. Use abort_on_first instead.\n",
      "Usage of abort_on_error is deprecated. Use abort_on_first instead.\n",
      "Usage of abort_on_error is deprecated. Use abort_on_first instead.\n",
      "Usage of abort_on_error is deprecated. Use abort_on_first instead.\n",
      "Usage of abort_on_error is deprecated. Use abort_on_first instead.\n",
      "Usage of abort_on_error is deprecated. Use abort_on_first instead.\n",
      "Usage of abort_on_error is deprecated. Use abort_on_first instead.\n",
      "Usage of abort_on_error is deprecated. Use abort_on_first instead.\n",
      "Usage of abort_on_error is deprecated. Use abort_on_first instead.\n",
      "Usage of abort_on_error is deprecated. Use abort_on_first instead.\n",
      "Usage of abort_on_error is deprecated. Use abort_on_first instead.\n",
      "Usage of abort_on_error is deprecated. Use abort_on_first instead.\n",
      "Usage of abort_on_error is deprecated. Use abort_on_first instead.\n",
      "Usage of abort_on_error is deprecated. Use abort_on_first instead.\n",
      "Usage of abort_on_error is deprecated. Use abort_on_first instead.\n",
      "Usage of abort_on_error is deprecated. Use abort_on_first instead.\n",
      "Usage of abort_on_error is deprecated. Use abort_on_first instead.\n",
      "Usage of abort_on_error is deprecated. Use abort_on_first instead.\n",
      "Usage of abort_on_error is deprecated. Use abort_on_first instead.\n",
      "Usage of abort_on_error is deprecated. Use abort_on_first instead.\n",
      "Usage of abort_on_error is deprecated. Use abort_on_first instead.\n",
      "Usage of abort_on_error is deprecated. Use abort_on_first instead.\n",
      "Usage of abort_on_error is deprecated. Use abort_on_first instead.\n",
      "Usage of abort_on_error is deprecated. Use abort_on_first instead.\n",
      "Usage of abort_on_error is deprecated. Use abort_on_first instead.\n",
      "Usage of abort_on_error is deprecated. Use abort_on_first instead.\n",
      "Usage of abort_on_error is deprecated. Use abort_on_first instead.\n",
      "Usage of abort_on_error is deprecated. Use abort_on_first instead.\n",
      "Usage of abort_on_error is deprecated. Use abort_on_first instead.\n",
      "Usage of abort_on_error is deprecated. Use abort_on_first instead.\n",
      "Usage of abort_on_error is deprecated. Use abort_on_first instead.\n",
      "Usage of abort_on_error is deprecated. Use abort_on_first instead.\n",
      "Usage of abort_on_error is deprecated. Use abort_on_first instead.\n",
      "Usage of abort_on_error is deprecated. Use abort_on_first instead.\n",
      "Usage of abort_on_error is deprecated. Use abort_on_first instead.\n",
      "Usage of abort_on_error is deprecated. Use abort_on_first instead.\n",
      "Usage of abort_on_error is deprecated. Use abort_on_first instead.\n",
      "Usage of abort_on_error is deprecated. Use abort_on_first instead.\n",
      "Usage of abort_on_error is deprecated. Use abort_on_first instead.\n",
      "Usage of abort_on_error is deprecated. Use abort_on_first instead.\n",
      "Usage of abort_on_error is deprecated. Use abort_on_first instead.\n",
      "Usage of abort_on_error is deprecated. Use abort_on_first instead.\n",
      "Usage of abort_on_error is deprecated. Use abort_on_first instead.\n",
      "Usage of abort_on_error is deprecated. Use abort_on_first instead.\n",
      "Usage of abort_on_error is deprecated. Use abort_on_first instead.\n",
      "Usage of abort_on_error is deprecated. Use abort_on_first instead.\n",
      "Usage of abort_on_error is deprecated. Use abort_on_first instead.\n",
      "Usage of abort_on_error is deprecated. Use abort_on_first instead.\n",
      "Usage of abort_on_error is deprecated. Use abort_on_first instead.\n",
      "Usage of abort_on_error is deprecated. Use abort_on_first instead.\n",
      "Usage of abort_on_error is deprecated. Use abort_on_first instead.\n",
      "Usage of abort_on_error is deprecated. Use abort_on_first instead.\n",
      "Usage of abort_on_error is deprecated. Use abort_on_first instead.\n",
      "Usage of abort_on_error is deprecated. Use abort_on_first instead.\n",
      "Usage of abort_on_error is deprecated. Use abort_on_first instead.\n",
      "Usage of abort_on_error is deprecated. Use abort_on_first instead.\n",
      "Usage of abort_on_error is deprecated. Use abort_on_first instead.\n",
      "Usage of abort_on_error is deprecated. Use abort_on_first instead.\n",
      "Usage of abort_on_error is deprecated. Use abort_on_first instead.\n",
      "Usage of abort_on_error is deprecated. Use abort_on_first instead.\n",
      "Usage of abort_on_error is deprecated. Use abort_on_first instead.\n",
      "Usage of abort_on_error is deprecated. Use abort_on_first instead.\n",
      "Usage of abort_on_error is deprecated. Use abort_on_first instead.\n",
      "Usage of abort_on_error is deprecated. Use abort_on_first instead.\n",
      "Usage of abort_on_error is deprecated. Use abort_on_first instead.\n",
      "Usage of abort_on_error is deprecated. Use abort_on_first instead.\n",
      "Usage of abort_on_error is deprecated. Use abort_on_first instead.\n",
      "Usage of abort_on_error is deprecated. Use abort_on_first instead.\n",
      "Usage of abort_on_error is deprecated. Use abort_on_first instead.\n",
      "Usage of abort_on_error is deprecated. Use abort_on_first instead.\n",
      "Usage of abort_on_error is deprecated. Use abort_on_first instead.\n",
      "Usage of abort_on_error is deprecated. Use abort_on_first instead.\n",
      "Usage of abort_on_error is deprecated. Use abort_on_first instead.\n",
      "Usage of abort_on_error is deprecated. Use abort_on_first instead.\n",
      "Usage of abort_on_error is deprecated. Use abort_on_first instead.\n",
      "Usage of abort_on_error is deprecated. Use abort_on_first instead.\n",
      "Usage of abort_on_error is deprecated. Use abort_on_first instead.\n",
      "Usage of abort_on_error is deprecated. Use abort_on_first instead.\n",
      "Usage of abort_on_error is deprecated. Use abort_on_first instead.\n",
      "Usage of abort_on_error is deprecated. Use abort_on_first instead.\n",
      "Usage of abort_on_error is deprecated. Use abort_on_first instead.\n",
      "Usage of abort_on_error is deprecated. Use abort_on_first instead.\n",
      "Usage of abort_on_error is deprecated. Use abort_on_first instead.\n",
      "Usage of abort_on_error is deprecated. Use abort_on_first instead.\n",
      "Usage of abort_on_error is deprecated. Use abort_on_first instead.\n",
      "Usage of abort_on_error is deprecated. Use abort_on_first instead.\n",
      "Usage of abort_on_error is deprecated. Use abort_on_first instead.\n",
      "Usage of abort_on_error is deprecated. Use abort_on_first instead.\n",
      "Usage of abort_on_error is deprecated. Use abort_on_first instead.\n",
      "Usage of abort_on_error is deprecated. Use abort_on_first instead.\n",
      "Usage of abort_on_error is deprecated. Use abort_on_first instead.\n",
      "Usage of abort_on_error is deprecated. Use abort_on_first instead.\n",
      "Usage of abort_on_error is deprecated. Use abort_on_first instead.\n",
      "Usage of abort_on_error is deprecated. Use abort_on_first instead.\n",
      "Usage of abort_on_error is deprecated. Use abort_on_first instead.\n",
      "Usage of abort_on_error is deprecated. Use abort_on_first instead.\n",
      "Usage of abort_on_error is deprecated. Use abort_on_first instead.\n",
      "Usage of abort_on_error is deprecated. Use abort_on_first instead.\n",
      "Usage of abort_on_error is deprecated. Use abort_on_first instead.\n",
      "Usage of abort_on_error is deprecated. Use abort_on_first instead.\n",
      "Usage of abort_on_error is deprecated. Use abort_on_first instead.\n",
      "Usage of abort_on_error is deprecated. Use abort_on_first instead.\n",
      "Usage of abort_on_error is deprecated. Use abort_on_first instead.\n",
      "Usage of abort_on_error is deprecated. Use abort_on_first instead.\n",
      "Usage of abort_on_error is deprecated. Use abort_on_first instead.\n",
      "Usage of abort_on_error is deprecated. Use abort_on_first instead.\n",
      "Usage of abort_on_error is deprecated. Use abort_on_first instead.\n",
      "Usage of abort_on_error is deprecated. Use abort_on_first instead.\n",
      "Usage of abort_on_error is deprecated. Use abort_on_first instead.\n",
      "Usage of abort_on_error is deprecated. Use abort_on_first instead.\n",
      "Usage of abort_on_error is deprecated. Use abort_on_first instead.\n",
      "Usage of abort_on_error is deprecated. Use abort_on_first instead.\n",
      "Usage of abort_on_error is deprecated. Use abort_on_first instead.\n",
      "Usage of abort_on_error is deprecated. Use abort_on_first instead.\n",
      "Usage of abort_on_error is deprecated. Use abort_on_first instead.\n",
      "Usage of abort_on_error is deprecated. Use abort_on_first instead.\n",
      "Usage of abort_on_error is deprecated. Use abort_on_first instead.\n",
      "Usage of abort_on_error is deprecated. Use abort_on_first instead.\n",
      "Usage of abort_on_error is deprecated. Use abort_on_first instead.\n",
      "Usage of abort_on_error is deprecated. Use abort_on_first instead.\n",
      "Usage of abort_on_error is deprecated. Use abort_on_first instead.\n",
      "Usage of abort_on_error is deprecated. Use abort_on_first instead.\n",
      "Usage of abort_on_error is deprecated. Use abort_on_first instead.\n",
      "Usage of abort_on_error is deprecated. Use abort_on_first instead.\n",
      "Usage of abort_on_error is deprecated. Use abort_on_first instead.\n",
      "Usage of abort_on_error is deprecated. Use abort_on_first instead.\n",
      "Usage of abort_on_error is deprecated. Use abort_on_first instead.\n",
      "Usage of abort_on_error is deprecated. Use abort_on_first instead.\n",
      "Usage of abort_on_error is deprecated. Use abort_on_first instead.\n",
      "Usage of abort_on_error is deprecated. Use abort_on_first instead.\n",
      "Usage of abort_on_error is deprecated. Use abort_on_first instead.\n",
      "Usage of abort_on_error is deprecated. Use abort_on_first instead.\n",
      "Usage of abort_on_error is deprecated. Use abort_on_first instead.\n",
      "Usage of abort_on_error is deprecated. Use abort_on_first instead.\n",
      "Usage of abort_on_error is deprecated. Use abort_on_first instead.\n",
      "Usage of abort_on_error is deprecated. Use abort_on_first instead.\n",
      "Usage of abort_on_error is deprecated. Use abort_on_first instead.\n",
      "Usage of abort_on_error is deprecated. Use abort_on_first instead.\n",
      "Usage of abort_on_error is deprecated. Use abort_on_first instead.\n",
      "Usage of abort_on_error is deprecated. Use abort_on_first instead.\n",
      "Usage of abort_on_error is deprecated. Use abort_on_first instead.\n",
      "Usage of abort_on_error is deprecated. Use abort_on_first instead.\n",
      "Usage of abort_on_error is deprecated. Use abort_on_first instead.\n",
      "Usage of abort_on_error is deprecated. Use abort_on_first instead.\n",
      "Usage of abort_on_error is deprecated. Use abort_on_first instead.\n",
      "Usage of abort_on_error is deprecated. Use abort_on_first instead.\n",
      "Usage of abort_on_error is deprecated. Use abort_on_first instead.\n",
      "Usage of abort_on_error is deprecated. Use abort_on_first instead.\n",
      "Usage of abort_on_error is deprecated. Use abort_on_first instead.\n",
      "Usage of abort_on_error is deprecated. Use abort_on_first instead.\n",
      "Usage of abort_on_error is deprecated. Use abort_on_first instead.\n",
      "Usage of abort_on_error is deprecated. Use abort_on_first instead.\n",
      "Usage of abort_on_error is deprecated. Use abort_on_first instead.\n",
      "Usage of abort_on_error is deprecated. Use abort_on_first instead.\n",
      "Usage of abort_on_error is deprecated. Use abort_on_first instead.\n",
      "Usage of abort_on_error is deprecated. Use abort_on_first instead.\n",
      "Usage of abort_on_error is deprecated. Use abort_on_first instead.\n",
      "Usage of abort_on_error is deprecated. Use abort_on_first instead.\n",
      "Usage of abort_on_error is deprecated. Use abort_on_first instead.\n",
      "Usage of abort_on_error is deprecated. Use abort_on_first instead.\n",
      "Usage of abort_on_error is deprecated. Use abort_on_first instead.\n",
      "Usage of abort_on_error is deprecated. Use abort_on_first instead.\n",
      "Usage of abort_on_error is deprecated. Use abort_on_first instead.\n",
      "Usage of abort_on_error is deprecated. Use abort_on_first instead.\n",
      "Usage of abort_on_error is deprecated. Use abort_on_first instead.\n",
      "Usage of abort_on_error is deprecated. Use abort_on_first instead.\n",
      "Usage of abort_on_error is deprecated. Use abort_on_first instead.\n",
      "Usage of abort_on_error is deprecated. Use abort_on_first instead.\n",
      "Usage of abort_on_error is deprecated. Use abort_on_first instead.\n",
      "Usage of abort_on_error is deprecated. Use abort_on_first instead.\n",
      "Usage of abort_on_error is deprecated. Use abort_on_first instead.\n",
      "Usage of abort_on_error is deprecated. Use abort_on_first instead.\n",
      "Usage of abort_on_error is deprecated. Use abort_on_first instead.\n",
      "Usage of abort_on_error is deprecated. Use abort_on_first instead.\n",
      "Usage of abort_on_error is deprecated. Use abort_on_first instead.\n",
      "Usage of abort_on_error is deprecated. Use abort_on_first instead.\n",
      "Usage of abort_on_error is deprecated. Use abort_on_first instead.\n",
      "Usage of abort_on_error is deprecated. Use abort_on_first instead.\n",
      "Usage of abort_on_error is deprecated. Use abort_on_first instead.\n",
      "Usage of abort_on_error is deprecated. Use abort_on_first instead.\n",
      "Usage of abort_on_error is deprecated. Use abort_on_first instead.\n",
      "Usage of abort_on_error is deprecated. Use abort_on_first instead.\n",
      "Usage of abort_on_error is deprecated. Use abort_on_first instead.\n",
      "Usage of abort_on_error is deprecated. Use abort_on_first instead.\n",
      "Usage of abort_on_error is deprecated. Use abort_on_first instead.\n",
      "Usage of abort_on_error is deprecated. Use abort_on_first instead.\n"
     ]
    },
    {
     "name": "stdout",
     "output_type": "stream",
     "text": [
      "CPU times: user 709 ms, sys: 131 ms, total: 840 ms\n",
      "Wall time: 7.99 s\n"
     ]
    },
    {
     "name": "stderr",
     "output_type": "stream",
     "text": [
      "Usage of abort_on_error is deprecated. Use abort_on_first instead.\n",
      "Usage of abort_on_error is deprecated. Use abort_on_first instead.\n",
      "Usage of abort_on_error is deprecated. Use abort_on_first instead.\n",
      "Usage of abort_on_error is deprecated. Use abort_on_first instead.\n",
      "Usage of abort_on_error is deprecated. Use abort_on_first instead.\n",
      "Usage of abort_on_error is deprecated. Use abort_on_first instead.\n",
      "Usage of abort_on_error is deprecated. Use abort_on_first instead.\n",
      "Usage of abort_on_error is deprecated. Use abort_on_first instead.\n",
      "Usage of abort_on_error is deprecated. Use abort_on_first instead.\n",
      "Usage of abort_on_error is deprecated. Use abort_on_first instead.\n",
      "Usage of abort_on_error is deprecated. Use abort_on_first instead.\n",
      "Usage of abort_on_error is deprecated. Use abort_on_first instead.\n",
      "Usage of abort_on_error is deprecated. Use abort_on_first instead.\n"
     ]
    }
   ],
   "source": [
    "%%time\n",
    "%%capture cap --no-stderr  --no-stdout\n",
    "\n",
    "fns = oss.ls('gleaner/summoned/opentopo')\n",
    "o = [read_and_validate(f) for f in fns]\n",
    "\n",
    "ca = []\n",
    "for doc in range(len(o)):\n",
    "  ca.append(o[doc])\n",
    "\n",
    "results = dask.compute(*ca)  ## Wait..  can I just dask.compute(o)  ????\n"
   ]
  },
  {
   "cell_type": "markdown",
   "source": [
    "### Loop on results and load to graph"
   ],
   "metadata": {
    "collapsed": false
   }
  },
  {
   "cell_type": "code",
   "execution_count": 18,
   "metadata": {},
   "outputs": [],
   "source": [
    "rnamespaces = {\n",
    "    \"schema\":  \"https://schema.org/\",\n",
    "    \"shacl\":   \"http://www.w3.org/ns/shacl#\" ,\n",
    "}\n",
    "\n",
    "rkg = kglab.KnowledgeGraph(\n",
    "    name = \"Schema.org shacl eval datagraph\",\n",
    "    base_uri = \"https://example.org/id/\",\n",
    "    namespaces = rnamespaces,\n",
    ")\n",
    "\n",
    "for r in results:\n",
    "    rkg.load_rdf_text(data=r, format=\"ttl\")"
   ]
  },
  {
   "cell_type": "code",
   "execution_count": 19,
   "outputs": [],
   "source": [
    "sparql = \"\"\"\n",
    "SELECT ?path ?value ?constraint ?severity ?message ?id ?focus\n",
    "  WHERE {\n",
    "    ?id rdf:type shacl:ValidationResult .\n",
    "    ?id shacl:focusNode ?focus .\n",
    "    ?id shacl:resultMessage ?message .\n",
    "    ?id shacl:resultSeverity ?severity .\n",
    "    ?id shacl:sourceConstraintComponent ?constraint .\n",
    "    OPTIONAL {\n",
    "        ?id shacl:resultPath ?path .\n",
    "    }\n",
    "    OPTIONAL {\n",
    "        ?id shacl:value ?value .\n",
    "    }\n",
    "  }\n",
    "\"\"\"\n",
    "\n",
    "df = rkg.query_as_df(sparql)"
   ],
   "metadata": {
    "collapsed": false,
    "pycharm": {
     "name": "#%%\n"
    }
   }
  },
  {
   "cell_type": "code",
   "execution_count": 28,
   "outputs": [],
   "source": [
    "pdf = df.to_pandas()\n",
    "# pdf.style.apply(change_color_group, axis=None)"
   ],
   "metadata": {
    "collapsed": false,
    "pycharm": {
     "name": "#%%\n"
    }
   }
  },
  {
   "cell_type": "code",
   "execution_count": 29,
   "outputs": [
    {
     "name": "stdout",
     "output_type": "stream",
     "text": [
      "<class 'pandas.core.frame.DataFrame'>\n",
      "RangeIndex: 666 entries, 0 to 665\n",
      "Data columns (total 6 columns):\n",
      " #   Column      Non-Null Count  Dtype \n",
      "---  ------      --------------  ----- \n",
      " 0   path        666 non-null    object\n",
      " 1   constraint  666 non-null    object\n",
      " 2   severity    666 non-null    object\n",
      " 3   message     666 non-null    object\n",
      " 4   id          666 non-null    object\n",
      " 5   focus       666 non-null    object\n",
      "dtypes: object(6)\n",
      "memory usage: 31.3+ KB\n"
     ]
    }
   ],
   "source": [
    "pdf.info(10)\n"
   ],
   "metadata": {
    "collapsed": false,
    "pycharm": {
     "name": "#%%\n"
    }
   }
  },
  {
   "cell_type": "code",
   "execution_count": 30,
   "outputs": [
    {
     "data": {
      "text/plain": "               path                         constraint         severity  \\\n0  schema1:provider  shacl:MinCountConstraintComponent  shacl:Violation   \n1  schema1:provider  shacl:MinCountConstraintComponent  shacl:Violation   \n2  schema1:provider  shacl:MinCountConstraintComponent  shacl:Violation   \n3  schema1:provider  shacl:MinCountConstraintComponent  shacl:Violation   \n4  schema1:provider  shacl:MinCountConstraintComponent  shacl:Violation   \n5  schema1:provider  shacl:MinCountConstraintComponent  shacl:Violation   \n6  schema1:provider  shacl:MinCountConstraintComponent  shacl:Violation   \n7  schema1:provider  shacl:MinCountConstraintComponent  shacl:Violation   \n8  schema1:provider  shacl:MinCountConstraintComponent  shacl:Violation   \n9  schema1:provider  shacl:MinCountConstraintComponent  shacl:Violation   \n\n                    message                                     id  \\\n0  A provider must be noted  _:n8ddfb9d60a084cfbb685b592e245962cb2   \n1  A provider must be noted  _:n9ed47cbc53ba46418375658ef243a6d9b2   \n2  A provider must be noted  _:nd869583ab9dc48dcbcac2c5cf9256097b2   \n3  A provider must be noted  _:na4f539848c384a9fac470ec08b7a3a2eb2   \n4  A provider must be noted  _:n68cddfc79e734d7d8ff938dc61edadfdb2   \n5  A provider must be noted  _:n3f74849dbf2f4d69b40f77e25c197472b2   \n6  A provider must be noted  _:n5da8a3410ab84c7ab1aa37d1555e1209b2   \n7  A provider must be noted  _:n6062192201864e5aa871d7ea39728fffb2   \n8  A provider must be noted  _:n1d955306361347beb19ae8d9b2e52ed5b2   \n9  A provider must be noted  _:nc8e709a363e34ecf9e89529792dfa84fb2   \n\n                                                                                  focus  \n0   <https://portal.opentopography.org/dataspace/dataset?opentopoID=OTDS.122019.4326.2>  \n1            <https://portal.opentopography.org/raster?opentopoID=OTSDEM.052020.6341.1>  \n2  <https://portal.opentopography.org/dataspace/dataset?opentopoID=OTDS.062019.32736.1>  \n3      <https://portal.opentopography.org/lidarDataset?opentopoID=OTLAS.032012.26916.1>  \n4  <https://portal.opentopography.org/dataspace/dataset?opentopoID=OTDS.062020.32611.1>  \n5           <https://portal.opentopography.org/raster?opentopoID=OTSDEM.032011.26910.1>  \n6       <https://portal.opentopography.org/lidarDataset?opentopoID=OTLAS.072018.6635.1>  \n7           <https://portal.opentopography.org/raster?opentopoID=OTSDEM.082016.26913.3>  \n8            <https://portal.opentopography.org/raster?opentopoID=OTSDEM.122019.2229.1>  \n9      <https://portal.opentopography.org/lidarDataset?opentopoID=OTLAS.032017.26911.1>  ",
      "text/html": "<div>\n<style scoped>\n    .dataframe tbody tr th:only-of-type {\n        vertical-align: middle;\n    }\n\n    .dataframe tbody tr th {\n        vertical-align: top;\n    }\n\n    .dataframe thead th {\n        text-align: right;\n    }\n</style>\n<table border=\"1\" class=\"dataframe\">\n  <thead>\n    <tr style=\"text-align: right;\">\n      <th></th>\n      <th>path</th>\n      <th>constraint</th>\n      <th>severity</th>\n      <th>message</th>\n      <th>id</th>\n      <th>focus</th>\n    </tr>\n  </thead>\n  <tbody>\n    <tr>\n      <th>0</th>\n      <td>schema1:provider</td>\n      <td>shacl:MinCountConstraintComponent</td>\n      <td>shacl:Violation</td>\n      <td>A provider must be noted</td>\n      <td>_:n8ddfb9d60a084cfbb685b592e245962cb2</td>\n      <td>&lt;https://portal.opentopography.org/dataspace/dataset?opentopoID=OTDS.122019.4326.2&gt;</td>\n    </tr>\n    <tr>\n      <th>1</th>\n      <td>schema1:provider</td>\n      <td>shacl:MinCountConstraintComponent</td>\n      <td>shacl:Violation</td>\n      <td>A provider must be noted</td>\n      <td>_:n9ed47cbc53ba46418375658ef243a6d9b2</td>\n      <td>&lt;https://portal.opentopography.org/raster?opentopoID=OTSDEM.052020.6341.1&gt;</td>\n    </tr>\n    <tr>\n      <th>2</th>\n      <td>schema1:provider</td>\n      <td>shacl:MinCountConstraintComponent</td>\n      <td>shacl:Violation</td>\n      <td>A provider must be noted</td>\n      <td>_:nd869583ab9dc48dcbcac2c5cf9256097b2</td>\n      <td>&lt;https://portal.opentopography.org/dataspace/dataset?opentopoID=OTDS.062019.32736.1&gt;</td>\n    </tr>\n    <tr>\n      <th>3</th>\n      <td>schema1:provider</td>\n      <td>shacl:MinCountConstraintComponent</td>\n      <td>shacl:Violation</td>\n      <td>A provider must be noted</td>\n      <td>_:na4f539848c384a9fac470ec08b7a3a2eb2</td>\n      <td>&lt;https://portal.opentopography.org/lidarDataset?opentopoID=OTLAS.032012.26916.1&gt;</td>\n    </tr>\n    <tr>\n      <th>4</th>\n      <td>schema1:provider</td>\n      <td>shacl:MinCountConstraintComponent</td>\n      <td>shacl:Violation</td>\n      <td>A provider must be noted</td>\n      <td>_:n68cddfc79e734d7d8ff938dc61edadfdb2</td>\n      <td>&lt;https://portal.opentopography.org/dataspace/dataset?opentopoID=OTDS.062020.32611.1&gt;</td>\n    </tr>\n    <tr>\n      <th>5</th>\n      <td>schema1:provider</td>\n      <td>shacl:MinCountConstraintComponent</td>\n      <td>shacl:Violation</td>\n      <td>A provider must be noted</td>\n      <td>_:n3f74849dbf2f4d69b40f77e25c197472b2</td>\n      <td>&lt;https://portal.opentopography.org/raster?opentopoID=OTSDEM.032011.26910.1&gt;</td>\n    </tr>\n    <tr>\n      <th>6</th>\n      <td>schema1:provider</td>\n      <td>shacl:MinCountConstraintComponent</td>\n      <td>shacl:Violation</td>\n      <td>A provider must be noted</td>\n      <td>_:n5da8a3410ab84c7ab1aa37d1555e1209b2</td>\n      <td>&lt;https://portal.opentopography.org/lidarDataset?opentopoID=OTLAS.072018.6635.1&gt;</td>\n    </tr>\n    <tr>\n      <th>7</th>\n      <td>schema1:provider</td>\n      <td>shacl:MinCountConstraintComponent</td>\n      <td>shacl:Violation</td>\n      <td>A provider must be noted</td>\n      <td>_:n6062192201864e5aa871d7ea39728fffb2</td>\n      <td>&lt;https://portal.opentopography.org/raster?opentopoID=OTSDEM.082016.26913.3&gt;</td>\n    </tr>\n    <tr>\n      <th>8</th>\n      <td>schema1:provider</td>\n      <td>shacl:MinCountConstraintComponent</td>\n      <td>shacl:Violation</td>\n      <td>A provider must be noted</td>\n      <td>_:n1d955306361347beb19ae8d9b2e52ed5b2</td>\n      <td>&lt;https://portal.opentopography.org/raster?opentopoID=OTSDEM.122019.2229.1&gt;</td>\n    </tr>\n    <tr>\n      <th>9</th>\n      <td>schema1:provider</td>\n      <td>shacl:MinCountConstraintComponent</td>\n      <td>shacl:Violation</td>\n      <td>A provider must be noted</td>\n      <td>_:nc8e709a363e34ecf9e89529792dfa84fb2</td>\n      <td>&lt;https://portal.opentopography.org/lidarDataset?opentopoID=OTLAS.032017.26911.1&gt;</td>\n    </tr>\n  </tbody>\n</table>\n</div>"
     },
     "execution_count": 30,
     "metadata": {},
     "output_type": "execute_result"
    }
   ],
   "source": [
    "pdf.head(10)"
   ],
   "metadata": {
    "collapsed": false,
    "pycharm": {
     "name": "#%%\n"
    }
   }
  },
  {
   "cell_type": "code",
   "execution_count": 31,
   "outputs": [
    {
     "data": {
      "text/plain": "shacl:Violation    666\nName: severity, dtype: int64"
     },
     "execution_count": 31,
     "metadata": {},
     "output_type": "execute_result"
    }
   ],
   "source": [
    "pdf[\"severity\"].value_counts()"
   ],
   "metadata": {
    "collapsed": false,
    "pycharm": {
     "name": "#%%\n"
    }
   }
  },
  {
   "cell_type": "code",
   "execution_count": 32,
   "outputs": [
    {
     "data": {
      "text/plain": "A provider must be noted    666\nName: message, dtype: int64"
     },
     "execution_count": 32,
     "metadata": {},
     "output_type": "execute_result"
    }
   ],
   "source": [
    "pdf[\"message\"].value_counts()"
   ],
   "metadata": {
    "collapsed": false,
    "pycharm": {
     "name": "#%%\n"
    }
   }
  },
  {
   "cell_type": "code",
   "execution_count": 33,
   "outputs": [
    {
     "data": {
      "text/plain": "<https://portal.opentopography.org/lidarDataset?opentopoID=OTLAS.052012.26917.1>        1\n<https://portal.opentopography.org/lidarDataset?opentopoID=OTLAS.082012.26911.2>        1\n<https://portal.opentopography.org/lidarDataset?opentopoID=OTLAS.112011.26911.3>        1\n<https://portal.opentopography.org/raster?opentopoID=OTSDEM.042019.6342.1>              1\n<https://portal.opentopography.org/lidarDataset?opentopoID=OTLAS.082012.26911.1>        1\n<https://portal.opentopography.org/raster?opentopoID=OTSDEM.092020.26912.1>             1\n<https://portal.opentopography.org/raster?opentopoID=OTSDEM.072016.32759.1>             1\n<https://portal.opentopography.org/raster?opentopoID=OTSDEM.062012.26911.1>             1\n<https://portal.opentopography.org/lidarDataset?opentopoID=OTLAS.022020.2193.1>         1\n<https://portal.opentopography.org/raster?opentopoID=OTSDEM.072016.26917.1>             1\n<https://portal.opentopography.org/lidarDataset?opentopoID=OTLAS.102016.26916.1>        1\n<https://portal.opentopography.org/lidarDataset?opentopoID=OTLAS.122014.26910.1>        1\n<https://portal.opentopography.org/lidarDataset?opentopoID=OTLAS.082016.26913.2>        1\n<https://portal.opentopography.org/dataspace/dataset?opentopoID=OTDS.082019.32616.2>    1\n<https://portal.opentopography.org/lidarDataset?opentopoID=OTLAS.062012.26918.1>        1\n<https://portal.opentopography.org/dataspace/dataset?opentopoID=OTDS.122019.32643.1>    1\n<https://portal.opentopography.org/lidarDataset?opentopoID=OTLAS.052016.26912.3>        1\n<https://portal.opentopography.org/raster?opentopoID=OTSDEM.112011.26911.3>             1\n<https://portal.opentopography.org/dataspace/dataset?opentopoID=OTDS.022019.32637.3>    1\n<https://portal.opentopography.org/lidarDataset?opentopoID=OTLAS.042012.26911.4>        1\n<https://portal.opentopography.org/raster?opentopoID=OTSDEM.052009.32612.1>             1\n<https://portal.opentopography.org/lidarDataset?opentopoID=OTLAS.052014.26910.1>        1\n<https://portal.opentopography.org/raster?opentopoID=OTSDEM.052012.26917.1>             1\n<https://portal.opentopography.org/dataspace/dataset?opentopoID=OTDS.062020.32648.1>    1\n<https://portal.opentopography.org/lidarDataset?opentopoID=OTLAS.032012.26916.1>        1\n<https://portal.opentopography.org/dataspace/dataset?opentopoID=OTDS.032019.4326.4>     1\n<https://portal.opentopography.org/dataspace/dataset?opentopoID=OTDS.022019.32637.2>    1\n<https://portal.opentopography.org/lidarDataset?opentopoID=OTLAS.042013.26919.1>        1\n<https://portal.opentopography.org/lidarDataset?opentopoID=OTLAS.112020.6341.1>         1\n<https://portal.opentopography.org/lidarDataset?opentopoID=OTLAS.102019.6339.2>         1\n<https://portal.opentopography.org/raster?opentopoID=OTSDEM.082016.26913.1>             1\n<https://portal.opentopography.org/dataspace/dataset?opentopoID=OTDS.122019.4326.8>     1\n<https://portal.opentopography.org/lidarDataset?opentopoID=OTLAS.092012.26910.3>        1\n<https://portal.opentopography.org/raster?opentopoID=OTSRTM.042013.4326.1>              1\n<https://portal.opentopography.org/lidarDataset?opentopoID=OTLAS.032013.26918.2>        1\n<https://portal.opentopography.org/raster?opentopoID=OTSDEM.092012.26910.1>             1\n<https://portal.opentopography.org/raster?opentopoID=OTSDEM.062017.26911.1>             1\n<https://portal.opentopography.org/raster?opentopoID=OTSDEM.042020.6339.1>              1\n<https://portal.opentopography.org/raster?opentopoID=OTSDEM.052020.6341.1>              1\n<https://portal.opentopography.org/raster?opentopoID=OTSDEM.052015.26910.1>             1\n<https://portal.opentopography.org/lidarDataset?opentopoID=OTLAS.092014.26913.1>        1\n<https://portal.opentopography.org/lidarDataset?opentopoID=OTLAS.042017.2193.2>         1\n<https://portal.opentopography.org/raster?opentopoID=OTSDEM.072019.6339.2>              1\n<https://portal.opentopography.org/lidarDataset?opentopoID=OTLAS.102012.26912.3>        1\n<https://portal.opentopography.org/lidarDataset?opentopoID=OTLAS.092015.32611.1>        1\n<https://portal.opentopography.org/raster?opentopoID=OTSDEM.112011.26916.1>             1\n<https://portal.opentopography.org/raster?opentopoID=OTSDEM.112012.26910.1>             1\n<https://portal.opentopography.org/lidarDataset?opentopoID=OTLAS.112009.32610.1>        1\n<https://portal.opentopography.org/lidarDataset?opentopoID=OTLAS.072020.2193.1>         1\n<https://portal.opentopography.org/dataspace/dataset?opentopoID=OTDS.032021.4326.2>     1\n<https://portal.opentopography.org/lidarDataset?opentopoID=OTLAS.052016.26912.2>        1\n<https://portal.opentopography.org/raster?opentopoID=OTSDEM.082020.6341.1>              1\n<https://portal.opentopography.org/dataspace/dataset?opentopoID=OTDS.082019.32723.1>    1\n<https://portal.opentopography.org/raster?opentopoID=OTSRTM.082015.4326.1>              1\n<https://portal.opentopography.org/lidarDataset?opentopoID=OTLAS.052012.26910.1>        1\n<https://portal.opentopography.org/lidarDataset?opentopoID=OTLAS.022015.26911.2>        1\n<https://portal.opentopography.org/dataspace/dataset?opentopoID=OTDS.072019.4326.1>     1\n<https://portal.opentopography.org/lidarDataset?opentopoID=OTLAS.042013.26912.1>        1\n<https://portal.opentopography.org/lidarDataset?opentopoID=OTLAS.052013.26913.1>        1\n<https://portal.opentopography.org/lidarDataset?opentopoID=OTLAS.052010.26910.1>        1\n<https://portal.opentopography.org/lidarDataset?opentopoID=OTLAS.042012.26911.7>        1\n<https://portal.opentopography.org/lidarDataset?opentopoID=OTLAS.052012.32611.1>        1\n<https://portal.opentopography.org/lidarDataset?opentopoID=OTLAS.072018.2193.1>         1\n<https://portal.opentopography.org/dataspace/dataset?opentopoID=OTDS.042021.32719.2>    1\n<https://portal.opentopography.org/raster?opentopoID=OTSDEM.052016.26912.1>             1\n<https://portal.opentopography.org/lidarDataset?opentopoID=OTLAS.122016.2193.1>         1\n<https://portal.opentopography.org/dataspace/dataset?opentopoID=OTDS.052019.32616.1>    1\n<https://portal.opentopography.org/lidarDataset?opentopoID=OTLAS.012013.26911.1>        1\n<https://portal.opentopography.org/lidarDataset?opentopoID=OTLAS.122019.2193.1>         1\n<https://portal.opentopography.org/lidarDataset?opentopoID=OTLAS.082013.26910.1>        1\n<https://portal.opentopography.org/dataspace/dataset?opentopoID=OTDS.062020.32611.1>    1\n<https://portal.opentopography.org/dataspace/dataset?opentopoID=OTDS.102018.32633.1>    1\n<https://portal.opentopography.org/lidarDataset?opentopoID=OTLAS.042012.26911.6>        1\n<https://portal.opentopography.org/lidarDataset?opentopoID=OTLAS.102012.26920.1>        1\n<https://portal.opentopography.org/raster?opentopoID=OTSDEM.042020.6339.2>              1\n<https://portal.opentopography.org/dataspace/dataset?opentopoID=OTDS.012021.26912.1>    1\n<https://portal.opentopography.org/lidarDataset?opentopoID=OTLAS.102012.26913.1>        1\n<https://portal.opentopography.org/lidarDataset?opentopoID=OTLAS.082019.26912.1>        1\n<https://portal.opentopography.org/lidarDataset?opentopoID=OTLAS.072016.32759.1>        1\n<https://portal.opentopography.org/lidarDataset?opentopoID=OTLAS.052019.6341.1>         1\n<https://portal.opentopography.org/lidarDataset?opentopoID=OTLAS.042013.26913.1>        1\n<https://portal.opentopography.org/raster?opentopoID=OTSDEM.022012.26910.2>             1\n<https://portal.opentopography.org/raster?opentopoID=OTSDEM.112015.26912.1>             1\n<https://portal.opentopography.org/raster?opentopoID=OTSDEM.012019.26911.1>             1\n<https://portal.opentopography.org/lidarDataset?opentopoID=OTLAS.082020.6341.1>         1\n<https://portal.opentopography.org/raster?opentopoID=OTSDEM.032011.26910.1>             1\n<https://portal.opentopography.org/raster?opentopoID=OTSDEM.102012.26916.1>             1\n<https://portal.opentopography.org/dataspace/dataset?opentopoID=OTDS.102020.4326.5>     1\n<https://portal.opentopography.org/dataspace/dataset?opentopoID=OTDS.012021.26911.1>    1\n<https://portal.opentopography.org/lidarDataset?opentopoID=OTLAS.032012.26911.3>        1\n<https://portal.opentopography.org/raster?opentopoID=OTSDEM.032013.32611.1>             1\n<https://portal.opentopography.org/lidarDataset?opentopoID=OTLAS.072017.26912.1>        1\n<https://portal.opentopography.org/raster?opentopoID=OTSDEM.072020.32611.1>             1\n<https://portal.opentopography.org/lidarDataset?opentopoID=OTLAS.032018.32611.1>        1\n<https://portal.opentopography.org/lidarDataset?opentopoID=OTLAS.072011.32611.2>        1\n<https://portal.opentopography.org/raster?opentopoID=OTSDEM.102016.26916.1>             1\n<https://portal.opentopography.org/dataspace/dataset?opentopoID=OTDS.122019.4326.7>     1\n<https://portal.opentopography.org/raster?opentopoID=OTSDEM.072020.6340.2>              1\n<https://portal.opentopography.org/raster?opentopoID=OTSDEM.022013.26911.2>             1\n<https://portal.opentopography.org/dataspace/dataset?opentopoID=OTDS.092020.32715.3>    1\n<https://portal.opentopography.org/lidarDataset?opentopoID=OTLAS.032012.26911.2>        1\n<https://portal.opentopography.org/lidarDataset?opentopoID=OTLAS.052019.6340.1>         1\n<https://portal.opentopography.org/dataspace/dataset?opentopoID=OTDS.082019.32749.1>    1\n<https://portal.opentopography.org/dataspace/dataset?opentopoID=OTDS.122020.6340.1>     1\n<https://portal.opentopography.org/raster?opentopoID=OTSDEM.102011.26918.2>             1\n<https://portal.opentopography.org/lidarDataset?opentopoID=OTLAS.052012.26917.2>        1\n<https://portal.opentopography.org/lidarDataset?opentopoID=OTLAS.012013.26906.1>        1\n<https://portal.opentopography.org/lidarDataset?opentopoID=OTLAS.122016.26915.1b>       1\n<https://portal.opentopography.org/dataspace/dataset?opentopoID=OTDS.022020.32616.4>    1\n<https://portal.opentopography.org/lidarDataset?opentopoID=OTLAS.072011.26911.1>        1\n<https://portal.opentopography.org/raster?opentopoID=OTSDEM.022013.26911.1>             1\n<https://portal.opentopography.org/lidarDataset?opentopoID=OTLAS.022013.26918.1>        1\n<https://portal.opentopography.org/lidarDataset?opentopoID=OTLAS.052012.32604.1>        1\n<https://portal.opentopography.org/lidarDataset?opentopoID=OTLAS.042013.26911.2>        1\n<https://portal.opentopography.org/raster?opentopoID=OTSDEM.112012.26911.1>             1\n<https://portal.opentopography.org/lidarDataset?opentopoID=OTLAS.062005.2926.1>         1\n<https://portal.opentopography.org/lidarDataset?opentopoID=OTLAS.112012.26917.1>        1\n<https://portal.opentopography.org/lidarDataset?opentopoID=OTLAS.022013.26911.1>        1\n<https://portal.opentopography.org/lidarDataset?opentopoID=OTLAS.042020.26911.1>        1\n<https://portal.opentopography.org/lidarDataset?opentopoID=OTLAS.052016.26912.2b>       1\n<https://portal.opentopography.org/lidarDataset?opentopoID=OTLAS.022011.2994.1>         1\n<https://portal.opentopography.org/lidarDataset?opentopoID=OTLAS.052014.26910.4>        1\n<https://portal.opentopography.org/lidarDataset?opentopoID=OTLAS.072011.32611.1>        1\n<https://portal.opentopography.org/raster?opentopoID=OTSDEM.012013.26906.1>             1\n<https://portal.opentopography.org/dataspace/dataset?opentopoID=OTDS.022019.4326.2>     1\n<https://portal.opentopography.org/raster?opentopoID=OTSDEM.042013.26918.1>             1\n<https://portal.opentopography.org/raster?opentopoID=OTSDEM.042016.26913.1>             1\n<https://portal.opentopography.org/lidarDataset?opentopoID=OTLAS.112018.2193.1>         1\n<https://portal.opentopography.org/lidarDataset?opentopoID=OTLAS.112018.26910.1>        1\n<https://portal.opentopography.org/lidarDataset?opentopoID=OTLAS.042012.32611.1>        1\n<https://portal.opentopography.org/lidarDataset?opentopoID=OTLAS.032012.32605.1>        1\n<https://portal.opentopography.org/raster?opentopoID=OTSDEM.052015.32611.1>             1\n<https://portal.opentopography.org/dataspace/dataset?opentopoID=OTDS.042021.32719.1>    1\n<https://portal.opentopography.org/raster?opentopoID=OTSDEM.082016.26913.2>             1\n<https://portal.opentopography.org/raster?opentopoID=OTSDEM.082011.26910.1>             1\n<https://portal.opentopography.org/lidarDataset?opentopoID=OTLAS.082012.26913.1>        1\n<https://portal.opentopography.org/lidarDataset?opentopoID=OTLAS.052015.26910.1>        1\n<https://portal.opentopography.org/raster?opentopoID=OTSDEM.112011.26911.2>             1\n<https://portal.opentopography.org/lidarDataset?opentopoID=OTLAS.082018.2193.1>         1\n<https://portal.opentopography.org/lidarDataset?opentopoID=OTLAS.032013.26918.1>        1\n<https://portal.opentopography.org/lidarDataset?opentopoID=OTLAS.062012.26916.1>        1\n<https://portal.opentopography.org/raster?opentopoID=OTSDEM.062020.26911.1>             1\n<https://portal.opentopography.org/raster?opentopoID=OTSDEM.072020.6340.1>              1\n<https://portal.opentopography.org/dataspace/dataset?opentopoID=OTDS.022020.32616.3>    1\n<https://portal.opentopography.org/lidarDataset?opentopoID=OTLAS.122016.2193.6>         1\n<https://portal.opentopography.org/lidarDataset?opentopoID=OTLAS.022015.26912.1>        1\n<https://portal.opentopography.org/dataspace/dataset?opentopoID=OTDS.022020.32643.1>    1\n<https://portal.opentopography.org/raster?opentopoID=OTSDEM.092015.32611.1>             1\n<https://portal.opentopography.org/lidarDataset?opentopoID=OTLAS.072020.6340.2>         1\n<https://portal.opentopography.org/lidarDataset?opentopoID=OTLAS.062012.26911.1>        1\n<https://portal.opentopography.org/lidarDataset?opentopoID=OTLAS.022012.26910.2>        1\n<https://portal.opentopography.org/lidarDataset?opentopoID=OTLAS.082011.26910.1>        1\n<https://portal.opentopography.org/lidarDataset?opentopoID=OTLAS.102016.26910.1>        1\n<https://portal.opentopography.org/lidarDataset?opentopoID=OTLAS.052014.26910.3>        1\n<https://portal.opentopography.org/lidarDataset?opentopoID=OTLAS.022015.26913.1>        1\n<https://portal.opentopography.org/lidarDataset?opentopoID=OTLAS.082012.26914.1>        1\n<https://portal.opentopography.org/lidarDataset?opentopoID=OTLAS.032013.26911.1>        1\n<https://portal.opentopography.org/lidarDataset?opentopoID=OTLAS.062013.28354.1>        1\n<https://portal.opentopography.org/raster?opentopoID=OTSDEM.022014.32616.1>             1\n<https://portal.opentopography.org/raster?opentopoID=OTSDEM.052013.26911.1>             1\n<https://portal.opentopography.org/dataspace/dataset?opentopoID=OTDS.082019.32723.2>    1\n<https://portal.opentopography.org/dataspace/dataset?opentopoID=OTDS.052021.6342.1>     1\n<https://portal.opentopography.org/dataspace/dataset?opentopoID=OTDS.122019.32643.4>    1\n<https://portal.opentopography.org/dataspace/dataset?opentopoID=OTDS.102018.32637.1>    1\n<https://portal.opentopography.org/lidarDataset?opentopoID=OTLAS.062017.26910.1>        1\n<https://portal.opentopography.org/lidarDataset?opentopoID=OTLAS.062018.26911.1>        1\n<https://portal.opentopography.org/lidarDataset?opentopoID=OTLAS.122019.2229.1>         1\n<https://portal.opentopography.org/raster?opentopoID=OTSRTM.122019.4326.1>              1\n<https://portal.opentopography.org/lidarDataset?opentopoID=OTLAS.022012.26913.1>        1\n<https://portal.opentopography.org/raster?opentopoID=OTSDEM.032012.26913.1>             1\n<https://portal.opentopography.org/lidarDataset?opentopoID=OTLAS.072017.26910.1>        1\n<https://portal.opentopography.org/raster?opentopoID=OTSDEM.112018.26910.1>             1\n<https://portal.opentopography.org/raster?opentopoID=OTSDEM.052016.26912.2>             1\n<https://portal.opentopography.org/raster?opentopoID=OTSDEM.032013.26918.3>             1\n<https://portal.opentopography.org/raster?opentopoID=OTSDEM.072019.6339.1>              1\n<https://portal.opentopography.org/lidarDataset?opentopoID=OTLAS.072018.6340.1>         1\n<https://portal.opentopography.org/raster?opentopoID=OTSDEM.072020.6339.2>              1\n<https://portal.opentopography.org/lidarDataset?opentopoID=OTLAS.032011.26910.1>        1\n<https://portal.opentopography.org/raster?opentopoID=OTSDEM.072018.6635.1>              1\n<https://portal.opentopography.org/dataspace/dataset?opentopoID=OTDS.022021.32643.3>    1\n<https://portal.opentopography.org/lidarDataset?opentopoID=OTLAS.092012.32612.1>        1\n<https://portal.opentopography.org/lidarDataset?opentopoID=OTLAS.122019.2193.2>         1\n<https://portal.opentopography.org/dataspace/dataset?opentopoID=OTDS.042020.4326.1>     1\n<https://portal.opentopography.org/raster?opentopoID=OTSDEM.032021.4326.1>              1\n<https://portal.opentopography.org/lidarDataset?opentopoID=OTLAS.062016.2193.1>         1\n<https://portal.opentopography.org/lidarDataset?opentopoID=OTLAS.052014.26910.2>        1\n<https://portal.opentopography.org/raster?opentopoID=OTSDEM.042013.26919.1>             1\n<https://portal.opentopography.org/raster?opentopoID=OTSDEM.062018.26912.3>             1\n<https://portal.opentopography.org/raster?opentopoID=OTSDEM.012013.26912.3>             1\n<https://portal.opentopography.org/lidarDataset?opentopoID=OTLAS.102012.26916.1>        1\n<https://portal.opentopography.org/lidarDataset?opentopoID=OTLAS.112011.26912.3>        1\n<https://portal.opentopography.org/lidarDataset?opentopoID=OTLAS.042013.26918.2>        1\n<https://portal.opentopography.org/lidarDataset?opentopoID=OTLAS.092019.6340.1>         1\n<https://portal.opentopography.org/dataspace/dataset?opentopoID=OTDS.102020.4326.1>     1\n<https://portal.opentopography.org/raster?opentopoID=OTSDEM.122016.26910.2>             1\n<https://portal.opentopography.org/dataspace/dataset?opentopoID=OTDS.062019.32736.2>    1\n<https://portal.opentopography.org/lidarDataset?opentopoID=OTLAS.102019.6341.1>         1\n<https://portal.opentopography.org/lidarDataset?opentopoID=OTLAS.042018.3500.1>         1\n<https://portal.opentopography.org/lidarDataset?opentopoID=OTLAS.112011.26912.1>        1\n<https://portal.opentopography.org/dataspace/dataset?opentopoID=OTDS.022021.32719.2>    1\n<https://portal.opentopography.org/raster?opentopoID=OTSDEM.112011.26919.1>             1\n<https://portal.opentopography.org/raster?opentopoID=OTSDEM.082012.26911.2>             1\n<https://portal.opentopography.org/raster?opentopoID=OTSDEM.012013.26986.1>             1\n<https://portal.opentopography.org/lidarDataset?opentopoID=OTLAS.032013.32722.1>        1\n<https://portal.opentopography.org/lidarDataset?opentopoID=OTLAS.102009.32607.1>        1\n<https://portal.opentopography.org/lidarDataset?opentopoID=OTLAS.052013.26912.2>        1\n<https://portal.opentopography.org/lidarDataset?opentopoID=OTLAS.032012.26913.2>        1\n<https://portal.opentopography.org/raster?opentopoID=OTSDEM.032012.26911.2>             1\n<https://portal.opentopography.org/raster?opentopoID=OTSDEM.062012.26913.2>             1\n<https://portal.opentopography.org/lidarDataset?opentopoID=OTLAS.092012.26910.4>        1\n<https://portal.opentopography.org/lidarDataset?opentopoID=OTLAS.022013.26910.3>        1\n<https://portal.opentopography.org/dataspace/dataset?opentopoID=OTDS.012019.32633.1>    1\n<https://portal.opentopography.org/lidarDataset?opentopoID=OTLAS.012012.26919.2>        1\n<https://portal.opentopography.org/lidarDataset?opentopoID=OTLAS.062012.4326.1>         1\n<https://portal.opentopography.org/raster?opentopoID=OTSDEM.072016.32611.1>             1\n<https://portal.opentopography.org/raster?opentopoID=OTSDEM.072016.26917.2>             1\n<https://portal.opentopography.org/raster?opentopoID=OTSDEM.112011.26913.1>             1\n<https://portal.opentopography.org/dataspace/dataset?opentopoID=OTDS.062019.32633.3>    1\n<https://portal.opentopography.org/raster?opentopoID=OTSDEM.072020.6341.1>              1\n<https://portal.opentopography.org/raster?opentopoID=OTSDEM.022013.26910.2>             1\n<https://portal.opentopography.org/lidarDataset?opentopoID=OTLAS.032012.26912.1>        1\n<https://portal.opentopography.org/lidarDataset?opentopoID=OTLAS.062020.2193.1>         1\n<https://portal.opentopography.org/raster?opentopoID=OTSDEM.062018.6635.1>              1\n<https://portal.opentopography.org/raster?opentopoID=OTSDEM.102011.26918.1>             1\n<https://portal.opentopography.org/dataspace/dataset?opentopoID=OTDS.122019.4326.3>     1\n<https://portal.opentopography.org/raster?opentopoID=OTSDEM.092016.26911.1>             1\n<https://portal.opentopography.org/lidarDataset?opentopoID=OTLAS.022017.26910.2>        1\n<https://portal.opentopography.org/lidarDataset?opentopoID=OTLAS.042012.26911.5>        1\n<https://portal.opentopography.org/lidarDataset?opentopoID=OTLAS.042021.2193.1>         1\n<https://portal.opentopography.org/lidarDataset?opentopoID=OTLAS.072017.26914.1>        1\n<https://portal.opentopography.org/lidarDataset?opentopoID=OTLAS.082016.32611.1>        1\n<https://portal.opentopography.org/lidarDataset?opentopoID=OTLAS.092012.26911.2>        1\n<https://portal.opentopography.org/lidarDataset?opentopoID=OTLAS.102016.32615.1>        1\n<https://portal.opentopography.org/raster?opentopoID=OTSDEM.102012.26913.1>             1\n<https://portal.opentopography.org/lidarDataset?opentopoID=OTLAS.112016.3294.1>         1\n<https://portal.opentopography.org/dataspace/dataset?opentopoID=OTDS.122020.6340.2>     1\n<https://portal.opentopography.org/raster?opentopoID=OTSDEM.012020.32611.1>             1\n<https://portal.opentopography.org/raster?opentopoID=OTSDEM.082020.6343.1b>             1\n<https://portal.opentopography.org/lidarDataset?opentopoID=OTLAS.052018.2444.2>         1\n<https://portal.opentopography.org/lidarDataset?opentopoID=OTLAS.052019.2193.1>         1\n<https://portal.opentopography.org/raster?opentopoID=OTSDEM.012013.26912.1>             1\n<https://portal.opentopography.org/raster?opentopoID=OTSDEM.032017.26911.1>             1\n<https://portal.opentopography.org/lidarDataset?opentopoID=OTLAS.082020.32610.1>        1\n<https://portal.opentopography.org/lidarDataset?opentopoID=OTLAS.072019.6339.2>         1\n<https://portal.opentopography.org/raster?opentopoID=OTSDEM.052018.32612.1>             1\n<https://portal.opentopography.org/lidarDataset?opentopoID=OTLAS.072020.2193.5>         1\n<https://portal.opentopography.org/lidarDataset?opentopoID=OTLAS.042013.26918.1>        1\n<https://portal.opentopography.org/lidarDataset?opentopoID=OTLAS.092012.26911.3>        1\n<https://portal.opentopography.org/lidarDataset?opentopoID=OTLAS.012013.26910.1>        1\n<https://portal.opentopography.org/raster?opentopoID=OTSDEM.122014.26912.1>             1\n<https://portal.opentopography.org/raster?opentopoID=OTSDEM.022012.26910.3>             1\n<https://portal.opentopography.org/dataspace/dataset?opentopoID=OTDS.092020.32715.2>    1\n<https://portal.opentopography.org/dataspace/dataset?opentopoID=OTDS.022019.32633.1>    1\n<https://portal.opentopography.org/lidarDataset?opentopoID=OTLAS.012012.26911.1>        1\n<https://portal.opentopography.org/lidarDataset?opentopoID=OTLAS.092012.26911.1>        1\n<https://portal.opentopography.org/lidarDataset?opentopoID=OTLAS.022013.26910.2>        1\n<https://portal.opentopography.org/lidarDataset?opentopoID=OTLAS.102012.26912.2>        1\n<https://portal.opentopography.org/lidarDataset?opentopoID=OTLAS.092019.26911.1>        1\n<https://portal.opentopography.org/raster?opentopoID=OTSDEM.122016.26916.1>             1\n<https://portal.opentopography.org/raster?opentopoID=OTSDEM.072020.32612.1>             1\n<https://portal.opentopography.org/dataspace/dataset?opentopoID=OTDS.042020.32611.1>    1\n<https://portal.opentopography.org/dataspace/dataset?opentopoID=OTDS.082019.32633.2>    1\n<https://portal.opentopography.org/lidarDataset?opentopoID=OTLAS.072020.2193.3>         1\n<https://portal.opentopography.org/lidarDataset?opentopoID=OTLAS.112019.2193.2>         1\n<https://portal.opentopography.org/lidarDataset?opentopoID=OTLAS.072017.26912.2>        1\n<https://portal.opentopography.org/lidarDataset?opentopoID=OTLAS.022013.26911.2>        1\n<https://portal.opentopography.org/raster?opentopoID=OTSDEM.062017.26910.1>             1\n<https://portal.opentopography.org/dataspace/dataset?opentopoID=OTDS.122019.32643.2>    1\n<https://portal.opentopography.org/lidarDataset?opentopoID=OTLAS.102012.26911.1>        1\n<https://portal.opentopography.org/raster?opentopoID=OTSDEM.092019.26910.1>             1\n<https://portal.opentopography.org/lidarDataset?opentopoID=OTLAS.032013.26918.3>        1\n<https://portal.opentopography.org/lidarDataset?opentopoID=OTLAS.042016.26911.1>        1\n<https://portal.opentopography.org/lidarDataset?opentopoID=OTLAS.062018.26912.1>        1\n<https://portal.opentopography.org/dataspace/dataset?opentopoID=OTDS.122019.4326.5>     1\n<https://portal.opentopography.org/lidarDataset?opentopoID=OTLAS.102016.26911.1>        1\n<https://portal.opentopography.org/lidarDataset?opentopoID=OTLAS.102016.26914.1>        1\n<https://portal.opentopography.org/raster?opentopoID=OTSDEM.052013.26913.2>             1\n<https://portal.opentopography.org/lidarDataset?opentopoID=OTLAS.092018.6341.1>         1\n<https://portal.opentopography.org/raster?opentopoID=OTSDEM.072017.26912.2>             1\n<https://portal.opentopography.org/raster?opentopoID=OTSDEM.032017.26910.1>             1\n<https://portal.opentopography.org/dataspace/dataset?opentopoID=OTDS.122019.4326.4>     1\n<https://portal.opentopography.org/lidarDataset?opentopoID=OTLAS.122016.2193.3>         1\n<https://portal.opentopography.org/raster?opentopoID=OTSDEM.062011.26912.1>             1\n<https://portal.opentopography.org/lidarDataset?opentopoID=OTLAS.082020.26911.1>        1\n<https://portal.opentopography.org/dataspace/dataset?opentopoID=OTDS.122019.4326.2>     1\n<https://portal.opentopography.org/raster?opentopoID=OTSDEM.012013.26910.1>             1\n<https://portal.opentopography.org/dataspace/dataset?opentopoID=OTDS.022019.4326.1>     1\n<https://portal.opentopography.org/raster?opentopoID=OTALOS.082017.4326.1>              1\n<https://portal.opentopography.org/raster?opentopoID=OTSDEM.122010.32611.1>             1\n<https://portal.opentopography.org/dataspace/dataset?opentopoID=OTDS.062020.32616.1>    1\n<https://portal.opentopography.org/lidarDataset?opentopoID=OTLAS.052014.26912.2>        1\n<https://portal.opentopography.org/lidarDataset?opentopoID=OTLAS.032013.26910.2>        1\n<https://portal.opentopography.org/dataspace/dataset?opentopoID=OTDS.032019.4326.1>     1\n<https://portal.opentopography.org/lidarDataset?opentopoID=OTLAS.102011.26918.1>        1\n<https://portal.opentopography.org/lidarDataset?opentopoID=OTLAS.052013.26910.1>        1\n<https://portal.opentopography.org/raster?opentopoID=OTSDEM.062017.26913.2>             1\n<https://portal.opentopography.org/dataspace/dataset?opentopoID=OTDS.042019.32647.4>    1\n<https://portal.opentopography.org/dataspace/dataset?opentopoID=OTDS.042021.32719.3>    1\n<https://portal.opentopography.org/raster?opentopoID=OTSDEM.102016.32615.1>             1\n<https://portal.opentopography.org/raster?opentopoID=OTSDEM.102012.26910.1>             1\n<https://portal.opentopography.org/lidarDataset?opentopoID=OTLAS.012014.26904.1>        1\n<https://portal.opentopography.org/raster?opentopoID=OTSDEM.022012.26910.1>             1\n<https://portal.opentopography.org/lidarDataset?opentopoID=OTLAS.052016.26912.3b>       1\n<https://portal.opentopography.org/dataspace/dataset?opentopoID=OTDS.012020.4326.1>     1\n<https://portal.opentopography.org/lidarDataset?opentopoID=OTLAS.082016.26913.3>        1\n<https://portal.opentopography.org/dataspace/dataset?opentopoID=OTDS.022020.32616.2>    1\n<https://portal.opentopography.org/lidarDataset?opentopoID=OTLAS.112012.26910.1>        1\n<https://portal.opentopography.org/raster?opentopoID=OTSDEM.102016.26915.1>             1\n<https://portal.opentopography.org/dataspace/dataset?opentopoID=OTDS.032019.4326.3>     1\n<https://portal.opentopography.org/raster?opentopoID=OTSDEM.032018.32611.2>             1\n<https://portal.opentopography.org/lidarDataset?opentopoID=OTLAS.052013.26912.1>        1\n<https://portal.opentopography.org/lidarDataset?opentopoID=OTLAS.032018.32611.2>        1\n<https://portal.opentopography.org/lidarDataset?opentopoID=OTLAS.122016.26915.1>        1\n<https://portal.opentopography.org/raster?opentopoID=OTSDEM.102019.6341.1>              1\n<https://portal.opentopography.org/raster?opentopoID=OTSDEM.032021.4326.3>              1\n<https://portal.opentopography.org/lidarDataset?opentopoID=OTLAS.102012.26911.2>        1\n<https://portal.opentopography.org/lidarDataset?opentopoID=OTLAS.022013.26910.1>        1\n<https://portal.opentopography.org/lidarDataset?opentopoID=OTLAS.062020.26911.1>        1\n<https://portal.opentopography.org/dataspace/dataset?opentopoID=OTDS.022020.32616.5>    1\n<https://portal.opentopography.org/dataspace/dataset?opentopoID=OTDS.022020.4326.1>     1\n<https://portal.opentopography.org/lidarDataset?opentopoID=OTLAS.022012.26910.1>        1\n<https://portal.opentopography.org/lidarDataset?opentopoID=OTLAS.082012.26913.2>        1\n<https://portal.opentopography.org/lidarDataset?opentopoID=OTLAS.032012.26911.1>        1\n<https://portal.opentopography.org/raster?opentopoID=OTSDEM.032012.32605.1>             1\n<https://portal.opentopography.org/raster?opentopoID=OTSDEM.102009.32607.1>             1\n<https://portal.opentopography.org/lidarDataset?opentopoID=OTLAS.052012.26911.1>        1\n<https://portal.opentopography.org/raster?opentopoID=OTSDEM.092012.26910.4>             1\n<https://portal.opentopography.org/lidarDataset?opentopoID=OTLAS.102012.26912.1>        1\n<https://portal.opentopography.org/raster?opentopoID=OTSDEM.052019.6341.1>              1\n<https://portal.opentopography.org/dataspace/dataset?opentopoID=OTDS.082019.32616.1>    1\n<https://portal.opentopography.org/dataspace/dataset?opentopoID=OTDS.092020.32715.4>    1\n<https://portal.opentopography.org/lidarDataset?opentopoID=OTLAS.072020.2193.4>         1\n<https://portal.opentopography.org/dataspace/dataset?opentopoID=OTDS.092019.4326.1>     1\n<https://portal.opentopography.org/lidarDataset?opentopoID=OTLAS.052012.32611.2>        1\n<https://portal.opentopography.org/lidarDataset?opentopoID=OTLAS.012013.26912.3>        1\n<https://portal.opentopography.org/raster?opentopoID=OTSDEM.112011.26912.3>             1\n<https://portal.opentopography.org/raster?opentopoID=OTSDEM.032021.4326.2>              1\n<https://portal.opentopography.org/raster?opentopoID=OTSDEM.072013.2965.1>              1\n<https://portal.opentopography.org/lidarDataset?opentopoID=OTLAS.122016.2193.2>         1\n<https://portal.opentopography.org/raster?opentopoID=OTSDEM.122016.26915.1>             1\n<https://portal.opentopography.org/lidarDataset?opentopoID=OTLAS.032017.26910.2>        1\n<https://portal.opentopography.org/raster?opentopoID=OTSDEM.052016.26911.1>             1\n<https://portal.opentopography.org/raster?opentopoID=OTSDEM.052012.26911.1>             1\n<https://portal.opentopography.org/dataspace/dataset?opentopoID=OTDS.032019.4326.2>     1\n<https://portal.opentopography.org/dataspace/dataset?opentopoID=OTDS.122019.32643.3>    1\n<https://portal.opentopography.org/lidarDataset?opentopoID=OTLAS.092016.26912.1>        1\n<https://portal.opentopography.org/lidarDataset?opentopoID=OTLAS.022013.32145.1>        1\n<https://portal.opentopography.org/raster?opentopoID=OTSDEM.052017.26913.1>             1\n<https://portal.opentopography.org/raster?opentopoID=OTSDEM.062012.26913.1>             1\n<https://portal.opentopography.org/dataspace/dataset?opentopoID=OTDS.072020.26911.2>    1\n<https://portal.opentopography.org/raster?opentopoID=OTSDEM.082012.26911.3>             1\n<https://portal.opentopography.org/raster?opentopoID=OTSDEM.042016.26911.1>             1\n<https://portal.opentopography.org/raster?opentopoID=OTSDEM.122016.26910.1>             1\n<https://portal.opentopography.org/lidarDataset?opentopoID=OTLAS.082013.26917.1>        1\n<https://portal.opentopography.org/dataspace/dataset?opentopoID=OTDS.102018.32611.2>    1\n<https://portal.opentopography.org/lidarDataset?opentopoID=OTLAS.012013.26910.2>        1\n<https://portal.opentopography.org/lidarDataset?opentopoID=OTLAS.082012.26911.3>        1\n<https://portal.opentopography.org/dataspace/dataset?opentopoID=OTDS.042019.32647.3>    1\n<https://portal.opentopography.org/raster?opentopoID=OTSDEM.062020.32611.2>             1\n<https://portal.opentopography.org/lidarDataset?opentopoID=OTLAS.062016.32648.1>        1\n<https://portal.opentopography.org/lidarDataset?opentopoID=OTLAS.062006.32611.1>        1\n<https://portal.opentopography.org/dataspace/dataset?opentopoID=OTDS.062019.32736.1>    1\n<https://portal.opentopography.org/dataspace/dataset?opentopoID=OTDS.072020.26911.1>    1\n<https://portal.opentopography.org/lidarDataset?opentopoID=OTLAS.092020.26912.1>        1\n<https://portal.opentopography.org/lidarDataset?opentopoID=OTLAS.102012.26911.4>        1\n<https://portal.opentopography.org/raster?opentopoID=OTSDEM.092019.26911.1>             1\n<https://portal.opentopography.org/lidarDataset?opentopoID=OTLAS.022014.32610.1>        1\n<https://portal.opentopography.org/dataspace/dataset?opentopoID=OTDS.022020.32616.1>    1\n<https://portal.opentopography.org/dataspace/dataset?opentopoID=OTDS.112019.32631.1>    1\n<https://portal.opentopography.org/raster?opentopoID=OTSDEM.092014.26913.1>             1\n<https://portal.opentopography.org/lidarDataset?opentopoID=OTLAS.012019.2193.2>         1\n<https://portal.opentopography.org/raster?opentopoID=OTSDEM.082020.32610.1>             1\n<https://portal.opentopography.org/raster?opentopoID=OTSDEM.042020.26910.1>             1\n<https://portal.opentopography.org/lidarDataset?opentopoID=OTLAS.122014.26912.1>        1\n<https://portal.opentopography.org/lidarDataset?opentopoID=OTLAS.052018.2444.1>         1\n<https://portal.opentopography.org/dataspace/dataset?opentopoID=OTDS.022019.32616.1>    1\n<https://portal.opentopography.org/lidarDataset?opentopoID=OTLAS.042018.2193.3>         1\n<https://portal.opentopography.org/lidarDataset?opentopoID=OTLAS.022014.32616.1>        1\n<https://portal.opentopography.org/dataspace/dataset?opentopoID=OTDS.032021.4326.1>     1\n<https://portal.opentopography.org/lidarDataset?opentopoID=OTLAS.072020.6339.2>         1\n<https://portal.opentopography.org/lidarDataset?opentopoID=OTLAS.042019.6342.2>         1\n<https://portal.opentopography.org/lidarDataset?opentopoID=OTLAS.072016.26917.1>        1\n<https://portal.opentopography.org/lidarDataset?opentopoID=OTLAS.092012.26910.1>        1\n<https://portal.opentopography.org/lidarDataset?opentopoID=OTLAS.092012.26913.2>        1\n<https://portal.opentopography.org/lidarDataset?opentopoID=OTLAS.052020.6341.1>         1\n<https://portal.opentopography.org/raster?opentopoID=OTSDEM.052013.26913.1>             1\n<https://portal.opentopography.org/raster?opentopoID=OTSDEM.112018.32641.1>             1\n<https://portal.opentopography.org/lidarDataset?opentopoID=OTLAS.102012.26912.4>        1\n<https://portal.opentopography.org/lidarDataset?opentopoID=OTLAS.062018.6635.1>         1\n<https://portal.opentopography.org/lidarDataset?opentopoID=OTLAS.072017.26911.1>        1\n<https://portal.opentopography.org/dataspace/dataset?opentopoID=OTDS.052020.32632.1>    1\n<https://portal.opentopography.org/raster?opentopoID=OTSDEM.012013.26910.2>             1\n<https://portal.opentopography.org/raster?opentopoID=OTSDEM.032017.26910.2>             1\n<https://portal.opentopography.org/lidarDataset?opentopoID=OTLAS.072018.6635.1>         1\n<https://portal.opentopography.org/lidarDataset?opentopoID=OTLAS.102011.26918.2>        1\n<https://portal.opentopography.org/raster?opentopoID=OTSDEM.072017.26912.1>             1\n<https://portal.opentopography.org/raster?opentopoID=OTSDEM.102016.26911.1>             1\n<https://portal.opentopography.org/raster?opentopoID=OTSDEM.112012.26913.1>             1\n<https://portal.opentopography.org/dataspace/dataset?opentopoID=OTDS.082020.26912.1>    1\n<https://portal.opentopography.org/lidarDataset?opentopoID=OTLAS.122016.2193.5>         1\n<https://portal.opentopography.org/raster?opentopoID=OTSDEM.062017.26913.1>             1\n<https://portal.opentopography.org/raster?opentopoID=OTSDEM.072017.26910.1>             1\n<https://portal.opentopography.org/lidarDataset?opentopoID=OTLAS.072019.2193.1>         1\n<https://portal.opentopography.org/raster?opentopoID=OTSDEM.082019.26912.1>             1\n<https://portal.opentopography.org/raster?opentopoID=OTSDEM.072017.26914.1>             1\n<https://portal.opentopography.org/lidarDataset?opentopoID=OTLAS.042021.6340.1>         1\n<https://portal.opentopography.org/raster?opentopoID=OTSDEM.062012.26916.1>             1\n<https://portal.opentopography.org/dataspace/dataset?opentopoID=OTDS.102020.4326.6>     1\n<https://portal.opentopography.org/dataspace/dataset?opentopoID=OTDS.092020.32715.1>    1\n<https://portal.opentopography.org/raster?opentopoID=OTSDEM.052013.26910.1>             1\n<https://portal.opentopography.org/lidarDataset?opentopoID=OTLAS.072020.2193.2>         1\n<https://portal.opentopography.org/raster?opentopoID=OTSDEM.062020.6340.1>              1\n<https://portal.opentopography.org/lidarDataset?opentopoID=OTLAS.052018.32612.1>        1\n<https://portal.opentopography.org/raster?opentopoID=OTSDEM.022013.26918.1>             1\n<https://portal.opentopography.org/raster?opentopoID=OTSDEM.062018.26912.1>             1\n<https://portal.opentopography.org/raster?opentopoID=OTSDEM.102012.26911.4>             1\n<https://portal.opentopography.org/lidarDataset?opentopoID=OTLAS.032014.26916.1>        1\n<https://portal.opentopography.org/lidarDataset?opentopoID=OTLAS.082020.6343.1>         1\n<https://portal.opentopography.org/raster?opentopoID=OTSDEM.092016.26912.1>             1\n<https://portal.opentopography.org/raster?opentopoID=OTSDEM.042013.26918.2>             1\n<https://portal.opentopography.org/raster?opentopoID=OTSDEM.112011.26913.2>             1\n<https://portal.opentopography.org/lidarDataset?opentopoID=OTLAS.032017.26910.1>        1\n<https://portal.opentopography.org/lidarDataset?opentopoID=OTLAS.072016.32611.1>        1\n<https://portal.opentopography.org/raster?opentopoID=OTSDEM.122014.26910.1>             1\n<https://portal.opentopography.org/lidarDataset?opentopoID=OTLAS.052017.32611.1>        1\n<https://portal.opentopography.org/lidarDataset?opentopoID=OTLAS.012013.26986.1>        1\n<https://portal.opentopography.org/lidarDataset?opentopoID=OTLAS.052008.32610.1>        1\n<https://portal.opentopography.org/raster?opentopoID=OTSDEM.022012.26911.1>             1\n<https://portal.opentopography.org/lidarDataset?opentopoID=OTLAS.102012.32611.1>        1\n<https://portal.opentopography.org/dataspace/dataset?opentopoID=OTDS.022021.32719.1>    1\n<https://portal.opentopography.org/raster?opentopoID=OTSDEM.072020.6339.1>              1\n<https://portal.opentopography.org/raster?opentopoID=OTSDEM.022013.26910.1>             1\n<https://portal.opentopography.org/lidarDataset?opentopoID=OTLAS.112019.2193.1>         1\n<https://portal.opentopography.org/lidarDataset?opentopoID=OTLAS.022012.26911.1>        1\n<https://portal.opentopography.org/raster?opentopoID=OTSDEM.032018.32611.4>             1\n<https://portal.opentopography.org/lidarDataset?opentopoID=OTLAS.042020.6339.2>         1\n<https://portal.opentopography.org/lidarDataset?opentopoID=OTLAS.022020.2193.2>         1\n<https://portal.opentopography.org/lidarDataset?opentopoID=OTLAS.022012.26914.1>        1\n<https://portal.opentopography.org/dataspace/dataset?opentopoID=OTDS.022021.32643.2>    1\n<https://portal.opentopography.org/lidarDataset?opentopoID=OTLAS.102016.26915.1>        1\n<https://portal.opentopography.org/lidarDataset?opentopoID=OTLAS.072018.2193.2>         1\n<https://portal.opentopography.org/raster?opentopoID=OTSDEM.102016.26910.1>             1\n<https://portal.opentopography.org/dataspace/dataset?opentopoID=OTDS.052021.26911.1>    1\n<https://portal.opentopography.org/raster?opentopoID=OTSDEM.052012.26917.2>             1\n<https://portal.opentopography.org/lidarDataset?opentopoID=OTLAS.032012.26910.1>        1\n<https://portal.opentopography.org/lidarDataset?opentopoID=OTLAS.122016.26910.1b>       1\n<https://portal.opentopography.org/lidarDataset?opentopoID=OTLAS.012013.26913.2>        1\n<https://portal.opentopography.org/lidarDataset?opentopoID=OTLAS.012020.32611.1>        1\n<https://portal.opentopography.org/lidarDataset?opentopoID=OTLAS.102010.26910.1>        1\n<https://portal.opentopography.org/lidarDataset?opentopoID=OTLAS.022015.26911.1>        1\n<https://portal.opentopography.org/raster?opentopoID=OTSDEM.022013.26910.3>             1\n<https://portal.opentopography.org/raster?opentopoID=OTSDEM.102019.6339.2>              1\n<https://portal.opentopography.org/raster?opentopoID=OTSDEM.052008.32610.1>             1\n<https://portal.opentopography.org/dataspace/dataset?opentopoID=OTDS.012020.26916.1>    1\n<https://portal.opentopography.org/raster?opentopoID=OTSDEM.082020.6343.1>              1\n<https://portal.opentopography.org/lidarDataset?opentopoID=OTLAS.112011.26912.2>        1\n<https://portal.opentopography.org/lidarDataset?opentopoID=OTLAS.032013.26910.1>        1\n<https://portal.opentopography.org/lidarDataset?opentopoID=OTLAS.122016.2193.4>         1\n<https://portal.opentopography.org/lidarDataset?opentopoID=OTLAS.012019.2193.1>         1\n<https://portal.opentopography.org/lidarDataset?opentopoID=OTLAS.062012.26913.2>        1\n<https://portal.opentopography.org/dataspace/dataset?opentopoID=OTDS.112019.32618.1>    1\n<https://portal.opentopography.org/dataspace/dataset?opentopoID=OTDS.072019.32722.1>    1\n<https://portal.opentopography.org/lidarDataset?opentopoID=OTLAS.052016.26912.1>        1\n<https://portal.opentopography.org/lidarDataset?opentopoID=OTLAS.072019.6339.1>         1\n<https://portal.opentopography.org/lidarDataset?opentopoID=OTLAS.122015.26917.1>        1\n<https://portal.opentopography.org/lidarDataset?opentopoID=OTLAS.072020.6340.1>         1\n<https://portal.opentopography.org/dataspace/dataset?opentopoID=OTDS.012021.32733.1>    1\n<https://portal.opentopography.org/lidarDataset?opentopoID=OTLAS.012012.26915.1>        1\n<https://portal.opentopography.org/lidarDataset?opentopoID=OTLAS.122010.32611.1>        1\n<https://portal.opentopography.org/lidarDataset?opentopoID=OTLAS.042017.2193.1>         1\n<https://portal.opentopography.org/lidarDataset?opentopoID=OTLAS.122016.26910.2>        1\n<https://portal.opentopography.org/lidarDataset?opentopoID=OTLAS.012012.26919.1>        1\n<https://portal.opentopography.org/lidarDataset?opentopoID=OTLAS.062012.26917.1>        1\n<https://portal.opentopography.org/lidarDataset?opentopoID=OTLAS.072010.32618.1>        1\n<https://portal.opentopography.org/dataspace/dataset?opentopoID=OTDS.012019.32611.1>    1\n<https://portal.opentopography.org/dataspace/dataset?opentopoID=OTDS.022019.32616.2>    1\n<https://portal.opentopography.org/lidarDataset?opentopoID=OTLAS.042013.26918.3>        1\n<https://portal.opentopography.org/lidarDataset?opentopoID=OTLAS.112012.26911.1>        1\n<https://portal.opentopography.org/lidarDataset?opentopoID=OTLAS.092020.2193.1>         1\n<https://portal.opentopography.org/raster?opentopoID=OTSDEM.032013.26910.2>             1\n<https://portal.opentopography.org/dataspace/dataset?opentopoID=OTDS.042019.32647.1>    1\n<https://portal.opentopography.org/raster?opentopoID=OTSDEM.082016.26913.3>             1\n<https://portal.opentopography.org/lidarDataset?opentopoID=OTLAS.032011.26912.1>        1\n<https://portal.opentopography.org/lidarDataset?opentopoID=OTLAS.122009.32611.1>        1\n<https://portal.opentopography.org/lidarDataset?opentopoID=OTLAS.032018.32611.4>        1\n<https://portal.opentopography.org/lidarDataset?opentopoID=OTLAS.052013.26910.2>        1\n<https://portal.opentopography.org/lidarDataset?opentopoID=OTLAS.112011.26919.1>        1\n<https://portal.opentopography.org/raster?opentopoID=OTALOS.112016.4326.2>              1\n<https://portal.opentopography.org/dataspace/dataset?opentopoID=OTDS.102020.26913.1>    1\n<https://portal.opentopography.org/lidarDataset?opentopoID=OTLAS.122016.26916.1>        1\n<https://portal.opentopography.org/raster?opentopoID=OTSDEM.112011.26912.2>             1\n<https://portal.opentopography.org/raster?opentopoID=OTSDEM.022015.26911.2>             1\n<https://portal.opentopography.org/lidarDataset?opentopoID=OTLAS.062018.26912.3>        1\n<https://portal.opentopography.org/dataspace/dataset?opentopoID=OTDS.032021.28354.1>    1\n<https://portal.opentopography.org/lidarDataset?opentopoID=OTLAS.062017.26913.2>        1\n<https://portal.opentopography.org/lidarDataset?opentopoID=OTLAS.052014.26912.1>        1\n<https://portal.opentopography.org/dataspace/dataset?opentopoID=OTDS.062019.32633.1>    1\n<https://portal.opentopography.org/lidarDataset?opentopoID=OTLAS.092016.26911.1>        1\n<https://portal.opentopography.org/raster?opentopoID=OTSDEM.012012.26915.1>             1\n<https://portal.opentopography.org/dataspace/dataset?opentopoID=OTDS.022019.32637.5>    1\n<https://portal.opentopography.org/lidarDataset?opentopoID=OTLAS.052017.26913.1>        1\n<https://portal.opentopography.org/lidarDataset?opentopoID=OTLAS.102016.2039.1>         1\n<https://portal.opentopography.org/raster?opentopoID=OTSDEM.122019.2229.1>              1\n<https://portal.opentopography.org/dataspace/dataset?opentopoID=OTDS.102020.4326.7>     1\n<https://portal.opentopography.org/lidarDataset?opentopoID=OTLAS.082020.2193.1>         1\n<https://portal.opentopography.org/lidarDataset?opentopoID=OTLAS.122016.26910.1>        1\n<https://portal.opentopography.org/lidarDataset?opentopoID=OTLAS.112011.26913.2>        1\n<https://portal.opentopography.org/raster?opentopoID=OTSDEM.062018.26912.2>             1\n<https://portal.opentopography.org/lidarDataset?opentopoID=OTLAS.072020.32611.1>        1\n<https://portal.opentopography.org/raster?opentopoID=OTSDEM.112009.32610.1>             1\n<https://portal.opentopography.org/lidarDataset?opentopoID=OTLAS.032013.32611.1>        1\n<https://portal.opentopography.org/dataspace/dataset?opentopoID=OTDS.102020.4326.2>     1\n<https://portal.opentopography.org/lidarDataset?opentopoID=OTLAS.072020.32612.1>        1\n<https://portal.opentopography.org/raster?opentopoID=OTSDEM.112018.32641.2>             1\n<https://portal.opentopography.org/raster?opentopoID=OTSDEM.032018.32611.1>             1\n<https://portal.opentopography.org/raster?opentopoID=OTSDEM.122016.26915.1b>            1\n<https://portal.opentopography.org/lidarDataset?opentopoID=OTLAS.082012.26912.1>        1\n<https://portal.opentopography.org/lidarDataset?opentopoID=OTLAS.052016.26911.1>        1\n<https://portal.opentopography.org/lidarDataset?opentopoID=OTLAS.052018.28355.1>        1\n<https://portal.opentopography.org/raster?opentopoID=OTSDEM.072019.32611.1>             1\n<https://portal.opentopography.org/lidarDataset?opentopoID=OTLAS.022012.26917.1>        1\n<https://portal.opentopography.org/raster?opentopoID=OTSDEM.042013.26911.1>             1\n<https://portal.opentopography.org/raster?opentopoID=OTSDEM.122016.26916.1b>            1\n<https://portal.opentopography.org/lidarDataset?opentopoID=OTLAS.072020.6339.1>         1\n<https://portal.opentopography.org/raster?opentopoID=OTSDEM.012012.26911.1>             1\n<https://portal.opentopography.org/dataspace/dataset?opentopoID=OTDS.062020.32645.1>    1\n<https://portal.opentopography.org/raster?opentopoID=OTSDEM.112011.26911.1>             1\n<https://portal.opentopography.org/dataspace/dataset?opentopoID=OTDS.102020.4326.3>     1\n<https://portal.opentopography.org/lidarDataset?opentopoID=OTLAS.042018.2193.1>         1\n<https://portal.opentopography.org/dataspace/dataset?opentopoID=OTDS.042019.32647.2>    1\n<https://portal.opentopography.org/lidarDataset?opentopoID=OTLAS.042012.26911.2>        1\n<https://portal.opentopography.org/dataspace/dataset?opentopoID=OTDS.022019.32637.1>    1\n<https://portal.opentopography.org/lidarDataset?opentopoID=OTLAS.112012.26913.1>        1\n<https://portal.opentopography.org/lidarDataset?opentopoID=OTLAS.102010.26912.1>        1\n<https://portal.opentopography.org/lidarDataset?opentopoID=OTLAS.062017.26913.3>        1\n<https://portal.opentopography.org/lidarDataset?opentopoID=OTLAS.082012.26915.1>        1\n<https://portal.opentopography.org/lidarDataset?opentopoID=OTLAS.042016.26913.1>        1\n<https://portal.opentopography.org/lidarDataset?opentopoID=OTLAS.022018.26915.1>        1\n<https://portal.opentopography.org/lidarDataset?opentopoID=OTLAS.042020.6339.1>         1\n<https://portal.opentopography.org/lidarDataset?opentopoID=OTLAS.052009.32612.1>        1\n<https://portal.opentopography.org/lidarDataset?opentopoID=OTLAS.022020.2193.3>         1\n<https://portal.opentopography.org/lidarDataset?opentopoID=OTLAS.092012.26912.1>        1\n<https://portal.opentopography.org/dataspace/dataset?opentopoID=OTDS.022019.32637.4>    1\n<https://portal.opentopography.org/lidarDataset?opentopoID=OTLAS.032019.2193.1>         1\n<https://portal.opentopography.org/raster?opentopoID=OTSDEM.022017.26910.3>             1\n<https://portal.opentopography.org/raster?opentopoID=OTSDEM.052016.26912.3>             1\n<https://portal.opentopography.org/lidarDataset?opentopoID=OTLAS.112011.26916.1>        1\n<https://portal.opentopography.org/lidarDataset?opentopoID=OTLAS.102012.26911.3>        1\n<https://portal.opentopography.org/dataspace/dataset?opentopoID=OTDS.122019.4326.6>     1\n<https://portal.opentopography.org/lidarDataset?opentopoID=OTLAS.032006.32611.1>        1\n<https://portal.opentopography.org/raster?opentopoID=OTSDEM.022014.32610.1>             1\n<https://portal.opentopography.org/dataspace/dataset?opentopoID=OTDS.062019.32633.2>    1\n<https://portal.opentopography.org/lidarDataset?opentopoID=OTLAS.052013.26913.2>        1\n<https://portal.opentopography.org/raster?opentopoID=OTSDEM.042019.6342.2>              1\n<https://portal.opentopography.org/lidarDataset?opentopoID=OTLAS.052015.32611.1>        1\n<https://portal.opentopography.org/lidarDataset?opentopoID=OTLAS.112011.26911.1>        1\n<https://portal.opentopography.org/raster?opentopoID=OTSDEM.072017.26911.1>             1\n<https://portal.opentopography.org/raster?opentopoID=OTSDEM.072013.2966.1>              1\n<https://portal.opentopography.org/raster?opentopoID=OTSDEM.042013.26911.2>             1\n<https://portal.opentopography.org/lidarDataset?opentopoID=OTLAS.042020.26910.1>        1\n<https://portal.opentopography.org/raster?opentopoID=OTSDEM.042021.6340.1>              1\n<https://portal.opentopography.org/lidarDataset?opentopoID=OTLAS.032017.2193.1>         1\n<https://portal.opentopography.org/raster?opentopoID=OTSDEM.102012.26911.3>             1\n<https://portal.opentopography.org/lidarDataset?opentopoID=OTLAS.012019.26911.1>        1\n<https://portal.opentopography.org/lidarDataset?opentopoID=OTLAS.042013.26911.1>        1\n<https://portal.opentopography.org/dataspace/dataset?opentopoID=OTDS.102018.32611.1>    1\n<https://portal.opentopography.org/raster?opentopoID=OTSDEM.082020.26911.1>             1\n<https://portal.opentopography.org/raster?opentopoID=OTSDEM.032012.26916.1>             1\n<https://portal.opentopography.org/dataspace/dataset?opentopoID=OTDS.102019.32616.1>    1\n<https://portal.opentopography.org/lidarDataset?opentopoID=OTLAS.102016.26914.1b>       1\n<https://portal.opentopography.org/raster?opentopoID=OTSDEM.092019.6340.1>              1\n<https://portal.opentopography.org/lidarDataset?opentopoID=OTLAS.042012.2243.1>         1\n<https://portal.opentopography.org/raster?opentopoID=OTSDEM.062018.26911.1>             1\n<https://portal.opentopography.org/raster?opentopoID=OTSDEM.122015.26917.1>             1\n<https://portal.opentopography.org/lidarDataset?opentopoID=OTLAS.012013.26912.2>        1\n<https://portal.opentopography.org/raster?opentopoID=OTSDEM.032019.32610.1>             1\n<https://portal.opentopography.org/lidarDataset?opentopoID=OTLAS.062017.26911.1>        1\n<https://portal.opentopography.org/raster?opentopoID=OTSDEM.112011.26912.1>             1\n<https://portal.opentopography.org/dataspace/dataset?opentopoID=OTDS.122019.4326.1>     1\n<https://portal.opentopography.org/raster?opentopoID=OTSDEM.032013.26910.1>             1\n<https://portal.opentopography.org/raster?opentopoID=OTSDEM.042020.26911.1>             1\n<https://portal.opentopography.org/lidarDataset?opentopoID=OTLAS.122016.26916.1b>       1\n<https://portal.opentopography.org/raster?opentopoID=OTSDEM.052013.26910.2>             1\n<https://portal.opentopography.org/lidarDataset?opentopoID=OTLAS.092014.26911.1>        1\n<https://portal.opentopography.org/lidarDataset?opentopoID=OTLAS.062005.2871.1>         1\n<https://portal.opentopography.org/lidarDataset?opentopoID=OTLAS.042019.6342.1>         1\n<https://portal.opentopography.org/lidarDataset?opentopoID=OTLAS.092020.2193.2>         1\n<https://portal.opentopography.org/lidarDataset?opentopoID=OTLAS.092012.26913.1>        1\n<https://portal.opentopography.org/dataspace/dataset?opentopoID=OTDS.092019.32616.1>    1\n<https://portal.opentopography.org/lidarDataset?opentopoID=OTLAS.012013.26912.1>        1\n<https://portal.opentopography.org/lidarDataset?opentopoID=OTLAS.042012.26911.3>        1\n<https://portal.opentopography.org/raster?opentopoID=OTSDEM.092016.26911.2>             1\n<https://portal.opentopography.org/raster?opentopoID=OTSDEM.062012.26917.1>             1\n<https://portal.opentopography.org/lidarDataset?opentopoID=OTLAS.032012.26913.1>        1\n<https://portal.opentopography.org/raster?opentopoID=OTSDEM.112016.3294.1>              1\n<https://portal.opentopography.org/lidarDataset?opentopoID=OTLAS.092014.2871.1>         1\n<https://portal.opentopography.org/raster?opentopoID=OTSDEM.052012.26910.1>             1\n<https://portal.opentopography.org/lidarDataset?opentopoID=OTLAS.022012.26910.4>        1\n<https://portal.opentopography.org/raster?opentopoID=OTSDEM.062017.26913.3>             1\n<https://portal.opentopography.org/raster?opentopoID=OTSDEM.102019.6339.1>              1\n<https://portal.opentopography.org/raster?opentopoID=OTSDEM.122009.32611.1>             1\n<https://portal.opentopography.org/lidarDataset?opentopoID=OTLAS.112011.26911.2>        1\n<https://portal.opentopography.org/dataspace/dataset?opentopoID=OTDS.082019.32633.1>    1\n<https://portal.opentopography.org/lidarDataset?opentopoID=OTLAS.042012.32611.2>        1\n<https://portal.opentopography.org/raster?opentopoID=OTSDEM.052019.6340.1>              1\n<https://portal.opentopography.org/raster?opentopoID=OTSDEM.102016.26914.1>             1\n<https://portal.opentopography.org/lidarDataset?opentopoID=OTLAS.062017.26913.1>        1\n<https://portal.opentopography.org/lidarDataset?opentopoID=OTLAS.112015.26912.1>        1\n<https://portal.opentopography.org/dataspace/dataset?opentopoID=OTDS.022019.32637.6>    1\n<https://portal.opentopography.org/lidarDataset?opentopoID=OTLAS.122010.26912.1>        1\n<https://portal.opentopography.org/dataspace/dataset?opentopoID=OTDS.102019.32722.1>    1\n<https://portal.opentopography.org/lidarDataset?opentopoID=OTLAS.052013.26911.1>        1\n<https://portal.opentopography.org/lidarDataset?opentopoID=OTLAS.012014.26904.2>        1\n<https://portal.opentopography.org/lidarDataset?opentopoID=OTLAS.042012.26911.1>        1\n<https://portal.opentopography.org/lidarDataset?opentopoID=OTLAS.092011.2875.1>         1\n<https://portal.opentopography.org/lidarDataset?opentopoID=OTLAS.032013.26912.1>        1\n<https://portal.opentopography.org/lidarDataset?opentopoID=OTLAS.102012.26910.1>        1\n<https://portal.opentopography.org/raster?opentopoID=OTSDEM.092014.2871.1>              1\n<https://portal.opentopography.org/lidarDataset?opentopoID=OTLAS.092012.26910.2>        1\n<https://portal.opentopography.org/lidarDataset?opentopoID=OTLAS.102019.32611.1>        1\n<https://portal.opentopography.org/raster?opentopoID=OTSDEM.042020.6416.1>              1\n<https://portal.opentopography.org/lidarDataset?opentopoID=OTLAS.112011.26913.1>        1\n<https://portal.opentopography.org/lidarDataset?opentopoID=OTLAS.012013.26913.1>        1\n<https://portal.opentopography.org/lidarDataset?opentopoID=OTLAS.082018.2193.2>         1\n<https://portal.opentopography.org/lidarDataset?opentopoID=OTLAS.032017.26911.1>        1\n<https://portal.opentopography.org/dataspace/dataset?opentopoID=OTDS.112019.32616.1>    1\n<https://portal.opentopography.org/raster?opentopoID=OTSDEM.022017.26910.2>             1\n<https://portal.opentopography.org/lidarDataset?opentopoID=OTLAS.092016.26911.2>        1\n<https://portal.opentopography.org/lidarDataset?opentopoID=OTLAS.072020.6341.1>         1\n<https://portal.opentopography.org/lidarDataset?opentopoID=OTLAS.092012.26917.1>        1\n<https://portal.opentopography.org/lidarDataset?opentopoID=OTLAS.032019.32610.1>        1\n<https://portal.opentopography.org/dataspace/dataset?opentopoID=OTDS.102020.4326.4>     1\n<https://portal.opentopography.org/raster?opentopoID=OTSDEM.102012.26911.1>             1\n<https://portal.opentopography.org/lidarDataset?opentopoID=OTLAS.062012.26913.1>        1\n<https://portal.opentopography.org/lidarDataset?opentopoID=OTLAS.072016.26917.2>        1\n<https://portal.opentopography.org/raster?opentopoID=OTSDEM.102019.32611.1>             1\n<https://portal.opentopography.org/dataspace/dataset?opentopoID=OTDS.092020.4269.1>     1\n<https://portal.opentopography.org/lidarDataset?opentopoID=OTLAS.062018.26912.2>        1\n<https://portal.opentopography.org/dataspace/dataset?opentopoID=OTDS.032021.4326.3>     1\n<https://portal.opentopography.org/lidarDataset?opentopoID=OTLAS.032018.32611.3>        1\n<https://portal.opentopography.org/raster?opentopoID=OTGMRT.112016.4326.1>              1\n<https://portal.opentopography.org/lidarDataset?opentopoID=OTLAS.022012.26910.3>        1\n<https://portal.opentopography.org/lidarDataset?opentopoID=OTLAS.062020.6340.1>         1\n<https://portal.opentopography.org/lidarDataset?opentopoID=OTLAS.012018.32641.1>        1\n<https://portal.opentopography.org/lidarDataset?opentopoID=OTLAS.052017.2193.1>         1\n<https://portal.opentopography.org/raster?opentopoID=OTSDEM.052017.32611.1>             1\n<https://portal.opentopography.org/raster?opentopoID=OTSDEM.102016.2039.1>              1\n<https://portal.opentopography.org/dataspace/dataset?opentopoID=OTDS.022020.21781.1>    1\n<https://portal.opentopography.org/raster?opentopoID=OTSDEM.112020.6341.1>              1\n<https://portal.opentopography.org/raster?opentopoID=OTSDEM.092018.6341.1>              1\n<https://portal.opentopography.org/raster?opentopoID=OTSDEM.062020.32611.1>             1\n<https://portal.opentopography.org/raster?opentopoID=OTSRTM.082016.4326.1>              1\n<https://portal.opentopography.org/lidarDataset?opentopoID=OTLAS.102019.6339.1>         1\n<https://portal.opentopography.org/lidarDataset?opentopoID=OTLAS.092019.26910.1>        1\n<https://portal.opentopography.org/lidarDataset?opentopoID=OTLAS.082016.26913.1>        1\n<https://portal.opentopography.org/lidarDataset?opentopoID=OTLAS.082012.26912.2>        1\n<https://portal.opentopography.org/lidarDataset?opentopoID=OTLAS.062011.26912.1>        1\n<https://portal.opentopography.org/raster?opentopoID=OTSDEM.032018.32611.3>             1\n<https://portal.opentopography.org/raster?opentopoID=OTSDEM.072018.6340.1>              1\n<https://portal.opentopography.org/lidarDataset?opentopoID=OTLAS.022017.26910.3>        1\n<https://portal.opentopography.org/dataspace/dataset?opentopoID=OTDS.022021.32643.1>    1\n<https://portal.opentopography.org/dataspace/dataset?opentopoID=OTDS.112018.32635.1>    1\n<https://portal.opentopography.org/raster?opentopoID=OTSDEM.022018.26915.1>             1\n<https://portal.opentopography.org/dataspace/dataset?opentopoID=OTDS.042020.32632.1>    1\n<https://portal.opentopography.org/lidarDataset?opentopoID=OTLAS.122019.2229.2>         1\n<https://portal.opentopography.org/dataspace/dataset?opentopoID=OTDS.092019.4326.2>     1\nName: focus, dtype: int64"
     },
     "execution_count": 33,
     "metadata": {},
     "output_type": "execute_result"
    }
   ],
   "source": [
    "pdf[\"focus\"].value_counts()"
   ],
   "metadata": {
    "collapsed": false,
    "pycharm": {
     "name": "#%%\n"
    }
   }
  },
  {
   "cell_type": "code",
   "execution_count": null,
   "outputs": [],
   "source": [],
   "metadata": {
    "collapsed": false,
    "pycharm": {
     "name": "#%%\n"
    }
   }
  }
 ],
 "metadata": {
  "colab": {
   "collapsed_sections": [],
   "name": "DaskPlayGround.ipynb",
   "provenance": [],
   "toc_visible": true
  },
  "kernelspec": {
   "display_name": "Python 3",
   "language": "python",
   "name": "python3"
  },
  "language_info": {
   "codemirror_mode": {
    "name": "ipython",
    "version": 3
   },
   "file_extension": ".py",
   "mimetype": "text/x-python",
   "name": "python",
   "nbconvert_exporter": "python",
   "pygments_lexer": "ipython3",
   "version": "3.8.10"
  }
 },
 "nbformat": 4,
 "nbformat_minor": 4
}