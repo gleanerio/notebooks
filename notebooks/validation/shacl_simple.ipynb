{
 "cells": [
  {
   "cell_type": "markdown",
   "metadata": {
    "id": "UXcFWGxldGeZ"
   },
   "source": [
    "# SHACL Simple\n",
    "\n",
    "SHACL validation examples\n",
    "\n",
    "It should be noted here that SHACL validation is not a service OIH offers.  Rather, \n",
    "the validation is a capacity that the OIH architectural approach facilities.  Further\n",
    "this validation follows W3C recommendations as describted in \n",
    "[https://www.w3.org/TR/shacl/](https://www.w3.org/TR/shacl/).\n",
    "\n",
    "* [SHACL Playground](https://shacl.org/playground/)\n",
    "* [pySHACL](https://github.com/rdflib/pyshacl)\n",
    "* [kglab SHACL validation with pySHACL](https://derwen.ai/docs/kgl/ex5_0/)\n"
   ]
  },
  {
   "cell_type": "markdown",
   "metadata": {},
   "source": [
    "## Imports"
   ]
  },
  {
   "cell_type": "code",
   "execution_count": 1,
   "metadata": {
    "tags": []
   },
   "outputs": [],
   "source": [
    "import warnings\n",
    "warnings.simplefilter(action='ignore', category=FutureWarning)  ## remove pandas future warning\n",
    "\n",
    "from urllib.request import urlopen\n",
    "import kglab\n",
    "from rdflib import Graph, plugin\n",
    "from rdflib.serializer import Serializer\n",
    "import pandas as pd\n",
    "import seaborn as sns\n",
    "from rdflib import Graph  #, plugin\n",
    "import matplotlib.pyplot as plt\n",
    "import boto3\n",
    "\n",
    "# pyshack sends output to log along with the vars.  This suppresses that\n",
    "import logging, sys\n",
    "logging.disable(sys.maxsize)\n",
    "\n",
    "import time, io\n",
    "from datetime import datetime\n",
    "from reportlab.lib.enums import TA_JUSTIFY\n",
    "from reportlab.lib.pagesizes import letter\n",
    "from reportlab.platypus import *\n",
    "from reportlab.lib.styles import getSampleStyleSheet, ParagraphStyle\n",
    "from reportlab.rl_config import defaultPageSize\n",
    "from reportlab.lib.units import inch\n",
    "from reportlab.platypus.tables import Table\n",
    "from reportlab.platypus import SimpleDocTemplate\n",
    "\n"
   ]
  },
  {
   "cell_type": "markdown",
   "metadata": {},
   "source": [
    "## Graphs\n",
    "\n",
    "There are two graphs involved in each action, the data and shape graph.  The \"data graph\" which will be the graph we are testing and the \"shape graph\" which is the graph containing our validation and constraint logic.  Both of these are RDF based but can be in any serialization.  \n",
    "\n",
    "Here we have used JSON-LD for the data graph, since that is what people are using to publish structured data on the web at their web sites, so lets stick with that.\n",
    "\n",
    "For the shape graph, we use Turtle (.ttl) because it's cleaner, compact and a bit more friendly for human reading.  Since this graph is being built by humans for computers, lets cater to the human in that equation."
   ]
  },
  {
   "cell_type": "code",
   "execution_count": 2,
   "metadata": {
    "tags": []
   },
   "outputs": [],
   "source": [
    "namespaces = {\n",
    "    \"shacl\":   \"http://www.w3.org/ns/shacl#\" ,\n",
    "    }\n",
    "\n",
    "kg = kglab.KnowledgeGraph(\n",
    "    name = \"Schema.org based datagraph\",\n",
    "    base_uri = \"https://example.org/id/\",\n",
    "    namespaces = namespaces,\n",
    "    )"
   ]
  },
  {
   "cell_type": "code",
   "execution_count": 18,
   "metadata": {
    "tags": [
     "parameters"
    ]
   },
   "outputs": [],
   "source": [
    "# Paramters (set up for pagemill)\n",
    "# dg = [ \"./datagraphs/full.jsonld\"]  # \"./datagraphs/full.jsonld\",\n",
    "# sg = './shapes/soso_common_v1.2.3.ttl'\n",
    "# dg = [\"https://raw.githubusercontent.com/geoschemas-org/geoshapes/master/datagraphs/dataset-full-BAD.json-ld\"]\n",
    "dgurl = \"http://ossapi.oceaninfohub.org/public/graphs/summonededmo_2023-02-21-06-26-50_release.rdf\"\n",
    "sgurl =  \"https://raw.githubusercontent.com/iodepo/odis-arch/schema-dev-df/code/notebooks/validation/shapes/oih_search.ttl\"\n",
    "# sgurl = \"https://raw.githubusercontent.com/ESIPFed/science-on-schema.org/226-esip-summer-mtg-2022-tutorial/tutorials/esip-summer-mtg-2022/ShapeGraphs/sosoShapeNoProtoCheck.ttl\"\n",
    "now = datetime.now()\n",
    "date_time = now.strftime(\"%m-%d-%Y-%H-%M-%S\")\n",
    "# runid = str(\"GleanerValidation_{}\".format(date_time))"
   ]
  },
  {
   "cell_type": "code",
   "execution_count": 19,
   "metadata": {
    "tags": []
   },
   "outputs": [],
   "source": [
    "sf = urlopen(sgurl)\n",
    "sg = sf.read()\n"
   ]
  },
  {
   "cell_type": "code",
   "execution_count": 20,
   "metadata": {
    "tags": []
   },
   "outputs": [],
   "source": [
    "df = urlopen(dgurl)\n",
    "dg = df.read()"
   ]
  },
  {
   "cell_type": "code",
   "execution_count": 21,
   "metadata": {
    "tags": []
   },
   "outputs": [
    {
     "data": {
      "text/plain": [
       "<kglab.kglab.KnowledgeGraph at 0x7f7f52fd9de0>"
      ]
     },
     "execution_count": 21,
     "metadata": {},
     "output_type": "execute_result"
    }
   ],
   "source": [
    "fna = []   # array to hold errors\n",
    "try:\n",
    "    g = Graph().parse(dg, format='n3')\n",
    "    result = g.serialize(format='ttl')# .decode('utf-8')\n",
    "    kg.load_rdf_text(result)\n",
    "except:\n",
    "    print(\"An exception occurred with {}\".format(fn))\n",
    "    fna.append(fn)\n",
    "\n",
    "conforms, report_graph, report_text = kg.validate(\n",
    "    shacl_graph=sg,\n",
    "    shacl_graph_format=\"ttl\"\n",
    ")\n",
    "\n",
    "# print(report_text)\n",
    "# print(fna)\n",
    "\n",
    "kg.load_rdf_text(data=report_graph.save_rdf_text(), format=\"ttl\")"
   ]
  },
  {
   "cell_type": "code",
   "execution_count": 22,
   "metadata": {
    "collapsed": false,
    "jupyter": {
     "outputs_hidden": false
    },
    "pycharm": {
     "name": "#%%\n"
    },
    "tags": []
   },
   "outputs": [
    {
     "name": "stdout",
     "output_type": "stream",
     "text": [
      "Checking 14712048 object(s)\n",
      "severity                          shacl:Violation  shacl:Warning\n",
      "message                                                         \n",
      "Headline is suggested                           0           4723\n",
      "Resource must have a description             1166              0\n"
     ]
    },
    {
     "data": {
      "image/png": "[encoded data removed]",
      "text/plain": [
       "<Figure size 432x288 with 2 Axes>"
      ]
     },
     "metadata": {
      "needs_background": "light"
     },
     "output_type": "display_data"
    }
   ],
   "source": [
    "# SELECT  ?severity  ?constraint ?path ?message ?focus ?path ?value ?id\n",
    "\n",
    "sparql = \"\"\"\n",
    "SELECT  ?severity  ?constraint ?path ?message ?focus ?path ?value\n",
    "  WHERE {\n",
    "    ?id rdf:type shacl:ValidationResult .\n",
    "    ?id shacl:focusNode ?focus .\n",
    "    ?id shacl:resultMessage ?message .\n",
    "    ?id shacl:resultSeverity ?severity .\n",
    "    ?id shacl:sourceConstraintComponent ?constraint .\n",
    "    OPTIONAL {\n",
    "        ?id shacl:resultPath ?path .\n",
    "    }\n",
    "    OPTIONAL {\n",
    "        ?id shacl:value ?value .\n",
    "    }\n",
    "  }\n",
    "\"\"\"\n",
    "\n",
    "pdf = kg.query_as_df(sparql)\n",
    "df = pdf  #.to_pandas()  #  including .to_pandas() breaks with papermill for reasons unknown at this time if to_pandas() is used, needed in my kglab conda env\n",
    "\n",
    "if 'severity' in df.columns:\n",
    "    dfc = df.groupby('severity').count().reset_index().rename(columns={'path': 'Count'})\n",
    "    ctst = pd.crosstab(df['message'], df['severity'],  margins = False , margins_name = 'Totals')\n",
    "\n",
    "    s1 = str(\"Checking {} object(s)\".format(len(dg) ))\n",
    "    print(s1)\n",
    "    print(ctst)\n",
    "\n",
    "    sns.set(rc={'figure.figsize':(11.7,8.27)})\n",
    "    sns.heatmap(ctst, annot=True, fmt=\".0f\", cmap = sns.cm.crest)\n",
    "    plt.savefig('./output/heatmap_{}.png'.format(date_time))\n",
    "else:\n",
    "    print(\"No severity column found, all SHACL validations must have passed OR a processing error occurred upstream\")\n"
   ]
  },
  {
   "cell_type": "code",
   "execution_count": 27,
   "metadata": {
    "tags": []
   },
   "outputs": [],
   "source": [
    "# build report\n",
    "\n",
    "#set up a stream\n",
    "stream = io.BytesIO()\n",
    "\n",
    "Story=[]\n",
    "\n",
    "styles = getSampleStyleSheet()\n",
    "HeaderStyle = styles[\"Heading1\"]\n",
    "ParaStyle = styles[\"Normal\"]\n",
    "PreStyle = styles[\"Code\"]\n",
    "\n",
    "def header(txt, style=HeaderStyle, klass=Paragraph, sep=0.3):\n",
    "    s = Spacer(0.2*inch, sep*inch)\n",
    "    para = klass(txt, style)\n",
    "    sect = [s, para]\n",
    "    result = KeepTogether(sect)\n",
    "    return result\n",
    "\n",
    "def pre(txt):\n",
    "    s = Spacer(0.1*inch, 0.1*inch)\n",
    "    p = Preformatted(txt, PreStyle)\n",
    "    precomps = [s,p]\n",
    "    result = KeepTogether(precomps)\n",
    "    return result\n",
    "\n",
    "#  use for a file\n",
    "doc = SimpleDocTemplate(\"./output/report_{}.pdf\".format(date_time),pagesize=letter,  \n",
    "                        rightMargin=72,leftMargin=72,\n",
    "                        topMargin=72,bottomMargin=18)\n",
    "\n",
    "# use for object\n",
    "# doc = SimpleDocTemplate(stream,pagesize=letter,\n",
    "#                         rightMargin=72,leftMargin=72,\n",
    "#                         topMargin=72,bottomMargin=18)\n",
    "\n",
    "logo = './output/heatmap_{}.png'.format(date_time)\n",
    "im = Image(logo, 4*inch, 3*inch)\n",
    "\n",
    "address_parts = [\"RunID: {}\".format(date_time), \"Shape graph: {}\".format(sgurl)]\n",
    "\n",
    "styles=getSampleStyleSheet()\n",
    "styles.add(ParagraphStyle(name='Justify', alignment=TA_JUSTIFY))\n",
    "\n",
    "\n",
    "\n",
    "# Create return address\n",
    "full_name = \"Validation report\"\n",
    "ptext = '%s' % full_name\n",
    "Story.append(Paragraph(ptext, styles[\"Heading1\"]))\n",
    "\n",
    "# add date and time\n",
    "formatted_time = time.ctime()\n",
    "ptext = '%s' % formatted_time\n",
    "Story.append(Paragraph(ptext, styles[\"Normal\"]))\n",
    "Story.append(Spacer(1, 12))\n",
    "\n",
    "for part in address_parts:\n",
    "    ptext = '%s' % part.strip()\n",
    "    Story.append(Paragraph(ptext, styles[\"Normal\"]))\n",
    "\n",
    "Story.append(Spacer(1, 12))\n",
    "ptext = 'There were validation issues with the following resources.  They were not able to be checked'\n",
    "Story.append(Paragraph(ptext, styles[\"Justify\"]))\n",
    "Story.append(Spacer(1, 12))\n",
    "for part in fna:\n",
    "    ptext = '%s' % part.strip()\n",
    "    Story.append(Paragraph(ptext, styles[\"Code\"]))\n",
    "\n",
    "Story.append(Spacer(1, 12))\n",
    "\n",
    "ptext = 'This is a validation report using pySHACL to process the provided data graphs \\\n",
    "        against the noted shape graph.  A heat map of the results is seen below to provide \\\n",
    "        a quick over view.  However, the details are easier to leverage from the generated \\\n",
    "        CSV document that will come with this report. '\n",
    "\n",
    "Story.append(Paragraph(ptext, styles[\"Justify\"]))\n",
    "Story.append(Spacer(1, 12))\n",
    "\n",
    "Story.append(Paragraph(s1, styles[\"Justify\"]))\n",
    "Story.append(Spacer(1, 12))\n",
    "\n",
    "# Story.append(Paragraph(str(ctst), styles[\"Code\"]))\n",
    "# Story.append(Spacer(1, 12))\n",
    "\n",
    "# Add the image\n",
    "Story.append(im)\n",
    "\n",
    "ptext = 'For more information about validation please visit the project documentation.  \\\n",
    "        Details of the errors reported can be found in the shape file documentation page.'\n",
    "Story.append(Paragraph(ptext, styles[\"Justify\"]))\n",
    "\n",
    "# Create return address\n",
    "Story.append(Spacer(1, 12))\n",
    "full_name = \"Details\"\n",
    "ptext = '%s' % full_name\n",
    "Story.append(Paragraph(ptext, styles[\"Heading1\"]))\n",
    "\n",
    "ptext = 'Details of the detected violations and the associated reference node are found in the CSV \\\n",
    "        that accompany this report:  validationReport_{}.csv '.format(date_time)\n",
    "\n",
    "Story.append(Paragraph(ptext, styles[\"Justify\"]))\n",
    "\n",
    "# add table\n",
    "# rlab_table_data=[['Index','Path','Constraint','Severity','Message','ID', 'Focus]]+df.values.tolist()\n",
    "\n",
    "# this is the table of the data fram, but useless in this PDF, just save to CSV and send that. \n",
    "# table = Table(df.values.tolist(), colWidths=150, rowHeights=20, splitByRow=1)\n",
    "# Story.append(Spacer(1, 12))\n",
    "# Story.append(table)\n",
    "\n",
    "doc.build(Story)"
   ]
  },
  {
   "cell_type": "code",
   "execution_count": 24,
   "metadata": {
    "tags": []
   },
   "outputs": [
    {
     "ename": "NoSuchBucket",
     "evalue": "An error occurred (NoSuchBucket) when calling the PutObject operation: The specified bucket does not exist",
     "output_type": "error",
     "traceback": [
      "\u001B[0;31m---------------------------------------------------------------------------\u001B[0m",
      "\u001B[0;31mNoSuchBucket\u001B[0m                              Traceback (most recent call last)",
      "\u001B[0;32m/tmp/ipykernel_2612784/552611212.py\u001B[0m in \u001B[0;36m<module>\u001B[0;34m\u001B[0m\n\u001B[1;32m     13\u001B[0m \u001B[0ms3\u001B[0m \u001B[0;34m=\u001B[0m \u001B[0mboto3\u001B[0m\u001B[0;34m.\u001B[0m\u001B[0mresource\u001B[0m\u001B[0;34m(\u001B[0m\u001B[0;34m's3'\u001B[0m\u001B[0;34m)\u001B[0m\u001B[0;34m\u001B[0m\u001B[0;34m\u001B[0m\u001B[0m\n\u001B[1;32m     14\u001B[0m \u001B[0mobject\u001B[0m \u001B[0;34m=\u001B[0m \u001B[0ms3\u001B[0m\u001B[0;34m.\u001B[0m\u001B[0mObject\u001B[0m\u001B[0;34m(\u001B[0m\u001B[0;34m'my_bucket_name'\u001B[0m\u001B[0;34m,\u001B[0m \u001B[0;34m'my/key/including/filename.txt'\u001B[0m\u001B[0;34m)\u001B[0m\u001B[0;34m\u001B[0m\u001B[0;34m\u001B[0m\u001B[0m\n\u001B[0;32m---> 15\u001B[0;31m \u001B[0mobject\u001B[0m\u001B[0;34m.\u001B[0m\u001B[0mput\u001B[0m\u001B[0;34m(\u001B[0m\u001B[0mBody\u001B[0m\u001B[0;34m=\u001B[0m\u001B[0mstream\u001B[0m\u001B[0;34m.\u001B[0m\u001B[0mgetvalue\u001B[0m\u001B[0;34m(\u001B[0m\u001B[0;34m)\u001B[0m\u001B[0;34m)\u001B[0m\u001B[0;34m\u001B[0m\u001B[0;34m\u001B[0m\u001B[0m\n\u001B[0m\u001B[1;32m     16\u001B[0m \u001B[0;34m\u001B[0m\u001B[0m\n\u001B[1;32m     17\u001B[0m \u001B[0;31m# Method 2: Client.put_object()\u001B[0m\u001B[0;34m\u001B[0m\u001B[0;34m\u001B[0m\u001B[0m\n",
      "\u001B[0;32m~/.local/lib/python3.10/site-packages/boto3/resources/factory.py\u001B[0m in \u001B[0;36mdo_action\u001B[0;34m(self, *args, **kwargs)\u001B[0m\n\u001B[1;32m    518\u001B[0m             \u001B[0;31m# instance via ``self``.\u001B[0m\u001B[0;34m\u001B[0m\u001B[0;34m\u001B[0m\u001B[0m\n\u001B[1;32m    519\u001B[0m             \u001B[0;32mdef\u001B[0m \u001B[0mdo_action\u001B[0m\u001B[0;34m(\u001B[0m\u001B[0mself\u001B[0m\u001B[0;34m,\u001B[0m \u001B[0;34m*\u001B[0m\u001B[0margs\u001B[0m\u001B[0;34m,\u001B[0m \u001B[0;34m**\u001B[0m\u001B[0mkwargs\u001B[0m\u001B[0;34m)\u001B[0m\u001B[0;34m:\u001B[0m\u001B[0;34m\u001B[0m\u001B[0;34m\u001B[0m\u001B[0m\n\u001B[0;32m--> 520\u001B[0;31m                 \u001B[0mresponse\u001B[0m \u001B[0;34m=\u001B[0m \u001B[0maction\u001B[0m\u001B[0;34m(\u001B[0m\u001B[0mself\u001B[0m\u001B[0;34m,\u001B[0m \u001B[0;34m*\u001B[0m\u001B[0margs\u001B[0m\u001B[0;34m,\u001B[0m \u001B[0;34m**\u001B[0m\u001B[0mkwargs\u001B[0m\u001B[0;34m)\u001B[0m\u001B[0;34m\u001B[0m\u001B[0;34m\u001B[0m\u001B[0m\n\u001B[0m\u001B[1;32m    521\u001B[0m \u001B[0;34m\u001B[0m\u001B[0m\n\u001B[1;32m    522\u001B[0m                 \u001B[0;32mif\u001B[0m \u001B[0mhasattr\u001B[0m\u001B[0;34m(\u001B[0m\u001B[0mself\u001B[0m\u001B[0;34m,\u001B[0m \u001B[0;34m'load'\u001B[0m\u001B[0;34m)\u001B[0m\u001B[0;34m:\u001B[0m\u001B[0;34m\u001B[0m\u001B[0;34m\u001B[0m\u001B[0m\n",
      "\u001B[0;32m~/.local/lib/python3.10/site-packages/boto3/resources/action.py\u001B[0m in \u001B[0;36m__call__\u001B[0;34m(self, parent, *args, **kwargs)\u001B[0m\n\u001B[1;32m     81\u001B[0m                      operation_name, params)\n\u001B[1;32m     82\u001B[0m \u001B[0;34m\u001B[0m\u001B[0m\n\u001B[0;32m---> 83\u001B[0;31m         \u001B[0mresponse\u001B[0m \u001B[0;34m=\u001B[0m \u001B[0mgetattr\u001B[0m\u001B[0;34m(\u001B[0m\u001B[0mparent\u001B[0m\u001B[0;34m.\u001B[0m\u001B[0mmeta\u001B[0m\u001B[0;34m.\u001B[0m\u001B[0mclient\u001B[0m\u001B[0;34m,\u001B[0m \u001B[0moperation_name\u001B[0m\u001B[0;34m)\u001B[0m\u001B[0;34m(\u001B[0m\u001B[0;34m*\u001B[0m\u001B[0margs\u001B[0m\u001B[0;34m,\u001B[0m \u001B[0;34m**\u001B[0m\u001B[0mparams\u001B[0m\u001B[0;34m)\u001B[0m\u001B[0;34m\u001B[0m\u001B[0;34m\u001B[0m\u001B[0m\n\u001B[0m\u001B[1;32m     84\u001B[0m \u001B[0;34m\u001B[0m\u001B[0m\n\u001B[1;32m     85\u001B[0m         \u001B[0mlogger\u001B[0m\u001B[0;34m.\u001B[0m\u001B[0mdebug\u001B[0m\u001B[0;34m(\u001B[0m\u001B[0;34m'Response: %r'\u001B[0m\u001B[0;34m,\u001B[0m \u001B[0mresponse\u001B[0m\u001B[0;34m)\u001B[0m\u001B[0;34m\u001B[0m\u001B[0;34m\u001B[0m\u001B[0m\n",
      "\u001B[0;32m~/.conda/envs/dev/lib/python3.10/site-packages/botocore/client.py\u001B[0m in \u001B[0;36m_api_call\u001B[0;34m(self, *args, **kwargs)\u001B[0m\n\u001B[1;32m    393\u001B[0m                     \"%s() only accepts keyword arguments.\" % py_operation_name)\n\u001B[1;32m    394\u001B[0m             \u001B[0;31m# The \"self\" in this scope is referring to the BaseClient.\u001B[0m\u001B[0;34m\u001B[0m\u001B[0;34m\u001B[0m\u001B[0m\n\u001B[0;32m--> 395\u001B[0;31m             \u001B[0;32mreturn\u001B[0m \u001B[0mself\u001B[0m\u001B[0;34m.\u001B[0m\u001B[0m_make_api_call\u001B[0m\u001B[0;34m(\u001B[0m\u001B[0moperation_name\u001B[0m\u001B[0;34m,\u001B[0m \u001B[0mkwargs\u001B[0m\u001B[0;34m)\u001B[0m\u001B[0;34m\u001B[0m\u001B[0;34m\u001B[0m\u001B[0m\n\u001B[0m\u001B[1;32m    396\u001B[0m \u001B[0;34m\u001B[0m\u001B[0m\n\u001B[1;32m    397\u001B[0m         \u001B[0m_api_call\u001B[0m\u001B[0;34m.\u001B[0m\u001B[0m__name__\u001B[0m \u001B[0;34m=\u001B[0m \u001B[0mstr\u001B[0m\u001B[0;34m(\u001B[0m\u001B[0mpy_operation_name\u001B[0m\u001B[0;34m)\u001B[0m\u001B[0;34m\u001B[0m\u001B[0;34m\u001B[0m\u001B[0m\n",
      "\u001B[0;32m~/.conda/envs/dev/lib/python3.10/site-packages/botocore/client.py\u001B[0m in \u001B[0;36m_make_api_call\u001B[0;34m(self, operation_name, api_params)\u001B[0m\n\u001B[1;32m    723\u001B[0m             \u001B[0merror_code\u001B[0m \u001B[0;34m=\u001B[0m \u001B[0mparsed_response\u001B[0m\u001B[0;34m.\u001B[0m\u001B[0mget\u001B[0m\u001B[0;34m(\u001B[0m\u001B[0;34m\"Error\"\u001B[0m\u001B[0;34m,\u001B[0m \u001B[0;34m{\u001B[0m\u001B[0;34m}\u001B[0m\u001B[0;34m)\u001B[0m\u001B[0;34m.\u001B[0m\u001B[0mget\u001B[0m\u001B[0;34m(\u001B[0m\u001B[0;34m\"Code\"\u001B[0m\u001B[0;34m)\u001B[0m\u001B[0;34m\u001B[0m\u001B[0;34m\u001B[0m\u001B[0m\n\u001B[1;32m    724\u001B[0m             \u001B[0merror_class\u001B[0m \u001B[0;34m=\u001B[0m \u001B[0mself\u001B[0m\u001B[0;34m.\u001B[0m\u001B[0mexceptions\u001B[0m\u001B[0;34m.\u001B[0m\u001B[0mfrom_code\u001B[0m\u001B[0;34m(\u001B[0m\u001B[0merror_code\u001B[0m\u001B[0;34m)\u001B[0m\u001B[0;34m\u001B[0m\u001B[0;34m\u001B[0m\u001B[0m\n\u001B[0;32m--> 725\u001B[0;31m             \u001B[0;32mraise\u001B[0m \u001B[0merror_class\u001B[0m\u001B[0;34m(\u001B[0m\u001B[0mparsed_response\u001B[0m\u001B[0;34m,\u001B[0m \u001B[0moperation_name\u001B[0m\u001B[0;34m)\u001B[0m\u001B[0;34m\u001B[0m\u001B[0;34m\u001B[0m\u001B[0m\n\u001B[0m\u001B[1;32m    726\u001B[0m         \u001B[0;32melse\u001B[0m\u001B[0;34m:\u001B[0m\u001B[0;34m\u001B[0m\u001B[0;34m\u001B[0m\u001B[0m\n\u001B[1;32m    727\u001B[0m             \u001B[0;32mreturn\u001B[0m \u001B[0mparsed_response\u001B[0m\u001B[0;34m\u001B[0m\u001B[0;34m\u001B[0m\u001B[0m\n",
      "\u001B[0;31mNoSuchBucket\u001B[0m: An error occurred (NoSuchBucket) when calling the PutObject operation: The specified bucket does not exist"
     ]
    }
   ],
   "source": [
    "# write to S3\n",
    "# get buffer\n",
    "\n",
    "stream.seek(0)  # rewind the buffer\n",
    "\n",
    "pdf_buffer = stream.getbuffer()\n",
    "\n",
    "filename = \"new.pdf\"\n",
    "bucket_name = 'insert_bucket_name'\n",
    "object_name = bucket_name\n",
    "\n",
    "# Method 1: Object.put()\n",
    "s3 = boto3.resource('s3')\n",
    "object = s3.Object('my_bucket_name', 'my/key/including/filename.txt')\n",
    "object.put(Body=stream.getvalue())\n",
    "\n",
    "# Method 2: Client.put_object()\n",
    "client = boto3.client('s3')\n",
    "client.put_object(Body=stream.getvalue(), Bucket='my_bucket_name', Key='my/key/including/anotherfilename.txt')\n"
   ]
  },
  {
   "cell_type": "code",
   "execution_count": 28,
   "metadata": {
    "collapsed": false,
    "jupyter": {
     "outputs_hidden": false
    },
    "pycharm": {
     "name": "#%%\n"
    },
    "tags": []
   },
   "outputs": [],
   "source": [
    "df.to_csv(\"./output/validationReport_{}.csv\".format(date_time))"
   ]
  },
  {
   "cell_type": "markdown",
   "metadata": {},
   "source": [
    "## Write to S3\n",
    "\n",
    "convert the above to use stream buffer like in https://groups.google.com/g/django-users/c/Towha5_okco/m/mxFsycoHDQAJ?pli=1\n",
    "\n",
    "```python\n",
    "from io import StringIO # python3; python2: BytesIO \n",
    "import boto3\n",
    "\n",
    "bucket = 'my_bucket_name' # already created on S3\n",
    "csv_buffer = StringIO()\n",
    "df.to_csv(csv_buffer)\n",
    "s3_resource = boto3.resource('s3')\n",
    "s3_resource.Object(bucket, 'df.csv').put(Body=csv_buffer.getvalue())\n",
    "```"
   ]
  },
  {
   "cell_type": "code",
   "execution_count": null,
   "metadata": {},
   "outputs": [],
   "source": []
  }
 ],
 "metadata": {
  "colab": {
   "collapsed_sections": [
    "4hiBVel8hTry"
   ],
   "name": "pySHACL.ipynb",
   "provenance": []
  },
  "interpreter": {
   "hash": "7a8db6ed8e976d23fd2e6a73e187eaf8286829efb4aa61f09abf75e2f487f948"
  },
  "kernelspec": {
   "display_name": "Python 3 (ipykernel)",
   "language": "python",
   "name": "python3"
  },
  "language_info": {
   "codemirror_mode": {
    "name": "ipython",
    "version": 3
   },
   "file_extension": ".py",
   "mimetype": "text/x-python",
   "name": "python",
   "nbconvert_exporter": "python",
   "pygments_lexer": "ipython3",
   "version": "3.10.8"
  }
 },
 "nbformat": 4,
 "nbformat_minor": 4
}
