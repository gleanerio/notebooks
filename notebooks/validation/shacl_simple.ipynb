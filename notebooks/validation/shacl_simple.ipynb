{
 "cells": [
  {
   "cell_type": "markdown",
   "metadata": {
    "id": "UXcFWGxldGeZ"
   },
   "source": [
    "# SHACL Simple\n",
    "\n",
    "Ocean Info Hub SHACL validation examples\n",
    "\n",
    "It should be noted here that SHACL validation is not a service OIH offers.  Rather, \n",
    "the validation is a capacity that the OIH architectural approach facilities.  Further\n",
    "this validation follows W3C recommendations as describted in \n",
    "[https://www.w3.org/TR/shacl/](https://www.w3.org/TR/shacl/).\n",
    "\n",
    "* [SHACL Playground](https://shacl.org/playground/)\n",
    "* [kglab SHACL validation with pySHACL](https://derwen.ai/docs/kgl/ex5_0/)\n"
   ]
  },
  {
   "cell_type": "markdown",
   "metadata": {},
   "source": [
    "## A few imports to support the code following"
   ]
  },
  {
   "cell_type": "code",
   "execution_count": 75,
   "metadata": {},
   "outputs": [],
   "source": [
    "import kglab\n",
    "from rdflib import Graph, plugin\n",
    "from rdflib.serializer import Serializer\n",
    "import pandas as pd\n",
    "import seaborn as sns\n",
    "from rdflib import Graph  #, plugin\n",
    "\n",
    "# pyshack sends output to log along with the vars.  This suppresses that\n",
    "import logging, sys\n",
    "logging.disable(sys.maxsize)"
   ]
  },
  {
   "cell_type": "markdown",
   "metadata": {},
   "source": [
    "## Load out files\n",
    "\n",
    "The process involves two inputs.  One is the \"data graph\" which will be the graph we are testing.  The other in the \"shape graph\" which is the graph containing our validation and constraint logic.  Both of these are RDF based but can be in any serialization.  \n",
    "\n",
    "Here we have used JSON-LD for the data graph, since that is what people are using to publish structured data on the web at their web sites, so lets stick with that.\n",
    "\n",
    "For the shape graph, we use Turtle (.ttl) because it's cleaner, compact and a bit more friendly for human reading.  Since this graph is being built by humans for computers, lets cater to the human in that equation."
   ]
  },
  {
   "cell_type": "code",
   "execution_count": 88,
   "metadata": {},
   "outputs": [],
   "source": [
    "namespaces = {\n",
    "    \"shacl\":   \"http://www.w3.org/ns/shacl#\" ,\n",
    "    }\n",
    "\n",
    "kg = kglab.KnowledgeGraph(\n",
    "    name = \"Schema.org based datagraph\",\n",
    "    base_uri = \"https://example.org/id/\",\n",
    "    namespaces = namespaces,\n",
    "    )"
   ]
  },
  {
   "cell_type": "code",
   "execution_count": 91,
   "metadata": {},
   "outputs": [],
   "source": [
    "# set up dg array and the shape files (sg) we will test\n",
    "dg = [ \"./datagraphs/full.jsonld\"]  # \"./datagraphs/full.jsonld\",\n",
    "sg = './shapes/soso_common_v1.2.3.ttl'"
   ]
  },
  {
   "cell_type": "code",
   "execution_count": 92,
   "metadata": {},
   "outputs": [
    {
     "data": {
      "text/plain": "<kglab.kglab.KnowledgeGraph at 0x7f92a912f580>"
     },
     "execution_count": 92,
     "metadata": {},
     "output_type": "execute_result"
    }
   ],
   "source": [
    "for fn in dg:\n",
    "          # kg.load_jsonld(fn.read().decode(\"utf-8\", \"ignore\").replace('\\n',' '))\n",
    "          # kg.load_jsonld(fn)\n",
    "          g = Graph().parse(fn, format='json-ld')\n",
    "          result = g.serialize(format='ttl')# .decode('utf-8')\n",
    "          # print(g.serialize(format='ttl'))\n",
    "          kg.load_rdf_text(result)\n",
    "    \n",
    "\n",
    "conforms, report_graph, report_text = kg.validate(\n",
    "    shacl_graph=sg,\n",
    "    shacl_graph_format=\"ttl\"\n",
    ")\n",
    "\n",
    "\n",
    "kg.load_rdf_text(data=report_graph.save_rdf_text(), format=\"ttl\")\n",
    "\n"
   ]
  },
  {
   "cell_type": "code",
   "execution_count": 93,
   "metadata": {
    "collapsed": false,
    "jupyter": {
     "outputs_hidden": false
    },
    "pycharm": {
     "name": "#%%\n"
    }
   },
   "outputs": [
    {
     "name": "stdout",
     "output_type": "stream",
     "text": [
      "Checking 7 objects in soso\n",
      "severity                                            sh:Violation\n",
      "message                                                         \n",
      "Expecting SO namespace of <http://schema.org/> ...             1\n"
     ]
    },
    {
     "data": {
      "text/plain": "<Figure size 842.4x595.44 with 2 Axes>",
      "image/png": "[encoded data removed]"
     },
     "metadata": {},
     "output_type": "display_data"
    }
   ],
   "source": [
    "sparql = \"\"\"\n",
    "SELECT ?path ?value ?constraint ?severity ?message ?id ?focus\n",
    "  WHERE {\n",
    "    ?id rdf:type shacl:ValidationResult .\n",
    "    ?id shacl:focusNode ?focus .\n",
    "    ?id shacl:resultMessage ?message .\n",
    "    ?id shacl:resultSeverity ?severity .\n",
    "    ?id shacl:sourceConstraintComponent ?constraint .\n",
    "    OPTIONAL {\n",
    "        ?id shacl:resultPath ?path .\n",
    "    }\n",
    "    OPTIONAL {\n",
    "        ?id shacl:value ?value .\n",
    "    }\n",
    "  }\n",
    "\"\"\"\n",
    "\n",
    "pdf = kg.query_as_df(sparql)\n",
    "df = pdf  #.to_pandas()\n",
    "df.style.background_gradient(cmap='Blues')\n",
    "\n",
    "if 'severity' in df.columns:\n",
    "    dfc = df.groupby('severity').count().reset_index().rename(columns={'path': 'Count'})\n",
    "    ctst = pd.crosstab(df['message'], df['severity'],  margins = False , margins_name = 'Totals')\n",
    "\n",
    "    print(\"Checking {} objects in {}\".format(len(\"source:\"),\"soso\" ))\n",
    "    print(ctst)\n",
    "\n",
    "    sns.set(rc={'figure.figsize':(11.7,8.27)})\n",
    "    sns.heatmap(ctst, annot=True, fmt=\".0f\", cmap = sns.cm.crest)\n",
    "else:\n",
    "    print(\"No severity column found, all SHACL validations passed\")"
   ]
  },
  {
   "cell_type": "code",
   "execution_count": 80,
   "metadata": {
    "collapsed": false,
    "jupyter": {
     "outputs_hidden": false
    },
    "pycharm": {
     "name": "#%%\n"
    }
   },
   "outputs": [],
   "source": [
    "df.to_csv(\"./output/validationReport.csv\")"
   ]
  },
  {
   "cell_type": "code",
   "execution_count": null,
   "metadata": {
    "collapsed": false,
    "jupyter": {
     "outputs_hidden": false
    },
    "pycharm": {
     "name": "#%%\n"
    }
   },
   "outputs": [],
   "source": []
  }
 ],
 "metadata": {
  "colab": {
   "collapsed_sections": [
    "4hiBVel8hTry"
   ],
   "name": "pySHACL.ipynb",
   "provenance": []
  },
  "interpreter": {
   "hash": "7a8db6ed8e976d23fd2e6a73e187eaf8286829efb4aa61f09abf75e2f487f948"
  },
  "kernelspec": {
   "display_name": "Python [conda env:.conda-kglab] *",
   "language": "python",
   "name": "conda-env-.conda-kglab-py"
  },
  "language_info": {
   "codemirror_mode": {
    "name": "ipython",
    "version": 3
   },
   "file_extension": ".py",
   "mimetype": "text/x-python",
   "name": "python",
   "nbconvert_exporter": "python",
   "pygments_lexer": "ipython3",
   "version": "3.8.10"
  }
 },
 "nbformat": 4,
 "nbformat_minor": 4
}