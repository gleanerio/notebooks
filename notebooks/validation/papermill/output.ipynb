{
 "cells": [
  {
   "cell_type": "markdown",
   "id": "80380373",
   "metadata": {
    "id": "UXcFWGxldGeZ",
    "papermill": {
     "duration": 0.002692,
     "end_time": "2022-07-18T14:56:37.924333",
     "exception": false,
     "start_time": "2022-07-18T14:56:37.921641",
     "status": "completed"
    },
    "tags": []
   },
   "source": [
    "# SHACL Simple\n",
    "\n",
    "Ocean Info Hub SHACL validation examples\n",
    "\n",
    "It should be noted here that SHACL validation is not a service OIH offers.  Rather, \n",
    "the validation is a capacity that the OIH architectural approach facilities.  Further\n",
    "this validation follows W3C recommendations as describted in \n",
    "[https://www.w3.org/TR/shacl/](https://www.w3.org/TR/shacl/).\n",
    "\n",
    "* [SHACL Playground](https://shacl.org/playground/)\n",
    "* [pySHACL](https://github.com/rdflib/pyshacl)\n",
    "* [kglab SHACL validation with pySHACL](https://derwen.ai/docs/kgl/ex5_0/)\n"
   ]
  },
  {
   "cell_type": "markdown",
   "id": "cc3f2f08",
   "metadata": {
    "papermill": {
     "duration": 0.001595,
     "end_time": "2022-07-18T14:56:37.927626",
     "exception": false,
     "start_time": "2022-07-18T14:56:37.926031",
     "status": "completed"
    },
    "tags": []
   },
   "source": [
    "## CLI approach\n",
    "\n",
    "### pySHACL\n",
    "Once you have pySHACL installed it's easy to leverage it directly from the command line.  \n",
    "\n",
    "For command line use:\n",
    "_(these example commandline instructions are for a Linux/Unix based OS)_\n",
    "```bash\n",
    "$ pyshacl -s /path/to/shapesGraph.ttl -m -i rdfs -a -j -f human /path/to/dataGraph.ttl\n",
    "```\n",
    "Where\n",
    " - `-s` is an (optional) path to the shapes graph to use\n",
    " - `-e` is an (optional) path to an extra ontology graph to import\n",
    " - `-i` is the pre-inferencing option\n",
    " - `-f` is the ValidationReport output format (`human` = human-readable validation report)\n",
    " - `-m` enable the meta-shacl feature\n",
    " - `-a` enable SHACL Advanced Features\n",
    " - `-j` enable SHACL-JS Features (if `pyhsacl[js]` is installed)\n",
    "\n",
    "For detailed CLI usage of pySHACL visit [https://github.com/rdflib/pyshacl](https://github.com/rdflib/pyshacl)\n",
    "\n",
    "### REST alternative (tangram.gleaner.io)\n",
    "\n",
    "An instance of pySHACL is exposed at tangram.gleaner.io.   Through this you can use simple web clients to interact with pySHACL, like curl.\n",
    "\n",
    "As example of that follows:\n",
    "\n",
    "```\n",
    "curl -F  'datagraph=@./datagraphs/dataset-minimal-BAD.json-ld'  -F  'shapegraph=@./shapegraphs/googleRecommended.ttl' -F 'format=machine'  https://tangram.gleaner.io/uploader \n",
    "```\n",
    " \n",
    " Here, a data graph and a shape graph are uploaded and processed by pySHACL.  You can set the format to _human_ or _machne_ depending on the result style you need.  The target URL for this at the end of the command.   You can simply visit \n",
    " [https://tangram.gleaner.io](https://tangram.gleaner.io) for usage information too.  "
   ]
  },
  {
   "cell_type": "markdown",
   "id": "ef27c300",
   "metadata": {
    "papermill": {
     "duration": 0.001496,
     "end_time": "2022-07-18T14:56:37.930512",
     "exception": false,
     "start_time": "2022-07-18T14:56:37.929016",
     "status": "completed"
    },
    "tags": []
   },
   "source": [
    "## Imports"
   ]
  },
  {
   "cell_type": "code",
   "execution_count": 1,
   "id": "9de26dc9",
   "metadata": {
    "execution": {
     "iopub.execute_input": "2022-07-18T14:56:37.934660Z",
     "iopub.status.busy": "2022-07-18T14:56:37.934256Z",
     "iopub.status.idle": "2022-07-18T14:56:39.537068Z",
     "shell.execute_reply": "2022-07-18T14:56:39.536665Z"
    },
    "papermill": {
     "duration": 1.606057,
     "end_time": "2022-07-18T14:56:39.538202",
     "exception": false,
     "start_time": "2022-07-18T14:56:37.932145",
     "status": "completed"
    },
    "tags": []
   },
   "outputs": [],
   "source": [
    "import warnings\n",
    "warnings.simplefilter(action='ignore', category=FutureWarning)  ## remove pandas future warning\n",
    "\n",
    "from urllib.request import urlopen\n",
    "import kglab\n",
    "from rdflib import Graph, plugin\n",
    "from rdflib.serializer import Serializer\n",
    "import pandas as pd\n",
    "import seaborn as sns\n",
    "from rdflib import Graph  #, plugin\n",
    "import matplotlib.pyplot as plt\n",
    "\n",
    "# pyshack sends output to log along with the vars.  This suppresses that\n",
    "import logging, sys\n",
    "logging.disable(sys.maxsize)\n",
    "\n",
    "import time\n",
    "from datetime import datetime\n",
    "from reportlab.lib.enums import TA_JUSTIFY\n",
    "from reportlab.lib.pagesizes import letter\n",
    "from reportlab.platypus import SimpleDocTemplate, Paragraph, Spacer, Image\n",
    "from reportlab.lib.styles import getSampleStyleSheet, ParagraphStyle\n",
    "from reportlab.lib.units import inch"
   ]
  },
  {
   "cell_type": "markdown",
   "id": "ca6f08aa",
   "metadata": {
    "papermill": {
     "duration": 0.001694,
     "end_time": "2022-07-18T14:56:39.541490",
     "exception": false,
     "start_time": "2022-07-18T14:56:39.539796",
     "status": "completed"
    },
    "tags": []
   },
   "source": [
    "## Graphs\n",
    "\n",
    "There are two graphs involved in each action, the data and shape graph.  The \"data graph\" which will be the graph we are testing and the \"shape graph\" which is the graph containing our validation and constraint logic.  Both of these are RDF based but can be in any serialization.  \n",
    "\n",
    "Here we have used JSON-LD for the data graph, since that is what people are using to publish structured data on the web at their web sites, so lets stick with that.\n",
    "\n",
    "For the shape graph, we use Turtle (.ttl) because it's cleaner, compact and a bit more friendly for human reading.  Since this graph is being built by humans for computers, lets cater to the human in that equation."
   ]
  },
  {
   "cell_type": "code",
   "execution_count": 2,
   "id": "cfb92065",
   "metadata": {
    "execution": {
     "iopub.execute_input": "2022-07-18T14:56:39.545598Z",
     "iopub.status.busy": "2022-07-18T14:56:39.545428Z",
     "iopub.status.idle": "2022-07-18T14:56:39.550431Z",
     "shell.execute_reply": "2022-07-18T14:56:39.550082Z"
    },
    "papermill": {
     "duration": 0.008256,
     "end_time": "2022-07-18T14:56:39.551297",
     "exception": false,
     "start_time": "2022-07-18T14:56:39.543041",
     "status": "completed"
    },
    "tags": []
   },
   "outputs": [],
   "source": [
    "namespaces = {\n",
    "    \"shacl\":   \"http://www.w3.org/ns/shacl#\" ,\n",
    "    }\n",
    "\n",
    "kg = kglab.KnowledgeGraph(\n",
    "    name = \"Schema.org based datagraph\",\n",
    "    base_uri = \"https://example.org/id/\",\n",
    "    namespaces = namespaces,\n",
    "    )"
   ]
  },
  {
   "cell_type": "code",
   "execution_count": 3,
   "id": "c2e03901",
   "metadata": {
    "execution": {
     "iopub.execute_input": "2022-07-18T14:56:39.554824Z",
     "iopub.status.busy": "2022-07-18T14:56:39.554581Z",
     "iopub.status.idle": "2022-07-18T14:56:39.556660Z",
     "shell.execute_reply": "2022-07-18T14:56:39.556423Z"
    },
    "papermill": {
     "duration": 0.004766,
     "end_time": "2022-07-18T14:56:39.557489",
     "exception": false,
     "start_time": "2022-07-18T14:56:39.552723",
     "status": "completed"
    },
    "tags": [
     "parameters"
    ]
   },
   "outputs": [],
   "source": [
    "# Paramters (set up for pagemill)\n",
    "# dg = [ \"./datagraphs/full.jsonld\"]  # \"./datagraphs/full.jsonld\",\n",
    "# sg = './shapes/soso_common_v1.2.3.ttl'\n",
    "dg = [\"https://raw.githubusercontent.com/geoschemas-org/geoshapes/master/datagraphs/dataset-full-BAD.json-ld\"]\n",
    "sgurl =  \"https://raw.githubusercontent.com/ESIPFed/science-on-schema.org/master/validation/shapegraphs/soso_common_v1.2.3.ttl\"\n",
    "now = datetime.now()\n",
    "date_time = now.strftime(\"%m-%d-%Y-%H-%M-%S\")\n",
    "# runid = str(\"GleanerValidation_{}\".format(date_time))"
   ]
  },
  {
   "cell_type": "code",
   "execution_count": 4,
   "id": "fa3e30a4",
   "metadata": {
    "execution": {
     "iopub.execute_input": "2022-07-18T14:56:39.561124Z",
     "iopub.status.busy": "2022-07-18T14:56:39.560838Z",
     "iopub.status.idle": "2022-07-18T14:56:39.562700Z",
     "shell.execute_reply": "2022-07-18T14:56:39.562465Z"
    },
    "papermill": {
     "duration": 0.004564,
     "end_time": "2022-07-18T14:56:39.563450",
     "exception": false,
     "start_time": "2022-07-18T14:56:39.558886",
     "status": "completed"
    },
    "tags": [
     "injected-parameters"
    ]
   },
   "outputs": [],
   "source": [
    "# Parameters\n",
    "dg = [\n",
    "    \"https://raw.githubusercontent.com/geoschemas-org/geoshapes/master/datagraphs/dataset-full-BAD.json-ld\"\n",
    "]\n",
    "sgurl = \"https://raw.githubusercontent.com/ESIPFed/science-on-schema.org/master/validation/shapegraphs/soso_common_v1.2.3.ttl\"\n"
   ]
  },
  {
   "cell_type": "code",
   "execution_count": 5,
   "id": "bcd5edbe",
   "metadata": {
    "execution": {
     "iopub.execute_input": "2022-07-18T14:56:39.567096Z",
     "iopub.status.busy": "2022-07-18T14:56:39.566826Z",
     "iopub.status.idle": "2022-07-18T14:56:39.613398Z",
     "shell.execute_reply": "2022-07-18T14:56:39.613036Z"
    },
    "papermill": {
     "duration": 0.049775,
     "end_time": "2022-07-18T14:56:39.614739",
     "exception": false,
     "start_time": "2022-07-18T14:56:39.564964",
     "status": "completed"
    },
    "tags": []
   },
   "outputs": [],
   "source": [
    "sf = urlopen(sgurl)\n",
    "sg = sf.read()"
   ]
  },
  {
   "cell_type": "code",
   "execution_count": 6,
   "id": "96591310",
   "metadata": {
    "execution": {
     "iopub.execute_input": "2022-07-18T14:56:39.618861Z",
     "iopub.status.busy": "2022-07-18T14:56:39.618712Z",
     "iopub.status.idle": "2022-07-18T14:56:39.797385Z",
     "shell.execute_reply": "2022-07-18T14:56:39.797023Z"
    },
    "papermill": {
     "duration": 0.181883,
     "end_time": "2022-07-18T14:56:39.798213",
     "exception": false,
     "start_time": "2022-07-18T14:56:39.616330",
     "status": "completed"
    },
    "tags": []
   },
   "outputs": [
    {
     "data": {
      "text/plain": [
       "<kglab.kglab.KnowledgeGraph at 0x7f825c37a400>"
      ]
     },
     "execution_count": 6,
     "metadata": {},
     "output_type": "execute_result"
    }
   ],
   "source": [
    "for fn in dg:\n",
    "          g = Graph().parse(fn, format='json-ld')\n",
    "          result = g.serialize(format='ttl')# .decode('utf-8')\n",
    "          kg.load_rdf_text(result)\n",
    "\n",
    "conforms, report_graph, report_text = kg.validate(\n",
    "    shacl_graph=sg,\n",
    "    shacl_graph_format=\"ttl\"\n",
    ")\n",
    "\n",
    "# print(report_text)\n",
    "\n",
    "kg.load_rdf_text(data=report_graph.save_rdf_text(), format=\"ttl\")"
   ]
  },
  {
   "cell_type": "code",
   "execution_count": 7,
   "id": "4e7ccad8",
   "metadata": {
    "collapsed": false,
    "execution": {
     "iopub.execute_input": "2022-07-18T14:56:39.802564Z",
     "iopub.status.busy": "2022-07-18T14:56:39.802433Z",
     "iopub.status.idle": "2022-07-18T14:56:40.803999Z",
     "shell.execute_reply": "2022-07-18T14:56:40.803650Z"
    },
    "jupyter": {
     "outputs_hidden": false
    },
    "papermill": {
     "duration": 1.004844,
     "end_time": "2022-07-18T14:56:40.804813",
     "exception": false,
     "start_time": "2022-07-18T14:56:39.799969",
     "status": "completed"
    },
    "pycharm": {
     "name": "#%%\n"
    },
    "tags": []
   },
   "outputs": [
    {
     "name": "stdout",
     "output_type": "stream",
     "text": [
      "Checking 1 object(s)\n",
      "severity                                            sh:Warning\n",
      "message                                                       \n",
      "It is recommended that a Dataset includes a sam...           1\n",
      "It is recommended that a Dataset indicates acce...           1\n"
     ]
    },
    {
     "data": {
      "image/png": "[encoded data removed]",
      "text/plain": [
       "<Figure size 842.4x595.44 with 2 Axes>"
      ]
     },
     "metadata": {},
     "output_type": "display_data"
    }
   ],
   "source": [
    "sparql = \"\"\"\n",
    "SELECT ?path ?value ?constraint ?severity ?message ?id ?focus\n",
    "  WHERE {\n",
    "    ?id rdf:type shacl:ValidationResult .\n",
    "    ?id shacl:focusNode ?focus .\n",
    "    ?id shacl:resultMessage ?message .\n",
    "    ?id shacl:resultSeverity ?severity .\n",
    "    ?id shacl:sourceConstraintComponent ?constraint .\n",
    "    OPTIONAL {\n",
    "        ?id shacl:resultPath ?path .\n",
    "    }\n",
    "    OPTIONAL {\n",
    "        ?id shacl:value ?value .\n",
    "    }\n",
    "  }\n",
    "\"\"\"\n",
    "\n",
    "pdf = kg.query_as_df(sparql)\n",
    "df = pdf.to_pandas()  #  breaks with papermill for reasons unknown at this time if to_pandas() is used, needed in my kglab conda env\n",
    "\n",
    "if 'severity' in df.columns:\n",
    "    dfc = df.groupby('severity').count().reset_index().rename(columns={'path': 'Count'})\n",
    "    ctst = pd.crosstab(df['message'], df['severity'],  margins = False , margins_name = 'Totals')\n",
    "\n",
    "    s1 = str(\"Checking {} object(s)\".format(len(dg) ))\n",
    "    print(s1)\n",
    "    print(ctst)\n",
    "\n",
    "    sns.set(rc={'figure.figsize':(11.7,8.27)})\n",
    "    sns.heatmap(ctst, annot=True, fmt=\".0f\", cmap = sns.cm.crest)\n",
    "    plt.savefig('./output/heatmap_{}.png'.format(date_time))\n",
    "else:\n",
    "    print(\"No severity column found, all SHACL validations passed\")\n"
   ]
  },
  {
   "cell_type": "code",
   "execution_count": 8,
   "id": "27485847",
   "metadata": {
    "execution": {
     "iopub.execute_input": "2022-07-18T14:56:40.809312Z",
     "iopub.status.busy": "2022-07-18T14:56:40.809114Z",
     "iopub.status.idle": "2022-07-18T14:56:40.834703Z",
     "shell.execute_reply": "2022-07-18T14:56:40.834314Z"
    },
    "papermill": {
     "duration": 0.0288,
     "end_time": "2022-07-18T14:56:40.835539",
     "exception": false,
     "start_time": "2022-07-18T14:56:40.806739",
     "status": "completed"
    },
    "tags": []
   },
   "outputs": [],
   "source": [
    "# build report\n",
    "doc = SimpleDocTemplate(\"./output/report_{}.pdf\".format(date_time),pagesize=letter,\n",
    "                        rightMargin=72,leftMargin=72,\n",
    "                        topMargin=72,bottomMargin=18)\n",
    "\n",
    "Story=[]\n",
    "logo = './output/heatmap_{}.png'.format(date_time)\n",
    "im = Image(logo, 4*inch, 3*inch)\n",
    "\n",
    "formatted_time = time.ctime()\n",
    "full_name = \"Validation report\"\n",
    "address_parts = [\"Data graphs from run: {}\".format(date_time), \"Shape graph: {}\".format(sgurl)]\n",
    "\n",
    "styles=getSampleStyleSheet()\n",
    "styles.add(ParagraphStyle(name='Justify', alignment=TA_JUSTIFY))\n",
    "ptext = '%s' % formatted_time\n",
    "\n",
    "Story.append(Paragraph(ptext, styles[\"Normal\"]))\n",
    "Story.append(Spacer(1, 12))\n",
    "\n",
    "# Create return address\n",
    "ptext = '%s' % full_name\n",
    "Story.append(Paragraph(ptext, styles[\"Normal\"]))\n",
    "for part in address_parts:\n",
    "    ptext = '%s' % part.strip()\n",
    "    Story.append(Paragraph(ptext, styles[\"Normal\"]))\n",
    "\n",
    "Story.append(Spacer(1, 12))\n",
    "\n",
    "ptext = 'This is a validation report using pySHACL to process the provided data graphs \\\n",
    "        against the noted shape graph.  A heat map of the results is seen below to provide \\\n",
    "        a quick over view.  However, the details are easier to leverage from the generated \\\n",
    "        CSV document that will come with this report. '\n",
    "\n",
    "Story.append(Paragraph(ptext, styles[\"Justify\"]))\n",
    "Story.append(Spacer(1, 12))\n",
    "\n",
    "Story.append(Paragraph(s1, styles[\"Justify\"]))\n",
    "Story.append(Spacer(1, 12))\n",
    "\n",
    "Story.append(Paragraph(str(ctst), styles[\"Justify\"]))\n",
    "Story.append(Spacer(1, 12))\n",
    "\n",
    "# Add the image\n",
    "Story.append(im)\n",
    "\n",
    "ptext = 'For more information about validation please visit the project documentation.  \\\n",
    "        Details of the errors reported can be found in the shape file documentation page.'\n",
    "\n",
    "Story.append(Paragraph(ptext, styles[\"Justify\"]))\n",
    "Story.append(Spacer(1, 12))\n",
    "ptext = 'Sincerely,'\n",
    "Story.append(Paragraph(ptext, styles[\"Normal\"]))\n",
    "\n",
    "doc.build(Story)\n"
   ]
  },
  {
   "cell_type": "code",
   "execution_count": 9,
   "id": "be805e80",
   "metadata": {
    "execution": {
     "iopub.execute_input": "2022-07-18T14:56:40.840590Z",
     "iopub.status.busy": "2022-07-18T14:56:40.840458Z",
     "iopub.status.idle": "2022-07-18T14:56:40.846463Z",
     "shell.execute_reply": "2022-07-18T14:56:40.846148Z"
    },
    "papermill": {
     "duration": 0.009571,
     "end_time": "2022-07-18T14:56:40.847297",
     "exception": false,
     "start_time": "2022-07-18T14:56:40.837726",
     "status": "completed"
    },
    "tags": []
   },
   "outputs": [
    {
     "data": {
      "text/html": [
       "<div>\n",
       "<style scoped>\n",
       "    .dataframe tbody tr th:only-of-type {\n",
       "        vertical-align: middle;\n",
       "    }\n",
       "\n",
       "    .dataframe tbody tr th {\n",
       "        vertical-align: top;\n",
       "    }\n",
       "\n",
       "    .dataframe thead th {\n",
       "        text-align: right;\n",
       "    }\n",
       "</style>\n",
       "<table border=\"1\" class=\"dataframe\">\n",
       "  <thead>\n",
       "    <tr style=\"text-align: right;\">\n",
       "      <th></th>\n",
       "      <th>path</th>\n",
       "      <th>constraint</th>\n",
       "      <th>severity</th>\n",
       "      <th>message</th>\n",
       "      <th>id</th>\n",
       "      <th>focus</th>\n",
       "    </tr>\n",
       "  </thead>\n",
       "  <tbody>\n",
       "    <tr>\n",
       "      <th>0</th>\n",
       "      <td>:sameAs</td>\n",
       "      <td>sh:MinCountConstraintComponent</td>\n",
       "      <td>sh:Warning</td>\n",
       "      <td>It is recommended that a Dataset includes a sa...</td>\n",
       "      <td>_:ne12e4a04336a4bd1915dc0ae4c772df7b2</td>\n",
       "      <td>&lt;https://www.bco-dmo.org/dataset/472032&gt;</td>\n",
       "    </tr>\n",
       "    <tr>\n",
       "      <th>1</th>\n",
       "      <td>:isAccessibleForFree</td>\n",
       "      <td>sh:MinCountConstraintComponent</td>\n",
       "      <td>sh:Warning</td>\n",
       "      <td>It is recommended that a Dataset indicates acc...</td>\n",
       "      <td>_:ne12e4a04336a4bd1915dc0ae4c772df7b3</td>\n",
       "      <td>&lt;https://www.bco-dmo.org/dataset/472032&gt;</td>\n",
       "    </tr>\n",
       "  </tbody>\n",
       "</table>\n",
       "</div>"
      ],
      "text/plain": [
       "                   path                      constraint    severity  \\\n",
       "0               :sameAs  sh:MinCountConstraintComponent  sh:Warning   \n",
       "1  :isAccessibleForFree  sh:MinCountConstraintComponent  sh:Warning   \n",
       "\n",
       "                                             message  \\\n",
       "0  It is recommended that a Dataset includes a sa...   \n",
       "1  It is recommended that a Dataset indicates acc...   \n",
       "\n",
       "                                      id  \\\n",
       "0  _:ne12e4a04336a4bd1915dc0ae4c772df7b2   \n",
       "1  _:ne12e4a04336a4bd1915dc0ae4c772df7b3   \n",
       "\n",
       "                                      focus  \n",
       "0  <https://www.bco-dmo.org/dataset/472032>  \n",
       "1  <https://www.bco-dmo.org/dataset/472032>  "
      ]
     },
     "execution_count": 9,
     "metadata": {},
     "output_type": "execute_result"
    }
   ],
   "source": [
    "df.head()"
   ]
  },
  {
   "cell_type": "code",
   "execution_count": 10,
   "id": "b337a04f",
   "metadata": {
    "collapsed": false,
    "execution": {
     "iopub.execute_input": "2022-07-18T14:56:40.852135Z",
     "iopub.status.busy": "2022-07-18T14:56:40.851931Z",
     "iopub.status.idle": "2022-07-18T14:56:40.855419Z",
     "shell.execute_reply": "2022-07-18T14:56:40.855118Z"
    },
    "jupyter": {
     "outputs_hidden": false
    },
    "papermill": {
     "duration": 0.006892,
     "end_time": "2022-07-18T14:56:40.856328",
     "exception": false,
     "start_time": "2022-07-18T14:56:40.849436",
     "status": "completed"
    },
    "pycharm": {
     "name": "#%%\n"
    },
    "tags": []
   },
   "outputs": [],
   "source": [
    "df.to_csv(\"./output/validationReport_{}.csv\".format(date_time))"
   ]
  },
  {
   "cell_type": "code",
   "execution_count": null,
   "id": "6c07d479",
   "metadata": {
    "papermill": {
     "duration": 0.00202,
     "end_time": "2022-07-18T14:56:40.860575",
     "exception": false,
     "start_time": "2022-07-18T14:56:40.858555",
     "status": "completed"
    },
    "tags": []
   },
   "outputs": [],
   "source": []
  }
 ],
 "metadata": {
  "colab": {
   "collapsed_sections": [
    "4hiBVel8hTry"
   ],
   "name": "pySHACL.ipynb",
   "provenance": []
  },
  "interpreter": {
   "hash": "7a8db6ed8e976d23fd2e6a73e187eaf8286829efb4aa61f09abf75e2f487f948"
  },
  "kernelspec": {
   "display_name": "Python [conda env:.conda-kglab] *",
   "language": "python",
   "name": "conda-env-.conda-kglab-py"
  },
  "language_info": {
   "codemirror_mode": {
    "name": "ipython",
    "version": 3
   },
   "file_extension": ".py",
   "mimetype": "text/x-python",
   "name": "python",
   "nbconvert_exporter": "python",
   "pygments_lexer": "ipython3",
   "version": "3.8.10"
  },
  "papermill": {
   "default_parameters": {},
   "duration": 4.44524,
   "end_time": "2022-07-18T14:56:41.385583",
   "environment_variables": {},
   "exception": null,
   "input_path": "../shacl_simple.ipynb",
   "output_path": "output.ipynb",
   "parameters": {
    "dg": [
     "https://raw.githubusercontent.com/geoschemas-org/geoshapes/master/datagraphs/dataset-full-BAD.json-ld"
    ],
    "sgurl": "https://raw.githubusercontent.com/ESIPFed/science-on-schema.org/master/validation/shapegraphs/soso_common_v1.2.3.ttl"
   },
   "start_time": "2022-07-18T14:56:36.940343",
   "version": "2.3.4"
  }
 },
 "nbformat": 4,
 "nbformat_minor": 5
}