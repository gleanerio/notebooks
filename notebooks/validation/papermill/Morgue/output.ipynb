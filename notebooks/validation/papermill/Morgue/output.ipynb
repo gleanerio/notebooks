{
 "cells": [
  {
   "cell_type": "markdown",
   "id": "08019054",
   "metadata": {
    "id": "UXcFWGxldGeZ",
    "papermill": {
     "duration": 0.016536,
     "end_time": "2022-08-22T20:29:03.136475",
     "exception": false,
     "start_time": "2022-08-22T20:29:03.119939",
     "status": "completed"
    },
    "tags": []
   },
   "source": [
    "# SHACL Simple\n",
    "\n",
    "SHACL validation examples\n",
    "\n",
    "It should be noted here that SHACL validation is not a service OIH offers.  Rather, \n",
    "the validation is a capacity that the OIH architectural approach facilities.  Further\n",
    "this validation follows W3C recommendations as describted in \n",
    "[https://www.w3.org/TR/shacl/](https://www.w3.org/TR/shacl/).\n",
    "\n",
    "* [SHACL Playground](https://shacl.org/playground/)\n",
    "* [pySHACL](https://github.com/rdflib/pyshacl)\n",
    "* [kglab SHACL validation with pySHACL](https://derwen.ai/docs/kgl/ex5_0/)\n"
   ]
  },
  {
   "cell_type": "markdown",
   "id": "eb5fce6c",
   "metadata": {
    "papermill": {
     "duration": 0.008135,
     "end_time": "2022-08-22T20:29:03.156631",
     "exception": false,
     "start_time": "2022-08-22T20:29:03.148496",
     "status": "completed"
    },
    "tags": []
   },
   "source": [
    "## CLI approach\n",
    "\n",
    "### pySHACL\n",
    "Once you have pySHACL installed it's easy to leverage it directly from the command line.  \n",
    "\n",
    "For command line use:\n",
    "_(these example commandline instructions are for a Linux/Unix based OS)_\n",
    "```bash\n",
    "$ pyshacl -s /path/to/shapesGraph.ttl -m -i rdfs -a -j -f human /path/to/dataGraph.ttl\n",
    "```\n",
    "Where\n",
    " - `-s` is an (optional) path to the shapes graph to use\n",
    " - `-e` is an (optional) path to an extra ontology graph to import\n",
    " - `-i` is the pre-inferencing option\n",
    " - `-f` is the ValidationReport output format (`human` = human-readable validation report)\n",
    " - `-m` enable the meta-shacl feature\n",
    " - `-a` enable SHACL Advanced Features\n",
    " - `-j` enable SHACL-JS Features (if `pyhsacl[js]` is installed)\n",
    "\n",
    "For detailed CLI usage of pySHACL visit [https://github.com/rdflib/pyshacl](https://github.com/rdflib/pyshacl)\n",
    "\n",
    "### REST alternative (tangram.gleaner.io)\n",
    "\n",
    "An instance of pySHACL is exposed at tangram.gleaner.io.   Through this you can use simple web clients to interact with pySHACL, like curl.\n",
    "\n",
    "As example of that follows:\n",
    "\n",
    "```\n",
    "curl -F  'datagraph=@./datagraphs/dataset-minimal-BAD.json-ld'  -F  'shapegraph=@./shapegraphs/googleRecommended.ttl' -F 'format=machine'  https://tangram.gleaner.io/uploader \n",
    "```\n",
    " \n",
    " Here, a data graph and a shape graph are uploaded and processed by pySHACL.  You can set the format to _human_ or _machne_ depending on the result style you need.  The target URL for this at the end of the command.   You can simply visit \n",
    " [https://tangram.gleaner.io](https://tangram.gleaner.io) for usage information too.  "
   ]
  },
  {
   "cell_type": "markdown",
   "id": "30a94006",
   "metadata": {
    "papermill": {
     "duration": 0.003916,
     "end_time": "2022-08-22T20:29:03.166739",
     "exception": false,
     "start_time": "2022-08-22T20:29:03.162823",
     "status": "completed"
    },
    "tags": []
   },
   "source": [
    "## Imports"
   ]
  },
  {
   "cell_type": "code",
   "execution_count": 1,
   "id": "f3c2934c",
   "metadata": {
    "execution": {
     "iopub.execute_input": "2022-08-22T20:29:03.175182Z",
     "iopub.status.busy": "2022-08-22T20:29:03.174457Z",
     "iopub.status.idle": "2022-08-22T20:29:05.341755Z",
     "shell.execute_reply": "2022-08-22T20:29:05.341164Z"
    },
    "papermill": {
     "duration": 2.173237,
     "end_time": "2022-08-22T20:29:05.343362",
     "exception": false,
     "start_time": "2022-08-22T20:29:03.170125",
     "status": "completed"
    },
    "tags": []
   },
   "outputs": [],
   "source": [
    "import warnings\n",
    "warnings.simplefilter(action='ignore', category=FutureWarning)  ## remove pandas future warning\n",
    "\n",
    "from urllib.request import urlopen\n",
    "import kglab\n",
    "from rdflib import Graph, plugin\n",
    "from rdflib.serializer import Serializer\n",
    "import pandas as pd\n",
    "import seaborn as sns\n",
    "from rdflib import Graph  #, plugin\n",
    "import matplotlib.pyplot as plt\n",
    "\n",
    "# pyshack sends output to log along with the vars.  This suppresses that\n",
    "import logging, sys\n",
    "logging.disable(sys.maxsize)\n",
    "\n",
    "import time\n",
    "from datetime import datetime\n",
    "from reportlab.lib.enums import TA_JUSTIFY\n",
    "from reportlab.lib.pagesizes import letter\n",
    "from reportlab.platypus import *\n",
    "from reportlab.lib.styles import getSampleStyleSheet, ParagraphStyle\n",
    "from reportlab.rl_config import defaultPageSize\n",
    "from reportlab.lib.units import inch"
   ]
  },
  {
   "cell_type": "markdown",
   "id": "f1487bfb",
   "metadata": {
    "papermill": {
     "duration": 0.002647,
     "end_time": "2022-08-22T20:29:05.348715",
     "exception": false,
     "start_time": "2022-08-22T20:29:05.346068",
     "status": "completed"
    },
    "tags": []
   },
   "source": [
    "## Graphs\n",
    "\n",
    "There are two graphs involved in each action, the data and shape graph.  The \"data graph\" which will be the graph we are testing and the \"shape graph\" which is the graph containing our validation and constraint logic.  Both of these are RDF based but can be in any serialization.  \n",
    "\n",
    "Here we have used JSON-LD for the data graph, since that is what people are using to publish structured data on the web at their web sites, so lets stick with that.\n",
    "\n",
    "For the shape graph, we use Turtle (.ttl) because it's cleaner, compact and a bit more friendly for human reading.  Since this graph is being built by humans for computers, lets cater to the human in that equation."
   ]
  },
  {
   "cell_type": "code",
   "execution_count": 2,
   "id": "6a7fe0f7",
   "metadata": {
    "execution": {
     "iopub.execute_input": "2022-08-22T20:29:05.358098Z",
     "iopub.status.busy": "2022-08-22T20:29:05.357767Z",
     "iopub.status.idle": "2022-08-22T20:29:05.364020Z",
     "shell.execute_reply": "2022-08-22T20:29:05.363112Z"
    },
    "papermill": {
     "duration": 0.015831,
     "end_time": "2022-08-22T20:29:05.367242",
     "exception": false,
     "start_time": "2022-08-22T20:29:05.351411",
     "status": "completed"
    },
    "tags": []
   },
   "outputs": [],
   "source": [
    "namespaces = {\n",
    "    \"shacl\":   \"http://www.w3.org/ns/shacl#\" ,\n",
    "    }\n",
    "\n",
    "kg = kglab.KnowledgeGraph(\n",
    "    name = \"Schema.org based datagraph\",\n",
    "    base_uri = \"https://example.org/id/\",\n",
    "    namespaces = namespaces,\n",
    "    )"
   ]
  },
  {
   "cell_type": "code",
   "execution_count": 3,
   "id": "3878116d",
   "metadata": {
    "execution": {
     "iopub.execute_input": "2022-08-22T20:29:05.379456Z",
     "iopub.status.busy": "2022-08-22T20:29:05.379061Z",
     "iopub.status.idle": "2022-08-22T20:29:05.384575Z",
     "shell.execute_reply": "2022-08-22T20:29:05.383663Z"
    },
    "papermill": {
     "duration": 0.016136,
     "end_time": "2022-08-22T20:29:05.388166",
     "exception": false,
     "start_time": "2022-08-22T20:29:05.372030",
     "status": "completed"
    },
    "tags": [
     "parameters"
    ]
   },
   "outputs": [],
   "source": [
    "# Paramters (set up for pagemill)\n",
    "# dg = [ \"./datagraphs/full.jsonld\"]  # \"./datagraphs/full.jsonld\",\n",
    "# sg = './shapes/soso_common_v1.2.3.ttl'\n",
    "# dg = [\"https://raw.githubusercontent.com/geoschemas-org/geoshapes/master/datagraphs/dataset-full-BAD.json-ld\"]\n",
    "dg = [\"http://portete.invemar.org.co/chm/api/oih/platformgeo?format=json\"]\n",
    "sgurl =  \"https://raw.githubusercontent.com/iodepo/odis-arch/schema-dev-df/code/notebooks/validation/shapes/oih_search.ttl\"\n",
    "# sgurl = \"https://raw.githubusercontent.com/ESIPFed/science-on-schema.org/226-esip-summer-mtg-2022-tutorial/tutorials/esip-summer-mtg-2022/ShapeGraphs/sosoShapeNoProtoCheck.ttl\"\n",
    "now = datetime.now()\n",
    "date_time = now.strftime(\"%m-%d-%Y-%H-%M-%S\")\n",
    "# runid = str(\"GleanerValidation_{}\".format(date_time))"
   ]
  },
  {
   "cell_type": "code",
   "execution_count": 4,
   "id": "7c0df3df",
   "metadata": {
    "execution": {
     "iopub.execute_input": "2022-08-22T20:29:05.397138Z",
     "iopub.status.busy": "2022-08-22T20:29:05.396842Z",
     "iopub.status.idle": "2022-08-22T20:29:05.400589Z",
     "shell.execute_reply": "2022-08-22T20:29:05.399985Z"
    },
    "papermill": {
     "duration": 0.010158,
     "end_time": "2022-08-22T20:29:05.402498",
     "exception": false,
     "start_time": "2022-08-22T20:29:05.392340",
     "status": "completed"
    },
    "tags": [
     "injected-parameters"
    ]
   },
   "outputs": [],
   "source": [
    "# Parameters\n",
    "dg = [\n",
    "    \"https://raw.githubusercontent.com/geoschemas-org/geoshapes/master/datagraphs/dataset-full-BAD.json-ld\"\n",
    "]\n",
    "sgurl = \"https://raw.githubusercontent.com/ESIPFed/science-on-schema.org/master/validation/shapegraphs/soso_common_v1.2.3.ttl\"\n"
   ]
  },
  {
   "cell_type": "code",
   "execution_count": 5,
   "id": "acc9ce17",
   "metadata": {
    "execution": {
     "iopub.execute_input": "2022-08-22T20:29:05.409582Z",
     "iopub.status.busy": "2022-08-22T20:29:05.409315Z",
     "iopub.status.idle": "2022-08-22T20:29:05.604923Z",
     "shell.execute_reply": "2022-08-22T20:29:05.600857Z"
    },
    "papermill": {
     "duration": 0.206504,
     "end_time": "2022-08-22T20:29:05.611981",
     "exception": false,
     "start_time": "2022-08-22T20:29:05.405477",
     "status": "completed"
    },
    "tags": []
   },
   "outputs": [],
   "source": [
    "sf = urlopen(sgurl)\n",
    "sg = sf.read()"
   ]
  },
  {
   "cell_type": "code",
   "execution_count": 6,
   "id": "2327b62a",
   "metadata": {
    "execution": {
     "iopub.execute_input": "2022-08-22T20:29:05.637114Z",
     "iopub.status.busy": "2022-08-22T20:29:05.636422Z",
     "iopub.status.idle": "2022-08-22T20:29:05.890183Z",
     "shell.execute_reply": "2022-08-22T20:29:05.887697Z"
    },
    "papermill": {
     "duration": 0.270764,
     "end_time": "2022-08-22T20:29:05.893880",
     "exception": false,
     "start_time": "2022-08-22T20:29:05.623116",
     "status": "completed"
    },
    "tags": []
   },
   "outputs": [
    {
     "data": {
      "text/plain": [
       "<kglab.kglab.KnowledgeGraph at 0x7f6100216650>"
      ]
     },
     "execution_count": 6,
     "metadata": {},
     "output_type": "execute_result"
    }
   ],
   "source": [
    "fna = []   # array to hold errors\n",
    "for fn in dg:\n",
    "    try:\n",
    "        g = Graph().parse(fn, format='json-ld')\n",
    "        result = g.serialize(format='ttl')# .decode('utf-8')\n",
    "        kg.load_rdf_text(result)\n",
    "    except:\n",
    "        print(\"An exception occurred with {}\".format(fn))\n",
    "        fna.append(fn)\n",
    "\n",
    "conforms, report_graph, report_text = kg.validate(\n",
    "    shacl_graph=sg,\n",
    "    shacl_graph_format=\"ttl\"\n",
    ")\n",
    "\n",
    "# print(report_text)\n",
    "# print(fna)\n",
    "\n",
    "kg.load_rdf_text(data=report_graph.save_rdf_text(), format=\"ttl\")"
   ]
  },
  {
   "cell_type": "code",
   "execution_count": 7,
   "id": "548fb48e",
   "metadata": {
    "collapsed": false,
    "execution": {
     "iopub.execute_input": "2022-08-22T20:29:05.909220Z",
     "iopub.status.busy": "2022-08-22T20:29:05.907951Z",
     "iopub.status.idle": "2022-08-22T20:29:06.226264Z",
     "shell.execute_reply": "2022-08-22T20:29:06.224896Z"
    },
    "jupyter": {
     "outputs_hidden": false
    },
    "papermill": {
     "duration": 0.329526,
     "end_time": "2022-08-22T20:29:06.228512",
     "exception": false,
     "start_time": "2022-08-22T20:29:05.898986",
     "status": "completed"
    },
    "pycharm": {
     "name": "#%%\n"
    },
    "tags": []
   },
   "outputs": [
    {
     "name": "stdout",
     "output_type": "stream",
     "text": [
      "Checking 1 object(s)\n",
      "severity                                            shacl:Warning\n",
      "message                                                          \n",
      "It is recommended that a Dataset includes a sam...              1\n",
      "It is recommended that a Dataset indicates acce...              1\n"
     ]
    },
    {
     "data": {
      "image/png": "[encoded data removed]",
      "text/plain": [
       "<Figure size 432x288 with 2 Axes>"
      ]
     },
     "metadata": {
      "needs_background": "light"
     },
     "output_type": "display_data"
    }
   ],
   "source": [
    "sparql = \"\"\"\n",
    "SELECT ?path ?value ?constraint ?severity ?message ?id ?focus\n",
    "  WHERE {\n",
    "    ?id rdf:type shacl:ValidationResult .\n",
    "    ?id shacl:focusNode ?focus .\n",
    "    ?id shacl:resultMessage ?message .\n",
    "    ?id shacl:resultSeverity ?severity .\n",
    "    ?id shacl:sourceConstraintComponent ?constraint .\n",
    "    OPTIONAL {\n",
    "        ?id shacl:resultPath ?path .\n",
    "    }\n",
    "    OPTIONAL {\n",
    "        ?id shacl:value ?value .\n",
    "    }\n",
    "  }\n",
    "\"\"\"\n",
    "\n",
    "pdf = kg.query_as_df(sparql)\n",
    "df = pdf   # .to_pandas()  #  including .to_pandas() breaks with papermill for reasons unknown at this time if to_pandas() is used, needed in my kglab conda env\n",
    "\n",
    "if 'severity' in df.columns:\n",
    "    dfc = df.groupby('severity').count().reset_index().rename(columns={'path': 'Count'})\n",
    "    ctst = pd.crosstab(df['message'], df['severity'],  margins = False , margins_name = 'Totals')\n",
    "\n",
    "    s1 = str(\"Checking {} object(s)\".format(len(dg) ))\n",
    "    print(s1)\n",
    "    print(ctst)\n",
    "\n",
    "    sns.set(rc={'figure.figsize':(11.7,8.27)})\n",
    "    sns.heatmap(ctst, annot=True, fmt=\".0f\", cmap = sns.cm.crest)\n",
    "    plt.savefig('./output/heatmap_{}.png'.format(date_time))\n",
    "else:\n",
    "    print(\"No severity column found, all SHACL validations must have passed OR a processing error occurred upstream\")\n"
   ]
  },
  {
   "cell_type": "code",
   "execution_count": 8,
   "id": "3aeb0c26",
   "metadata": {
    "execution": {
     "iopub.execute_input": "2022-08-22T20:29:06.243079Z",
     "iopub.status.busy": "2022-08-22T20:29:06.242633Z",
     "iopub.status.idle": "2022-08-22T20:29:06.289216Z",
     "shell.execute_reply": "2022-08-22T20:29:06.287115Z"
    },
    "papermill": {
     "duration": 0.058377,
     "end_time": "2022-08-22T20:29:06.292186",
     "exception": false,
     "start_time": "2022-08-22T20:29:06.233809",
     "status": "completed"
    },
    "tags": []
   },
   "outputs": [],
   "source": [
    "# build report\n",
    "Story=[]\n",
    "\n",
    "styles = getSampleStyleSheet()\n",
    "HeaderStyle = styles[\"Heading1\"]\n",
    "ParaStyle = styles[\"Normal\"]\n",
    "PreStyle = styles[\"Code\"]\n",
    "\n",
    "def header(txt, style=HeaderStyle, klass=Paragraph, sep=0.3):\n",
    "    s = Spacer(0.2*inch, sep*inch)\n",
    "    para = klass(txt, style)\n",
    "    sect = [s, para]\n",
    "    result = KeepTogether(sect)\n",
    "    return result\n",
    "\n",
    "def pre(txt):\n",
    "    s = Spacer(0.1*inch, 0.1*inch)\n",
    "    p = Preformatted(txt, PreStyle)\n",
    "    precomps = [s,p]\n",
    "    result = KeepTogether(precomps)\n",
    "    return result\n",
    "\n",
    "doc = SimpleDocTemplate(\"./output/report_{}.pdf\".format(date_time),pagesize=letter,\n",
    "                        rightMargin=72,leftMargin=72,\n",
    "                        topMargin=72,bottomMargin=18)\n",
    "\n",
    "logo = './output/heatmap_{}.png'.format(date_time)\n",
    "im = Image(logo, 4*inch, 3*inch)\n",
    "\n",
    "address_parts = [\"RunID: {}\".format(date_time), \"Shape graph: {}\".format(sgurl)]\n",
    "\n",
    "styles=getSampleStyleSheet()\n",
    "styles.add(ParagraphStyle(name='Justify', alignment=TA_JUSTIFY))\n",
    "\n",
    "\n",
    "\n",
    "# Create return address\n",
    "full_name = \"Validation report\"\n",
    "ptext = '%s' % full_name\n",
    "Story.append(Paragraph(ptext, styles[\"Heading1\"]))\n",
    "\n",
    "# add date and time\n",
    "formatted_time = time.ctime()\n",
    "ptext = '%s' % formatted_time\n",
    "Story.append(Paragraph(ptext, styles[\"Normal\"]))\n",
    "Story.append(Spacer(1, 12))\n",
    "\n",
    "for part in address_parts:\n",
    "    ptext = '%s' % part.strip()\n",
    "    Story.append(Paragraph(ptext, styles[\"Normal\"]))\n",
    "\n",
    "Story.append(Spacer(1, 12))\n",
    "ptext = 'There were validation issues with the following resources.  They were not able to be checked'\n",
    "Story.append(Paragraph(ptext, styles[\"Justify\"]))\n",
    "Story.append(Spacer(1, 12))\n",
    "for part in fna:\n",
    "    ptext = '%s' % part.strip()\n",
    "    Story.append(Paragraph(ptext, styles[\"Code\"]))\n",
    "\n",
    "Story.append(Spacer(1, 12))\n",
    "\n",
    "ptext = 'This is a validation report using pySHACL to process the provided data graphs \\\n",
    "        against the noted shape graph.  A heat map of the results is seen below to provide \\\n",
    "        a quick over view.  However, the details are easier to leverage from the generated \\\n",
    "        CSV document that will come with this report. '\n",
    "\n",
    "Story.append(Paragraph(ptext, styles[\"Justify\"]))\n",
    "Story.append(Spacer(1, 12))\n",
    "\n",
    "Story.append(Paragraph(s1, styles[\"Justify\"]))\n",
    "Story.append(Spacer(1, 12))\n",
    "\n",
    "# Story.append(Paragraph(str(ctst), styles[\"Code\"]))\n",
    "# Story.append(Spacer(1, 12))\n",
    "\n",
    "# Add the image\n",
    "Story.append(im)\n",
    "\n",
    "ptext = 'For more information about validation please visit the project documentation.  \\\n",
    "        Details of the errors reported can be found in the shape file documentation page.'\n",
    "Story.append(Paragraph(ptext, styles[\"Justify\"]))\n",
    "\n",
    "# Create return address\n",
    "Story.append(Spacer(1, 12))\n",
    "full_name = \"Details\"\n",
    "ptext = '%s' % full_name\n",
    "Story.append(Paragraph(ptext, styles[\"Heading1\"]))\n",
    "\n",
    "ptext = 'Details of the detected violations and the associated reference node are found in the CSV \\\n",
    "        that accompany this report:  validationReport_{}.csv '.format(date_time)\n",
    "\n",
    "Story.append(Paragraph(ptext, styles[\"Justify\"]))\n",
    "\n",
    "doc.build(Story)\n"
   ]
  },
  {
   "cell_type": "code",
   "execution_count": 9,
   "id": "40e5290e",
   "metadata": {
    "collapsed": false,
    "execution": {
     "iopub.execute_input": "2022-08-22T20:29:06.306925Z",
     "iopub.status.busy": "2022-08-22T20:29:06.306455Z",
     "iopub.status.idle": "2022-08-22T20:29:06.316247Z",
     "shell.execute_reply": "2022-08-22T20:29:06.314671Z"
    },
    "jupyter": {
     "outputs_hidden": false
    },
    "papermill": {
     "duration": 0.02315,
     "end_time": "2022-08-22T20:29:06.320094",
     "exception": false,
     "start_time": "2022-08-22T20:29:06.296944",
     "status": "completed"
    },
    "pycharm": {
     "name": "#%%\n"
    },
    "tags": []
   },
   "outputs": [],
   "source": [
    "df.to_csv(\"./output/validationReport_{}.csv\".format(date_time))"
   ]
  },
  {
   "cell_type": "code",
   "execution_count": null,
   "id": "d3ae3deb",
   "metadata": {
    "papermill": {
     "duration": 0.005109,
     "end_time": "2022-08-22T20:29:06.331006",
     "exception": false,
     "start_time": "2022-08-22T20:29:06.325897",
     "status": "completed"
    },
    "tags": []
   },
   "outputs": [],
   "source": []
  }
 ],
 "metadata": {
  "colab": {
   "collapsed_sections": [
    "4hiBVel8hTry"
   ],
   "name": "pySHACL.ipynb",
   "provenance": []
  },
  "interpreter": {
   "hash": "7a8db6ed8e976d23fd2e6a73e187eaf8286829efb4aa61f09abf75e2f487f948"
  },
  "kernelspec": {
   "display_name": "Python 3 (ipykernel)",
   "language": "python",
   "name": "python3"
  },
  "language_info": {
   "codemirror_mode": {
    "name": "ipython",
    "version": 3
   },
   "file_extension": ".py",
   "mimetype": "text/x-python",
   "name": "python",
   "nbconvert_exporter": "python",
   "pygments_lexer": "ipython3",
   "version": "3.10.6"
  },
  "papermill": {
   "default_parameters": {},
   "duration": 5.601477,
   "end_time": "2022-08-22T20:29:07.265867",
   "environment_variables": {},
   "exception": null,
   "input_path": "../shacl_simple.ipynb",
   "output_path": "output.ipynb",
   "parameters": {
    "dg": [
     "https://raw.githubusercontent.com/geoschemas-org/geoshapes/master/datagraphs/dataset-full-BAD.json-ld"
    ],
    "sgurl": "https://raw.githubusercontent.com/ESIPFed/science-on-schema.org/master/validation/shapegraphs/soso_common_v1.2.3.ttl"
   },
   "start_time": "2022-08-22T20:29:01.664390",
   "version": "2.4.0"
  }
 },
 "nbformat": 4,
 "nbformat_minor": 5
}