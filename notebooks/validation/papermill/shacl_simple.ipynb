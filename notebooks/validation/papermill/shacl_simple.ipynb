{
 "cells": [
  {
   "cell_type": "markdown",
   "metadata": {
    "id": "UXcFWGxldGeZ"
   },
   "source": [
    "# SHACL Simple\n",
    "\n",
    "SHACL validation examples\n",
    "\n",
    "It should be noted here that SHACL validation is not a service OIH offers.  Rather, \n",
    "the validation is a capacity that the OIH architectural approach facilities.  Further\n",
    "this validation follows W3C recommendations as describted in \n",
    "[https://www.w3.org/TR/shacl/](https://www.w3.org/TR/shacl/).\n",
    "\n",
    "* [SHACL Playground](https://shacl.org/playground/)\n",
    "* [pySHACL](https://github.com/rdflib/pyshacl)\n",
    "* [kglab SHACL validation with pySHACL](https://derwen.ai/docs/kgl/ex5_0/)\n"
   ]
  },
  {
   "cell_type": "markdown",
   "metadata": {},
   "source": [
    "## CLI approach\n",
    "\n",
    "### pySHACL\n",
    "Once you have pySHACL installed it's easy to leverage it directly from the command line.  \n",
    "\n",
    "For command line use:\n",
    "_(these example commandline instructions are for a Linux/Unix based OS)_\n",
    "```bash\n",
    "$ pyshacl -s /path/to/shapesGraph.ttl -m -i rdfs -a -j -f human /path/to/dataGraph.ttl\n",
    "```\n",
    "Where\n",
    " - `-s` is an (optional) path to the shapes graph to use\n",
    " - `-e` is an (optional) path to an extra ontology graph to import\n",
    " - `-i` is the pre-inferencing option\n",
    " - `-f` is the ValidationReport output format (`human` = human-readable validation report)\n",
    " - `-m` enable the meta-shacl feature\n",
    " - `-a` enable SHACL Advanced Features\n",
    " - `-j` enable SHACL-JS Features (if `pyhsacl[js]` is installed)\n",
    "\n",
    "For detailed CLI usage of pySHACL visit [https://github.com/rdflib/pyshacl](https://github.com/rdflib/pyshacl)\n",
    "\n",
    "### REST alternative (tangram.gleaner.io)\n",
    "\n",
    "An instance of pySHACL is exposed at tangram.gleaner.io.   Through this you can use simple web clients to interact with pySHACL, like curl.\n",
    "\n",
    "As example of that follows:\n",
    "\n",
    "```\n",
    "curl -F  'datagraph=@./datagraphs/dataset-minimal-BAD.json-ld'  -F  'shapegraph=@./shapegraphs/googleRecommended.ttl' -F 'format=machine'  https://tangram.gleaner.io/uploader \n",
    "```\n",
    " \n",
    " Here, a data graph and a shape graph are uploaded and processed by pySHACL.  You can set the format to _human_ or _machne_ depending on the result style you need.  The target URL for this at the end of the command.   You can simply visit \n",
    " [https://tangram.gleaner.io](https://tangram.gleaner.io) for usage information too.  "
   ]
  },
  {
   "cell_type": "markdown",
   "metadata": {},
   "source": [
    "## Imports"
   ]
  },
  {
   "cell_type": "code",
   "execution_count": 1,
   "metadata": {},
   "outputs": [],
   "source": [
    "import warnings\n",
    "warnings.simplefilter(action='ignore', category=FutureWarning)  ## remove pandas future warning\n",
    "\n",
    "from urllib.request import urlopen\n",
    "import kglab\n",
    "from rdflib import Graph, plugin\n",
    "from rdflib.serializer import Serializer\n",
    "import pandas as pd\n",
    "import seaborn as sns\n",
    "from rdflib import Graph  #, plugin\n",
    "import matplotlib.pyplot as plt\n",
    "\n",
    "import dagstermill as dm\n",
    "\n",
    "# pyshack sends output to log along with the vars.  This suppresses that\n",
    "import logging, sys\n",
    "logging.disable(sys.maxsize)\n",
    "\n",
    "import time\n",
    "from datetime import datetime\n",
    "from reportlab.lib.enums import TA_JUSTIFY\n",
    "from reportlab.lib.pagesizes import letter\n",
    "from reportlab.platypus import *\n",
    "from reportlab.lib.styles import getSampleStyleSheet, ParagraphStyle\n",
    "from reportlab.rl_config import defaultPageSize\n",
    "from reportlab.lib.units import inch"
   ]
  },
  {
   "cell_type": "markdown",
   "metadata": {},
   "source": [
    "## Graphs\n",
    "\n",
    "There are two graphs involved in each action, the data and shape graph.  The \"data graph\" which will be the graph we are testing and the \"shape graph\" which is the graph containing our validation and constraint logic.  Both of these are RDF based but can be in any serialization.  \n",
    "\n",
    "Here we have used JSON-LD for the data graph, since that is what people are using to publish structured data on the web at their web sites, so lets stick with that.\n",
    "\n",
    "For the shape graph, we use Turtle (.ttl) because it's cleaner, compact and a bit more friendly for human reading.  Since this graph is being built by humans for computers, lets cater to the human in that equation."
   ]
  },
  {
   "cell_type": "code",
   "execution_count": 9,
   "metadata": {},
   "outputs": [],
   "source": [
    "namespaces = {\n",
    "    \"shacl\":   \"http://www.w3.org/ns/shacl#\" ,\n",
    "    }\n",
    "\n",
    "kg = kglab.KnowledgeGraph(\n",
    "    name = \"Schema.org based datagraph\",\n",
    "    base_uri = \"https://example.org/id/\",\n",
    "    namespaces = namespaces,\n",
    "    )"
   ]
  },
  {
   "cell_type": "code",
   "execution_count": 10,
   "metadata": {
    "tags": [
     "parameters"
    ]
   },
   "outputs": [],
   "source": [
    "# Paramters (set up for pagemill)\n",
    "# dg = [ \"./datagraphs/full.jsonld\"]  # \"./datagraphs/full.jsonld\",\n",
    "# sg = './shapes/soso_common_v1.2.3.ttl'\n",
    "# dg = [\"https://raw.githubusercontent.com/geoschemas-org/geoshapes/master/datagraphs/dataset-full-BAD.json-ld\"]\n",
    "dg = [\"http://portete.invemar.org.co/chm/api/oih/platformgeo?format=json\"]\n",
    "# sgurl =  \"https://raw.githubusercontent.com/iodepo/odis-arch/schema-dev-df/code/notebooks/validation/shapes/oih_search.ttl\"\n",
    "\n",
    "# sgurl=\"http://news.com\" \n",
    "\n",
    "dm.get_context().log.info(f\"url value is : {sgurl}\")\n",
    "\n",
    "# sgurl = \"https://raw.githubusercontent.com/ESIPFed/science-on-schema.org/226-esip-summer-mtg-2022-tutorial/tutorials/esip-summer-mtg-2022/ShapeGraphs/sosoShapeNoProtoCheck.ttl\"\n",
    "# now = datetime.now()\n",
    "# date_time = now.strftime(\"%m-%d-%Y-%H-%M-%S\")\n",
    "# runid = str(\"GleanerValidation_{}\".format(date_time))"
   ]
  },
  {
   "cell_type": "code",
   "execution_count": null,
   "metadata": {},
   "outputs": [],
   "source": [
    "print(\"sgurl:\" + sgurl)\n"
   ]
  },
  {
   "cell_type": "code",
   "execution_count": 11,
   "metadata": {},
   "outputs": [],
   "source": [
    "# move here to test, but remove and pass the parameters\n",
    "dg = [\"http://portete.invemar.org.co/chm/api/oih/platformgeo?format=json\"]\n",
    "# sgurl =  \"https://raw.githubusercontent.com/iodepo/odis-arch/schema-dev-df/code/notebooks/validation/shapes/oih_search.ttl\"\n",
    "\n",
    "print(\"sgurl:\" + sgurl)\n",
    "\n",
    "now = datetime.now()\n",
    "date_time = now.strftime(\"%m-%d-%Y-%H-%M-%S\")\n",
    "sf = urlopen(sgurl)\n",
    "sg = sf.read()"
   ]
  },
  {
   "cell_type": "code",
   "execution_count": 12,
   "metadata": {},
   "outputs": [
    {
     "data": {
      "text/plain": [
       "<kglab.kglab.KnowledgeGraph at 0x7f083371b430>"
      ]
     },
     "execution_count": 12,
     "metadata": {},
     "output_type": "execute_result"
    }
   ],
   "source": [
    "fna = []   # array to hold errors\n",
    "for fn in dg:\n",
    "    try:\n",
    "        g = Graph().parse(fn, format='json-ld')\n",
    "        result = g.serialize(format='ttl')# .decode('utf-8')\n",
    "        kg.load_rdf_text(result)\n",
    "    except:\n",
    "        print(\"An exception occurred with {}\".format(fn))\n",
    "        fna.append(fn)\n",
    "\n",
    "conforms, report_graph, report_text = kg.validate(\n",
    "    shacl_graph=sg,\n",
    "    shacl_graph_format=\"ttl\"\n",
    ")\n",
    "\n",
    "# print(report_text)\n",
    "# print(fna)\n",
    "\n",
    "kg.load_rdf_text(data=report_graph.save_rdf_text(), format=\"ttl\")"
   ]
  },
  {
   "cell_type": "code",
   "execution_count": 13,
   "metadata": {
    "collapsed": false,
    "jupyter": {
     "outputs_hidden": false
    },
    "pycharm": {
     "name": "#%%\n"
    }
   },
   "outputs": [
    {
     "name": "stdout",
     "output_type": "stream",
     "text": [
      "Checking 1 object(s)\n",
      "severity                                            sh:Violation  sh:Warning\n",
      "message                                                                     \n",
      "Headline is suggested                                          0         339\n",
      "Resource must have a description                               2           0\n",
      "URL required for the location of a page describ...             2           0\n"
     ]
    },
    {
     "data": {
      "image/png": "[encoded data removed]",
      "text/plain": [
       "<Figure size 842.4x595.44 with 2 Axes>"
      ]
     },
     "metadata": {},
     "output_type": "display_data"
    }
   ],
   "source": [
    "sparql = \"\"\"\n",
    "SELECT ?path ?value ?constraint ?severity ?message ?id ?focus\n",
    "  WHERE {\n",
    "    ?id rdf:type shacl:ValidationResult .\n",
    "    ?id shacl:focusNode ?focus .\n",
    "    ?id shacl:resultMessage ?message .\n",
    "    ?id shacl:resultSeverity ?severity .\n",
    "    ?id shacl:sourceConstraintComponent ?constraint .\n",
    "    OPTIONAL {\n",
    "        ?id shacl:resultPath ?path .\n",
    "    }\n",
    "    OPTIONAL {\n",
    "        ?id shacl:value ?value .\n",
    "    }\n",
    "  }\n",
    "\"\"\"\n",
    "\n",
    "pdf = kg.query_as_df(sparql)\n",
    "df = pdf   # .to_pandas()  #  including .to_pandas() breaks with papermill for reasons unknown at this time if to_pandas() is used, needed in my kglab conda env\n",
    "\n",
    "if 'severity' in df.columns:\n",
    "    dfc = df.groupby('severity').count().reset_index().rename(columns={'path': 'Count'})\n",
    "    ctst = pd.crosstab(df['message'], df['severity'],  margins = False , margins_name = 'Totals')\n",
    "\n",
    "    s1 = str(\"Checking {} object(s)\".format(len(dg) ))\n",
    "    print(s1)\n",
    "    print(ctst)\n",
    "\n",
    "    sns.set(rc={'figure.figsize':(11.7,8.27)})\n",
    "    sns.heatmap(ctst, annot=True, fmt=\".0f\", cmap = sns.cm.crest)\n",
    "    plt.savefig('./output/heatmap_{}.png'.format(date_time))\n",
    "else:\n",
    "    print(\"No severity column found, all SHACL validations must have passed OR a processing error occurred upstream\")\n"
   ]
  },
  {
   "cell_type": "code",
   "execution_count": 14,
   "metadata": {},
   "outputs": [],
   "source": [
    "# build report\n",
    "Story=[]\n",
    "\n",
    "styles = getSampleStyleSheet()\n",
    "HeaderStyle = styles[\"Heading1\"]\n",
    "ParaStyle = styles[\"Normal\"]\n",
    "PreStyle = styles[\"Code\"]\n",
    "\n",
    "def header(txt, style=HeaderStyle, klass=Paragraph, sep=0.3):\n",
    "    s = Spacer(0.2*inch, sep*inch)\n",
    "    para = klass(txt, style)\n",
    "    sect = [s, para]\n",
    "    result = KeepTogether(sect)\n",
    "    return result\n",
    "\n",
    "def pre(txt):\n",
    "    s = Spacer(0.1*inch, 0.1*inch)\n",
    "    p = Preformatted(txt, PreStyle)\n",
    "    precomps = [s,p]\n",
    "    result = KeepTogether(precomps)\n",
    "    return result\n",
    "\n",
    "doc = SimpleDocTemplate(\"./output/report_{}.pdf\".format(date_time),pagesize=letter,\n",
    "                        rightMargin=72,leftMargin=72,\n",
    "                        topMargin=72,bottomMargin=18)\n",
    "\n",
    "logo = './output/heatmap_{}.png'.format(date_time)\n",
    "im = Image(logo, 4*inch, 3*inch)\n",
    "\n",
    "address_parts = [\"RunID: {}\".format(date_time), \"Shape graph: {}\".format(sgurl)]\n",
    "\n",
    "styles=getSampleStyleSheet()\n",
    "styles.add(ParagraphStyle(name='Justify', alignment=TA_JUSTIFY))\n",
    "\n",
    "\n",
    "\n",
    "# Create return address\n",
    "full_name = \"Validation report\"\n",
    "ptext = '%s' % full_name\n",
    "Story.append(Paragraph(ptext, styles[\"Heading1\"]))\n",
    "\n",
    "# add date and time\n",
    "formatted_time = time.ctime()\n",
    "ptext = '%s' % formatted_time\n",
    "Story.append(Paragraph(ptext, styles[\"Normal\"]))\n",
    "Story.append(Spacer(1, 12))\n",
    "\n",
    "for part in address_parts:\n",
    "    ptext = '%s' % part.strip()\n",
    "    Story.append(Paragraph(ptext, styles[\"Normal\"]))\n",
    "\n",
    "Story.append(Spacer(1, 12))\n",
    "ptext = 'There were validation issues with the following resources.  They were not able to be checked'\n",
    "Story.append(Paragraph(ptext, styles[\"Justify\"]))\n",
    "Story.append(Spacer(1, 12))\n",
    "for part in fna:\n",
    "    ptext = '%s' % part.strip()\n",
    "    Story.append(Paragraph(ptext, styles[\"Code\"]))\n",
    "\n",
    "Story.append(Spacer(1, 12))\n",
    "\n",
    "ptext = 'This is a validation report using pySHACL to process the provided data graphs \\\n",
    "        against the noted shape graph.  A heat map of the results is seen below to provide \\\n",
    "        a quick over view.  However, the details are easier to leverage from the generated \\\n",
    "        CSV document that will come with this report. '\n",
    "\n",
    "Story.append(Paragraph(ptext, styles[\"Justify\"]))\n",
    "Story.append(Spacer(1, 12))\n",
    "\n",
    "Story.append(Paragraph(s1, styles[\"Justify\"]))\n",
    "Story.append(Spacer(1, 12))\n",
    "\n",
    "# Story.append(Paragraph(str(ctst), styles[\"Code\"]))\n",
    "# Story.append(Spacer(1, 12))\n",
    "\n",
    "# Add the image\n",
    "Story.append(im)\n",
    "\n",
    "ptext = 'For more information about validation please visit the project documentation.  \\\n",
    "        Details of the errors reported can be found in the shape file documentation page.'\n",
    "Story.append(Paragraph(ptext, styles[\"Justify\"]))\n",
    "\n",
    "# Create return address\n",
    "Story.append(Spacer(1, 12))\n",
    "full_name = \"Details\"\n",
    "ptext = '%s' % full_name\n",
    "Story.append(Paragraph(ptext, styles[\"Heading1\"]))\n",
    "\n",
    "ptext = 'Details of the detected violations and the associated reference node are found in the CSV \\\n",
    "        that accompany this report:  validationReport_{}.csv '.format(date_time)\n",
    "\n",
    "Story.append(Paragraph(ptext, styles[\"Justify\"]))\n",
    "\n",
    "doc.build(Story)\n"
   ]
  },
  {
   "cell_type": "code",
   "execution_count": 15,
   "metadata": {
    "collapsed": false,
    "jupyter": {
     "outputs_hidden": false
    },
    "pycharm": {
     "name": "#%%\n"
    }
   },
   "outputs": [],
   "source": [
    "df.to_csv(\"./output/validationReport_{}.csv\".format(date_time))"
   ]
  },
  {
   "cell_type": "code",
   "execution_count": null,
   "metadata": {},
   "outputs": [],
   "source": []
  }
 ],
 "metadata": {
  "colab": {
   "collapsed_sections": [
    "4hiBVel8hTry"
   ],
   "name": "pySHACL.ipynb",
   "provenance": []
  },
  "interpreter": {
   "hash": "7a8db6ed8e976d23fd2e6a73e187eaf8286829efb4aa61f09abf75e2f487f948"
  },
  "kernelspec": {
   "display_name": "Python 3 (ipykernel)",
   "language": "python",
   "name": "python3"
  },
  "language_info": {
   "codemirror_mode": {
    "name": "ipython",
    "version": 3
   },
   "file_extension": ".py",
   "mimetype": "text/x-python",
   "name": "python",
   "nbconvert_exporter": "python",
   "pygments_lexer": "ipython3",
   "version": "3.10.6"
  }
 },
 "nbformat": 4,
 "nbformat_minor": 4
}
