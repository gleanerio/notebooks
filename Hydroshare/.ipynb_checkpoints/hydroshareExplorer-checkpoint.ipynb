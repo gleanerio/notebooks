{
 "cells": [
  {
   "cell_type": "markdown",
   "metadata": {},
   "source": [
    "# Hydroshare Graph Explorer\n",
    "\n",
    "Exploring the hydroshare graph leveraging off the wowk at https://derwen.ai/docs/kgl/ex6_1/\n"
   ]
  },
  {
   "cell_type": "code",
   "execution_count": null,
   "metadata": {},
   "outputs": [],
   "source": [
    "import kglab\n",
    "from os.path import dirname\n",
    "import os\n",
    "import igraph as ig\n",
    "import leidenalg as la\n",
    "from networkx.algorithms import bipartite"
   ]
  },
  {
   "cell_type": "code",
   "execution_count": null,
   "metadata": {},
   "outputs": [],
   "source": [
    "ns = {\n",
    "    \"nom\":  \"http://example.org/#\",\n",
    "    \"schema\" : \"https://schema.org/\",\n",
    "    \"hydroshare\": \"https://www.hydroshare.org/\",\n",
    "    \"skos\": \"http://www.w3.org/2004/02/skos/core#\",\n",
    "    \"rdf\": \"http://www.w3.org/1999/02/22-rdf-syntax-ns#\"\n",
    "}\n",
    "\n",
    "kg = kglab.KnowledgeGraph(\n",
    "    name = \"Hydroshare graph Sept 23rd 2021\",\n",
    "    base_uri = \"https://www.hydroshare.org/\",\n",
    "    namespaces = ns,\n",
    "    use_gpus=False   ## Need to turn off GPU here due to \n",
    ")\n",
    "\n",
    "kg.load_rdf(\"./data/hydroshare_graph.ttl\")"
   ]
  },
  {
   "cell_type": "code",
   "execution_count": null,
   "metadata": {
    "pycharm": {
     "name": "#%%\n"
    }
   },
   "outputs": [],
   "source": [
    "testnamespaces = {\n",
    "    \"nom\":  \"http://example.org/#\",\n",
    "    \"wtm\":  \"http://purl.org/heals/food/\",\n",
    "    \"ind\":  \"http://purl.org/heals/ingredient/\",\n",
    "    \"skos\": \"http://www.w3.org/2004/02/skos/core#\",\n",
    "}\n",
    "\n",
    "testkg = kglab.KnowledgeGraph(\n",
    "    name = \"A recipe KG example based on Food.com\",\n",
    "    base_uri = \"https://www.food.com/recipe/\",\n",
    "    namespaces = testnamespaces,\n",
    "    use_gpus=False\n",
    ")\n",
    "\n",
    "testkg.load_rdf(\"./data/recipes.ttl\") ;"
   ]
  },
  {
   "cell_type": "code",
   "execution_count": null,
   "metadata": {},
   "outputs": [],
   "source": [
    "# ?s rdf:type <https://schema.org/Dataset>  .\n",
    "\n",
    "testsparql = \"\"\"\n",
    "    SELECT ?subject ?object\n",
    "    WHERE {\n",
    "        ?subject rdf:type wtm:Recipe .\n",
    "        ?subject wtm:hasIngredient ?object .\n",
    "    }\n",
    "    \"\"\"\n",
    "\n",
    "sparql = \"\"\"\n",
    "PREFIX rdf: <http://www.w3.org/1999/02/22-rdf-syntax-ns#>\n",
    "\n",
    "SELECT *\n",
    "  WHERE {\n",
    "      ?s ?p ?o \n",
    "  }\n",
    "\"\"\"\n",
    "\n",
    "sparql2 = \"\"\"\n",
    "PREFIX rdf: <http://www.w3.org/1999/02/22-rdf-syntax-ns#>\n",
    "PREFIX schema: <https://schema.org/>\n",
    "\n",
    "SELECT ?subject ?object\n",
    "  WHERE {\n",
    "      ?subject rdf:type schema:Dataset  .\n",
    "      ?subject schema:keywords ?object .\n",
    "  }\n",
    "  LIMIT 14000\n",
    "\"\"\"\n",
    "\n",
    "sparql2v2 = \"\"\"\n",
    "PREFIX rdf: <http://www.w3.org/1999/02/22-rdf-syntax-ns#>\n",
    "PREFIX schema: <https://schema.org/>\n",
    "\n",
    "SELECT ?subject ?object\n",
    "  WHERE {\n",
    "      ?s rdf:type schema:Dataset  .\n",
    "      ?s schema:url ?subject  .\n",
    "      ?s schema:keywords ?object .\n",
    "  }\n",
    "  \"\"\"\n",
    "\n",
    "sparql3 = \"\"\"\n",
    "PREFIX rdf: <http://www.w3.org/1999/02/22-rdf-syntax-ns#>\n",
    "\n",
    "SELECT ?s ?p ?o\n",
    "  WHERE {\n",
    "      BIND (<https://www.hydroshare.org/resource/aefabd0a6d7d47ebaa32e2fb293c9f8a#schemaorg> AS ?s)\n",
    "      ?s ?p ?o\n",
    "  }\n",
    "  \"\"\""
   ]
  },
  {
   "cell_type": "markdown",
   "metadata": {},
   "source": [
    "## What would a plot look like"
   ]
  },
  {
   "cell_type": "code",
   "execution_count": null,
   "metadata": {
    "pycharm": {
     "name": "#%%\n"
    }
   },
   "outputs": [],
   "source": [
    "import igraph as ig \n",
    "\n",
    "subgraph = kglab.SubgraphMatrix(kg, sparql2v2)\n",
    "ig_graph = subgraph.build_ig_graph(ig.Graph())\n",
    "component = ig_graph.components().subgraph(0)\n",
    "partition = la.find_partition(component, la.ModularityVertexPartition)"
   ]
  },
  {
   "cell_type": "code",
   "execution_count": null,
   "metadata": {},
   "outputs": [],
   "source": [
    "ig_graph.vs[0].attributes()\n"
   ]
  },
  {
   "cell_type": "code",
   "execution_count": null,
   "metadata": {
    "pycharm": {
     "is_executing": true,
     "name": "#%%\n"
    }
   },
   "outputs": [],
   "source": [
    "ig.plot(partition, bbox=(600, 500), vertex_label_size=10, margin=50)\n"
   ]
  },
  {
   "cell_type": "markdown",
   "metadata": {},
   "source": [
    "##  Inspiration\n",
    "\n",
    "This is from https://derwen.ai/docs/kgl/ex6_1/"
   ]
  },
  {
   "cell_type": "code",
   "execution_count": null,
   "metadata": {
    "pycharm": {
     "name": "#%%\n"
    }
   },
   "outputs": [],
   "source": [
    "import igraph as ig\n",
    "\n",
    "testsubgraph = kglab.SubgraphMatrix(testkg, testsparql)\n",
    "testig_graph = testsubgraph.build_ig_graph(ig.Graph())\n",
    "\n",
    "# testig_graph.vs[0].attributes()\n",
    "\n",
    "testcomponent = testig_graph.components().subgraph(0)\n",
    "testpartition = la.find_partition(testcomponent, la.ModularityVertexPartition)\n",
    "\n",
    "ig.plot(testpartition, bbox=(600, 500), vertex_label_size=5, margin=50)\n"
   ]
  },
  {
   "cell_type": "markdown",
   "metadata": {},
   "source": [
    "## Review\n",
    "Let's take a look at one our resources to get a feel for the data in a record"
   ]
  },
  {
   "cell_type": "code",
   "execution_count": null,
   "metadata": {
    "pycharm": {
     "name": "#%%\n"
    }
   },
   "outputs": [],
   "source": [
    "dfres = kg.query_as_df(sparql3,  bindings=None, simplify=True, pythonify=False)\n",
    "dfres.head(len(dfres))"
   ]
  },
  {
   "cell_type": "code",
   "execution_count": null,
   "metadata": {
    "scrolled": true
   },
   "outputs": [],
   "source": [
    "import pandas as pd\n",
    "# pd.set_option(\"max_rows\", None)\n",
    "\n",
    "df = kg.query_as_df(sparql2v2,  bindings=None, simplify=True, pythonify=False)\n",
    "df.object = df.object.str.strip('\"')\n",
    "df.head()"
   ]
  },
  {
   "cell_type": "code",
   "execution_count": null,
   "metadata": {
    "pycharm": {
     "name": "#%%\n"
    }
   },
   "outputs": [],
   "source": [
    "df.value_counts(\"object\")"
   ]
  },
  {
   "cell_type": "code",
   "execution_count": null,
   "metadata": {},
   "outputs": [],
   "source": [
    "subgraph = kglab.SubgraphMatrix(kg, sparql2v2)\n",
    "ig_graph = subgraph.build_ig_graph(ig.Graph())"
   ]
  },
  {
   "cell_type": "code",
   "execution_count": null,
   "metadata": {},
   "outputs": [],
   "source": [
    "count = ig_graph.vcount()\n",
    "sample = ig_graph.vs[1000].attributes()\n",
    "\n",
    "print(\"Found {} with a sample looking like {}\".format(count, sample))"
   ]
  },
  {
   "cell_type": "code",
   "execution_count": null,
   "metadata": {},
   "outputs": [],
   "source": [
    "# save out if you want to\n",
    "with open(\"tmp.graphml\", \"w\") as f:\n",
    "    ig_graph.write_graphml(f)"
   ]
  },
  {
   "cell_type": "markdown",
   "metadata": {},
   "source": [
    "## Community detection"
   ]
  },
  {
   "cell_type": "code",
   "execution_count": null,
   "metadata": {},
   "outputs": [],
   "source": [
    "component = ig_graph.components().subgraph(0)\n",
    "partition = la.find_partition(component, la.ModularityVertexPartition)"
   ]
  },
  {
   "cell_type": "code",
   "execution_count": null,
   "metadata": {
    "scrolled": true
   },
   "outputs": [],
   "source": [
    "# do not try..   memory issues\n",
    "ig.plot(partition, bbox=(800, 600), vertex_label_size=8, margin=50)"
   ]
  },
  {
   "cell_type": "markdown",
   "metadata": {},
   "source": [
    "## NetworkX exploring"
   ]
  },
  {
   "cell_type": "code",
   "execution_count": null,
   "metadata": {},
   "outputs": [],
   "source": [
    "import networkx as nx\n",
    "\n",
    "sparql3 = \"\"\"\n",
    "PREFIX rdf: <http://www.w3.org/1999/02/22-rdf-syntax-ns#>\n",
    "SELECT ?subject ?object\n",
    "WHERE { \n",
    "  ?subject a <https://schema.org/Dataset> .\n",
    "  ?subject <https://schema.org/creator> ?creator .\n",
    "  ?creator rdf:first ?o .\n",
    "  ?o <https://schema.org/name> ?object\n",
    "}\n",
    "  \"\"\"\n",
    "\n",
    "subgraph = kglab.SubgraphMatrix(kg, sparql3)\n",
    "nx_graph = subgraph.build_nx_graph(nx.DiGraph(), bipartite=True)"
   ]
  },
  {
   "cell_type": "code",
   "execution_count": null,
   "metadata": {},
   "outputs": [],
   "source": []
  }
 ],
 "metadata": {
  "interpreter": {
   "hash": "7a8db6ed8e976d23fd2e6a73e187eaf8286829efb4aa61f09abf75e2f487f948"
  },
  "kernelspec": {
   "display_name": "Python [conda env:.conda-kglab] *",
   "language": "python",
   "name": "conda-env-.conda-kglab-py"
  },
  "language_info": {
   "codemirror_mode": {
    "name": "ipython",
    "version": 3
   },
   "file_extension": ".py",
   "mimetype": "text/x-python",
   "name": "python",
   "nbconvert_exporter": "python",
   "pygments_lexer": "ipython3",
   "version": "3.8.10"
  }
 },
 "nbformat": 4,
 "nbformat_minor": 2
}
