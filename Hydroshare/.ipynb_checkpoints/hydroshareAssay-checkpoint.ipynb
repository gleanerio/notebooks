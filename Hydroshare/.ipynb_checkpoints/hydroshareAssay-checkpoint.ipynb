{
 "cells": [
  {
   "cell_type": "markdown",
   "metadata": {},
   "source": [
    "# HydroShare  Assay"
   ]
  },
  {
   "cell_type": "markdown",
   "metadata": {},
   "source": [
    "## About\n",
    "\n",
    "This notebooks gives a quick overview of the types and properties in the Hydroshare graph.  It is based on the graph collected by Gleaner driven by the Hydroshare sitemap file.  The resulting graph was loaded into the UFOKN triplestore and additional inspection was done from there.\n",
    "\n",
    "  \n",
    "## Potential activities \n",
    "\n",
    "Some potential future analytics that could be done on this graph are briefly discussed here.  The list is not comprehensive and is a bit speculative on both what data exist to work with and what activities would be valuable.  Some of what follows might be interesting, but not grounded in any real use need.  The community would be far better at leading this.  \n",
    "\n",
    "These are simply presented as points to consider when thinking about leveraging the graph.  \n",
    "\n",
    "### Clustering\n",
    "\n",
    "Classical clustering on object literal analysis.  The graph already present connection based on explicate\n",
    "statements.  Clustering on descriptions or other related object literals could be used to augment these connections.\n",
    "Note that the related resources referenced by the metadata could also be pulled down and leveraged in this clustering. \n",
    "\n",
    "### Page Rank and Centrality\n",
    "\n",
    "Page Rank can be defined as \"the relative importance of each vertex in the graph based on the number of links between the vertices in the graph\".   This is analogous to the classic Google like \"page rank\".   It could expose well connected people, funding sources, keywords, etc.  \n",
    "\n",
    "Centrality is basically a measure of node connection and related closely to pagerank above.  Similarly, this\n",
    "is an approach to expose popular connections points.  \n",
    "\n",
    "### Graph completion\n",
    "\n",
    "Though it would take some more inspection to get a better picture, there does appear to be some interesting areas in the graph for potential graph completion type operations.  \n",
    "\n",
    "For example, the presence of the Person type could be explored to see how many of these express things \n",
    "like ORCID PIDs or similar.  \n",
    "\n",
    "The geospatial elements present could also be used to generate connections to gazetteer collections for example. \n",
    "This could also be augmented with leveraging things like spaCy on the literals to identify geopolitcal entities \n",
    "that could be matched up against KGs like WikiData.   Explicate locations could also be associated with\n",
    "defined lists of spatial entities.  This could be done through simple geospatial contains and intersects \n",
    "relations between resources.  \n",
    "\n",
    "This spaCy/NER approach could be applied to other object literals to find entities that could then linked \n",
    "to WikiData or other KGs.  \n",
    "\n",
    "A variation on this could leverage the connected resource links.  These could be downloaded and run through\n",
    "tools like Apache Tika to extract text to work on.  This includes, again, NER extraction or document clustering\n",
    "to develop additional edges to express back in the graph.\n",
    "\n",
    "### Graph Community\n",
    "\n",
    "Community structure in the graph based on classes or potentially object elements like keywords could also be done.  It's also possible a level of community detection could be automated as well with igraph.  Reference https://arxiv.org/abs/1810.08473 \n",
    "\n",
    "### Footnotes:\n",
    "\n",
    "* Members of the UFOKN team have explored the use of SHACL AF to generate triples based on rules.  Those may be useful in generating the connection triples for spatial or other \n",
    "* Several tools exist for graph completion or graph extension workflows \n",
    "* Members of UFOKN have used ML patterns in data enhancements.  These may have a role to play in integration work as well.  \n",
    "* Leveraging Hydra, VOID, schema.org or CODATA work to allow graphs to express these connection points.  Perhaps also leverage SHACL to define known shapes a source graph has that can then be tested against others graphs to explore connection approaches.  This might follow some basic inference rule running first.  \n",
    "* This work also connects into things like the GoFAIR and CODATA work related to integration as well.  \n",
    "\n",
    "\n",
    "\n"
   ]
  },
  {
   "cell_type": "markdown",
   "metadata": {},
   "source": [
    "# Counts\n",
    "\n",
    "The following Jupyter cells just show some simple type and predicate counts.  These give a simple 0th order view on graph."
   ]
  },
  {
   "cell_type": "markdown",
   "metadata": {},
   "source": [
    "## Setup \n",
    "\n",
    "Imports and functions to support the SPARQL calls and result display"
   ]
  },
  {
   "cell_type": "code",
   "execution_count": 1,
   "metadata": {},
   "outputs": [],
   "source": [
    "# settings and imports\n",
    "from SPARQLWrapper import SPARQLWrapper, JSON\n",
    "import pandas as pd\n",
    "import dask, boto3\n",
    "import dask.dataframe as dd\n",
    "import numpy as np\n",
    "import json\n",
    "import geopandas\n",
    "import matplotlib.pyplot as plt\n",
    "\n",
    "graphdb = \"https://graph.ufokn.org/repositories/hydroshare\""
   ]
  },
  {
   "cell_type": "code",
   "execution_count": 2,
   "metadata": {},
   "outputs": [],
   "source": [
    "#@title\n",
    "def get_sparql_dataframe(service, query):\n",
    "    \"\"\"\n",
    "    Helper function to convert SPARQL results into a Pandas data frame.\n",
    "    \"\"\"\n",
    "    sparql = SPARQLWrapper(service)\n",
    "    sparql.setQuery(query)\n",
    "    sparql.setReturnFormat(JSON)\n",
    "    result = sparql.query()\n",
    "\n",
    "    processed_results = json.load(result.response)\n",
    "    cols = processed_results['head']['vars']\n",
    "\n",
    "    out = []\n",
    "    for row in processed_results['results']['bindings']:\n",
    "        item = []\n",
    "        for c in cols:\n",
    "            item.append(row.get(c, {}).get('value'))\n",
    "        out.append(item)\n",
    "\n",
    "\n",
    "    return pd.DataFrame(out, columns=cols)"
   ]
  },
  {
   "cell_type": "markdown",
   "metadata": {},
   "source": [
    "## Type counts"
   ]
  },
  {
   "cell_type": "code",
   "execution_count": 3,
   "metadata": {},
   "outputs": [],
   "source": [
    "rq_tcount = \"\"\"SELECT ?o (COUNT(?o) as ?oCount)\n",
    "WHERE\n",
    "{\n",
    "  ?s a ?o .\n",
    "}\n",
    "GROUP BY ?o\n",
    "\"\"\""
   ]
  },
  {
   "cell_type": "code",
   "execution_count": 4,
   "metadata": {},
   "outputs": [
    {
     "data": {
      "text/html": [
       "<div>\n",
       "<style scoped>\n",
       "    .dataframe tbody tr th:only-of-type {\n",
       "        vertical-align: middle;\n",
       "    }\n",
       "\n",
       "    .dataframe tbody tr th {\n",
       "        vertical-align: top;\n",
       "    }\n",
       "\n",
       "    .dataframe thead th {\n",
       "        text-align: right;\n",
       "    }\n",
       "</style>\n",
       "<table border=\"1\" class=\"dataframe\">\n",
       "  <thead>\n",
       "    <tr style=\"text-align: right;\">\n",
       "      <th></th>\n",
       "      <th>o</th>\n",
       "      <th>oCount</th>\n",
       "    </tr>\n",
       "  </thead>\n",
       "  <tbody>\n",
       "    <tr>\n",
       "      <th>15</th>\n",
       "      <td>https://schema.org/DataDownload</td>\n",
       "      <td>10586</td>\n",
       "    </tr>\n",
       "    <tr>\n",
       "      <th>13</th>\n",
       "      <td>https://schema.org/Organization</td>\n",
       "      <td>9033</td>\n",
       "    </tr>\n",
       "    <tr>\n",
       "      <th>12</th>\n",
       "      <td>https://schema.org/Person</td>\n",
       "      <td>8988</td>\n",
       "    </tr>\n",
       "    <tr>\n",
       "      <th>11</th>\n",
       "      <td>https://schema.org/Dataset</td>\n",
       "      <td>5293</td>\n",
       "    </tr>\n",
       "    <tr>\n",
       "      <th>17</th>\n",
       "      <td>https://schema.org/CreativeWork</td>\n",
       "      <td>5293</td>\n",
       "    </tr>\n",
       "    <tr>\n",
       "      <th>16</th>\n",
       "      <td>https://schema.org/DataCatalog</td>\n",
       "      <td>5293</td>\n",
       "    </tr>\n",
       "    <tr>\n",
       "      <th>20</th>\n",
       "      <td>https://schema.org/Place</td>\n",
       "      <td>3344</td>\n",
       "    </tr>\n",
       "    <tr>\n",
       "      <th>21</th>\n",
       "      <td>https://schema.org/GeoShape</td>\n",
       "      <td>2757</td>\n",
       "    </tr>\n",
       "    <tr>\n",
       "      <th>10</th>\n",
       "      <td>https://schema.org/PropertyValue</td>\n",
       "      <td>1468</td>\n",
       "    </tr>\n",
       "    <tr>\n",
       "      <th>14</th>\n",
       "      <td>https://schema.org/PostalAddress</td>\n",
       "      <td>1100</td>\n",
       "    </tr>\n",
       "    <tr>\n",
       "      <th>22</th>\n",
       "      <td>https://schema.org/GeoCoordinates</td>\n",
       "      <td>587</td>\n",
       "    </tr>\n",
       "    <tr>\n",
       "      <th>0</th>\n",
       "      <td>http://www.w3.org/1999/02/22-rdf-syntax-ns#Pro...</td>\n",
       "      <td>85</td>\n",
       "    </tr>\n",
       "  </tbody>\n",
       "</table>\n",
       "</div>"
      ],
      "text/plain": [
       "                                                    o  oCount\n",
       "15                    https://schema.org/DataDownload   10586\n",
       "13                    https://schema.org/Organization    9033\n",
       "12                          https://schema.org/Person    8988\n",
       "11                         https://schema.org/Dataset    5293\n",
       "17                    https://schema.org/CreativeWork    5293\n",
       "16                     https://schema.org/DataCatalog    5293\n",
       "20                           https://schema.org/Place    3344\n",
       "21                        https://schema.org/GeoShape    2757\n",
       "10                   https://schema.org/PropertyValue    1468\n",
       "14                   https://schema.org/PostalAddress    1100\n",
       "22                  https://schema.org/GeoCoordinates     587\n",
       "0   http://www.w3.org/1999/02/22-rdf-syntax-ns#Pro...      85"
      ]
     },
     "execution_count": 4,
     "metadata": {},
     "output_type": "execute_result"
    }
   ],
   "source": [
    "dft = get_sparql_dataframe(graphdb, rq_tcount)\n",
    "dft['oCount'] = dft[\"oCount\"].astype(int) # convert count to int\n",
    "# dfc.set_index('p', inplace=True)\n",
    "dft_sorted = dft.sort_values('oCount', ascending=False)\n",
    "dft_sorted.head(12)"
   ]
  },
  {
   "cell_type": "code",
   "execution_count": 5,
   "metadata": {},
   "outputs": [
    {
     "data": {
      "image/png": "[encoded data removed]",
      "text/plain": [
       "<Figure size 720x720 with 1 Axes>"
      ]
     },
     "metadata": {},
     "output_type": "display_data"
    }
   ],
   "source": [
    "ht = dft_sorted.head(12)\n",
    "ht.set_index('o', inplace=True)\n",
    "plot = ht.plot.pie(y='oCount',x='o',legend=False, figsize=(10, 10))"
   ]
  },
  {
   "cell_type": "markdown",
   "metadata": {},
   "source": [
    "## Simple property counts"
   ]
  },
  {
   "cell_type": "code",
   "execution_count": 6,
   "metadata": {},
   "outputs": [],
   "source": [
    "rq_pcount = \"\"\"SELECT ?p (COUNT(?p) as ?pCount)\n",
    "WHERE\n",
    "{\n",
    "  ?s ?p ?o .\n",
    "}\n",
    "GROUP BY ?p\n",
    "\"\"\""
   ]
  },
  {
   "cell_type": "code",
   "execution_count": 7,
   "metadata": {},
   "outputs": [
    {
     "data": {
      "text/html": [
       "<div>\n",
       "<style scoped>\n",
       "    .dataframe tbody tr th:only-of-type {\n",
       "        vertical-align: middle;\n",
       "    }\n",
       "\n",
       "    .dataframe tbody tr th {\n",
       "        vertical-align: top;\n",
       "    }\n",
       "\n",
       "    .dataframe thead th {\n",
       "        text-align: right;\n",
       "    }\n",
       "</style>\n",
       "<table border=\"1\" class=\"dataframe\">\n",
       "  <thead>\n",
       "    <tr style=\"text-align: right;\">\n",
       "      <th></th>\n",
       "      <th>p</th>\n",
       "      <th>pCount</th>\n",
       "    </tr>\n",
       "  </thead>\n",
       "  <tbody>\n",
       "    <tr>\n",
       "      <th>0</th>\n",
       "      <td>http://www.w3.org/1999/02/22-rdf-syntax-ns#type</td>\n",
       "      <td>53869</td>\n",
       "    </tr>\n",
       "    <tr>\n",
       "      <th>30</th>\n",
       "      <td>https://schema.org/name</td>\n",
       "      <td>35491</td>\n",
       "    </tr>\n",
       "    <tr>\n",
       "      <th>24</th>\n",
       "      <td>https://schema.org/url</td>\n",
       "      <td>31227</td>\n",
       "    </tr>\n",
       "    <tr>\n",
       "      <th>46</th>\n",
       "      <td>https://schema.org/keywords</td>\n",
       "      <td>25942</td>\n",
       "    </tr>\n",
       "    <tr>\n",
       "      <th>37</th>\n",
       "      <td>https://schema.org/description</td>\n",
       "      <td>15879</td>\n",
       "    </tr>\n",
       "    <tr>\n",
       "      <th>42</th>\n",
       "      <td>https://schema.org/identifier</td>\n",
       "      <td>12788</td>\n",
       "    </tr>\n",
       "    <tr>\n",
       "      <th>35</th>\n",
       "      <td>https://schema.org/dateModified</td>\n",
       "      <td>10586</td>\n",
       "    </tr>\n",
       "    <tr>\n",
       "      <th>41</th>\n",
       "      <td>https://schema.org/encodingFormat</td>\n",
       "      <td>10586</td>\n",
       "    </tr>\n",
       "    <tr>\n",
       "      <th>8</th>\n",
       "      <td>http://www.w3.org/1999/02/22-rdf-syntax-ns#rest</td>\n",
       "      <td>9318</td>\n",
       "    </tr>\n",
       "    <tr>\n",
       "      <th>7</th>\n",
       "      <td>http://www.w3.org/1999/02/22-rdf-syntax-ns#first</td>\n",
       "      <td>9318</td>\n",
       "    </tr>\n",
       "    <tr>\n",
       "      <th>26</th>\n",
       "      <td>https://schema.org/additionalType</td>\n",
       "      <td>6761</td>\n",
       "    </tr>\n",
       "    <tr>\n",
       "      <th>31</th>\n",
       "      <td>https://schema.org/email</td>\n",
       "      <td>6594</td>\n",
       "    </tr>\n",
       "    <tr>\n",
       "      <th>29</th>\n",
       "      <td>https://schema.org/affiliation</td>\n",
       "      <td>6558</td>\n",
       "    </tr>\n",
       "    <tr>\n",
       "      <th>44</th>\n",
       "      <td>https://schema.org/includedInDataCatalog</td>\n",
       "      <td>5293</td>\n",
       "    </tr>\n",
       "    <tr>\n",
       "      <th>43</th>\n",
       "      <td>https://schema.org/inLanguage</td>\n",
       "      <td>5293</td>\n",
       "    </tr>\n",
       "    <tr>\n",
       "      <th>47</th>\n",
       "      <td>https://schema.org/license</td>\n",
       "      <td>5293</td>\n",
       "    </tr>\n",
       "    <tr>\n",
       "      <th>39</th>\n",
       "      <td>https://schema.org/contentSize</td>\n",
       "      <td>5293</td>\n",
       "    </tr>\n",
       "    <tr>\n",
       "      <th>38</th>\n",
       "      <td>https://schema.org/distribution</td>\n",
       "      <td>5293</td>\n",
       "    </tr>\n",
       "    <tr>\n",
       "      <th>48</th>\n",
       "      <td>https://schema.org/text</td>\n",
       "      <td>5293</td>\n",
       "    </tr>\n",
       "    <tr>\n",
       "      <th>49</th>\n",
       "      <td>https://schema.org/provider</td>\n",
       "      <td>5293</td>\n",
       "    </tr>\n",
       "    <tr>\n",
       "      <th>34</th>\n",
       "      <td>https://schema.org/dateCreated</td>\n",
       "      <td>5293</td>\n",
       "    </tr>\n",
       "    <tr>\n",
       "      <th>52</th>\n",
       "      <td>https://schema.org/subjectOf</td>\n",
       "      <td>5293</td>\n",
       "    </tr>\n",
       "    <tr>\n",
       "      <th>28</th>\n",
       "      <td>https://schema.org/creator</td>\n",
       "      <td>5293</td>\n",
       "    </tr>\n",
       "    <tr>\n",
       "      <th>27</th>\n",
       "      <td>https://schema.org/creativeWorkStatus</td>\n",
       "      <td>5293</td>\n",
       "    </tr>\n",
       "    <tr>\n",
       "      <th>40</th>\n",
       "      <td>https://schema.org/contentUrl</td>\n",
       "      <td>5293</td>\n",
       "    </tr>\n",
       "    <tr>\n",
       "      <th>45</th>\n",
       "      <td>https://schema.org/isAccessibleForFree</td>\n",
       "      <td>4554</td>\n",
       "    </tr>\n",
       "    <tr>\n",
       "      <th>53</th>\n",
       "      <td>https://schema.org/spatialCoverage</td>\n",
       "      <td>3344</td>\n",
       "    </tr>\n",
       "    <tr>\n",
       "      <th>54</th>\n",
       "      <td>https://schema.org/geo</td>\n",
       "      <td>3344</td>\n",
       "    </tr>\n",
       "    <tr>\n",
       "      <th>55</th>\n",
       "      <td>https://schema.org/box</td>\n",
       "      <td>2757</td>\n",
       "    </tr>\n",
       "    <tr>\n",
       "      <th>57</th>\n",
       "      <td>https://schema.org/citation</td>\n",
       "      <td>2377</td>\n",
       "    </tr>\n",
       "  </tbody>\n",
       "</table>\n",
       "</div>"
      ],
      "text/plain": [
       "                                                   p  pCount\n",
       "0    http://www.w3.org/1999/02/22-rdf-syntax-ns#type   53869\n",
       "30                           https://schema.org/name   35491\n",
       "24                            https://schema.org/url   31227\n",
       "46                       https://schema.org/keywords   25942\n",
       "37                    https://schema.org/description   15879\n",
       "42                     https://schema.org/identifier   12788\n",
       "35                   https://schema.org/dateModified   10586\n",
       "41                 https://schema.org/encodingFormat   10586\n",
       "8    http://www.w3.org/1999/02/22-rdf-syntax-ns#rest    9318\n",
       "7   http://www.w3.org/1999/02/22-rdf-syntax-ns#first    9318\n",
       "26                 https://schema.org/additionalType    6761\n",
       "31                          https://schema.org/email    6594\n",
       "29                    https://schema.org/affiliation    6558\n",
       "44          https://schema.org/includedInDataCatalog    5293\n",
       "43                     https://schema.org/inLanguage    5293\n",
       "47                        https://schema.org/license    5293\n",
       "39                    https://schema.org/contentSize    5293\n",
       "38                   https://schema.org/distribution    5293\n",
       "48                           https://schema.org/text    5293\n",
       "49                       https://schema.org/provider    5293\n",
       "34                    https://schema.org/dateCreated    5293\n",
       "52                      https://schema.org/subjectOf    5293\n",
       "28                        https://schema.org/creator    5293\n",
       "27             https://schema.org/creativeWorkStatus    5293\n",
       "40                     https://schema.org/contentUrl    5293\n",
       "45            https://schema.org/isAccessibleForFree    4554\n",
       "53                https://schema.org/spatialCoverage    3344\n",
       "54                            https://schema.org/geo    3344\n",
       "55                            https://schema.org/box    2757\n",
       "57                       https://schema.org/citation    2377"
      ]
     },
     "execution_count": 7,
     "metadata": {},
     "output_type": "execute_result"
    }
   ],
   "source": [
    "dfc = get_sparql_dataframe(graphdb, rq_pcount)\n",
    "dfc['pCount'] = dfc[\"pCount\"].astype(int) # convert count to int\n",
    "# dfc.set_index('p', inplace=True)\n",
    "dfc_sorted = dfc.sort_values('pCount', ascending=False)\n",
    "dfc_sorted.head(30)"
   ]
  },
  {
   "cell_type": "code",
   "execution_count": 8,
   "metadata": {},
   "outputs": [
    {
     "data": {
      "text/plain": [
       "(80, 2)"
      ]
     },
     "execution_count": 8,
     "metadata": {},
     "output_type": "execute_result"
    }
   ],
   "source": [
    "dfc_sorted.shape"
   ]
  },
  {
   "cell_type": "code",
   "execution_count": 9,
   "metadata": {},
   "outputs": [
    {
     "name": "stderr",
     "output_type": "stream",
     "text": [
      "/home/fils/.conda/envs/kglab/lib/python3.8/site-packages/pandas/core/indexing.py:723: SettingWithCopyWarning: \n",
      "A value is trying to be set on a copy of a slice from a DataFrame\n",
      "\n",
      "See the caveats in the documentation: https://pandas.pydata.org/pandas-docs/stable/user_guide/indexing.html#returning-a-view-versus-a-copy\n",
      "  iloc._setitem_with_indexer(indexer, value, self.name)\n"
     ]
    },
    {
     "data": {
      "text/html": [
       "<div>\n",
       "<style scoped>\n",
       "    .dataframe tbody tr th:only-of-type {\n",
       "        vertical-align: middle;\n",
       "    }\n",
       "\n",
       "    .dataframe tbody tr th {\n",
       "        vertical-align: top;\n",
       "    }\n",
       "\n",
       "    .dataframe thead th {\n",
       "        text-align: right;\n",
       "    }\n",
       "</style>\n",
       "<table border=\"1\" class=\"dataframe\">\n",
       "  <thead>\n",
       "    <tr style=\"text-align: right;\">\n",
       "      <th></th>\n",
       "      <th>pCount</th>\n",
       "    </tr>\n",
       "    <tr>\n",
       "      <th>p</th>\n",
       "      <th></th>\n",
       "    </tr>\n",
       "  </thead>\n",
       "  <tbody>\n",
       "    <tr>\n",
       "      <th>http://www.w3.org/1999/02/22-rdf-syntax-ns#type</th>\n",
       "      <td>53869</td>\n",
       "    </tr>\n",
       "    <tr>\n",
       "      <th>https://schema.org/name</th>\n",
       "      <td>35491</td>\n",
       "    </tr>\n",
       "    <tr>\n",
       "      <th>https://schema.org/url</th>\n",
       "      <td>31227</td>\n",
       "    </tr>\n",
       "    <tr>\n",
       "      <th>https://schema.org/keywords</th>\n",
       "      <td>25942</td>\n",
       "    </tr>\n",
       "    <tr>\n",
       "      <th>https://schema.org/description</th>\n",
       "      <td>15879</td>\n",
       "    </tr>\n",
       "    <tr>\n",
       "      <th>https://schema.org/identifier</th>\n",
       "      <td>12788</td>\n",
       "    </tr>\n",
       "    <tr>\n",
       "      <th>https://schema.org/dateModified</th>\n",
       "      <td>10586</td>\n",
       "    </tr>\n",
       "    <tr>\n",
       "      <th>https://schema.org/encodingFormat</th>\n",
       "      <td>10586</td>\n",
       "    </tr>\n",
       "    <tr>\n",
       "      <th>http://www.w3.org/1999/02/22-rdf-syntax-ns#rest</th>\n",
       "      <td>9318</td>\n",
       "    </tr>\n",
       "    <tr>\n",
       "      <th>Other</th>\n",
       "      <td>121422</td>\n",
       "    </tr>\n",
       "  </tbody>\n",
       "</table>\n",
       "</div>"
      ],
      "text/plain": [
       "                                                 pCount\n",
       "p                                                      \n",
       "http://www.w3.org/1999/02/22-rdf-syntax-ns#type   53869\n",
       "https://schema.org/name                           35491\n",
       "https://schema.org/url                            31227\n",
       "https://schema.org/keywords                       25942\n",
       "https://schema.org/description                    15879\n",
       "https://schema.org/identifier                     12788\n",
       "https://schema.org/dateModified                   10586\n",
       "https://schema.org/encodingFormat                 10586\n",
       "http://www.w3.org/1999/02/22-rdf-syntax-ns#rest    9318\n",
       "Other                                            121422"
      ]
     },
     "execution_count": 9,
     "metadata": {},
     "output_type": "execute_result"
    }
   ],
   "source": [
    "ts = dfc_sorted.tail(71)['pCount'].sum()\n",
    "hs = dfc_sorted.head(9)\n",
    "hs.loc[len(hs.index)] = ['Other', ts] \n",
    "hs.set_index('p', inplace=True)\n",
    "hs.head(15)"
   ]
  },
  {
   "cell_type": "code",
   "execution_count": 10,
   "metadata": {},
   "outputs": [
    {
     "data": {
      "image/png": "[encoded data removed]",
      "text/plain": [
       "<Figure size 720x720 with 1 Axes>"
      ]
     },
     "metadata": {},
     "output_type": "display_data"
    }
   ],
   "source": [
    "plot = hs.plot.pie(y='pCount',x='p',legend=False, figsize=(10, 10))"
   ]
  },
  {
   "cell_type": "markdown",
   "metadata": {},
   "source": [
    "## PyTextRank"
   ]
  },
  {
   "cell_type": "code",
   "execution_count": 11,
   "metadata": {},
   "outputs": [
    {
     "name": "stdout",
     "output_type": "stream",
     "text": [
      "mixed types\n",
      "0.18359439311764025 1\n",
      "[mixed types]\n",
      "------------------------------------------\n",
      "systems\n",
      "0.1784796193107821 3\n",
      "[systems, systems, systems]\n",
      "------------------------------------------\n",
      "minimal generating sets\n",
      "0.15037838042245094 1\n",
      "[minimal generating sets]\n",
      "------------------------------------------\n",
      "nonstrict inequations\n",
      "0.14740065982407313 1\n",
      "[nonstrict inequations]\n",
      "------------------------------------------\n",
      "strict inequations\n",
      "0.13946027725597837 1\n",
      "[strict inequations]\n",
      "------------------------------------------\n",
      "linear Diophantine equations\n",
      "0.1195023546245721 1\n",
      "[linear Diophantine equations]\n",
      "------------------------------------------\n",
      "natural numbers\n",
      "0.11450088293222845 1\n",
      "[natural numbers]\n",
      "------------------------------------------\n",
      "solutions\n",
      "0.10780718173686318 3\n",
      "[solutions, solutions, solutions]\n",
      "------------------------------------------\n",
      "linear constraints\n",
      "0.10529828014583348 1\n",
      "[linear constraints]\n",
      "------------------------------------------\n",
      "all the considered types systems\n",
      "0.1036960590708142 1\n",
      "[all the considered types systems]\n",
      "------------------------------------------\n",
      "a minimal supporting set\n",
      "0.08812713074893187 1\n",
      "[a minimal supporting set]\n",
      "------------------------------------------\n",
      "a system\n",
      "0.08243620500315359 1\n",
      "[a system]\n",
      "------------------------------------------\n",
      "a minimal set\n",
      "0.07944607954086784 1\n",
      "[a minimal set]\n",
      "------------------------------------------\n",
      "algorithms\n",
      "0.0763527926213032 1\n",
      "[algorithms]\n",
      "------------------------------------------\n",
      "all types\n",
      "0.07593126037016427 1\n",
      "[all types]\n",
      "------------------------------------------\n",
      "Diophantine\n",
      "0.07309361902551355 1\n",
      "[Diophantine]\n",
      "------------------------------------------\n",
      "construction\n",
      "0.0702090100898443 1\n",
      "[construction]\n",
      "------------------------------------------\n",
      "the set\n",
      "0.05800111772673988 1\n",
      "[the set]\n",
      "------------------------------------------\n",
      "components\n",
      "0.054251394765316464 1\n",
      "[components]\n",
      "------------------------------------------\n",
      "Compatibility\n",
      "0.04516904342912139 1\n",
      "[Compatibility]\n",
      "------------------------------------------\n",
      "compatibility\n",
      "0.04516904342912139 1\n",
      "[compatibility]\n",
      "------------------------------------------\n",
      "the corresponding algorithms\n",
      "0.04435648606848154 1\n",
      "[the corresponding algorithms]\n",
      "------------------------------------------\n",
      "Criteria\n",
      "0.042273783712246285 1\n",
      "[Criteria]\n",
      "------------------------------------------\n",
      "These criteria\n",
      "0.01952542432474353 1\n",
      "[These criteria]\n",
      "------------------------------------------\n"
     ]
    }
   ],
   "source": [
    "import spacy\n",
    "import pytextrank\n",
    "\n",
    "# example text\n",
    "text = \"Compatibility of systems of linear constraints over the set of natural numbers. Criteria of compatibility of a system of linear Diophantine equations, strict inequations, and nonstrict inequations are considered. Upper bounds for components of a minimal set of solutions and algorithms of construction of minimal generating sets of solutions for all types of systems are given. These criteria and the corresponding algorithms for constructing a minimal supporting set of solutions can be used in solving all the considered types systems and systems of mixed types.\"\n",
    "\n",
    "# load a spaCy model, depending on language, scale, etc.\n",
    "nlp = spacy.load(\"en_core_web_sm\")\n",
    "\n",
    "# add PyTextRank to the spaCy pipeline\n",
    "nlp.add_pipe(\"textrank\")\n",
    "doc = nlp(text)\n",
    "\n",
    "# examine the top-ranked phrases in the document\n",
    "for phrase in doc._.phrases:\n",
    "    print(phrase.text)\n",
    "    print(phrase.rank, phrase.count)\n",
    "    print(phrase.chunks)\n",
    "    print(\"------------------------------------------\")\n"
   ]
  },
  {
   "cell_type": "markdown",
   "metadata": {},
   "source": [
    "## KG Extension"
   ]
  },
  {
   "cell_type": "code",
   "execution_count": 12,
   "metadata": {},
   "outputs": [],
   "source": [
    "from kgextension import __agent__\n",
    "from kgextension.endpoints import WikiData\n",
    "from kgextension.linking import pattern_linker\n",
    "from kgextension.link_exploration import link_explorer\n",
    "\n",
    "\n",
    "WikiData.agent = \"CoolToolName/0.0 (https://example.org/cool-tool/; cool-tool@example.org) \"+__agent__\n"
   ]
  },
  {
   "cell_type": "code",
   "execution_count": 13,
   "metadata": {},
   "outputs": [],
   "source": [
    "import pandas as pd\n",
    "\n",
    "df = pd.DataFrame({\n",
    "    'author': ['Stephen King', 'Joanne Rowling', 'Doug Fils Brown']\n",
    "})"
   ]
  },
  {
   "cell_type": "code",
   "execution_count": 14,
   "metadata": {},
   "outputs": [
    {
     "name": "stdout",
     "output_type": "stream",
     "text": [
      "Pattern Linker - Generating URIs\n"
     ]
    }
   ],
   "source": [
    "from kgextension.endpoints import WikiData\n",
    "\n",
    "df_pattern_linked = pattern_linker(\n",
    "    df, column='author', new_attribute_name=\"new_link\",\n",
    "    base_url=\"http://dbpedia.org/resource/\", url_encoding=True,\n",
    "    DBpedia_link_format=True\n",
    ")"
   ]
  },
  {
   "cell_type": "code",
   "execution_count": 15,
   "metadata": {},
   "outputs": [
    {
     "data": {
      "text/html": [
       "<div>\n",
       "<style scoped>\n",
       "    .dataframe tbody tr th:only-of-type {\n",
       "        vertical-align: middle;\n",
       "    }\n",
       "\n",
       "    .dataframe tbody tr th {\n",
       "        vertical-align: top;\n",
       "    }\n",
       "\n",
       "    .dataframe thead th {\n",
       "        text-align: right;\n",
       "    }\n",
       "</style>\n",
       "<table border=\"1\" class=\"dataframe\">\n",
       "  <thead>\n",
       "    <tr style=\"text-align: right;\">\n",
       "      <th></th>\n",
       "      <th>author</th>\n",
       "      <th>new_link</th>\n",
       "    </tr>\n",
       "  </thead>\n",
       "  <tbody>\n",
       "    <tr>\n",
       "      <th>0</th>\n",
       "      <td>Stephen King</td>\n",
       "      <td>http://dbpedia.org/resource/Stephen_King</td>\n",
       "    </tr>\n",
       "    <tr>\n",
       "      <th>1</th>\n",
       "      <td>Joanne Rowling</td>\n",
       "      <td>http://dbpedia.org/resource/Joanne_Rowling</td>\n",
       "    </tr>\n",
       "    <tr>\n",
       "      <th>2</th>\n",
       "      <td>Doug Fils Brown</td>\n",
       "      <td>http://dbpedia.org/resource/Doug_Fils_Brown</td>\n",
       "    </tr>\n",
       "  </tbody>\n",
       "</table>\n",
       "</div>"
      ],
      "text/plain": [
       "            author                                     new_link\n",
       "0     Stephen King     http://dbpedia.org/resource/Stephen_King\n",
       "1   Joanne Rowling   http://dbpedia.org/resource/Joanne_Rowling\n",
       "2  Doug Fils Brown  http://dbpedia.org/resource/Doug_Fils_Brown"
      ]
     },
     "execution_count": 15,
     "metadata": {},
     "output_type": "execute_result"
    }
   ],
   "source": [
    "df_pattern_linked.head()"
   ]
  },
  {
   "cell_type": "markdown",
   "metadata": {},
   "source": [
    "### link exploration"
   ]
  },
  {
   "cell_type": "code",
   "execution_count": 16,
   "metadata": {},
   "outputs": [
    {
     "data": {
      "text/html": [
       "<div>\n",
       "<style scoped>\n",
       "    .dataframe tbody tr th:only-of-type {\n",
       "        vertical-align: middle;\n",
       "    }\n",
       "\n",
       "    .dataframe tbody tr th {\n",
       "        vertical-align: top;\n",
       "    }\n",
       "\n",
       "    .dataframe thead th {\n",
       "        text-align: right;\n",
       "    }\n",
       "</style>\n",
       "<table border=\"1\" class=\"dataframe\">\n",
       "  <thead>\n",
       "    <tr style=\"text-align: right;\">\n",
       "      <th></th>\n",
       "      <th>city</th>\n",
       "      <th>uri</th>\n",
       "    </tr>\n",
       "  </thead>\n",
       "  <tbody>\n",
       "    <tr>\n",
       "      <th>0</th>\n",
       "      <td>Berlin</td>\n",
       "      <td>http://dbpedia.org/resource/Berlin</td>\n",
       "    </tr>\n",
       "  </tbody>\n",
       "</table>\n",
       "</div>"
      ],
      "text/plain": [
       "     city                                 uri\n",
       "0  Berlin  http://dbpedia.org/resource/Berlin"
      ]
     },
     "execution_count": 16,
     "metadata": {},
     "output_type": "execute_result"
    }
   ],
   "source": [
    "df2 = pd.DataFrame({\n",
    "    'city': ['Berlin'], 'uri': ['http://dbpedia.org/resource/Berlin']\n",
    "})\n",
    "\n",
    "df2.head()"
   ]
  },
  {
   "cell_type": "code",
   "execution_count": null,
   "metadata": {},
   "outputs": [],
   "source": [
    "# https://kgextension.readthedocs.io/en/latest/source/usage_link_exploration.html \n",
    "\n",
    "df_link_explored = link_explorer(\n",
    "    df2, base_link_column='uri', number_of_hops = 2,\n",
    "        links_to_follow=[\"owl:sameAs\",\"rdfs:seeAlso\"]\n",
    ")"
   ]
  },
  {
   "cell_type": "code",
   "execution_count": null,
   "metadata": {},
   "outputs": [],
   "source": []
  },
  {
   "cell_type": "code",
   "execution_count": null,
   "metadata": {},
   "outputs": [],
   "source": []
  }
 ],
 "metadata": {
  "authors": [
   {
    "name": "Doug Fils"
   },
   {
    "name": "Tom Narock"
   },
   {
    "name": "Adam Shepherd"
   }
  ],
  "institution": [
   "Urban Flooding Open Knowledge Network (UFOKN)"
  ],
  "interpreter": {
   "hash": "7a8db6ed8e976d23fd2e6a73e187eaf8286829efb4aa61f09abf75e2f487f948"
  },
  "kernelspec": {
   "display_name": "Python 3",
   "language": "python",
   "name": "python3"
  },
  "language_info": {
   "codemirror_mode": {
    "name": "ipython",
    "version": 3
   },
   "file_extension": ".py",
   "mimetype": "text/x-python",
   "name": "python",
   "nbconvert_exporter": "python",
   "pygments_lexer": "ipython3",
   "version": "3.8.10"
  },
  "subtitle": "A review for connections with UFOKN",
  "title": "The HydroShare schema.org Graph"
 },
 "nbformat": 4,
 "nbformat_minor": 4
}
