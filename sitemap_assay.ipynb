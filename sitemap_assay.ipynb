{
 "cells": [
  {
   "cell_type": "markdown",
   "id": "51aacee9",
   "metadata": {},
   "source": [
    "# Sitemap Assay\n",
    "\n",
    "A playground for seeing how we can eval sitemaps up front.\n",
    "\n",
    "Doesn't actually do anything yet that would do that.  ;) \n",
    "\n",
    "References:\n",
    "* [AdvTools](https://advertools.readthedocs.io/en/master/advertools.sitemaps.html)\n",
    "* [Sitemap viz](https://www.ayima.com/us/insights/analytics-and-cro/how-to-visualize-an-xml-sitemap-using-python.html)\n",
    "\n",
    "## Notes\n",
    "\n",
    "Some commands of note\n",
    "\n",
    "```\n",
    " curl -s https://geoconnex.us/sitemap/nhdplusv2/huc12pp/huc12pp__1.xml |  grep -oP '<loc>\\K[^<]*'\n",
    " ```\n",
    " \n",
    " \n",
    " The following exposes GeoJSON, not JSON-LD\n",
    " \n",
    " ```\n",
    " curl -LH \"Accept: application/ld+json\"   https://geoconnex.us/nhdplusv2/huc12/030601020107\n",
    " ```\n",
    " \n"
   ]
  },
  {
   "cell_type": "code",
   "execution_count": 1,
   "id": "ef1f0a5d",
   "metadata": {},
   "outputs": [],
   "source": [
    "import advertools as adv"
   ]
  },
  {
   "cell_type": "code",
   "execution_count": 2,
   "id": "ee61d05a",
   "metadata": {},
   "outputs": [
    {
     "name": "stderr",
     "output_type": "stream",
     "text": [
      "2021-12-01 07:34:01,981 | INFO | sitemaps.py:419 | sitemap_to_df | Getting  https://geoconnex.us/sitemap/CUAHSI/CUAHSI_HIS_CUISO_ids__0.xml \n",
      "2021-12-01 07:34:01,992 | INFO | sitemaps.py:419 | sitemap_to_df | Getting  https://geoconnex.us/sitemap/CUAHSI/CUAHSI_HIS_Clarksburg_SP_ids__0.xml \n",
      "2021-12-01 07:34:02,003 | INFO | sitemaps.py:419 | sitemap_to_df | Getting  https://geoconnex.us/sitemap/CUAHSI/CUAHSI_HIS_Hassberge_ids__0.xml \n",
      "2021-12-01 07:34:02,013 | INFO | sitemaps.py:419 | sitemap_to_df | Getting  https://geoconnex.us/sitemap/CUAHSI/CUAHSI_HIS_Weiherbach_ids__0.xml \n",
      "2021-12-01 07:34:02,031 | INFO | sitemaps.py:419 | sitemap_to_df | Getting  https://geoconnex.us/sitemap/CUAHSI/CUAHSI_HIS_ODM_KentState_ids__0.xml \n",
      "2021-12-01 07:34:02,077 | INFO | sitemaps.py:419 | sitemap_to_df | Getting  https://geoconnex.us/sitemap/CUAHSI/CUAHSI_HIS_NEON_ids__0.xml \n",
      "2021-12-01 07:34:02,236 | INFO | sitemaps.py:419 | sitemap_to_df | Getting  https://geoconnex.us/sitemap/CUAHSI/CUAHSI_HIS_Nooksack_Microclimate_Network_ids__0.xml \n",
      "2021-12-01 07:34:02,261 | INFO | sitemaps.py:419 | sitemap_to_df | Getting  https://geoconnex.us/sitemap/CUAHSI/CUAHSI_HIS_Nevados_ids__0.xml \n",
      "2021-12-01 07:34:02,274 | INFO | sitemaps.py:419 | sitemap_to_df | Getting  https://geoconnex.us/sitemap/CUAHSI/CUAHSI_HIS_NE_WN_ids__0.xml \n",
      "2021-12-01 07:34:02,286 | INFO | sitemaps.py:419 | sitemap_to_df | Getting  https://geoconnex.us/sitemap/CUAHSI/CUAHSI_HIS_LUWL_ids__0.xml \n",
      "2021-12-01 07:34:02,288 | INFO | sitemaps.py:419 | sitemap_to_df | Getting  https://geoconnex.us/sitemap/CUAHSI/CUAHSI_HIS_CRWA_ids__0.xml \n",
      "2021-12-01 07:34:02,374 | INFO | sitemaps.py:419 | sitemap_to_df | Getting  https://geoconnex.us/sitemap/CUAHSI/CUAHSI_HIS_MAAERI_ids__0.xml \n",
      "2021-12-01 07:34:02,391 | INFO | sitemaps.py:419 | sitemap_to_df | Getting  https://geoconnex.us/sitemap/CUAHSI/CUAHSI_HIS_NHGS_WOF_ids__0.xml \n",
      "2021-12-01 07:34:02,436 | INFO | sitemaps.py:419 | sitemap_to_df | Getting  https://geoconnex.us/sitemap/CUAHSI/CUAHSI_HIS_GlacialRidge_ids__0.xml \n",
      "2021-12-01 07:34:02,455 | INFO | sitemaps.py:419 | sitemap_to_df | Getting  https://geoconnex.us/sitemap/CUAHSI/CUAHSI_HIS_RMBL_ids__0.xml \n",
      "2021-12-01 07:34:02,487 | INFO | sitemaps.py:419 | sitemap_to_df | Getting  https://geoconnex.us/sitemap/CUAHSI/CUAHSI_HIS_UMBCGW_ids__0.xml \n",
      "2021-12-01 07:34:02,520 | INFO | sitemaps.py:419 | sitemap_to_df | Getting  https://geoconnex.us/sitemap/CUAHSI/CUAHSI_HIS_AndrewsforestLTER_ids__0.xml \n",
      "2021-12-01 07:34:02,532 | INFO | sitemaps.py:419 | sitemap_to_df | Getting  https://geoconnex.us/sitemap/CUAHSI/CUAHSI_HIS_czo_catalina_ids__0.xml \n",
      "2021-12-01 07:34:02,546 | INFO | sitemaps.py:419 | sitemap_to_df | Getting  https://geoconnex.us/sitemap/CUAHSI/CUAHSI_HIS_Mazar_River_Project_ids__0.xml \n",
      "2021-12-01 07:34:02,733 | INFO | sitemaps.py:419 | sitemap_to_df | Getting  https://geoconnex.us/sitemap/CUAHSI/CUAHSI_HIS_MWDIS_ids__0.xml \n",
      "2021-12-01 07:34:02,733 | INFO | sitemaps.py:419 | sitemap_to_df | Getting  https://geoconnex.us/sitemap/epa/hmw/hmw__1.xml \n",
      "2021-12-01 07:34:02,735 | INFO | sitemaps.py:419 | sitemap_to_df | Getting  https://geoconnex.us/sitemap/CUAHSI/CUAHSI_HIS_LoganRiver_ids__0.xml \n",
      "2021-12-01 07:34:02,735 | INFO | sitemaps.py:419 | sitemap_to_df | Getting  https://geoconnex.us/sitemap/CUAHSI/CUAHSI_HIS_Gongga_ids__0.xml \n",
      "2021-12-01 07:34:02,798 | INFO | sitemaps.py:419 | sitemap_to_df | Getting  https://geoconnex.us/sitemap/CUAHSI/CUAHSI_HIS_NevCAN_ids__0.xml \n",
      "2021-12-01 07:34:02,866 | INFO | sitemaps.py:419 | sitemap_to_df | Getting  https://geoconnex.us/sitemap/CUAHSI/CUAHSI_HIS_UNH_Snow_ids__0.xml \n",
      "2021-12-01 07:34:02,879 | INFO | sitemaps.py:419 | sitemap_to_df | Getting  https://geoconnex.us/sitemap/CUAHSI/CUAHSI_HIS_Brazil_UCB_ids__0.xml \n",
      "2021-12-01 07:34:02,946 | INFO | sitemaps.py:419 | sitemap_to_df | Getting  https://geoconnex.us/sitemap/CUAHSI/CUAHSI_HIS_TRWA_ids__0.xml \n",
      "2021-12-01 07:34:03,023 | INFO | sitemaps.py:419 | sitemap_to_df | Getting  https://geoconnex.us/sitemap/CUAHSI/CUAHSI_HIS_LTERNTLWoodruff_ids__0.xml \n",
      "2021-12-01 07:34:03,274 | INFO | sitemaps.py:419 | sitemap_to_df | Getting  https://geoconnex.us/sitemap/epa/hmw/hmw__0.xml \n",
      "2021-12-01 07:34:03,278 | INFO | sitemaps.py:419 | sitemap_to_df | Getting  https://geoconnex.us/sitemap/CUAHSI/CUAHSI_HIS_LCZOODM2_ids__0.xml \n",
      "2021-12-01 07:34:03,284 | INFO | sitemaps.py:419 | sitemap_to_df | Getting  https://geoconnex.us/sitemap/CUAHSI/CUAHSI_HIS_MobileCrowdHydrology_ids__0.xml \n",
      "2021-12-01 07:34:03,364 | INFO | sitemaps.py:419 | sitemap_to_df | Getting  https://geoconnex.us/sitemap/CUAHSI/CUAHSI_HIS_GLEON_Sunapee_ids__0.xml \n",
      "2021-12-01 07:34:03,375 | INFO | sitemaps.py:419 | sitemap_to_df | Getting  https://geoconnex.us/sitemap/CUAHSI/CUAHSI_HIS_GLEON_Dorset_ids__0.xml \n",
      "2021-12-01 07:34:03,413 | INFO | sitemaps.py:419 | sitemap_to_df | Getting  https://geoconnex.us/sitemap/CUAHSI/CUAHSI_HIS_Swedish_Monitoring_Data_ids__0.xml \n",
      "2021-12-01 07:34:03,466 | INFO | sitemaps.py:419 | sitemap_to_df | Getting  https://geoconnex.us/sitemap/CUAHSI/CUAHSI_HIS_GlobalRiversObservatory_ids__0.xml \n",
      "2021-12-01 07:34:03,528 | INFO | sitemaps.py:419 | sitemap_to_df | Getting  https://geoconnex.us/sitemap/CUAHSI/CUAHSI_HIS_HYDRODATACZ-HR_ids__0.xml \n",
      "2021-12-01 07:34:03,579 | INFO | sitemaps.py:419 | sitemap_to_df | Getting  https://geoconnex.us/sitemap/CUAHSI/CUAHSI_HIS_MWRA_ids__0.xml \n",
      "2021-12-01 07:34:03,600 | INFO | sitemaps.py:419 | sitemap_to_df | Getting  https://geoconnex.us/sitemap/CUAHSI/CUAHSI_HIS_YosemiteHydroclimateNetwork_ids__0.xml \n",
      "2021-12-01 07:34:03,625 | INFO | sitemaps.py:419 | sitemap_to_df | Getting  https://geoconnex.us/sitemap/CUAHSI/CUAHSI_HIS_SCAN_ids__0.xml \n",
      "2021-12-01 07:34:03,713 | INFO | sitemaps.py:419 | sitemap_to_df | Getting  https://geoconnex.us/sitemap/CUAHSI/CUAHSI_HIS_czo_luquillo_ids__0.xml \n",
      "2021-12-01 07:34:03,752 | INFO | sitemaps.py:419 | sitemap_to_df | Getting  https://geoconnex.us/sitemap/CUAHSI/CUAHSI_HIS_FRC_WQM_ids__0.xml \n",
      "2021-12-01 07:34:03,755 | INFO | sitemaps.py:419 | sitemap_to_df | Getting  https://geoconnex.us/sitemap/CUAHSI/CUAHSI_HIS_czo_ariz_ids__0.xml \n",
      "2021-12-01 07:34:03,769 | INFO | sitemaps.py:419 | sitemap_to_df | Getting  https://geoconnex.us/sitemap/CUAHSI/CUAHSI_HIS_CALVIN_HHS_ids__0.xml \n",
      "2021-12-01 07:34:03,804 | INFO | sitemaps.py:419 | sitemap_to_df | Getting  https://geoconnex.us/sitemap/CUAHSI/CUAHSI_HIS_ORSANCO_HAB_ids__0.xml \n",
      "2021-12-01 07:34:03,817 | INFO | sitemaps.py:419 | sitemap_to_df | Getting  https://geoconnex.us/sitemap/CUAHSI/CUAHSI_HIS_MOPEX_ids__0.xml \n",
      "2021-12-01 07:34:03,843 | INFO | sitemaps.py:419 | sitemap_to_df | Getting  https://geoconnex.us/sitemap/CUAHSI/CUAHSI_HIS_TuolumneMdw_ids__0.xml \n",
      "2021-12-01 07:34:03,844 | INFO | sitemaps.py:419 | sitemap_to_df | Getting  https://geoconnex.us/sitemap/CUAHSI/CUAHSI_HIS_Kansas_Weather_Data_ids__0.xml \n",
      "2021-12-01 07:34:03,895 | INFO | sitemaps.py:419 | sitemap_to_df | Getting  https://geoconnex.us/sitemap/CUAHSI/CUAHSI_HIS_NashRWA_ids__0.xml \n",
      "2021-12-01 07:34:03,917 | INFO | sitemaps.py:419 | sitemap_to_df | Getting  https://geoconnex.us/sitemap/CUAHSI/CUAHSI_HIS_UMBCWQ_ids__0.xml \n",
      "2021-12-01 07:34:03,942 | WARNING | sitemaps.py:413 | sitemap_to_df | 'ascii' codec can't encode character '\\xe1' in position 33: ordinal not in range(128)  https://geoconnex.us/sitemap/CUAHSI/CUAHSI_HIS_Isábena_ids__0.xml \n",
      "2021-12-01 07:34:03,951 | INFO | sitemaps.py:419 | sitemap_to_df | Getting  https://geoconnex.us/sitemap/CUAHSI/CUAHSI_HIS_ShaleNetworkODM_ids__1.xml \n",
      "2021-12-01 07:34:03,955 | INFO | sitemaps.py:419 | sitemap_to_df | Getting  https://geoconnex.us/sitemap/CUAHSI/CUAHSI_HIS_CedarRiver_ids__0.xml \n",
      "2021-12-01 07:34:03,977 | INFO | sitemaps.py:419 | sitemap_to_df | Getting  https://geoconnex.us/sitemap/CUAHSI/CUAHSI_HIS_czo_merced_ids__0.xml \n",
      "2021-12-01 07:34:03,978 | INFO | sitemaps.py:419 | sitemap_to_df | Getting  https://geoconnex.us/sitemap/CUAHSI/CUAHSI_HIS_FarmRWA_ids__0.xml \n",
      "2021-12-01 07:34:04,045 | INFO | sitemaps.py:419 | sitemap_to_df | Getting  https://geoconnex.us/sitemap/CUAHSI/CUAHSI_HIS_czo_boulder_ids__0.xml \n",
      "2021-12-01 07:34:04,050 | INFO | sitemaps.py:419 | sitemap_to_df | Getting  https://geoconnex.us/sitemap/CUAHSI/CUAHSI_HIS_Provo_River_GAMUT_ids__0.xml \n",
      "2021-12-01 07:34:04,080 | INFO | sitemaps.py:419 | sitemap_to_df | Getting  https://geoconnex.us/sitemap/CUAHSI/CUAHSI_HIS_Panola_ODM_ids__0.xml \n",
      "2021-12-01 07:34:04,121 | INFO | sitemaps.py:419 | sitemap_to_df | Getting  https://geoconnex.us/sitemap/CUAHSI/CUAHSI_HIS_GLEON_LakeAnnie_ids__0.xml \n",
      "2021-12-01 07:34:04,133 | INFO | sitemaps.py:419 | sitemap_to_df | Getting  https://geoconnex.us/sitemap/CUAHSI/CUAHSI_HIS_FCELTER_ids__0.xml \n",
      "2021-12-01 07:34:04,154 | INFO | sitemaps.py:419 | sitemap_to_df | Getting  https://geoconnex.us/sitemap/CUAHSI/CUAHSI_HIS_MMA_Atacama_ids__0.xml \n",
      "2021-12-01 07:34:04,165 | INFO | sitemaps.py:419 | sitemap_to_df | Getting  https://geoconnex.us/sitemap/CUAHSI/CUAHSI_HIS_SagehenCreek_ids__0.xml \n",
      "2021-12-01 07:34:04,209 | INFO | sitemaps.py:419 | sitemap_to_df | Getting  https://geoconnex.us/sitemap/CUAHSI/CUAHSI_HIS_Scotland_NWIS_ids__0.xml \n",
      "2021-12-01 07:34:04,281 | INFO | sitemaps.py:419 | sitemap_to_df | Getting  https://geoconnex.us/sitemap/CUAHSI/CUAHSI_HIS_TarlandWaterQuality_ids__0.xml \n",
      "2021-12-01 07:34:04,291 | INFO | sitemaps.py:419 | sitemap_to_df | Getting  https://geoconnex.us/sitemap/CUAHSI/CUAHSI_HIS_GLEON_Auburn_ids__0.xml \n",
      "2021-12-01 07:34:04,310 | INFO | sitemaps.py:419 | sitemap_to_df | Getting  https://geoconnex.us/sitemap/CUAHSI/CUAHSI_HIS_Logan_River_GAMUT_ids__0.xml \n",
      "2021-12-01 07:34:04,341 | INFO | sitemaps.py:419 | sitemap_to_df | Getting  https://geoconnex.us/sitemap/CUAHSI/CUAHSI_HIS_Para_La_Naturaleza_ids__0.xml \n",
      "2021-12-01 07:34:04,404 | INFO | sitemaps.py:419 | sitemap_to_df | Getting  https://geoconnex.us/sitemap/CUAHSI/CUAHSI_HIS_DRWI_ids__0.xml \n",
      "2021-12-01 07:34:04,426 | INFO | sitemaps.py:419 | sitemap_to_df | Getting  https://geoconnex.us/sitemap/CUAHSI/CUAHSI_HIS_LittleBearRiver_ids__0.xml \n",
      "2021-12-01 07:34:04,458 | INFO | sitemaps.py:419 | sitemap_to_df | Getting  https://geoconnex.us/sitemap/CUAHSI/CUAHSI_HIS_czo_psu_ids__0.xml \n",
      "2021-12-01 07:34:04,516 | INFO | sitemaps.py:419 | sitemap_to_df | Getting  https://geoconnex.us/sitemap/CUAHSI/CUAHSI_HIS_HYDRODATACZ-D_ids__0.xml \n",
      "2021-12-01 07:34:04,526 | INFO | sitemaps.py:419 | sitemap_to_df | Getting  https://geoconnex.us/sitemap/CUAHSI/CUAHSI_HIS_UBWPAD_ids__0.xml \n",
      "2021-12-01 07:34:04,568 | INFO | sitemaps.py:419 | sitemap_to_df | Getting  https://geoconnex.us/sitemap/CUAHSI/CUAHSI_HIS_NCEIWW2_ids__0.xml \n",
      "2021-12-01 07:34:04,580 | INFO | sitemaps.py:419 | sitemap_to_df | Getting  https://geoconnex.us/sitemap/CUAHSI/CUAHSI_HIS_Red_Butte_Creek_GAMUT_ids__0.xml \n",
      "2021-12-01 07:34:04,607 | INFO | sitemaps.py:419 | sitemap_to_df | Getting  https://geoconnex.us/sitemap/CUAHSI/CUAHSI_HIS_TNCWaterData_ids__0.xml \n",
      "2021-12-01 07:34:04,663 | INFO | sitemaps.py:419 | sitemap_to_df | Getting  https://geoconnex.us/sitemap/CUAHSI/CUAHSI_HIS_LaSelvastreamdischarge_ids__0.xml \n",
      "2021-12-01 07:34:04,673 | INFO | sitemaps.py:419 | sitemap_to_df | Getting  https://geoconnex.us/sitemap/CUAHSI/CUAHSI_HIS_czo_udel_ids__0.xml \n",
      "2021-12-01 07:34:04,787 | INFO | sitemaps.py:419 | sitemap_to_df | Getting  https://geoconnex.us/sitemap/CUAHSI/CUAHSI_HIS_GHCN_ids__0.xml \n",
      "2021-12-01 07:34:04,788 | INFO | sitemaps.py:419 | sitemap_to_df | Getting  https://geoconnex.us/sitemap/CUAHSI/CUAHSI_HIS_SKC_Milltown_ids__0.xml \n",
      "2021-12-01 07:34:04,790 | INFO | sitemaps.py:419 | sitemap_to_df | Getting  https://geoconnex.us/sitemap/CUAHSI/CUAHSI_HIS_MuddyRiver_ids__0.xml \n",
      "2021-12-01 07:34:04,830 | INFO | sitemaps.py:419 | sitemap_to_df | Getting  https://geoconnex.us/sitemap/CUAHSI/CUAHSI_HIS_SNOTEL_ids__0.xml \n",
      "2021-12-01 07:34:04,880 | INFO | sitemaps.py:419 | sitemap_to_df | Getting  https://geoconnex.us/sitemap/CUAHSI/CUAHSI_HIS_MudLake_ids__0.xml \n",
      "2021-12-01 07:34:04,928 | INFO | sitemaps.py:419 | sitemap_to_df | Getting  https://geoconnex.us/sitemap/CUAHSI/CUAHSI_HIS_IEER_at_Wilkes_University_ids__0.xml \n",
      "2021-12-01 07:34:05,097 | INFO | sitemaps.py:419 | sitemap_to_df | Getting  https://geoconnex.us/sitemap/CUAHSI/CUAHSI_HIS_IRWA_ids__0.xml \n",
      "2021-12-01 07:34:05,098 | INFO | sitemaps.py:419 | sitemap_to_df | Getting  https://geoconnex.us/sitemap/CUAHSI/CUAHSI_HIS_CocoRaHs_ids__0.xml \n",
      "2021-12-01 07:34:05,099 | INFO | sitemaps.py:419 | sitemap_to_df | Getting  https://geoconnex.us/sitemap/ref/states/states__0.xml \n",
      "2021-12-01 07:34:05,120 | INFO | sitemaps.py:419 | sitemap_to_df | Getting  https://geoconnex.us/sitemap/ref/hu04/hu04__0.xml \n",
      "2021-12-01 07:34:05,257 | INFO | sitemaps.py:419 | sitemap_to_df | Getting  https://geoconnex.us/sitemap/CUAHSI/CUAHSI_HIS_CCBEPDAP_ids__0.xml \n",
      "2021-12-01 07:34:05,445 | INFO | sitemaps.py:419 | sitemap_to_df | Getting  https://geoconnex.us/sitemap/ref/hu06/hu06__0.xml \n",
      "2021-12-01 07:34:05,607 | INFO | sitemaps.py:419 | sitemap_to_df | Getting  https://geoconnex.us/sitemap/ref/aiannh/aiannh__0.xml \n",
      "2021-12-01 07:34:05,657 | INFO | sitemaps.py:419 | sitemap_to_df | Getting  https://geoconnex.us/sitemap/ref/ua10/ua10__0.xml \n",
      "2021-12-01 07:34:06,130 | INFO | sitemaps.py:419 | sitemap_to_df | Getting  https://geoconnex.us/sitemap/CUAHSI/CUAHSI_HIS_ShaleNetworkODM_ids__0.xml \n",
      "2021-12-01 07:34:07,350 | INFO | sitemaps.py:419 | sitemap_to_df | Getting  https://geoconnex.us/sitemap/ref/places/places__0.xml \n",
      "2021-12-01 07:34:07,620 | INFO | sitemaps.py:419 | sitemap_to_df | Getting  https://geoconnex.us/sitemap/ref/gages/ref_gage__3.xml \n",
      "2021-12-01 07:34:08,100 | INFO | sitemaps.py:419 | sitemap_to_df | Getting  https://geoconnex.us/sitemap/ref/pws/pws__1.xml \n",
      "2021-12-01 07:34:08,315 | INFO | sitemaps.py:419 | sitemap_to_df | Getting  https://geoconnex.us/sitemap/ref/pws/pws__3.xml \n",
      "2021-12-01 07:34:08,374 | INFO | sitemaps.py:419 | sitemap_to_df | Getting  https://geoconnex.us/sitemap/ref/cbsa/cbsa__0.xml \n",
      "2021-12-01 07:34:08,809 | INFO | sitemaps.py:419 | sitemap_to_df | Getting  https://geoconnex.us/sitemap/ref/gages/ref_gage__1.xml \n",
      "2021-12-01 07:34:09,014 | INFO | sitemaps.py:419 | sitemap_to_df | Getting  https://geoconnex.us/sitemap/ref/gages/ref_gage__0.xml \n",
      "2021-12-01 07:34:09,352 | INFO | sitemaps.py:419 | sitemap_to_df | Getting  https://geoconnex.us/sitemap/ref/nat_aq/nat_aq__0.xml \n",
      "2021-12-01 07:34:09,363 | INFO | sitemaps.py:419 | sitemap_to_df | Getting  https://geoconnex.us/sitemap/ref/gages/ref_gage__2.xml \n",
      "2021-12-01 07:34:09,668 | INFO | sitemaps.py:419 | sitemap_to_df | Getting  https://geoconnex.us/sitemap/ref/pws/pws__2.xml \n",
      "2021-12-01 07:34:09,669 | INFO | sitemaps.py:419 | sitemap_to_df | Getting  https://geoconnex.us/sitemap/ref/hu02/hu02__0.xml \n",
      "2021-12-01 07:34:09,779 | INFO | sitemaps.py:419 | sitemap_to_df | Getting  https://geoconnex.us/sitemap/ref/counties/counties__0.xml \n",
      "2021-12-01 07:34:10,365 | INFO | sitemaps.py:419 | sitemap_to_df | Getting  https://geoconnex.us/sitemap/ref/hu08/hu08__0.xml \n",
      "2021-12-01 07:34:10,591 | INFO | sitemaps.py:419 | sitemap_to_df | Getting  https://geoconnex.us/sitemap/SELFIE/SELFIE_ids__0.xml \n",
      "2021-12-01 07:34:10,631 | INFO | sitemaps.py:419 | sitemap_to_df | Getting  https://geoconnex.us/sitemap/ornl/dams_pids__0.xml \n",
      "2021-12-01 07:34:10,662 | INFO | sitemaps.py:419 | sitemap_to_df | Getting  https://geoconnex.us/sitemap/iow/autotest2__0.xml \n",
      "2021-12-01 07:34:10,771 | INFO | sitemaps.py:419 | sitemap_to_df | Getting  https://geoconnex.us/sitemap/ref/hu10/hu10__0.xml \n",
      "2021-12-01 07:34:10,866 | INFO | sitemaps.py:419 | sitemap_to_df | Getting  https://geoconnex.us/sitemap/iow/test3__0.xml \n",
      "2021-12-01 07:34:10,915 | INFO | sitemaps.py:419 | sitemap_to_df | Getting  https://geoconnex.us/sitemap/iow/autotest1__0.xml \n",
      "2021-12-01 07:34:11,375 | INFO | sitemaps.py:419 | sitemap_to_df | Getting  https://geoconnex.us/sitemap/ref/pws/pws__0.xml \n",
      "2021-12-01 07:34:11,874 | INFO | sitemaps.py:419 | sitemap_to_df | Getting  https://geoconnex.us/sitemap/nmwdi/st/nmwdi-st__0.xml \n",
      "2021-12-01 07:34:12,019 | INFO | sitemaps.py:419 | sitemap_to_df | Getting  https://geoconnex.us/sitemap/usgs/gfv11_pois/gfv11_pois__1.xml \n",
      "2021-12-01 07:34:13,684 | INFO | sitemaps.py:419 | sitemap_to_df | Getting  https://geoconnex.us/sitemap/usgs/monitoring-location/nwissite/nwissite__3.xml \n",
      "2021-12-01 07:34:13,958 | INFO | sitemaps.py:419 | sitemap_to_df | Getting  https://geoconnex.us/sitemap/nmwdi/ose/nmwdi-ose__0.xml \n",
      "2021-12-01 07:34:14,389 | INFO | sitemaps.py:419 | sitemap_to_df | Getting  https://geoconnex.us/sitemap/nmwdi/ose/nmwdi-ose__4.xml \n",
      "2021-12-01 07:34:14,864 | INFO | sitemaps.py:419 | sitemap_to_df | Getting  https://geoconnex.us/sitemap/nmwdi/ose/nmwdi-ose__3.xml \n",
      "2021-12-01 07:34:15,370 | INFO | sitemaps.py:419 | sitemap_to_df | Getting  https://geoconnex.us/sitemap/usgs/gfv11_pois/gfv11_pois__0.xml \n",
      "2021-12-01 07:34:15,447 | INFO | sitemaps.py:419 | sitemap_to_df | Getting  https://geoconnex.us/sitemap/nmwdi/ose/nmwdi-ose__1.xml \n",
      "2021-12-01 07:34:16,454 | INFO | sitemaps.py:419 | sitemap_to_df | Getting  https://geoconnex.us/sitemap/nmwdi/ose/nmwdi-ose__2.xml \n",
      "2021-12-01 07:34:16,943 | INFO | sitemaps.py:419 | sitemap_to_df | Getting  https://geoconnex.us/sitemap/usgs/monitoring-location/nwissite/nwissite__0.xml \n",
      "2021-12-01 07:34:18,196 | INFO | sitemaps.py:419 | sitemap_to_df | Getting  https://geoconnex.us/sitemap/usgs/monitoring-location/nwissite/nwissite__2.xml \n",
      "2021-12-01 07:34:18,691 | INFO | sitemaps.py:419 | sitemap_to_df | Getting  https://geoconnex.us/sitemap/usgs/monitoring-location/nwissite/nwissite__1.xml \n",
      "2021-12-01 07:34:18,967 | INFO | sitemaps.py:419 | sitemap_to_df | Getting  https://geoconnex.us/sitemap/usgs/monitoring-location/nwisgw/nwisgw__0.xml \n",
      "2021-12-01 07:34:18,968 | INFO | sitemaps.py:419 | sitemap_to_df | Getting  https://geoconnex.us/sitemap/usgs/monitoring-location/nwisgw/nwisgw__28.xml \n",
      "2021-12-01 07:34:20,041 | INFO | sitemaps.py:419 | sitemap_to_df | Getting  https://geoconnex.us/sitemap/usgs/monitoring-location/nwisgw/nwisgw__16.xml \n",
      "2021-12-01 07:34:20,861 | INFO | sitemaps.py:419 | sitemap_to_df | Getting  https://geoconnex.us/sitemap/usgs/monitoring-location/nwisgw/nwisgw__23.xml \n",
      "2021-12-01 07:34:21,356 | INFO | sitemaps.py:419 | sitemap_to_df | Getting  https://geoconnex.us/sitemap/usgs/monitoring-location/nwisgw/nwisgw__19.xml \n",
      "2021-12-01 07:34:21,866 | INFO | sitemaps.py:419 | sitemap_to_df | Getting  https://geoconnex.us/sitemap/usgs/monitoring-location/nwisgw/nwisgw__6.xml \n",
      "2021-12-01 07:34:22,681 | INFO | sitemaps.py:419 | sitemap_to_df | Getting  https://geoconnex.us/sitemap/usgs/monitoring-location/nwisgw/nwisgw__2.xml \n",
      "2021-12-01 07:34:23,148 | INFO | sitemaps.py:419 | sitemap_to_df | Getting  https://geoconnex.us/sitemap/usgs/monitoring-location/nwisgw/nwisgw__3.xml \n",
      "2021-12-01 07:34:23,607 | INFO | sitemaps.py:419 | sitemap_to_df | Getting  https://geoconnex.us/sitemap/usgs/monitoring-location/nwisgw/nwisgw__20.xml \n",
      "2021-12-01 07:34:24,469 | INFO | sitemaps.py:419 | sitemap_to_df | Getting  https://geoconnex.us/sitemap/usgs/monitoring-location/nwisgw/nwisgw__15.xml \n",
      "2021-12-01 07:34:24,742 | INFO | sitemaps.py:419 | sitemap_to_df | Getting  https://geoconnex.us/sitemap/usgs/monitoring-location/nwisgw/nwisgw__17.xml \n",
      "2021-12-01 07:34:25,788 | INFO | sitemaps.py:419 | sitemap_to_df | Getting  https://geoconnex.us/sitemap/usgs/monitoring-location/nwisgw/nwisgw__25.xml \n",
      "2021-12-01 07:34:26,567 | INFO | sitemaps.py:419 | sitemap_to_df | Getting  https://geoconnex.us/sitemap/usgs/monitoring-location/nwisgw/nwisgw__13.xml \n",
      "2021-12-01 07:34:27,135 | INFO | sitemaps.py:419 | sitemap_to_df | Getting  https://geoconnex.us/sitemap/usgs/monitoring-location/nwisgw/nwisgw__21.xml \n",
      "2021-12-01 07:34:27,141 | INFO | sitemaps.py:419 | sitemap_to_df | Getting  https://geoconnex.us/sitemap/usgs/monitoring-location/nwisgw/nwisgw__7.xml \n",
      "2021-12-01 07:34:27,460 | INFO | sitemaps.py:419 | sitemap_to_df | Getting  https://geoconnex.us/sitemap/usgs/monitoring-location/nwisgw/nwisgw__27.xml \n",
      "2021-12-01 07:34:28,889 | INFO | sitemaps.py:419 | sitemap_to_df | Getting  https://geoconnex.us/sitemap/usgs/monitoring-location/nwisgw/nwisgw__1.xml \n",
      "2021-12-01 07:34:30,078 | INFO | sitemaps.py:419 | sitemap_to_df | Getting  https://geoconnex.us/sitemap/usgs/monitoring-location/nwisgw/nwisgw__5.xml \n",
      "2021-12-01 07:34:30,386 | INFO | sitemaps.py:419 | sitemap_to_df | Getting  https://geoconnex.us/sitemap/usgs/monitoring-location/nwisgw/nwisgw__8.xml \n",
      "2021-12-01 07:34:31,138 | INFO | sitemaps.py:419 | sitemap_to_df | Getting  https://geoconnex.us/sitemap/usgs/monitoring-location/nwisgw/nwisgw__26.xml \n",
      "2021-12-01 07:34:32,028 | INFO | sitemaps.py:419 | sitemap_to_df | Getting  https://geoconnex.us/sitemap/usgs/monitoring-location/nwisgw/nwisgw__12.xml \n",
      "2021-12-01 07:34:32,255 | INFO | sitemaps.py:419 | sitemap_to_df | Getting  https://geoconnex.us/sitemap/usgs/monitoring-location/nwisgw/nwisgw__18.xml \n",
      "2021-12-01 07:34:32,604 | INFO | sitemaps.py:419 | sitemap_to_df | Getting  https://geoconnex.us/sitemap/usgs/monitoring-location/nwisgw/nwisgw__22.xml \n",
      "2021-12-01 07:34:33,413 | INFO | sitemaps.py:419 | sitemap_to_df | Getting  https://geoconnex.us/sitemap/usgs/monitoring-location/nwisgw/nwisgw__14.xml \n",
      "2021-12-01 07:34:34,725 | INFO | sitemaps.py:419 | sitemap_to_df | Getting  https://geoconnex.us/sitemap/usgs/monitoring-location/nwisgw/nwisgw__10.xml \n",
      "2021-12-01 07:34:34,765 | INFO | sitemaps.py:419 | sitemap_to_df | Getting  https://geoconnex.us/sitemap/CHyLD/chyld-pilot_ids__0.xml \n",
      "2021-12-01 07:34:34,807 | INFO | sitemaps.py:419 | sitemap_to_df | Getting  https://geoconnex.us/sitemap/usgs/hydrologic-unit__0.xml \n",
      "2021-12-01 07:34:35,626 | INFO | sitemaps.py:419 | sitemap_to_df | Getting  https://geoconnex.us/sitemap/usgs/monitoring-location/nwisgw/nwisgw__11.xml \n",
      "2021-12-01 07:34:36,058 | INFO | sitemaps.py:419 | sitemap_to_df | Getting  https://geoconnex.us/sitemap/usgs/monitoring-location/nwisgw/nwisgw__9.xml \n",
      "2021-12-01 07:34:36,812 | INFO | sitemaps.py:419 | sitemap_to_df | Getting  https://geoconnex.us/sitemap/usgs/monitoring-location/nwisgw/nwisgw__24.xml \n",
      "2021-12-01 07:34:37,547 | INFO | sitemaps.py:419 | sitemap_to_df | Getting  https://geoconnex.us/sitemap/usgs/monitoring-location/nwisgw/nwisgw__4.xml \n",
      "2021-12-01 07:34:38,318 | INFO | sitemaps.py:419 | sitemap_to_df | Getting  https://geoconnex.us/sitemap/wade/wade__19.xml \n",
      "2021-12-01 07:34:38,976 | INFO | sitemaps.py:419 | sitemap_to_df | Getting  https://geoconnex.us/sitemap/wade/wade__13.xml \n",
      "2021-12-01 07:34:39,714 | INFO | sitemaps.py:419 | sitemap_to_df | Getting  https://geoconnex.us/sitemap/wade/wade__11.xml \n",
      "2021-12-01 07:34:40,076 | INFO | sitemaps.py:419 | sitemap_to_df | Getting  https://geoconnex.us/sitemap/wade/wade__1.xml \n",
      "2021-12-01 07:34:41,021 | INFO | sitemaps.py:419 | sitemap_to_df | Getting  https://geoconnex.us/sitemap/wade/wade__9.xml \n",
      "2021-12-01 07:34:41,369 | INFO | sitemaps.py:419 | sitemap_to_df | Getting  https://geoconnex.us/sitemap/wade/wade__16.xml \n",
      "2021-12-01 07:34:42,185 | INFO | sitemaps.py:419 | sitemap_to_df | Getting  https://geoconnex.us/sitemap/wade/wade__17.xml \n",
      "2021-12-01 07:34:43,226 | INFO | sitemaps.py:419 | sitemap_to_df | Getting  https://geoconnex.us/sitemap/wade/wade__15.xml \n",
      "2021-12-01 07:34:43,910 | INFO | sitemaps.py:419 | sitemap_to_df | Getting  https://geoconnex.us/sitemap/wade/wade__6.xml \n",
      "2021-12-01 07:34:44,815 | INFO | sitemaps.py:419 | sitemap_to_df | Getting  https://geoconnex.us/sitemap/wade/wade__3.xml \n",
      "2021-12-01 07:34:45,616 | INFO | sitemaps.py:419 | sitemap_to_df | Getting  https://geoconnex.us/sitemap/wade/wade__0.xml \n",
      "2021-12-01 07:34:45,958 | INFO | sitemaps.py:419 | sitemap_to_df | Getting  https://geoconnex.us/sitemap/wade/wade__5.xml \n",
      "2021-12-01 07:34:46,868 | INFO | sitemaps.py:419 | sitemap_to_df | Getting  https://geoconnex.us/sitemap/wade/wade__14.xml \n",
      "2021-12-01 07:34:47,669 | INFO | sitemaps.py:419 | sitemap_to_df | Getting  https://geoconnex.us/sitemap/wade/wade__8.xml \n",
      "2021-12-01 07:34:48,413 | INFO | sitemaps.py:419 | sitemap_to_df | Getting  https://geoconnex.us/sitemap/wade/wade__18.xml \n",
      "2021-12-01 07:34:48,562 | INFO | sitemaps.py:419 | sitemap_to_df | Getting  https://geoconnex.us/sitemap/ca-gage-assessment/ca_gages_pids__0.xml \n",
      "2021-12-01 07:34:49,338 | INFO | sitemaps.py:419 | sitemap_to_df | Getting  https://geoconnex.us/sitemap/wade/wade__2.xml \n",
      "2021-12-01 07:34:49,736 | INFO | sitemaps.py:419 | sitemap_to_df | Getting  https://geoconnex.us/sitemap/wade/wade__10.xml \n",
      "2021-12-01 07:34:50,279 | INFO | sitemaps.py:419 | sitemap_to_df | Getting  https://geoconnex.us/sitemap/wade/wade__12.xml \n",
      "2021-12-01 07:34:50,925 | INFO | sitemaps.py:419 | sitemap_to_df | Getting  https://geoconnex.us/sitemap/wade/wade__7.xml \n",
      "2021-12-01 07:34:51,625 | INFO | sitemaps.py:419 | sitemap_to_df | Getting  https://geoconnex.us/sitemap/nhdplusv2/huc12pp/huc12pp__1.xml \n",
      "2021-12-01 07:34:52,090 | INFO | sitemaps.py:419 | sitemap_to_df | Getting  https://geoconnex.us/sitemap/wade/wade__4.xml \n",
      "2021-12-01 07:34:52,919 | INFO | sitemaps.py:419 | sitemap_to_df | Getting  https://geoconnex.us/sitemap/nhdplusv2/huc12pp/huc12pp__0.xml \n"
     ]
    },
    {
     "name": "stdout",
     "output_type": "stream",
     "text": [
      "CPU times: user 53.6 s, sys: 4.55 s, total: 58.1 s\n",
      "Wall time: 59.2 s\n"
     ]
    }
   ],
   "source": [
    "%%time \n",
    "%%capture cap --no-stderr  --no-stdout\n",
    "\n",
    "iow_sitemap = adv.sitemap_to_df('https://geoconnex.us/sitemap.xml')"
   ]
  },
  {
   "cell_type": "code",
   "execution_count": 3,
   "id": "6bb22751",
   "metadata": {},
   "outputs": [],
   "source": [
    "iow_sitemap['loc'] = iow_sitemap['loc'].astype('str')\n",
    "# iow_sitemap.dtypes"
   ]
  },
  {
   "cell_type": "code",
   "execution_count": 4,
   "id": "e7aa1ab8",
   "metadata": {},
   "outputs": [
    {
     "data": {
      "text/plain": "                                         loc                          lastmod  \\\n0   https://geoconnex.us/cuahsi/his/CUISO/1  2021-11-23 15:03:02.707105+00:00   \n1   https://geoconnex.us/cuahsi/his/CUISO/2  2021-11-23 15:03:02.707141+00:00   \n2   https://geoconnex.us/cuahsi/his/CUISO/3  2021-11-23 15:03:02.707163+00:00   \n3   https://geoconnex.us/cuahsi/his/CUISO/4  2021-11-23 15:03:02.707181+00:00   \n4   https://geoconnex.us/cuahsi/his/CUISO/5  2021-11-23 15:03:02.707197+00:00   \n\n                                             sitemap               etag  \\\n0   https://geoconnex.us/sitemap/CUAHSI/CUAHSI_HI...  49f-5d1760b17ab80   \n1   https://geoconnex.us/sitemap/CUAHSI/CUAHSI_HI...  49f-5d1760b17ab80   \n2   https://geoconnex.us/sitemap/CUAHSI/CUAHSI_HI...  49f-5d1760b17ab80   \n3   https://geoconnex.us/sitemap/CUAHSI/CUAHSI_HI...  49f-5d1760b17ab80   \n4   https://geoconnex.us/sitemap/CUAHSI/CUAHSI_HI...  49f-5d1760b17ab80   \n\n      sitemap_last_modified  sitemap_size_mb                    download_date  \\\n0 2021-11-23 15:03:26+00:00         0.001128 2021-12-01 13:34:02.029109+00:00   \n1 2021-11-23 15:03:26+00:00         0.001128 2021-12-01 13:34:02.029109+00:00   \n2 2021-11-23 15:03:26+00:00         0.001128 2021-12-01 13:34:02.029109+00:00   \n3 2021-11-23 15:03:26+00:00         0.001128 2021-12-01 13:34:02.029109+00:00   \n4 2021-11-23 15:03:26+00:00         0.001128 2021-12-01 13:34:02.029109+00:00   \n\n  errors  \n0    NaN  \n1    NaN  \n2    NaN  \n3    NaN  \n4    NaN  ",
      "text/html": "<div>\n<style scoped>\n    .dataframe tbody tr th:only-of-type {\n        vertical-align: middle;\n    }\n\n    .dataframe tbody tr th {\n        vertical-align: top;\n    }\n\n    .dataframe thead th {\n        text-align: right;\n    }\n</style>\n<table border=\"1\" class=\"dataframe\">\n  <thead>\n    <tr style=\"text-align: right;\">\n      <th></th>\n      <th>loc</th>\n      <th>lastmod</th>\n      <th>sitemap</th>\n      <th>etag</th>\n      <th>sitemap_last_modified</th>\n      <th>sitemap_size_mb</th>\n      <th>download_date</th>\n      <th>errors</th>\n    </tr>\n  </thead>\n  <tbody>\n    <tr>\n      <th>0</th>\n      <td>https://geoconnex.us/cuahsi/his/CUISO/1</td>\n      <td>2021-11-23 15:03:02.707105+00:00</td>\n      <td>https://geoconnex.us/sitemap/CUAHSI/CUAHSI_HI...</td>\n      <td>49f-5d1760b17ab80</td>\n      <td>2021-11-23 15:03:26+00:00</td>\n      <td>0.001128</td>\n      <td>2021-12-01 13:34:02.029109+00:00</td>\n      <td>NaN</td>\n    </tr>\n    <tr>\n      <th>1</th>\n      <td>https://geoconnex.us/cuahsi/his/CUISO/2</td>\n      <td>2021-11-23 15:03:02.707141+00:00</td>\n      <td>https://geoconnex.us/sitemap/CUAHSI/CUAHSI_HI...</td>\n      <td>49f-5d1760b17ab80</td>\n      <td>2021-11-23 15:03:26+00:00</td>\n      <td>0.001128</td>\n      <td>2021-12-01 13:34:02.029109+00:00</td>\n      <td>NaN</td>\n    </tr>\n    <tr>\n      <th>2</th>\n      <td>https://geoconnex.us/cuahsi/his/CUISO/3</td>\n      <td>2021-11-23 15:03:02.707163+00:00</td>\n      <td>https://geoconnex.us/sitemap/CUAHSI/CUAHSI_HI...</td>\n      <td>49f-5d1760b17ab80</td>\n      <td>2021-11-23 15:03:26+00:00</td>\n      <td>0.001128</td>\n      <td>2021-12-01 13:34:02.029109+00:00</td>\n      <td>NaN</td>\n    </tr>\n    <tr>\n      <th>3</th>\n      <td>https://geoconnex.us/cuahsi/his/CUISO/4</td>\n      <td>2021-11-23 15:03:02.707181+00:00</td>\n      <td>https://geoconnex.us/sitemap/CUAHSI/CUAHSI_HI...</td>\n      <td>49f-5d1760b17ab80</td>\n      <td>2021-11-23 15:03:26+00:00</td>\n      <td>0.001128</td>\n      <td>2021-12-01 13:34:02.029109+00:00</td>\n      <td>NaN</td>\n    </tr>\n    <tr>\n      <th>4</th>\n      <td>https://geoconnex.us/cuahsi/his/CUISO/5</td>\n      <td>2021-11-23 15:03:02.707197+00:00</td>\n      <td>https://geoconnex.us/sitemap/CUAHSI/CUAHSI_HI...</td>\n      <td>49f-5d1760b17ab80</td>\n      <td>2021-11-23 15:03:26+00:00</td>\n      <td>0.001128</td>\n      <td>2021-12-01 13:34:02.029109+00:00</td>\n      <td>NaN</td>\n    </tr>\n  </tbody>\n</table>\n</div>"
     },
     "execution_count": 4,
     "metadata": {},
     "output_type": "execute_result"
    }
   ],
   "source": [
    "iow_sitemap.head()"
   ]
  },
  {
   "cell_type": "markdown",
   "id": "0c4c45c9",
   "metadata": {},
   "source": [
    "## Unique Sitemaps URLs and resource URLs in IoW\n",
    "\n",
    "We can quickly grabe the unique URLs from the sitemap column and see how many unique sitemap.xml files we are working with"
   ]
  },
  {
   "cell_type": "code",
   "execution_count": 5,
   "id": "7eeffe98",
   "metadata": {},
   "outputs": [
    {
     "name": "stdout",
     "output_type": "stream",
     "text": [
      "There are 177 unique sitemap XML files pointing to 3453533 unique resources of interest\n"
     ]
    }
   ],
   "source": [
    "usm = iow_sitemap.sitemap.unique()\n",
    "uloc = iow_sitemap[\"loc\"].unique()\n",
    "print(\"There are {} unique sitemap XML files pointing to {} unique resources of interest\".format(len(usm), len(uloc)))"
   ]
  },
  {
   "cell_type": "markdown",
   "id": "1f767871",
   "metadata": {},
   "source": [
    "## Analyzing the URLs\n",
    "\n",
    "We can also dive into the URL structure a bit.  Since the base for the URLs is all the same with geoconnex.us, we can drop down to the next level of the URL and see what that tells us."
   ]
  },
  {
   "cell_type": "code",
   "execution_count": 6,
   "id": "d9691c02",
   "metadata": {},
   "outputs": [
    {
     "data": {
      "text/plain": "                                         url scheme netloc  \\\n0   https://geoconnex.us/cuahsi/his/CUISO/1                  \n1   https://geoconnex.us/cuahsi/his/CUISO/2                  \n2   https://geoconnex.us/cuahsi/his/CUISO/3                  \n3   https://geoconnex.us/cuahsi/his/CUISO/4                  \n4   https://geoconnex.us/cuahsi/his/CUISO/5                  \n\n                                        path query fragment    dir_1 dir_2  \\\n0   https://geoconnex.us/cuahsi/his/CUISO/1                   https:         \n1   https://geoconnex.us/cuahsi/his/CUISO/2                   https:         \n2   https://geoconnex.us/cuahsi/his/CUISO/3                   https:         \n3   https://geoconnex.us/cuahsi/his/CUISO/4                   https:         \n4   https://geoconnex.us/cuahsi/his/CUISO/5                   https:         \n\n          dir_3   dir_4 dir_5  dir_6 dir_7 dir_8  \n0  geoconnex.us  cuahsi   his  CUISO    1    NaN  \n1  geoconnex.us  cuahsi   his  CUISO    2    NaN  \n2  geoconnex.us  cuahsi   his  CUISO    3    NaN  \n3  geoconnex.us  cuahsi   his  CUISO    4    NaN  \n4  geoconnex.us  cuahsi   his  CUISO    5    NaN  ",
      "text/html": "<div>\n<style scoped>\n    .dataframe tbody tr th:only-of-type {\n        vertical-align: middle;\n    }\n\n    .dataframe tbody tr th {\n        vertical-align: top;\n    }\n\n    .dataframe thead th {\n        text-align: right;\n    }\n</style>\n<table border=\"1\" class=\"dataframe\">\n  <thead>\n    <tr style=\"text-align: right;\">\n      <th></th>\n      <th>url</th>\n      <th>scheme</th>\n      <th>netloc</th>\n      <th>path</th>\n      <th>query</th>\n      <th>fragment</th>\n      <th>dir_1</th>\n      <th>dir_2</th>\n      <th>dir_3</th>\n      <th>dir_4</th>\n      <th>dir_5</th>\n      <th>dir_6</th>\n      <th>dir_7</th>\n      <th>dir_8</th>\n    </tr>\n  </thead>\n  <tbody>\n    <tr>\n      <th>0</th>\n      <td>https://geoconnex.us/cuahsi/his/CUISO/1</td>\n      <td></td>\n      <td></td>\n      <td>https://geoconnex.us/cuahsi/his/CUISO/1</td>\n      <td></td>\n      <td></td>\n      <td>https:</td>\n      <td></td>\n      <td>geoconnex.us</td>\n      <td>cuahsi</td>\n      <td>his</td>\n      <td>CUISO</td>\n      <td>1</td>\n      <td>NaN</td>\n    </tr>\n    <tr>\n      <th>1</th>\n      <td>https://geoconnex.us/cuahsi/his/CUISO/2</td>\n      <td></td>\n      <td></td>\n      <td>https://geoconnex.us/cuahsi/his/CUISO/2</td>\n      <td></td>\n      <td></td>\n      <td>https:</td>\n      <td></td>\n      <td>geoconnex.us</td>\n      <td>cuahsi</td>\n      <td>his</td>\n      <td>CUISO</td>\n      <td>2</td>\n      <td>NaN</td>\n    </tr>\n    <tr>\n      <th>2</th>\n      <td>https://geoconnex.us/cuahsi/his/CUISO/3</td>\n      <td></td>\n      <td></td>\n      <td>https://geoconnex.us/cuahsi/his/CUISO/3</td>\n      <td></td>\n      <td></td>\n      <td>https:</td>\n      <td></td>\n      <td>geoconnex.us</td>\n      <td>cuahsi</td>\n      <td>his</td>\n      <td>CUISO</td>\n      <td>3</td>\n      <td>NaN</td>\n    </tr>\n    <tr>\n      <th>3</th>\n      <td>https://geoconnex.us/cuahsi/his/CUISO/4</td>\n      <td></td>\n      <td></td>\n      <td>https://geoconnex.us/cuahsi/his/CUISO/4</td>\n      <td></td>\n      <td></td>\n      <td>https:</td>\n      <td></td>\n      <td>geoconnex.us</td>\n      <td>cuahsi</td>\n      <td>his</td>\n      <td>CUISO</td>\n      <td>4</td>\n      <td>NaN</td>\n    </tr>\n    <tr>\n      <th>4</th>\n      <td>https://geoconnex.us/cuahsi/his/CUISO/5</td>\n      <td></td>\n      <td></td>\n      <td>https://geoconnex.us/cuahsi/his/CUISO/5</td>\n      <td></td>\n      <td></td>\n      <td>https:</td>\n      <td></td>\n      <td>geoconnex.us</td>\n      <td>cuahsi</td>\n      <td>his</td>\n      <td>CUISO</td>\n      <td>5</td>\n      <td>NaN</td>\n    </tr>\n  </tbody>\n</table>\n</div>"
     },
     "execution_count": 6,
     "metadata": {},
     "output_type": "execute_result"
    }
   ],
   "source": [
    "# Break down all the URL into theor path parts\n",
    "urldf = adv.url_to_df(list(iow_sitemap['loc']))\n",
    "urldf.head()"
   ]
  },
  {
   "cell_type": "code",
   "execution_count": 7,
   "id": "f2165af1",
   "metadata": {},
   "outputs": [
    {
     "data": {
      "text/plain": "                            dir_4\nusgs                      1671925\nwade                       800234\nref                        427492\nnmwdi                      254736\ncuahsi                     126404\nnhdplusv2                   82533\nepa                         82533\nornl                         3416\nca-gage-assessment           2772\nchyld-pilot                  1502\nSELFIE                         19\niow                             3\ntestasdb                        1\nca-gage-assessment              1\ndemo                            1\nSANTA CLARA R A MRCA BR         1",
      "text/html": "<div>\n<style scoped>\n    .dataframe tbody tr th:only-of-type {\n        vertical-align: middle;\n    }\n\n    .dataframe tbody tr th {\n        vertical-align: top;\n    }\n\n    .dataframe thead th {\n        text-align: right;\n    }\n</style>\n<table border=\"1\" class=\"dataframe\">\n  <thead>\n    <tr style=\"text-align: right;\">\n      <th></th>\n      <th>dir_4</th>\n    </tr>\n  </thead>\n  <tbody>\n    <tr>\n      <th>usgs</th>\n      <td>1671925</td>\n    </tr>\n    <tr>\n      <th>wade</th>\n      <td>800234</td>\n    </tr>\n    <tr>\n      <th>ref</th>\n      <td>427492</td>\n    </tr>\n    <tr>\n      <th>nmwdi</th>\n      <td>254736</td>\n    </tr>\n    <tr>\n      <th>cuahsi</th>\n      <td>126404</td>\n    </tr>\n    <tr>\n      <th>nhdplusv2</th>\n      <td>82533</td>\n    </tr>\n    <tr>\n      <th>epa</th>\n      <td>82533</td>\n    </tr>\n    <tr>\n      <th>ornl</th>\n      <td>3416</td>\n    </tr>\n    <tr>\n      <th>ca-gage-assessment</th>\n      <td>2772</td>\n    </tr>\n    <tr>\n      <th>chyld-pilot</th>\n      <td>1502</td>\n    </tr>\n    <tr>\n      <th>SELFIE</th>\n      <td>19</td>\n    </tr>\n    <tr>\n      <th>iow</th>\n      <td>3</td>\n    </tr>\n    <tr>\n      <th>testasdb</th>\n      <td>1</td>\n    </tr>\n    <tr>\n      <th>ca-gage-assessment</th>\n      <td>1</td>\n    </tr>\n    <tr>\n      <th>demo</th>\n      <td>1</td>\n    </tr>\n    <tr>\n      <th>SANTA CLARA R A MRCA BR</th>\n      <td>1</td>\n    </tr>\n  </tbody>\n</table>\n</div>"
     },
     "execution_count": 7,
     "metadata": {},
     "output_type": "execute_result"
    }
   ],
   "source": [
    "# We can not aggregate at various levels...   \n",
    "e4 = urldf[\"dir_4\"].value_counts()\n",
    "e4.rename_axis(\"sources\")\n",
    "\n",
    "e4df = e4.to_frame()\n",
    "e4df.head(len(e4)) "
   ]
  },
  {
   "cell_type": "code",
   "execution_count": 8,
   "id": "4aebfe9a",
   "metadata": {},
   "outputs": [
    {
     "name": "stdout",
     "output_type": "stream",
     "text": [
      "90249\n"
     ]
    }
   ],
   "source": [
    "# With a little trial and error we can see the cutoff for a chart \n",
    "ts = e4df.tail(10)['dir_4'].sum()\n",
    "print(ts)"
   ]
  },
  {
   "cell_type": "code",
   "execution_count": 9,
   "id": "de264daf",
   "metadata": {},
   "outputs": [
    {
     "name": "stderr",
     "output_type": "stream",
     "text": [
      "/home/fils/.conda/envs/kglab/lib/python3.8/site-packages/pandas/core/frame.py:4441: SettingWithCopyWarning: \n",
      "A value is trying to be set on a copy of a slice from a DataFrame\n",
      "\n",
      "See the caveats in the documentation: https://pandas.pydata.org/pandas-docs/stable/user_guide/indexing.html#returning-a-view-versus-a-copy\n",
      "  return super().rename(\n"
     ]
    },
    {
     "data": {
      "text/plain": "      source    count\n0       usgs  1671925\n1       wade   800234\n2        ref   427492\n3      nmwdi   254736\n4     cuahsi   126404\n5  nhdplusv2    82533\n6      other    90249",
      "text/html": "<div>\n<style scoped>\n    .dataframe tbody tr th:only-of-type {\n        vertical-align: middle;\n    }\n\n    .dataframe tbody tr th {\n        vertical-align: top;\n    }\n\n    .dataframe thead th {\n        text-align: right;\n    }\n</style>\n<table border=\"1\" class=\"dataframe\">\n  <thead>\n    <tr style=\"text-align: right;\">\n      <th></th>\n      <th>source</th>\n      <th>count</th>\n    </tr>\n  </thead>\n  <tbody>\n    <tr>\n      <th>0</th>\n      <td>usgs</td>\n      <td>1671925</td>\n    </tr>\n    <tr>\n      <th>1</th>\n      <td>wade</td>\n      <td>800234</td>\n    </tr>\n    <tr>\n      <th>2</th>\n      <td>ref</td>\n      <td>427492</td>\n    </tr>\n    <tr>\n      <th>3</th>\n      <td>nmwdi</td>\n      <td>254736</td>\n    </tr>\n    <tr>\n      <th>4</th>\n      <td>cuahsi</td>\n      <td>126404</td>\n    </tr>\n    <tr>\n      <th>5</th>\n      <td>nhdplusv2</td>\n      <td>82533</td>\n    </tr>\n    <tr>\n      <th>6</th>\n      <td>other</td>\n      <td>90249</td>\n    </tr>\n  </tbody>\n</table>\n</div>"
     },
     "execution_count": 9,
     "metadata": {},
     "output_type": "execute_result"
    }
   ],
   "source": [
    "e4topdf = e4df.head(6)  ## don't do this!\n",
    "e4topdf.reset_index(inplace = True, drop = False)\n",
    "e4topdf.rename(columns={'index': 'source', 'dir_4':'count'},  inplace = True)\n",
    "\n",
    "t = e4topdf.append({'source':'other', 'count':ts}, ignore_index=True) \n",
    "t.head(10)"
   ]
  },
  {
   "cell_type": "code",
   "execution_count": 10,
   "id": "113e655a",
   "metadata": {},
   "outputs": [
    {
     "data": {
      "text/plain": "<AxesSubplot:ylabel='count'>"
     },
     "execution_count": 10,
     "metadata": {},
     "output_type": "execute_result"
    },
    {
     "data": {
      "text/plain": "<Figure size 2160x720 with 1 Axes>",
      "image/png": "[encoded data removed]"
     },
     "metadata": {},
     "output_type": "display_data"
    }
   ],
   "source": [
    "import matplotlib.pyplot as plt\n",
    "from pandas.plotting import table\n",
    "\n",
    "plt.figure(figsize=(30,10))\n",
    "\n",
    "# plot chart\n",
    "ax1 = plt.subplot(121, aspect='equal')\n",
    "t.plot(kind='pie', y = 'count', ax=ax1, autopct='%1.1f%%', \n",
    " startangle=90, shadow=False, labels=t['source'], legend = False, fontsize=12)\n",
    "\n",
    "# # plot table\n",
    "# ax2 = plt.subplot(122,  aspect='equal')\n",
    "# plt.axis('off')\n",
    "# tbl = table(ax2, t, loc='center')\n",
    "# tbl.auto_set_font_size(False)\n",
    "# tbl.set_fontsize(12)\n",
    "# plt.show()"
   ]
  },
  {
   "cell_type": "code",
   "execution_count": 11,
   "id": "5c62a934",
   "metadata": {},
   "outputs": [
    {
     "data": {
      "text/plain": "<Figure size 720x720 with 1 Axes>",
      "image/png": "[encoded data removed]"
     },
     "metadata": {
      "needs_background": "light"
     },
     "output_type": "display_data"
    }
   ],
   "source": [
    "e4sort = e4.sort_values(ascending=True)\n",
    "plot = e4sort.plot.bar(y='dir_4',legend=True, grid=True, logy = True, figsize=(10, 10))"
   ]
  },
  {
   "cell_type": "markdown",
   "id": "9e806ba0",
   "metadata": {},
   "source": [
    "## Let's try and set a sample from the various sites"
   ]
  },
  {
   "cell_type": "code",
   "execution_count": 12,
   "id": "20e46dd2",
   "metadata": {},
   "outputs": [],
   "source": [
    "# sample the previously generated url data frame\n",
    "sample_df = urldf.groupby(\"dir_4\").sample(n=2, random_state=1, replace=True)\n"
   ]
  },
  {
   "cell_type": "code",
   "execution_count": 13,
   "id": "b725c4ca",
   "metadata": {},
   "outputs": [
    {
     "data": {
      "text/plain": "                                                       url scheme netloc  \\\n440472       https://geoconnex.us/SANTA CLARA R A MRCA BR                  \n440472       https://geoconnex.us/SANTA CLARA R A MRCA BR                  \n467711    https://geoconnex.us/SELFIE/usgs/wqp/huc12obs...                 \n467717    https://geoconnex.us/SELFIE/usgs/wqp/huc12obs...                 \n3126531   https://geoconnex.us/ca-gage-assessment/gages...                 \n\n                                                      path query fragment  \\\n440472       https://geoconnex.us/SANTA CLARA R A MRCA BR                   \n440472       https://geoconnex.us/SANTA CLARA R A MRCA BR                   \n467711    https://geoconnex.us/SELFIE/usgs/wqp/huc12obs...                  \n467717    https://geoconnex.us/SELFIE/usgs/wqp/huc12obs...                  \n3126531   https://geoconnex.us/ca-gage-assessment/gages...                  \n\n           dir_1 dir_2         dir_3                     dir_4  dir_5  \\\n440472    https:        geoconnex.us  SANTA CLARA R A MRCA BR     NaN   \n440472    https:        geoconnex.us  SANTA CLARA R A MRCA BR     NaN   \n467711    https:        geoconnex.us                    SELFIE   usgs   \n467717    https:        geoconnex.us                    SELFIE   usgs   \n3126531   https:        geoconnex.us        ca-gage-assessment  gages   \n\n             dir_6     dir_7                  dir_8  \n440472         NaN       NaN                    NaN  \n440472         NaN       NaN                    NaN  \n467711         wqp  huc12obs    WIDNR_WQX-10001227   \n467717         wqp  huc12obs  USGS-431250089282902   \n3126531  11216500        NaN                    NaN  ",
      "text/html": "<div>\n<style scoped>\n    .dataframe tbody tr th:only-of-type {\n        vertical-align: middle;\n    }\n\n    .dataframe tbody tr th {\n        vertical-align: top;\n    }\n\n    .dataframe thead th {\n        text-align: right;\n    }\n</style>\n<table border=\"1\" class=\"dataframe\">\n  <thead>\n    <tr style=\"text-align: right;\">\n      <th></th>\n      <th>url</th>\n      <th>scheme</th>\n      <th>netloc</th>\n      <th>path</th>\n      <th>query</th>\n      <th>fragment</th>\n      <th>dir_1</th>\n      <th>dir_2</th>\n      <th>dir_3</th>\n      <th>dir_4</th>\n      <th>dir_5</th>\n      <th>dir_6</th>\n      <th>dir_7</th>\n      <th>dir_8</th>\n    </tr>\n  </thead>\n  <tbody>\n    <tr>\n      <th>440472</th>\n      <td>https://geoconnex.us/SANTA CLARA R A MRCA BR</td>\n      <td></td>\n      <td></td>\n      <td>https://geoconnex.us/SANTA CLARA R A MRCA BR</td>\n      <td></td>\n      <td></td>\n      <td>https:</td>\n      <td></td>\n      <td>geoconnex.us</td>\n      <td>SANTA CLARA R A MRCA BR</td>\n      <td>NaN</td>\n      <td>NaN</td>\n      <td>NaN</td>\n      <td>NaN</td>\n    </tr>\n    <tr>\n      <th>440472</th>\n      <td>https://geoconnex.us/SANTA CLARA R A MRCA BR</td>\n      <td></td>\n      <td></td>\n      <td>https://geoconnex.us/SANTA CLARA R A MRCA BR</td>\n      <td></td>\n      <td></td>\n      <td>https:</td>\n      <td></td>\n      <td>geoconnex.us</td>\n      <td>SANTA CLARA R A MRCA BR</td>\n      <td>NaN</td>\n      <td>NaN</td>\n      <td>NaN</td>\n      <td>NaN</td>\n    </tr>\n    <tr>\n      <th>467711</th>\n      <td>https://geoconnex.us/SELFIE/usgs/wqp/huc12obs...</td>\n      <td></td>\n      <td></td>\n      <td>https://geoconnex.us/SELFIE/usgs/wqp/huc12obs...</td>\n      <td></td>\n      <td></td>\n      <td>https:</td>\n      <td></td>\n      <td>geoconnex.us</td>\n      <td>SELFIE</td>\n      <td>usgs</td>\n      <td>wqp</td>\n      <td>huc12obs</td>\n      <td>WIDNR_WQX-10001227</td>\n    </tr>\n    <tr>\n      <th>467717</th>\n      <td>https://geoconnex.us/SELFIE/usgs/wqp/huc12obs...</td>\n      <td></td>\n      <td></td>\n      <td>https://geoconnex.us/SELFIE/usgs/wqp/huc12obs...</td>\n      <td></td>\n      <td></td>\n      <td>https:</td>\n      <td></td>\n      <td>geoconnex.us</td>\n      <td>SELFIE</td>\n      <td>usgs</td>\n      <td>wqp</td>\n      <td>huc12obs</td>\n      <td>USGS-431250089282902</td>\n    </tr>\n    <tr>\n      <th>3126531</th>\n      <td>https://geoconnex.us/ca-gage-assessment/gages...</td>\n      <td></td>\n      <td></td>\n      <td>https://geoconnex.us/ca-gage-assessment/gages...</td>\n      <td></td>\n      <td></td>\n      <td>https:</td>\n      <td></td>\n      <td>geoconnex.us</td>\n      <td>ca-gage-assessment</td>\n      <td>gages</td>\n      <td>11216500</td>\n      <td>NaN</td>\n      <td>NaN</td>\n    </tr>\n  </tbody>\n</table>\n</div>"
     },
     "execution_count": 13,
     "metadata": {},
     "output_type": "execute_result"
    }
   ],
   "source": [
    "sample_df.head()"
   ]
  },
  {
   "cell_type": "code",
   "execution_count": 20,
   "id": "0c22245d",
   "metadata": {},
   "outputs": [
    {
     "name": "stdout",
     "output_type": "stream",
     "text": [
      "error: error :  https://geoconnex.us/SANTA CLARA R A MRCA BR  : error\n",
      "error: error :  https://geoconnex.us/SANTA CLARA R A MRCA BR  : error\n",
      "404: text/html :  https://geoconnex.us/SELFIE/usgs/wqp/huc12obs/WIDNR_WQX-10001227  : None\n",
      "404: text/html :  https://geoconnex.us/SELFIE/usgs/wqp/huc12obs/USGS-431250089282902  : None\n",
      "404: application/json :  https://geoconnex.us/ca-gage-assessment/gages/11216500  : None\n",
      "404: application/json :  https://geoconnex.us/ca-gage-assessment/gages/11156450  : None\n",
      "404: text/html :  https://geoconnex.us/ca-gage-assessment  : None\n",
      "404: text/html :  https://geoconnex.us/ca-gage-assessment  : None\n",
      "404: text/html :  https://geoconnex.us/chyld-pilot/id/hu_nexus/041504030604-inflow  : None\n",
      "404: text/html :  https://geoconnex.us/chyld-pilot/id/hu/041504030401-drainage_basin  : None\n",
      "404: text/html :  https://geoconnex.us/cuahsi/his/GHCN/AM000037878  : None\n",
      "404: text/html :  https://geoconnex.us/cuahsi/his/ShaleNetworkODM/PFBC_Wright_Creek_2109  : None\n",
      "404: text/html :  https://geoconnex.us/demo  : None\n",
      "404: text/html :  https://geoconnex.us/demo  : None\n",
      "404: text/html :  https://geoconnex.us/epa/hmw/160600081002  : None\n",
      "404: text/html :  https://geoconnex.us/epa/hmw/101702032401  : None\n",
      "404: text/html :  https://geoconnex.us/iow/sta  : None\n",
      "404: text/html :  https://geoconnex.us/iow/aboutus  : None\n",
      "404: application/vnd.geo+json :  https://geoconnex.us/nhdplusv2/huc12/031002080601  : None\n",
      "404: application/vnd.geo+json :  https://geoconnex.us/nhdplusv2/huc12/170501160101  : None\n",
      "303: application/json :  https://geoconnex.us/nmwdi/ose/locations/71750  : None\n",
      "303: application/json :  https://geoconnex.us/nmwdi/ose/locations/62067  : None\n",
      "404: application/json :  https://geoconnex.us/ornl/hydrosource/dams/2517  : None\n",
      "404: application/json :  https://geoconnex.us/ornl/hydrosource/dams/2956  : None\n",
      "404: application/json :  https://geoconnex.us/ref/pws/PA2450341  : None\n",
      "303: application/json :  https://geoconnex.us/ref/gages/1047771  : None\n",
      "404: text/html :  https://geoconnex.us/testasdb  : None\n",
      "404: text/html :  https://geoconnex.us/testasdb  : None\n",
      "error: error :  https://geoconnex.us/usgs/monitoring-location/401601087003101  : error\n",
      "error: error :  https://geoconnex.us/usgs/monitoring-location/385909095101500  : error\n",
      "303: application/json :  https://geoconnex.us/wade/sites/ID_133387  : None\n",
      "303: application/json :  https://geoconnex.us/wade/sites/UT_72893  : None\n"
     ]
    }
   ],
   "source": [
    "import urllib.request\n",
    "import requests\n",
    "\n",
    "ul = sample_df[\"url\"]\n",
    "\n",
    "for item in ul:\n",
    "    headers, code, dtype = None, None, None\n",
    "    \n",
    "    try:\n",
    "        x = requests.head(item)\n",
    "        code = x.status_code\n",
    "        with urllib.request.urlopen(item) as response:\n",
    "            info = response.info()\n",
    "            dtype = info.get_content_type()    # -> text/html\n",
    "\n",
    "        # headers = x.headers()\n",
    "    except:\n",
    "        code = \"error\"\n",
    "        dtype = \"error\"\n",
    "        headers = \"error\"\n",
    "    \n",
    "    print(\"{}: {} : {} : {}\".format(code, dtype, item, headers))"
   ]
  },
  {
   "cell_type": "code",
   "execution_count": null,
   "id": "cd25210a",
   "metadata": {},
   "outputs": [],
   "source": []
  }
 ],
 "metadata": {
  "interpreter": {
   "hash": "7a8db6ed8e976d23fd2e6a73e187eaf8286829efb4aa61f09abf75e2f487f948"
  },
  "kernelspec": {
   "display_name": "Python 3",
   "language": "python",
   "name": "python3"
  },
  "language_info": {
   "codemirror_mode": {
    "name": "ipython",
    "version": 3
   },
   "file_extension": ".py",
   "mimetype": "text/x-python",
   "name": "python",
   "nbconvert_exporter": "python",
   "pygments_lexer": "ipython3",
   "version": "3.8.10"
  }
 },
 "nbformat": 4,
 "nbformat_minor": 5
}