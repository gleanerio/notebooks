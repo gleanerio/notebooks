{
 "cells": [
  {
   "cell_type": "markdown",
   "metadata": {},
   "source": [
    "# Robots and Sitemaps\n",
    "\n",
    "A place holder noteboook for now.  Here an input robots.txt and or sitemap.xml file will be \n",
    "parsed and inspected for alignment to the patterns used in indexing.  "
   ]
  },
  {
   "cell_type": "markdown",
   "metadata": {},
   "source": []
  }
 ],
 "metadata": {
  "language_info": {
   "name": "python"
  },
  "orig_nbformat": 4
 },
 "nbformat": 4,
 "nbformat_minor": 2
}
