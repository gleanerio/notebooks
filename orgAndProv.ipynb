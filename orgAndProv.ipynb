{
 "cells": [
  {
   "cell_type": "markdown",
   "source": [
    "# Org and Prov\n",
    "\n",
    "A notebook to generate the org and prov files for the Gleaner data warehouse"
   ],
   "metadata": {}
  },
  {
   "cell_type": "markdown",
   "source": [
    "## Organization file\n"
   ],
   "metadata": {}
  },
  {
   "cell_type": "code",
   "execution_count": 9,
   "source": [
    "from pyld import jsonld\n",
    "import json"
   ],
   "outputs": [],
   "metadata": {}
  },
  {
   "cell_type": "code",
   "execution_count": 57,
   "source": [
    "data = {}\n",
    "\n",
    "data['@id'] = \"https://gleaner.io/id/org/maspawio\"      #id.text\n",
    "data['@type'] = 'https://schema.org/Organization'\n",
    "\n",
    "data['https://schema.org/url'] = \"https://maspawio.net/\"\n",
    "data['https://schema.org/name'] = \"Marine Spatial Atlas for the Western Indian Ocean\"\n",
    "\n",
    "idnode = {}\n",
    "idnode['@type'] = \"https://schema.org/PropertyValue\"\n",
    "idnode['@id'] = \"https://www.re3data.org/repository/maspawio\"\n",
    "idnode['https://schema.org/propertyID'] =  \"https://registry.identifiers.org/registry/doi\"\n",
    "idnode['https://schema.org/url'] =  \"https://www.re3data.org/repository/maspawio\"\n",
    "idnode['https://schema.org/description'] =   \"Persistent identifier for this organization\"\n",
    "\n",
    "data['https://schema.org/identifier'] = idnode"
   ],
   "outputs": [],
   "metadata": {}
  },
  {
   "cell_type": "code",
   "execution_count": 59,
   "source": [
    "context = {\"@vocab\": \"https://schema.org/\"}\n",
    "compacted = jsonld.compact(data, context)\n",
    "\n",
    "with open('maspawioOrg.json', 'w', encoding='utf-8') as f:\n",
    "    json.dump(compacted, f, ensure_ascii=False, indent=4)\n",
    "\n",
    "jd = json.dumps(compacted, indent=4)\n",
    "print(jd)"
   ],
   "outputs": [
    {
     "output_type": "stream",
     "name": "stdout",
     "text": [
      "{\n",
      "    \"@context\": {\n",
      "        \"@vocab\": \"https://schema.org/\"\n",
      "    },\n",
      "    \"@id\": \"https://gleaner.io/id/org/maspawio\",\n",
      "    \"@type\": \"Organization\",\n",
      "    \"identifier\": {\n",
      "        \"@id\": \"https://www.re3data.org/repository/maspawio\",\n",
      "        \"@type\": \"PropertyValue\",\n",
      "        \"description\": \"Persistent identifier for this organization\",\n",
      "        \"propertyID\": \"https://registry.identifiers.org/registry/doi\",\n",
      "        \"url\": \"https://www.re3data.org/repository/maspawio\"\n",
      "    },\n",
      "    \"name\": \"Marine Spatial Atlas for the Western Indian Ocean\",\n",
      "    \"url\": \"https://maspawio.net/\"\n",
      "}\n"
     ]
    }
   ],
   "metadata": {}
  },
  {
   "cell_type": "markdown",
   "source": [
    "## Prov body\n",
    "\n",
    "The vars to address are:\n",
    "\n",
    ".PID .PNAME .DOMAIN .RESID .URN .SHA256 .DATE \n",
    "\n"
   ],
   "metadata": {}
  },
  {
   "cell_type": "code",
   "execution_count": 67,
   "source": [
    "graph = []\n",
    "\n",
    "# Org\n",
    "porg = {}\n",
    "porg['@id'] = \"https://www.re3data.org/repository/maspawio\"     #id.text\n",
    "porg['@type'] = 'http://www.w3.org/ns/prov#organization'\n",
    "porg['http://www.w3.org/1999/02/22-rdf-syntax-ns#name'] = \"MASPAWIO\"  # \"PNAME\"\n",
    "porg['http://www.w3.org/2000/01/rdf-schema#seeAlso'] = \"https://maspawio.net/\" # \"DOMAIN\"\n",
    "\n",
    "# Ent one\n",
    "pent1 = {}\n",
    "pent1['@id'] = \"https://oih.maspawio.org/maspawio.json\" \n",
    "pent1['@type'] = 'http://www.w3.org/ns/prov#Entity'\n",
    "pent1['http://www.w3.org/ns/prov#value'] = \"https://oih.maspawio.org/maspawio.json\"  # 'RESID'\n",
    "pent1s1 = {}\n",
    "pent1s1['@id'] = \"https://www.re3data.org/repository/maspawio\" \n",
    "pent1[\"http://www.w3.org/ns/prov#wasAttributedTo\"] = pent1s1\n",
    "\n",
    "# Collection\n",
    "pcoll = {}\n",
    "pcoll['@id'] = \"https://gleaner.io/id/collection/8fe7ae5c317a9702c35086455d9c4aeff4a22759d862249785b060265dc8b006\"  \n",
    "pcoll['@type'] = 'http://www.w3.org/ns/prov#Collection'\n",
    "pcolls1 = {}\n",
    "pcolls1['@id'] = \"https://oih.maspawio.org/maspawio.json\"\n",
    "pcoll[\"http://www.w3.org/ns/prov#hadMember\"] = pcolls1\n",
    "\n",
    "# Ent two\n",
    "pent2 = {}\n",
    "pent2['@id'] = \"urn:gleaner:summoned:maspawio:8fe7ae5c317a9702c35086455d9c4aeff4a22759d862249785b060265dc8b006\"    \n",
    "pent2['@type'] = 'http://www.w3.org/ns/prov#Entity'\n",
    "pent2['http://www.w3.org/ns/prov#value'] = \"8fe7ae5c317a9702c35086455d9c4aeff4a22759d862249785b060265dc8b006.jsonld\"\n",
    "\n",
    "# Activity\n",
    "pact = {}\n",
    "pact['@id'] = \"https://gleaner.io/id/run/8fe7ae5c317a9702c35086455d9c4aeff4a22759d862249785b060265dc8b006\"     \n",
    "pact['@type'] = 'http://www.w3.org/ns/prov#Activity'\n",
    "\n",
    "pacts1 = {}\n",
    "pacts1['@value'] = \"2021-09-25\"\n",
    "pacts1['@type'] = \"http://www.w3.org/2001/XMLSchema#dateTime\"\n",
    "pact[\"http://www.w3.org/ns/prov#endedAtTime\"] = pacts1\n",
    "\n",
    "pacts2 = {}\n",
    "pacts2['@id'] = \"urn:gleaner:summoned:maspawio:8fe7ae5c317a9702c35086455d9c4aeff4a22759d862249785b060265dc8b006\" \n",
    "pact[\"http://www.w3.org/ns/prov#generated\"] = pacts2\n",
    "\n",
    "pacts3 = {}\n",
    "pacts3['@id'] = \"https://gleaner.io/id/collection/8fe7ae5c317a9702c35086455d9c4aeff4a22759d862249785b060265dc8b006\"\n",
    "pact[\"http://www.w3.org/ns/prov#used\"] = pacts3\n",
    "\n",
    "\n",
    "# Add to graph\n",
    "graph.append(porg)\n",
    "graph.append(pent1)\n",
    "graph.append(pcoll)\n",
    "graph.append(pent2)\n",
    "graph.append(pact)"
   ],
   "outputs": [],
   "metadata": {}
  },
  {
   "cell_type": "code",
   "execution_count": 68,
   "source": [
    "provcontext = {\"rdf\": \"http://www.w3.org/1999/02/22-rdf-syntax-ns#\",\"prov\": \"http://www.w3.org/ns/prov#\", \"rdfs\": \"http://www.w3.org/2000/01/rdf-schema#\"}\n",
    "provcompacted = jsonld.compact(graph, provcontext)\n",
    "\n",
    "\n",
    "with open('maspawioProv.json', 'w', encoding='utf-8') as f:\n",
    "    json.dump(compacted, f, ensure_ascii=False, indent=4)\n",
    "\n",
    "provjd = json.dumps(provcompacted, indent=4)\n",
    "print(provjd)"
   ],
   "outputs": [
    {
     "output_type": "stream",
     "name": "stdout",
     "text": [
      "{\n",
      "    \"@context\": {\n",
      "        \"rdf\": \"http://www.w3.org/1999/02/22-rdf-syntax-ns#\",\n",
      "        \"prov\": \"http://www.w3.org/ns/prov#\",\n",
      "        \"rdfs\": \"http://www.w3.org/2000/01/rdf-schema#\"\n",
      "    },\n",
      "    \"@graph\": [\n",
      "        {\n",
      "            \"@id\": \"https://www.re3data.org/repository/maspawio\",\n",
      "            \"@type\": \"prov:organization\",\n",
      "            \"rdf:name\": \"MASPAWIO\",\n",
      "            \"rdfs:seeAlso\": \"https://maspawio.net/\"\n",
      "        },\n",
      "        {\n",
      "            \"@id\": \"https://oih.maspawio.org/maspawio.json\",\n",
      "            \"@type\": \"prov:Entity\",\n",
      "            \"prov:value\": \"https://oih.maspawio.org/maspawio.json\",\n",
      "            \"prov:wasAttributedTo\": {\n",
      "                \"@id\": \"https://www.re3data.org/repository/maspawio\"\n",
      "            }\n",
      "        },\n",
      "        {\n",
      "            \"@id\": \"https://gleaner.io/id/collection/8fe7ae5c317a9702c35086455d9c4aeff4a22759d862249785b060265dc8b006\",\n",
      "            \"@type\": \"prov:Collection\",\n",
      "            \"prov:hadMember\": {\n",
      "                \"@id\": \"https://oih.maspawio.org/maspawio.json\"\n",
      "            }\n",
      "        },\n",
      "        {\n",
      "            \"@id\": \"urn:gleaner:summoned:maspawio:8fe7ae5c317a9702c35086455d9c4aeff4a22759d862249785b060265dc8b006\",\n",
      "            \"@type\": \"prov:Entity\",\n",
      "            \"prov:value\": \"8fe7ae5c317a9702c35086455d9c4aeff4a22759d862249785b060265dc8b006.jsonld\"\n",
      "        },\n",
      "        {\n",
      "            \"@id\": \"https://gleaner.io/id/run/8fe7ae5c317a9702c35086455d9c4aeff4a22759d862249785b060265dc8b006\",\n",
      "            \"@type\": \"prov:Activity\",\n",
      "            \"prov:endedAtTime\": {\n",
      "                \"@type\": \"http://www.w3.org/2001/XMLSchema#dateTime\",\n",
      "                \"@value\": \"2021-09-25\"\n",
      "            },\n",
      "            \"prov:generated\": {\n",
      "                \"@id\": \"urn:gleaner:summoned:maspawio:8fe7ae5c317a9702c35086455d9c4aeff4a22759d862249785b060265dc8b006\"\n",
      "            },\n",
      "            \"prov:used\": {\n",
      "                \"@id\": \"https://gleaner.io/id/collection/8fe7ae5c317a9702c35086455d9c4aeff4a22759d862249785b060265dc8b006\"\n",
      "            }\n",
      "        }\n",
      "    ]\n",
      "}\n"
     ]
    }
   ],
   "metadata": {}
  },
  {
   "cell_type": "code",
   "execution_count": null,
   "source": [],
   "outputs": [],
   "metadata": {}
  }
 ],
 "metadata": {
  "orig_nbformat": 4,
  "language_info": {
   "name": "python",
   "version": "3.8.10",
   "mimetype": "text/x-python",
   "codemirror_mode": {
    "name": "ipython",
    "version": 3
   },
   "pygments_lexer": "ipython3",
   "nbconvert_exporter": "python",
   "file_extension": ".py"
  },
  "kernelspec": {
   "name": "python3",
   "display_name": "Python 3.8.10 64-bit ('kglab': conda)"
  },
  "interpreter": {
   "hash": "884008db010a4da72f62f471ce341f5399c2c405d8eebc0270fe261741869d85"
  }
 },
 "nbformat": 4,
 "nbformat_minor": 2
}